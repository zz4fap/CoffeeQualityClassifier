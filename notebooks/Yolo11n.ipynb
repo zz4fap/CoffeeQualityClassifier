{
  "cells": [
    {
      "cell_type": "code",
      "execution_count": 1,
      "metadata": {
        "colab": {
          "base_uri": "https://localhost:8080/"
        },
        "id": "feLkDX84Rv42",
        "outputId": "523d424a-9571-40da-b922-db0718e047d9"
      },
      "outputs": [
        {
          "output_type": "stream",
          "name": "stdout",
          "text": [
            "Collecting ultralytics\n",
            "  Downloading ultralytics-8.3.159-py3-none-any.whl.metadata (37 kB)\n",
            "Requirement already satisfied: numpy>=1.23.0 in /usr/local/lib/python3.11/dist-packages (from ultralytics) (2.0.2)\n",
            "Requirement already satisfied: matplotlib>=3.3.0 in /usr/local/lib/python3.11/dist-packages (from ultralytics) (3.10.0)\n",
            "Requirement already satisfied: opencv-python>=4.6.0 in /usr/local/lib/python3.11/dist-packages (from ultralytics) (4.11.0.86)\n",
            "Requirement already satisfied: pillow>=7.1.2 in /usr/local/lib/python3.11/dist-packages (from ultralytics) (11.2.1)\n",
            "Requirement already satisfied: pyyaml>=5.3.1 in /usr/local/lib/python3.11/dist-packages (from ultralytics) (6.0.2)\n",
            "Requirement already satisfied: requests>=2.23.0 in /usr/local/lib/python3.11/dist-packages (from ultralytics) (2.32.3)\n",
            "Requirement already satisfied: scipy>=1.4.1 in /usr/local/lib/python3.11/dist-packages (from ultralytics) (1.15.3)\n",
            "Requirement already satisfied: torch>=1.8.0 in /usr/local/lib/python3.11/dist-packages (from ultralytics) (2.6.0+cu124)\n",
            "Requirement already satisfied: torchvision>=0.9.0 in /usr/local/lib/python3.11/dist-packages (from ultralytics) (0.21.0+cu124)\n",
            "Requirement already satisfied: tqdm>=4.64.0 in /usr/local/lib/python3.11/dist-packages (from ultralytics) (4.67.1)\n",
            "Requirement already satisfied: psutil in /usr/local/lib/python3.11/dist-packages (from ultralytics) (5.9.5)\n",
            "Requirement already satisfied: py-cpuinfo in /usr/local/lib/python3.11/dist-packages (from ultralytics) (9.0.0)\n",
            "Requirement already satisfied: pandas>=1.1.4 in /usr/local/lib/python3.11/dist-packages (from ultralytics) (2.2.2)\n",
            "Collecting ultralytics-thop>=2.0.0 (from ultralytics)\n",
            "  Downloading ultralytics_thop-2.0.14-py3-none-any.whl.metadata (9.4 kB)\n",
            "Requirement already satisfied: contourpy>=1.0.1 in /usr/local/lib/python3.11/dist-packages (from matplotlib>=3.3.0->ultralytics) (1.3.2)\n",
            "Requirement already satisfied: cycler>=0.10 in /usr/local/lib/python3.11/dist-packages (from matplotlib>=3.3.0->ultralytics) (0.12.1)\n",
            "Requirement already satisfied: fonttools>=4.22.0 in /usr/local/lib/python3.11/dist-packages (from matplotlib>=3.3.0->ultralytics) (4.58.4)\n",
            "Requirement already satisfied: kiwisolver>=1.3.1 in /usr/local/lib/python3.11/dist-packages (from matplotlib>=3.3.0->ultralytics) (1.4.8)\n",
            "Requirement already satisfied: packaging>=20.0 in /usr/local/lib/python3.11/dist-packages (from matplotlib>=3.3.0->ultralytics) (24.2)\n",
            "Requirement already satisfied: pyparsing>=2.3.1 in /usr/local/lib/python3.11/dist-packages (from matplotlib>=3.3.0->ultralytics) (3.2.3)\n",
            "Requirement already satisfied: python-dateutil>=2.7 in /usr/local/lib/python3.11/dist-packages (from matplotlib>=3.3.0->ultralytics) (2.9.0.post0)\n",
            "Requirement already satisfied: pytz>=2020.1 in /usr/local/lib/python3.11/dist-packages (from pandas>=1.1.4->ultralytics) (2025.2)\n",
            "Requirement already satisfied: tzdata>=2022.7 in /usr/local/lib/python3.11/dist-packages (from pandas>=1.1.4->ultralytics) (2025.2)\n",
            "Requirement already satisfied: charset-normalizer<4,>=2 in /usr/local/lib/python3.11/dist-packages (from requests>=2.23.0->ultralytics) (3.4.2)\n",
            "Requirement already satisfied: idna<4,>=2.5 in /usr/local/lib/python3.11/dist-packages (from requests>=2.23.0->ultralytics) (3.10)\n",
            "Requirement already satisfied: urllib3<3,>=1.21.1 in /usr/local/lib/python3.11/dist-packages (from requests>=2.23.0->ultralytics) (2.4.0)\n",
            "Requirement already satisfied: certifi>=2017.4.17 in /usr/local/lib/python3.11/dist-packages (from requests>=2.23.0->ultralytics) (2025.6.15)\n",
            "Requirement already satisfied: filelock in /usr/local/lib/python3.11/dist-packages (from torch>=1.8.0->ultralytics) (3.18.0)\n",
            "Requirement already satisfied: typing-extensions>=4.10.0 in /usr/local/lib/python3.11/dist-packages (from torch>=1.8.0->ultralytics) (4.14.0)\n",
            "Requirement already satisfied: networkx in /usr/local/lib/python3.11/dist-packages (from torch>=1.8.0->ultralytics) (3.5)\n",
            "Requirement already satisfied: jinja2 in /usr/local/lib/python3.11/dist-packages (from torch>=1.8.0->ultralytics) (3.1.6)\n",
            "Requirement already satisfied: fsspec in /usr/local/lib/python3.11/dist-packages (from torch>=1.8.0->ultralytics) (2025.3.2)\n",
            "Collecting nvidia-cuda-nvrtc-cu12==12.4.127 (from torch>=1.8.0->ultralytics)\n",
            "  Downloading nvidia_cuda_nvrtc_cu12-12.4.127-py3-none-manylinux2014_x86_64.whl.metadata (1.5 kB)\n",
            "Collecting nvidia-cuda-runtime-cu12==12.4.127 (from torch>=1.8.0->ultralytics)\n",
            "  Downloading nvidia_cuda_runtime_cu12-12.4.127-py3-none-manylinux2014_x86_64.whl.metadata (1.5 kB)\n",
            "Collecting nvidia-cuda-cupti-cu12==12.4.127 (from torch>=1.8.0->ultralytics)\n",
            "  Downloading nvidia_cuda_cupti_cu12-12.4.127-py3-none-manylinux2014_x86_64.whl.metadata (1.6 kB)\n",
            "Collecting nvidia-cudnn-cu12==9.1.0.70 (from torch>=1.8.0->ultralytics)\n",
            "  Downloading nvidia_cudnn_cu12-9.1.0.70-py3-none-manylinux2014_x86_64.whl.metadata (1.6 kB)\n",
            "Collecting nvidia-cublas-cu12==12.4.5.8 (from torch>=1.8.0->ultralytics)\n",
            "  Downloading nvidia_cublas_cu12-12.4.5.8-py3-none-manylinux2014_x86_64.whl.metadata (1.5 kB)\n",
            "Collecting nvidia-cufft-cu12==11.2.1.3 (from torch>=1.8.0->ultralytics)\n",
            "  Downloading nvidia_cufft_cu12-11.2.1.3-py3-none-manylinux2014_x86_64.whl.metadata (1.5 kB)\n",
            "Collecting nvidia-curand-cu12==10.3.5.147 (from torch>=1.8.0->ultralytics)\n",
            "  Downloading nvidia_curand_cu12-10.3.5.147-py3-none-manylinux2014_x86_64.whl.metadata (1.5 kB)\n",
            "Collecting nvidia-cusolver-cu12==11.6.1.9 (from torch>=1.8.0->ultralytics)\n",
            "  Downloading nvidia_cusolver_cu12-11.6.1.9-py3-none-manylinux2014_x86_64.whl.metadata (1.6 kB)\n",
            "Collecting nvidia-cusparse-cu12==12.3.1.170 (from torch>=1.8.0->ultralytics)\n",
            "  Downloading nvidia_cusparse_cu12-12.3.1.170-py3-none-manylinux2014_x86_64.whl.metadata (1.6 kB)\n",
            "Requirement already satisfied: nvidia-cusparselt-cu12==0.6.2 in /usr/local/lib/python3.11/dist-packages (from torch>=1.8.0->ultralytics) (0.6.2)\n",
            "Requirement already satisfied: nvidia-nccl-cu12==2.21.5 in /usr/local/lib/python3.11/dist-packages (from torch>=1.8.0->ultralytics) (2.21.5)\n",
            "Requirement already satisfied: nvidia-nvtx-cu12==12.4.127 in /usr/local/lib/python3.11/dist-packages (from torch>=1.8.0->ultralytics) (12.4.127)\n",
            "Collecting nvidia-nvjitlink-cu12==12.4.127 (from torch>=1.8.0->ultralytics)\n",
            "  Downloading nvidia_nvjitlink_cu12-12.4.127-py3-none-manylinux2014_x86_64.whl.metadata (1.5 kB)\n",
            "Requirement already satisfied: triton==3.2.0 in /usr/local/lib/python3.11/dist-packages (from torch>=1.8.0->ultralytics) (3.2.0)\n",
            "Requirement already satisfied: sympy==1.13.1 in /usr/local/lib/python3.11/dist-packages (from torch>=1.8.0->ultralytics) (1.13.1)\n",
            "Requirement already satisfied: mpmath<1.4,>=1.1.0 in /usr/local/lib/python3.11/dist-packages (from sympy==1.13.1->torch>=1.8.0->ultralytics) (1.3.0)\n",
            "Requirement already satisfied: six>=1.5 in /usr/local/lib/python3.11/dist-packages (from python-dateutil>=2.7->matplotlib>=3.3.0->ultralytics) (1.17.0)\n",
            "Requirement already satisfied: MarkupSafe>=2.0 in /usr/local/lib/python3.11/dist-packages (from jinja2->torch>=1.8.0->ultralytics) (3.0.2)\n",
            "Downloading ultralytics-8.3.159-py3-none-any.whl (1.0 MB)\n",
            "\u001b[2K   \u001b[90m━━━━━━━━━━━━━━━━━━━━━━━━━━━━━━━━━━━━━━━━\u001b[0m \u001b[32m1.0/1.0 MB\u001b[0m \u001b[31m59.4 MB/s\u001b[0m eta \u001b[36m0:00:00\u001b[0m\n",
            "\u001b[?25hDownloading nvidia_cublas_cu12-12.4.5.8-py3-none-manylinux2014_x86_64.whl (363.4 MB)\n",
            "\u001b[2K   \u001b[90m━━━━━━━━━━━━━━━━━━━━━━━━━━━━━━━━━━━━━━━━\u001b[0m \u001b[32m363.4/363.4 MB\u001b[0m \u001b[31m3.4 MB/s\u001b[0m eta \u001b[36m0:00:00\u001b[0m\n",
            "\u001b[?25hDownloading nvidia_cuda_cupti_cu12-12.4.127-py3-none-manylinux2014_x86_64.whl (13.8 MB)\n",
            "\u001b[2K   \u001b[90m━━━━━━━━━━━━━━━━━━━━━━━━━━━━━━━━━━━━━━━━\u001b[0m \u001b[32m13.8/13.8 MB\u001b[0m \u001b[31m110.9 MB/s\u001b[0m eta \u001b[36m0:00:00\u001b[0m\n",
            "\u001b[?25hDownloading nvidia_cuda_nvrtc_cu12-12.4.127-py3-none-manylinux2014_x86_64.whl (24.6 MB)\n",
            "\u001b[2K   \u001b[90m━━━━━━━━━━━━━━━━━━━━━━━━━━━━━━━━━━━━━━━━\u001b[0m \u001b[32m24.6/24.6 MB\u001b[0m \u001b[31m74.3 MB/s\u001b[0m eta \u001b[36m0:00:00\u001b[0m\n",
            "\u001b[?25hDownloading nvidia_cuda_runtime_cu12-12.4.127-py3-none-manylinux2014_x86_64.whl (883 kB)\n",
            "\u001b[2K   \u001b[90m━━━━━━━━━━━━━━━━━━━━━━━━━━━━━━━━━━━━━━━━\u001b[0m \u001b[32m883.7/883.7 kB\u001b[0m \u001b[31m52.5 MB/s\u001b[0m eta \u001b[36m0:00:00\u001b[0m\n",
            "\u001b[?25hDownloading nvidia_cudnn_cu12-9.1.0.70-py3-none-manylinux2014_x86_64.whl (664.8 MB)\n",
            "\u001b[2K   \u001b[90m━━━━━━━━━━━━━━━━━━━━━━━━━━━━━━━━━━━━━━━━\u001b[0m \u001b[32m664.8/664.8 MB\u001b[0m \u001b[31m2.1 MB/s\u001b[0m eta \u001b[36m0:00:00\u001b[0m\n",
            "\u001b[?25hDownloading nvidia_cufft_cu12-11.2.1.3-py3-none-manylinux2014_x86_64.whl (211.5 MB)\n",
            "\u001b[2K   \u001b[90m━━━━━━━━━━━━━━━━━━━━━━━━━━━━━━━━━━━━━━━━\u001b[0m \u001b[32m211.5/211.5 MB\u001b[0m \u001b[31m4.9 MB/s\u001b[0m eta \u001b[36m0:00:00\u001b[0m\n",
            "\u001b[?25hDownloading nvidia_curand_cu12-10.3.5.147-py3-none-manylinux2014_x86_64.whl (56.3 MB)\n",
            "\u001b[2K   \u001b[90m━━━━━━━━━━━━━━━━━━━━━━━━━━━━━━━━━━━━━━━━\u001b[0m \u001b[32m56.3/56.3 MB\u001b[0m \u001b[31m44.2 MB/s\u001b[0m eta \u001b[36m0:00:00\u001b[0m\n",
            "\u001b[?25hDownloading nvidia_cusolver_cu12-11.6.1.9-py3-none-manylinux2014_x86_64.whl (127.9 MB)\n",
            "\u001b[2K   \u001b[90m━━━━━━━━━━━━━━━━━━━━━━━━━━━━━━━━━━━━━━━━\u001b[0m \u001b[32m127.9/127.9 MB\u001b[0m \u001b[31m19.6 MB/s\u001b[0m eta \u001b[36m0:00:00\u001b[0m\n",
            "\u001b[?25hDownloading nvidia_cusparse_cu12-12.3.1.170-py3-none-manylinux2014_x86_64.whl (207.5 MB)\n",
            "\u001b[2K   \u001b[90m━━━━━━━━━━━━━━━━━━━━━━━━━━━━━━━━━━━━━━━━\u001b[0m \u001b[32m207.5/207.5 MB\u001b[0m \u001b[31m5.1 MB/s\u001b[0m eta \u001b[36m0:00:00\u001b[0m\n",
            "\u001b[?25hDownloading nvidia_nvjitlink_cu12-12.4.127-py3-none-manylinux2014_x86_64.whl (21.1 MB)\n",
            "\u001b[2K   \u001b[90m━━━━━━━━━━━━━━━━━━━━━━━━━━━━━━━━━━━━━━━━\u001b[0m \u001b[32m21.1/21.1 MB\u001b[0m \u001b[31m112.3 MB/s\u001b[0m eta \u001b[36m0:00:00\u001b[0m\n",
            "\u001b[?25hDownloading ultralytics_thop-2.0.14-py3-none-any.whl (26 kB)\n",
            "Installing collected packages: nvidia-nvjitlink-cu12, nvidia-curand-cu12, nvidia-cufft-cu12, nvidia-cuda-runtime-cu12, nvidia-cuda-nvrtc-cu12, nvidia-cuda-cupti-cu12, nvidia-cublas-cu12, nvidia-cusparse-cu12, nvidia-cudnn-cu12, nvidia-cusolver-cu12, ultralytics-thop, ultralytics\n",
            "  Attempting uninstall: nvidia-nvjitlink-cu12\n",
            "    Found existing installation: nvidia-nvjitlink-cu12 12.5.82\n",
            "    Uninstalling nvidia-nvjitlink-cu12-12.5.82:\n",
            "      Successfully uninstalled nvidia-nvjitlink-cu12-12.5.82\n",
            "  Attempting uninstall: nvidia-curand-cu12\n",
            "    Found existing installation: nvidia-curand-cu12 10.3.6.82\n",
            "    Uninstalling nvidia-curand-cu12-10.3.6.82:\n",
            "      Successfully uninstalled nvidia-curand-cu12-10.3.6.82\n",
            "  Attempting uninstall: nvidia-cufft-cu12\n",
            "    Found existing installation: nvidia-cufft-cu12 11.2.3.61\n",
            "    Uninstalling nvidia-cufft-cu12-11.2.3.61:\n",
            "      Successfully uninstalled nvidia-cufft-cu12-11.2.3.61\n",
            "  Attempting uninstall: nvidia-cuda-runtime-cu12\n",
            "    Found existing installation: nvidia-cuda-runtime-cu12 12.5.82\n",
            "    Uninstalling nvidia-cuda-runtime-cu12-12.5.82:\n",
            "      Successfully uninstalled nvidia-cuda-runtime-cu12-12.5.82\n",
            "  Attempting uninstall: nvidia-cuda-nvrtc-cu12\n",
            "    Found existing installation: nvidia-cuda-nvrtc-cu12 12.5.82\n",
            "    Uninstalling nvidia-cuda-nvrtc-cu12-12.5.82:\n",
            "      Successfully uninstalled nvidia-cuda-nvrtc-cu12-12.5.82\n",
            "  Attempting uninstall: nvidia-cuda-cupti-cu12\n",
            "    Found existing installation: nvidia-cuda-cupti-cu12 12.5.82\n",
            "    Uninstalling nvidia-cuda-cupti-cu12-12.5.82:\n",
            "      Successfully uninstalled nvidia-cuda-cupti-cu12-12.5.82\n",
            "  Attempting uninstall: nvidia-cublas-cu12\n",
            "    Found existing installation: nvidia-cublas-cu12 12.5.3.2\n",
            "    Uninstalling nvidia-cublas-cu12-12.5.3.2:\n",
            "      Successfully uninstalled nvidia-cublas-cu12-12.5.3.2\n",
            "  Attempting uninstall: nvidia-cusparse-cu12\n",
            "    Found existing installation: nvidia-cusparse-cu12 12.5.1.3\n",
            "    Uninstalling nvidia-cusparse-cu12-12.5.1.3:\n",
            "      Successfully uninstalled nvidia-cusparse-cu12-12.5.1.3\n",
            "  Attempting uninstall: nvidia-cudnn-cu12\n",
            "    Found existing installation: nvidia-cudnn-cu12 9.3.0.75\n",
            "    Uninstalling nvidia-cudnn-cu12-9.3.0.75:\n",
            "      Successfully uninstalled nvidia-cudnn-cu12-9.3.0.75\n",
            "  Attempting uninstall: nvidia-cusolver-cu12\n",
            "    Found existing installation: nvidia-cusolver-cu12 11.6.3.83\n",
            "    Uninstalling nvidia-cusolver-cu12-11.6.3.83:\n",
            "      Successfully uninstalled nvidia-cusolver-cu12-11.6.3.83\n",
            "Successfully installed nvidia-cublas-cu12-12.4.5.8 nvidia-cuda-cupti-cu12-12.4.127 nvidia-cuda-nvrtc-cu12-12.4.127 nvidia-cuda-runtime-cu12-12.4.127 nvidia-cudnn-cu12-9.1.0.70 nvidia-cufft-cu12-11.2.1.3 nvidia-curand-cu12-10.3.5.147 nvidia-cusolver-cu12-11.6.1.9 nvidia-cusparse-cu12-12.3.1.170 nvidia-nvjitlink-cu12-12.4.127 ultralytics-8.3.159 ultralytics-thop-2.0.14\n"
          ]
        }
      ],
      "source": [
        "!pip install ultralytics"
      ]
    },
    {
      "cell_type": "code",
      "execution_count": 2,
      "metadata": {
        "colab": {
          "base_uri": "https://localhost:8080/"
        },
        "id": "R18dFZOhPH3Q",
        "outputId": "e15a31de-ef4e-4e76-d948-d9921758608a"
      },
      "outputs": [
        {
          "output_type": "stream",
          "name": "stdout",
          "text": [
            "Mounted at /content/drive\n"
          ]
        }
      ],
      "source": [
        "from google.colab import drive\n",
        "drive.mount('/content/drive')"
      ]
    },
    {
      "cell_type": "code",
      "execution_count": 3,
      "metadata": {
        "id": "wqRxWokFT7oT"
      },
      "outputs": [],
      "source": [
        "import os\n",
        "\n",
        "data_dir = ('/content/MyDrive/TypeCoffee.v25i.folder')\n",
        "train_dir = os.path.join(data_dir, 'train')\n",
        "validation_dir = os.path.join(data_dir, 'val')"
      ]
    },
    {
      "cell_type": "code",
      "execution_count": 4,
      "metadata": {
        "colab": {
          "base_uri": "https://localhost:8080/"
        },
        "id": "H3PQw-EoQ-47",
        "outputId": "7d3f4c4e-036d-43c6-9932-a358642759af"
      },
      "outputs": [
        {
          "output_type": "stream",
          "name": "stdout",
          "text": [
            "Creating new Ultralytics Settings v0.0.6 file ✅ \n",
            "View Ultralytics Settings with 'yolo settings' or at '/root/.config/Ultralytics/settings.json'\n",
            "Update Settings with 'yolo settings key=value', i.e. 'yolo settings runs_dir=path/to/dir'. For help see https://docs.ultralytics.com/quickstart/#ultralytics-settings.\n",
            "YOLO11n-cls summary: 86 layers, 2,812,104 parameters, 2,812,104 gradients, 4.3 GFLOPs\n",
            "Downloading https://github.com/ultralytics/assets/releases/download/v8.3.0/yolo11n-cls.pt to 'yolo11n-cls.pt'...\n"
          ]
        },
        {
          "output_type": "stream",
          "name": "stderr",
          "text": [
            "100%|██████████| 5.52M/5.52M [00:00<00:00, 311MB/s]\n"
          ]
        },
        {
          "output_type": "stream",
          "name": "stdout",
          "text": [
            "YOLO11n-cls summary: 86 layers, 2,812,104 parameters, 2,812,104 gradients, 4.3 GFLOPs\n",
            "Transferred 236/236 items from pretrained weights\n",
            "Ultralytics 8.3.159 🚀 Python-3.11.13 torch-2.6.0+cu124 CUDA:0 (Tesla T4, 15095MiB)\n",
            "\u001b[34m\u001b[1mengine/trainer: \u001b[0magnostic_nms=False, amp=True, augment=False, auto_augment=randaugment, batch=32, bgr=0.0, box=7.5, cache=False, cfg=None, classes=None, close_mosaic=10, cls=0.5, conf=None, copy_paste=0.0, copy_paste_mode=flip, cos_lr=False, cutmix=0.0, data=/content/drive/MyDrive/TypeCoffee.v25i.folder/, degrees=0.0, deterministic=True, device=None, dfl=1.5, dnn=False, dropout=0.0, dynamic=False, embed=None, epochs=100, erasing=0.4, exist_ok=False, fliplr=0.5, flipud=0.0, format=torchscript, fraction=1.0, freeze=None, half=False, hsv_h=0.015, hsv_s=0.7, hsv_v=0.4, imgsz=256, int8=False, iou=0.7, keras=False, kobj=1.0, line_width=None, lr0=0.01, lrf=0.01, mask_ratio=4, max_det=300, mixup=0.0, mode=train, model=yolo11n-cls.yaml, momentum=0.937, mosaic=1.0, multi_scale=False, name=train, nbs=64, nms=False, opset=None, optimize=False, optimizer=auto, overlap_mask=True, patience=100, perspective=0.0, plots=True, pose=12.0, pretrained=yolo11n-cls.pt, profile=False, project=None, rect=False, resume=False, retina_masks=False, save=True, save_conf=False, save_crop=False, save_dir=runs/classify/train, save_frames=False, save_json=False, save_period=-1, save_txt=False, scale=0.5, seed=0, shear=0.0, show=False, show_boxes=True, show_conf=True, show_labels=True, simplify=True, single_cls=False, source=None, split=val, stream_buffer=False, task=classify, time=None, tracker=botsort.yaml, translate=0.1, val=True, verbose=True, vid_stride=1, visualize=False, warmup_bias_lr=0.1, warmup_epochs=3.0, warmup_momentum=0.8, weight_decay=0.0005, workers=8, workspace=None\n",
            "\u001b[34m\u001b[1mtrain:\u001b[0m /content/drive/MyDrive/TypeCoffee.v25i.folder/train... found 1049 images in 5 classes ✅ \n",
            "\u001b[34m\u001b[1mval:\u001b[0m /content/drive/MyDrive/TypeCoffee.v25i.folder/val... found 60 images in 5 classes ✅ \n",
            "\u001b[34m\u001b[1mtest:\u001b[0m /content/drive/MyDrive/TypeCoffee.v25i.folder/test... found 100 images in 5 classes ✅ \n",
            "Overriding model.yaml nc=1000 with nc=5\n",
            "\n",
            "                   from  n    params  module                                       arguments                     \n",
            "  0                  -1  1       464  ultralytics.nn.modules.conv.Conv             [3, 16, 3, 2]                 \n",
            "  1                  -1  1      4672  ultralytics.nn.modules.conv.Conv             [16, 32, 3, 2]                \n",
            "  2                  -1  1      6640  ultralytics.nn.modules.block.C3k2            [32, 64, 1, False, 0.25]      \n",
            "  3                  -1  1     36992  ultralytics.nn.modules.conv.Conv             [64, 64, 3, 2]                \n",
            "  4                  -1  1     26080  ultralytics.nn.modules.block.C3k2            [64, 128, 1, False, 0.25]     \n",
            "  5                  -1  1    147712  ultralytics.nn.modules.conv.Conv             [128, 128, 3, 2]              \n",
            "  6                  -1  1     87040  ultralytics.nn.modules.block.C3k2            [128, 128, 1, True]           \n",
            "  7                  -1  1    295424  ultralytics.nn.modules.conv.Conv             [128, 256, 3, 2]              \n",
            "  8                  -1  1    346112  ultralytics.nn.modules.block.C3k2            [256, 256, 1, True]           \n",
            "  9                  -1  1    249728  ultralytics.nn.modules.block.C2PSA           [256, 256, 1]                 \n",
            " 10                  -1  1    336645  ultralytics.nn.modules.head.Classify         [256, 5]                      \n",
            "YOLO11n-cls summary: 86 layers, 1,537,509 parameters, 1,537,509 gradients, 3.3 GFLOPs\n",
            "Transferred 234/236 items from pretrained weights\n",
            "\u001b[34m\u001b[1mAMP: \u001b[0mrunning Automatic Mixed Precision (AMP) checks...\n",
            "Downloading https://github.com/ultralytics/assets/releases/download/v8.3.0/yolo11n.pt to 'yolo11n.pt'...\n"
          ]
        },
        {
          "output_type": "stream",
          "name": "stderr",
          "text": [
            "100%|██████████| 5.35M/5.35M [00:00<00:00, 372MB/s]\n"
          ]
        },
        {
          "output_type": "stream",
          "name": "stdout",
          "text": [
            "\u001b[34m\u001b[1mAMP: \u001b[0mchecks passed ✅\n",
            "\u001b[34m\u001b[1mtrain: \u001b[0mFast image access ✅ (ping: 0.4±0.2 ms, read: 0.0±0.0 MB/s, size: 22.7 KB)\n"
          ]
        },
        {
          "output_type": "stream",
          "name": "stderr",
          "text": [
            "\u001b[34m\u001b[1mtrain: \u001b[0mScanning /content/drive/MyDrive/TypeCoffee.v25i.folder/train... 1049 images, 0 corrupt: 100%|██████████| 1049/1049 [00:00<?, ?it/s]\n"
          ]
        },
        {
          "output_type": "stream",
          "name": "stdout",
          "text": [
            "\u001b[34m\u001b[1mval: \u001b[0mFast image access ✅ (ping: 0.3±0.1 ms, read: 0.0±0.0 MB/s, size: 22.7 KB)\n"
          ]
        },
        {
          "output_type": "stream",
          "name": "stderr",
          "text": [
            "\u001b[34m\u001b[1mval: \u001b[0mScanning /content/drive/MyDrive/TypeCoffee.v25i.folder/val... 60 images, 0 corrupt: 100%|██████████| 60/60 [00:00<?, ?it/s]\n"
          ]
        },
        {
          "output_type": "stream",
          "name": "stdout",
          "text": [
            "\u001b[34m\u001b[1moptimizer:\u001b[0m 'optimizer=auto' found, ignoring 'lr0=0.01' and 'momentum=0.937' and determining best 'optimizer', 'lr0' and 'momentum' automatically... \n",
            "\u001b[34m\u001b[1moptimizer:\u001b[0m AdamW(lr=0.001111, momentum=0.9) with parameter groups 39 weight(decay=0.0), 40 weight(decay=0.0005), 40 bias(decay=0.0)\n",
            "Image sizes 256 train, 256 val\n",
            "Using 8 dataloader workers\n",
            "Logging results to \u001b[1mruns/classify/train\u001b[0m\n",
            "Starting training for 100 epochs...\n",
            "\n",
            "      Epoch    GPU_mem       loss  Instances       Size\n"
          ]
        },
        {
          "output_type": "stream",
          "name": "stderr",
          "text": [
            "      1/100     0.609G       1.74         32        256:  24%|██▍       | 8/33 [00:21<00:32,  1.31s/it]"
          ]
        },
        {
          "output_type": "stream",
          "name": "stdout",
          "text": [
            "Downloading https://ultralytics.com/assets/Arial.ttf to '/root/.config/Ultralytics/Arial.ttf'...\n"
          ]
        },
        {
          "output_type": "stream",
          "name": "stderr",
          "text": [
            "\n",
            "100%|██████████| 755k/755k [00:00<00:00, 104MB/s]\n",
            "      1/100     0.609G      1.507         25        256: 100%|██████████| 33/33 [01:32<00:00,  2.81s/it]\n",
            "               classes   top1_acc   top5_acc: 100%|██████████| 1/1 [00:00<00:00, 10.00it/s]"
          ]
        },
        {
          "output_type": "stream",
          "name": "stdout",
          "text": [
            "                   all        0.5          1\n"
          ]
        },
        {
          "output_type": "stream",
          "name": "stderr",
          "text": [
            "\n"
          ]
        },
        {
          "output_type": "stream",
          "name": "stdout",
          "text": [
            "\n",
            "      Epoch    GPU_mem       loss  Instances       Size\n"
          ]
        },
        {
          "output_type": "stream",
          "name": "stderr",
          "text": [
            "      2/100     0.662G     0.9073         25        256: 100%|██████████| 33/33 [00:02<00:00, 13.23it/s]\n",
            "               classes   top1_acc   top5_acc: 100%|██████████| 1/1 [00:00<00:00, 48.63it/s]"
          ]
        },
        {
          "output_type": "stream",
          "name": "stdout",
          "text": [
            "                   all       0.75          1\n"
          ]
        },
        {
          "output_type": "stream",
          "name": "stderr",
          "text": [
            "\n"
          ]
        },
        {
          "output_type": "stream",
          "name": "stdout",
          "text": [
            "\n",
            "      Epoch    GPU_mem       loss  Instances       Size\n"
          ]
        },
        {
          "output_type": "stream",
          "name": "stderr",
          "text": [
            "      3/100     0.666G     0.8061         25        256: 100%|██████████| 33/33 [00:03<00:00,  8.92it/s]\n",
            "               classes   top1_acc   top5_acc: 100%|██████████| 1/1 [00:00<00:00, 53.14it/s]"
          ]
        },
        {
          "output_type": "stream",
          "name": "stdout",
          "text": [
            "                   all      0.417          1\n"
          ]
        },
        {
          "output_type": "stream",
          "name": "stderr",
          "text": [
            "\n"
          ]
        },
        {
          "output_type": "stream",
          "name": "stdout",
          "text": [
            "\n",
            "      Epoch    GPU_mem       loss  Instances       Size\n"
          ]
        },
        {
          "output_type": "stream",
          "name": "stderr",
          "text": [
            "      4/100     0.666G     0.7091         25        256: 100%|██████████| 33/33 [00:03<00:00,  9.89it/s]\n",
            "               classes   top1_acc   top5_acc: 100%|██████████| 1/1 [00:00<00:00, 56.90it/s]"
          ]
        },
        {
          "output_type": "stream",
          "name": "stdout",
          "text": [
            "                   all        0.8          1\n"
          ]
        },
        {
          "output_type": "stream",
          "name": "stderr",
          "text": [
            "\n"
          ]
        },
        {
          "output_type": "stream",
          "name": "stdout",
          "text": [
            "\n",
            "      Epoch    GPU_mem       loss  Instances       Size\n"
          ]
        },
        {
          "output_type": "stream",
          "name": "stderr",
          "text": [
            "      5/100     0.666G     0.6031         25        256: 100%|██████████| 33/33 [00:03<00:00,  9.75it/s]\n",
            "               classes   top1_acc   top5_acc: 100%|██████████| 1/1 [00:00<00:00, 46.56it/s]"
          ]
        },
        {
          "output_type": "stream",
          "name": "stdout",
          "text": [
            "                   all      0.933          1\n"
          ]
        },
        {
          "output_type": "stream",
          "name": "stderr",
          "text": [
            "\n"
          ]
        },
        {
          "output_type": "stream",
          "name": "stdout",
          "text": [
            "\n",
            "      Epoch    GPU_mem       loss  Instances       Size\n"
          ]
        },
        {
          "output_type": "stream",
          "name": "stderr",
          "text": [
            "      6/100     0.666G     0.5552         25        256: 100%|██████████| 33/33 [00:03<00:00,  9.10it/s]\n",
            "               classes   top1_acc   top5_acc: 100%|██████████| 1/1 [00:00<00:00, 53.37it/s]"
          ]
        },
        {
          "output_type": "stream",
          "name": "stdout",
          "text": [
            "                   all      0.883          1\n"
          ]
        },
        {
          "output_type": "stream",
          "name": "stderr",
          "text": [
            "\n"
          ]
        },
        {
          "output_type": "stream",
          "name": "stdout",
          "text": [
            "\n",
            "      Epoch    GPU_mem       loss  Instances       Size\n"
          ]
        },
        {
          "output_type": "stream",
          "name": "stderr",
          "text": [
            "      7/100     0.666G     0.4636         25        256: 100%|██████████| 33/33 [00:03<00:00,  8.78it/s]\n",
            "               classes   top1_acc   top5_acc: 100%|██████████| 1/1 [00:00<00:00, 52.59it/s]"
          ]
        },
        {
          "output_type": "stream",
          "name": "stdout",
          "text": [
            "                   all       0.75          1\n"
          ]
        },
        {
          "output_type": "stream",
          "name": "stderr",
          "text": [
            "\n"
          ]
        },
        {
          "output_type": "stream",
          "name": "stdout",
          "text": [
            "\n",
            "      Epoch    GPU_mem       loss  Instances       Size\n"
          ]
        },
        {
          "output_type": "stream",
          "name": "stderr",
          "text": [
            "      8/100     0.666G      0.431         25        256: 100%|██████████| 33/33 [00:03<00:00,  9.66it/s]\n",
            "               classes   top1_acc   top5_acc: 100%|██████████| 1/1 [00:00<00:00, 49.13it/s]"
          ]
        },
        {
          "output_type": "stream",
          "name": "stdout",
          "text": [
            "                   all      0.667          1\n"
          ]
        },
        {
          "output_type": "stream",
          "name": "stderr",
          "text": [
            "\n"
          ]
        },
        {
          "output_type": "stream",
          "name": "stdout",
          "text": [
            "\n",
            "      Epoch    GPU_mem       loss  Instances       Size\n"
          ]
        },
        {
          "output_type": "stream",
          "name": "stderr",
          "text": [
            "      9/100     0.666G     0.4495         25        256: 100%|██████████| 33/33 [00:03<00:00,  9.59it/s]\n",
            "               classes   top1_acc   top5_acc: 100%|██████████| 1/1 [00:00<00:00, 54.38it/s]"
          ]
        },
        {
          "output_type": "stream",
          "name": "stdout",
          "text": [
            "                   all      0.817          1\n"
          ]
        },
        {
          "output_type": "stream",
          "name": "stderr",
          "text": [
            "\n"
          ]
        },
        {
          "output_type": "stream",
          "name": "stdout",
          "text": [
            "\n",
            "      Epoch    GPU_mem       loss  Instances       Size\n"
          ]
        },
        {
          "output_type": "stream",
          "name": "stderr",
          "text": [
            "     10/100     0.666G     0.4153         25        256: 100%|██████████| 33/33 [00:03<00:00,  8.97it/s]\n",
            "               classes   top1_acc   top5_acc: 100%|██████████| 1/1 [00:00<00:00, 46.56it/s]"
          ]
        },
        {
          "output_type": "stream",
          "name": "stdout",
          "text": [
            "                   all       0.65          1\n"
          ]
        },
        {
          "output_type": "stream",
          "name": "stderr",
          "text": [
            "\n"
          ]
        },
        {
          "output_type": "stream",
          "name": "stdout",
          "text": [
            "\n",
            "      Epoch    GPU_mem       loss  Instances       Size\n"
          ]
        },
        {
          "output_type": "stream",
          "name": "stderr",
          "text": [
            "     11/100     0.666G     0.4143         25        256: 100%|██████████| 33/33 [00:03<00:00,  9.81it/s]\n",
            "               classes   top1_acc   top5_acc: 100%|██████████| 1/1 [00:00<00:00, 51.63it/s]"
          ]
        },
        {
          "output_type": "stream",
          "name": "stdout",
          "text": [
            "                   all      0.783          1\n"
          ]
        },
        {
          "output_type": "stream",
          "name": "stderr",
          "text": [
            "\n"
          ]
        },
        {
          "output_type": "stream",
          "name": "stdout",
          "text": [
            "\n",
            "      Epoch    GPU_mem       loss  Instances       Size\n"
          ]
        },
        {
          "output_type": "stream",
          "name": "stderr",
          "text": [
            "     12/100     0.676G     0.3183         25        256: 100%|██████████| 33/33 [00:03<00:00,  9.83it/s]\n",
            "               classes   top1_acc   top5_acc: 100%|██████████| 1/1 [00:00<00:00, 54.37it/s]"
          ]
        },
        {
          "output_type": "stream",
          "name": "stdout",
          "text": [
            "                   all      0.883          1\n"
          ]
        },
        {
          "output_type": "stream",
          "name": "stderr",
          "text": [
            "\n"
          ]
        },
        {
          "output_type": "stream",
          "name": "stdout",
          "text": [
            "\n",
            "      Epoch    GPU_mem       loss  Instances       Size\n"
          ]
        },
        {
          "output_type": "stream",
          "name": "stderr",
          "text": [
            "     13/100     0.684G     0.3356         25        256: 100%|██████████| 33/33 [00:03<00:00,  9.41it/s]\n",
            "               classes   top1_acc   top5_acc: 100%|██████████| 1/1 [00:00<00:00, 52.21it/s]"
          ]
        },
        {
          "output_type": "stream",
          "name": "stdout",
          "text": [
            "                   all      0.817          1\n"
          ]
        },
        {
          "output_type": "stream",
          "name": "stderr",
          "text": [
            "\n"
          ]
        },
        {
          "output_type": "stream",
          "name": "stdout",
          "text": [
            "\n",
            "      Epoch    GPU_mem       loss  Instances       Size\n"
          ]
        },
        {
          "output_type": "stream",
          "name": "stderr",
          "text": [
            "     14/100     0.684G     0.3967         25        256: 100%|██████████| 33/33 [00:03<00:00,  9.41it/s]\n",
            "               classes   top1_acc   top5_acc: 100%|██████████| 1/1 [00:00<00:00, 51.33it/s]"
          ]
        },
        {
          "output_type": "stream",
          "name": "stdout",
          "text": [
            "                   all      0.833          1\n"
          ]
        },
        {
          "output_type": "stream",
          "name": "stderr",
          "text": [
            "\n"
          ]
        },
        {
          "output_type": "stream",
          "name": "stdout",
          "text": [
            "\n",
            "      Epoch    GPU_mem       loss  Instances       Size\n"
          ]
        },
        {
          "output_type": "stream",
          "name": "stderr",
          "text": [
            "     15/100     0.684G     0.3402         25        256: 100%|██████████| 33/33 [00:03<00:00,  9.59it/s]\n",
            "               classes   top1_acc   top5_acc: 100%|██████████| 1/1 [00:00<00:00, 51.78it/s]"
          ]
        },
        {
          "output_type": "stream",
          "name": "stdout",
          "text": [
            "                   all      0.883          1\n"
          ]
        },
        {
          "output_type": "stream",
          "name": "stderr",
          "text": [
            "\n"
          ]
        },
        {
          "output_type": "stream",
          "name": "stdout",
          "text": [
            "\n",
            "      Epoch    GPU_mem       loss  Instances       Size\n"
          ]
        },
        {
          "output_type": "stream",
          "name": "stderr",
          "text": [
            "     16/100     0.684G     0.2993         25        256: 100%|██████████| 33/33 [00:03<00:00,  9.89it/s]\n",
            "               classes   top1_acc   top5_acc: 100%|██████████| 1/1 [00:00<00:00, 54.66it/s]"
          ]
        },
        {
          "output_type": "stream",
          "name": "stdout",
          "text": [
            "                   all      0.917          1\n"
          ]
        },
        {
          "output_type": "stream",
          "name": "stderr",
          "text": [
            "\n"
          ]
        },
        {
          "output_type": "stream",
          "name": "stdout",
          "text": [
            "\n",
            "      Epoch    GPU_mem       loss  Instances       Size\n"
          ]
        },
        {
          "output_type": "stream",
          "name": "stderr",
          "text": [
            "     17/100     0.684G     0.2772         25        256: 100%|██████████| 33/33 [00:03<00:00,  8.80it/s]\n",
            "               classes   top1_acc   top5_acc: 100%|██████████| 1/1 [00:00<00:00, 56.31it/s]"
          ]
        },
        {
          "output_type": "stream",
          "name": "stdout",
          "text": [
            "                   all      0.983          1\n"
          ]
        },
        {
          "output_type": "stream",
          "name": "stderr",
          "text": [
            "\n"
          ]
        },
        {
          "output_type": "stream",
          "name": "stdout",
          "text": [
            "\n",
            "      Epoch    GPU_mem       loss  Instances       Size\n"
          ]
        },
        {
          "output_type": "stream",
          "name": "stderr",
          "text": [
            "     18/100     0.684G     0.3052         25        256: 100%|██████████| 33/33 [00:03<00:00, 10.42it/s]\n",
            "               classes   top1_acc   top5_acc: 100%|██████████| 1/1 [00:00<00:00, 53.24it/s]"
          ]
        },
        {
          "output_type": "stream",
          "name": "stdout",
          "text": [
            "                   all       0.85          1\n"
          ]
        },
        {
          "output_type": "stream",
          "name": "stderr",
          "text": [
            "\n"
          ]
        },
        {
          "output_type": "stream",
          "name": "stdout",
          "text": [
            "\n",
            "      Epoch    GPU_mem       loss  Instances       Size\n"
          ]
        },
        {
          "output_type": "stream",
          "name": "stderr",
          "text": [
            "     19/100     0.684G     0.2872         25        256: 100%|██████████| 33/33 [00:03<00:00, 10.00it/s]\n",
            "               classes   top1_acc   top5_acc: 100%|██████████| 1/1 [00:00<00:00, 61.13it/s]"
          ]
        },
        {
          "output_type": "stream",
          "name": "stdout",
          "text": [
            "                   all       0.85          1\n"
          ]
        },
        {
          "output_type": "stream",
          "name": "stderr",
          "text": [
            "\n"
          ]
        },
        {
          "output_type": "stream",
          "name": "stdout",
          "text": [
            "\n",
            "      Epoch    GPU_mem       loss  Instances       Size\n"
          ]
        },
        {
          "output_type": "stream",
          "name": "stderr",
          "text": [
            "     20/100     0.684G     0.2649         25        256: 100%|██████████| 33/33 [00:03<00:00,  9.28it/s]\n",
            "               classes   top1_acc   top5_acc: 100%|██████████| 1/1 [00:00<00:00, 55.27it/s]"
          ]
        },
        {
          "output_type": "stream",
          "name": "stdout",
          "text": [
            "                   all      0.883          1\n"
          ]
        },
        {
          "output_type": "stream",
          "name": "stderr",
          "text": [
            "\n"
          ]
        },
        {
          "output_type": "stream",
          "name": "stdout",
          "text": [
            "\n",
            "      Epoch    GPU_mem       loss  Instances       Size\n"
          ]
        },
        {
          "output_type": "stream",
          "name": "stderr",
          "text": [
            "     21/100     0.684G     0.2167         25        256: 100%|██████████| 33/33 [00:03<00:00,  9.44it/s]\n",
            "               classes   top1_acc   top5_acc: 100%|██████████| 1/1 [00:00<00:00, 59.19it/s]"
          ]
        },
        {
          "output_type": "stream",
          "name": "stdout",
          "text": [
            "                   all      0.917          1\n"
          ]
        },
        {
          "output_type": "stream",
          "name": "stderr",
          "text": [
            "\n"
          ]
        },
        {
          "output_type": "stream",
          "name": "stdout",
          "text": [
            "\n",
            "      Epoch    GPU_mem       loss  Instances       Size\n"
          ]
        },
        {
          "output_type": "stream",
          "name": "stderr",
          "text": [
            "     22/100     0.684G     0.2195         25        256: 100%|██████████| 33/33 [00:03<00:00, 10.03it/s]\n",
            "               classes   top1_acc   top5_acc: 100%|██████████| 1/1 [00:00<00:00, 54.68it/s]"
          ]
        },
        {
          "output_type": "stream",
          "name": "stdout",
          "text": [
            "                   all        0.9          1\n"
          ]
        },
        {
          "output_type": "stream",
          "name": "stderr",
          "text": [
            "\n"
          ]
        },
        {
          "output_type": "stream",
          "name": "stdout",
          "text": [
            "\n",
            "      Epoch    GPU_mem       loss  Instances       Size\n"
          ]
        },
        {
          "output_type": "stream",
          "name": "stderr",
          "text": [
            "     23/100     0.684G     0.2593         25        256: 100%|██████████| 33/33 [00:03<00:00,  8.45it/s]\n",
            "               classes   top1_acc   top5_acc: 100%|██████████| 1/1 [00:00<00:00, 38.55it/s]"
          ]
        },
        {
          "output_type": "stream",
          "name": "stdout",
          "text": [
            "                   all      0.983          1\n"
          ]
        },
        {
          "output_type": "stream",
          "name": "stderr",
          "text": [
            "\n"
          ]
        },
        {
          "output_type": "stream",
          "name": "stdout",
          "text": [
            "\n",
            "      Epoch    GPU_mem       loss  Instances       Size\n"
          ]
        },
        {
          "output_type": "stream",
          "name": "stderr",
          "text": [
            "     24/100     0.684G     0.2363         25        256: 100%|██████████| 33/33 [00:03<00:00,  8.60it/s]\n",
            "               classes   top1_acc   top5_acc: 100%|██████████| 1/1 [00:00<00:00, 59.81it/s]"
          ]
        },
        {
          "output_type": "stream",
          "name": "stdout",
          "text": [
            "                   all      0.883          1\n"
          ]
        },
        {
          "output_type": "stream",
          "name": "stderr",
          "text": [
            "\n"
          ]
        },
        {
          "output_type": "stream",
          "name": "stdout",
          "text": [
            "\n",
            "      Epoch    GPU_mem       loss  Instances       Size\n"
          ]
        },
        {
          "output_type": "stream",
          "name": "stderr",
          "text": [
            "     25/100     0.684G     0.1772         25        256: 100%|██████████| 33/33 [00:03<00:00,  9.36it/s]\n",
            "               classes   top1_acc   top5_acc: 100%|██████████| 1/1 [00:00<00:00, 50.35it/s]"
          ]
        },
        {
          "output_type": "stream",
          "name": "stdout",
          "text": [
            "                   all       0.95          1\n"
          ]
        },
        {
          "output_type": "stream",
          "name": "stderr",
          "text": [
            "\n"
          ]
        },
        {
          "output_type": "stream",
          "name": "stdout",
          "text": [
            "\n",
            "      Epoch    GPU_mem       loss  Instances       Size\n"
          ]
        },
        {
          "output_type": "stream",
          "name": "stderr",
          "text": [
            "     26/100     0.684G     0.2151         25        256: 100%|██████████| 33/33 [00:03<00:00, 10.02it/s]\n",
            "               classes   top1_acc   top5_acc: 100%|██████████| 1/1 [00:00<00:00, 51.10it/s]"
          ]
        },
        {
          "output_type": "stream",
          "name": "stdout",
          "text": [
            "                   all      0.933          1\n"
          ]
        },
        {
          "output_type": "stream",
          "name": "stderr",
          "text": [
            "\n"
          ]
        },
        {
          "output_type": "stream",
          "name": "stdout",
          "text": [
            "\n",
            "      Epoch    GPU_mem       loss  Instances       Size\n"
          ]
        },
        {
          "output_type": "stream",
          "name": "stderr",
          "text": [
            "     27/100     0.684G     0.1596         25        256: 100%|██████████| 33/33 [00:03<00:00,  9.27it/s]\n",
            "               classes   top1_acc   top5_acc: 100%|██████████| 1/1 [00:00<00:00, 50.36it/s]"
          ]
        },
        {
          "output_type": "stream",
          "name": "stdout",
          "text": [
            "                   all      0.933          1\n"
          ]
        },
        {
          "output_type": "stream",
          "name": "stderr",
          "text": [
            "\n"
          ]
        },
        {
          "output_type": "stream",
          "name": "stdout",
          "text": [
            "\n",
            "      Epoch    GPU_mem       loss  Instances       Size\n"
          ]
        },
        {
          "output_type": "stream",
          "name": "stderr",
          "text": [
            "     28/100     0.684G      0.187         25        256: 100%|██████████| 33/33 [00:03<00:00,  9.09it/s]\n",
            "               classes   top1_acc   top5_acc: 100%|██████████| 1/1 [00:00<00:00, 47.03it/s]"
          ]
        },
        {
          "output_type": "stream",
          "name": "stdout",
          "text": [
            "                   all      0.917          1\n"
          ]
        },
        {
          "output_type": "stream",
          "name": "stderr",
          "text": [
            "\n"
          ]
        },
        {
          "output_type": "stream",
          "name": "stdout",
          "text": [
            "\n",
            "      Epoch    GPU_mem       loss  Instances       Size\n"
          ]
        },
        {
          "output_type": "stream",
          "name": "stderr",
          "text": [
            "     29/100     0.684G     0.1592         25        256: 100%|██████████| 33/33 [00:03<00:00,  9.84it/s]\n",
            "               classes   top1_acc   top5_acc: 100%|██████████| 1/1 [00:00<00:00, 52.04it/s]"
          ]
        },
        {
          "output_type": "stream",
          "name": "stdout",
          "text": [
            "                   all       0.85          1\n"
          ]
        },
        {
          "output_type": "stream",
          "name": "stderr",
          "text": [
            "\n"
          ]
        },
        {
          "output_type": "stream",
          "name": "stdout",
          "text": [
            "\n",
            "      Epoch    GPU_mem       loss  Instances       Size\n"
          ]
        },
        {
          "output_type": "stream",
          "name": "stderr",
          "text": [
            "     30/100     0.684G     0.1849         25        256: 100%|██████████| 33/33 [00:03<00:00,  9.93it/s]\n",
            "               classes   top1_acc   top5_acc: 100%|██████████| 1/1 [00:00<00:00, 59.20it/s]"
          ]
        },
        {
          "output_type": "stream",
          "name": "stdout",
          "text": [
            "                   all      0.933          1\n"
          ]
        },
        {
          "output_type": "stream",
          "name": "stderr",
          "text": [
            "\n"
          ]
        },
        {
          "output_type": "stream",
          "name": "stdout",
          "text": [
            "\n",
            "      Epoch    GPU_mem       loss  Instances       Size\n"
          ]
        },
        {
          "output_type": "stream",
          "name": "stderr",
          "text": [
            "     31/100     0.684G     0.1773         25        256: 100%|██████████| 33/33 [00:03<00:00,  9.03it/s]\n",
            "               classes   top1_acc   top5_acc: 100%|██████████| 1/1 [00:00<00:00, 59.47it/s]"
          ]
        },
        {
          "output_type": "stream",
          "name": "stdout",
          "text": [
            "                   all       0.95          1\n"
          ]
        },
        {
          "output_type": "stream",
          "name": "stderr",
          "text": [
            "\n"
          ]
        },
        {
          "output_type": "stream",
          "name": "stdout",
          "text": [
            "\n",
            "      Epoch    GPU_mem       loss  Instances       Size\n"
          ]
        },
        {
          "output_type": "stream",
          "name": "stderr",
          "text": [
            "     32/100     0.684G     0.1617         25        256: 100%|██████████| 33/33 [00:03<00:00,  9.97it/s]\n",
            "               classes   top1_acc   top5_acc: 100%|██████████| 1/1 [00:00<00:00, 53.34it/s]"
          ]
        },
        {
          "output_type": "stream",
          "name": "stdout",
          "text": [
            "                   all      0.967          1\n"
          ]
        },
        {
          "output_type": "stream",
          "name": "stderr",
          "text": [
            "\n"
          ]
        },
        {
          "output_type": "stream",
          "name": "stdout",
          "text": [
            "\n",
            "      Epoch    GPU_mem       loss  Instances       Size\n"
          ]
        },
        {
          "output_type": "stream",
          "name": "stderr",
          "text": [
            "     33/100     0.684G     0.1652         25        256: 100%|██████████| 33/33 [00:03<00:00,  9.24it/s]\n",
            "               classes   top1_acc   top5_acc: 100%|██████████| 1/1 [00:00<00:00, 49.14it/s]"
          ]
        },
        {
          "output_type": "stream",
          "name": "stdout",
          "text": [
            "                   all      0.917          1\n"
          ]
        },
        {
          "output_type": "stream",
          "name": "stderr",
          "text": [
            "\n"
          ]
        },
        {
          "output_type": "stream",
          "name": "stdout",
          "text": [
            "\n",
            "      Epoch    GPU_mem       loss  Instances       Size\n"
          ]
        },
        {
          "output_type": "stream",
          "name": "stderr",
          "text": [
            "     34/100     0.693G     0.1954         25        256: 100%|██████████| 33/33 [00:03<00:00,  9.51it/s]\n",
            "               classes   top1_acc   top5_acc: 100%|██████████| 1/1 [00:00<00:00, 52.23it/s]"
          ]
        },
        {
          "output_type": "stream",
          "name": "stdout",
          "text": [
            "                   all      0.983          1\n"
          ]
        },
        {
          "output_type": "stream",
          "name": "stderr",
          "text": [
            "\n"
          ]
        },
        {
          "output_type": "stream",
          "name": "stdout",
          "text": [
            "\n",
            "      Epoch    GPU_mem       loss  Instances       Size\n"
          ]
        },
        {
          "output_type": "stream",
          "name": "stderr",
          "text": [
            "     35/100     0.701G       0.15         25        256: 100%|██████████| 33/33 [00:03<00:00,  9.56it/s]\n",
            "               classes   top1_acc   top5_acc: 100%|██████████| 1/1 [00:00<00:00, 52.02it/s]"
          ]
        },
        {
          "output_type": "stream",
          "name": "stdout",
          "text": [
            "                   all      0.917          1\n"
          ]
        },
        {
          "output_type": "stream",
          "name": "stderr",
          "text": [
            "\n"
          ]
        },
        {
          "output_type": "stream",
          "name": "stdout",
          "text": [
            "\n",
            "      Epoch    GPU_mem       loss  Instances       Size\n"
          ]
        },
        {
          "output_type": "stream",
          "name": "stderr",
          "text": [
            "     36/100     0.701G      0.146         25        256: 100%|██████████| 33/33 [00:03<00:00,  9.77it/s]\n",
            "               classes   top1_acc   top5_acc: 100%|██████████| 1/1 [00:00<00:00, 61.38it/s]"
          ]
        },
        {
          "output_type": "stream",
          "name": "stdout",
          "text": [
            "                   all      0.933          1\n"
          ]
        },
        {
          "output_type": "stream",
          "name": "stderr",
          "text": [
            "\n"
          ]
        },
        {
          "output_type": "stream",
          "name": "stdout",
          "text": [
            "\n",
            "      Epoch    GPU_mem       loss  Instances       Size\n"
          ]
        },
        {
          "output_type": "stream",
          "name": "stderr",
          "text": [
            "     37/100     0.701G     0.1499         25        256: 100%|██████████| 33/33 [00:03<00:00,  9.50it/s]\n",
            "               classes   top1_acc   top5_acc: 100%|██████████| 1/1 [00:00<00:00, 47.71it/s]"
          ]
        },
        {
          "output_type": "stream",
          "name": "stdout",
          "text": [
            "                   all        0.9          1\n"
          ]
        },
        {
          "output_type": "stream",
          "name": "stderr",
          "text": [
            "\n"
          ]
        },
        {
          "output_type": "stream",
          "name": "stdout",
          "text": [
            "\n",
            "      Epoch    GPU_mem       loss  Instances       Size\n"
          ]
        },
        {
          "output_type": "stream",
          "name": "stderr",
          "text": [
            "     38/100     0.701G     0.1316         25        256: 100%|██████████| 33/33 [00:03<00:00,  9.23it/s]\n",
            "               classes   top1_acc   top5_acc: 100%|██████████| 1/1 [00:00<00:00, 59.06it/s]"
          ]
        },
        {
          "output_type": "stream",
          "name": "stdout",
          "text": [
            "                   all       0.85          1\n"
          ]
        },
        {
          "output_type": "stream",
          "name": "stderr",
          "text": [
            "\n"
          ]
        },
        {
          "output_type": "stream",
          "name": "stdout",
          "text": [
            "\n",
            "      Epoch    GPU_mem       loss  Instances       Size\n"
          ]
        },
        {
          "output_type": "stream",
          "name": "stderr",
          "text": [
            "     39/100     0.701G     0.1272         25        256: 100%|██████████| 33/33 [00:03<00:00,  9.91it/s]\n",
            "               classes   top1_acc   top5_acc: 100%|██████████| 1/1 [00:00<00:00, 54.33it/s]"
          ]
        },
        {
          "output_type": "stream",
          "name": "stdout",
          "text": [
            "                   all        0.9          1\n"
          ]
        },
        {
          "output_type": "stream",
          "name": "stderr",
          "text": [
            "\n"
          ]
        },
        {
          "output_type": "stream",
          "name": "stdout",
          "text": [
            "\n",
            "      Epoch    GPU_mem       loss  Instances       Size\n"
          ]
        },
        {
          "output_type": "stream",
          "name": "stderr",
          "text": [
            "     40/100     0.701G     0.1457         25        256: 100%|██████████| 33/33 [00:03<00:00,  9.95it/s]\n",
            "               classes   top1_acc   top5_acc: 100%|██████████| 1/1 [00:00<00:00, 62.49it/s]"
          ]
        },
        {
          "output_type": "stream",
          "name": "stdout",
          "text": [
            "                   all       0.95          1\n"
          ]
        },
        {
          "output_type": "stream",
          "name": "stderr",
          "text": [
            "\n"
          ]
        },
        {
          "output_type": "stream",
          "name": "stdout",
          "text": [
            "\n",
            "      Epoch    GPU_mem       loss  Instances       Size\n"
          ]
        },
        {
          "output_type": "stream",
          "name": "stderr",
          "text": [
            "     41/100     0.701G     0.1543         25        256: 100%|██████████| 33/33 [00:03<00:00,  8.93it/s]\n",
            "               classes   top1_acc   top5_acc: 100%|██████████| 1/1 [00:00<00:00, 46.96it/s]"
          ]
        },
        {
          "output_type": "stream",
          "name": "stdout",
          "text": [
            "                   all      0.933          1\n"
          ]
        },
        {
          "output_type": "stream",
          "name": "stderr",
          "text": [
            "\n"
          ]
        },
        {
          "output_type": "stream",
          "name": "stdout",
          "text": [
            "\n",
            "      Epoch    GPU_mem       loss  Instances       Size\n"
          ]
        },
        {
          "output_type": "stream",
          "name": "stderr",
          "text": [
            "     42/100     0.701G     0.1532         25        256: 100%|██████████| 33/33 [00:03<00:00,  9.41it/s]\n",
            "               classes   top1_acc   top5_acc: 100%|██████████| 1/1 [00:00<00:00, 53.45it/s]"
          ]
        },
        {
          "output_type": "stream",
          "name": "stdout",
          "text": [
            "                   all      0.933          1\n"
          ]
        },
        {
          "output_type": "stream",
          "name": "stderr",
          "text": [
            "\n"
          ]
        },
        {
          "output_type": "stream",
          "name": "stdout",
          "text": [
            "\n",
            "      Epoch    GPU_mem       loss  Instances       Size\n"
          ]
        },
        {
          "output_type": "stream",
          "name": "stderr",
          "text": [
            "     43/100     0.701G     0.1026         25        256: 100%|██████████| 33/33 [00:03<00:00,  9.82it/s]\n",
            "               classes   top1_acc   top5_acc: 100%|██████████| 1/1 [00:00<00:00, 60.18it/s]"
          ]
        },
        {
          "output_type": "stream",
          "name": "stdout",
          "text": [
            "                   all       0.95          1\n"
          ]
        },
        {
          "output_type": "stream",
          "name": "stderr",
          "text": [
            "\n"
          ]
        },
        {
          "output_type": "stream",
          "name": "stdout",
          "text": [
            "\n",
            "      Epoch    GPU_mem       loss  Instances       Size\n"
          ]
        },
        {
          "output_type": "stream",
          "name": "stderr",
          "text": [
            "     44/100     0.711G     0.1074         25        256: 100%|██████████| 33/33 [00:03<00:00,  9.94it/s]\n",
            "               classes   top1_acc   top5_acc: 100%|██████████| 1/1 [00:00<00:00, 47.29it/s]"
          ]
        },
        {
          "output_type": "stream",
          "name": "stdout",
          "text": [
            "                   all      0.917          1\n"
          ]
        },
        {
          "output_type": "stream",
          "name": "stderr",
          "text": [
            "\n"
          ]
        },
        {
          "output_type": "stream",
          "name": "stdout",
          "text": [
            "\n",
            "      Epoch    GPU_mem       loss  Instances       Size\n"
          ]
        },
        {
          "output_type": "stream",
          "name": "stderr",
          "text": [
            "     45/100     0.719G     0.1376         25        256: 100%|██████████| 33/33 [00:03<00:00,  9.45it/s]\n",
            "               classes   top1_acc   top5_acc: 100%|██████████| 1/1 [00:00<00:00, 51.86it/s]"
          ]
        },
        {
          "output_type": "stream",
          "name": "stdout",
          "text": [
            "                   all      0.967          1\n"
          ]
        },
        {
          "output_type": "stream",
          "name": "stderr",
          "text": [
            "\n"
          ]
        },
        {
          "output_type": "stream",
          "name": "stdout",
          "text": [
            "\n",
            "      Epoch    GPU_mem       loss  Instances       Size\n"
          ]
        },
        {
          "output_type": "stream",
          "name": "stderr",
          "text": [
            "     46/100     0.719G     0.1385         25        256: 100%|██████████| 33/33 [00:03<00:00, 10.76it/s]\n",
            "               classes   top1_acc   top5_acc: 100%|██████████| 1/1 [00:00<00:00, 57.72it/s]"
          ]
        },
        {
          "output_type": "stream",
          "name": "stdout",
          "text": [
            "                   all      0.983          1\n"
          ]
        },
        {
          "output_type": "stream",
          "name": "stderr",
          "text": [
            "\n"
          ]
        },
        {
          "output_type": "stream",
          "name": "stdout",
          "text": [
            "\n",
            "      Epoch    GPU_mem       loss  Instances       Size\n"
          ]
        },
        {
          "output_type": "stream",
          "name": "stderr",
          "text": [
            "     47/100     0.719G    0.08705         25        256: 100%|██████████| 33/33 [00:03<00:00,  9.95it/s]\n",
            "               classes   top1_acc   top5_acc: 100%|██████████| 1/1 [00:00<00:00, 50.98it/s]"
          ]
        },
        {
          "output_type": "stream",
          "name": "stdout",
          "text": [
            "                   all      0.967          1\n"
          ]
        },
        {
          "output_type": "stream",
          "name": "stderr",
          "text": [
            "\n"
          ]
        },
        {
          "output_type": "stream",
          "name": "stdout",
          "text": [
            "\n",
            "      Epoch    GPU_mem       loss  Instances       Size\n"
          ]
        },
        {
          "output_type": "stream",
          "name": "stderr",
          "text": [
            "     48/100     0.719G     0.1118         25        256: 100%|██████████| 33/33 [00:03<00:00,  9.52it/s]\n",
            "               classes   top1_acc   top5_acc: 100%|██████████| 1/1 [00:00<00:00, 51.89it/s]"
          ]
        },
        {
          "output_type": "stream",
          "name": "stdout",
          "text": [
            "                   all       0.95          1\n"
          ]
        },
        {
          "output_type": "stream",
          "name": "stderr",
          "text": [
            "\n"
          ]
        },
        {
          "output_type": "stream",
          "name": "stdout",
          "text": [
            "\n",
            "      Epoch    GPU_mem       loss  Instances       Size\n"
          ]
        },
        {
          "output_type": "stream",
          "name": "stderr",
          "text": [
            "     49/100     0.719G    0.08225         25        256: 100%|██████████| 33/33 [00:03<00:00,  8.88it/s]\n",
            "               classes   top1_acc   top5_acc: 100%|██████████| 1/1 [00:00<00:00, 56.42it/s]"
          ]
        },
        {
          "output_type": "stream",
          "name": "stdout",
          "text": [
            "                   all      0.933          1\n"
          ]
        },
        {
          "output_type": "stream",
          "name": "stderr",
          "text": [
            "\n"
          ]
        },
        {
          "output_type": "stream",
          "name": "stdout",
          "text": [
            "\n",
            "      Epoch    GPU_mem       loss  Instances       Size\n"
          ]
        },
        {
          "output_type": "stream",
          "name": "stderr",
          "text": [
            "     50/100     0.719G    0.06571         25        256: 100%|██████████| 33/33 [00:03<00:00,  9.78it/s]\n",
            "               classes   top1_acc   top5_acc: 100%|██████████| 1/1 [00:00<00:00, 54.24it/s]"
          ]
        },
        {
          "output_type": "stream",
          "name": "stdout",
          "text": [
            "                   all      0.967          1\n"
          ]
        },
        {
          "output_type": "stream",
          "name": "stderr",
          "text": [
            "\n"
          ]
        },
        {
          "output_type": "stream",
          "name": "stdout",
          "text": [
            "\n",
            "      Epoch    GPU_mem       loss  Instances       Size\n"
          ]
        },
        {
          "output_type": "stream",
          "name": "stderr",
          "text": [
            "     51/100     0.719G    0.08838         25        256: 100%|██████████| 33/33 [00:03<00:00,  9.09it/s]\n",
            "               classes   top1_acc   top5_acc: 100%|██████████| 1/1 [00:00<00:00, 50.30it/s]"
          ]
        },
        {
          "output_type": "stream",
          "name": "stdout",
          "text": [
            "                   all      0.917          1\n"
          ]
        },
        {
          "output_type": "stream",
          "name": "stderr",
          "text": [
            "\n"
          ]
        },
        {
          "output_type": "stream",
          "name": "stdout",
          "text": [
            "\n",
            "      Epoch    GPU_mem       loss  Instances       Size\n"
          ]
        },
        {
          "output_type": "stream",
          "name": "stderr",
          "text": [
            "     52/100     0.719G    0.09118         25        256: 100%|██████████| 33/33 [00:03<00:00,  8.86it/s]\n",
            "               classes   top1_acc   top5_acc: 100%|██████████| 1/1 [00:00<00:00, 54.03it/s]"
          ]
        },
        {
          "output_type": "stream",
          "name": "stdout",
          "text": [
            "                   all      0.917          1\n"
          ]
        },
        {
          "output_type": "stream",
          "name": "stderr",
          "text": [
            "\n"
          ]
        },
        {
          "output_type": "stream",
          "name": "stdout",
          "text": [
            "\n",
            "      Epoch    GPU_mem       loss  Instances       Size\n"
          ]
        },
        {
          "output_type": "stream",
          "name": "stderr",
          "text": [
            "     53/100     0.719G     0.1151         25        256: 100%|██████████| 33/33 [00:03<00:00,  9.90it/s]\n",
            "               classes   top1_acc   top5_acc: 100%|██████████| 1/1 [00:00<00:00, 54.62it/s]"
          ]
        },
        {
          "output_type": "stream",
          "name": "stdout",
          "text": [
            "                   all      0.933          1\n"
          ]
        },
        {
          "output_type": "stream",
          "name": "stderr",
          "text": [
            "\n"
          ]
        },
        {
          "output_type": "stream",
          "name": "stdout",
          "text": [
            "\n",
            "      Epoch    GPU_mem       loss  Instances       Size\n"
          ]
        },
        {
          "output_type": "stream",
          "name": "stderr",
          "text": [
            "     54/100     0.719G      0.092         25        256: 100%|██████████| 33/33 [00:03<00:00,  9.49it/s]\n",
            "               classes   top1_acc   top5_acc: 100%|██████████| 1/1 [00:00<00:00, 47.90it/s]"
          ]
        },
        {
          "output_type": "stream",
          "name": "stdout",
          "text": [
            "                   all       0.95          1\n"
          ]
        },
        {
          "output_type": "stream",
          "name": "stderr",
          "text": [
            "\n"
          ]
        },
        {
          "output_type": "stream",
          "name": "stdout",
          "text": [
            "\n",
            "      Epoch    GPU_mem       loss  Instances       Size\n"
          ]
        },
        {
          "output_type": "stream",
          "name": "stderr",
          "text": [
            "     55/100     0.719G     0.1005         25        256: 100%|██████████| 33/33 [00:03<00:00,  9.64it/s]\n",
            "               classes   top1_acc   top5_acc: 100%|██████████| 1/1 [00:00<00:00, 51.77it/s]"
          ]
        },
        {
          "output_type": "stream",
          "name": "stdout",
          "text": [
            "                   all       0.95          1\n"
          ]
        },
        {
          "output_type": "stream",
          "name": "stderr",
          "text": [
            "\n"
          ]
        },
        {
          "output_type": "stream",
          "name": "stdout",
          "text": [
            "\n",
            "      Epoch    GPU_mem       loss  Instances       Size\n"
          ]
        },
        {
          "output_type": "stream",
          "name": "stderr",
          "text": [
            "     56/100     0.719G     0.1367         25        256: 100%|██████████| 33/33 [00:03<00:00,  9.18it/s]\n",
            "               classes   top1_acc   top5_acc: 100%|██████████| 1/1 [00:00<00:00, 51.37it/s]"
          ]
        },
        {
          "output_type": "stream",
          "name": "stdout",
          "text": [
            "                   all      0.983          1\n"
          ]
        },
        {
          "output_type": "stream",
          "name": "stderr",
          "text": [
            "\n"
          ]
        },
        {
          "output_type": "stream",
          "name": "stdout",
          "text": [
            "\n",
            "      Epoch    GPU_mem       loss  Instances       Size\n"
          ]
        },
        {
          "output_type": "stream",
          "name": "stderr",
          "text": [
            "     57/100     0.719G    0.09954         25        256: 100%|██████████| 33/33 [00:03<00:00,  9.46it/s]\n",
            "               classes   top1_acc   top5_acc: 100%|██████████| 1/1 [00:00<00:00, 47.62it/s]"
          ]
        },
        {
          "output_type": "stream",
          "name": "stdout",
          "text": [
            "                   all       0.95          1\n"
          ]
        },
        {
          "output_type": "stream",
          "name": "stderr",
          "text": [
            "\n"
          ]
        },
        {
          "output_type": "stream",
          "name": "stdout",
          "text": [
            "\n",
            "      Epoch    GPU_mem       loss  Instances       Size\n"
          ]
        },
        {
          "output_type": "stream",
          "name": "stderr",
          "text": [
            "     58/100     0.719G     0.0673         25        256: 100%|██████████| 33/33 [00:03<00:00,  9.58it/s]\n",
            "               classes   top1_acc   top5_acc: 100%|██████████| 1/1 [00:00<00:00, 46.13it/s]"
          ]
        },
        {
          "output_type": "stream",
          "name": "stdout",
          "text": [
            "                   all      0.967          1\n"
          ]
        },
        {
          "output_type": "stream",
          "name": "stderr",
          "text": [
            "\n"
          ]
        },
        {
          "output_type": "stream",
          "name": "stdout",
          "text": [
            "\n",
            "      Epoch    GPU_mem       loss  Instances       Size\n"
          ]
        },
        {
          "output_type": "stream",
          "name": "stderr",
          "text": [
            "     59/100     0.719G     0.1214         25        256: 100%|██████████| 33/33 [00:03<00:00,  9.20it/s]\n",
            "               classes   top1_acc   top5_acc: 100%|██████████| 1/1 [00:00<00:00, 45.69it/s]"
          ]
        },
        {
          "output_type": "stream",
          "name": "stdout",
          "text": [
            "                   all       0.95          1\n"
          ]
        },
        {
          "output_type": "stream",
          "name": "stderr",
          "text": [
            "\n"
          ]
        },
        {
          "output_type": "stream",
          "name": "stdout",
          "text": [
            "\n",
            "      Epoch    GPU_mem       loss  Instances       Size\n"
          ]
        },
        {
          "output_type": "stream",
          "name": "stderr",
          "text": [
            "     60/100     0.719G    0.08631         25        256: 100%|██████████| 33/33 [00:03<00:00,  9.82it/s]\n",
            "               classes   top1_acc   top5_acc: 100%|██████████| 1/1 [00:00<00:00, 46.83it/s]"
          ]
        },
        {
          "output_type": "stream",
          "name": "stdout",
          "text": [
            "                   all      0.967          1\n"
          ]
        },
        {
          "output_type": "stream",
          "name": "stderr",
          "text": [
            "\n"
          ]
        },
        {
          "output_type": "stream",
          "name": "stdout",
          "text": [
            "\n",
            "      Epoch    GPU_mem       loss  Instances       Size\n"
          ]
        },
        {
          "output_type": "stream",
          "name": "stderr",
          "text": [
            "     61/100     0.719G    0.08892         25        256: 100%|██████████| 33/33 [00:03<00:00, 10.12it/s]\n",
            "               classes   top1_acc   top5_acc: 100%|██████████| 1/1 [00:00<00:00, 54.30it/s]"
          ]
        },
        {
          "output_type": "stream",
          "name": "stdout",
          "text": [
            "                   all       0.95          1\n"
          ]
        },
        {
          "output_type": "stream",
          "name": "stderr",
          "text": [
            "\n"
          ]
        },
        {
          "output_type": "stream",
          "name": "stdout",
          "text": [
            "\n",
            "      Epoch    GPU_mem       loss  Instances       Size\n"
          ]
        },
        {
          "output_type": "stream",
          "name": "stderr",
          "text": [
            "     62/100     0.719G    0.07657         25        256: 100%|██████████| 33/33 [00:03<00:00,  9.32it/s]\n",
            "               classes   top1_acc   top5_acc: 100%|██████████| 1/1 [00:00<00:00, 44.53it/s]"
          ]
        },
        {
          "output_type": "stream",
          "name": "stdout",
          "text": [
            "                   all      0.983          1\n"
          ]
        },
        {
          "output_type": "stream",
          "name": "stderr",
          "text": [
            "\n"
          ]
        },
        {
          "output_type": "stream",
          "name": "stdout",
          "text": [
            "\n",
            "      Epoch    GPU_mem       loss  Instances       Size\n"
          ]
        },
        {
          "output_type": "stream",
          "name": "stderr",
          "text": [
            "     63/100     0.719G    0.06689         25        256: 100%|██████████| 33/33 [00:03<00:00,  9.41it/s]\n",
            "               classes   top1_acc   top5_acc: 100%|██████████| 1/1 [00:00<00:00, 51.23it/s]"
          ]
        },
        {
          "output_type": "stream",
          "name": "stdout",
          "text": [
            "                   all      0.967          1\n"
          ]
        },
        {
          "output_type": "stream",
          "name": "stderr",
          "text": [
            "\n"
          ]
        },
        {
          "output_type": "stream",
          "name": "stdout",
          "text": [
            "\n",
            "      Epoch    GPU_mem       loss  Instances       Size\n"
          ]
        },
        {
          "output_type": "stream",
          "name": "stderr",
          "text": [
            "     64/100     0.719G    0.08627         25        256: 100%|██████████| 33/33 [00:03<00:00,  9.71it/s]\n",
            "               classes   top1_acc   top5_acc: 100%|██████████| 1/1 [00:00<00:00, 61.00it/s]"
          ]
        },
        {
          "output_type": "stream",
          "name": "stdout",
          "text": [
            "                   all      0.933          1\n"
          ]
        },
        {
          "output_type": "stream",
          "name": "stderr",
          "text": [
            "\n"
          ]
        },
        {
          "output_type": "stream",
          "name": "stdout",
          "text": [
            "\n",
            "      Epoch    GPU_mem       loss  Instances       Size\n"
          ]
        },
        {
          "output_type": "stream",
          "name": "stderr",
          "text": [
            "     65/100     0.719G    0.06746         25        256: 100%|██████████| 33/33 [00:03<00:00,  9.33it/s]\n",
            "               classes   top1_acc   top5_acc: 100%|██████████| 1/1 [00:00<00:00, 52.47it/s]"
          ]
        },
        {
          "output_type": "stream",
          "name": "stdout",
          "text": [
            "                   all      0.983          1\n"
          ]
        },
        {
          "output_type": "stream",
          "name": "stderr",
          "text": [
            "\n"
          ]
        },
        {
          "output_type": "stream",
          "name": "stdout",
          "text": [
            "\n",
            "      Epoch    GPU_mem       loss  Instances       Size\n"
          ]
        },
        {
          "output_type": "stream",
          "name": "stderr",
          "text": [
            "     66/100     0.719G    0.08844         25        256: 100%|██████████| 33/33 [00:03<00:00,  9.07it/s]\n",
            "               classes   top1_acc   top5_acc: 100%|██████████| 1/1 [00:00<00:00, 45.20it/s]"
          ]
        },
        {
          "output_type": "stream",
          "name": "stdout",
          "text": [
            "                   all       0.95          1\n"
          ]
        },
        {
          "output_type": "stream",
          "name": "stderr",
          "text": [
            "\n"
          ]
        },
        {
          "output_type": "stream",
          "name": "stdout",
          "text": [
            "\n",
            "      Epoch    GPU_mem       loss  Instances       Size\n"
          ]
        },
        {
          "output_type": "stream",
          "name": "stderr",
          "text": [
            "     67/100     0.719G    0.06878         25        256: 100%|██████████| 33/33 [00:03<00:00,  9.61it/s]\n",
            "               classes   top1_acc   top5_acc: 100%|██████████| 1/1 [00:00<00:00, 56.73it/s]"
          ]
        },
        {
          "output_type": "stream",
          "name": "stdout",
          "text": [
            "                   all      0.933          1\n"
          ]
        },
        {
          "output_type": "stream",
          "name": "stderr",
          "text": [
            "\n"
          ]
        },
        {
          "output_type": "stream",
          "name": "stdout",
          "text": [
            "\n",
            "      Epoch    GPU_mem       loss  Instances       Size\n"
          ]
        },
        {
          "output_type": "stream",
          "name": "stderr",
          "text": [
            "     68/100     0.719G    0.09769         25        256: 100%|██████████| 33/33 [00:03<00:00, 10.04it/s]\n",
            "               classes   top1_acc   top5_acc: 100%|██████████| 1/1 [00:00<00:00, 48.81it/s]"
          ]
        },
        {
          "output_type": "stream",
          "name": "stdout",
          "text": [
            "                   all       0.95          1\n"
          ]
        },
        {
          "output_type": "stream",
          "name": "stderr",
          "text": [
            "\n"
          ]
        },
        {
          "output_type": "stream",
          "name": "stdout",
          "text": [
            "\n",
            "      Epoch    GPU_mem       loss  Instances       Size\n"
          ]
        },
        {
          "output_type": "stream",
          "name": "stderr",
          "text": [
            "     69/100     0.719G     0.0759         25        256: 100%|██████████| 33/33 [00:03<00:00,  9.48it/s]\n",
            "               classes   top1_acc   top5_acc: 100%|██████████| 1/1 [00:00<00:00, 62.44it/s]\n"
          ]
        },
        {
          "output_type": "stream",
          "name": "stdout",
          "text": [
            "                   all       0.95          1\n",
            "\n",
            "      Epoch    GPU_mem       loss  Instances       Size\n"
          ]
        },
        {
          "output_type": "stream",
          "name": "stderr",
          "text": [
            "     70/100     0.719G    0.04962         25        256: 100%|██████████| 33/33 [00:03<00:00,  9.06it/s]\n",
            "               classes   top1_acc   top5_acc: 100%|██████████| 1/1 [00:00<00:00, 49.42it/s]"
          ]
        },
        {
          "output_type": "stream",
          "name": "stdout",
          "text": [
            "                   all       0.95          1\n"
          ]
        },
        {
          "output_type": "stream",
          "name": "stderr",
          "text": [
            "\n"
          ]
        },
        {
          "output_type": "stream",
          "name": "stdout",
          "text": [
            "\n",
            "      Epoch    GPU_mem       loss  Instances       Size\n"
          ]
        },
        {
          "output_type": "stream",
          "name": "stderr",
          "text": [
            "     71/100     0.719G    0.04105         25        256: 100%|██████████| 33/33 [00:03<00:00,  9.97it/s]\n",
            "               classes   top1_acc   top5_acc: 100%|██████████| 1/1 [00:00<00:00, 48.00it/s]"
          ]
        },
        {
          "output_type": "stream",
          "name": "stdout",
          "text": [
            "                   all       0.95          1\n"
          ]
        },
        {
          "output_type": "stream",
          "name": "stderr",
          "text": [
            "\n"
          ]
        },
        {
          "output_type": "stream",
          "name": "stdout",
          "text": [
            "\n",
            "      Epoch    GPU_mem       loss  Instances       Size\n"
          ]
        },
        {
          "output_type": "stream",
          "name": "stderr",
          "text": [
            "     72/100     0.719G    0.06492         25        256: 100%|██████████| 33/33 [00:03<00:00,  9.52it/s]\n",
            "               classes   top1_acc   top5_acc: 100%|██████████| 1/1 [00:00<00:00, 49.27it/s]"
          ]
        },
        {
          "output_type": "stream",
          "name": "stdout",
          "text": [
            "                   all      0.983          1\n"
          ]
        },
        {
          "output_type": "stream",
          "name": "stderr",
          "text": [
            "\n"
          ]
        },
        {
          "output_type": "stream",
          "name": "stdout",
          "text": [
            "\n",
            "      Epoch    GPU_mem       loss  Instances       Size\n"
          ]
        },
        {
          "output_type": "stream",
          "name": "stderr",
          "text": [
            "     73/100     0.727G    0.06667         25        256: 100%|██████████| 33/33 [00:03<00:00,  8.52it/s]\n",
            "               classes   top1_acc   top5_acc: 100%|██████████| 1/1 [00:00<00:00, 43.74it/s]"
          ]
        },
        {
          "output_type": "stream",
          "name": "stdout",
          "text": [
            "                   all       0.95          1\n"
          ]
        },
        {
          "output_type": "stream",
          "name": "stderr",
          "text": [
            "\n"
          ]
        },
        {
          "output_type": "stream",
          "name": "stdout",
          "text": [
            "\n",
            "      Epoch    GPU_mem       loss  Instances       Size\n"
          ]
        },
        {
          "output_type": "stream",
          "name": "stderr",
          "text": [
            "     74/100     0.729G    0.06128         25        256: 100%|██████████| 33/33 [00:03<00:00,  9.71it/s]\n",
            "               classes   top1_acc   top5_acc: 100%|██████████| 1/1 [00:00<00:00, 48.66it/s]"
          ]
        },
        {
          "output_type": "stream",
          "name": "stdout",
          "text": [
            "                   all      0.967          1\n"
          ]
        },
        {
          "output_type": "stream",
          "name": "stderr",
          "text": [
            "\n"
          ]
        },
        {
          "output_type": "stream",
          "name": "stdout",
          "text": [
            "\n",
            "      Epoch    GPU_mem       loss  Instances       Size\n"
          ]
        },
        {
          "output_type": "stream",
          "name": "stderr",
          "text": [
            "     75/100     0.729G    0.06732         25        256: 100%|██████████| 33/33 [00:02<00:00, 11.06it/s]\n",
            "               classes   top1_acc   top5_acc: 100%|██████████| 1/1 [00:00<00:00, 49.09it/s]"
          ]
        },
        {
          "output_type": "stream",
          "name": "stdout",
          "text": [
            "                   all      0.933          1\n"
          ]
        },
        {
          "output_type": "stream",
          "name": "stderr",
          "text": [
            "\n"
          ]
        },
        {
          "output_type": "stream",
          "name": "stdout",
          "text": [
            "\n",
            "      Epoch    GPU_mem       loss  Instances       Size\n"
          ]
        },
        {
          "output_type": "stream",
          "name": "stderr",
          "text": [
            "     76/100     0.729G    0.07051         25        256: 100%|██████████| 33/33 [00:03<00:00,  9.25it/s]\n",
            "               classes   top1_acc   top5_acc: 100%|██████████| 1/1 [00:00<00:00, 56.22it/s]"
          ]
        },
        {
          "output_type": "stream",
          "name": "stdout",
          "text": [
            "                   all       0.95          1\n"
          ]
        },
        {
          "output_type": "stream",
          "name": "stderr",
          "text": [
            "\n"
          ]
        },
        {
          "output_type": "stream",
          "name": "stdout",
          "text": [
            "\n",
            "      Epoch    GPU_mem       loss  Instances       Size\n"
          ]
        },
        {
          "output_type": "stream",
          "name": "stderr",
          "text": [
            "     77/100     0.729G     0.0624         25        256: 100%|██████████| 33/33 [00:03<00:00,  9.46it/s]\n",
            "               classes   top1_acc   top5_acc: 100%|██████████| 1/1 [00:00<00:00, 55.86it/s]"
          ]
        },
        {
          "output_type": "stream",
          "name": "stdout",
          "text": [
            "                   all      0.967          1\n"
          ]
        },
        {
          "output_type": "stream",
          "name": "stderr",
          "text": [
            "\n"
          ]
        },
        {
          "output_type": "stream",
          "name": "stdout",
          "text": [
            "\n",
            "      Epoch    GPU_mem       loss  Instances       Size\n"
          ]
        },
        {
          "output_type": "stream",
          "name": "stderr",
          "text": [
            "     78/100     0.729G     0.0411         25        256: 100%|██████████| 33/33 [00:03<00:00,  9.56it/s]\n",
            "               classes   top1_acc   top5_acc: 100%|██████████| 1/1 [00:00<00:00, 55.91it/s]"
          ]
        },
        {
          "output_type": "stream",
          "name": "stdout",
          "text": [
            "                   all       0.95          1\n"
          ]
        },
        {
          "output_type": "stream",
          "name": "stderr",
          "text": [
            "\n"
          ]
        },
        {
          "output_type": "stream",
          "name": "stdout",
          "text": [
            "\n",
            "      Epoch    GPU_mem       loss  Instances       Size\n"
          ]
        },
        {
          "output_type": "stream",
          "name": "stderr",
          "text": [
            "     79/100     0.729G    0.05215         25        256: 100%|██████████| 33/33 [00:03<00:00,  9.98it/s]\n",
            "               classes   top1_acc   top5_acc: 100%|██████████| 1/1 [00:00<00:00, 52.30it/s]"
          ]
        },
        {
          "output_type": "stream",
          "name": "stdout",
          "text": [
            "                   all      0.933          1\n"
          ]
        },
        {
          "output_type": "stream",
          "name": "stderr",
          "text": [
            "\n"
          ]
        },
        {
          "output_type": "stream",
          "name": "stdout",
          "text": [
            "\n",
            "      Epoch    GPU_mem       loss  Instances       Size\n"
          ]
        },
        {
          "output_type": "stream",
          "name": "stderr",
          "text": [
            "     80/100     0.729G    0.05395         25        256: 100%|██████████| 33/33 [00:03<00:00,  8.89it/s]\n",
            "               classes   top1_acc   top5_acc: 100%|██████████| 1/1 [00:00<00:00, 54.12it/s]"
          ]
        },
        {
          "output_type": "stream",
          "name": "stdout",
          "text": [
            "                   all      0.933          1\n"
          ]
        },
        {
          "output_type": "stream",
          "name": "stderr",
          "text": [
            "\n"
          ]
        },
        {
          "output_type": "stream",
          "name": "stdout",
          "text": [
            "\n",
            "      Epoch    GPU_mem       loss  Instances       Size\n"
          ]
        },
        {
          "output_type": "stream",
          "name": "stderr",
          "text": [
            "     81/100     0.729G    0.05263         25        256: 100%|██████████| 33/33 [00:03<00:00,  8.96it/s]\n",
            "               classes   top1_acc   top5_acc: 100%|██████████| 1/1 [00:00<00:00, 51.23it/s]"
          ]
        },
        {
          "output_type": "stream",
          "name": "stdout",
          "text": [
            "                   all      0.983          1\n"
          ]
        },
        {
          "output_type": "stream",
          "name": "stderr",
          "text": [
            "\n"
          ]
        },
        {
          "output_type": "stream",
          "name": "stdout",
          "text": [
            "\n",
            "      Epoch    GPU_mem       loss  Instances       Size\n"
          ]
        },
        {
          "output_type": "stream",
          "name": "stderr",
          "text": [
            "     82/100     0.729G    0.04394         25        256: 100%|██████████| 33/33 [00:03<00:00,  9.76it/s]\n",
            "               classes   top1_acc   top5_acc: 100%|██████████| 1/1 [00:00<00:00, 45.76it/s]"
          ]
        },
        {
          "output_type": "stream",
          "name": "stdout",
          "text": [
            "                   all      0.983          1\n"
          ]
        },
        {
          "output_type": "stream",
          "name": "stderr",
          "text": [
            "\n"
          ]
        },
        {
          "output_type": "stream",
          "name": "stdout",
          "text": [
            "\n",
            "      Epoch    GPU_mem       loss  Instances       Size\n"
          ]
        },
        {
          "output_type": "stream",
          "name": "stderr",
          "text": [
            "     83/100     0.729G    0.07333         25        256: 100%|██████████| 33/33 [00:03<00:00,  9.14it/s]\n",
            "               classes   top1_acc   top5_acc: 100%|██████████| 1/1 [00:00<00:00, 56.36it/s]"
          ]
        },
        {
          "output_type": "stream",
          "name": "stdout",
          "text": [
            "                   all      0.983          1\n"
          ]
        },
        {
          "output_type": "stream",
          "name": "stderr",
          "text": [
            "\n"
          ]
        },
        {
          "output_type": "stream",
          "name": "stdout",
          "text": [
            "\n",
            "      Epoch    GPU_mem       loss  Instances       Size\n"
          ]
        },
        {
          "output_type": "stream",
          "name": "stderr",
          "text": [
            "     84/100     0.729G    0.05508         25        256: 100%|██████████| 33/33 [00:03<00:00,  9.36it/s]\n",
            "               classes   top1_acc   top5_acc: 100%|██████████| 1/1 [00:00<00:00, 49.32it/s]"
          ]
        },
        {
          "output_type": "stream",
          "name": "stdout",
          "text": [
            "                   all      0.983          1\n"
          ]
        },
        {
          "output_type": "stream",
          "name": "stderr",
          "text": [
            "\n"
          ]
        },
        {
          "output_type": "stream",
          "name": "stdout",
          "text": [
            "\n",
            "      Epoch    GPU_mem       loss  Instances       Size\n"
          ]
        },
        {
          "output_type": "stream",
          "name": "stderr",
          "text": [
            "     85/100     0.729G    0.04636         25        256: 100%|██████████| 33/33 [00:03<00:00,  9.80it/s]\n",
            "               classes   top1_acc   top5_acc: 100%|██████████| 1/1 [00:00<00:00, 53.40it/s]"
          ]
        },
        {
          "output_type": "stream",
          "name": "stdout",
          "text": [
            "                   all      0.967          1\n"
          ]
        },
        {
          "output_type": "stream",
          "name": "stderr",
          "text": [
            "\n"
          ]
        },
        {
          "output_type": "stream",
          "name": "stdout",
          "text": [
            "\n",
            "      Epoch    GPU_mem       loss  Instances       Size\n"
          ]
        },
        {
          "output_type": "stream",
          "name": "stderr",
          "text": [
            "     86/100     0.729G    0.04338         25        256: 100%|██████████| 33/33 [00:03<00:00,  9.70it/s]\n",
            "               classes   top1_acc   top5_acc: 100%|██████████| 1/1 [00:00<00:00, 53.31it/s]"
          ]
        },
        {
          "output_type": "stream",
          "name": "stdout",
          "text": [
            "                   all       0.95          1\n"
          ]
        },
        {
          "output_type": "stream",
          "name": "stderr",
          "text": [
            "\n"
          ]
        },
        {
          "output_type": "stream",
          "name": "stdout",
          "text": [
            "\n",
            "      Epoch    GPU_mem       loss  Instances       Size\n"
          ]
        },
        {
          "output_type": "stream",
          "name": "stderr",
          "text": [
            "     87/100     0.729G    0.02941         25        256: 100%|██████████| 33/33 [00:03<00:00,  8.99it/s]\n",
            "               classes   top1_acc   top5_acc: 100%|██████████| 1/1 [00:00<00:00, 60.31it/s]"
          ]
        },
        {
          "output_type": "stream",
          "name": "stdout",
          "text": [
            "                   all       0.95          1\n"
          ]
        },
        {
          "output_type": "stream",
          "name": "stderr",
          "text": [
            "\n"
          ]
        },
        {
          "output_type": "stream",
          "name": "stdout",
          "text": [
            "\n",
            "      Epoch    GPU_mem       loss  Instances       Size\n"
          ]
        },
        {
          "output_type": "stream",
          "name": "stderr",
          "text": [
            "     88/100     0.729G    0.04744         25        256: 100%|██████████| 33/33 [00:03<00:00,  9.83it/s]\n",
            "               classes   top1_acc   top5_acc: 100%|██████████| 1/1 [00:00<00:00, 55.21it/s]"
          ]
        },
        {
          "output_type": "stream",
          "name": "stdout",
          "text": [
            "                   all       0.95          1\n"
          ]
        },
        {
          "output_type": "stream",
          "name": "stderr",
          "text": [
            "\n"
          ]
        },
        {
          "output_type": "stream",
          "name": "stdout",
          "text": [
            "\n",
            "      Epoch    GPU_mem       loss  Instances       Size\n"
          ]
        },
        {
          "output_type": "stream",
          "name": "stderr",
          "text": [
            "     89/100     0.729G    0.04268         25        256: 100%|██████████| 33/33 [00:03<00:00,  9.61it/s]\n",
            "               classes   top1_acc   top5_acc: 100%|██████████| 1/1 [00:00<00:00, 46.88it/s]"
          ]
        },
        {
          "output_type": "stream",
          "name": "stdout",
          "text": [
            "                   all       0.95          1\n"
          ]
        },
        {
          "output_type": "stream",
          "name": "stderr",
          "text": [
            "\n"
          ]
        },
        {
          "output_type": "stream",
          "name": "stdout",
          "text": [
            "\n",
            "      Epoch    GPU_mem       loss  Instances       Size\n"
          ]
        },
        {
          "output_type": "stream",
          "name": "stderr",
          "text": [
            "     90/100     0.729G    0.05891         25        256: 100%|██████████| 33/33 [00:03<00:00,  9.15it/s]\n",
            "               classes   top1_acc   top5_acc: 100%|██████████| 1/1 [00:00<00:00, 59.59it/s]"
          ]
        },
        {
          "output_type": "stream",
          "name": "stdout",
          "text": [
            "                   all       0.95          1\n"
          ]
        },
        {
          "output_type": "stream",
          "name": "stderr",
          "text": [
            "\n"
          ]
        },
        {
          "output_type": "stream",
          "name": "stdout",
          "text": [
            "\n",
            "      Epoch    GPU_mem       loss  Instances       Size\n"
          ]
        },
        {
          "output_type": "stream",
          "name": "stderr",
          "text": [
            "     91/100     0.729G    0.03918         25        256: 100%|██████████| 33/33 [00:03<00:00,  8.34it/s]\n",
            "               classes   top1_acc   top5_acc: 100%|██████████| 1/1 [00:00<00:00, 56.01it/s]"
          ]
        },
        {
          "output_type": "stream",
          "name": "stdout",
          "text": [
            "                   all       0.95          1\n"
          ]
        },
        {
          "output_type": "stream",
          "name": "stderr",
          "text": [
            "\n"
          ]
        },
        {
          "output_type": "stream",
          "name": "stdout",
          "text": [
            "\n",
            "      Epoch    GPU_mem       loss  Instances       Size\n"
          ]
        },
        {
          "output_type": "stream",
          "name": "stderr",
          "text": [
            "     92/100     0.729G    0.03426         25        256: 100%|██████████| 33/33 [00:03<00:00,  9.77it/s]\n",
            "               classes   top1_acc   top5_acc: 100%|██████████| 1/1 [00:00<00:00, 40.49it/s]"
          ]
        },
        {
          "output_type": "stream",
          "name": "stdout",
          "text": [
            "                   all       0.95          1\n"
          ]
        },
        {
          "output_type": "stream",
          "name": "stderr",
          "text": [
            "\n"
          ]
        },
        {
          "output_type": "stream",
          "name": "stdout",
          "text": [
            "\n",
            "      Epoch    GPU_mem       loss  Instances       Size\n"
          ]
        },
        {
          "output_type": "stream",
          "name": "stderr",
          "text": [
            "     93/100     0.729G    0.03762         25        256: 100%|██████████| 33/33 [00:03<00:00,  9.65it/s]\n",
            "               classes   top1_acc   top5_acc: 100%|██████████| 1/1 [00:00<00:00, 57.01it/s]"
          ]
        },
        {
          "output_type": "stream",
          "name": "stdout",
          "text": [
            "                   all       0.95          1\n"
          ]
        },
        {
          "output_type": "stream",
          "name": "stderr",
          "text": [
            "\n"
          ]
        },
        {
          "output_type": "stream",
          "name": "stdout",
          "text": [
            "\n",
            "      Epoch    GPU_mem       loss  Instances       Size\n"
          ]
        },
        {
          "output_type": "stream",
          "name": "stderr",
          "text": [
            "     94/100     0.729G    0.03867         25        256: 100%|██████████| 33/33 [00:03<00:00,  9.39it/s]\n",
            "               classes   top1_acc   top5_acc: 100%|██████████| 1/1 [00:00<00:00, 59.82it/s]"
          ]
        },
        {
          "output_type": "stream",
          "name": "stdout",
          "text": [
            "                   all       0.95          1\n"
          ]
        },
        {
          "output_type": "stream",
          "name": "stderr",
          "text": [
            "\n"
          ]
        },
        {
          "output_type": "stream",
          "name": "stdout",
          "text": [
            "\n",
            "      Epoch    GPU_mem       loss  Instances       Size\n"
          ]
        },
        {
          "output_type": "stream",
          "name": "stderr",
          "text": [
            "     95/100     0.729G    0.04335         25        256: 100%|██████████| 33/33 [00:03<00:00, 10.19it/s]\n",
            "               classes   top1_acc   top5_acc: 100%|██████████| 1/1 [00:00<00:00, 50.03it/s]"
          ]
        },
        {
          "output_type": "stream",
          "name": "stdout",
          "text": [
            "                   all       0.95          1\n"
          ]
        },
        {
          "output_type": "stream",
          "name": "stderr",
          "text": [
            "\n"
          ]
        },
        {
          "output_type": "stream",
          "name": "stdout",
          "text": [
            "\n",
            "      Epoch    GPU_mem       loss  Instances       Size\n"
          ]
        },
        {
          "output_type": "stream",
          "name": "stderr",
          "text": [
            "     96/100     0.729G    0.03975         25        256: 100%|██████████| 33/33 [00:03<00:00,  9.84it/s]\n",
            "               classes   top1_acc   top5_acc: 100%|██████████| 1/1 [00:00<00:00, 61.61it/s]"
          ]
        },
        {
          "output_type": "stream",
          "name": "stdout",
          "text": [
            "                   all       0.95          1\n"
          ]
        },
        {
          "output_type": "stream",
          "name": "stderr",
          "text": [
            "\n"
          ]
        },
        {
          "output_type": "stream",
          "name": "stdout",
          "text": [
            "\n",
            "      Epoch    GPU_mem       loss  Instances       Size\n"
          ]
        },
        {
          "output_type": "stream",
          "name": "stderr",
          "text": [
            "     97/100     0.729G    0.04335         25        256: 100%|██████████| 33/33 [00:03<00:00,  9.32it/s]\n",
            "               classes   top1_acc   top5_acc: 100%|██████████| 1/1 [00:00<00:00, 60.03it/s]"
          ]
        },
        {
          "output_type": "stream",
          "name": "stdout",
          "text": [
            "                   all      0.967          1\n"
          ]
        },
        {
          "output_type": "stream",
          "name": "stderr",
          "text": [
            "\n"
          ]
        },
        {
          "output_type": "stream",
          "name": "stdout",
          "text": [
            "\n",
            "      Epoch    GPU_mem       loss  Instances       Size\n"
          ]
        },
        {
          "output_type": "stream",
          "name": "stderr",
          "text": [
            "     98/100     0.729G    0.04207         25        256: 100%|██████████| 33/33 [00:03<00:00,  9.82it/s]\n",
            "               classes   top1_acc   top5_acc: 100%|██████████| 1/1 [00:00<00:00, 57.35it/s]"
          ]
        },
        {
          "output_type": "stream",
          "name": "stdout",
          "text": [
            "                   all       0.95          1\n"
          ]
        },
        {
          "output_type": "stream",
          "name": "stderr",
          "text": [
            "\n"
          ]
        },
        {
          "output_type": "stream",
          "name": "stdout",
          "text": [
            "\n",
            "      Epoch    GPU_mem       loss  Instances       Size\n"
          ]
        },
        {
          "output_type": "stream",
          "name": "stderr",
          "text": [
            "     99/100     0.729G    0.04098         25        256: 100%|██████████| 33/33 [00:03<00:00,  9.22it/s]\n",
            "               classes   top1_acc   top5_acc: 100%|██████████| 1/1 [00:00<00:00, 49.03it/s]"
          ]
        },
        {
          "output_type": "stream",
          "name": "stdout",
          "text": [
            "                   all      0.967          1\n"
          ]
        },
        {
          "output_type": "stream",
          "name": "stderr",
          "text": [
            "\n"
          ]
        },
        {
          "output_type": "stream",
          "name": "stdout",
          "text": [
            "\n",
            "      Epoch    GPU_mem       loss  Instances       Size\n"
          ]
        },
        {
          "output_type": "stream",
          "name": "stderr",
          "text": [
            "    100/100     0.729G    0.02917         25        256: 100%|██████████| 33/33 [00:03<00:00,  9.91it/s]\n",
            "               classes   top1_acc   top5_acc: 100%|██████████| 1/1 [00:00<00:00, 58.08it/s]"
          ]
        },
        {
          "output_type": "stream",
          "name": "stdout",
          "text": [
            "                   all      0.967          1\n"
          ]
        },
        {
          "output_type": "stream",
          "name": "stderr",
          "text": [
            "\n"
          ]
        },
        {
          "output_type": "stream",
          "name": "stdout",
          "text": [
            "\n",
            "100 epochs completed in 0.128 hours.\n",
            "Optimizer stripped from runs/classify/train/weights/last.pt, 3.2MB\n",
            "Optimizer stripped from runs/classify/train/weights/best.pt, 3.2MB\n",
            "\n",
            "Validating runs/classify/train/weights/best.pt...\n",
            "Ultralytics 8.3.159 🚀 Python-3.11.13 torch-2.6.0+cu124 CUDA:0 (Tesla T4, 15095MiB)\n",
            "YOLO11n-cls summary (fused): 47 layers, 1,532,429 parameters, 0 gradients, 3.2 GFLOPs\n",
            "\u001b[34m\u001b[1mtrain:\u001b[0m /content/drive/MyDrive/TypeCoffee.v25i.folder/train... found 1049 images in 5 classes ✅ \n",
            "\u001b[34m\u001b[1mval:\u001b[0m /content/drive/MyDrive/TypeCoffee.v25i.folder/val... found 60 images in 5 classes ✅ \n",
            "\u001b[34m\u001b[1mtest:\u001b[0m /content/drive/MyDrive/TypeCoffee.v25i.folder/test... found 100 images in 5 classes ✅ \n"
          ]
        },
        {
          "output_type": "stream",
          "name": "stderr",
          "text": [
            "               classes   top1_acc   top5_acc: 100%|██████████| 1/1 [00:00<00:00, 24.87it/s]\n"
          ]
        },
        {
          "output_type": "stream",
          "name": "stdout",
          "text": [
            "                   all      0.983          1\n",
            "Speed: 0.1ms preprocess, 0.2ms inference, 0.0ms loss, 0.0ms postprocess per image\n",
            "Results saved to \u001b[1mruns/classify/train\u001b[0m\n"
          ]
        }
      ],
      "source": [
        "from ultralytics import YOLO\n",
        "\n",
        "# Load a model\n",
        "model = YOLO(\"yolo11n-cls.yaml\")  # build a new model from YAML\n",
        "model = YOLO(\"yolo11n-cls.pt\")  # load a pretrained model (recommended for training)\n",
        "model = YOLO(\"yolo11n-cls.yaml\").load(\"yolo11n-cls.pt\")  # build from YAML and transfer weights\n",
        "\n",
        "# Train the model\n",
        "results = model.train(data='/content/drive/MyDrive/TypeCoffee.v25i.folder/', epochs=100, batch=32, imgsz=256)"
      ]
    },
    {
      "cell_type": "code",
      "execution_count": 5,
      "metadata": {
        "colab": {
          "base_uri": "https://localhost:8080/"
        },
        "id": "BAFXnd2JSf6d",
        "outputId": "c7454270-2f83-4c08-8931-e67488c7ae34"
      },
      "outputs": [
        {
          "output_type": "stream",
          "name": "stdout",
          "text": [
            "Ultralytics 8.3.159 🚀 Python-3.11.13 torch-2.6.0+cu124 CUDA:0 (Tesla T4, 15095MiB)\n",
            "YOLO11n-cls summary (fused): 47 layers, 1,532,429 parameters, 0 gradients, 3.2 GFLOPs\n",
            "\u001b[34m\u001b[1mtrain:\u001b[0m /content/drive/MyDrive/TypeCoffee.v25i.folder/train... found 1049 images in 5 classes ✅ \n",
            "\u001b[34m\u001b[1mval:\u001b[0m /content/drive/MyDrive/TypeCoffee.v25i.folder/val... found 60 images in 5 classes ✅ \n",
            "\u001b[34m\u001b[1mtest:\u001b[0m /content/drive/MyDrive/TypeCoffee.v25i.folder/test... found 100 images in 5 classes ✅ \n",
            "\u001b[34m\u001b[1mtest: \u001b[0mFast image access ✅ (ping: 0.3±0.1 ms, read: 0.0±0.0 MB/s, size: 23.3 KB)\n"
          ]
        },
        {
          "output_type": "stream",
          "name": "stderr",
          "text": [
            "\u001b[34m\u001b[1mtest: \u001b[0mScanning /content/drive/MyDrive/TypeCoffee.v25i.folder/test... 100 images, 0 corrupt: 100%|██████████| 100/100 [00:00<?, ?it/s]\n",
            "               classes   top1_acc   top5_acc: 100%|██████████| 4/4 [00:13<00:00,  3.47s/it]\n"
          ]
        },
        {
          "output_type": "stream",
          "name": "stdout",
          "text": [
            "                   all       0.93          1\n",
            "Speed: 0.3ms preprocess, 2.1ms inference, 0.0ms loss, 0.0ms postprocess per image\n",
            "Results saved to \u001b[1mruns/classify/train2\u001b[0m\n"
          ]
        },
        {
          "output_type": "execute_result",
          "data": {
            "text/plain": [
              "1.0"
            ]
          },
          "metadata": {},
          "execution_count": 5
        }
      ],
      "source": [
        "#from ultralytics import YOLO\n",
        "\n",
        "# Load a model\n",
        "#model = YOLO(\"yolo11m-cls.pt\")  # load an official model\n",
        "#model = YOLO(\"/content/runs/classify/train95/weights/best.pt\")  # load a custom model\n",
        "\n",
        "# Validate the model\n",
        "metrics = model.val(data='/content/drive/MyDrive/TypeCoffee.v25i.folder/', split='test')  # no arguments needed, dataset and settings remembered\n",
        "metrics.top1  # top1 accuracy\n",
        "metrics.top5  # top5 accuracy"
      ]
    },
    {
      "cell_type": "code",
      "execution_count": 6,
      "metadata": {
        "colab": {
          "base_uri": "https://localhost:8080/"
        },
        "id": "4dQtOFhvZZH3",
        "outputId": "f89758ec-5ddb-4506-bd34-7513d40bbf3e"
      },
      "outputs": [
        {
          "output_type": "stream",
          "name": "stdout",
          "text": [
            "Resultados da avaliação: ultralytics.utils.metrics.ClassifyMetrics object with attributes:\n",
            "\n",
            "confusion_matrix: <ultralytics.utils.metrics.ConfusionMatrix object at 0x7f2965c00350>\n",
            "curves: []\n",
            "curves_results: []\n",
            "fitness: 0.9650000035762787\n",
            "keys: ['metrics/accuracy_top1', 'metrics/accuracy_top5']\n",
            "results_dict: {'metrics/accuracy_top1': 0.9300000071525574, 'metrics/accuracy_top5': 1.0, 'fitness': 0.9650000035762787}\n",
            "save_dir: PosixPath('runs/classify/train2')\n",
            "speed: {'preprocess': 0.2517117000024882, 'inference': 2.0575765500029775, 'loss': 0.0009506900005362695, 'postprocess': 0.026201769996987423}\n",
            "task: 'classify'\n",
            "top1: 0.9300000071525574\n",
            "top5: 1.0\n"
          ]
        }
      ],
      "source": [
        "print(\"Resultados da avaliação:\", metrics)"
      ]
    },
    {
      "cell_type": "code",
      "execution_count": null,
      "metadata": {
        "colab": {
          "base_uri": "https://localhost:8080/"
        },
        "id": "atuiJqKCuuuy",
        "outputId": "5b2f35eb-699a-427c-dd2c-10975493fbb6"
      },
      "outputs": [
        {
          "output_type": "stream",
          "name": "stdout",
          "text": [
            "\n",
            "image 1/1 /content/drive/MyDrive/TypeCoffee.v28i.folder/train/Mole/40Mole_jpeg.rf.fc8ff5f87b55e3a063730a36887a401c.jpg: 256x256 Mole 1.00, RioFechado 0.00, DuroRiadoRio 0.00, RiadoRio 0.00, Quebrado 0.00, 4.7ms\n",
            "Speed: 3.8ms preprocess, 4.7ms inference, 0.1ms postprocess per image at shape (1, 3, 256, 256)\n",
            "Results saved to \u001b[1mruns/classify/train33\u001b[0m\n",
            "\n",
            "image 1/1 /content/drive/MyDrive/TypeCoffee.v28i.folder/train/Mole/29Mole_jpeg.rf.2085340c8194d9e49c217b19d26855c4.jpg: 256x256 Mole 0.99, RiadoRio 0.01, DuroRiadoRio 0.00, RioFechado 0.00, Quebrado 0.00, 5.7ms\n",
            "Speed: 2.7ms preprocess, 5.7ms inference, 0.1ms postprocess per image at shape (1, 3, 256, 256)\n",
            "Results saved to \u001b[1mruns/classify/train34\u001b[0m\n",
            "\n",
            "image 1/1 /content/drive/MyDrive/TypeCoffee.v28i.folder/train/Mole/41Mole_jpeg.rf.fc72dc837a4447c5401f89c964f7f2b0.jpg: 256x256 Mole 1.00, DuroRiadoRio 0.00, RioFechado 0.00, RiadoRio 0.00, Quebrado 0.00, 4.8ms\n",
            "Speed: 2.0ms preprocess, 4.8ms inference, 0.1ms postprocess per image at shape (1, 3, 256, 256)\n",
            "Results saved to \u001b[1mruns/classify/train35\u001b[0m\n",
            "\n",
            "image 1/1 /content/drive/MyDrive/TypeCoffee.v28i.folder/train/Mole/48Mole_jpeg.rf.c9797b084f22b93a804e8cdda2f159fc.jpg: 256x256 Mole 1.00, DuroRiadoRio 0.00, RioFechado 0.00, RiadoRio 0.00, Quebrado 0.00, 4.7ms\n",
            "Speed: 2.9ms preprocess, 4.7ms inference, 0.1ms postprocess per image at shape (1, 3, 256, 256)\n",
            "Results saved to \u001b[1mruns/classify/train36\u001b[0m\n",
            "\n",
            "image 1/1 /content/drive/MyDrive/TypeCoffee.v28i.folder/train/Mole/28Mole_jpeg.rf.e2b4c774ff24357906ae25c81ffb933e.jpg: 256x256 Mole 1.00, RiadoRio 0.00, DuroRiadoRio 0.00, RioFechado 0.00, Quebrado 0.00, 4.8ms\n",
            "Speed: 2.4ms preprocess, 4.8ms inference, 0.1ms postprocess per image at shape (1, 3, 256, 256)\n",
            "Results saved to \u001b[1mruns/classify/train37\u001b[0m\n",
            "\n",
            "image 1/1 /content/drive/MyDrive/TypeCoffee.v28i.folder/train/Mole/Mole008_jpeg.rf.4e6ae3f6739226f160baa54e060cc9b1.jpg: 256x256 DuroRiadoRio 0.75, Mole 0.25, RiadoRio 0.00, RioFechado 0.00, Quebrado 0.00, 4.7ms\n",
            "Speed: 3.1ms preprocess, 4.7ms inference, 0.1ms postprocess per image at shape (1, 3, 256, 256)\n",
            "Results saved to \u001b[1mruns/classify/train38\u001b[0m\n",
            "\n",
            "image 1/1 /content/drive/MyDrive/TypeCoffee.v28i.folder/train/Mole/WhatsApp-Image-2024-09-06-at-11-30-42_jpeg.rf.4b4025dde160eb03768f34a57ba7eb40.jpg: 256x256 Mole 1.00, DuroRiadoRio 0.00, RiadoRio 0.00, Quebrado 0.00, RioFechado 0.00, 6.4ms\n",
            "Speed: 2.4ms preprocess, 6.4ms inference, 0.1ms postprocess per image at shape (1, 3, 256, 256)\n",
            "Results saved to \u001b[1mruns/classify/train39\u001b[0m\n",
            "\n",
            "image 1/1 /content/drive/MyDrive/TypeCoffee.v28i.folder/train/Mole/16Mole_jpeg.rf.65ea6c151704ba077eb5517428498932.jpg: 256x256 Mole 0.91, RiadoRio 0.09, DuroRiadoRio 0.00, RioFechado 0.00, Quebrado 0.00, 5.5ms\n",
            "Speed: 2.3ms preprocess, 5.5ms inference, 0.1ms postprocess per image at shape (1, 3, 256, 256)\n",
            "Results saved to \u001b[1mruns/classify/train310\u001b[0m\n",
            "\n",
            "image 1/1 /content/drive/MyDrive/TypeCoffee.v28i.folder/train/Mole/Mole010_jpeg.rf.8735da7f5d5c753b2d822b07607cd678.jpg: 256x256 DuroRiadoRio 0.50, Mole 0.49, RiadoRio 0.01, RioFechado 0.00, Quebrado 0.00, 4.7ms\n",
            "Speed: 2.0ms preprocess, 4.7ms inference, 0.1ms postprocess per image at shape (1, 3, 256, 256)\n",
            "Results saved to \u001b[1mruns/classify/train311\u001b[0m\n",
            "\n",
            "image 1/1 /content/drive/MyDrive/TypeCoffee.v28i.folder/train/Mole/02Mole_jpeg.rf.57961021da84c985331f747aa596d1dd.jpg: 256x256 DuroRiadoRio 0.83, Mole 0.17, RioFechado 0.00, RiadoRio 0.00, Quebrado 0.00, 4.7ms\n",
            "Speed: 2.0ms preprocess, 4.7ms inference, 0.1ms postprocess per image at shape (1, 3, 256, 256)\n",
            "Results saved to \u001b[1mruns/classify/train312\u001b[0m\n",
            "\n",
            "image 1/1 /content/drive/MyDrive/TypeCoffee.v28i.folder/train/Mole/WhatsApp-Image-2024-05-09-at-12-46-41-1-_jpeg.rf.49bf411c51717e70458f5ae532daeb83.jpg: 256x256 Mole 1.00, DuroRiadoRio 0.00, RiadoRio 0.00, RioFechado 0.00, Quebrado 0.00, 5.2ms\n",
            "Speed: 2.3ms preprocess, 5.2ms inference, 0.1ms postprocess per image at shape (1, 3, 256, 256)\n",
            "Results saved to \u001b[1mruns/classify/train313\u001b[0m\n",
            "\n",
            "image 1/1 /content/drive/MyDrive/TypeCoffee.v28i.folder/train/Mole/47Mole_jpeg.rf.ce31e6cb9c6701d1033004e6c0be6da8.jpg: 256x256 Mole 1.00, DuroRiadoRio 0.00, RioFechado 0.00, RiadoRio 0.00, Quebrado 0.00, 4.9ms\n",
            "Speed: 2.1ms preprocess, 4.9ms inference, 0.1ms postprocess per image at shape (1, 3, 256, 256)\n",
            "Results saved to \u001b[1mruns/classify/train314\u001b[0m\n",
            "\n",
            "image 1/1 /content/drive/MyDrive/TypeCoffee.v28i.folder/train/Mole/21Mole_jpeg.rf.f3d632d279d0e93c8da1015c2fa31f11.jpg: 256x256 Mole 1.00, RiadoRio 0.00, DuroRiadoRio 0.00, RioFechado 0.00, Quebrado 0.00, 4.8ms\n",
            "Speed: 2.5ms preprocess, 4.8ms inference, 0.1ms postprocess per image at shape (1, 3, 256, 256)\n",
            "Results saved to \u001b[1mruns/classify/train315\u001b[0m\n",
            "\n",
            "image 1/1 /content/drive/MyDrive/TypeCoffee.v28i.folder/train/Mole/32Mole_jpeg.rf.d6ae49cb230d163f12abc3ec401c2611.jpg: 256x256 Mole 0.78, DuroRiadoRio 0.22, RioFechado 0.00, RiadoRio 0.00, Quebrado 0.00, 5.0ms\n",
            "Speed: 2.3ms preprocess, 5.0ms inference, 0.1ms postprocess per image at shape (1, 3, 256, 256)\n",
            "Results saved to \u001b[1mruns/classify/train316\u001b[0m\n",
            "\n",
            "image 1/1 /content/drive/MyDrive/TypeCoffee.v28i.folder/train/Mole/WhatsApp-Image-2024-09-06-at-11-30-40_jpeg.rf.44d7363710775a5ad8939b4c40b16ae6.jpg: 256x256 Mole 0.99, DuroRiadoRio 0.01, RiadoRio 0.01, RioFechado 0.00, Quebrado 0.00, 5.7ms\n",
            "Speed: 2.4ms preprocess, 5.7ms inference, 0.1ms postprocess per image at shape (1, 3, 256, 256)\n",
            "Results saved to \u001b[1mruns/classify/train317\u001b[0m\n",
            "\n",
            "image 1/1 /content/drive/MyDrive/TypeCoffee.v28i.folder/train/Mole/49Mole_jpeg.rf.d14eec8842e7ec0f58f1d693bf6b01a9.jpg: 256x256 Mole 1.00, RioFechado 0.00, DuroRiadoRio 0.00, RiadoRio 0.00, Quebrado 0.00, 4.8ms\n",
            "Speed: 2.0ms preprocess, 4.8ms inference, 0.1ms postprocess per image at shape (1, 3, 256, 256)\n",
            "Results saved to \u001b[1mruns/classify/train318\u001b[0m\n",
            "\n",
            "image 1/1 /content/drive/MyDrive/TypeCoffee.v28i.folder/train/Mole/15Mole_jpeg.rf.f247e37bd664702109edc5ef20e1d430.jpg: 256x256 DuroRiadoRio 0.85, Mole 0.14, RiadoRio 0.02, RioFechado 0.00, Quebrado 0.00, 6.4ms\n",
            "Speed: 2.4ms preprocess, 6.4ms inference, 0.1ms postprocess per image at shape (1, 3, 256, 256)\n",
            "Results saved to \u001b[1mruns/classify/train319\u001b[0m\n",
            "\n",
            "image 1/1 /content/drive/MyDrive/TypeCoffee.v28i.folder/train/Mole/WhatsApp-Image-2024-05-09-at-12-46-41-3-_jpeg.rf.c005e3e4ed4fbeb6f0e368dc2dd8296b.jpg: 256x256 Mole 1.00, RiadoRio 0.00, DuroRiadoRio 0.00, RioFechado 0.00, Quebrado 0.00, 4.7ms\n",
            "Speed: 2.2ms preprocess, 4.7ms inference, 0.1ms postprocess per image at shape (1, 3, 256, 256)\n",
            "Results saved to \u001b[1mruns/classify/train320\u001b[0m\n",
            "\n",
            "image 1/1 /content/drive/MyDrive/TypeCoffee.v28i.folder/train/Mole/33Mole_jpeg.rf.525471f984069301cee92367f6d5e9ab.jpg: 256x256 Mole 0.99, DuroRiadoRio 0.01, RioFechado 0.00, RiadoRio 0.00, Quebrado 0.00, 4.8ms\n",
            "Speed: 2.2ms preprocess, 4.8ms inference, 0.1ms postprocess per image at shape (1, 3, 256, 256)\n",
            "Results saved to \u001b[1mruns/classify/train321\u001b[0m\n",
            "\n",
            "image 1/1 /content/drive/MyDrive/TypeCoffee.v28i.folder/train/Mole/WhatsApp-Image-2024-09-06-at-11-30-41_jpeg.rf.4340fbcfeb6cb8a6eed91ec8e6499dbe.jpg: 256x256 Mole 1.00, RiadoRio 0.00, DuroRiadoRio 0.00, RioFechado 0.00, Quebrado 0.00, 4.9ms\n",
            "Speed: 2.1ms preprocess, 4.9ms inference, 0.1ms postprocess per image at shape (1, 3, 256, 256)\n",
            "Results saved to \u001b[1mruns/classify/train322\u001b[0m\n",
            "\n",
            "image 1/1 /content/drive/MyDrive/TypeCoffee.v28i.folder/train/Mole/39Mole_jpeg.rf.6a8bf7063d2d23628d3912c74da20022.jpg: 256x256 Mole 1.00, DuroRiadoRio 0.00, RioFechado 0.00, RiadoRio 0.00, Quebrado 0.00, 5.1ms\n",
            "Speed: 2.3ms preprocess, 5.1ms inference, 0.1ms postprocess per image at shape (1, 3, 256, 256)\n",
            "Results saved to \u001b[1mruns/classify/train323\u001b[0m\n",
            "\n",
            "image 1/1 /content/drive/MyDrive/TypeCoffee.v28i.folder/train/Mole/WhatsApp-Image-2024-05-09-at-12-46-39-2-_jpeg.rf.2d77671feea0ff637f1108dc9946cb0a.jpg: 256x256 Mole 0.64, RiadoRio 0.36, DuroRiadoRio 0.00, RioFechado 0.00, Quebrado 0.00, 4.7ms\n",
            "Speed: 2.1ms preprocess, 4.7ms inference, 0.1ms postprocess per image at shape (1, 3, 256, 256)\n",
            "Results saved to \u001b[1mruns/classify/train324\u001b[0m\n",
            "\n",
            "image 1/1 /content/drive/MyDrive/TypeCoffee.v28i.folder/train/Mole/42Mole_jpeg.rf.120de6acfcb44582830951662fffe335.jpg: 256x256 Mole 1.00, DuroRiadoRio 0.00, RioFechado 0.00, RiadoRio 0.00, Quebrado 0.00, 6.3ms\n",
            "Speed: 2.1ms preprocess, 6.3ms inference, 0.1ms postprocess per image at shape (1, 3, 256, 256)\n",
            "Results saved to \u001b[1mruns/classify/train325\u001b[0m\n",
            "\n",
            "image 1/1 /content/drive/MyDrive/TypeCoffee.v28i.folder/train/Mole/WhatsApp-Image-2024-09-06-at-11-30-45-3-_jpeg.rf.960dcf05ea18ef96c9d4b14dac4c78ad.jpg: 256x256 Mole 1.00, RiadoRio 0.00, DuroRiadoRio 0.00, RioFechado 0.00, Quebrado 0.00, 5.1ms\n",
            "Speed: 2.1ms preprocess, 5.1ms inference, 0.1ms postprocess per image at shape (1, 3, 256, 256)\n",
            "Results saved to \u001b[1mruns/classify/train326\u001b[0m\n",
            "\n",
            "image 1/1 /content/drive/MyDrive/TypeCoffee.v28i.folder/train/Mole/WhatsApp-Image-2024-09-06-at-11-30-44-2-_jpeg.rf.f5265022338bf657a2b0252a4601f5de.jpg: 256x256 Mole 1.00, RiadoRio 0.00, DuroRiadoRio 0.00, RioFechado 0.00, Quebrado 0.00, 4.9ms\n",
            "Speed: 2.1ms preprocess, 4.9ms inference, 0.1ms postprocess per image at shape (1, 3, 256, 256)\n",
            "Results saved to \u001b[1mruns/classify/train327\u001b[0m\n",
            "\n",
            "image 1/1 /content/drive/MyDrive/TypeCoffee.v28i.folder/train/Mole/22Mole_jpeg.rf.3cf1fcb52172d497b768eee38b82289f.jpg: 256x256 Mole 0.93, RiadoRio 0.07, DuroRiadoRio 0.00, RioFechado 0.00, Quebrado 0.00, 5.1ms\n",
            "Speed: 2.1ms preprocess, 5.1ms inference, 0.1ms postprocess per image at shape (1, 3, 256, 256)\n",
            "Results saved to \u001b[1mruns/classify/train328\u001b[0m\n",
            "\n",
            "image 1/1 /content/drive/MyDrive/TypeCoffee.v28i.folder/train/Mole/24Mole_jpeg.rf.4dd5c4369ef7d30e6480c9e6f860398b.jpg: 256x256 Mole 1.00, RiadoRio 0.00, DuroRiadoRio 0.00, RioFechado 0.00, Quebrado 0.00, 4.8ms\n",
            "Speed: 2.1ms preprocess, 4.8ms inference, 0.1ms postprocess per image at shape (1, 3, 256, 256)\n",
            "Results saved to \u001b[1mruns/classify/train329\u001b[0m\n",
            "\n",
            "image 1/1 /content/drive/MyDrive/TypeCoffee.v28i.folder/train/Mole/10Mole_jpeg.rf.b8ea0e7261e1575526dc4f8e3365dca4.jpg: 256x256 Mole 0.83, DuroRiadoRio 0.17, RioFechado 0.00, RiadoRio 0.00, Quebrado 0.00, 4.8ms\n",
            "Speed: 2.0ms preprocess, 4.8ms inference, 0.1ms postprocess per image at shape (1, 3, 256, 256)\n",
            "Results saved to \u001b[1mruns/classify/train330\u001b[0m\n",
            "\n",
            "image 1/1 /content/drive/MyDrive/TypeCoffee.v28i.folder/train/Mole/WhatsApp-Image-2024-05-09-at-12-46-40_jpeg.rf.6f2207cc10abe5f3615ca3c07212c0be.jpg: 256x256 Mole 0.91, DuroRiadoRio 0.09, RiadoRio 0.00, RioFechado 0.00, Quebrado 0.00, 5.1ms\n",
            "Speed: 2.2ms preprocess, 5.1ms inference, 0.1ms postprocess per image at shape (1, 3, 256, 256)\n",
            "Results saved to \u001b[1mruns/classify/train331\u001b[0m\n",
            "\n",
            "image 1/1 /content/drive/MyDrive/TypeCoffee.v28i.folder/train/Mole/Mole003_jpeg.rf.a3aa6afad8eeff8c9ac6399ded42f0e9.jpg: 256x256 DuroRiadoRio 0.97, Mole 0.03, RiadoRio 0.00, RioFechado 0.00, Quebrado 0.00, 4.9ms\n",
            "Speed: 2.1ms preprocess, 4.9ms inference, 0.1ms postprocess per image at shape (1, 3, 256, 256)\n",
            "Results saved to \u001b[1mruns/classify/train332\u001b[0m\n",
            "\n",
            "image 1/1 /content/drive/MyDrive/TypeCoffee.v28i.folder/train/Mole/WhatsApp-Image-2024-09-06-at-11-30-46_jpeg.rf.11a6bd3ceb0e94bb6c508b38ecd75fcf.jpg: 256x256 Mole 0.87, DuroRiadoRio 0.10, RiadoRio 0.03, RioFechado 0.00, Quebrado 0.00, 4.7ms\n",
            "Speed: 2.1ms preprocess, 4.7ms inference, 0.1ms postprocess per image at shape (1, 3, 256, 256)\n",
            "Results saved to \u001b[1mruns/classify/train333\u001b[0m\n",
            "\n",
            "image 1/1 /content/drive/MyDrive/TypeCoffee.v28i.folder/train/Mole/WhatsApp-Image-2024-09-06-at-11-30-45_jpeg.rf.9c5a075deb7a006fe16f0c70228e7d22.jpg: 256x256 Mole 1.00, RiadoRio 0.00, DuroRiadoRio 0.00, RioFechado 0.00, Quebrado 0.00, 5.9ms\n",
            "Speed: 2.3ms preprocess, 5.9ms inference, 0.1ms postprocess per image at shape (1, 3, 256, 256)\n",
            "Results saved to \u001b[1mruns/classify/train334\u001b[0m\n",
            "\n",
            "image 1/1 /content/drive/MyDrive/TypeCoffee.v28i.folder/train/Mole/38Mole_jpeg.rf.7018764e93bbf59654f357277105e9d7.jpg: 256x256 Mole 0.61, DuroRiadoRio 0.38, RiadoRio 0.00, RioFechado 0.00, Quebrado 0.00, 4.8ms\n",
            "Speed: 2.2ms preprocess, 4.8ms inference, 0.1ms postprocess per image at shape (1, 3, 256, 256)\n",
            "Results saved to \u001b[1mruns/classify/train335\u001b[0m\n",
            "\n",
            "image 1/1 /content/drive/MyDrive/TypeCoffee.v28i.folder/train/Mole/Mole009_jpeg.rf.8acc5860162416036b0f4e5f725ba0e2.jpg: 256x256 Mole 1.00, RiadoRio 0.00, DuroRiadoRio 0.00, RioFechado 0.00, Quebrado 0.00, 5.0ms\n",
            "Speed: 2.2ms preprocess, 5.0ms inference, 0.1ms postprocess per image at shape (1, 3, 256, 256)\n",
            "Results saved to \u001b[1mruns/classify/train336\u001b[0m\n",
            "\n",
            "image 1/1 /content/drive/MyDrive/TypeCoffee.v28i.folder/train/Mole/37Mole_jpeg.rf.02c5610ad7dd5711ed9d62f12018ef0f.jpg: 256x256 Mole 0.93, DuroRiadoRio 0.07, RiadoRio 0.00, RioFechado 0.00, Quebrado 0.00, 4.8ms\n",
            "Speed: 2.0ms preprocess, 4.8ms inference, 0.1ms postprocess per image at shape (1, 3, 256, 256)\n",
            "Results saved to \u001b[1mruns/classify/train337\u001b[0m\n",
            "\n",
            "image 1/1 /content/drive/MyDrive/TypeCoffee.v28i.folder/train/Mole/WhatsApp-Image-2024-05-09-at-12-46-39-1-_jpeg.rf.d22f44fca76650a8147c6a9280b0eea1.jpg: 256x256 Mole 1.00, RiadoRio 0.00, DuroRiadoRio 0.00, RioFechado 0.00, Quebrado 0.00, 4.7ms\n",
            "Speed: 2.1ms preprocess, 4.7ms inference, 0.1ms postprocess per image at shape (1, 3, 256, 256)\n",
            "Results saved to \u001b[1mruns/classify/train338\u001b[0m\n",
            "\n",
            "image 1/1 /content/drive/MyDrive/TypeCoffee.v28i.folder/train/Mole/20Mole_jpeg.rf.97638cb2adee4357c9403ca329b27e69.jpg: 256x256 Mole 0.98, RiadoRio 0.02, DuroRiadoRio 0.00, RioFechado 0.00, Quebrado 0.00, 4.8ms\n",
            "Speed: 1.9ms preprocess, 4.8ms inference, 0.1ms postprocess per image at shape (1, 3, 256, 256)\n",
            "Results saved to \u001b[1mruns/classify/train339\u001b[0m\n",
            "\n",
            "image 1/1 /content/drive/MyDrive/TypeCoffee.v28i.folder/train/Mole/Mole002_jpeg.rf.ffcb69147047ae3ea100eda282e811e4.jpg: 256x256 Mole 0.67, DuroRiadoRio 0.33, RiadoRio 0.00, RioFechado 0.00, Quebrado 0.00, 6.1ms\n",
            "Speed: 2.4ms preprocess, 6.1ms inference, 0.1ms postprocess per image at shape (1, 3, 256, 256)\n",
            "Results saved to \u001b[1mruns/classify/train340\u001b[0m\n",
            "\n",
            "image 1/1 /content/drive/MyDrive/TypeCoffee.v28i.folder/train/Mole/34Mole_jpeg.rf.241e42b2f064ffbd26cff6d514cbcbd7.jpg: 256x256 Mole 1.00, DuroRiadoRio 0.00, RiadoRio 0.00, RioFechado 0.00, Quebrado 0.00, 5.1ms\n",
            "Speed: 2.2ms preprocess, 5.1ms inference, 0.1ms postprocess per image at shape (1, 3, 256, 256)\n",
            "Results saved to \u001b[1mruns/classify/train341\u001b[0m\n",
            "\n",
            "image 1/1 /content/drive/MyDrive/TypeCoffee.v28i.folder/train/Mole/25Mole_jpeg.rf.a6f09c68e377d5ad2dcdd1f3981d7018.jpg: 256x256 Mole 1.00, RiadoRio 0.00, DuroRiadoRio 0.00, RioFechado 0.00, Quebrado 0.00, 4.9ms\n",
            "Speed: 2.1ms preprocess, 4.9ms inference, 0.1ms postprocess per image at shape (1, 3, 256, 256)\n",
            "Results saved to \u001b[1mruns/classify/train342\u001b[0m\n",
            "\n",
            "image 1/1 /content/drive/MyDrive/TypeCoffee.v28i.folder/train/Mole/WhatsApp-Image-2024-09-06-at-11-30-45-1-_jpeg.rf.3aaf4cd44acf4e1f63bbaf495ce54bc5.jpg: 256x256 Mole 0.98, DuroRiadoRio 0.02, RiadoRio 0.00, RioFechado 0.00, Quebrado 0.00, 6.2ms\n",
            "Speed: 2.1ms preprocess, 6.2ms inference, 0.1ms postprocess per image at shape (1, 3, 256, 256)\n",
            "Results saved to \u001b[1mruns/classify/train343\u001b[0m\n",
            "\n",
            "image 1/1 /content/drive/MyDrive/TypeCoffee.v28i.folder/train/Mole/45Mole_jpeg.rf.5bf258538a3188b9c3e35e3897afd89b.jpg: 256x256 Mole 1.00, RioFechado 0.00, DuroRiadoRio 0.00, RiadoRio 0.00, Quebrado 0.00, 5.6ms\n",
            "Speed: 2.3ms preprocess, 5.6ms inference, 0.1ms postprocess per image at shape (1, 3, 256, 256)\n",
            "Results saved to \u001b[1mruns/classify/train344\u001b[0m\n",
            "\n",
            "image 1/1 /content/drive/MyDrive/TypeCoffee.v28i.folder/train/Mole/30Mole_jpeg.rf.ab2d1064c0cf4bf6809b5e05ebcded99.jpg: 256x256 Mole 0.99, RiadoRio 0.01, DuroRiadoRio 0.00, RioFechado 0.00, Quebrado 0.00, 6.5ms\n",
            "Speed: 2.2ms preprocess, 6.5ms inference, 0.1ms postprocess per image at shape (1, 3, 256, 256)\n",
            "Results saved to \u001b[1mruns/classify/train345\u001b[0m\n",
            "\n",
            "image 1/1 /content/drive/MyDrive/TypeCoffee.v28i.folder/train/Mole/WhatsApp-Image-2024-05-09-at-12-46-39-3-_jpeg.rf.7c21b98baaad16f7baa56e4438f66f24.jpg: 256x256 Mole 1.00, RiadoRio 0.00, DuroRiadoRio 0.00, RioFechado 0.00, Quebrado 0.00, 6.0ms\n",
            "Speed: 2.4ms preprocess, 6.0ms inference, 0.1ms postprocess per image at shape (1, 3, 256, 256)\n",
            "Results saved to \u001b[1mruns/classify/train346\u001b[0m\n",
            "\n",
            "image 1/1 /content/drive/MyDrive/TypeCoffee.v28i.folder/train/Mole/WhatsApp-Image-2024-09-06-at-11-30-40-1-_jpeg.rf.6099a5c52f3ebb8e8e393fd34eb79186.jpg: 256x256 Mole 0.87, RiadoRio 0.13, DuroRiadoRio 0.00, RioFechado 0.00, Quebrado 0.00, 5.1ms\n",
            "Speed: 2.1ms preprocess, 5.1ms inference, 0.1ms postprocess per image at shape (1, 3, 256, 256)\n",
            "Results saved to \u001b[1mruns/classify/train347\u001b[0m\n",
            "\n",
            "image 1/1 /content/drive/MyDrive/TypeCoffee.v28i.folder/train/Mole/03Mole_jpeg.rf.3e97b575bfcec2bcad4d693b125f2261.jpg: 256x256 Mole 1.00, RiadoRio 0.00, DuroRiadoRio 0.00, RioFechado 0.00, Quebrado 0.00, 4.8ms\n",
            "Speed: 2.0ms preprocess, 4.8ms inference, 0.1ms postprocess per image at shape (1, 3, 256, 256)\n",
            "Results saved to \u001b[1mruns/classify/train348\u001b[0m\n",
            "\n",
            "image 1/1 /content/drive/MyDrive/TypeCoffee.v28i.folder/train/Mole/23Mole_jpeg.rf.c1d0aa9e756e6d1181684aac33e7dd77.jpg: 256x256 Mole 0.99, RiadoRio 0.01, DuroRiadoRio 0.00, RioFechado 0.00, Quebrado 0.00, 6.1ms\n",
            "Speed: 2.2ms preprocess, 6.1ms inference, 0.1ms postprocess per image at shape (1, 3, 256, 256)\n",
            "Results saved to \u001b[1mruns/classify/train349\u001b[0m\n",
            "\n",
            "image 1/1 /content/drive/MyDrive/TypeCoffee.v28i.folder/train/Mole/WhatsApp-Image-2024-09-06-at-11-30-43_jpeg.rf.00f4a3ba86d3d6474a3dc71e6829a3b9.jpg: 256x256 Mole 1.00, DuroRiadoRio 0.00, RiadoRio 0.00, RioFechado 0.00, Quebrado 0.00, 5.2ms\n",
            "Speed: 2.3ms preprocess, 5.2ms inference, 0.1ms postprocess per image at shape (1, 3, 256, 256)\n",
            "Results saved to \u001b[1mruns/classify/train350\u001b[0m\n",
            "\n",
            "image 1/1 /content/drive/MyDrive/TypeCoffee.v28i.folder/train/Mole/17Mole_jpeg.rf.b66ab9c447fd7527e313add9b8947721.jpg: 256x256 Mole 0.89, RiadoRio 0.11, DuroRiadoRio 0.00, RioFechado 0.00, Quebrado 0.00, 5.9ms\n",
            "Speed: 2.3ms preprocess, 5.9ms inference, 0.1ms postprocess per image at shape (1, 3, 256, 256)\n",
            "Results saved to \u001b[1mruns/classify/train351\u001b[0m\n",
            "\n",
            "image 1/1 /content/drive/MyDrive/TypeCoffee.v28i.folder/train/Mole/14Mole_jpeg.rf.9df8edec6460dc0c4bce186a9d420de1.jpg: 256x256 DuroRiadoRio 0.94, Mole 0.05, RiadoRio 0.00, RioFechado 0.00, Quebrado 0.00, 4.6ms\n",
            "Speed: 2.1ms preprocess, 4.6ms inference, 0.1ms postprocess per image at shape (1, 3, 256, 256)\n",
            "Results saved to \u001b[1mruns/classify/train352\u001b[0m\n",
            "\n",
            "image 1/1 /content/drive/MyDrive/TypeCoffee.v28i.folder/train/Mole/09Mole_jpeg.rf.5194fecb2cee3b32fb905479edec71d8.jpg: 256x256 Mole 0.79, DuroRiadoRio 0.21, RioFechado 0.00, RiadoRio 0.00, Quebrado 0.00, 4.8ms\n",
            "Speed: 2.0ms preprocess, 4.8ms inference, 0.1ms postprocess per image at shape (1, 3, 256, 256)\n",
            "Results saved to \u001b[1mruns/classify/train353\u001b[0m\n",
            "\n",
            "image 1/1 /content/drive/MyDrive/TypeCoffee.v28i.folder/train/Mole/WhatsApp-Image-2024-05-09-at-12-46-41-2-_jpeg.rf.fa4bbef2c4f5e0c41ce9d74ed9a80c1c.jpg: 256x256 Mole 1.00, RiadoRio 0.00, DuroRiadoRio 0.00, RioFechado 0.00, Quebrado 0.00, 5.3ms\n",
            "Speed: 2.2ms preprocess, 5.3ms inference, 0.1ms postprocess per image at shape (1, 3, 256, 256)\n",
            "Results saved to \u001b[1mruns/classify/train354\u001b[0m\n",
            "\n",
            "image 1/1 /content/drive/MyDrive/TypeCoffee.v28i.folder/train/Mole/07Mole_jpeg.rf.80d975fbac42ea77ffe088fdbf42f6d6.jpg: 256x256 Mole 0.87, RiadoRio 0.09, DuroRiadoRio 0.04, RioFechado 0.00, Quebrado 0.00, 5.7ms\n",
            "Speed: 2.1ms preprocess, 5.7ms inference, 0.1ms postprocess per image at shape (1, 3, 256, 256)\n",
            "Results saved to \u001b[1mruns/classify/train355\u001b[0m\n",
            "\n",
            "image 1/1 /content/drive/MyDrive/TypeCoffee.v28i.folder/train/Mole/36Mole_jpeg.rf.6d4f8d93a4a1f1de0c1b25f9c39366bd.jpg: 256x256 Mole 1.00, DuroRiadoRio 0.00, RioFechado 0.00, RiadoRio 0.00, Quebrado 0.00, 4.8ms\n",
            "Speed: 2.1ms preprocess, 4.8ms inference, 0.1ms postprocess per image at shape (1, 3, 256, 256)\n",
            "Results saved to \u001b[1mruns/classify/train356\u001b[0m\n",
            "\n",
            "image 1/1 /content/drive/MyDrive/TypeCoffee.v28i.folder/train/Mole/Mole001_jpeg.rf.5423e4544185fe5023f45363329b6c61.jpg: 256x256 Mole 1.00, RiadoRio 0.00, DuroRiadoRio 0.00, RioFechado 0.00, Quebrado 0.00, 4.7ms\n",
            "Speed: 2.0ms preprocess, 4.7ms inference, 0.1ms postprocess per image at shape (1, 3, 256, 256)\n",
            "Results saved to \u001b[1mruns/classify/train357\u001b[0m\n",
            "\n",
            "image 1/1 /content/drive/MyDrive/TypeCoffee.v28i.folder/train/Mole/WhatsApp-Image-2024-09-06-at-11-30-42-1-_jpeg.rf.87abe70c2eef7e11890b63813e318449.jpg: 256x256 Mole 1.00, RiadoRio 0.00, DuroRiadoRio 0.00, RioFechado 0.00, Quebrado 0.00, 4.9ms\n",
            "Speed: 2.1ms preprocess, 4.9ms inference, 0.1ms postprocess per image at shape (1, 3, 256, 256)\n",
            "Results saved to \u001b[1mruns/classify/train358\u001b[0m\n",
            "\n",
            "image 1/1 /content/drive/MyDrive/TypeCoffee.v28i.folder/train/Mole/12Mole_jpeg.rf.c3d82be38e62eddb533be5a30a556b3b.jpg: 256x256 Mole 0.98, DuroRiadoRio 0.02, RiadoRio 0.00, RioFechado 0.00, Quebrado 0.00, 5.9ms\n",
            "Speed: 2.5ms preprocess, 5.9ms inference, 0.1ms postprocess per image at shape (1, 3, 256, 256)\n",
            "Results saved to \u001b[1mruns/classify/train359\u001b[0m\n",
            "\n",
            "image 1/1 /content/drive/MyDrive/TypeCoffee.v28i.folder/train/Mole/46Mole_jpeg.rf.d24d0bc000269c6bb06f42b7fb6a079a.jpg: 256x256 Mole 1.00, DuroRiadoRio 0.00, RioFechado 0.00, RiadoRio 0.00, Quebrado 0.00, 5.6ms\n",
            "Speed: 2.2ms preprocess, 5.6ms inference, 0.1ms postprocess per image at shape (1, 3, 256, 256)\n",
            "Results saved to \u001b[1mruns/classify/train360\u001b[0m\n",
            "\n",
            "image 1/1 /content/drive/MyDrive/TypeCoffee.v28i.folder/train/Mole/31Mole_jpeg.rf.faa2cfec61e08a92889e78a8067d1ed8.jpg: 256x256 Mole 0.86, DuroRiadoRio 0.14, RiadoRio 0.00, RioFechado 0.00, Quebrado 0.00, 4.7ms\n",
            "Speed: 2.1ms preprocess, 4.7ms inference, 0.1ms postprocess per image at shape (1, 3, 256, 256)\n",
            "Results saved to \u001b[1mruns/classify/train361\u001b[0m\n",
            "\n",
            "image 1/1 /content/drive/MyDrive/TypeCoffee.v28i.folder/train/Mole/06Mole_jpeg.rf.1e1918237751424b73264396414a6206.jpg: 256x256 Mole 0.99, DuroRiadoRio 0.01, RioFechado 0.00, RiadoRio 0.00, Quebrado 0.00, 5.0ms\n",
            "Speed: 2.1ms preprocess, 5.0ms inference, 0.1ms postprocess per image at shape (1, 3, 256, 256)\n",
            "Results saved to \u001b[1mruns/classify/train362\u001b[0m\n",
            "\n",
            "image 1/1 /content/drive/MyDrive/TypeCoffee.v28i.folder/train/Mole/WhatsApp-Image-2024-09-06-at-11-30-43-2-_jpeg.rf.fd9b07c9a7a48080ba12693ca589cf70.jpg: 256x256 Mole 0.99, RiadoRio 0.00, DuroRiadoRio 0.00, RioFechado 0.00, Quebrado 0.00, 4.8ms\n",
            "Speed: 1.9ms preprocess, 4.8ms inference, 0.1ms postprocess per image at shape (1, 3, 256, 256)\n",
            "Results saved to \u001b[1mruns/classify/train363\u001b[0m\n",
            "\n",
            "image 1/1 /content/drive/MyDrive/TypeCoffee.v28i.folder/train/Mole/Mole005_jpeg.rf.3e7d1571184f7875118422472daad12d.jpg: 256x256 Mole 1.00, RiadoRio 0.00, DuroRiadoRio 0.00, RioFechado 0.00, Quebrado 0.00, 8.1ms\n",
            "Speed: 2.2ms preprocess, 8.1ms inference, 0.1ms postprocess per image at shape (1, 3, 256, 256)\n",
            "Results saved to \u001b[1mruns/classify/train364\u001b[0m\n",
            "\n",
            "image 1/1 /content/drive/MyDrive/TypeCoffee.v28i.folder/train/Mole/WhatsApp-Image-2024-09-06-at-11-30-45-2-_jpeg.rf.3d8877c25b59447adf8063408e269c59.jpg: 256x256 Mole 1.00, RiadoRio 0.00, DuroRiadoRio 0.00, RioFechado 0.00, Quebrado 0.00, 4.9ms\n",
            "Speed: 2.0ms preprocess, 4.9ms inference, 0.1ms postprocess per image at shape (1, 3, 256, 256)\n",
            "Results saved to \u001b[1mruns/classify/train365\u001b[0m\n",
            "\n",
            "image 1/1 /content/drive/MyDrive/TypeCoffee.v28i.folder/train/Mole/WhatsApp-Image-2024-05-09-at-12-46-40-1-_jpeg.rf.692a22df1ffbea1ade31e60c190e5487.jpg: 256x256 RiadoRio 0.81, Mole 0.19, DuroRiadoRio 0.00, RioFechado 0.00, Quebrado 0.00, 4.8ms\n",
            "Speed: 1.9ms preprocess, 4.8ms inference, 0.1ms postprocess per image at shape (1, 3, 256, 256)\n",
            "Results saved to \u001b[1mruns/classify/train366\u001b[0m\n",
            "\n",
            "image 1/1 /content/drive/MyDrive/TypeCoffee.v28i.folder/train/Mole/44Mole_jpeg.rf.83cee53fde34a34416de9ffa3c8ad0ac.jpg: 256x256 Mole 0.99, DuroRiadoRio 0.01, RioFechado 0.00, RiadoRio 0.00, Quebrado 0.00, 5.8ms\n",
            "Speed: 2.2ms preprocess, 5.8ms inference, 0.1ms postprocess per image at shape (1, 3, 256, 256)\n",
            "Results saved to \u001b[1mruns/classify/train367\u001b[0m\n",
            "\n",
            "image 1/1 /content/drive/MyDrive/TypeCoffee.v28i.folder/train/Mole/WhatsApp-Image-2024-05-09-at-12-46-41_jpeg.rf.09dd01af78d6679d07df09795f1988d4.jpg: 256x256 Mole 1.00, DuroRiadoRio 0.00, RiadoRio 0.00, RioFechado 0.00, Quebrado 0.00, 5.1ms\n",
            "Speed: 1.9ms preprocess, 5.1ms inference, 0.1ms postprocess per image at shape (1, 3, 256, 256)\n",
            "Results saved to \u001b[1mruns/classify/train368\u001b[0m\n",
            "\n",
            "image 1/1 /content/drive/MyDrive/TypeCoffee.v28i.folder/train/Mole/WhatsApp-Image-2024-09-06-at-11-30-43-1-_jpeg.rf.2b63e842a830fe106474857137d4e1c0.jpg: 256x256 Mole 1.00, RiadoRio 0.00, DuroRiadoRio 0.00, RioFechado 0.00, Quebrado 0.00, 5.1ms\n",
            "Speed: 2.1ms preprocess, 5.1ms inference, 0.1ms postprocess per image at shape (1, 3, 256, 256)\n",
            "Results saved to \u001b[1mruns/classify/train369\u001b[0m\n",
            "\n",
            "image 1/1 /content/drive/MyDrive/TypeCoffee.v28i.folder/train/Mole/WhatsApp-Image-2024-09-06-at-11-30-46-1-_jpeg.rf.2712c77c2357d84f4f0eb7140c237fba.jpg: 256x256 Mole 0.98, DuroRiadoRio 0.02, RiadoRio 0.00, RioFechado 0.00, Quebrado 0.00, 5.8ms\n",
            "Speed: 2.1ms preprocess, 5.8ms inference, 0.1ms postprocess per image at shape (1, 3, 256, 256)\n",
            "Results saved to \u001b[1mruns/classify/train370\u001b[0m\n",
            "\n",
            "image 1/1 /content/drive/MyDrive/TypeCoffee.v28i.folder/train/Mole/WhatsApp-Image-2024-09-06-at-11-30-44-1-_jpeg.rf.13d90dba0f3a8cba403b8aecc8e56677.jpg: 256x256 Mole 0.99, DuroRiadoRio 0.00, RiadoRio 0.00, RioFechado 0.00, Quebrado 0.00, 5.5ms\n",
            "Speed: 2.0ms preprocess, 5.5ms inference, 0.1ms postprocess per image at shape (1, 3, 256, 256)\n",
            "Results saved to \u001b[1mruns/classify/train371\u001b[0m\n",
            "\n",
            "image 1/1 /content/drive/MyDrive/TypeCoffee.v28i.folder/train/Mole/WhatsApp-Image-2024-09-06-at-11-30-39_jpeg.rf.d1a94c4af60e6c26f1ac89ba3dba8d11.jpg: 256x256 Mole 0.99, RiadoRio 0.01, DuroRiadoRio 0.00, RioFechado 0.00, Quebrado 0.00, 5.0ms\n",
            "Speed: 2.1ms preprocess, 5.0ms inference, 0.1ms postprocess per image at shape (1, 3, 256, 256)\n",
            "Results saved to \u001b[1mruns/classify/train372\u001b[0m\n",
            "\n",
            "image 1/1 /content/drive/MyDrive/TypeCoffee.v28i.folder/train/Mole/04Mole_jpeg.rf.c23caa4a0171eaa472fe2e40b1668398.jpg: 256x256 Mole 0.99, RioFechado 0.01, RiadoRio 0.00, DuroRiadoRio 0.00, Quebrado 0.00, 5.0ms\n",
            "Speed: 2.1ms preprocess, 5.0ms inference, 0.1ms postprocess per image at shape (1, 3, 256, 256)\n",
            "Results saved to \u001b[1mruns/classify/train373\u001b[0m\n",
            "\n",
            "image 1/1 /content/drive/MyDrive/TypeCoffee.v28i.folder/train/Mole/08Mole_jpeg.rf.27ab2c88f397056ad2b562dcb9e31dbd.jpg: 256x256 Mole 0.56, DuroRiadoRio 0.44, RioFechado 0.00, RiadoRio 0.00, Quebrado 0.00, 4.9ms\n",
            "Speed: 2.1ms preprocess, 4.9ms inference, 0.1ms postprocess per image at shape (1, 3, 256, 256)\n",
            "Results saved to \u001b[1mruns/classify/train374\u001b[0m\n",
            "\n",
            "image 1/1 /content/drive/MyDrive/TypeCoffee.v28i.folder/train/Mole/35Mole_jpeg.rf.51df5db4dbf2775c01e2492af29ca97d.jpg: 256x256 Mole 0.75, DuroRiadoRio 0.25, RioFechado 0.00, RiadoRio 0.00, Quebrado 0.00, 4.7ms\n",
            "Speed: 2.0ms preprocess, 4.7ms inference, 0.1ms postprocess per image at shape (1, 3, 256, 256)\n",
            "Results saved to \u001b[1mruns/classify/train375\u001b[0m\n",
            "\n",
            "image 1/1 /content/drive/MyDrive/TypeCoffee.v28i.folder/train/Mole/Mole004_jpeg.rf.cc4314a3151dee6ce6ebb11a44f0e42f.jpg: 256x256 Mole 0.94, DuroRiadoRio 0.05, RiadoRio 0.01, RioFechado 0.00, Quebrado 0.00, 5.1ms\n",
            "Speed: 2.0ms preprocess, 5.1ms inference, 0.1ms postprocess per image at shape (1, 3, 256, 256)\n",
            "Results saved to \u001b[1mruns/classify/train376\u001b[0m\n",
            "\n",
            "image 1/1 /content/drive/MyDrive/TypeCoffee.v28i.folder/train/Mole/26Mole_jpeg.rf.99f20ce8940b3b7c01df3447126e144f.jpg: 256x256 Mole 1.00, RiadoRio 0.00, DuroRiadoRio 0.00, RioFechado 0.00, Quebrado 0.00, 5.8ms\n",
            "Speed: 2.1ms preprocess, 5.8ms inference, 0.1ms postprocess per image at shape (1, 3, 256, 256)\n",
            "Results saved to \u001b[1mruns/classify/train377\u001b[0m\n",
            "\n",
            "image 1/1 /content/drive/MyDrive/TypeCoffee.v28i.folder/train/Mole/27Mole_jpeg.rf.f5a6e6de38aba9b0baa0ffd4d80aeba6.jpg: 256x256 Mole 0.95, RiadoRio 0.05, DuroRiadoRio 0.00, RioFechado 0.00, Quebrado 0.00, 4.8ms\n",
            "Speed: 1.9ms preprocess, 4.8ms inference, 0.1ms postprocess per image at shape (1, 3, 256, 256)\n",
            "Results saved to \u001b[1mruns/classify/train378\u001b[0m\n",
            "\n",
            "image 1/1 /content/drive/MyDrive/TypeCoffee.v28i.folder/train/Mole/11Mole_jpeg.rf.e2eb4734497a850082327354a9a83229.jpg: 256x256 DuroRiadoRio 0.95, Mole 0.04, RiadoRio 0.01, RioFechado 0.00, Quebrado 0.00, 4.8ms\n",
            "Speed: 2.0ms preprocess, 4.8ms inference, 0.1ms postprocess per image at shape (1, 3, 256, 256)\n",
            "Results saved to \u001b[1mruns/classify/train379\u001b[0m\n",
            "\n",
            "image 1/1 /content/drive/MyDrive/TypeCoffee.v28i.folder/train/Mole/50Mole_jpeg.rf.bc640a409da030e0b496619ee2e7b949.jpg: 256x256 Mole 1.00, DuroRiadoRio 0.00, RiadoRio 0.00, RioFechado 0.00, Quebrado 0.00, 4.9ms\n",
            "Speed: 2.1ms preprocess, 4.9ms inference, 0.1ms postprocess per image at shape (1, 3, 256, 256)\n",
            "Results saved to \u001b[1mruns/classify/train380\u001b[0m\n",
            "\n",
            "image 1/1 /content/drive/MyDrive/TypeCoffee.v28i.folder/train/Mole/13Mole_jpeg.rf.cb7c667a5ae0f71a88ecb9083ef9131c.jpg: 256x256 Mole 1.00, DuroRiadoRio 0.00, RiadoRio 0.00, RioFechado 0.00, Quebrado 0.00, 5.7ms\n",
            "Speed: 2.2ms preprocess, 5.7ms inference, 0.1ms postprocess per image at shape (1, 3, 256, 256)\n",
            "Results saved to \u001b[1mruns/classify/train381\u001b[0m\n",
            "\n",
            "image 1/1 /content/drive/MyDrive/TypeCoffee.v28i.folder/train/Mole/05Mole_jpeg.rf.a507da93fcf3e71b799294f9e0591742.jpg: 256x256 Mole 0.68, DuroRiadoRio 0.17, RiadoRio 0.14, RioFechado 0.01, Quebrado 0.00, 4.8ms\n",
            "Speed: 2.1ms preprocess, 4.8ms inference, 0.1ms postprocess per image at shape (1, 3, 256, 256)\n",
            "Results saved to \u001b[1mruns/classify/train382\u001b[0m\n",
            "\n",
            "image 1/1 /content/drive/MyDrive/TypeCoffee.v28i.folder/train/Mole/WhatsApp-Image-2024-09-06-at-11-30-44_jpeg.rf.ece710ee2e99d2bd7e2383bc2cf52f43.jpg: 256x256 Mole 0.88, DuroRiadoRio 0.12, RiadoRio 0.00, RioFechado 0.00, Quebrado 0.00, 4.7ms\n",
            "Speed: 2.1ms preprocess, 4.7ms inference, 0.1ms postprocess per image at shape (1, 3, 256, 256)\n",
            "Results saved to \u001b[1mruns/classify/train383\u001b[0m\n",
            "\n",
            "image 1/1 /content/drive/MyDrive/TypeCoffee.v28i.folder/train/Mole/18Mole_jpeg.rf.c5ee85636f080a0e7605785c2b133bad.jpg: 256x256 Mole 0.90, RiadoRio 0.10, DuroRiadoRio 0.00, RioFechado 0.00, Quebrado 0.00, 6.4ms\n",
            "Speed: 2.3ms preprocess, 6.4ms inference, 0.1ms postprocess per image at shape (1, 3, 256, 256)\n",
            "Results saved to \u001b[1mruns/classify/train384\u001b[0m\n",
            "\n",
            "image 1/1 /content/drive/MyDrive/TypeCoffee.v28i.folder/train/Mole/Mole007_jpeg.rf.89a87ddb8165a28250df11af03dc975e.jpg: 256x256 DuroRiadoRio 0.71, Mole 0.26, RiadoRio 0.03, RioFechado 0.00, Quebrado 0.00, 4.6ms\n",
            "Speed: 2.2ms preprocess, 4.6ms inference, 0.1ms postprocess per image at shape (1, 3, 256, 256)\n",
            "Results saved to \u001b[1mruns/classify/train385\u001b[0m\n",
            "\n",
            "image 1/1 /content/drive/MyDrive/TypeCoffee.v28i.folder/train/Mole/WhatsApp-Image-2024-05-09-at-12-46-39_jpeg.rf.416ff5a935cecb37efc418c1534e77fa.jpg: 256x256 Mole 1.00, RiadoRio 0.00, DuroRiadoRio 0.00, RioFechado 0.00, Quebrado 0.00, 4.7ms\n",
            "Speed: 2.1ms preprocess, 4.7ms inference, 0.1ms postprocess per image at shape (1, 3, 256, 256)\n",
            "Results saved to \u001b[1mruns/classify/train386\u001b[0m\n",
            "\n",
            "image 1/1 /content/drive/MyDrive/TypeCoffee.v28i.folder/train/Mole/01Mole_jpeg.rf.1047634ca9c68fd206cb3eec612423b1.jpg: 256x256 Mole 0.57, DuroRiadoRio 0.43, RiadoRio 0.00, RioFechado 0.00, Quebrado 0.00, 4.7ms\n",
            "Speed: 2.2ms preprocess, 4.7ms inference, 0.1ms postprocess per image at shape (1, 3, 256, 256)\n",
            "Results saved to \u001b[1mruns/classify/train387\u001b[0m\n",
            "\n",
            "image 1/1 /content/drive/MyDrive/TypeCoffee.v28i.folder/train/Mole/WhatsApp-Image-2024-09-06-at-11-30-42-3-_jpeg.rf.f4a5bef56b3bcf111714f3dcb8281102.jpg: 256x256 Mole 1.00, DuroRiadoRio 0.00, RiadoRio 0.00, RioFechado 0.00, Quebrado 0.00, 4.9ms\n",
            "Speed: 2.1ms preprocess, 4.9ms inference, 0.1ms postprocess per image at shape (1, 3, 256, 256)\n",
            "Results saved to \u001b[1mruns/classify/train388\u001b[0m\n",
            "\n",
            "image 1/1 /content/drive/MyDrive/TypeCoffee.v28i.folder/train/Mole/19Mole_jpeg.rf.ef0d70d1c75d3abbb50ae64d8d972d44.jpg: 256x256 Mole 1.00, RiadoRio 0.00, DuroRiadoRio 0.00, RioFechado 0.00, Quebrado 0.00, 4.8ms\n",
            "Speed: 2.0ms preprocess, 4.8ms inference, 0.1ms postprocess per image at shape (1, 3, 256, 256)\n",
            "Results saved to \u001b[1mruns/classify/train389\u001b[0m\n",
            "\n",
            "image 1/1 /content/drive/MyDrive/TypeCoffee.v28i.folder/train/Mole/43Mole_jpeg.rf.8c00bbdd23ba4cc6934b54aaaf03c6ec.jpg: 256x256 Mole 1.00, DuroRiadoRio 0.00, RioFechado 0.00, RiadoRio 0.00, Quebrado 0.00, 4.6ms\n",
            "Speed: 2.1ms preprocess, 4.6ms inference, 0.1ms postprocess per image at shape (1, 3, 256, 256)\n",
            "Results saved to \u001b[1mruns/classify/train390\u001b[0m\n",
            "\n",
            "image 1/1 /content/drive/MyDrive/TypeCoffee.v28i.folder/train/Mole/Mole006_jpeg.rf.ee093860808c903ebd6139918dd80553.jpg: 256x256 Mole 1.00, RiadoRio 0.00, DuroRiadoRio 0.00, RioFechado 0.00, Quebrado 0.00, 4.7ms\n",
            "Speed: 2.1ms preprocess, 4.7ms inference, 0.1ms postprocess per image at shape (1, 3, 256, 256)\n",
            "Results saved to \u001b[1mruns/classify/train391\u001b[0m\n",
            "\n",
            "image 1/1 /content/drive/MyDrive/TypeCoffee.v28i.folder/train/Mole/WhatsApp-Image-2024-09-06-at-11-30-42-2-_jpeg.rf.7db440770bd356fb2fc84f242e56186d.jpg: 256x256 Mole 1.00, RiadoRio 0.00, DuroRiadoRio 0.00, RioFechado 0.00, Quebrado 0.00, 4.8ms\n",
            "Speed: 2.1ms preprocess, 4.8ms inference, 0.0ms postprocess per image at shape (1, 3, 256, 256)\n",
            "Results saved to \u001b[1mruns/classify/train392\u001b[0m\n",
            "Média do tempo de inferência: 0.9936 segundos\n"
          ]
        }
      ],
      "source": [
        "import os\n",
        "import time\n",
        "import numpy as np\n",
        "\n",
        "# Lista para armazenar tempos de inferência\n",
        "tempos_de_inferencia = []\n",
        "\n",
        "# Caminho das imagens para inferência\n",
        "caminho_dados = \"/content/drive/MyDrive/TypeCoffee.v28i.folder/train/Mole/\"\n",
        "imagens = [os.path.join(caminho_dados, nome) for nome in os.listdir(caminho_dados)]\n",
        "\n",
        "for imagem in imagens:\n",
        "    inicio = time.time()  # Marca o início do processo\n",
        "    model.predict(imagem, save=True, imgsz=256, conf=0.4, batch=1)  # Realiza inferência\n",
        "    fim = time.time()  # Marca o fim do processo\n",
        "\n",
        "    # Calcula o tempo de inferência\n",
        "    tempos_de_inferencia.append(fim - inicio)\n",
        "\n",
        "# Cálculo da média dos tempos\n",
        "media_tempo_inferencia = np.mean(tempos_de_inferencia)\n",
        "\n",
        "print(f\"Média do tempo de inferência: {media_tempo_inferencia:.4f} segundos\")"
      ]
    },
    {
      "cell_type": "code",
      "execution_count": 7,
      "metadata": {
        "colab": {
          "base_uri": "https://localhost:8080/"
        },
        "id": "Dct1dQTfnELL",
        "outputId": "36371599-189b-4c4a-907b-884e93463c91"
      },
      "outputs": [
        {
          "output_type": "stream",
          "name": "stdout",
          "text": [
            "Tamanho do modelo: 5.85 MB\n"
          ]
        }
      ],
      "source": [
        "model_size = sum(p.numel() for p in model.parameters())\n",
        "model_size_MB = model_size * 4 / (1024 ** 2)\n",
        "print(f\"Tamanho do modelo: {model_size_MB:.2f} MB\")"
      ]
    },
    {
      "cell_type": "code",
      "execution_count": null,
      "metadata": {
        "colab": {
          "base_uri": "https://localhost:8080/"
        },
        "id": "NBPuhbgY-__u",
        "outputId": "6e43763c-1179-4eea-a046-bf8da07792b7"
      },
      "outputs": [
        {
          "output_type": "stream",
          "name": "stdout",
          "text": [
            "\n",
            "image 1/1 /content/drive/MyDrive/TypeCoffee.v30i.folder/test/DuroRiadoRio/21DuroRiadoRio_jpeg.rf.6dc7623ed3b05418cfba6951a82f2a85.jpg: 256x256 RiadoRio 0.55, DuroRiadoRio 0.43, RioFechado 0.01, Quebrado 0.00, Mole 0.00, 4.7ms\n",
            "Speed: 1.9ms preprocess, 4.7ms inference, 0.0ms postprocess per image at shape (1, 3, 256, 256)\n",
            "\n",
            "image 1/1 /content/drive/MyDrive/TypeCoffee.v30i.folder/test/DuroRiadoRio/46DuroRiadoRio_jpeg.rf.d6cd0bbdca447c2c1f6a3a34ca642b73.jpg: 256x256 DuroRiadoRio 1.00, Mole 0.00, RiadoRio 0.00, RioFechado 0.00, Quebrado 0.00, 5.6ms\n",
            "Speed: 1.7ms preprocess, 5.6ms inference, 0.0ms postprocess per image at shape (1, 3, 256, 256)\n",
            "\n",
            "image 1/1 /content/drive/MyDrive/TypeCoffee.v30i.folder/test/DuroRiadoRio/37DuroRiadoRio_jpeg.rf.a76d03ac8365482ae9bcf75f211a1a44.jpg: 256x256 DuroRiadoRio 1.00, RioFechado 0.00, Mole 0.00, RiadoRio 0.00, Quebrado 0.00, 5.3ms\n",
            "Speed: 2.0ms preprocess, 5.3ms inference, 0.1ms postprocess per image at shape (1, 3, 256, 256)\n",
            "\n",
            "image 1/1 /content/drive/MyDrive/TypeCoffee.v30i.folder/test/DuroRiadoRio/25DuroRiadoRio_jpeg.rf.221398f2d01c9de0b6bdce51a86c084d.jpg: 256x256 DuroRiadoRio 0.74, RioFechado 0.24, RiadoRio 0.02, Quebrado 0.00, Mole 0.00, 5.5ms\n",
            "Speed: 1.6ms preprocess, 5.5ms inference, 0.0ms postprocess per image at shape (1, 3, 256, 256)\n",
            "\n",
            "image 1/1 /content/drive/MyDrive/TypeCoffee.v30i.folder/test/DuroRiadoRio/29DuroRiadoRio_jpeg.rf.e685de53c1de8c0663e5e7e76e911c12.jpg: 256x256 DuroRiadoRio 0.95, RiadoRio 0.03, RioFechado 0.02, Quebrado 0.00, Mole 0.00, 5.7ms\n",
            "Speed: 1.6ms preprocess, 5.7ms inference, 0.1ms postprocess per image at shape (1, 3, 256, 256)\n",
            "\n",
            "image 1/1 /content/drive/MyDrive/TypeCoffee.v30i.folder/test/DuroRiadoRio/Duro007_jpg.rf.37922013e6e0d591ca461225ad41bed2.jpg: 256x256 DuroRiadoRio 0.99, RioFechado 0.01, RiadoRio 0.00, Quebrado 0.00, Mole 0.00, 5.2ms\n",
            "Speed: 1.6ms preprocess, 5.2ms inference, 0.0ms postprocess per image at shape (1, 3, 256, 256)\n",
            "\n",
            "image 1/1 /content/drive/MyDrive/TypeCoffee.v30i.folder/test/DuroRiadoRio/38DuroRiadoRio_jpeg.rf.a1138ca02043d921e6207c7cd529d594.jpg: 256x256 DuroRiadoRio 1.00, Mole 0.00, RioFechado 0.00, RiadoRio 0.00, Quebrado 0.00, 4.2ms\n",
            "Speed: 1.4ms preprocess, 4.2ms inference, 0.0ms postprocess per image at shape (1, 3, 256, 256)\n",
            "\n",
            "image 1/1 /content/drive/MyDrive/TypeCoffee.v30i.folder/test/DuroRiadoRio/42DuroRiadoRio_jpeg.rf.586f2e5f1c513b640a3d356b8fca0dda.jpg: 256x256 DuroRiadoRio 1.00, RiadoRio 0.00, RioFechado 0.00, Mole 0.00, Quebrado 0.00, 4.5ms\n",
            "Speed: 1.3ms preprocess, 4.5ms inference, 0.0ms postprocess per image at shape (1, 3, 256, 256)\n",
            "\n",
            "image 1/1 /content/drive/MyDrive/TypeCoffee.v30i.folder/test/DuroRiadoRio/20DuroRiadoRio_jpeg.rf.88b201ddc5080c3f0dcacd9925bcb097.jpg: 256x256 DuroRiadoRio 0.59, RiadoRio 0.41, RioFechado 0.00, Quebrado 0.00, Mole 0.00, 3.8ms\n",
            "Speed: 1.3ms preprocess, 3.8ms inference, 0.0ms postprocess per image at shape (1, 3, 256, 256)\n",
            "\n",
            "image 1/1 /content/drive/MyDrive/TypeCoffee.v30i.folder/test/DuroRiadoRio/22DuroRiadoRio_jpeg.rf.e0b9fd3a303d5e49d08862e12972dae3.jpg: 256x256 DuroRiadoRio 0.80, RiadoRio 0.20, RioFechado 0.01, Quebrado 0.00, Mole 0.00, 5.0ms\n",
            "Speed: 1.4ms preprocess, 5.0ms inference, 0.0ms postprocess per image at shape (1, 3, 256, 256)\n",
            "\n",
            "image 1/1 /content/drive/MyDrive/TypeCoffee.v30i.folder/test/DuroRiadoRio/28DuroRiadoRio_jpeg.rf.8d556c5e4ad8145e720aab9f070c2047.jpg: 256x256 DuroRiadoRio 0.97, RiadoRio 0.02, RioFechado 0.01, Quebrado 0.00, Mole 0.00, 5.0ms\n",
            "Speed: 1.5ms preprocess, 5.0ms inference, 0.0ms postprocess per image at shape (1, 3, 256, 256)\n",
            "\n",
            "image 1/1 /content/drive/MyDrive/TypeCoffee.v30i.folder/test/DuroRiadoRio/35DuroRiadoRio_jpeg.rf.8dbb95d5b3d19043a352b0a5da0c8fc6.jpg: 256x256 DuroRiadoRio 1.00, RioFechado 0.00, Mole 0.00, RiadoRio 0.00, Quebrado 0.00, 4.1ms\n",
            "Speed: 1.4ms preprocess, 4.1ms inference, 0.0ms postprocess per image at shape (1, 3, 256, 256)\n",
            "\n",
            "image 1/1 /content/drive/MyDrive/TypeCoffee.v30i.folder/test/DuroRiadoRio/23DuroRiadoRio_jpeg.rf.00faaf627094a8bfa69aa929a7be4120.jpg: 256x256 RiadoRio 0.86, DuroRiadoRio 0.14, RioFechado 0.00, Mole 0.00, Quebrado 0.00, 4.4ms\n",
            "Speed: 1.4ms preprocess, 4.4ms inference, 0.1ms postprocess per image at shape (1, 3, 256, 256)\n",
            "\n",
            "image 1/1 /content/drive/MyDrive/TypeCoffee.v30i.folder/test/DuroRiadoRio/26DuroRiadoRio_jpeg.rf.fe3a81909ce50caaa122c7ac6af3af31.jpg: 256x256 DuroRiadoRio 0.94, RiadoRio 0.05, RioFechado 0.01, Mole 0.00, Quebrado 0.00, 4.3ms\n",
            "Speed: 1.4ms preprocess, 4.3ms inference, 0.0ms postprocess per image at shape (1, 3, 256, 256)\n",
            "\n",
            "image 1/1 /content/drive/MyDrive/TypeCoffee.v30i.folder/test/DuroRiadoRio/10DuroRiadoRio_jpeg.rf.f909829bbf628a5e0861803973b3b92a.jpg: 256x256 DuroRiadoRio 0.58, RiadoRio 0.29, Mole 0.13, RioFechado 0.00, Quebrado 0.00, 5.4ms\n",
            "Speed: 1.4ms preprocess, 5.4ms inference, 0.0ms postprocess per image at shape (1, 3, 256, 256)\n",
            "\n",
            "image 1/1 /content/drive/MyDrive/TypeCoffee.v30i.folder/test/DuroRiadoRio/19DuroRiadoRio_jpeg.rf.6eea48ecdadac4fbd06553420a3ccec4.jpg: 256x256 DuroRiadoRio 0.99, RiadoRio 0.01, RioFechado 0.00, Quebrado 0.00, Mole 0.00, 5.3ms\n",
            "Speed: 1.3ms preprocess, 5.3ms inference, 0.0ms postprocess per image at shape (1, 3, 256, 256)\n",
            "\n",
            "image 1/1 /content/drive/MyDrive/TypeCoffee.v30i.folder/test/DuroRiadoRio/34DuroRiadoRio_jpeg.rf.b692c37ce4668e1279cb283677584aea.jpg: 256x256 DuroRiadoRio 1.00, RioFechado 0.00, RiadoRio 0.00, Mole 0.00, Quebrado 0.00, 5.3ms\n",
            "Speed: 1.7ms preprocess, 5.3ms inference, 0.0ms postprocess per image at shape (1, 3, 256, 256)\n",
            "\n",
            "image 1/1 /content/drive/MyDrive/TypeCoffee.v30i.folder/test/DuroRiadoRio/40DuroRiadoRio_jpeg.rf.17c7ec17d25ede27dcf2196bf14fb21d.jpg: 256x256 DuroRiadoRio 1.00, RioFechado 0.00, Mole 0.00, RiadoRio 0.00, Quebrado 0.00, 5.6ms\n",
            "Speed: 1.6ms preprocess, 5.6ms inference, 0.1ms postprocess per image at shape (1, 3, 256, 256)\n",
            "\n",
            "image 1/1 /content/drive/MyDrive/TypeCoffee.v30i.folder/test/DuroRiadoRio/Duro001_jpg.rf.214c8311a505cedb3d16b3bb80b03a1e.jpg: 256x256 DuroRiadoRio 0.82, RioFechado 0.11, RiadoRio 0.06, Quebrado 0.00, Mole 0.00, 4.2ms\n",
            "Speed: 1.4ms preprocess, 4.2ms inference, 0.0ms postprocess per image at shape (1, 3, 256, 256)\n",
            "\n",
            "image 1/1 /content/drive/MyDrive/TypeCoffee.v30i.folder/test/DuroRiadoRio/43DuroRiadoRio_jpeg.rf.f511926c2992589ecf8a51bb818eda30.jpg: 256x256 DuroRiadoRio 1.00, RioFechado 0.00, Mole 0.00, RiadoRio 0.00, Quebrado 0.00, 5.8ms\n",
            "Speed: 1.8ms preprocess, 5.8ms inference, 0.0ms postprocess per image at shape (1, 3, 256, 256)\n",
            "\n",
            "image 1/1 /content/drive/MyDrive/TypeCoffee.v30i.folder/test/DuroRiadoRio/01DuroRiadoRio_jpeg.rf.881f2e8fbf4244b0e9a434a0305f5a3c.jpg: 256x256 DuroRiadoRio 1.00, RioFechado 0.00, RiadoRio 0.00, Quebrado 0.00, Mole 0.00, 4.4ms\n",
            "Speed: 1.5ms preprocess, 4.4ms inference, 0.0ms postprocess per image at shape (1, 3, 256, 256)\n",
            "\n",
            "image 1/1 /content/drive/MyDrive/TypeCoffee.v30i.folder/test/DuroRiadoRio/Duro003_jpg.rf.fb557f95c628fccb2388daf51c4d71ec.jpg: 256x256 DuroRiadoRio 0.97, RioFechado 0.02, RiadoRio 0.01, Quebrado 0.00, Mole 0.00, 4.4ms\n",
            "Speed: 1.4ms preprocess, 4.4ms inference, 0.0ms postprocess per image at shape (1, 3, 256, 256)\n",
            "\n",
            "image 1/1 /content/drive/MyDrive/TypeCoffee.v30i.folder/test/DuroRiadoRio/47DuroRiadoRio_jpeg.rf.6981088f7aa7fffad00d8bb315d64af7.jpg: 256x256 DuroRiadoRio 1.00, RioFechado 0.00, Mole 0.00, RiadoRio 0.00, Quebrado 0.00, 4.0ms\n",
            "Speed: 1.3ms preprocess, 4.0ms inference, 0.0ms postprocess per image at shape (1, 3, 256, 256)\n",
            "\n",
            "image 1/1 /content/drive/MyDrive/TypeCoffee.v30i.folder/test/DuroRiadoRio/36DuroRiadoRio_jpeg.rf.61d0fad1a3841656b57218f4f87fee66.jpg: 256x256 DuroRiadoRio 1.00, RioFechado 0.00, Mole 0.00, RiadoRio 0.00, Quebrado 0.00, 3.9ms\n",
            "Speed: 1.3ms preprocess, 3.9ms inference, 0.0ms postprocess per image at shape (1, 3, 256, 256)\n",
            "\n",
            "image 1/1 /content/drive/MyDrive/TypeCoffee.v30i.folder/test/DuroRiadoRio/Duro010_jpg.rf.ebd49f889e4a083baf19ac1013abf2fd.jpg: 256x256 DuroRiadoRio 1.00, RiadoRio 0.00, RioFechado 0.00, Quebrado 0.00, Mole 0.00, 6.1ms\n",
            "Speed: 1.4ms preprocess, 6.1ms inference, 0.0ms postprocess per image at shape (1, 3, 256, 256)\n",
            "\n",
            "image 1/1 /content/drive/MyDrive/TypeCoffee.v30i.folder/test/DuroRiadoRio/Duro002_jpg.rf.4daa99332068cfc10382a973ff981055.jpg: 256x256 DuroRiadoRio 1.00, RiadoRio 0.00, RioFechado 0.00, Quebrado 0.00, Mole 0.00, 4.8ms\n",
            "Speed: 1.9ms preprocess, 4.8ms inference, 0.0ms postprocess per image at shape (1, 3, 256, 256)\n",
            "\n",
            "image 1/1 /content/drive/MyDrive/TypeCoffee.v30i.folder/test/DuroRiadoRio/16DuroRiadoRio_jpeg.rf.b9c9e1eee459bef089f0155c00285f25.jpg: 256x256 DuroRiadoRio 0.98, RiadoRio 0.01, RioFechado 0.00, Quebrado 0.00, Mole 0.00, 4.6ms\n",
            "Speed: 1.6ms preprocess, 4.6ms inference, 0.0ms postprocess per image at shape (1, 3, 256, 256)\n",
            "\n",
            "image 1/1 /content/drive/MyDrive/TypeCoffee.v30i.folder/test/DuroRiadoRio/39DuroRiadoRio_jpeg.rf.8dc8a1b96b90ca29d7b133610e098a61.jpg: 256x256 DuroRiadoRio 0.99, RioFechado 0.01, RiadoRio 0.00, Mole 0.00, Quebrado 0.00, 4.6ms\n",
            "Speed: 1.6ms preprocess, 4.6ms inference, 0.0ms postprocess per image at shape (1, 3, 256, 256)\n",
            "\n",
            "image 1/1 /content/drive/MyDrive/TypeCoffee.v30i.folder/test/DuroRiadoRio/03DuroRiadoRio_jpeg.rf.7d5b0bc7b39d764f4aa455ab05ba6c8a.jpg: 256x256 RiadoRio 0.77, DuroRiadoRio 0.20, RioFechado 0.03, Mole 0.00, Quebrado 0.00, 4.5ms\n",
            "Speed: 1.5ms preprocess, 4.5ms inference, 0.0ms postprocess per image at shape (1, 3, 256, 256)\n",
            "\n",
            "image 1/1 /content/drive/MyDrive/TypeCoffee.v30i.folder/test/DuroRiadoRio/Duro008_jpg.rf.6b499eded747bb04e6c8316f39ef2176.jpg: 256x256 DuroRiadoRio 1.00, RiadoRio 0.00, RioFechado 0.00, Quebrado 0.00, Mole 0.00, 4.2ms\n",
            "Speed: 1.6ms preprocess, 4.2ms inference, 0.0ms postprocess per image at shape (1, 3, 256, 256)\n",
            "\n",
            "image 1/1 /content/drive/MyDrive/TypeCoffee.v30i.folder/test/DuroRiadoRio/Duro005_jpg.rf.98fc4a459369171b4f9ac4c87af8ada4.jpg: 256x256 DuroRiadoRio 0.85, RiadoRio 0.15, RioFechado 0.00, Mole 0.00, Quebrado 0.00, 3.8ms\n",
            "Speed: 1.3ms preprocess, 3.8ms inference, 0.0ms postprocess per image at shape (1, 3, 256, 256)\n",
            "\n",
            "image 1/1 /content/drive/MyDrive/TypeCoffee.v30i.folder/test/DuroRiadoRio/Duro009_jpg.rf.3540659dab5c6d996243fd1b816ade32.jpg: 256x256 DuroRiadoRio 1.00, RiadoRio 0.00, RioFechado 0.00, Quebrado 0.00, Mole 0.00, 3.9ms\n",
            "Speed: 1.4ms preprocess, 3.9ms inference, 0.0ms postprocess per image at shape (1, 3, 256, 256)\n",
            "\n",
            "image 1/1 /content/drive/MyDrive/TypeCoffee.v30i.folder/test/DuroRiadoRio/Duro004_jpg.rf.62d2ae9572d962224ac549e179a40e08.jpg: 256x256 DuroRiadoRio 0.97, RiadoRio 0.03, RioFechado 0.00, Quebrado 0.00, Mole 0.00, 4.2ms\n",
            "Speed: 1.4ms preprocess, 4.2ms inference, 0.0ms postprocess per image at shape (1, 3, 256, 256)\n",
            "\n",
            "image 1/1 /content/drive/MyDrive/TypeCoffee.v30i.folder/test/DuroRiadoRio/49DuroRiadoRio_jpeg.rf.805caa517211688676c077ea208259c0.jpg: 256x256 DuroRiadoRio 1.00, RiadoRio 0.00, RioFechado 0.00, Mole 0.00, Quebrado 0.00, 4.8ms\n",
            "Speed: 1.4ms preprocess, 4.8ms inference, 0.0ms postprocess per image at shape (1, 3, 256, 256)\n",
            "\n",
            "image 1/1 /content/drive/MyDrive/TypeCoffee.v30i.folder/test/DuroRiadoRio/Duro011_jpg.rf.e13a264353bc545f7a26bbe09f7a9910.jpg: 256x256 DuroRiadoRio 1.00, RiadoRio 0.00, RioFechado 0.00, Quebrado 0.00, Mole 0.00, 5.0ms\n",
            "Speed: 1.6ms preprocess, 5.0ms inference, 0.0ms postprocess per image at shape (1, 3, 256, 256)\n",
            "\n",
            "image 1/1 /content/drive/MyDrive/TypeCoffee.v30i.folder/test/DuroRiadoRio/27DuroRiadoRio_jpeg.rf.e6533e6bf258b5013b5ff8c707786ac5.jpg: 256x256 DuroRiadoRio 0.91, RioFechado 0.07, RiadoRio 0.02, Quebrado 0.00, Mole 0.00, 4.2ms\n",
            "Speed: 1.5ms preprocess, 4.2ms inference, 0.0ms postprocess per image at shape (1, 3, 256, 256)\n",
            "\n",
            "image 1/1 /content/drive/MyDrive/TypeCoffee.v30i.folder/test/DuroRiadoRio/31DuroRiadoRio_jpeg.rf.5ced3409831efd9dbbcb4472210526b7.jpg: 256x256 DuroRiadoRio 1.00, Mole 0.00, RioFechado 0.00, RiadoRio 0.00, Quebrado 0.00, 5.0ms\n",
            "Speed: 1.5ms preprocess, 5.0ms inference, 0.0ms postprocess per image at shape (1, 3, 256, 256)\n",
            "\n",
            "image 1/1 /content/drive/MyDrive/TypeCoffee.v30i.folder/test/DuroRiadoRio/33DuroRiadoRio_jpeg.rf.3291b6e0407b146cbe7bbea0177dfcbb.jpg: 256x256 DuroRiadoRio 1.00, RiadoRio 0.00, Mole 0.00, RioFechado 0.00, Quebrado 0.00, 4.1ms\n",
            "Speed: 1.3ms preprocess, 4.1ms inference, 0.0ms postprocess per image at shape (1, 3, 256, 256)\n",
            "\n",
            "image 1/1 /content/drive/MyDrive/TypeCoffee.v30i.folder/test/DuroRiadoRio/48DuroRiadoRio_jpeg.rf.0a418446b8ae41df818b9c9ba076505c.jpg: 256x256 DuroRiadoRio 1.00, RiadoRio 0.00, RioFechado 0.00, Mole 0.00, Quebrado 0.00, 4.3ms\n",
            "Speed: 1.4ms preprocess, 4.3ms inference, 0.0ms postprocess per image at shape (1, 3, 256, 256)\n",
            "\n",
            "image 1/1 /content/drive/MyDrive/TypeCoffee.v30i.folder/test/DuroRiadoRio/32DuroRiadoRio_jpeg.rf.cf090a0b1dd1637379a7351ebd6df5db.jpg: 256x256 DuroRiadoRio 1.00, Mole 0.00, RioFechado 0.00, RiadoRio 0.00, Quebrado 0.00, 4.4ms\n",
            "Speed: 1.6ms preprocess, 4.4ms inference, 0.1ms postprocess per image at shape (1, 3, 256, 256)\n",
            "\n",
            "image 1/1 /content/drive/MyDrive/TypeCoffee.v30i.folder/test/DuroRiadoRio/Duro006_jpg.rf.618fbf61f9fd341f404a4c26193925df.jpg: 256x256 DuroRiadoRio 1.00, RiadoRio 0.00, RioFechado 0.00, Quebrado 0.00, Mole 0.00, 5.0ms\n",
            "Speed: 1.5ms preprocess, 5.0ms inference, 0.0ms postprocess per image at shape (1, 3, 256, 256)\n",
            "\n",
            "image 1/1 /content/drive/MyDrive/TypeCoffee.v30i.folder/test/DuroRiadoRio/30DuroRiadoRio_jpeg.rf.137ef967e507541e77ff233793afd221.jpg: 256x256 DuroRiadoRio 0.83, RioFechado 0.11, RiadoRio 0.06, Quebrado 0.00, Mole 0.00, 4.2ms\n",
            "Speed: 1.4ms preprocess, 4.2ms inference, 0.0ms postprocess per image at shape (1, 3, 256, 256)\n",
            "\n",
            "image 1/1 /content/drive/MyDrive/TypeCoffee.v30i.folder/test/DuroRiadoRio/44DuroRiadoRio_jpeg.rf.7616f10b8c3ab8904a62b10f6d055c29.jpg: 256x256 DuroRiadoRio 1.00, RioFechado 0.00, RiadoRio 0.00, Mole 0.00, Quebrado 0.00, 4.2ms\n",
            "Speed: 1.3ms preprocess, 4.2ms inference, 0.0ms postprocess per image at shape (1, 3, 256, 256)\n",
            "\n",
            "image 1/1 /content/drive/MyDrive/TypeCoffee.v30i.folder/test/DuroRiadoRio/17DuroRiadoRio_jpeg.rf.d1aaea3cf37bf9dc77dfcb5f1f017abe.jpg: 256x256 DuroRiadoRio 0.94, RioFechado 0.05, RiadoRio 0.01, Quebrado 0.00, Mole 0.00, 4.3ms\n",
            "Speed: 1.3ms preprocess, 4.3ms inference, 0.0ms postprocess per image at shape (1, 3, 256, 256)\n",
            "\n",
            "image 1/1 /content/drive/MyDrive/TypeCoffee.v30i.folder/test/Quebrado/Quebrado010_jpg.rf.bc02072eec13255cc3d5815cdd1e6207.jpg: 256x256 Quebrado 1.00, RioFechado 0.00, DuroRiadoRio 0.00, RiadoRio 0.00, Mole 0.00, 4.1ms\n",
            "Speed: 1.4ms preprocess, 4.1ms inference, 0.0ms postprocess per image at shape (1, 3, 256, 256)\n",
            "\n",
            "image 1/1 /content/drive/MyDrive/TypeCoffee.v30i.folder/test/Quebrado/06Quebrado_jpeg.rf.acf57dd9ebefabb5730041fba5ce7495.jpg: 256x256 Quebrado 1.00, DuroRiadoRio 0.00, RiadoRio 0.00, Mole 0.00, RioFechado 0.00, 4.3ms\n",
            "Speed: 1.4ms preprocess, 4.3ms inference, 0.0ms postprocess per image at shape (1, 3, 256, 256)\n",
            "\n",
            "image 1/1 /content/drive/MyDrive/TypeCoffee.v30i.folder/test/Quebrado/quebrado006_jpg.rf.94715e625f55cc035b1f81c7f692b18b.jpg: 256x256 Quebrado 1.00, RioFechado 0.00, DuroRiadoRio 0.00, RiadoRio 0.00, Mole 0.00, 4.1ms\n",
            "Speed: 1.4ms preprocess, 4.1ms inference, 0.0ms postprocess per image at shape (1, 3, 256, 256)\n",
            "\n",
            "image 1/1 /content/drive/MyDrive/TypeCoffee.v30i.folder/test/Quebrado/quebrado001_jpg.rf.53b3cfa72596763289be9408148eb0a0.jpg: 256x256 Quebrado 1.00, RioFechado 0.00, DuroRiadoRio 0.00, RiadoRio 0.00, Mole 0.00, 4.1ms\n",
            "Speed: 1.4ms preprocess, 4.1ms inference, 0.0ms postprocess per image at shape (1, 3, 256, 256)\n",
            "\n",
            "image 1/1 /content/drive/MyDrive/TypeCoffee.v30i.folder/test/Quebrado/quebrado1_jpg.rf.ed81967d21e7d34b6c2d516983b164cd.jpg: 256x256 Quebrado 1.00, RioFechado 0.00, RiadoRio 0.00, DuroRiadoRio 0.00, Mole 0.00, 4.0ms\n",
            "Speed: 1.3ms preprocess, 4.0ms inference, 0.0ms postprocess per image at shape (1, 3, 256, 256)\n",
            "\n",
            "image 1/1 /content/drive/MyDrive/TypeCoffee.v30i.folder/test/Quebrado/quebrado002_jpg.rf.8307f7e1c334ef312be17f1a96fca24c.jpg: 256x256 Quebrado 1.00, RioFechado 0.00, DuroRiadoRio 0.00, RiadoRio 0.00, Mole 0.00, 4.2ms\n",
            "Speed: 1.3ms preprocess, 4.2ms inference, 0.0ms postprocess per image at shape (1, 3, 256, 256)\n",
            "\n",
            "image 1/1 /content/drive/MyDrive/TypeCoffee.v30i.folder/test/Quebrado/quebrado007_jpg.rf.db170ad531c9c874752d7be69daa1949.jpg: 256x256 Quebrado 1.00, RioFechado 0.00, DuroRiadoRio 0.00, RiadoRio 0.00, Mole 0.00, 4.1ms\n",
            "Speed: 1.3ms preprocess, 4.1ms inference, 0.0ms postprocess per image at shape (1, 3, 256, 256)\n",
            "\n",
            "image 1/1 /content/drive/MyDrive/TypeCoffee.v30i.folder/test/Quebrado/quebrado003_jpg.rf.55e0fce924aae1095093c93e8369acff.jpg: 256x256 Quebrado 1.00, RioFechado 0.00, DuroRiadoRio 0.00, RiadoRio 0.00, Mole 0.00, 4.2ms\n",
            "Speed: 1.3ms preprocess, 4.2ms inference, 0.0ms postprocess per image at shape (1, 3, 256, 256)\n",
            "\n",
            "image 1/1 /content/drive/MyDrive/TypeCoffee.v30i.folder/test/Quebrado/03Quebrado_jpeg.rf.ad1d265578ef46c5114b6b4729fac6ac.jpg: 256x256 Quebrado 1.00, DuroRiadoRio 0.00, RioFechado 0.00, RiadoRio 0.00, Mole 0.00, 4.0ms\n",
            "Speed: 1.3ms preprocess, 4.0ms inference, 0.0ms postprocess per image at shape (1, 3, 256, 256)\n",
            "\n",
            "image 1/1 /content/drive/MyDrive/TypeCoffee.v30i.folder/test/Quebrado/quebrado004_jpg.rf.46138cd079636ff94d2a5c5defc2b2aa.jpg: 256x256 Quebrado 1.00, RioFechado 0.00, DuroRiadoRio 0.00, RiadoRio 0.00, Mole 0.00, 4.2ms\n",
            "Speed: 1.7ms preprocess, 4.2ms inference, 0.0ms postprocess per image at shape (1, 3, 256, 256)\n",
            "\n",
            "image 1/1 /content/drive/MyDrive/TypeCoffee.v30i.folder/test/Quebrado/quebrado3_jpg.rf.8bd89b6f0df5e68562cd47348a6092ef.jpg: 256x256 Quebrado 1.00, RioFechado 0.00, DuroRiadoRio 0.00, RiadoRio 0.00, Mole 0.00, 4.2ms\n",
            "Speed: 1.4ms preprocess, 4.2ms inference, 0.0ms postprocess per image at shape (1, 3, 256, 256)\n",
            "\n",
            "image 1/1 /content/drive/MyDrive/TypeCoffee.v30i.folder/test/Quebrado/quebrado005_jpg.rf.e1ed9650611628d8705a110b7836f012.jpg: 256x256 Quebrado 1.00, RioFechado 0.00, DuroRiadoRio 0.00, RiadoRio 0.00, Mole 0.00, 4.1ms\n",
            "Speed: 1.3ms preprocess, 4.1ms inference, 0.0ms postprocess per image at shape (1, 3, 256, 256)\n",
            "\n",
            "image 1/1 /content/drive/MyDrive/TypeCoffee.v30i.folder/test/Quebrado/quebrado2_jpg.rf.39b1fb4595e5e9a6230f51bdf4771fa2.jpg: 256x256 Quebrado 1.00, RioFechado 0.00, DuroRiadoRio 0.00, RiadoRio 0.00, Mole 0.00, 4.1ms\n",
            "Speed: 1.3ms preprocess, 4.1ms inference, 0.0ms postprocess per image at shape (1, 3, 256, 256)\n",
            "\n",
            "image 1/1 /content/drive/MyDrive/TypeCoffee.v30i.folder/test/RiadoRio/12RiadoRio_jpeg.rf.c42046f6de66f61805c30823d9e6d346.jpg: 256x256 RiadoRio 0.97, DuroRiadoRio 0.01, Mole 0.01, RioFechado 0.00, Quebrado 0.00, 4.0ms\n",
            "Speed: 1.2ms preprocess, 4.0ms inference, 0.0ms postprocess per image at shape (1, 3, 256, 256)\n",
            "\n",
            "image 1/1 /content/drive/MyDrive/TypeCoffee.v30i.folder/test/RiadoRio/RiadoRio006_jpg.rf.98098174655cf625e85c1cbdcf76434b.jpg: 256x256 DuroRiadoRio 0.57, RiadoRio 0.43, RioFechado 0.00, Quebrado 0.00, Mole 0.00, 4.4ms\n",
            "Speed: 1.3ms preprocess, 4.4ms inference, 0.0ms postprocess per image at shape (1, 3, 256, 256)\n",
            "\n",
            "image 1/1 /content/drive/MyDrive/TypeCoffee.v30i.folder/test/RiadoRio/Riado010_jpg.rf.01445c16150175d7f805200e8c9cd35a.jpg: 256x256 DuroRiadoRio 0.81, RiadoRio 0.17, Mole 0.01, RioFechado 0.00, Quebrado 0.00, 4.4ms\n",
            "Speed: 1.4ms preprocess, 4.4ms inference, 0.0ms postprocess per image at shape (1, 3, 256, 256)\n",
            "\n",
            "image 1/1 /content/drive/MyDrive/TypeCoffee.v30i.folder/test/RiadoRio/RiadoRio001_jpg.rf.350f8854f4e0f110a7537b78f235eb49.jpg: 256x256 DuroRiadoRio 0.94, RiadoRio 0.06, RioFechado 0.00, Quebrado 0.00, Mole 0.00, 4.9ms\n",
            "Speed: 1.5ms preprocess, 4.9ms inference, 0.0ms postprocess per image at shape (1, 3, 256, 256)\n",
            "\n",
            "image 1/1 /content/drive/MyDrive/TypeCoffee.v30i.folder/test/RiadoRio/Riado008_jpg.rf.258aad1ba17c700c8d40684cdb3d5fd6.jpg: 256x256 RiadoRio 0.64, DuroRiadoRio 0.36, RioFechado 0.00, Mole 0.00, Quebrado 0.00, 4.2ms\n",
            "Speed: 1.4ms preprocess, 4.2ms inference, 0.0ms postprocess per image at shape (1, 3, 256, 256)\n",
            "\n",
            "image 1/1 /content/drive/MyDrive/TypeCoffee.v30i.folder/test/RiadoRio/RiadoRio005_jpg.rf.42e7ef878e8ad8c4e7a4cd27116af497.jpg: 256x256 DuroRiadoRio 0.70, RiadoRio 0.30, RioFechado 0.00, Quebrado 0.00, Mole 0.00, 4.1ms\n",
            "Speed: 1.3ms preprocess, 4.1ms inference, 0.0ms postprocess per image at shape (1, 3, 256, 256)\n",
            "\n",
            "image 1/1 /content/drive/MyDrive/TypeCoffee.v30i.folder/test/RiadoRio/08RiadoRio_jpeg.rf.201ff58e7877478079ac41ce4851b6d2.jpg: 256x256 Mole 0.89, RiadoRio 0.08, DuroRiadoRio 0.03, RioFechado 0.00, Quebrado 0.00, 4.5ms\n",
            "Speed: 1.4ms preprocess, 4.5ms inference, 0.0ms postprocess per image at shape (1, 3, 256, 256)\n",
            "\n",
            "image 1/1 /content/drive/MyDrive/TypeCoffee.v30i.folder/test/RiadoRio/RiadoRio004_jpg.rf.cf1c518ac4b176b161b6de216441e288.jpg: 256x256 DuroRiadoRio 1.00, RiadoRio 0.00, RioFechado 0.00, Quebrado 0.00, Mole 0.00, 4.3ms\n",
            "Speed: 1.4ms preprocess, 4.3ms inference, 0.0ms postprocess per image at shape (1, 3, 256, 256)\n",
            "\n",
            "image 1/1 /content/drive/MyDrive/TypeCoffee.v30i.folder/test/RiadoRio/RiadoRio003_jpg.rf.4b9882c43c7a3be2509702349d46dec2.jpg: 256x256 RiadoRio 0.80, DuroRiadoRio 0.20, Mole 0.00, RioFechado 0.00, Quebrado 0.00, 5.0ms\n",
            "Speed: 1.5ms preprocess, 5.0ms inference, 0.0ms postprocess per image at shape (1, 3, 256, 256)\n",
            "\n",
            "image 1/1 /content/drive/MyDrive/TypeCoffee.v30i.folder/test/RiadoRio/Riado011_jpg.rf.c4333b93064fa3d5d404af7ea30460de.jpg: 256x256 RiadoRio 0.95, DuroRiadoRio 0.05, RioFechado 0.00, Quebrado 0.00, Mole 0.00, 4.0ms\n",
            "Speed: 1.3ms preprocess, 4.0ms inference, 0.0ms postprocess per image at shape (1, 3, 256, 256)\n",
            "\n",
            "image 1/1 /content/drive/MyDrive/TypeCoffee.v30i.folder/test/RiadoRio/Riado009_jpg.rf.a8c39cdc54898f1220f866e7d74c5f72.jpg: 256x256 RiadoRio 0.98, DuroRiadoRio 0.02, RioFechado 0.00, Quebrado 0.00, Mole 0.00, 4.0ms\n",
            "Speed: 1.5ms preprocess, 4.0ms inference, 0.0ms postprocess per image at shape (1, 3, 256, 256)\n",
            "\n",
            "image 1/1 /content/drive/MyDrive/TypeCoffee.v30i.folder/test/RiadoRio/01RiadoRio_jpeg.rf.0c41b27b756dfab138562dd1d4f8e9b7.jpg: 256x256 RiadoRio 0.52, Mole 0.48, DuroRiadoRio 0.00, RioFechado 0.00, Quebrado 0.00, 4.1ms\n",
            "Speed: 1.3ms preprocess, 4.1ms inference, 0.0ms postprocess per image at shape (1, 3, 256, 256)\n",
            "\n",
            "image 1/1 /content/drive/MyDrive/TypeCoffee.v30i.folder/test/RiadoRio/RiadoRio007_jpg.rf.a9adacf491aef40c5556bf0f6bf72645.jpg: 256x256 DuroRiadoRio 0.56, RiadoRio 0.44, Mole 0.00, RioFechado 0.00, Quebrado 0.00, 4.0ms\n",
            "Speed: 1.4ms preprocess, 4.0ms inference, 0.0ms postprocess per image at shape (1, 3, 256, 256)\n",
            "\n",
            "image 1/1 /content/drive/MyDrive/TypeCoffee.v30i.folder/test/RiadoRio/RiadoRio002_jpg.rf.73277b2636817abe503a917c89747a4c.jpg: 256x256 DuroRiadoRio 0.94, RiadoRio 0.06, RioFechado 0.00, Mole 0.00, Quebrado 0.00, 4.2ms\n",
            "Speed: 1.3ms preprocess, 4.2ms inference, 0.0ms postprocess per image at shape (1, 3, 256, 256)\n",
            "\n",
            "image 1/1 /content/drive/MyDrive/TypeCoffee.v30i.folder/test/Mole/12Mole_jpeg.rf.f4a0a658d3fee39833012a8ee5ceab60.jpg: 256x256 Mole 1.00, RiadoRio 0.00, DuroRiadoRio 0.00, RioFechado 0.00, Quebrado 0.00, 4.3ms\n",
            "Speed: 1.4ms preprocess, 4.3ms inference, 0.0ms postprocess per image at shape (1, 3, 256, 256)\n",
            "\n",
            "image 1/1 /content/drive/MyDrive/TypeCoffee.v30i.folder/test/Mole/Mole3_jpg.rf.3ede64b63f07979c025fd917af12e394.jpg: 256x256 Mole 0.97, RiadoRio 0.02, DuroRiadoRio 0.01, Quebrado 0.00, RioFechado 0.00, 4.4ms\n",
            "Speed: 1.7ms preprocess, 4.4ms inference, 0.0ms postprocess per image at shape (1, 3, 256, 256)\n",
            "\n",
            "image 1/1 /content/drive/MyDrive/TypeCoffee.v30i.folder/test/Mole/05Mole_jpeg.rf.3d10af9d2591c68624a90507b4a84d41.jpg: 256x256 Mole 0.86, RiadoRio 0.14, DuroRiadoRio 0.00, RioFechado 0.00, Quebrado 0.00, 3.9ms\n",
            "Speed: 1.4ms preprocess, 3.9ms inference, 0.0ms postprocess per image at shape (1, 3, 256, 256)\n",
            "\n",
            "image 1/1 /content/drive/MyDrive/TypeCoffee.v30i.folder/test/Mole/mole003_jpg.rf.687dcd3e0b453fe6e168f54a2048e2ac.jpg: 256x256 RiadoRio 0.95, Mole 0.04, DuroRiadoRio 0.01, RioFechado 0.00, Quebrado 0.00, 3.9ms\n",
            "Speed: 1.2ms preprocess, 3.9ms inference, 0.0ms postprocess per image at shape (1, 3, 256, 256)\n",
            "\n",
            "image 1/1 /content/drive/MyDrive/TypeCoffee.v30i.folder/test/Mole/Mole2_jpg.rf.94190e8e380b9bb1bdb76729e81996b7.jpg: 256x256 Mole 0.78, RiadoRio 0.13, DuroRiadoRio 0.09, Quebrado 0.00, RioFechado 0.00, 4.1ms\n",
            "Speed: 1.4ms preprocess, 4.1ms inference, 0.0ms postprocess per image at shape (1, 3, 256, 256)\n",
            "\n",
            "image 1/1 /content/drive/MyDrive/TypeCoffee.v30i.folder/test/Mole/02Mole_jpeg.rf.276da2b03758485b0e33e673bf39c16b.jpg: 256x256 Mole 1.00, RiadoRio 0.00, DuroRiadoRio 0.00, RioFechado 0.00, Quebrado 0.00, 4.5ms\n",
            "Speed: 1.6ms preprocess, 4.5ms inference, 0.0ms postprocess per image at shape (1, 3, 256, 256)\n",
            "\n",
            "image 1/1 /content/drive/MyDrive/TypeCoffee.v30i.folder/test/Mole/10Mole_jpeg.rf.ad9f98bf683c40ddba2fcecea97fc55d.jpg: 256x256 RiadoRio 0.75, Mole 0.18, DuroRiadoRio 0.08, RioFechado 0.00, Quebrado 0.00, 4.6ms\n",
            "Speed: 1.8ms preprocess, 4.6ms inference, 0.0ms postprocess per image at shape (1, 3, 256, 256)\n",
            "\n",
            "image 1/1 /content/drive/MyDrive/TypeCoffee.v30i.folder/test/Mole/mole005_jpg.rf.ec9e8e993d4b58ec167b2fe1e452fd63.jpg: 256x256 Mole 0.98, RiadoRio 0.02, DuroRiadoRio 0.00, Quebrado 0.00, RioFechado 0.00, 4.9ms\n",
            "Speed: 1.6ms preprocess, 4.9ms inference, 0.0ms postprocess per image at shape (1, 3, 256, 256)\n",
            "\n",
            "image 1/1 /content/drive/MyDrive/TypeCoffee.v30i.folder/test/Mole/Mole008_jpg.rf.ec385ede616284d7c07083b1004096c7.jpg: 256x256 Mole 1.00, DuroRiadoRio 0.00, RiadoRio 0.00, RioFechado 0.00, Quebrado 0.00, 4.9ms\n",
            "Speed: 1.7ms preprocess, 4.9ms inference, 0.0ms postprocess per image at shape (1, 3, 256, 256)\n",
            "\n",
            "image 1/1 /content/drive/MyDrive/TypeCoffee.v30i.folder/test/Mole/mole001_jpg.rf.b5697fb2bb8c7f0a32828e30a3097811.jpg: 256x256 Mole 0.81, DuroRiadoRio 0.10, RiadoRio 0.08, Quebrado 0.00, RioFechado 0.00, 4.8ms\n",
            "Speed: 1.6ms preprocess, 4.8ms inference, 0.0ms postprocess per image at shape (1, 3, 256, 256)\n",
            "\n",
            "image 1/1 /content/drive/MyDrive/TypeCoffee.v30i.folder/test/Mole/mole004_jpg.rf.8f369ec2c76945fd640f74c945146226.jpg: 256x256 Mole 0.99, DuroRiadoRio 0.00, RiadoRio 0.00, Quebrado 0.00, RioFechado 0.00, 4.4ms\n",
            "Speed: 1.6ms preprocess, 4.4ms inference, 0.0ms postprocess per image at shape (1, 3, 256, 256)\n",
            "\n",
            "image 1/1 /content/drive/MyDrive/TypeCoffee.v30i.folder/test/Mole/mole002_jpg.rf.4edf8b59f30315584b5a6530fc615343.jpg: 256x256 RiadoRio 0.99, Mole 0.00, DuroRiadoRio 0.00, RioFechado 0.00, Quebrado 0.00, 5.2ms\n",
            "Speed: 1.8ms preprocess, 5.2ms inference, 0.0ms postprocess per image at shape (1, 3, 256, 256)\n",
            "\n",
            "image 1/1 /content/drive/MyDrive/TypeCoffee.v30i.folder/test/Mole/mole007_jpg.rf.e6c702c33a1049c79bd3970e9630d6bb.jpg: 256x256 Mole 1.00, DuroRiadoRio 0.00, RiadoRio 0.00, Quebrado 0.00, RioFechado 0.00, 4.3ms\n",
            "Speed: 1.5ms preprocess, 4.3ms inference, 0.1ms postprocess per image at shape (1, 3, 256, 256)\n",
            "\n",
            "image 1/1 /content/drive/MyDrive/TypeCoffee.v30i.folder/test/Mole/mole006_jpg.rf.e38cb43d6151fed656df75c18e039108.jpg: 256x256 Mole 0.55, RiadoRio 0.30, DuroRiadoRio 0.15, RioFechado 0.00, Quebrado 0.00, 4.7ms\n",
            "Speed: 1.7ms preprocess, 4.7ms inference, 0.0ms postprocess per image at shape (1, 3, 256, 256)\n",
            "\n",
            "image 1/1 /content/drive/MyDrive/TypeCoffee.v30i.folder/test/Mole/Mole_jpg.rf.d7f68b89c301c21431df57858a7084e1.jpg: 256x256 Mole 0.81, RiadoRio 0.14, DuroRiadoRio 0.05, RioFechado 0.00, Quebrado 0.00, 5.0ms\n",
            "Speed: 1.6ms preprocess, 5.0ms inference, 0.0ms postprocess per image at shape (1, 3, 256, 256)\n",
            "\n",
            "image 1/1 /content/drive/MyDrive/TypeCoffee.v30i.folder/test/Mole/07Mole_jpeg.rf.704fa2f5b7e1cbe7e9e294bd976fbcd0.jpg: 256x256 RiadoRio 0.66, Mole 0.34, DuroRiadoRio 0.00, RioFechado 0.00, Quebrado 0.00, 4.3ms\n",
            "Speed: 1.5ms preprocess, 4.3ms inference, 0.0ms postprocess per image at shape (1, 3, 256, 256)\n",
            "\n",
            "image 1/1 /content/drive/MyDrive/TypeCoffee.v30i.folder/test/RioFechado/RioFechado006_jpg.rf.647290415ef74153ec5ddcf7aa100a76.jpg: 256x256 RioFechado 0.99, Quebrado 0.01, DuroRiadoRio 0.00, RiadoRio 0.00, Mole 0.00, 4.1ms\n",
            "Speed: 1.4ms preprocess, 4.1ms inference, 0.0ms postprocess per image at shape (1, 3, 256, 256)\n",
            "\n",
            "image 1/1 /content/drive/MyDrive/TypeCoffee.v30i.folder/test/RioFechado/RioFechado004_jpg.rf.acfb4464ff5382f5fb0beed28a585cd6.jpg: 256x256 RioFechado 1.00, Quebrado 0.00, DuroRiadoRio 0.00, RiadoRio 0.00, Mole 0.00, 4.2ms\n",
            "Speed: 1.3ms preprocess, 4.2ms inference, 0.0ms postprocess per image at shape (1, 3, 256, 256)\n",
            "\n",
            "image 1/1 /content/drive/MyDrive/TypeCoffee.v30i.folder/test/RioFechado/RioFechado003_jpg.rf.2a3e3199b3c22519f9e5df8afbf76e8d.jpg: 256x256 RioFechado 0.99, Quebrado 0.00, DuroRiadoRio 0.00, RiadoRio 0.00, Mole 0.00, 4.2ms\n",
            "Speed: 1.3ms preprocess, 4.2ms inference, 0.0ms postprocess per image at shape (1, 3, 256, 256)\n",
            "\n",
            "image 1/1 /content/drive/MyDrive/TypeCoffee.v30i.folder/test/RioFechado/RioFechado_jpg.rf.8b48749bf8f3515bab5fcafb3f297c13.jpg: 256x256 RioFechado 1.00, Quebrado 0.00, DuroRiadoRio 0.00, RiadoRio 0.00, Mole 0.00, 4.4ms\n",
            "Speed: 1.4ms preprocess, 4.4ms inference, 0.0ms postprocess per image at shape (1, 3, 256, 256)\n",
            "\n",
            "image 1/1 /content/drive/MyDrive/TypeCoffee.v30i.folder/test/RioFechado/01RioFechado_jpeg.rf.7594d710c223455c8bd3f88a33378f57.jpg: 256x256 RioFechado 1.00, RiadoRio 0.00, DuroRiadoRio 0.00, Quebrado 0.00, Mole 0.00, 4.3ms\n",
            "Speed: 1.4ms preprocess, 4.3ms inference, 0.0ms postprocess per image at shape (1, 3, 256, 256)\n",
            "\n",
            "image 1/1 /content/drive/MyDrive/TypeCoffee.v30i.folder/test/RioFechado/RioFechado001_jpg.rf.fcb1248153859b0bb85dff55caa22e25.jpg: 256x256 RioFechado 1.00, Quebrado 0.00, DuroRiadoRio 0.00, RiadoRio 0.00, Mole 0.00, 4.0ms\n",
            "Speed: 1.4ms preprocess, 4.0ms inference, 0.0ms postprocess per image at shape (1, 3, 256, 256)\n",
            "\n",
            "image 1/1 /content/drive/MyDrive/TypeCoffee.v30i.folder/test/RioFechado/RioFechado010_jpg.rf.b19dd9c63d111881348ff228cbf9dce4.jpg: 256x256 RioFechado 1.00, Quebrado 0.00, DuroRiadoRio 0.00, RiadoRio 0.00, Mole 0.00, 4.1ms\n",
            "Speed: 1.4ms preprocess, 4.1ms inference, 0.1ms postprocess per image at shape (1, 3, 256, 256)\n",
            "\n",
            "image 1/1 /content/drive/MyDrive/TypeCoffee.v30i.folder/test/RioFechado/RioFechado002_jpg.rf.a1116dd79995a37e05e23cdde44c977f.jpg: 256x256 RioFechado 1.00, Quebrado 0.00, DuroRiadoRio 0.00, RiadoRio 0.00, Mole 0.00, 4.1ms\n",
            "Speed: 1.2ms preprocess, 4.1ms inference, 0.0ms postprocess per image at shape (1, 3, 256, 256)\n",
            "\n",
            "image 1/1 /content/drive/MyDrive/TypeCoffee.v30i.folder/test/RioFechado/RioFechado007_jpg.rf.25a70f18c35d6806e919de640a8e94f5.jpg: 256x256 RioFechado 1.00, Quebrado 0.00, DuroRiadoRio 0.00, RiadoRio 0.00, Mole 0.00, 4.4ms\n",
            "Speed: 1.3ms preprocess, 4.4ms inference, 0.1ms postprocess per image at shape (1, 3, 256, 256)\n",
            "\n",
            "image 1/1 /content/drive/MyDrive/TypeCoffee.v30i.folder/test/RioFechado/06RioFechado_jpeg.rf.89ab8b7578845f7bd7497ae9beceb893.jpg: 256x256 RioFechado 1.00, RiadoRio 0.00, DuroRiadoRio 0.00, Quebrado 0.00, Mole 0.00, 4.5ms\n",
            "Speed: 1.4ms preprocess, 4.5ms inference, 0.0ms postprocess per image at shape (1, 3, 256, 256)\n",
            "\n",
            "image 1/1 /content/drive/MyDrive/TypeCoffee.v30i.folder/test/RioFechado/RioFechado3_jpg.rf.70265355922def1501c0a8020e64b077.jpg: 256x256 RioFechado 0.99, Quebrado 0.01, DuroRiadoRio 0.00, RiadoRio 0.00, Mole 0.00, 4.4ms\n",
            "Speed: 1.3ms preprocess, 4.4ms inference, 0.0ms postprocess per image at shape (1, 3, 256, 256)\n",
            "\n",
            "image 1/1 /content/drive/MyDrive/TypeCoffee.v30i.folder/test/RioFechado/RioFechado005_jpg.rf.c3f525ea8cb4a6b1a27a37cff93d8404.jpg: 256x256 RioFechado 0.99, Quebrado 0.01, DuroRiadoRio 0.00, RiadoRio 0.00, Mole 0.00, 4.5ms\n",
            "Speed: 1.4ms preprocess, 4.5ms inference, 0.0ms postprocess per image at shape (1, 3, 256, 256)\n",
            "\n",
            "image 1/1 /content/drive/MyDrive/TypeCoffee.v30i.folder/test/RioFechado/RioFechado2_jpg.rf.01e4adfa40756f3d411e2acb3fdfa176.jpg: 256x256 RioFechado 1.00, Quebrado 0.00, DuroRiadoRio 0.00, RiadoRio 0.00, Mole 0.00, 3.9ms\n",
            "Speed: 1.4ms preprocess, 3.9ms inference, 0.0ms postprocess per image at shape (1, 3, 256, 256)\n",
            "Previsões salvas em predictions.csv!\n"
          ]
        }
      ],
      "source": [
        "import os\n",
        "import pandas as pd\n",
        "\n",
        "# Diretório das imagens de teste\n",
        "teste_path = \"/content/drive/MyDrive/TypeCoffee.v25i.folder/test\"\n",
        "\n",
        "# Listar imagens de teste\n",
        "imagens_teste = [os.path.join(teste_path, classe, img)\n",
        "                 for classe in os.listdir(teste_path)\n",
        "                 for img in os.listdir(os.path.join(teste_path, classe)) if img.endswith(\".jpg\")]\n",
        "\n",
        "# Fazer previsões\n",
        "predicoes = []\n",
        "\n",
        "for img in imagens_teste:\n",
        "    resultado = model(img)  # Executa a inferência\n",
        "    classe_predita = resultado[0].probs.top1  # Obtém a classe com maior probabilidade\n",
        "    predicoes.append((os.path.basename(img), classe_predita))  # Salva o nome da imagem e a classe prevista\n",
        "\n",
        "# Salvar previsões em um arquivo CSV\n",
        "df = pd.DataFrame(predicoes, columns=['imagem', 'classe_predita'])\n",
        "df.to_csv(\"/content/drive/MyDrive/predictions.csv\", index=False)\n",
        "\n",
        "print(\"Previsões salvas em predictions.csv!\")"
      ]
    },
    {
      "cell_type": "code",
      "execution_count": 8,
      "metadata": {
        "colab": {
          "base_uri": "https://localhost:8080/"
        },
        "id": "6-MR-4aj_Jgq",
        "outputId": "8fe1e8d1-403f-4a81-a9ac-910b4ab78b38"
      },
      "outputs": [
        {
          "output_type": "stream",
          "name": "stdout",
          "text": [
            "\n",
            "image 1/1 /content/drive/MyDrive/TypeCoffee.v25i.folder/test/RiadoRio/RiadoRio007_jpeg.rf.77bfbbac779ecbe2ffcf859aba896551.jpg: 256x256 Mole 0.99, RiadoRio 0.00, DuroRiadoRio 0.00, RioFechado 0.00, Quebrado 0.00, 3.9ms\n",
            "Speed: 2.1ms preprocess, 3.9ms inference, 0.1ms postprocess per image at shape (1, 3, 256, 256)\n",
            "\n",
            "image 1/1 /content/drive/MyDrive/TypeCoffee.v25i.folder/test/RiadoRio/03RiadoRio_jpeg.rf.9825f805f6bd663cfbafcab2b2c72c59.jpg: 256x256 Mole 0.67, RiadoRio 0.33, DuroRiadoRio 0.00, RioFechado 0.00, Quebrado 0.00, 4.1ms\n",
            "Speed: 3.3ms preprocess, 4.1ms inference, 0.0ms postprocess per image at shape (1, 3, 256, 256)\n",
            "\n",
            "image 1/1 /content/drive/MyDrive/TypeCoffee.v25i.folder/test/RiadoRio/07RiadoRio_jpeg.rf.a559a8968131976d860a75323d4723b5.jpg: 256x256 RiadoRio 0.91, DuroRiadoRio 0.09, Mole 0.00, RioFechado 0.00, Quebrado 0.00, 4.0ms\n",
            "Speed: 2.3ms preprocess, 4.0ms inference, 0.0ms postprocess per image at shape (1, 3, 256, 256)\n",
            "\n",
            "image 1/1 /content/drive/MyDrive/TypeCoffee.v25i.folder/test/RiadoRio/04RiadoRio_jpeg.rf.eaa95d334de4ef46e19a11645f77ddcb.jpg: 256x256 RiadoRio 0.81, Mole 0.18, DuroRiadoRio 0.01, RioFechado 0.00, Quebrado 0.00, 4.0ms\n",
            "Speed: 1.5ms preprocess, 4.0ms inference, 0.0ms postprocess per image at shape (1, 3, 256, 256)\n",
            "\n",
            "image 1/1 /content/drive/MyDrive/TypeCoffee.v25i.folder/test/RiadoRio/WhatsApp-Image-2024-09-06-at-11-20-28-2-_jpeg.rf.71747939e7e8398dcd16ed1230598bce.jpg: 256x256 RiadoRio 1.00, Mole 0.00, DuroRiadoRio 0.00, Quebrado 0.00, RioFechado 0.00, 4.0ms\n",
            "Speed: 1.5ms preprocess, 4.0ms inference, 0.0ms postprocess per image at shape (1, 3, 256, 256)\n",
            "\n",
            "image 1/1 /content/drive/MyDrive/TypeCoffee.v25i.folder/test/RiadoRio/09RiadoRio_jpeg.rf.c0a729129d964513196b28ba1ceb6e23.jpg: 256x256 RiadoRio 0.83, Mole 0.17, DuroRiadoRio 0.01, RioFechado 0.00, Quebrado 0.00, 4.9ms\n",
            "Speed: 1.7ms preprocess, 4.9ms inference, 0.0ms postprocess per image at shape (1, 3, 256, 256)\n",
            "\n",
            "image 1/1 /content/drive/MyDrive/TypeCoffee.v25i.folder/test/RiadoRio/14RiadoRio_jpeg.rf.73b40049265c9aa5d2f140b474939aea.jpg: 256x256 RiadoRio 0.84, DuroRiadoRio 0.10, Mole 0.06, RioFechado 0.00, Quebrado 0.00, 4.7ms\n",
            "Speed: 1.6ms preprocess, 4.7ms inference, 0.0ms postprocess per image at shape (1, 3, 256, 256)\n",
            "\n",
            "image 1/1 /content/drive/MyDrive/TypeCoffee.v25i.folder/test/RiadoRio/13RiadoRio_jpeg.rf.72c2d06e155084d0ff146dd6caf1294c.jpg: 256x256 RiadoRio 0.84, DuroRiadoRio 0.16, Mole 0.00, RioFechado 0.00, Quebrado 0.00, 4.2ms\n",
            "Speed: 2.0ms preprocess, 4.2ms inference, 0.0ms postprocess per image at shape (1, 3, 256, 256)\n",
            "\n",
            "image 1/1 /content/drive/MyDrive/TypeCoffee.v25i.folder/test/RiadoRio/02RiadoRio_jpeg.rf.6cb315bfe1791431e87ca69368beed47.jpg: 256x256 RiadoRio 0.61, DuroRiadoRio 0.39, Mole 0.00, RioFechado 0.00, Quebrado 0.00, 4.3ms\n",
            "Speed: 2.5ms preprocess, 4.3ms inference, 0.0ms postprocess per image at shape (1, 3, 256, 256)\n",
            "\n",
            "image 1/1 /content/drive/MyDrive/TypeCoffee.v25i.folder/test/RiadoRio/05RiadoRio_jpeg.rf.a0359cdbc87fdd69add3478271e8d29a.jpg: 256x256 RiadoRio 0.99, DuroRiadoRio 0.01, Mole 0.00, RioFechado 0.00, Quebrado 0.00, 3.8ms\n",
            "Speed: 1.3ms preprocess, 3.8ms inference, 0.0ms postprocess per image at shape (1, 3, 256, 256)\n",
            "\n",
            "image 1/1 /content/drive/MyDrive/TypeCoffee.v25i.folder/test/RiadoRio/WhatsApp-Image-2024-09-06-at-11-20-30_jpeg.rf.62e69699e97526a6677c257e673084fd.jpg: 256x256 RiadoRio 1.00, Mole 0.00, DuroRiadoRio 0.00, Quebrado 0.00, RioFechado 0.00, 3.9ms\n",
            "Speed: 1.4ms preprocess, 3.9ms inference, 0.0ms postprocess per image at shape (1, 3, 256, 256)\n",
            "\n",
            "image 1/1 /content/drive/MyDrive/TypeCoffee.v25i.folder/test/RiadoRio/RiadoRio003.jpg: 256x256 RiadoRio 0.93, DuroRiadoRio 0.07, Mole 0.00, Quebrado 0.00, RioFechado 0.00, 3.6ms\n",
            "Speed: 1.8ms preprocess, 3.6ms inference, 0.0ms postprocess per image at shape (1, 3, 256, 256)\n",
            "\n",
            "image 1/1 /content/drive/MyDrive/TypeCoffee.v25i.folder/test/RiadoRio/RiadoRio002.jpg: 256x256 DuroRiadoRio 0.92, RiadoRio 0.08, RioFechado 0.00, Quebrado 0.00, Mole 0.00, 3.8ms\n",
            "Speed: 1.7ms preprocess, 3.8ms inference, 0.0ms postprocess per image at shape (1, 3, 256, 256)\n",
            "\n",
            "image 1/1 /content/drive/MyDrive/TypeCoffee.v25i.folder/test/RiadoRio/RiadoRio004.jpg: 256x256 DuroRiadoRio 0.87, RiadoRio 0.13, Quebrado 0.00, RioFechado 0.00, Mole 0.00, 3.8ms\n",
            "Speed: 1.7ms preprocess, 3.8ms inference, 0.0ms postprocess per image at shape (1, 3, 256, 256)\n",
            "\n",
            "image 1/1 /content/drive/MyDrive/TypeCoffee.v25i.folder/test/RiadoRio/RiadoRio006.jpg: 256x256 RiadoRio 0.97, DuroRiadoRio 0.03, Mole 0.00, Quebrado 0.00, RioFechado 0.00, 3.8ms\n",
            "Speed: 1.4ms preprocess, 3.8ms inference, 0.0ms postprocess per image at shape (1, 3, 256, 256)\n",
            "\n",
            "image 1/1 /content/drive/MyDrive/TypeCoffee.v25i.folder/test/RiadoRio/Riado011.jpg: 256x256 RiadoRio 1.00, DuroRiadoRio 0.00, Mole 0.00, RioFechado 0.00, Quebrado 0.00, 3.9ms\n",
            "Speed: 1.4ms preprocess, 3.9ms inference, 0.0ms postprocess per image at shape (1, 3, 256, 256)\n",
            "\n",
            "image 1/1 /content/drive/MyDrive/TypeCoffee.v25i.folder/test/RiadoRio/RiadoRio001.jpg: 256x256 RiadoRio 0.88, DuroRiadoRio 0.12, Mole 0.00, Quebrado 0.00, RioFechado 0.00, 3.9ms\n",
            "Speed: 1.8ms preprocess, 3.9ms inference, 0.0ms postprocess per image at shape (1, 3, 256, 256)\n",
            "\n",
            "image 1/1 /content/drive/MyDrive/TypeCoffee.v25i.folder/test/RiadoRio/Riado010.jpg: 256x256 RiadoRio 0.80, DuroRiadoRio 0.19, Mole 0.01, RioFechado 0.00, Quebrado 0.00, 3.8ms\n",
            "Speed: 1.4ms preprocess, 3.8ms inference, 0.0ms postprocess per image at shape (1, 3, 256, 256)\n",
            "\n",
            "image 1/1 /content/drive/MyDrive/TypeCoffee.v25i.folder/test/RiadoRio/RiadoRio005.jpg: 256x256 DuroRiadoRio 0.58, RiadoRio 0.42, Quebrado 0.00, Mole 0.00, RioFechado 0.00, 4.2ms\n",
            "Speed: 1.4ms preprocess, 4.2ms inference, 0.0ms postprocess per image at shape (1, 3, 256, 256)\n",
            "\n",
            "image 1/1 /content/drive/MyDrive/TypeCoffee.v25i.folder/test/RiadoRio/Riado009.jpg: 256x256 RiadoRio 0.98, DuroRiadoRio 0.02, Mole 0.00, Quebrado 0.00, RioFechado 0.00, 4.2ms\n",
            "Speed: 1.4ms preprocess, 4.2ms inference, 0.0ms postprocess per image at shape (1, 3, 256, 256)\n",
            "\n",
            "image 1/1 /content/drive/MyDrive/TypeCoffee.v25i.folder/test/RiadoRio/Riado008.jpg: 256x256 RiadoRio 0.96, DuroRiadoRio 0.04, Mole 0.00, Quebrado 0.00, RioFechado 0.00, 4.1ms\n",
            "Speed: 1.4ms preprocess, 4.1ms inference, 0.0ms postprocess per image at shape (1, 3, 256, 256)\n",
            "\n",
            "image 1/1 /content/drive/MyDrive/TypeCoffee.v25i.folder/test/RiadoRio/RiadoRio007.jpg: 256x256 RiadoRio 0.65, DuroRiadoRio 0.35, Mole 0.00, Quebrado 0.00, RioFechado 0.00, 4.0ms\n",
            "Speed: 1.4ms preprocess, 4.0ms inference, 0.0ms postprocess per image at shape (1, 3, 256, 256)\n",
            "\n",
            "image 1/1 /content/drive/MyDrive/TypeCoffee.v25i.folder/test/Mole/14Mole_jpeg.rf.f37a738a974b6d456179fa674443a3f5.jpg: 256x256 Mole 1.00, RiadoRio 0.00, DuroRiadoRio 0.00, RioFechado 0.00, Quebrado 0.00, 4.0ms\n",
            "Speed: 1.6ms preprocess, 4.0ms inference, 0.0ms postprocess per image at shape (1, 3, 256, 256)\n",
            "\n",
            "image 1/1 /content/drive/MyDrive/TypeCoffee.v25i.folder/test/Mole/Mole008_jpeg.rf.12470ce0e146724234481fcc8cd82734.jpg: 256x256 Mole 1.00, DuroRiadoRio 0.00, RiadoRio 0.00, RioFechado 0.00, Quebrado 0.00, 3.9ms\n",
            "Speed: 1.3ms preprocess, 3.9ms inference, 0.0ms postprocess per image at shape (1, 3, 256, 256)\n",
            "\n",
            "image 1/1 /content/drive/MyDrive/TypeCoffee.v25i.folder/test/Mole/06Mole_jpeg.rf.dc685060ddbeed71c4bed160ab1f8715.jpg: 256x256 Mole 1.00, RiadoRio 0.00, RioFechado 0.00, DuroRiadoRio 0.00, Quebrado 0.00, 3.9ms\n",
            "Speed: 1.4ms preprocess, 3.9ms inference, 0.0ms postprocess per image at shape (1, 3, 256, 256)\n",
            "\n",
            "image 1/1 /content/drive/MyDrive/TypeCoffee.v25i.folder/test/Mole/15Mole_jpeg.rf.a40f45227fad8d1a2ac961918ad8335c.jpg: 256x256 Mole 0.99, RiadoRio 0.01, DuroRiadoRio 0.00, RioFechado 0.00, Quebrado 0.00, 4.1ms\n",
            "Speed: 1.4ms preprocess, 4.1ms inference, 0.0ms postprocess per image at shape (1, 3, 256, 256)\n",
            "\n",
            "image 1/1 /content/drive/MyDrive/TypeCoffee.v25i.folder/test/Mole/WhatsApp-Image-2024-09-06-at-11-30-44-1-_jpeg.rf.cf588f3d0679637ae23d11598a230283.jpg: 256x256 Mole 1.00, DuroRiadoRio 0.00, RiadoRio 0.00, Quebrado 0.00, RioFechado 0.00, 4.2ms\n",
            "Speed: 1.5ms preprocess, 4.2ms inference, 0.0ms postprocess per image at shape (1, 3, 256, 256)\n",
            "\n",
            "image 1/1 /content/drive/MyDrive/TypeCoffee.v25i.folder/test/Mole/WhatsApp-Image-2024-09-06-at-11-30-45_jpeg.rf.6f7a2b161b540c7137d192fa9585fe02.jpg: 256x256 Mole 1.00, DuroRiadoRio 0.00, RiadoRio 0.00, RioFechado 0.00, Quebrado 0.00, 4.0ms\n",
            "Speed: 1.4ms preprocess, 4.0ms inference, 0.0ms postprocess per image at shape (1, 3, 256, 256)\n",
            "\n",
            "image 1/1 /content/drive/MyDrive/TypeCoffee.v25i.folder/test/Mole/04Mole_jpeg.rf.59fdd30f1e188709d985dc667161d8a0.jpg: 256x256 Mole 1.00, RiadoRio 0.00, RioFechado 0.00, DuroRiadoRio 0.00, Quebrado 0.00, 4.3ms\n",
            "Speed: 1.5ms preprocess, 4.3ms inference, 0.0ms postprocess per image at shape (1, 3, 256, 256)\n",
            "\n",
            "image 1/1 /content/drive/MyDrive/TypeCoffee.v25i.folder/test/Mole/03Mole_jpeg.rf.64c87393a100cfde7e00c8ebb032d325.jpg: 256x256 Mole 1.00, RiadoRio 0.00, DuroRiadoRio 0.00, RioFechado 0.00, Quebrado 0.00, 4.0ms\n",
            "Speed: 1.5ms preprocess, 4.0ms inference, 0.0ms postprocess per image at shape (1, 3, 256, 256)\n",
            "\n",
            "image 1/1 /content/drive/MyDrive/TypeCoffee.v25i.folder/test/Mole/Mole2.jpg: 256x256 Mole 1.00, DuroRiadoRio 0.00, RiadoRio 0.00, Quebrado 0.00, RioFechado 0.00, 4.7ms\n",
            "Speed: 1.7ms preprocess, 4.7ms inference, 0.0ms postprocess per image at shape (1, 3, 256, 256)\n",
            "\n",
            "image 1/1 /content/drive/MyDrive/TypeCoffee.v25i.folder/test/Mole/Mole3.jpg: 256x256 Mole 1.00, DuroRiadoRio 0.00, RiadoRio 0.00, Quebrado 0.00, RioFechado 0.00, 4.0ms\n",
            "Speed: 1.6ms preprocess, 4.0ms inference, 0.0ms postprocess per image at shape (1, 3, 256, 256)\n",
            "\n",
            "image 1/1 /content/drive/MyDrive/TypeCoffee.v25i.folder/test/Mole/mole004.jpg: 256x256 Mole 1.00, DuroRiadoRio 0.00, RiadoRio 0.00, Quebrado 0.00, RioFechado 0.00, 4.1ms\n",
            "Speed: 1.6ms preprocess, 4.1ms inference, 0.0ms postprocess per image at shape (1, 3, 256, 256)\n",
            "\n",
            "image 1/1 /content/drive/MyDrive/TypeCoffee.v25i.folder/test/Mole/mole003.jpg: 256x256 RiadoRio 0.74, Mole 0.26, DuroRiadoRio 0.00, Quebrado 0.00, RioFechado 0.00, 4.0ms\n",
            "Speed: 1.4ms preprocess, 4.0ms inference, 0.0ms postprocess per image at shape (1, 3, 256, 256)\n",
            "\n",
            "image 1/1 /content/drive/MyDrive/TypeCoffee.v25i.folder/test/Mole/mole006.jpg: 256x256 Mole 0.83, RiadoRio 0.16, DuroRiadoRio 0.00, Quebrado 0.00, RioFechado 0.00, 3.9ms\n",
            "Speed: 1.4ms preprocess, 3.9ms inference, 0.0ms postprocess per image at shape (1, 3, 256, 256)\n",
            "\n",
            "image 1/1 /content/drive/MyDrive/TypeCoffee.v25i.folder/test/Mole/mole005.jpg: 256x256 Mole 1.00, RiadoRio 0.00, DuroRiadoRio 0.00, Quebrado 0.00, RioFechado 0.00, 3.8ms\n",
            "Speed: 1.4ms preprocess, 3.8ms inference, 0.0ms postprocess per image at shape (1, 3, 256, 256)\n",
            "\n",
            "image 1/1 /content/drive/MyDrive/TypeCoffee.v25i.folder/test/Mole/Mole008.jpg: 256x256 Mole 1.00, DuroRiadoRio 0.00, RiadoRio 0.00, RioFechado 0.00, Quebrado 0.00, 4.7ms\n",
            "Speed: 1.7ms preprocess, 4.7ms inference, 0.0ms postprocess per image at shape (1, 3, 256, 256)\n",
            "\n",
            "image 1/1 /content/drive/MyDrive/TypeCoffee.v25i.folder/test/Mole/mole007.jpg: 256x256 Mole 1.00, RiadoRio 0.00, DuroRiadoRio 0.00, Quebrado 0.00, RioFechado 0.00, 4.0ms\n",
            "Speed: 1.5ms preprocess, 4.0ms inference, 0.0ms postprocess per image at shape (1, 3, 256, 256)\n",
            "\n",
            "image 1/1 /content/drive/MyDrive/TypeCoffee.v25i.folder/test/Mole/Mole.jpg: 256x256 Mole 0.99, DuroRiadoRio 0.01, RiadoRio 0.00, RioFechado 0.00, Quebrado 0.00, 4.0ms\n",
            "Speed: 2.1ms preprocess, 4.0ms inference, 0.0ms postprocess per image at shape (1, 3, 256, 256)\n",
            "\n",
            "image 1/1 /content/drive/MyDrive/TypeCoffee.v25i.folder/test/Mole/mole001.jpg: 256x256 Mole 1.00, RiadoRio 0.00, DuroRiadoRio 0.00, Quebrado 0.00, RioFechado 0.00, 3.9ms\n",
            "Speed: 1.8ms preprocess, 3.9ms inference, 0.1ms postprocess per image at shape (1, 3, 256, 256)\n",
            "\n",
            "image 1/1 /content/drive/MyDrive/TypeCoffee.v25i.folder/test/Mole/mole002.jpg: 256x256 Mole 0.91, RiadoRio 0.09, DuroRiadoRio 0.00, Quebrado 0.00, RioFechado 0.00, 3.8ms\n",
            "Speed: 1.4ms preprocess, 3.8ms inference, 0.0ms postprocess per image at shape (1, 3, 256, 256)\n",
            "\n",
            "image 1/1 /content/drive/MyDrive/TypeCoffee.v25i.folder/test/Quebrado/15Quebrado_jpeg.rf.2d6c64b95ae675c87e24acc70ab8f0a6.jpg: 256x256 Quebrado 1.00, RioFechado 0.00, DuroRiadoRio 0.00, RiadoRio 0.00, Mole 0.00, 4.1ms\n",
            "Speed: 1.5ms preprocess, 4.1ms inference, 0.0ms postprocess per image at shape (1, 3, 256, 256)\n",
            "\n",
            "image 1/1 /content/drive/MyDrive/TypeCoffee.v25i.folder/test/Quebrado/WhatsApp-Image-2024-09-06-at-11-34-30_jpeg.rf.f8aa737abab24d97e7938959e7a1ca7b.jpg: 256x256 Quebrado 1.00, DuroRiadoRio 0.00, Mole 0.00, RioFechado 0.00, RiadoRio 0.00, 3.8ms\n",
            "Speed: 1.4ms preprocess, 3.8ms inference, 0.0ms postprocess per image at shape (1, 3, 256, 256)\n",
            "\n",
            "image 1/1 /content/drive/MyDrive/TypeCoffee.v25i.folder/test/Quebrado/08Quebrado_jpeg.rf.a24fc64a66f98974449a99694be41b60.jpg: 256x256 Quebrado 0.88, RioFechado 0.12, DuroRiadoRio 0.00, RiadoRio 0.00, Mole 0.00, 4.0ms\n",
            "Speed: 1.5ms preprocess, 4.0ms inference, 0.0ms postprocess per image at shape (1, 3, 256, 256)\n",
            "\n",
            "image 1/1 /content/drive/MyDrive/TypeCoffee.v25i.folder/test/Quebrado/10Quebrado_jpeg.rf.3aea52e2d3b80ffdfa3bb3b477856ffc.jpg: 256x256 Quebrado 1.00, RioFechado 0.00, DuroRiadoRio 0.00, Mole 0.00, RiadoRio 0.00, 4.0ms\n",
            "Speed: 1.4ms preprocess, 4.0ms inference, 0.0ms postprocess per image at shape (1, 3, 256, 256)\n",
            "\n",
            "image 1/1 /content/drive/MyDrive/TypeCoffee.v25i.folder/test/Quebrado/07Quebrado_jpeg.rf.bf6b94dbb0cc3f52857cb57687c5c0f9.jpg: 256x256 Quebrado 1.00, RioFechado 0.00, DuroRiadoRio 0.00, RiadoRio 0.00, Mole 0.00, 4.9ms\n",
            "Speed: 1.7ms preprocess, 4.9ms inference, 0.0ms postprocess per image at shape (1, 3, 256, 256)\n",
            "\n",
            "image 1/1 /content/drive/MyDrive/TypeCoffee.v25i.folder/test/Quebrado/01Quebrado_jpeg.rf.67ab84ef59f48ada59f25493e7f8fa35.jpg: 256x256 Quebrado 1.00, RioFechado 0.00, DuroRiadoRio 0.00, RiadoRio 0.00, Mole 0.00, 4.9ms\n",
            "Speed: 1.6ms preprocess, 4.9ms inference, 0.0ms postprocess per image at shape (1, 3, 256, 256)\n",
            "\n",
            "image 1/1 /content/drive/MyDrive/TypeCoffee.v25i.folder/test/Quebrado/WhatsApp-Image-2024-09-06-at-11-34-27-2-_jpeg.rf.96c87e4f34ffcc34ea6cb1adf046542d.jpg: 256x256 Quebrado 1.00, RioFechado 0.00, DuroRiadoRio 0.00, Mole 0.00, RiadoRio 0.00, 3.9ms\n",
            "Speed: 1.4ms preprocess, 3.9ms inference, 0.1ms postprocess per image at shape (1, 3, 256, 256)\n",
            "\n",
            "image 1/1 /content/drive/MyDrive/TypeCoffee.v25i.folder/test/Quebrado/05Quebrado_jpeg.rf.256562e7ef3e448a76eed34460e1112a.jpg: 256x256 Quebrado 1.00, RioFechado 0.00, DuroRiadoRio 0.00, RiadoRio 0.00, Mole 0.00, 4.8ms\n",
            "Speed: 1.6ms preprocess, 4.8ms inference, 0.1ms postprocess per image at shape (1, 3, 256, 256)\n",
            "\n",
            "image 1/1 /content/drive/MyDrive/TypeCoffee.v25i.folder/test/Quebrado/Quebrado010_jpeg.rf.e6c0cdd15ebac6fc4a11f48f0b9ae96b.jpg: 256x256 Quebrado 0.92, Mole 0.05, DuroRiadoRio 0.02, RiadoRio 0.01, RioFechado 0.01, 3.8ms\n",
            "Speed: 1.4ms preprocess, 3.8ms inference, 0.0ms postprocess per image at shape (1, 3, 256, 256)\n",
            "\n",
            "image 1/1 /content/drive/MyDrive/TypeCoffee.v25i.folder/test/Quebrado/quebrado2.jpg: 256x256 Quebrado 1.00, RioFechado 0.00, DuroRiadoRio 0.00, RiadoRio 0.00, Mole 0.00, 4.0ms\n",
            "Speed: 1.5ms preprocess, 4.0ms inference, 0.0ms postprocess per image at shape (1, 3, 256, 256)\n",
            "\n",
            "image 1/1 /content/drive/MyDrive/TypeCoffee.v25i.folder/test/Quebrado/quebrado3.jpg: 256x256 Quebrado 1.00, RioFechado 0.00, DuroRiadoRio 0.00, RiadoRio 0.00, Mole 0.00, 4.0ms\n",
            "Speed: 1.4ms preprocess, 4.0ms inference, 0.0ms postprocess per image at shape (1, 3, 256, 256)\n",
            "\n",
            "image 1/1 /content/drive/MyDrive/TypeCoffee.v25i.folder/test/Quebrado/quebrado004.jpg: 256x256 Quebrado 1.00, DuroRiadoRio 0.00, RioFechado 0.00, RiadoRio 0.00, Mole 0.00, 3.8ms\n",
            "Speed: 1.3ms preprocess, 3.8ms inference, 0.0ms postprocess per image at shape (1, 3, 256, 256)\n",
            "\n",
            "image 1/1 /content/drive/MyDrive/TypeCoffee.v25i.folder/test/Quebrado/quebrado003.jpg: 256x256 Quebrado 1.00, RioFechado 0.00, DuroRiadoRio 0.00, RiadoRio 0.00, Mole 0.00, 3.7ms\n",
            "Speed: 1.4ms preprocess, 3.7ms inference, 0.0ms postprocess per image at shape (1, 3, 256, 256)\n",
            "\n",
            "image 1/1 /content/drive/MyDrive/TypeCoffee.v25i.folder/test/Quebrado/quebrado005.jpg: 256x256 Quebrado 1.00, DuroRiadoRio 0.00, RioFechado 0.00, RiadoRio 0.00, Mole 0.00, 3.8ms\n",
            "Speed: 1.4ms preprocess, 3.8ms inference, 0.0ms postprocess per image at shape (1, 3, 256, 256)\n",
            "\n",
            "image 1/1 /content/drive/MyDrive/TypeCoffee.v25i.folder/test/Quebrado/quebrado006.jpg: 256x256 Quebrado 1.00, RioFechado 0.00, DuroRiadoRio 0.00, RiadoRio 0.00, Mole 0.00, 3.7ms\n",
            "Speed: 1.3ms preprocess, 3.7ms inference, 0.0ms postprocess per image at shape (1, 3, 256, 256)\n",
            "\n",
            "image 1/1 /content/drive/MyDrive/TypeCoffee.v25i.folder/test/Quebrado/quebrado007.jpg: 256x256 Quebrado 1.00, DuroRiadoRio 0.00, RioFechado 0.00, RiadoRio 0.00, Mole 0.00, 3.9ms\n",
            "Speed: 1.6ms preprocess, 3.9ms inference, 0.1ms postprocess per image at shape (1, 3, 256, 256)\n",
            "\n",
            "image 1/1 /content/drive/MyDrive/TypeCoffee.v25i.folder/test/Quebrado/quebrado001.jpg: 256x256 Quebrado 1.00, DuroRiadoRio 0.00, RioFechado 0.00, RiadoRio 0.00, Mole 0.00, 4.0ms\n",
            "Speed: 1.6ms preprocess, 4.0ms inference, 0.0ms postprocess per image at shape (1, 3, 256, 256)\n",
            "\n",
            "image 1/1 /content/drive/MyDrive/TypeCoffee.v25i.folder/test/Quebrado/Quebrado010.jpg: 256x256 Quebrado 1.00, RioFechado 0.00, DuroRiadoRio 0.00, RiadoRio 0.00, Mole 0.00, 5.0ms\n",
            "Speed: 1.7ms preprocess, 5.0ms inference, 0.0ms postprocess per image at shape (1, 3, 256, 256)\n",
            "\n",
            "image 1/1 /content/drive/MyDrive/TypeCoffee.v25i.folder/test/Quebrado/quebrado1.jpg: 256x256 Quebrado 1.00, RioFechado 0.00, DuroRiadoRio 0.00, RiadoRio 0.00, Mole 0.00, 3.9ms\n",
            "Speed: 1.4ms preprocess, 3.9ms inference, 0.0ms postprocess per image at shape (1, 3, 256, 256)\n",
            "\n",
            "image 1/1 /content/drive/MyDrive/TypeCoffee.v25i.folder/test/Quebrado/quebrado002.jpg: 256x256 Quebrado 1.00, RioFechado 0.00, DuroRiadoRio 0.00, RiadoRio 0.00, Mole 0.00, 3.9ms\n",
            "Speed: 1.4ms preprocess, 3.9ms inference, 0.0ms postprocess per image at shape (1, 3, 256, 256)\n",
            "\n",
            "image 1/1 /content/drive/MyDrive/TypeCoffee.v25i.folder/test/RioFechado/13RioFechado_jpeg.rf.7b8ee06cecbe26f5480eb86625b62dec.jpg: 256x256 RioFechado 1.00, Mole 0.00, DuroRiadoRio 0.00, Quebrado 0.00, RiadoRio 0.00, 4.0ms\n",
            "Speed: 1.4ms preprocess, 4.0ms inference, 0.0ms postprocess per image at shape (1, 3, 256, 256)\n",
            "\n",
            "image 1/1 /content/drive/MyDrive/TypeCoffee.v25i.folder/test/RioFechado/04RioFechado_jpeg.rf.cda8a9b0bcbaf0fde4ed188b2809055c.jpg: 256x256 RioFechado 1.00, DuroRiadoRio 0.00, Mole 0.00, Quebrado 0.00, RiadoRio 0.00, 3.8ms\n",
            "Speed: 1.5ms preprocess, 3.8ms inference, 0.0ms postprocess per image at shape (1, 3, 256, 256)\n",
            "\n",
            "image 1/1 /content/drive/MyDrive/TypeCoffee.v25i.folder/test/RioFechado/WhatsApp-Image-2024-09-06-at-11-38-43_jpeg.rf.2fe92784af576291327efb8584f77f6f.jpg: 256x256 RioFechado 1.00, Quebrado 0.00, DuroRiadoRio 0.00, RiadoRio 0.00, Mole 0.00, 3.8ms\n",
            "Speed: 1.4ms preprocess, 3.8ms inference, 0.0ms postprocess per image at shape (1, 3, 256, 256)\n",
            "\n",
            "image 1/1 /content/drive/MyDrive/TypeCoffee.v25i.folder/test/RioFechado/11RioFechado_jpeg.rf.4811aef64541c2627b0702f61fe0bb5d.jpg: 256x256 RioFechado 1.00, DuroRiadoRio 0.00, Quebrado 0.00, RiadoRio 0.00, Mole 0.00, 4.9ms\n",
            "Speed: 1.7ms preprocess, 4.9ms inference, 0.0ms postprocess per image at shape (1, 3, 256, 256)\n",
            "\n",
            "image 1/1 /content/drive/MyDrive/TypeCoffee.v25i.folder/test/RioFechado/02RioFechado_jpeg.rf.a6482fe21870a8695434ecb6cb800375.jpg: 256x256 RioFechado 1.00, DuroRiadoRio 0.00, RiadoRio 0.00, Quebrado 0.00, Mole 0.00, 3.9ms\n",
            "Speed: 1.5ms preprocess, 3.9ms inference, 0.0ms postprocess per image at shape (1, 3, 256, 256)\n",
            "\n",
            "image 1/1 /content/drive/MyDrive/TypeCoffee.v25i.folder/test/RioFechado/09RioFechado_jpeg.rf.eb5f98359a8f51a5bfe788e1c97ac8c8.jpg: 256x256 RioFechado 0.66, DuroRiadoRio 0.34, RiadoRio 0.00, Quebrado 0.00, Mole 0.00, 4.8ms\n",
            "Speed: 2.2ms preprocess, 4.8ms inference, 0.0ms postprocess per image at shape (1, 3, 256, 256)\n",
            "\n",
            "image 1/1 /content/drive/MyDrive/TypeCoffee.v25i.folder/test/RioFechado/WhatsApp-Image-2024-09-06-at-11-38-49-1-_jpeg.rf.4bb03f2d70755de2a2ad4d8b8fe42146.jpg: 256x256 RioFechado 1.00, Quebrado 0.00, DuroRiadoRio 0.00, Mole 0.00, RiadoRio 0.00, 3.7ms\n",
            "Speed: 1.4ms preprocess, 3.7ms inference, 0.0ms postprocess per image at shape (1, 3, 256, 256)\n",
            "\n",
            "image 1/1 /content/drive/MyDrive/TypeCoffee.v25i.folder/test/RioFechado/03RioFechado_jpeg.rf.a81839faf450cc67780ec8cae7e37930.jpg: 256x256 RioFechado 1.00, DuroRiadoRio 0.00, Mole 0.00, Quebrado 0.00, RiadoRio 0.00, 3.9ms\n",
            "Speed: 1.5ms preprocess, 3.9ms inference, 0.0ms postprocess per image at shape (1, 3, 256, 256)\n",
            "\n",
            "image 1/1 /content/drive/MyDrive/TypeCoffee.v25i.folder/test/RioFechado/RioFechado004_jpeg.rf.2bced7b619ec3e9e28e1bfe586e537c3.jpg: 256x256 RioFechado 1.00, Quebrado 0.00, DuroRiadoRio 0.00, Mole 0.00, RiadoRio 0.00, 3.9ms\n",
            "Speed: 1.3ms preprocess, 3.9ms inference, 0.0ms postprocess per image at shape (1, 3, 256, 256)\n",
            "\n",
            "image 1/1 /content/drive/MyDrive/TypeCoffee.v25i.folder/test/RioFechado/RioFechado.jpg: 256x256 RioFechado 1.00, Quebrado 0.00, DuroRiadoRio 0.00, Mole 0.00, RiadoRio 0.00, 3.7ms\n",
            "Speed: 1.7ms preprocess, 3.7ms inference, 0.0ms postprocess per image at shape (1, 3, 256, 256)\n",
            "\n",
            "image 1/1 /content/drive/MyDrive/TypeCoffee.v25i.folder/test/RioFechado/RioFechado001.jpg: 256x256 RioFechado 1.00, Quebrado 0.00, DuroRiadoRio 0.00, RiadoRio 0.00, Mole 0.00, 4.0ms\n",
            "Speed: 1.3ms preprocess, 4.0ms inference, 0.1ms postprocess per image at shape (1, 3, 256, 256)\n",
            "\n",
            "image 1/1 /content/drive/MyDrive/TypeCoffee.v25i.folder/test/RioFechado/RioFechado002.jpg: 256x256 RioFechado 1.00, Quebrado 0.00, DuroRiadoRio 0.00, RiadoRio 0.00, Mole 0.00, 5.4ms\n",
            "Speed: 1.6ms preprocess, 5.4ms inference, 0.0ms postprocess per image at shape (1, 3, 256, 256)\n",
            "\n",
            "image 1/1 /content/drive/MyDrive/TypeCoffee.v25i.folder/test/RioFechado/RioFechado004.jpg: 256x256 RioFechado 0.97, Quebrado 0.02, DuroRiadoRio 0.00, RiadoRio 0.00, Mole 0.00, 4.3ms\n",
            "Speed: 1.5ms preprocess, 4.3ms inference, 0.0ms postprocess per image at shape (1, 3, 256, 256)\n",
            "\n",
            "image 1/1 /content/drive/MyDrive/TypeCoffee.v25i.folder/test/RioFechado/RioFechado010.jpg: 256x256 RioFechado 1.00, Quebrado 0.00, DuroRiadoRio 0.00, RiadoRio 0.00, Mole 0.00, 4.2ms\n",
            "Speed: 1.5ms preprocess, 4.2ms inference, 0.0ms postprocess per image at shape (1, 3, 256, 256)\n",
            "\n",
            "image 1/1 /content/drive/MyDrive/TypeCoffee.v25i.folder/test/RioFechado/RioFechado006.jpg: 256x256 RioFechado 0.91, Quebrado 0.06, DuroRiadoRio 0.03, RiadoRio 0.00, Mole 0.00, 4.3ms\n",
            "Speed: 1.4ms preprocess, 4.3ms inference, 0.0ms postprocess per image at shape (1, 3, 256, 256)\n",
            "\n",
            "image 1/1 /content/drive/MyDrive/TypeCoffee.v25i.folder/test/RioFechado/RioFechado3.jpg: 256x256 RioFechado 1.00, Quebrado 0.00, DuroRiadoRio 0.00, RiadoRio 0.00, Mole 0.00, 4.7ms\n",
            "Speed: 1.7ms preprocess, 4.7ms inference, 0.0ms postprocess per image at shape (1, 3, 256, 256)\n",
            "\n",
            "image 1/1 /content/drive/MyDrive/TypeCoffee.v25i.folder/test/RioFechado/RioFechado003.jpg: 256x256 DuroRiadoRio 0.66, RioFechado 0.34, RiadoRio 0.00, Quebrado 0.00, Mole 0.00, 4.9ms\n",
            "Speed: 1.8ms preprocess, 4.9ms inference, 0.1ms postprocess per image at shape (1, 3, 256, 256)\n",
            "\n",
            "image 1/1 /content/drive/MyDrive/TypeCoffee.v25i.folder/test/RioFechado/RioFechado2.jpg: 256x256 RioFechado 1.00, Quebrado 0.00, DuroRiadoRio 0.00, Mole 0.00, RiadoRio 0.00, 3.9ms\n",
            "Speed: 1.6ms preprocess, 3.9ms inference, 0.0ms postprocess per image at shape (1, 3, 256, 256)\n",
            "\n",
            "image 1/1 /content/drive/MyDrive/TypeCoffee.v25i.folder/test/RioFechado/RioFechado005.jpg: 256x256 RioFechado 0.85, DuroRiadoRio 0.12, Quebrado 0.03, RiadoRio 0.00, Mole 0.00, 4.0ms\n",
            "Speed: 1.5ms preprocess, 4.0ms inference, 0.0ms postprocess per image at shape (1, 3, 256, 256)\n",
            "\n",
            "image 1/1 /content/drive/MyDrive/TypeCoffee.v25i.folder/test/RioFechado/RioFechado007.jpg: 256x256 RioFechado 1.00, Quebrado 0.00, DuroRiadoRio 0.00, RiadoRio 0.00, Mole 0.00, 3.9ms\n",
            "Speed: 1.5ms preprocess, 3.9ms inference, 0.1ms postprocess per image at shape (1, 3, 256, 256)\n",
            "\n",
            "image 1/1 /content/drive/MyDrive/TypeCoffee.v25i.folder/test/DuroRiadoRio/02DuroRiadoRio_jpeg.rf.baf5aa7f846eb7e39932c0332a5948bb.jpg: 256x256 DuroRiadoRio 1.00, RiadoRio 0.00, RioFechado 0.00, Mole 0.00, Quebrado 0.00, 3.8ms\n",
            "Speed: 1.4ms preprocess, 3.8ms inference, 0.0ms postprocess per image at shape (1, 3, 256, 256)\n",
            "\n",
            "image 1/1 /content/drive/MyDrive/TypeCoffee.v25i.folder/test/DuroRiadoRio/05DuroRiadoRio_jpeg.rf.30ae7f3faea41f38312a0090d64f33e3.jpg: 256x256 DuroRiadoRio 1.00, RiadoRio 0.00, Mole 0.00, RioFechado 0.00, Quebrado 0.00, 3.9ms\n",
            "Speed: 1.4ms preprocess, 3.9ms inference, 0.0ms postprocess per image at shape (1, 3, 256, 256)\n",
            "\n",
            "image 1/1 /content/drive/MyDrive/TypeCoffee.v25i.folder/test/DuroRiadoRio/07DuroRiadoRio_jpeg.rf.4b36bb37069a8d9f969a3b119def876b.jpg: 256x256 DuroRiadoRio 1.00, RiadoRio 0.00, RioFechado 0.00, Mole 0.00, Quebrado 0.00, 3.9ms\n",
            "Speed: 1.4ms preprocess, 3.9ms inference, 0.0ms postprocess per image at shape (1, 3, 256, 256)\n",
            "\n",
            "image 1/1 /content/drive/MyDrive/TypeCoffee.v25i.folder/test/DuroRiadoRio/WhatsApp-Image-2024-09-06-at-11-41-11-3-_jpeg.rf.bf038f39c98884a7d438df1bd969d490.jpg: 256x256 DuroRiadoRio 1.00, Mole 0.00, RioFechado 0.00, RiadoRio 0.00, Quebrado 0.00, 3.9ms\n",
            "Speed: 1.3ms preprocess, 3.9ms inference, 0.0ms postprocess per image at shape (1, 3, 256, 256)\n",
            "\n",
            "image 1/1 /content/drive/MyDrive/TypeCoffee.v25i.folder/test/DuroRiadoRio/DuroRiadoRio008_jpeg.rf.75940b0f983945c67e908def6e2c5b03.jpg: 256x256 DuroRiadoRio 0.66, Mole 0.34, RioFechado 0.00, RiadoRio 0.00, Quebrado 0.00, 4.7ms\n",
            "Speed: 1.5ms preprocess, 4.7ms inference, 0.0ms postprocess per image at shape (1, 3, 256, 256)\n",
            "\n",
            "image 1/1 /content/drive/MyDrive/TypeCoffee.v25i.folder/test/DuroRiadoRio/04DuroRiadoRio_jpeg.rf.d3948d46f2e53aba0394990f281d7251.jpg: 256x256 DuroRiadoRio 1.00, RiadoRio 0.00, RioFechado 0.00, Mole 0.00, Quebrado 0.00, 4.7ms\n",
            "Speed: 1.6ms preprocess, 4.7ms inference, 0.0ms postprocess per image at shape (1, 3, 256, 256)\n",
            "\n",
            "image 1/1 /content/drive/MyDrive/TypeCoffee.v25i.folder/test/DuroRiadoRio/WhatsApp-Image-2024-09-06-at-11-41-08-1-_jpeg.rf.6b9b85763eb947aa24948983d5f031ab.jpg: 256x256 DuroRiadoRio 1.00, Mole 0.00, RiadoRio 0.00, Quebrado 0.00, RioFechado 0.00, 4.0ms\n",
            "Speed: 1.5ms preprocess, 4.0ms inference, 0.0ms postprocess per image at shape (1, 3, 256, 256)\n",
            "\n",
            "image 1/1 /content/drive/MyDrive/TypeCoffee.v25i.folder/test/DuroRiadoRio/11DuroRiadoRio_jpeg.rf.5434f63f8ca2e9fabb833aa06d9e8c60.jpg: 256x256 DuroRiadoRio 1.00, RiadoRio 0.00, Mole 0.00, RioFechado 0.00, Quebrado 0.00, 3.9ms\n",
            "Speed: 2.2ms preprocess, 3.9ms inference, 0.0ms postprocess per image at shape (1, 3, 256, 256)\n",
            "\n",
            "image 1/1 /content/drive/MyDrive/TypeCoffee.v25i.folder/test/DuroRiadoRio/Duro007.jpg: 256x256 DuroRiadoRio 1.00, RiadoRio 0.00, RioFechado 0.00, Mole 0.00, Quebrado 0.00, 3.8ms\n",
            "Speed: 1.4ms preprocess, 3.8ms inference, 0.0ms postprocess per image at shape (1, 3, 256, 256)\n",
            "\n",
            "image 1/1 /content/drive/MyDrive/TypeCoffee.v25i.folder/test/DuroRiadoRio/Duro008.jpg: 256x256 DuroRiadoRio 1.00, RiadoRio 0.00, RioFechado 0.00, Quebrado 0.00, Mole 0.00, 3.9ms\n",
            "Speed: 1.4ms preprocess, 3.9ms inference, 0.0ms postprocess per image at shape (1, 3, 256, 256)\n",
            "\n",
            "image 1/1 /content/drive/MyDrive/TypeCoffee.v25i.folder/test/DuroRiadoRio/Duro006.jpg: 256x256 DuroRiadoRio 1.00, RiadoRio 0.00, RioFechado 0.00, Quebrado 0.00, Mole 0.00, 3.7ms\n",
            "Speed: 1.3ms preprocess, 3.7ms inference, 0.0ms postprocess per image at shape (1, 3, 256, 256)\n",
            "\n",
            "image 1/1 /content/drive/MyDrive/TypeCoffee.v25i.folder/test/DuroRiadoRio/Duro009.jpg: 256x256 DuroRiadoRio 1.00, RiadoRio 0.00, RioFechado 0.00, Quebrado 0.00, Mole 0.00, 4.6ms\n",
            "Speed: 1.8ms preprocess, 4.6ms inference, 0.0ms postprocess per image at shape (1, 3, 256, 256)\n",
            "\n",
            "image 1/1 /content/drive/MyDrive/TypeCoffee.v25i.folder/test/DuroRiadoRio/Duro011.jpg: 256x256 DuroRiadoRio 1.00, RiadoRio 0.00, RioFechado 0.00, Quebrado 0.00, Mole 0.00, 3.9ms\n",
            "Speed: 1.4ms preprocess, 3.9ms inference, 0.0ms postprocess per image at shape (1, 3, 256, 256)\n",
            "\n",
            "image 1/1 /content/drive/MyDrive/TypeCoffee.v25i.folder/test/DuroRiadoRio/Duro010.jpg: 256x256 DuroRiadoRio 1.00, RiadoRio 0.00, RioFechado 0.00, Quebrado 0.00, Mole 0.00, 4.5ms\n",
            "Speed: 1.6ms preprocess, 4.5ms inference, 0.0ms postprocess per image at shape (1, 3, 256, 256)\n",
            "\n",
            "image 1/1 /content/drive/MyDrive/TypeCoffee.v25i.folder/test/DuroRiadoRio/Duro002.jpg: 256x256 DuroRiadoRio 0.99, RiadoRio 0.01, RioFechado 0.00, Mole 0.00, Quebrado 0.00, 3.8ms\n",
            "Speed: 1.3ms preprocess, 3.8ms inference, 0.0ms postprocess per image at shape (1, 3, 256, 256)\n",
            "\n",
            "image 1/1 /content/drive/MyDrive/TypeCoffee.v25i.folder/test/DuroRiadoRio/Duro001.jpg: 256x256 DuroRiadoRio 0.87, RiadoRio 0.13, RioFechado 0.00, Quebrado 0.00, Mole 0.00, 4.4ms\n",
            "Speed: 1.5ms preprocess, 4.4ms inference, 0.0ms postprocess per image at shape (1, 3, 256, 256)\n",
            "\n",
            "image 1/1 /content/drive/MyDrive/TypeCoffee.v25i.folder/test/DuroRiadoRio/Duro003.jpg: 256x256 DuroRiadoRio 1.00, RioFechado 0.00, RiadoRio 0.00, Quebrado 0.00, Mole 0.00, 3.8ms\n",
            "Speed: 1.2ms preprocess, 3.8ms inference, 0.0ms postprocess per image at shape (1, 3, 256, 256)\n",
            "\n",
            "image 1/1 /content/drive/MyDrive/TypeCoffee.v25i.folder/test/DuroRiadoRio/Duro004.jpg: 256x256 DuroRiadoRio 1.00, RiadoRio 0.00, RioFechado 0.00, Quebrado 0.00, Mole 0.00, 3.7ms\n",
            "Speed: 1.3ms preprocess, 3.7ms inference, 0.0ms postprocess per image at shape (1, 3, 256, 256)\n",
            "\n",
            "image 1/1 /content/drive/MyDrive/TypeCoffee.v25i.folder/test/DuroRiadoRio/Duro005.jpg: 256x256 DuroRiadoRio 1.00, RiadoRio 0.00, Mole 0.00, RioFechado 0.00, Quebrado 0.00, 3.6ms\n",
            "Speed: 1.3ms preprocess, 3.6ms inference, 0.0ms postprocess per image at shape (1, 3, 256, 256)\n",
            "Precisão: 0.934106\n",
            "Recall: 0.934019\n",
            "F1-Score: 0.930440\n",
            "acuracia: 0.930000\n"
          ]
        }
      ],
      "source": [
        "import numpy as np\n",
        "from sklearn.metrics import precision_score, recall_score, f1_score, accuracy_score\n",
        "import os\n",
        "\n",
        "# Definição das classes\n",
        "classes = ['DuroRiadoRio', 'Mole', 'Quebrado', 'RiadoRio', 'RioFechado']\n",
        "\n",
        "# Diretório das imagens de teste\n",
        "teste_path = \"/content/drive/MyDrive/TypeCoffee.v25i.folder/test\"\n",
        "\n",
        "# Listar imagens de teste\n",
        "imagens_teste = [os.path.join(teste_path, classe, img)\n",
        "                 for classe in os.listdir(teste_path)\n",
        "                 for img in os.listdir(os.path.join(teste_path, classe)) if img.endswith(\".jpg\")]\n",
        "\n",
        "# Fazer previsões e armazenar os rótulos\n",
        "true_labels = []\n",
        "pred_labels = []\n",
        "\n",
        "# Rodar inferência com o YOLO11\n",
        "for img in imagens_teste:\n",
        "    resultado = model(img)  # Executa a inferência\n",
        "    classe_predita = resultado[0].probs.top1  # Obtém a classe prevista como índice numérico\n",
        "    true_class = os.path.basename(os.path.dirname(img))  # Classe verdadeira baseada na pasta\n",
        "\n",
        "    true_labels.append(classes.index(true_class))  # Converter para índice numérico\n",
        "    pred_labels.append(classe_predita)  # Agora armazenamos diretamente o índice numérico\n",
        "\n",
        "# Calcular métricas\n",
        "precisao = precision_score(true_labels, pred_labels, average='macro')\n",
        "recall = recall_score(true_labels, pred_labels, average='macro')\n",
        "f1 = f1_score(true_labels, pred_labels, average='macro')\n",
        "acuracia = accuracy_score(true_labels, pred_labels)\n",
        "\n",
        "print(f'Precisão: {precisao:.6f}')\n",
        "print(f'Recall: {recall:.6f}')\n",
        "print(f'F1-Score: {f1:.6f}')\n",
        "print(f'acuracia: {acuracia:.6f}')"
      ]
    },
    {
      "cell_type": "code",
      "source": [
        "import os\n",
        "import random\n",
        "import time\n",
        "import torch\n",
        "from collections import Counter\n",
        "\n",
        "# Carregar modelo YOLO v11\n",
        "#modelo = YOLO(\"/content/best.pt\")\n",
        "\n",
        "# Diretório de teste das imagens\n",
        "diretorio_teste = \"/content/drive/MyDrive/TypeCoffee.v25i.folder/test\"\n",
        "\n",
        "# Função para obter todas as imagens de uma classe\n",
        "def obter_imagens_da_classe(classe, diretorio):\n",
        "    caminho_classe = os.path.join(diretorio, classe)\n",
        "    return [os.path.join(caminho_classe, img) for img in os.listdir(caminho_classe) if img.endswith(('.jpg', '.png'))]\n",
        "\n",
        "# Seleção e predição das imagens com medição de tempo\n",
        "def pred_imagens():\n",
        "    classes = [classe for classe in os.listdir(diretorio_teste) if os.path.isdir(os.path.join(diretorio_teste, classe))]\n",
        "    tempos_de_inferencia = []\n",
        "\n",
        "    for classe in classes:\n",
        "        imagens = obter_imagens_da_classe(classe, diretorio_teste)\n",
        "\n",
        "        if len(imagens) < 3:\n",
        "            print(f\"Classe {classe} não possui imagens suficientes para teste.\")\n",
        "            continue\n",
        "\n",
        "        for i in range(min(45, len(imagens))):\n",
        "            inicio = time.time()  # Início da medição de tempo\n",
        "            imagem_teste = imagens[i]\n",
        "            imagens_restantes = [img for img in imagens if img != imagem_teste]\n",
        "            imagens_aleatorias = random.sample(imagens_restantes, 2)\n",
        "\n",
        "            imagens_para_predicao = [imagem_teste] + imagens_aleatorias\n",
        "\n",
        "\n",
        "            classes_preditas = [model(img)[0].probs.top1 for img in imagens_para_predicao]\n",
        "            moda_classe = Counter(classes_preditas).most_common(1)[0][0]\n",
        "            time.sleep(6)\n",
        "            fim = time.time()  # Fim da medição de tempo\n",
        "            tempo_inferencia = fim - inicio\n",
        "            tempos_de_inferencia.append(tempo_inferencia)\n",
        "\n",
        "            print(f\"Imagem de teste: {imagem_teste}\")\n",
        "            print(f\"Classes preditas: {classes_preditas}\")\n",
        "            print(f\"Moda das predições: {moda_classe}\")\n",
        "            print(f\"Tempo de inferência: {tempo_inferencia:.4f} segundos\\n\")\n",
        "\n",
        "      #Calcular o tempo médio de inferência\n",
        "        tempo_medio = sum(tempos_de_inferencia) / len(tempos_de_inferencia) if tempos_de_inferencia else 0\n",
        "        print(f\"Tempo médio de inferência: {tempo_medio:.4f} segundos\")\n",
        "\n",
        "# Executar a predição\n",
        "pred_imagens()"
      ],
      "metadata": {
        "id": "Ufr6jul6fThu",
        "outputId": "d10bd0ce-cbb9-48f7-f9f5-a6f4e77777d3",
        "colab": {
          "base_uri": "https://localhost:8080/"
        }
      },
      "execution_count": null,
      "outputs": [
        {
          "output_type": "stream",
          "name": "stdout",
          "text": [
            "\n",
            "image 1/1 /content/drive/MyDrive/TypeCoffee.v31i.folder/test/RioFechado/RioFechado_jpg.rf.8b48749bf8f3515bab5fcafb3f297c13.jpg: 256x256 Quebrado 0.56, RioFechado 0.44, DuroRiadoRio 0.00, RiadoRio 0.00, Mole 0.00, 4.3ms\n",
            "Speed: 1.5ms preprocess, 4.3ms inference, 0.0ms postprocess per image at shape (1, 3, 256, 256)\n",
            "\n",
            "image 1/1 /content/drive/MyDrive/TypeCoffee.v31i.folder/test/RioFechado/RioFechado002_jpg.rf.a1116dd79995a37e05e23cdde44c977f.jpg: 256x256 RioFechado 0.97, Quebrado 0.03, DuroRiadoRio 0.00, RiadoRio 0.00, Mole 0.00, 3.8ms\n",
            "Speed: 1.4ms preprocess, 3.8ms inference, 0.0ms postprocess per image at shape (1, 3, 256, 256)\n",
            "\n",
            "image 1/1 /content/drive/MyDrive/TypeCoffee.v31i.folder/test/RioFechado/RioFechado010_jpg.rf.b19dd9c63d111881348ff228cbf9dce4.jpg: 256x256 RioFechado 1.00, Quebrado 0.00, DuroRiadoRio 0.00, RiadoRio 0.00, Mole 0.00, 4.1ms\n",
            "Speed: 1.4ms preprocess, 4.1ms inference, 0.0ms postprocess per image at shape (1, 3, 256, 256)\n",
            "Imagem de teste: /content/drive/MyDrive/TypeCoffee.v31i.folder/test/RioFechado/RioFechado_jpg.rf.8b48749bf8f3515bab5fcafb3f297c13.jpg\n",
            "Classes preditas: [2, 4, 4]\n",
            "Moda das predições: 4\n",
            "Tempo de inferência: 6.0337 segundos\n",
            "\n",
            "\n",
            "image 1/1 /content/drive/MyDrive/TypeCoffee.v31i.folder/test/RioFechado/RioFechado006_jpg.rf.647290415ef74153ec5ddcf7aa100a76.jpg: 256x256 Quebrado 0.89, RioFechado 0.11, DuroRiadoRio 0.00, RiadoRio 0.00, Mole 0.00, 5.0ms\n",
            "Speed: 2.0ms preprocess, 5.0ms inference, 0.1ms postprocess per image at shape (1, 3, 256, 256)\n",
            "\n",
            "image 1/1 /content/drive/MyDrive/TypeCoffee.v31i.folder/test/RioFechado/06RioFechado_jpeg.rf.89ab8b7578845f7bd7497ae9beceb893.jpg: 256x256 RioFechado 1.00, RiadoRio 0.00, DuroRiadoRio 0.00, Quebrado 0.00, Mole 0.00, 5.6ms\n",
            "Speed: 1.6ms preprocess, 5.6ms inference, 0.1ms postprocess per image at shape (1, 3, 256, 256)\n",
            "\n",
            "image 1/1 /content/drive/MyDrive/TypeCoffee.v31i.folder/test/RioFechado/RioFechado002_jpg.rf.a1116dd79995a37e05e23cdde44c977f.jpg: 256x256 RioFechado 0.97, Quebrado 0.03, DuroRiadoRio 0.00, RiadoRio 0.00, Mole 0.00, 5.1ms\n",
            "Speed: 1.5ms preprocess, 5.1ms inference, 0.0ms postprocess per image at shape (1, 3, 256, 256)\n",
            "Imagem de teste: /content/drive/MyDrive/TypeCoffee.v31i.folder/test/RioFechado/RioFechado006_jpg.rf.647290415ef74153ec5ddcf7aa100a76.jpg\n",
            "Classes preditas: [2, 4, 4]\n",
            "Moda das predições: 4\n",
            "Tempo de inferência: 6.0396 segundos\n",
            "\n",
            "\n",
            "image 1/1 /content/drive/MyDrive/TypeCoffee.v31i.folder/test/RioFechado/RioFechado007_jpg.rf.25a70f18c35d6806e919de640a8e94f5.jpg: 256x256 RioFechado 0.94, Quebrado 0.06, DuroRiadoRio 0.00, RiadoRio 0.00, Mole 0.00, 5.1ms\n",
            "Speed: 2.0ms preprocess, 5.1ms inference, 0.1ms postprocess per image at shape (1, 3, 256, 256)\n",
            "\n",
            "image 1/1 /content/drive/MyDrive/TypeCoffee.v31i.folder/test/RioFechado/RioFechado3_jpg.rf.70265355922def1501c0a8020e64b077.jpg: 256x256 Quebrado 0.52, RioFechado 0.48, DuroRiadoRio 0.00, RiadoRio 0.00, Mole 0.00, 4.9ms\n",
            "Speed: 1.6ms preprocess, 4.9ms inference, 0.0ms postprocess per image at shape (1, 3, 256, 256)\n",
            "\n",
            "image 1/1 /content/drive/MyDrive/TypeCoffee.v31i.folder/test/RioFechado/RioFechado010_jpg.rf.b19dd9c63d111881348ff228cbf9dce4.jpg: 256x256 RioFechado 1.00, Quebrado 0.00, DuroRiadoRio 0.00, RiadoRio 0.00, Mole 0.00, 5.0ms\n",
            "Speed: 1.4ms preprocess, 5.0ms inference, 0.0ms postprocess per image at shape (1, 3, 256, 256)\n",
            "Imagem de teste: /content/drive/MyDrive/TypeCoffee.v31i.folder/test/RioFechado/RioFechado007_jpg.rf.25a70f18c35d6806e919de640a8e94f5.jpg\n",
            "Classes preditas: [4, 2, 4]\n",
            "Moda das predições: 4\n",
            "Tempo de inferência: 6.0404 segundos\n",
            "\n",
            "\n",
            "image 1/1 /content/drive/MyDrive/TypeCoffee.v31i.folder/test/RioFechado/RioFechado3_jpg.rf.70265355922def1501c0a8020e64b077.jpg: 256x256 Quebrado 0.52, RioFechado 0.48, DuroRiadoRio 0.00, RiadoRio 0.00, Mole 0.00, 5.5ms\n",
            "Speed: 2.3ms preprocess, 5.5ms inference, 0.1ms postprocess per image at shape (1, 3, 256, 256)\n",
            "\n",
            "image 1/1 /content/drive/MyDrive/TypeCoffee.v31i.folder/test/RioFechado/RioFechado006_jpg.rf.647290415ef74153ec5ddcf7aa100a76.jpg: 256x256 Quebrado 0.89, RioFechado 0.11, DuroRiadoRio 0.00, RiadoRio 0.00, Mole 0.00, 4.3ms\n",
            "Speed: 1.5ms preprocess, 4.3ms inference, 0.0ms postprocess per image at shape (1, 3, 256, 256)\n",
            "\n",
            "image 1/1 /content/drive/MyDrive/TypeCoffee.v31i.folder/test/RioFechado/RioFechado001_jpg.rf.fcb1248153859b0bb85dff55caa22e25.jpg: 256x256 RioFechado 1.00, Quebrado 0.00, RiadoRio 0.00, DuroRiadoRio 0.00, Mole 0.00, 4.3ms\n",
            "Speed: 1.4ms preprocess, 4.3ms inference, 0.0ms postprocess per image at shape (1, 3, 256, 256)\n",
            "Imagem de teste: /content/drive/MyDrive/TypeCoffee.v31i.folder/test/RioFechado/RioFechado3_jpg.rf.70265355922def1501c0a8020e64b077.jpg\n",
            "Classes preditas: [2, 2, 4]\n",
            "Moda das predições: 2\n",
            "Tempo de inferência: 6.0401 segundos\n",
            "\n",
            "\n",
            "image 1/1 /content/drive/MyDrive/TypeCoffee.v31i.folder/test/RioFechado/RioFechado2_jpg.rf.01e4adfa40756f3d411e2acb3fdfa176.jpg: 256x256 RioFechado 0.91, Quebrado 0.09, DuroRiadoRio 0.00, RiadoRio 0.00, Mole 0.00, 4.9ms\n",
            "Speed: 2.0ms preprocess, 4.9ms inference, 0.1ms postprocess per image at shape (1, 3, 256, 256)\n",
            "\n",
            "image 1/1 /content/drive/MyDrive/TypeCoffee.v31i.folder/test/RioFechado/RioFechado003_jpg.rf.2a3e3199b3c22519f9e5df8afbf76e8d.jpg: 256x256 RioFechado 0.96, Quebrado 0.04, DuroRiadoRio 0.00, RiadoRio 0.00, Mole 0.00, 4.3ms\n",
            "Speed: 1.4ms preprocess, 4.3ms inference, 0.0ms postprocess per image at shape (1, 3, 256, 256)\n",
            "\n",
            "image 1/1 /content/drive/MyDrive/TypeCoffee.v31i.folder/test/RioFechado/RioFechado004_jpg.rf.acfb4464ff5382f5fb0beed28a585cd6.jpg: 256x256 RioFechado 0.70, Quebrado 0.30, DuroRiadoRio 0.00, RiadoRio 0.00, Mole 0.00, 4.3ms\n",
            "Speed: 1.6ms preprocess, 4.3ms inference, 0.0ms postprocess per image at shape (1, 3, 256, 256)\n",
            "Imagem de teste: /content/drive/MyDrive/TypeCoffee.v31i.folder/test/RioFechado/RioFechado2_jpg.rf.01e4adfa40756f3d411e2acb3fdfa176.jpg\n",
            "Classes preditas: [4, 4, 4]\n",
            "Moda das predições: 4\n",
            "Tempo de inferência: 6.0377 segundos\n",
            "\n",
            "\n",
            "image 1/1 /content/drive/MyDrive/TypeCoffee.v31i.folder/test/RioFechado/RioFechado010_jpg.rf.b19dd9c63d111881348ff228cbf9dce4.jpg: 256x256 RioFechado 1.00, Quebrado 0.00, DuroRiadoRio 0.00, RiadoRio 0.00, Mole 0.00, 4.9ms\n",
            "Speed: 1.9ms preprocess, 4.9ms inference, 0.1ms postprocess per image at shape (1, 3, 256, 256)\n",
            "\n",
            "image 1/1 /content/drive/MyDrive/TypeCoffee.v31i.folder/test/RioFechado/01RioFechado_jpeg.rf.7594d710c223455c8bd3f88a33378f57.jpg: 256x256 RioFechado 1.00, RiadoRio 0.00, Quebrado 0.00, DuroRiadoRio 0.00, Mole 0.00, 5.0ms\n",
            "Speed: 1.6ms preprocess, 5.0ms inference, 0.1ms postprocess per image at shape (1, 3, 256, 256)\n",
            "\n",
            "image 1/1 /content/drive/MyDrive/TypeCoffee.v31i.folder/test/RioFechado/06RioFechado_jpeg.rf.89ab8b7578845f7bd7497ae9beceb893.jpg: 256x256 RioFechado 1.00, RiadoRio 0.00, DuroRiadoRio 0.00, Quebrado 0.00, Mole 0.00, 4.2ms\n",
            "Speed: 1.4ms preprocess, 4.2ms inference, 0.1ms postprocess per image at shape (1, 3, 256, 256)\n",
            "Imagem de teste: /content/drive/MyDrive/TypeCoffee.v31i.folder/test/RioFechado/RioFechado010_jpg.rf.b19dd9c63d111881348ff228cbf9dce4.jpg\n",
            "Classes preditas: [4, 4, 4]\n",
            "Moda das predições: 4\n",
            "Tempo de inferência: 6.0383 segundos\n",
            "\n",
            "\n",
            "image 1/1 /content/drive/MyDrive/TypeCoffee.v31i.folder/test/RioFechado/RioFechado004_jpg.rf.acfb4464ff5382f5fb0beed28a585cd6.jpg: 256x256 RioFechado 0.70, Quebrado 0.30, DuroRiadoRio 0.00, RiadoRio 0.00, Mole 0.00, 5.4ms\n",
            "Speed: 2.4ms preprocess, 5.4ms inference, 0.1ms postprocess per image at shape (1, 3, 256, 256)\n",
            "\n",
            "image 1/1 /content/drive/MyDrive/TypeCoffee.v31i.folder/test/RioFechado/RioFechado006_jpg.rf.647290415ef74153ec5ddcf7aa100a76.jpg: 256x256 Quebrado 0.89, RioFechado 0.11, DuroRiadoRio 0.00, RiadoRio 0.00, Mole 0.00, 4.1ms\n",
            "Speed: 1.4ms preprocess, 4.1ms inference, 0.0ms postprocess per image at shape (1, 3, 256, 256)\n",
            "\n",
            "image 1/1 /content/drive/MyDrive/TypeCoffee.v31i.folder/test/RioFechado/RioFechado010_jpg.rf.b19dd9c63d111881348ff228cbf9dce4.jpg: 256x256 RioFechado 1.00, Quebrado 0.00, DuroRiadoRio 0.00, RiadoRio 0.00, Mole 0.00, 4.3ms\n",
            "Speed: 1.4ms preprocess, 4.3ms inference, 0.0ms postprocess per image at shape (1, 3, 256, 256)\n",
            "Imagem de teste: /content/drive/MyDrive/TypeCoffee.v31i.folder/test/RioFechado/RioFechado004_jpg.rf.acfb4464ff5382f5fb0beed28a585cd6.jpg\n",
            "Classes preditas: [4, 2, 4]\n",
            "Moda das predições: 4\n",
            "Tempo de inferência: 6.0384 segundos\n",
            "\n",
            "\n",
            "image 1/1 /content/drive/MyDrive/TypeCoffee.v31i.folder/test/RioFechado/RioFechado005_jpg.rf.c3f525ea8cb4a6b1a27a37cff93d8404.jpg: 256x256 Quebrado 0.74, RioFechado 0.26, DuroRiadoRio 0.00, RiadoRio 0.00, Mole 0.00, 4.9ms\n",
            "Speed: 2.0ms preprocess, 4.9ms inference, 0.1ms postprocess per image at shape (1, 3, 256, 256)\n",
            "\n",
            "image 1/1 /content/drive/MyDrive/TypeCoffee.v31i.folder/test/RioFechado/RioFechado004_jpg.rf.acfb4464ff5382f5fb0beed28a585cd6.jpg: 256x256 RioFechado 0.70, Quebrado 0.30, DuroRiadoRio 0.00, RiadoRio 0.00, Mole 0.00, 4.6ms\n",
            "Speed: 1.6ms preprocess, 4.6ms inference, 0.1ms postprocess per image at shape (1, 3, 256, 256)\n",
            "\n",
            "image 1/1 /content/drive/MyDrive/TypeCoffee.v31i.folder/test/RioFechado/RioFechado010_jpg.rf.b19dd9c63d111881348ff228cbf9dce4.jpg: 256x256 RioFechado 1.00, Quebrado 0.00, DuroRiadoRio 0.00, RiadoRio 0.00, Mole 0.00, 4.2ms\n",
            "Speed: 1.5ms preprocess, 4.2ms inference, 0.0ms postprocess per image at shape (1, 3, 256, 256)\n",
            "Imagem de teste: /content/drive/MyDrive/TypeCoffee.v31i.folder/test/RioFechado/RioFechado005_jpg.rf.c3f525ea8cb4a6b1a27a37cff93d8404.jpg\n",
            "Classes preditas: [2, 4, 4]\n",
            "Moda das predições: 4\n",
            "Tempo de inferência: 6.0382 segundos\n",
            "\n",
            "\n",
            "image 1/1 /content/drive/MyDrive/TypeCoffee.v31i.folder/test/RioFechado/01RioFechado_jpeg.rf.7594d710c223455c8bd3f88a33378f57.jpg: 256x256 RioFechado 1.00, RiadoRio 0.00, Quebrado 0.00, DuroRiadoRio 0.00, Mole 0.00, 6.2ms\n",
            "Speed: 2.4ms preprocess, 6.2ms inference, 0.1ms postprocess per image at shape (1, 3, 256, 256)\n",
            "\n",
            "image 1/1 /content/drive/MyDrive/TypeCoffee.v31i.folder/test/RioFechado/RioFechado002_jpg.rf.a1116dd79995a37e05e23cdde44c977f.jpg: 256x256 RioFechado 0.97, Quebrado 0.03, DuroRiadoRio 0.00, RiadoRio 0.00, Mole 0.00, 4.4ms\n",
            "Speed: 1.5ms preprocess, 4.4ms inference, 0.0ms postprocess per image at shape (1, 3, 256, 256)\n",
            "\n",
            "image 1/1 /content/drive/MyDrive/TypeCoffee.v31i.folder/test/RioFechado/RioFechado003_jpg.rf.2a3e3199b3c22519f9e5df8afbf76e8d.jpg: 256x256 RioFechado 0.96, Quebrado 0.04, DuroRiadoRio 0.00, RiadoRio 0.00, Mole 0.00, 5.5ms\n",
            "Speed: 1.6ms preprocess, 5.5ms inference, 0.0ms postprocess per image at shape (1, 3, 256, 256)\n",
            "Imagem de teste: /content/drive/MyDrive/TypeCoffee.v31i.folder/test/RioFechado/01RioFechado_jpeg.rf.7594d710c223455c8bd3f88a33378f57.jpg\n",
            "Classes preditas: [4, 4, 4]\n",
            "Moda das predições: 4\n",
            "Tempo de inferência: 6.0438 segundos\n",
            "\n",
            "\n",
            "image 1/1 /content/drive/MyDrive/TypeCoffee.v31i.folder/test/RioFechado/06RioFechado_jpeg.rf.89ab8b7578845f7bd7497ae9beceb893.jpg: 256x256 RioFechado 1.00, RiadoRio 0.00, DuroRiadoRio 0.00, Quebrado 0.00, Mole 0.00, 4.9ms\n",
            "Speed: 2.0ms preprocess, 4.9ms inference, 0.1ms postprocess per image at shape (1, 3, 256, 256)\n",
            "\n",
            "image 1/1 /content/drive/MyDrive/TypeCoffee.v31i.folder/test/RioFechado/RioFechado3_jpg.rf.70265355922def1501c0a8020e64b077.jpg: 256x256 Quebrado 0.52, RioFechado 0.48, DuroRiadoRio 0.00, RiadoRio 0.00, Mole 0.00, 4.2ms\n",
            "Speed: 1.5ms preprocess, 4.2ms inference, 0.0ms postprocess per image at shape (1, 3, 256, 256)\n",
            "\n",
            "image 1/1 /content/drive/MyDrive/TypeCoffee.v31i.folder/test/RioFechado/01RioFechado_jpeg.rf.7594d710c223455c8bd3f88a33378f57.jpg: 256x256 RioFechado 1.00, RiadoRio 0.00, Quebrado 0.00, DuroRiadoRio 0.00, Mole 0.00, 4.1ms\n",
            "Speed: 1.3ms preprocess, 4.1ms inference, 0.1ms postprocess per image at shape (1, 3, 256, 256)\n",
            "Imagem de teste: /content/drive/MyDrive/TypeCoffee.v31i.folder/test/RioFechado/06RioFechado_jpeg.rf.89ab8b7578845f7bd7497ae9beceb893.jpg\n",
            "Classes preditas: [4, 2, 4]\n",
            "Moda das predições: 4\n",
            "Tempo de inferência: 6.0374 segundos\n",
            "\n",
            "\n",
            "image 1/1 /content/drive/MyDrive/TypeCoffee.v31i.folder/test/RioFechado/RioFechado002_jpg.rf.a1116dd79995a37e05e23cdde44c977f.jpg: 256x256 RioFechado 0.97, Quebrado 0.03, DuroRiadoRio 0.00, RiadoRio 0.00, Mole 0.00, 4.9ms\n",
            "Speed: 1.9ms preprocess, 4.9ms inference, 0.1ms postprocess per image at shape (1, 3, 256, 256)\n",
            "\n",
            "image 1/1 /content/drive/MyDrive/TypeCoffee.v31i.folder/test/RioFechado/RioFechado005_jpg.rf.c3f525ea8cb4a6b1a27a37cff93d8404.jpg: 256x256 Quebrado 0.74, RioFechado 0.26, DuroRiadoRio 0.00, RiadoRio 0.00, Mole 0.00, 4.1ms\n",
            "Speed: 1.6ms preprocess, 4.1ms inference, 0.0ms postprocess per image at shape (1, 3, 256, 256)\n",
            "\n",
            "image 1/1 /content/drive/MyDrive/TypeCoffee.v31i.folder/test/RioFechado/RioFechado001_jpg.rf.fcb1248153859b0bb85dff55caa22e25.jpg: 256x256 RioFechado 1.00, Quebrado 0.00, RiadoRio 0.00, DuroRiadoRio 0.00, Mole 0.00, 4.2ms\n",
            "Speed: 1.4ms preprocess, 4.2ms inference, 0.0ms postprocess per image at shape (1, 3, 256, 256)\n",
            "Imagem de teste: /content/drive/MyDrive/TypeCoffee.v31i.folder/test/RioFechado/RioFechado002_jpg.rf.a1116dd79995a37e05e23cdde44c977f.jpg\n",
            "Classes preditas: [4, 2, 4]\n",
            "Moda das predições: 4\n",
            "Tempo de inferência: 6.0362 segundos\n",
            "\n",
            "\n",
            "image 1/1 /content/drive/MyDrive/TypeCoffee.v31i.folder/test/RioFechado/RioFechado003_jpg.rf.2a3e3199b3c22519f9e5df8afbf76e8d.jpg: 256x256 RioFechado 0.96, Quebrado 0.04, DuroRiadoRio 0.00, RiadoRio 0.00, Mole 0.00, 5.0ms\n",
            "Speed: 1.9ms preprocess, 5.0ms inference, 0.1ms postprocess per image at shape (1, 3, 256, 256)\n",
            "\n",
            "image 1/1 /content/drive/MyDrive/TypeCoffee.v31i.folder/test/RioFechado/01RioFechado_jpeg.rf.7594d710c223455c8bd3f88a33378f57.jpg: 256x256 RioFechado 1.00, RiadoRio 0.00, Quebrado 0.00, DuroRiadoRio 0.00, Mole 0.00, 4.4ms\n",
            "Speed: 1.4ms preprocess, 4.4ms inference, 0.0ms postprocess per image at shape (1, 3, 256, 256)\n",
            "\n",
            "image 1/1 /content/drive/MyDrive/TypeCoffee.v31i.folder/test/RioFechado/RioFechado2_jpg.rf.01e4adfa40756f3d411e2acb3fdfa176.jpg: 256x256 RioFechado 0.91, Quebrado 0.09, DuroRiadoRio 0.00, RiadoRio 0.00, Mole 0.00, 4.1ms\n",
            "Speed: 1.4ms preprocess, 4.1ms inference, 0.0ms postprocess per image at shape (1, 3, 256, 256)\n",
            "Imagem de teste: /content/drive/MyDrive/TypeCoffee.v31i.folder/test/RioFechado/RioFechado003_jpg.rf.2a3e3199b3c22519f9e5df8afbf76e8d.jpg\n",
            "Classes preditas: [4, 4, 4]\n",
            "Moda das predições: 4\n",
            "Tempo de inferência: 6.0367 segundos\n",
            "\n",
            "\n",
            "image 1/1 /content/drive/MyDrive/TypeCoffee.v31i.folder/test/RioFechado/RioFechado001_jpg.rf.fcb1248153859b0bb85dff55caa22e25.jpg: 256x256 RioFechado 1.00, Quebrado 0.00, RiadoRio 0.00, DuroRiadoRio 0.00, Mole 0.00, 4.6ms\n",
            "Speed: 2.0ms preprocess, 4.6ms inference, 0.1ms postprocess per image at shape (1, 3, 256, 256)\n",
            "\n",
            "image 1/1 /content/drive/MyDrive/TypeCoffee.v31i.folder/test/RioFechado/RioFechado_jpg.rf.8b48749bf8f3515bab5fcafb3f297c13.jpg: 256x256 Quebrado 0.56, RioFechado 0.44, DuroRiadoRio 0.00, RiadoRio 0.00, Mole 0.00, 4.4ms\n",
            "Speed: 1.5ms preprocess, 4.4ms inference, 0.0ms postprocess per image at shape (1, 3, 256, 256)\n",
            "\n",
            "image 1/1 /content/drive/MyDrive/TypeCoffee.v31i.folder/test/RioFechado/01RioFechado_jpeg.rf.7594d710c223455c8bd3f88a33378f57.jpg: 256x256 RioFechado 1.00, RiadoRio 0.00, Quebrado 0.00, DuroRiadoRio 0.00, Mole 0.00, 4.1ms\n",
            "Speed: 1.3ms preprocess, 4.1ms inference, 0.0ms postprocess per image at shape (1, 3, 256, 256)\n",
            "Imagem de teste: /content/drive/MyDrive/TypeCoffee.v31i.folder/test/RioFechado/RioFechado001_jpg.rf.fcb1248153859b0bb85dff55caa22e25.jpg\n",
            "Classes preditas: [4, 2, 4]\n",
            "Moda das predições: 4\n",
            "Tempo de inferência: 6.0370 segundos\n",
            "\n",
            "Tempo médio de inferência: 6.0383 segundos\n",
            "\n",
            "image 1/1 /content/drive/MyDrive/TypeCoffee.v31i.folder/test/RiadoRio/RiadoRio003_jpg.rf.4b9882c43c7a3be2509702349d46dec2.jpg: 256x256 RiadoRio 1.00, DuroRiadoRio 0.00, Mole 0.00, Quebrado 0.00, RioFechado 0.00, 5.1ms\n",
            "Speed: 2.1ms preprocess, 5.1ms inference, 0.2ms postprocess per image at shape (1, 3, 256, 256)\n",
            "\n",
            "image 1/1 /content/drive/MyDrive/TypeCoffee.v31i.folder/test/RiadoRio/RiadoRio004_jpg.rf.cf1c518ac4b176b161b6de216441e288.jpg: 256x256 RiadoRio 0.96, DuroRiadoRio 0.04, RioFechado 0.00, Quebrado 0.00, Mole 0.00, 4.3ms\n",
            "Speed: 2.7ms preprocess, 4.3ms inference, 0.0ms postprocess per image at shape (1, 3, 256, 256)\n",
            "\n",
            "image 1/1 /content/drive/MyDrive/TypeCoffee.v31i.folder/test/RiadoRio/RiadoRio007_jpg.rf.a9adacf491aef40c5556bf0f6bf72645.jpg: 256x256 RiadoRio 1.00, DuroRiadoRio 0.00, Quebrado 0.00, RioFechado 0.00, Mole 0.00, 4.1ms\n",
            "Speed: 1.3ms preprocess, 4.1ms inference, 0.1ms postprocess per image at shape (1, 3, 256, 256)\n",
            "Imagem de teste: /content/drive/MyDrive/TypeCoffee.v31i.folder/test/RiadoRio/RiadoRio003_jpg.rf.4b9882c43c7a3be2509702349d46dec2.jpg\n",
            "Classes preditas: [3, 3, 3]\n",
            "Moda das predições: 3\n",
            "Tempo de inferência: 6.0402 segundos\n",
            "\n",
            "\n",
            "image 1/1 /content/drive/MyDrive/TypeCoffee.v31i.folder/test/RiadoRio/RiadoRio004_jpg.rf.cf1c518ac4b176b161b6de216441e288.jpg: 256x256 RiadoRio 0.96, DuroRiadoRio 0.04, RioFechado 0.00, Quebrado 0.00, Mole 0.00, 6.1ms\n",
            "Speed: 2.2ms preprocess, 6.1ms inference, 0.1ms postprocess per image at shape (1, 3, 256, 256)\n",
            "\n",
            "image 1/1 /content/drive/MyDrive/TypeCoffee.v31i.folder/test/RiadoRio/Riado009_jpg.rf.a8c39cdc54898f1220f866e7d74c5f72.jpg: 256x256 RiadoRio 0.97, DuroRiadoRio 0.03, RioFechado 0.00, Quebrado 0.00, Mole 0.00, 5.1ms\n",
            "Speed: 2.0ms preprocess, 5.1ms inference, 0.0ms postprocess per image at shape (1, 3, 256, 256)\n",
            "\n",
            "image 1/1 /content/drive/MyDrive/TypeCoffee.v31i.folder/test/RiadoRio/Riado011_jpg.rf.c4333b93064fa3d5d404af7ea30460de.jpg: 256x256 RiadoRio 1.00, DuroRiadoRio 0.00, RioFechado 0.00, Quebrado 0.00, Mole 0.00, 4.6ms\n",
            "Speed: 1.4ms preprocess, 4.6ms inference, 0.0ms postprocess per image at shape (1, 3, 256, 256)\n",
            "Imagem de teste: /content/drive/MyDrive/TypeCoffee.v31i.folder/test/RiadoRio/RiadoRio004_jpg.rf.cf1c518ac4b176b161b6de216441e288.jpg\n",
            "Classes preditas: [3, 3, 3]\n",
            "Moda das predições: 3\n",
            "Tempo de inferência: 6.0427 segundos\n",
            "\n",
            "\n",
            "image 1/1 /content/drive/MyDrive/TypeCoffee.v31i.folder/test/RiadoRio/RiadoRio007_jpg.rf.a9adacf491aef40c5556bf0f6bf72645.jpg: 256x256 RiadoRio 1.00, DuroRiadoRio 0.00, Quebrado 0.00, RioFechado 0.00, Mole 0.00, 4.8ms\n",
            "Speed: 2.0ms preprocess, 4.8ms inference, 0.1ms postprocess per image at shape (1, 3, 256, 256)\n",
            "\n",
            "image 1/1 /content/drive/MyDrive/TypeCoffee.v31i.folder/test/RiadoRio/Riado009_jpg.rf.a8c39cdc54898f1220f866e7d74c5f72.jpg: 256x256 RiadoRio 0.97, DuroRiadoRio 0.03, RioFechado 0.00, Quebrado 0.00, Mole 0.00, 4.4ms\n",
            "Speed: 1.5ms preprocess, 4.4ms inference, 0.0ms postprocess per image at shape (1, 3, 256, 256)\n",
            "\n",
            "image 1/1 /content/drive/MyDrive/TypeCoffee.v31i.folder/test/RiadoRio/12RiadoRio_jpeg.rf.c42046f6de66f61805c30823d9e6d346.jpg: 256x256 RiadoRio 0.99, DuroRiadoRio 0.01, RioFechado 0.00, Mole 0.00, Quebrado 0.00, 4.3ms\n",
            "Speed: 1.4ms preprocess, 4.3ms inference, 0.0ms postprocess per image at shape (1, 3, 256, 256)\n",
            "Imagem de teste: /content/drive/MyDrive/TypeCoffee.v31i.folder/test/RiadoRio/RiadoRio007_jpg.rf.a9adacf491aef40c5556bf0f6bf72645.jpg\n",
            "Classes preditas: [3, 3, 3]\n",
            "Moda das predições: 3\n",
            "Tempo de inferência: 6.0372 segundos\n",
            "\n",
            "\n",
            "image 1/1 /content/drive/MyDrive/TypeCoffee.v31i.folder/test/RiadoRio/RiadoRio005_jpg.rf.42e7ef878e8ad8c4e7a4cd27116af497.jpg: 256x256 RiadoRio 0.87, DuroRiadoRio 0.13, Quebrado 0.00, RioFechado 0.00, Mole 0.00, 6.5ms\n",
            "Speed: 2.5ms preprocess, 6.5ms inference, 0.1ms postprocess per image at shape (1, 3, 256, 256)\n",
            "\n",
            "image 1/1 /content/drive/MyDrive/TypeCoffee.v31i.folder/test/RiadoRio/12RiadoRio_jpeg.rf.c42046f6de66f61805c30823d9e6d346.jpg: 256x256 RiadoRio 0.99, DuroRiadoRio 0.01, RioFechado 0.00, Mole 0.00, Quebrado 0.00, 5.8ms\n",
            "Speed: 1.7ms preprocess, 5.8ms inference, 0.1ms postprocess per image at shape (1, 3, 256, 256)\n",
            "\n",
            "image 1/1 /content/drive/MyDrive/TypeCoffee.v31i.folder/test/RiadoRio/RiadoRio003_jpg.rf.4b9882c43c7a3be2509702349d46dec2.jpg: 256x256 RiadoRio 1.00, DuroRiadoRio 0.00, Mole 0.00, Quebrado 0.00, RioFechado 0.00, 6.3ms\n",
            "Speed: 1.6ms preprocess, 6.3ms inference, 0.0ms postprocess per image at shape (1, 3, 256, 256)\n",
            "Imagem de teste: /content/drive/MyDrive/TypeCoffee.v31i.folder/test/RiadoRio/RiadoRio005_jpg.rf.42e7ef878e8ad8c4e7a4cd27116af497.jpg\n",
            "Classes preditas: [3, 3, 3]\n",
            "Moda das predições: 3\n",
            "Tempo de inferência: 6.0461 segundos\n",
            "\n",
            "\n",
            "image 1/1 /content/drive/MyDrive/TypeCoffee.v31i.folder/test/RiadoRio/RiadoRio006_jpg.rf.98098174655cf625e85c1cbdcf76434b.jpg: 256x256 RiadoRio 0.95, DuroRiadoRio 0.05, RioFechado 0.00, Quebrado 0.00, Mole 0.00, 5.0ms\n",
            "Speed: 2.0ms preprocess, 5.0ms inference, 0.1ms postprocess per image at shape (1, 3, 256, 256)\n",
            "\n",
            "image 1/1 /content/drive/MyDrive/TypeCoffee.v31i.folder/test/RiadoRio/08RiadoRio_jpeg.rf.201ff58e7877478079ac41ce4851b6d2.jpg: 256x256 Mole 0.87, RiadoRio 0.11, DuroRiadoRio 0.02, RioFechado 0.00, Quebrado 0.00, 4.6ms\n",
            "Speed: 1.4ms preprocess, 4.6ms inference, 0.0ms postprocess per image at shape (1, 3, 256, 256)\n",
            "\n",
            "image 1/1 /content/drive/MyDrive/TypeCoffee.v31i.folder/test/RiadoRio/Riado010_jpg.rf.01445c16150175d7f805200e8c9cd35a.jpg: 256x256 RiadoRio 1.00, Mole 0.00, DuroRiadoRio 0.00, RioFechado 0.00, Quebrado 0.00, 5.5ms\n",
            "Speed: 1.6ms preprocess, 5.5ms inference, 0.0ms postprocess per image at shape (1, 3, 256, 256)\n",
            "Imagem de teste: /content/drive/MyDrive/TypeCoffee.v31i.folder/test/RiadoRio/RiadoRio006_jpg.rf.98098174655cf625e85c1cbdcf76434b.jpg\n",
            "Classes preditas: [3, 1, 3]\n",
            "Moda das predições: 3\n",
            "Tempo de inferência: 6.0393 segundos\n",
            "\n",
            "\n",
            "image 1/1 /content/drive/MyDrive/TypeCoffee.v31i.folder/test/RiadoRio/RiadoRio002_jpg.rf.73277b2636817abe503a917c89747a4c.jpg: 256x256 RiadoRio 0.94, DuroRiadoRio 0.06, RioFechado 0.00, Quebrado 0.00, Mole 0.00, 7.7ms\n",
            "Speed: 2.6ms preprocess, 7.7ms inference, 0.1ms postprocess per image at shape (1, 3, 256, 256)\n",
            "\n",
            "image 1/1 /content/drive/MyDrive/TypeCoffee.v31i.folder/test/RiadoRio/RiadoRio001_jpg.rf.350f8854f4e0f110a7537b78f235eb49.jpg: 256x256 RiadoRio 0.98, DuroRiadoRio 0.02, Quebrado 0.00, RioFechado 0.00, Mole 0.00, 5.6ms\n",
            "Speed: 1.8ms preprocess, 5.6ms inference, 0.1ms postprocess per image at shape (1, 3, 256, 256)\n",
            "\n",
            "image 1/1 /content/drive/MyDrive/TypeCoffee.v31i.folder/test/RiadoRio/RiadoRio005_jpg.rf.42e7ef878e8ad8c4e7a4cd27116af497.jpg: 256x256 RiadoRio 0.87, DuroRiadoRio 0.13, Quebrado 0.00, RioFechado 0.00, Mole 0.00, 4.5ms\n",
            "Speed: 1.4ms preprocess, 4.5ms inference, 0.0ms postprocess per image at shape (1, 3, 256, 256)\n",
            "Imagem de teste: /content/drive/MyDrive/TypeCoffee.v31i.folder/test/RiadoRio/RiadoRio002_jpg.rf.73277b2636817abe503a917c89747a4c.jpg\n",
            "Classes preditas: [3, 3, 3]\n",
            "Moda das predições: 3\n",
            "Tempo de inferência: 6.0450 segundos\n",
            "\n",
            "\n",
            "image 1/1 /content/drive/MyDrive/TypeCoffee.v31i.folder/test/RiadoRio/RiadoRio001_jpg.rf.350f8854f4e0f110a7537b78f235eb49.jpg: 256x256 RiadoRio 0.98, DuroRiadoRio 0.02, Quebrado 0.00, RioFechado 0.00, Mole 0.00, 5.3ms\n",
            "Speed: 2.0ms preprocess, 5.3ms inference, 0.1ms postprocess per image at shape (1, 3, 256, 256)\n",
            "\n",
            "image 1/1 /content/drive/MyDrive/TypeCoffee.v31i.folder/test/RiadoRio/Riado009_jpg.rf.a8c39cdc54898f1220f866e7d74c5f72.jpg: 256x256 RiadoRio 0.97, DuroRiadoRio 0.03, RioFechado 0.00, Quebrado 0.00, Mole 0.00, 4.2ms\n",
            "Speed: 1.6ms preprocess, 4.2ms inference, 0.0ms postprocess per image at shape (1, 3, 256, 256)\n",
            "\n",
            "image 1/1 /content/drive/MyDrive/TypeCoffee.v31i.folder/test/RiadoRio/RiadoRio002_jpg.rf.73277b2636817abe503a917c89747a4c.jpg: 256x256 RiadoRio 0.94, DuroRiadoRio 0.06, RioFechado 0.00, Quebrado 0.00, Mole 0.00, 4.0ms\n",
            "Speed: 1.4ms preprocess, 4.0ms inference, 0.1ms postprocess per image at shape (1, 3, 256, 256)\n",
            "Imagem de teste: /content/drive/MyDrive/TypeCoffee.v31i.folder/test/RiadoRio/RiadoRio001_jpg.rf.350f8854f4e0f110a7537b78f235eb49.jpg\n",
            "Classes preditas: [3, 3, 3]\n",
            "Moda das predições: 3\n",
            "Tempo de inferência: 6.0368 segundos\n",
            "\n",
            "\n",
            "image 1/1 /content/drive/MyDrive/TypeCoffee.v31i.folder/test/RiadoRio/Riado011_jpg.rf.c4333b93064fa3d5d404af7ea30460de.jpg: 256x256 RiadoRio 1.00, DuroRiadoRio 0.00, RioFechado 0.00, Quebrado 0.00, Mole 0.00, 7.1ms\n",
            "Speed: 2.1ms preprocess, 7.1ms inference, 0.1ms postprocess per image at shape (1, 3, 256, 256)\n",
            "\n",
            "image 1/1 /content/drive/MyDrive/TypeCoffee.v31i.folder/test/RiadoRio/Riado009_jpg.rf.a8c39cdc54898f1220f866e7d74c5f72.jpg: 256x256 RiadoRio 0.97, DuroRiadoRio 0.03, RioFechado 0.00, Quebrado 0.00, Mole 0.00, 5.5ms\n",
            "Speed: 1.6ms preprocess, 5.5ms inference, 0.0ms postprocess per image at shape (1, 3, 256, 256)\n",
            "\n",
            "image 1/1 /content/drive/MyDrive/TypeCoffee.v31i.folder/test/RiadoRio/RiadoRio004_jpg.rf.cf1c518ac4b176b161b6de216441e288.jpg: 256x256 RiadoRio 0.96, DuroRiadoRio 0.04, RioFechado 0.00, Quebrado 0.00, Mole 0.00, 6.6ms\n",
            "Speed: 2.1ms preprocess, 6.6ms inference, 0.1ms postprocess per image at shape (1, 3, 256, 256)\n",
            "Imagem de teste: /content/drive/MyDrive/TypeCoffee.v31i.folder/test/RiadoRio/Riado011_jpg.rf.c4333b93064fa3d5d404af7ea30460de.jpg\n",
            "Classes preditas: [3, 3, 3]\n",
            "Moda das predições: 3\n",
            "Tempo de inferência: 6.0552 segundos\n",
            "\n",
            "\n",
            "image 1/1 /content/drive/MyDrive/TypeCoffee.v31i.folder/test/RiadoRio/Riado010_jpg.rf.01445c16150175d7f805200e8c9cd35a.jpg: 256x256 RiadoRio 1.00, Mole 0.00, DuroRiadoRio 0.00, RioFechado 0.00, Quebrado 0.00, 4.9ms\n",
            "Speed: 1.9ms preprocess, 4.9ms inference, 0.0ms postprocess per image at shape (1, 3, 256, 256)\n",
            "\n",
            "image 1/1 /content/drive/MyDrive/TypeCoffee.v31i.folder/test/RiadoRio/RiadoRio005_jpg.rf.42e7ef878e8ad8c4e7a4cd27116af497.jpg: 256x256 RiadoRio 0.87, DuroRiadoRio 0.13, Quebrado 0.00, RioFechado 0.00, Mole 0.00, 4.0ms\n",
            "Speed: 1.4ms preprocess, 4.0ms inference, 0.0ms postprocess per image at shape (1, 3, 256, 256)\n",
            "\n",
            "image 1/1 /content/drive/MyDrive/TypeCoffee.v31i.folder/test/RiadoRio/08RiadoRio_jpeg.rf.201ff58e7877478079ac41ce4851b6d2.jpg: 256x256 Mole 0.87, RiadoRio 0.11, DuroRiadoRio 0.02, RioFechado 0.00, Quebrado 0.00, 5.1ms\n",
            "Speed: 1.5ms preprocess, 5.1ms inference, 0.0ms postprocess per image at shape (1, 3, 256, 256)\n",
            "Imagem de teste: /content/drive/MyDrive/TypeCoffee.v31i.folder/test/RiadoRio/Riado010_jpg.rf.01445c16150175d7f805200e8c9cd35a.jpg\n",
            "Classes preditas: [3, 3, 1]\n",
            "Moda das predições: 3\n",
            "Tempo de inferência: 6.0388 segundos\n",
            "\n",
            "\n",
            "image 1/1 /content/drive/MyDrive/TypeCoffee.v31i.folder/test/RiadoRio/Riado008_jpg.rf.258aad1ba17c700c8d40684cdb3d5fd6.jpg: 256x256 RiadoRio 0.99, DuroRiadoRio 0.01, RioFechado 0.00, Quebrado 0.00, Mole 0.00, 7.2ms\n",
            "Speed: 2.3ms preprocess, 7.2ms inference, 0.1ms postprocess per image at shape (1, 3, 256, 256)\n",
            "\n",
            "image 1/1 /content/drive/MyDrive/TypeCoffee.v31i.folder/test/RiadoRio/RiadoRio005_jpg.rf.42e7ef878e8ad8c4e7a4cd27116af497.jpg: 256x256 RiadoRio 0.87, DuroRiadoRio 0.13, Quebrado 0.00, RioFechado 0.00, Mole 0.00, 5.4ms\n",
            "Speed: 1.7ms preprocess, 5.4ms inference, 0.1ms postprocess per image at shape (1, 3, 256, 256)\n",
            "\n",
            "image 1/1 /content/drive/MyDrive/TypeCoffee.v31i.folder/test/RiadoRio/01RiadoRio_jpeg.rf.0c41b27b756dfab138562dd1d4f8e9b7.jpg: 256x256 Mole 0.68, RiadoRio 0.28, DuroRiadoRio 0.04, Quebrado 0.00, RioFechado 0.00, 5.4ms\n",
            "Speed: 1.6ms preprocess, 5.4ms inference, 0.1ms postprocess per image at shape (1, 3, 256, 256)\n",
            "Imagem de teste: /content/drive/MyDrive/TypeCoffee.v31i.folder/test/RiadoRio/Riado008_jpg.rf.258aad1ba17c700c8d40684cdb3d5fd6.jpg\n",
            "Classes preditas: [3, 3, 1]\n",
            "Moda das predições: 3\n",
            "Tempo de inferência: 6.0462 segundos\n",
            "\n",
            "\n",
            "image 1/1 /content/drive/MyDrive/TypeCoffee.v31i.folder/test/RiadoRio/08RiadoRio_jpeg.rf.201ff58e7877478079ac41ce4851b6d2.jpg: 256x256 Mole 0.87, RiadoRio 0.11, DuroRiadoRio 0.02, RioFechado 0.00, Quebrado 0.00, 5.5ms\n",
            "Speed: 2.0ms preprocess, 5.5ms inference, 0.1ms postprocess per image at shape (1, 3, 256, 256)\n",
            "\n",
            "image 1/1 /content/drive/MyDrive/TypeCoffee.v31i.folder/test/RiadoRio/01RiadoRio_jpeg.rf.0c41b27b756dfab138562dd1d4f8e9b7.jpg: 256x256 Mole 0.68, RiadoRio 0.28, DuroRiadoRio 0.04, Quebrado 0.00, RioFechado 0.00, 4.2ms\n",
            "Speed: 1.5ms preprocess, 4.2ms inference, 0.0ms postprocess per image at shape (1, 3, 256, 256)\n",
            "\n",
            "image 1/1 /content/drive/MyDrive/TypeCoffee.v31i.folder/test/RiadoRio/RiadoRio007_jpg.rf.a9adacf491aef40c5556bf0f6bf72645.jpg: 256x256 RiadoRio 1.00, DuroRiadoRio 0.00, Quebrado 0.00, RioFechado 0.00, Mole 0.00, 4.2ms\n",
            "Speed: 1.5ms preprocess, 4.2ms inference, 0.0ms postprocess per image at shape (1, 3, 256, 256)\n",
            "Imagem de teste: /content/drive/MyDrive/TypeCoffee.v31i.folder/test/RiadoRio/08RiadoRio_jpeg.rf.201ff58e7877478079ac41ce4851b6d2.jpg\n",
            "Classes preditas: [1, 1, 3]\n",
            "Moda das predições: 1\n",
            "Tempo de inferência: 6.0412 segundos\n",
            "\n",
            "\n",
            "image 1/1 /content/drive/MyDrive/TypeCoffee.v31i.folder/test/RiadoRio/12RiadoRio_jpeg.rf.c42046f6de66f61805c30823d9e6d346.jpg: 256x256 RiadoRio 0.99, DuroRiadoRio 0.01, RioFechado 0.00, Mole 0.00, Quebrado 0.00, 6.3ms\n",
            "Speed: 2.0ms preprocess, 6.3ms inference, 0.1ms postprocess per image at shape (1, 3, 256, 256)\n",
            "\n",
            "image 1/1 /content/drive/MyDrive/TypeCoffee.v31i.folder/test/RiadoRio/01RiadoRio_jpeg.rf.0c41b27b756dfab138562dd1d4f8e9b7.jpg: 256x256 Mole 0.68, RiadoRio 0.28, DuroRiadoRio 0.04, Quebrado 0.00, RioFechado 0.00, 4.6ms\n",
            "Speed: 1.6ms preprocess, 4.6ms inference, 0.0ms postprocess per image at shape (1, 3, 256, 256)\n",
            "\n",
            "image 1/1 /content/drive/MyDrive/TypeCoffee.v31i.folder/test/RiadoRio/Riado010_jpg.rf.01445c16150175d7f805200e8c9cd35a.jpg: 256x256 RiadoRio 1.00, Mole 0.00, DuroRiadoRio 0.00, RioFechado 0.00, Quebrado 0.00, 5.3ms\n",
            "Speed: 1.6ms preprocess, 5.3ms inference, 0.1ms postprocess per image at shape (1, 3, 256, 256)\n",
            "Imagem de teste: /content/drive/MyDrive/TypeCoffee.v31i.folder/test/RiadoRio/12RiadoRio_jpeg.rf.c42046f6de66f61805c30823d9e6d346.jpg\n",
            "Classes preditas: [3, 1, 3]\n",
            "Moda das predições: 3\n",
            "Tempo de inferência: 6.0423 segundos\n",
            "\n",
            "\n",
            "image 1/1 /content/drive/MyDrive/TypeCoffee.v31i.folder/test/RiadoRio/Riado009_jpg.rf.a8c39cdc54898f1220f866e7d74c5f72.jpg: 256x256 RiadoRio 0.97, DuroRiadoRio 0.03, RioFechado 0.00, Quebrado 0.00, Mole 0.00, 6.2ms\n",
            "Speed: 2.1ms preprocess, 6.2ms inference, 0.1ms postprocess per image at shape (1, 3, 256, 256)\n",
            "\n",
            "image 1/1 /content/drive/MyDrive/TypeCoffee.v31i.folder/test/RiadoRio/Riado011_jpg.rf.c4333b93064fa3d5d404af7ea30460de.jpg: 256x256 RiadoRio 1.00, DuroRiadoRio 0.00, RioFechado 0.00, Quebrado 0.00, Mole 0.00, 4.3ms\n",
            "Speed: 1.6ms preprocess, 4.3ms inference, 0.0ms postprocess per image at shape (1, 3, 256, 256)\n",
            "\n",
            "image 1/1 /content/drive/MyDrive/TypeCoffee.v31i.folder/test/RiadoRio/RiadoRio004_jpg.rf.cf1c518ac4b176b161b6de216441e288.jpg: 256x256 RiadoRio 0.96, DuroRiadoRio 0.04, RioFechado 0.00, Quebrado 0.00, Mole 0.00, 4.4ms\n",
            "Speed: 1.3ms preprocess, 4.4ms inference, 0.0ms postprocess per image at shape (1, 3, 256, 256)\n",
            "Imagem de teste: /content/drive/MyDrive/TypeCoffee.v31i.folder/test/RiadoRio/Riado009_jpg.rf.a8c39cdc54898f1220f866e7d74c5f72.jpg\n",
            "Classes preditas: [3, 3, 3]\n",
            "Moda das predições: 3\n",
            "Tempo de inferência: 6.0393 segundos\n",
            "\n",
            "\n",
            "image 1/1 /content/drive/MyDrive/TypeCoffee.v31i.folder/test/RiadoRio/01RiadoRio_jpeg.rf.0c41b27b756dfab138562dd1d4f8e9b7.jpg: 256x256 Mole 0.68, RiadoRio 0.28, DuroRiadoRio 0.04, Quebrado 0.00, RioFechado 0.00, 5.2ms\n",
            "Speed: 1.9ms preprocess, 5.2ms inference, 0.1ms postprocess per image at shape (1, 3, 256, 256)\n",
            "\n",
            "image 1/1 /content/drive/MyDrive/TypeCoffee.v31i.folder/test/RiadoRio/RiadoRio004_jpg.rf.cf1c518ac4b176b161b6de216441e288.jpg: 256x256 RiadoRio 0.96, DuroRiadoRio 0.04, RioFechado 0.00, Quebrado 0.00, Mole 0.00, 4.6ms\n",
            "Speed: 1.5ms preprocess, 4.6ms inference, 0.0ms postprocess per image at shape (1, 3, 256, 256)\n",
            "\n",
            "image 1/1 /content/drive/MyDrive/TypeCoffee.v31i.folder/test/RiadoRio/RiadoRio002_jpg.rf.73277b2636817abe503a917c89747a4c.jpg: 256x256 RiadoRio 0.94, DuroRiadoRio 0.06, RioFechado 0.00, Quebrado 0.00, Mole 0.00, 4.2ms\n",
            "Speed: 1.5ms preprocess, 4.2ms inference, 0.0ms postprocess per image at shape (1, 3, 256, 256)\n",
            "Imagem de teste: /content/drive/MyDrive/TypeCoffee.v31i.folder/test/RiadoRio/01RiadoRio_jpeg.rf.0c41b27b756dfab138562dd1d4f8e9b7.jpg\n",
            "Classes preditas: [1, 3, 3]\n",
            "Moda das predições: 3\n",
            "Tempo de inferência: 6.0389 segundos\n",
            "\n",
            "Tempo médio de inferência: 6.0403 segundos\n",
            "\n",
            "image 1/1 /content/drive/MyDrive/TypeCoffee.v31i.folder/test/Quebrado/quebrado007_jpg.rf.db170ad531c9c874752d7be69daa1949.jpg: 256x256 Quebrado 1.00, RioFechado 0.00, DuroRiadoRio 0.00, RiadoRio 0.00, Mole 0.00, 5.7ms\n",
            "Speed: 2.0ms preprocess, 5.7ms inference, 0.1ms postprocess per image at shape (1, 3, 256, 256)\n",
            "\n",
            "image 1/1 /content/drive/MyDrive/TypeCoffee.v31i.folder/test/Quebrado/quebrado001_jpg.rf.53b3cfa72596763289be9408148eb0a0.jpg: 256x256 Quebrado 1.00, RioFechado 0.00, RiadoRio 0.00, DuroRiadoRio 0.00, Mole 0.00, 5.3ms\n",
            "Speed: 1.6ms preprocess, 5.3ms inference, 0.1ms postprocess per image at shape (1, 3, 256, 256)\n",
            "\n",
            "image 1/1 /content/drive/MyDrive/TypeCoffee.v31i.folder/test/Quebrado/quebrado006_jpg.rf.94715e625f55cc035b1f81c7f692b18b.jpg: 256x256 Quebrado 1.00, RioFechado 0.00, DuroRiadoRio 0.00, RiadoRio 0.00, Mole 0.00, 4.2ms\n",
            "Speed: 1.4ms preprocess, 4.2ms inference, 0.0ms postprocess per image at shape (1, 3, 256, 256)\n",
            "Imagem de teste: /content/drive/MyDrive/TypeCoffee.v31i.folder/test/Quebrado/quebrado007_jpg.rf.db170ad531c9c874752d7be69daa1949.jpg\n",
            "Classes preditas: [2, 2, 2]\n",
            "Moda das predições: 2\n",
            "Tempo de inferência: 6.0403 segundos\n",
            "\n",
            "\n",
            "image 1/1 /content/drive/MyDrive/TypeCoffee.v31i.folder/test/Quebrado/quebrado3_jpg.rf.8bd89b6f0df5e68562cd47348a6092ef.jpg: 256x256 Quebrado 1.00, RioFechado 0.00, DuroRiadoRio 0.00, RiadoRio 0.00, Mole 0.00, 5.9ms\n",
            "Speed: 2.4ms preprocess, 5.9ms inference, 0.1ms postprocess per image at shape (1, 3, 256, 256)\n",
            "\n",
            "image 1/1 /content/drive/MyDrive/TypeCoffee.v31i.folder/test/Quebrado/Quebrado010_jpg.rf.bc02072eec13255cc3d5815cdd1e6207.jpg: 256x256 Quebrado 1.00, RioFechado 0.00, DuroRiadoRio 0.00, RiadoRio 0.00, Mole 0.00, 4.8ms\n",
            "Speed: 1.6ms preprocess, 4.8ms inference, 0.0ms postprocess per image at shape (1, 3, 256, 256)\n",
            "\n",
            "image 1/1 /content/drive/MyDrive/TypeCoffee.v31i.folder/test/Quebrado/quebrado004_jpg.rf.46138cd079636ff94d2a5c5defc2b2aa.jpg: 256x256 Quebrado 1.00, RioFechado 0.00, DuroRiadoRio 0.00, RiadoRio 0.00, Mole 0.00, 5.3ms\n",
            "Speed: 1.7ms preprocess, 5.3ms inference, 0.1ms postprocess per image at shape (1, 3, 256, 256)\n",
            "Imagem de teste: /content/drive/MyDrive/TypeCoffee.v31i.folder/test/Quebrado/quebrado3_jpg.rf.8bd89b6f0df5e68562cd47348a6092ef.jpg\n",
            "Classes preditas: [2, 2, 2]\n",
            "Moda das predições: 2\n",
            "Tempo de inferência: 6.0445 segundos\n",
            "\n",
            "\n",
            "image 1/1 /content/drive/MyDrive/TypeCoffee.v31i.folder/test/Quebrado/Quebrado010_jpg.rf.bc02072eec13255cc3d5815cdd1e6207.jpg: 256x256 Quebrado 1.00, RioFechado 0.00, DuroRiadoRio 0.00, RiadoRio 0.00, Mole 0.00, 4.9ms\n",
            "Speed: 2.0ms preprocess, 4.9ms inference, 0.1ms postprocess per image at shape (1, 3, 256, 256)\n",
            "\n",
            "image 1/1 /content/drive/MyDrive/TypeCoffee.v31i.folder/test/Quebrado/quebrado001_jpg.rf.53b3cfa72596763289be9408148eb0a0.jpg: 256x256 Quebrado 1.00, RioFechado 0.00, RiadoRio 0.00, DuroRiadoRio 0.00, Mole 0.00, 4.4ms\n",
            "Speed: 1.5ms preprocess, 4.4ms inference, 0.1ms postprocess per image at shape (1, 3, 256, 256)\n",
            "\n",
            "image 1/1 /content/drive/MyDrive/TypeCoffee.v31i.folder/test/Quebrado/quebrado004_jpg.rf.46138cd079636ff94d2a5c5defc2b2aa.jpg: 256x256 Quebrado 1.00, RioFechado 0.00, DuroRiadoRio 0.00, RiadoRio 0.00, Mole 0.00, 5.4ms\n",
            "Speed: 1.6ms preprocess, 5.4ms inference, 0.1ms postprocess per image at shape (1, 3, 256, 256)\n",
            "Imagem de teste: /content/drive/MyDrive/TypeCoffee.v31i.folder/test/Quebrado/Quebrado010_jpg.rf.bc02072eec13255cc3d5815cdd1e6207.jpg\n",
            "Classes preditas: [2, 2, 2]\n",
            "Moda das predições: 2\n",
            "Tempo de inferência: 6.0403 segundos\n",
            "\n",
            "\n",
            "image 1/1 /content/drive/MyDrive/TypeCoffee.v31i.folder/test/Quebrado/quebrado002_jpg.rf.8307f7e1c334ef312be17f1a96fca24c.jpg: 256x256 Quebrado 1.00, RioFechado 0.00, DuroRiadoRio 0.00, RiadoRio 0.00, Mole 0.00, 6.6ms\n",
            "Speed: 2.2ms preprocess, 6.6ms inference, 0.1ms postprocess per image at shape (1, 3, 256, 256)\n",
            "\n",
            "image 1/1 /content/drive/MyDrive/TypeCoffee.v31i.folder/test/Quebrado/quebrado2_jpg.rf.39b1fb4595e5e9a6230f51bdf4771fa2.jpg: 256x256 Quebrado 1.00, RioFechado 0.00, DuroRiadoRio 0.00, RiadoRio 0.00, Mole 0.00, 5.0ms\n",
            "Speed: 1.7ms preprocess, 5.0ms inference, 0.0ms postprocess per image at shape (1, 3, 256, 256)\n",
            "\n",
            "image 1/1 /content/drive/MyDrive/TypeCoffee.v31i.folder/test/Quebrado/quebrado3_jpg.rf.8bd89b6f0df5e68562cd47348a6092ef.jpg: 256x256 Quebrado 1.00, RioFechado 0.00, DuroRiadoRio 0.00, RiadoRio 0.00, Mole 0.00, 5.0ms\n",
            "Speed: 1.8ms preprocess, 5.0ms inference, 0.0ms postprocess per image at shape (1, 3, 256, 256)\n",
            "Imagem de teste: /content/drive/MyDrive/TypeCoffee.v31i.folder/test/Quebrado/quebrado002_jpg.rf.8307f7e1c334ef312be17f1a96fca24c.jpg\n",
            "Classes preditas: [2, 2, 2]\n",
            "Moda das predições: 2\n",
            "Tempo de inferência: 6.0452 segundos\n",
            "\n",
            "\n",
            "image 1/1 /content/drive/MyDrive/TypeCoffee.v31i.folder/test/Quebrado/quebrado003_jpg.rf.55e0fce924aae1095093c93e8369acff.jpg: 256x256 Quebrado 1.00, RioFechado 0.00, DuroRiadoRio 0.00, RiadoRio 0.00, Mole 0.00, 4.7ms\n",
            "Speed: 1.9ms preprocess, 4.7ms inference, 0.1ms postprocess per image at shape (1, 3, 256, 256)\n",
            "\n",
            "image 1/1 /content/drive/MyDrive/TypeCoffee.v31i.folder/test/Quebrado/quebrado001_jpg.rf.53b3cfa72596763289be9408148eb0a0.jpg: 256x256 Quebrado 1.00, RioFechado 0.00, RiadoRio 0.00, DuroRiadoRio 0.00, Mole 0.00, 4.4ms\n",
            "Speed: 1.6ms preprocess, 4.4ms inference, 0.0ms postprocess per image at shape (1, 3, 256, 256)\n",
            "\n",
            "image 1/1 /content/drive/MyDrive/TypeCoffee.v31i.folder/test/Quebrado/quebrado005_jpg.rf.e1ed9650611628d8705a110b7836f012.jpg: 256x256 Quebrado 1.00, RioFechado 0.00, DuroRiadoRio 0.00, RiadoRio 0.00, Mole 0.00, 4.1ms\n",
            "Speed: 1.3ms preprocess, 4.1ms inference, 0.0ms postprocess per image at shape (1, 3, 256, 256)\n",
            "Imagem de teste: /content/drive/MyDrive/TypeCoffee.v31i.folder/test/Quebrado/quebrado003_jpg.rf.55e0fce924aae1095093c93e8369acff.jpg\n",
            "Classes preditas: [2, 2, 2]\n",
            "Moda das predições: 2\n",
            "Tempo de inferência: 6.0369 segundos\n",
            "\n",
            "\n",
            "image 1/1 /content/drive/MyDrive/TypeCoffee.v31i.folder/test/Quebrado/quebrado004_jpg.rf.46138cd079636ff94d2a5c5defc2b2aa.jpg: 256x256 Quebrado 1.00, RioFechado 0.00, DuroRiadoRio 0.00, RiadoRio 0.00, Mole 0.00, 5.0ms\n",
            "Speed: 2.1ms preprocess, 5.0ms inference, 0.0ms postprocess per image at shape (1, 3, 256, 256)\n",
            "\n",
            "image 1/1 /content/drive/MyDrive/TypeCoffee.v31i.folder/test/Quebrado/quebrado001_jpg.rf.53b3cfa72596763289be9408148eb0a0.jpg: 256x256 Quebrado 1.00, RioFechado 0.00, RiadoRio 0.00, DuroRiadoRio 0.00, Mole 0.00, 5.0ms\n",
            "Speed: 1.6ms preprocess, 5.0ms inference, 0.1ms postprocess per image at shape (1, 3, 256, 256)\n",
            "\n",
            "image 1/1 /content/drive/MyDrive/TypeCoffee.v31i.folder/test/Quebrado/quebrado002_jpg.rf.8307f7e1c334ef312be17f1a96fca24c.jpg: 256x256 Quebrado 1.00, RioFechado 0.00, DuroRiadoRio 0.00, RiadoRio 0.00, Mole 0.00, 4.5ms\n",
            "Speed: 1.4ms preprocess, 4.5ms inference, 0.0ms postprocess per image at shape (1, 3, 256, 256)\n",
            "Imagem de teste: /content/drive/MyDrive/TypeCoffee.v31i.folder/test/Quebrado/quebrado004_jpg.rf.46138cd079636ff94d2a5c5defc2b2aa.jpg\n",
            "Classes preditas: [2, 2, 2]\n",
            "Moda das predições: 2\n",
            "Tempo de inferência: 6.0406 segundos\n",
            "\n",
            "\n",
            "image 1/1 /content/drive/MyDrive/TypeCoffee.v31i.folder/test/Quebrado/quebrado005_jpg.rf.e1ed9650611628d8705a110b7836f012.jpg: 256x256 Quebrado 1.00, RioFechado 0.00, DuroRiadoRio 0.00, RiadoRio 0.00, Mole 0.00, 5.1ms\n",
            "Speed: 2.1ms preprocess, 5.1ms inference, 0.1ms postprocess per image at shape (1, 3, 256, 256)\n",
            "\n",
            "image 1/1 /content/drive/MyDrive/TypeCoffee.v31i.folder/test/Quebrado/06Quebrado_jpeg.rf.acf57dd9ebefabb5730041fba5ce7495.jpg: 256x256 Quebrado 1.00, RioFechado 0.00, RiadoRio 0.00, DuroRiadoRio 0.00, Mole 0.00, 4.6ms\n",
            "Speed: 2.5ms preprocess, 4.6ms inference, 0.0ms postprocess per image at shape (1, 3, 256, 256)\n",
            "\n",
            "image 1/1 /content/drive/MyDrive/TypeCoffee.v31i.folder/test/Quebrado/quebrado001_jpg.rf.53b3cfa72596763289be9408148eb0a0.jpg: 256x256 Quebrado 1.00, RioFechado 0.00, RiadoRio 0.00, DuroRiadoRio 0.00, Mole 0.00, 4.2ms\n",
            "Speed: 1.5ms preprocess, 4.2ms inference, 0.0ms postprocess per image at shape (1, 3, 256, 256)\n",
            "Imagem de teste: /content/drive/MyDrive/TypeCoffee.v31i.folder/test/Quebrado/quebrado005_jpg.rf.e1ed9650611628d8705a110b7836f012.jpg\n",
            "Classes preditas: [2, 2, 2]\n",
            "Moda das predições: 2\n",
            "Tempo de inferência: 6.0425 segundos\n",
            "\n",
            "\n",
            "image 1/1 /content/drive/MyDrive/TypeCoffee.v31i.folder/test/Quebrado/03Quebrado_jpeg.rf.ad1d265578ef46c5114b6b4729fac6ac.jpg: 256x256 Quebrado 1.00, RioFechado 0.00, DuroRiadoRio 0.00, RiadoRio 0.00, Mole 0.00, 6.1ms\n",
            "Speed: 2.0ms preprocess, 6.1ms inference, 0.1ms postprocess per image at shape (1, 3, 256, 256)\n",
            "\n",
            "image 1/1 /content/drive/MyDrive/TypeCoffee.v31i.folder/test/Quebrado/06Quebrado_jpeg.rf.acf57dd9ebefabb5730041fba5ce7495.jpg: 256x256 Quebrado 1.00, RioFechado 0.00, RiadoRio 0.00, DuroRiadoRio 0.00, Mole 0.00, 4.4ms\n",
            "Speed: 1.5ms preprocess, 4.4ms inference, 0.0ms postprocess per image at shape (1, 3, 256, 256)\n",
            "\n",
            "image 1/1 /content/drive/MyDrive/TypeCoffee.v31i.folder/test/Quebrado/quebrado003_jpg.rf.55e0fce924aae1095093c93e8369acff.jpg: 256x256 Quebrado 1.00, RioFechado 0.00, DuroRiadoRio 0.00, RiadoRio 0.00, Mole 0.00, 4.3ms\n",
            "Speed: 1.5ms preprocess, 4.3ms inference, 0.0ms postprocess per image at shape (1, 3, 256, 256)\n",
            "Imagem de teste: /content/drive/MyDrive/TypeCoffee.v31i.folder/test/Quebrado/03Quebrado_jpeg.rf.ad1d265578ef46c5114b6b4729fac6ac.jpg\n",
            "Classes preditas: [2, 2, 2]\n",
            "Moda das predições: 2\n",
            "Tempo de inferência: 6.0398 segundos\n",
            "\n",
            "\n",
            "image 1/1 /content/drive/MyDrive/TypeCoffee.v31i.folder/test/Quebrado/quebrado006_jpg.rf.94715e625f55cc035b1f81c7f692b18b.jpg: 256x256 Quebrado 1.00, RioFechado 0.00, DuroRiadoRio 0.00, RiadoRio 0.00, Mole 0.00, 4.7ms\n",
            "Speed: 1.9ms preprocess, 4.7ms inference, 0.1ms postprocess per image at shape (1, 3, 256, 256)\n",
            "\n",
            "image 1/1 /content/drive/MyDrive/TypeCoffee.v31i.folder/test/Quebrado/03Quebrado_jpeg.rf.ad1d265578ef46c5114b6b4729fac6ac.jpg: 256x256 Quebrado 1.00, RioFechado 0.00, DuroRiadoRio 0.00, RiadoRio 0.00, Mole 0.00, 4.2ms\n",
            "Speed: 1.5ms preprocess, 4.2ms inference, 0.0ms postprocess per image at shape (1, 3, 256, 256)\n",
            "\n",
            "image 1/1 /content/drive/MyDrive/TypeCoffee.v31i.folder/test/Quebrado/quebrado3_jpg.rf.8bd89b6f0df5e68562cd47348a6092ef.jpg: 256x256 Quebrado 1.00, RioFechado 0.00, DuroRiadoRio 0.00, RiadoRio 0.00, Mole 0.00, 4.2ms\n",
            "Speed: 1.4ms preprocess, 4.2ms inference, 0.0ms postprocess per image at shape (1, 3, 256, 256)\n",
            "Imagem de teste: /content/drive/MyDrive/TypeCoffee.v31i.folder/test/Quebrado/quebrado006_jpg.rf.94715e625f55cc035b1f81c7f692b18b.jpg\n",
            "Classes preditas: [2, 2, 2]\n",
            "Moda das predições: 2\n",
            "Tempo de inferência: 6.0369 segundos\n",
            "\n",
            "\n",
            "image 1/1 /content/drive/MyDrive/TypeCoffee.v31i.folder/test/Quebrado/quebrado001_jpg.rf.53b3cfa72596763289be9408148eb0a0.jpg: 256x256 Quebrado 1.00, RioFechado 0.00, RiadoRio 0.00, DuroRiadoRio 0.00, Mole 0.00, 5.2ms\n",
            "Speed: 2.2ms preprocess, 5.2ms inference, 0.1ms postprocess per image at shape (1, 3, 256, 256)\n",
            "\n",
            "image 1/1 /content/drive/MyDrive/TypeCoffee.v31i.folder/test/Quebrado/06Quebrado_jpeg.rf.acf57dd9ebefabb5730041fba5ce7495.jpg: 256x256 Quebrado 1.00, RioFechado 0.00, RiadoRio 0.00, DuroRiadoRio 0.00, Mole 0.00, 6.3ms\n",
            "Speed: 1.7ms preprocess, 6.3ms inference, 0.1ms postprocess per image at shape (1, 3, 256, 256)\n",
            "\n",
            "image 1/1 /content/drive/MyDrive/TypeCoffee.v31i.folder/test/Quebrado/quebrado005_jpg.rf.e1ed9650611628d8705a110b7836f012.jpg: 256x256 Quebrado 1.00, RioFechado 0.00, DuroRiadoRio 0.00, RiadoRio 0.00, Mole 0.00, 6.4ms\n",
            "Speed: 1.7ms preprocess, 6.4ms inference, 0.1ms postprocess per image at shape (1, 3, 256, 256)\n",
            "Imagem de teste: /content/drive/MyDrive/TypeCoffee.v31i.folder/test/Quebrado/quebrado001_jpg.rf.53b3cfa72596763289be9408148eb0a0.jpg\n",
            "Classes preditas: [2, 2, 2]\n",
            "Moda das predições: 2\n",
            "Tempo de inferência: 6.0441 segundos\n",
            "\n",
            "\n",
            "image 1/1 /content/drive/MyDrive/TypeCoffee.v31i.folder/test/Quebrado/06Quebrado_jpeg.rf.acf57dd9ebefabb5730041fba5ce7495.jpg: 256x256 Quebrado 1.00, RioFechado 0.00, RiadoRio 0.00, DuroRiadoRio 0.00, Mole 0.00, 4.8ms\n",
            "Speed: 2.0ms preprocess, 4.8ms inference, 0.1ms postprocess per image at shape (1, 3, 256, 256)\n",
            "\n",
            "image 1/1 /content/drive/MyDrive/TypeCoffee.v31i.folder/test/Quebrado/quebrado004_jpg.rf.46138cd079636ff94d2a5c5defc2b2aa.jpg: 256x256 Quebrado 1.00, RioFechado 0.00, DuroRiadoRio 0.00, RiadoRio 0.00, Mole 0.00, 4.4ms\n",
            "Speed: 1.4ms preprocess, 4.4ms inference, 0.0ms postprocess per image at shape (1, 3, 256, 256)\n",
            "\n",
            "image 1/1 /content/drive/MyDrive/TypeCoffee.v31i.folder/test/Quebrado/quebrado001_jpg.rf.53b3cfa72596763289be9408148eb0a0.jpg: 256x256 Quebrado 1.00, RioFechado 0.00, RiadoRio 0.00, DuroRiadoRio 0.00, Mole 0.00, 4.2ms\n",
            "Speed: 1.4ms preprocess, 4.2ms inference, 0.0ms postprocess per image at shape (1, 3, 256, 256)\n",
            "Imagem de teste: /content/drive/MyDrive/TypeCoffee.v31i.folder/test/Quebrado/06Quebrado_jpeg.rf.acf57dd9ebefabb5730041fba5ce7495.jpg\n",
            "Classes preditas: [2, 2, 2]\n",
            "Moda das predições: 2\n",
            "Tempo de inferência: 6.0375 segundos\n",
            "\n",
            "\n",
            "image 1/1 /content/drive/MyDrive/TypeCoffee.v31i.folder/test/Quebrado/quebrado1_jpg.rf.ed81967d21e7d34b6c2d516983b164cd.jpg: 256x256 Quebrado 1.00, RioFechado 0.00, DuroRiadoRio 0.00, RiadoRio 0.00, Mole 0.00, 5.3ms\n",
            "Speed: 2.0ms preprocess, 5.3ms inference, 0.1ms postprocess per image at shape (1, 3, 256, 256)\n",
            "\n",
            "image 1/1 /content/drive/MyDrive/TypeCoffee.v31i.folder/test/Quebrado/quebrado002_jpg.rf.8307f7e1c334ef312be17f1a96fca24c.jpg: 256x256 Quebrado 1.00, RioFechado 0.00, DuroRiadoRio 0.00, RiadoRio 0.00, Mole 0.00, 4.6ms\n",
            "Speed: 1.5ms preprocess, 4.6ms inference, 0.0ms postprocess per image at shape (1, 3, 256, 256)\n",
            "\n",
            "image 1/1 /content/drive/MyDrive/TypeCoffee.v31i.folder/test/Quebrado/quebrado003_jpg.rf.55e0fce924aae1095093c93e8369acff.jpg: 256x256 Quebrado 1.00, RioFechado 0.00, DuroRiadoRio 0.00, RiadoRio 0.00, Mole 0.00, 4.3ms\n",
            "Speed: 1.4ms preprocess, 4.3ms inference, 0.0ms postprocess per image at shape (1, 3, 256, 256)\n",
            "Imagem de teste: /content/drive/MyDrive/TypeCoffee.v31i.folder/test/Quebrado/quebrado1_jpg.rf.ed81967d21e7d34b6c2d516983b164cd.jpg\n",
            "Classes preditas: [2, 2, 2]\n",
            "Moda das predições: 2\n",
            "Tempo de inferência: 6.0413 segundos\n",
            "\n",
            "\n",
            "image 1/1 /content/drive/MyDrive/TypeCoffee.v31i.folder/test/Quebrado/quebrado2_jpg.rf.39b1fb4595e5e9a6230f51bdf4771fa2.jpg: 256x256 Quebrado 1.00, RioFechado 0.00, DuroRiadoRio 0.00, RiadoRio 0.00, Mole 0.00, 5.1ms\n",
            "Speed: 2.0ms preprocess, 5.1ms inference, 0.1ms postprocess per image at shape (1, 3, 256, 256)\n",
            "\n",
            "image 1/1 /content/drive/MyDrive/TypeCoffee.v31i.folder/test/Quebrado/Quebrado010_jpg.rf.bc02072eec13255cc3d5815cdd1e6207.jpg: 256x256 Quebrado 1.00, RioFechado 0.00, DuroRiadoRio 0.00, RiadoRio 0.00, Mole 0.00, 5.0ms\n",
            "Speed: 1.7ms preprocess, 5.0ms inference, 0.0ms postprocess per image at shape (1, 3, 256, 256)\n",
            "\n",
            "image 1/1 /content/drive/MyDrive/TypeCoffee.v31i.folder/test/Quebrado/quebrado002_jpg.rf.8307f7e1c334ef312be17f1a96fca24c.jpg: 256x256 Quebrado 1.00, RioFechado 0.00, DuroRiadoRio 0.00, RiadoRio 0.00, Mole 0.00, 4.9ms\n",
            "Speed: 1.6ms preprocess, 4.9ms inference, 0.0ms postprocess per image at shape (1, 3, 256, 256)\n",
            "Imagem de teste: /content/drive/MyDrive/TypeCoffee.v31i.folder/test/Quebrado/quebrado2_jpg.rf.39b1fb4595e5e9a6230f51bdf4771fa2.jpg\n",
            "Classes preditas: [2, 2, 2]\n",
            "Moda das predições: 2\n",
            "Tempo de inferência: 6.0419 segundos\n",
            "\n",
            "Tempo médio de inferência: 6.0405 segundos\n",
            "\n",
            "image 1/1 /content/drive/MyDrive/TypeCoffee.v31i.folder/test/Mole/Mole2_jpg.rf.94190e8e380b9bb1bdb76729e81996b7.jpg: 256x256 Mole 0.94, DuroRiadoRio 0.05, RiadoRio 0.01, Quebrado 0.00, RioFechado 0.00, 5.4ms\n",
            "Speed: 1.9ms preprocess, 5.4ms inference, 0.1ms postprocess per image at shape (1, 3, 256, 256)\n",
            "\n",
            "image 1/1 /content/drive/MyDrive/TypeCoffee.v31i.folder/test/Mole/mole002_jpg.rf.4edf8b59f30315584b5a6530fc615343.jpg: 256x256 RiadoRio 1.00, Mole 0.00, DuroRiadoRio 0.00, Quebrado 0.00, RioFechado 0.00, 4.4ms\n",
            "Speed: 1.4ms preprocess, 4.4ms inference, 0.0ms postprocess per image at shape (1, 3, 256, 256)\n",
            "\n",
            "image 1/1 /content/drive/MyDrive/TypeCoffee.v31i.folder/test/Mole/mole006_jpg.rf.e38cb43d6151fed656df75c18e039108.jpg: 256x256 RiadoRio 0.91, Mole 0.08, DuroRiadoRio 0.01, Quebrado 0.00, RioFechado 0.00, 4.6ms\n",
            "Speed: 1.4ms preprocess, 4.6ms inference, 0.0ms postprocess per image at shape (1, 3, 256, 256)\n",
            "Imagem de teste: /content/drive/MyDrive/TypeCoffee.v31i.folder/test/Mole/Mole2_jpg.rf.94190e8e380b9bb1bdb76729e81996b7.jpg\n",
            "Classes preditas: [1, 3, 3]\n",
            "Moda das predições: 3\n",
            "Tempo de inferência: 6.0378 segundos\n",
            "\n",
            "\n",
            "image 1/1 /content/drive/MyDrive/TypeCoffee.v31i.folder/test/Mole/mole004_jpg.rf.8f369ec2c76945fd640f74c945146226.jpg: 256x256 Mole 0.90, DuroRiadoRio 0.10, RiadoRio 0.00, Quebrado 0.00, RioFechado 0.00, 4.8ms\n",
            "Speed: 1.9ms preprocess, 4.8ms inference, 0.0ms postprocess per image at shape (1, 3, 256, 256)\n",
            "\n",
            "image 1/1 /content/drive/MyDrive/TypeCoffee.v31i.folder/test/Mole/Mole2_jpg.rf.94190e8e380b9bb1bdb76729e81996b7.jpg: 256x256 Mole 0.94, DuroRiadoRio 0.05, RiadoRio 0.01, Quebrado 0.00, RioFechado 0.00, 4.5ms\n",
            "Speed: 1.5ms preprocess, 4.5ms inference, 0.1ms postprocess per image at shape (1, 3, 256, 256)\n",
            "\n",
            "image 1/1 /content/drive/MyDrive/TypeCoffee.v31i.folder/test/Mole/mole001_jpg.rf.b5697fb2bb8c7f0a32828e30a3097811.jpg: 256x256 Mole 0.99, DuroRiadoRio 0.01, RiadoRio 0.00, Quebrado 0.00, RioFechado 0.00, 5.6ms\n",
            "Speed: 1.6ms preprocess, 5.6ms inference, 0.0ms postprocess per image at shape (1, 3, 256, 256)\n",
            "Imagem de teste: /content/drive/MyDrive/TypeCoffee.v31i.folder/test/Mole/mole004_jpg.rf.8f369ec2c76945fd640f74c945146226.jpg\n",
            "Classes preditas: [1, 1, 1]\n",
            "Moda das predições: 1\n",
            "Tempo de inferência: 6.0404 segundos\n",
            "\n",
            "\n",
            "image 1/1 /content/drive/MyDrive/TypeCoffee.v31i.folder/test/Mole/Mole008_jpg.rf.ec385ede616284d7c07083b1004096c7.jpg: 256x256 Mole 1.00, RiadoRio 0.00, DuroRiadoRio 0.00, RioFechado 0.00, Quebrado 0.00, 6.5ms\n",
            "Speed: 2.2ms preprocess, 6.5ms inference, 0.1ms postprocess per image at shape (1, 3, 256, 256)\n",
            "\n",
            "image 1/1 /content/drive/MyDrive/TypeCoffee.v31i.folder/test/Mole/10Mole_jpeg.rf.ad9f98bf683c40ddba2fcecea97fc55d.jpg: 256x256 Mole 0.57, RiadoRio 0.43, DuroRiadoRio 0.01, RioFechado 0.00, Quebrado 0.00, 6.0ms\n",
            "Speed: 1.6ms preprocess, 6.0ms inference, 0.0ms postprocess per image at shape (1, 3, 256, 256)\n",
            "\n",
            "image 1/1 /content/drive/MyDrive/TypeCoffee.v31i.folder/test/Mole/mole005_jpg.rf.ec9e8e993d4b58ec167b2fe1e452fd63.jpg: 256x256 Mole 1.00, DuroRiadoRio 0.00, RiadoRio 0.00, Quebrado 0.00, RioFechado 0.00, 4.5ms\n",
            "Speed: 1.5ms preprocess, 4.5ms inference, 0.0ms postprocess per image at shape (1, 3, 256, 256)\n",
            "Imagem de teste: /content/drive/MyDrive/TypeCoffee.v31i.folder/test/Mole/Mole008_jpg.rf.ec385ede616284d7c07083b1004096c7.jpg\n",
            "Classes preditas: [1, 1, 1]\n",
            "Moda das predições: 1\n",
            "Tempo de inferência: 6.0445 segundos\n",
            "\n",
            "\n",
            "image 1/1 /content/drive/MyDrive/TypeCoffee.v31i.folder/test/Mole/mole006_jpg.rf.e38cb43d6151fed656df75c18e039108.jpg: 256x256 RiadoRio 0.91, Mole 0.08, DuroRiadoRio 0.01, Quebrado 0.00, RioFechado 0.00, 6.6ms\n",
            "Speed: 2.5ms preprocess, 6.6ms inference, 0.0ms postprocess per image at shape (1, 3, 256, 256)\n",
            "\n",
            "image 1/1 /content/drive/MyDrive/TypeCoffee.v31i.folder/test/Mole/mole007_jpg.rf.e6c702c33a1049c79bd3970e9630d6bb.jpg: 256x256 Mole 0.99, DuroRiadoRio 0.01, RiadoRio 0.00, Quebrado 0.00, RioFechado 0.00, 4.4ms\n",
            "Speed: 1.4ms preprocess, 4.4ms inference, 0.0ms postprocess per image at shape (1, 3, 256, 256)\n",
            "\n",
            "image 1/1 /content/drive/MyDrive/TypeCoffee.v31i.folder/test/Mole/mole004_jpg.rf.8f369ec2c76945fd640f74c945146226.jpg: 256x256 Mole 0.90, DuroRiadoRio 0.10, RiadoRio 0.00, Quebrado 0.00, RioFechado 0.00, 4.3ms\n",
            "Speed: 1.3ms preprocess, 4.3ms inference, 0.0ms postprocess per image at shape (1, 3, 256, 256)\n",
            "Imagem de teste: /content/drive/MyDrive/TypeCoffee.v31i.folder/test/Mole/mole006_jpg.rf.e38cb43d6151fed656df75c18e039108.jpg\n",
            "Classes preditas: [3, 1, 1]\n",
            "Moda das predições: 1\n",
            "Tempo de inferência: 6.0422 segundos\n",
            "\n",
            "\n",
            "image 1/1 /content/drive/MyDrive/TypeCoffee.v31i.folder/test/Mole/mole003_jpg.rf.687dcd3e0b453fe6e168f54a2048e2ac.jpg: 256x256 RiadoRio 1.00, Mole 0.00, DuroRiadoRio 0.00, Quebrado 0.00, RioFechado 0.00, 5.3ms\n",
            "Speed: 2.1ms preprocess, 5.3ms inference, 0.1ms postprocess per image at shape (1, 3, 256, 256)\n",
            "\n",
            "image 1/1 /content/drive/MyDrive/TypeCoffee.v31i.folder/test/Mole/mole004_jpg.rf.8f369ec2c76945fd640f74c945146226.jpg: 256x256 Mole 0.90, DuroRiadoRio 0.10, RiadoRio 0.00, Quebrado 0.00, RioFechado 0.00, 4.1ms\n",
            "Speed: 1.5ms preprocess, 4.1ms inference, 0.0ms postprocess per image at shape (1, 3, 256, 256)\n",
            "\n",
            "image 1/1 /content/drive/MyDrive/TypeCoffee.v31i.folder/test/Mole/10Mole_jpeg.rf.ad9f98bf683c40ddba2fcecea97fc55d.jpg: 256x256 Mole 0.57, RiadoRio 0.43, DuroRiadoRio 0.01, RioFechado 0.00, Quebrado 0.00, 5.0ms\n",
            "Speed: 1.6ms preprocess, 5.0ms inference, 0.0ms postprocess per image at shape (1, 3, 256, 256)\n",
            "Imagem de teste: /content/drive/MyDrive/TypeCoffee.v31i.folder/test/Mole/mole003_jpg.rf.687dcd3e0b453fe6e168f54a2048e2ac.jpg\n",
            "Classes preditas: [3, 1, 1]\n",
            "Moda das predições: 1\n",
            "Tempo de inferência: 6.0398 segundos\n",
            "\n",
            "\n",
            "image 1/1 /content/drive/MyDrive/TypeCoffee.v31i.folder/test/Mole/mole005_jpg.rf.ec9e8e993d4b58ec167b2fe1e452fd63.jpg: 256x256 Mole 1.00, DuroRiadoRio 0.00, RiadoRio 0.00, Quebrado 0.00, RioFechado 0.00, 5.2ms\n",
            "Speed: 2.1ms preprocess, 5.2ms inference, 0.1ms postprocess per image at shape (1, 3, 256, 256)\n",
            "\n",
            "image 1/1 /content/drive/MyDrive/TypeCoffee.v31i.folder/test/Mole/12Mole_jpeg.rf.f4a0a658d3fee39833012a8ee5ceab60.jpg: 256x256 Mole 1.00, RiadoRio 0.00, DuroRiadoRio 0.00, RioFechado 0.00, Quebrado 0.00, 5.8ms\n",
            "Speed: 1.7ms preprocess, 5.8ms inference, 0.1ms postprocess per image at shape (1, 3, 256, 256)\n",
            "\n",
            "image 1/1 /content/drive/MyDrive/TypeCoffee.v31i.folder/test/Mole/Mole008_jpg.rf.ec385ede616284d7c07083b1004096c7.jpg: 256x256 Mole 1.00, RiadoRio 0.00, DuroRiadoRio 0.00, RioFechado 0.00, Quebrado 0.00, 4.4ms\n",
            "Speed: 1.6ms preprocess, 4.4ms inference, 0.1ms postprocess per image at shape (1, 3, 256, 256)\n",
            "Imagem de teste: /content/drive/MyDrive/TypeCoffee.v31i.folder/test/Mole/mole005_jpg.rf.ec9e8e993d4b58ec167b2fe1e452fd63.jpg\n",
            "Classes preditas: [1, 1, 1]\n",
            "Moda das predições: 1\n",
            "Tempo de inferência: 6.0407 segundos\n",
            "\n",
            "\n",
            "image 1/1 /content/drive/MyDrive/TypeCoffee.v31i.folder/test/Mole/Mole3_jpg.rf.3ede64b63f07979c025fd917af12e394.jpg: 256x256 Mole 0.90, DuroRiadoRio 0.10, RiadoRio 0.00, Quebrado 0.00, RioFechado 0.00, 5.5ms\n",
            "Speed: 1.9ms preprocess, 5.5ms inference, 0.1ms postprocess per image at shape (1, 3, 256, 256)\n",
            "\n",
            "image 1/1 /content/drive/MyDrive/TypeCoffee.v31i.folder/test/Mole/05Mole_jpeg.rf.3d10af9d2591c68624a90507b4a84d41.jpg: 256x256 Mole 0.95, RiadoRio 0.05, DuroRiadoRio 0.00, RioFechado 0.00, Quebrado 0.00, 4.8ms\n",
            "Speed: 1.7ms preprocess, 4.8ms inference, 0.0ms postprocess per image at shape (1, 3, 256, 256)\n",
            "\n",
            "image 1/1 /content/drive/MyDrive/TypeCoffee.v31i.folder/test/Mole/Mole008_jpg.rf.ec385ede616284d7c07083b1004096c7.jpg: 256x256 Mole 1.00, RiadoRio 0.00, DuroRiadoRio 0.00, RioFechado 0.00, Quebrado 0.00, 4.2ms\n",
            "Speed: 1.4ms preprocess, 4.2ms inference, 0.0ms postprocess per image at shape (1, 3, 256, 256)\n",
            "Imagem de teste: /content/drive/MyDrive/TypeCoffee.v31i.folder/test/Mole/Mole3_jpg.rf.3ede64b63f07979c025fd917af12e394.jpg\n",
            "Classes preditas: [1, 1, 1]\n",
            "Moda das predições: 1\n",
            "Tempo de inferência: 6.0489 segundos\n",
            "\n",
            "\n",
            "image 1/1 /content/drive/MyDrive/TypeCoffee.v31i.folder/test/Mole/Mole_jpg.rf.d7f68b89c301c21431df57858a7084e1.jpg: 256x256 Mole 0.81, DuroRiadoRio 0.18, RiadoRio 0.01, Quebrado 0.01, RioFechado 0.00, 5.2ms\n",
            "Speed: 1.9ms preprocess, 5.2ms inference, 0.1ms postprocess per image at shape (1, 3, 256, 256)\n",
            "\n",
            "image 1/1 /content/drive/MyDrive/TypeCoffee.v31i.folder/test/Mole/05Mole_jpeg.rf.3d10af9d2591c68624a90507b4a84d41.jpg: 256x256 Mole 0.95, RiadoRio 0.05, DuroRiadoRio 0.00, RioFechado 0.00, Quebrado 0.00, 5.3ms\n",
            "Speed: 1.8ms preprocess, 5.3ms inference, 0.0ms postprocess per image at shape (1, 3, 256, 256)\n",
            "\n",
            "image 1/1 /content/drive/MyDrive/TypeCoffee.v31i.folder/test/Mole/Mole2_jpg.rf.94190e8e380b9bb1bdb76729e81996b7.jpg: 256x256 Mole 0.94, DuroRiadoRio 0.05, RiadoRio 0.01, Quebrado 0.00, RioFechado 0.00, 4.1ms\n",
            "Speed: 1.4ms preprocess, 4.1ms inference, 0.0ms postprocess per image at shape (1, 3, 256, 256)\n",
            "Imagem de teste: /content/drive/MyDrive/TypeCoffee.v31i.folder/test/Mole/Mole_jpg.rf.d7f68b89c301c21431df57858a7084e1.jpg\n",
            "Classes preditas: [1, 1, 1]\n",
            "Moda das predições: 1\n",
            "Tempo de inferência: 6.0397 segundos\n",
            "\n",
            "\n",
            "image 1/1 /content/drive/MyDrive/TypeCoffee.v31i.folder/test/Mole/mole007_jpg.rf.e6c702c33a1049c79bd3970e9630d6bb.jpg: 256x256 Mole 0.99, DuroRiadoRio 0.01, RiadoRio 0.00, Quebrado 0.00, RioFechado 0.00, 6.3ms\n",
            "Speed: 2.3ms preprocess, 6.3ms inference, 0.1ms postprocess per image at shape (1, 3, 256, 256)\n",
            "\n",
            "image 1/1 /content/drive/MyDrive/TypeCoffee.v31i.folder/test/Mole/mole002_jpg.rf.4edf8b59f30315584b5a6530fc615343.jpg: 256x256 RiadoRio 1.00, Mole 0.00, DuroRiadoRio 0.00, Quebrado 0.00, RioFechado 0.00, 4.4ms\n",
            "Speed: 1.4ms preprocess, 4.4ms inference, 0.0ms postprocess per image at shape (1, 3, 256, 256)\n",
            "\n",
            "image 1/1 /content/drive/MyDrive/TypeCoffee.v31i.folder/test/Mole/mole004_jpg.rf.8f369ec2c76945fd640f74c945146226.jpg: 256x256 Mole 0.90, DuroRiadoRio 0.10, RiadoRio 0.00, Quebrado 0.00, RioFechado 0.00, 4.2ms\n",
            "Speed: 1.4ms preprocess, 4.2ms inference, 0.0ms postprocess per image at shape (1, 3, 256, 256)\n",
            "Imagem de teste: /content/drive/MyDrive/TypeCoffee.v31i.folder/test/Mole/mole007_jpg.rf.e6c702c33a1049c79bd3970e9630d6bb.jpg\n",
            "Classes preditas: [1, 3, 1]\n",
            "Moda das predições: 1\n",
            "Tempo de inferência: 6.0419 segundos\n",
            "\n",
            "\n",
            "image 1/1 /content/drive/MyDrive/TypeCoffee.v31i.folder/test/Mole/07Mole_jpeg.rf.704fa2f5b7e1cbe7e9e294bd976fbcd0.jpg: 256x256 RiadoRio 0.99, Mole 0.01, RioFechado 0.00, DuroRiadoRio 0.00, Quebrado 0.00, 5.2ms\n",
            "Speed: 1.9ms preprocess, 5.2ms inference, 0.1ms postprocess per image at shape (1, 3, 256, 256)\n",
            "\n",
            "image 1/1 /content/drive/MyDrive/TypeCoffee.v31i.folder/test/Mole/05Mole_jpeg.rf.3d10af9d2591c68624a90507b4a84d41.jpg: 256x256 Mole 0.95, RiadoRio 0.05, DuroRiadoRio 0.00, RioFechado 0.00, Quebrado 0.00, 4.6ms\n",
            "Speed: 1.7ms preprocess, 4.6ms inference, 0.0ms postprocess per image at shape (1, 3, 256, 256)\n",
            "\n",
            "image 1/1 /content/drive/MyDrive/TypeCoffee.v31i.folder/test/Mole/02Mole_jpeg.rf.276da2b03758485b0e33e673bf39c16b.jpg: 256x256 Mole 1.00, DuroRiadoRio 0.00, RiadoRio 0.00, RioFechado 0.00, Quebrado 0.00, 5.5ms\n",
            "Speed: 1.5ms preprocess, 5.5ms inference, 0.1ms postprocess per image at shape (1, 3, 256, 256)\n",
            "Imagem de teste: /content/drive/MyDrive/TypeCoffee.v31i.folder/test/Mole/07Mole_jpeg.rf.704fa2f5b7e1cbe7e9e294bd976fbcd0.jpg\n",
            "Classes preditas: [3, 1, 1]\n",
            "Moda das predições: 1\n",
            "Tempo de inferência: 6.0422 segundos\n",
            "\n",
            "\n",
            "image 1/1 /content/drive/MyDrive/TypeCoffee.v31i.folder/test/Mole/mole001_jpg.rf.b5697fb2bb8c7f0a32828e30a3097811.jpg: 256x256 Mole 0.99, DuroRiadoRio 0.01, RiadoRio 0.00, Quebrado 0.00, RioFechado 0.00, 6.2ms\n",
            "Speed: 2.1ms preprocess, 6.2ms inference, 0.1ms postprocess per image at shape (1, 3, 256, 256)\n",
            "\n",
            "image 1/1 /content/drive/MyDrive/TypeCoffee.v31i.folder/test/Mole/05Mole_jpeg.rf.3d10af9d2591c68624a90507b4a84d41.jpg: 256x256 Mole 0.95, RiadoRio 0.05, DuroRiadoRio 0.00, RioFechado 0.00, Quebrado 0.00, 4.3ms\n",
            "Speed: 1.7ms preprocess, 4.3ms inference, 0.0ms postprocess per image at shape (1, 3, 256, 256)\n",
            "\n",
            "image 1/1 /content/drive/MyDrive/TypeCoffee.v31i.folder/test/Mole/mole002_jpg.rf.4edf8b59f30315584b5a6530fc615343.jpg: 256x256 RiadoRio 1.00, Mole 0.00, DuroRiadoRio 0.00, Quebrado 0.00, RioFechado 0.00, 4.5ms\n",
            "Speed: 1.3ms preprocess, 4.5ms inference, 0.0ms postprocess per image at shape (1, 3, 256, 256)\n",
            "Imagem de teste: /content/drive/MyDrive/TypeCoffee.v31i.folder/test/Mole/mole001_jpg.rf.b5697fb2bb8c7f0a32828e30a3097811.jpg\n",
            "Classes preditas: [1, 1, 3]\n",
            "Moda das predições: 1\n",
            "Tempo de inferência: 6.0390 segundos\n",
            "\n",
            "\n",
            "image 1/1 /content/drive/MyDrive/TypeCoffee.v31i.folder/test/Mole/10Mole_jpeg.rf.ad9f98bf683c40ddba2fcecea97fc55d.jpg: 256x256 Mole 0.57, RiadoRio 0.43, DuroRiadoRio 0.01, RioFechado 0.00, Quebrado 0.00, 5.5ms\n",
            "Speed: 2.0ms preprocess, 5.5ms inference, 0.1ms postprocess per image at shape (1, 3, 256, 256)\n",
            "\n",
            "image 1/1 /content/drive/MyDrive/TypeCoffee.v31i.folder/test/Mole/mole007_jpg.rf.e6c702c33a1049c79bd3970e9630d6bb.jpg: 256x256 Mole 0.99, DuroRiadoRio 0.01, RiadoRio 0.00, Quebrado 0.00, RioFechado 0.00, 4.2ms\n",
            "Speed: 1.4ms preprocess, 4.2ms inference, 0.0ms postprocess per image at shape (1, 3, 256, 256)\n",
            "\n",
            "image 1/1 /content/drive/MyDrive/TypeCoffee.v31i.folder/test/Mole/mole001_jpg.rf.b5697fb2bb8c7f0a32828e30a3097811.jpg: 256x256 Mole 0.99, DuroRiadoRio 0.01, RiadoRio 0.00, Quebrado 0.00, RioFechado 0.00, 4.4ms\n",
            "Speed: 1.4ms preprocess, 4.4ms inference, 0.0ms postprocess per image at shape (1, 3, 256, 256)\n",
            "Imagem de teste: /content/drive/MyDrive/TypeCoffee.v31i.folder/test/Mole/10Mole_jpeg.rf.ad9f98bf683c40ddba2fcecea97fc55d.jpg\n",
            "Classes preditas: [1, 1, 1]\n",
            "Moda das predições: 1\n",
            "Tempo de inferência: 6.0395 segundos\n",
            "\n",
            "\n",
            "image 1/1 /content/drive/MyDrive/TypeCoffee.v31i.folder/test/Mole/02Mole_jpeg.rf.276da2b03758485b0e33e673bf39c16b.jpg: 256x256 Mole 1.00, DuroRiadoRio 0.00, RiadoRio 0.00, RioFechado 0.00, Quebrado 0.00, 5.1ms\n",
            "Speed: 2.1ms preprocess, 5.1ms inference, 0.1ms postprocess per image at shape (1, 3, 256, 256)\n",
            "\n",
            "image 1/1 /content/drive/MyDrive/TypeCoffee.v31i.folder/test/Mole/Mole3_jpg.rf.3ede64b63f07979c025fd917af12e394.jpg: 256x256 Mole 0.90, DuroRiadoRio 0.10, RiadoRio 0.00, Quebrado 0.00, RioFechado 0.00, 5.6ms\n",
            "Speed: 1.7ms preprocess, 5.6ms inference, 0.1ms postprocess per image at shape (1, 3, 256, 256)\n",
            "\n",
            "image 1/1 /content/drive/MyDrive/TypeCoffee.v31i.folder/test/Mole/mole002_jpg.rf.4edf8b59f30315584b5a6530fc615343.jpg: 256x256 RiadoRio 1.00, Mole 0.00, DuroRiadoRio 0.00, Quebrado 0.00, RioFechado 0.00, 4.2ms\n",
            "Speed: 1.4ms preprocess, 4.2ms inference, 0.0ms postprocess per image at shape (1, 3, 256, 256)\n",
            "Imagem de teste: /content/drive/MyDrive/TypeCoffee.v31i.folder/test/Mole/02Mole_jpeg.rf.276da2b03758485b0e33e673bf39c16b.jpg\n",
            "Classes preditas: [1, 1, 3]\n",
            "Moda das predições: 1\n",
            "Tempo de inferência: 6.0410 segundos\n",
            "\n",
            "\n",
            "image 1/1 /content/drive/MyDrive/TypeCoffee.v31i.folder/test/Mole/12Mole_jpeg.rf.f4a0a658d3fee39833012a8ee5ceab60.jpg: 256x256 Mole 1.00, RiadoRio 0.00, DuroRiadoRio 0.00, RioFechado 0.00, Quebrado 0.00, 5.2ms\n",
            "Speed: 2.0ms preprocess, 5.2ms inference, 0.1ms postprocess per image at shape (1, 3, 256, 256)\n",
            "\n",
            "image 1/1 /content/drive/MyDrive/TypeCoffee.v31i.folder/test/Mole/10Mole_jpeg.rf.ad9f98bf683c40ddba2fcecea97fc55d.jpg: 256x256 Mole 0.57, RiadoRio 0.43, DuroRiadoRio 0.01, RioFechado 0.00, Quebrado 0.00, 4.3ms\n",
            "Speed: 1.4ms preprocess, 4.3ms inference, 0.0ms postprocess per image at shape (1, 3, 256, 256)\n",
            "\n",
            "image 1/1 /content/drive/MyDrive/TypeCoffee.v31i.folder/test/Mole/mole007_jpg.rf.e6c702c33a1049c79bd3970e9630d6bb.jpg: 256x256 Mole 0.99, DuroRiadoRio 0.01, RiadoRio 0.00, Quebrado 0.00, RioFechado 0.00, 4.2ms\n",
            "Speed: 1.4ms preprocess, 4.2ms inference, 0.0ms postprocess per image at shape (1, 3, 256, 256)\n",
            "Imagem de teste: /content/drive/MyDrive/TypeCoffee.v31i.folder/test/Mole/12Mole_jpeg.rf.f4a0a658d3fee39833012a8ee5ceab60.jpg\n",
            "Classes preditas: [1, 1, 1]\n",
            "Moda das predições: 1\n",
            "Tempo de inferência: 6.0416 segundos\n",
            "\n",
            "\n",
            "image 1/1 /content/drive/MyDrive/TypeCoffee.v31i.folder/test/Mole/mole002_jpg.rf.4edf8b59f30315584b5a6530fc615343.jpg: 256x256 RiadoRio 1.00, Mole 0.00, DuroRiadoRio 0.00, Quebrado 0.00, RioFechado 0.00, 6.3ms\n",
            "Speed: 2.0ms preprocess, 6.3ms inference, 0.1ms postprocess per image at shape (1, 3, 256, 256)\n",
            "\n",
            "image 1/1 /content/drive/MyDrive/TypeCoffee.v31i.folder/test/Mole/mole003_jpg.rf.687dcd3e0b453fe6e168f54a2048e2ac.jpg: 256x256 RiadoRio 1.00, Mole 0.00, DuroRiadoRio 0.00, Quebrado 0.00, RioFechado 0.00, 5.9ms\n",
            "Speed: 1.7ms preprocess, 5.9ms inference, 0.1ms postprocess per image at shape (1, 3, 256, 256)\n",
            "\n",
            "image 1/1 /content/drive/MyDrive/TypeCoffee.v31i.folder/test/Mole/mole007_jpg.rf.e6c702c33a1049c79bd3970e9630d6bb.jpg: 256x256 Mole 0.99, DuroRiadoRio 0.01, RiadoRio 0.00, Quebrado 0.00, RioFechado 0.00, 4.5ms\n",
            "Speed: 1.5ms preprocess, 4.5ms inference, 0.1ms postprocess per image at shape (1, 3, 256, 256)\n",
            "Imagem de teste: /content/drive/MyDrive/TypeCoffee.v31i.folder/test/Mole/mole002_jpg.rf.4edf8b59f30315584b5a6530fc615343.jpg\n",
            "Classes preditas: [3, 3, 1]\n",
            "Moda das predições: 3\n",
            "Tempo de inferência: 6.0426 segundos\n",
            "\n",
            "\n",
            "image 1/1 /content/drive/MyDrive/TypeCoffee.v31i.folder/test/Mole/05Mole_jpeg.rf.3d10af9d2591c68624a90507b4a84d41.jpg: 256x256 Mole 0.95, RiadoRio 0.05, DuroRiadoRio 0.00, RioFechado 0.00, Quebrado 0.00, 6.4ms\n",
            "Speed: 2.6ms preprocess, 6.4ms inference, 0.1ms postprocess per image at shape (1, 3, 256, 256)\n",
            "\n",
            "image 1/1 /content/drive/MyDrive/TypeCoffee.v31i.folder/test/Mole/02Mole_jpeg.rf.276da2b03758485b0e33e673bf39c16b.jpg: 256x256 Mole 1.00, DuroRiadoRio 0.00, RiadoRio 0.00, RioFechado 0.00, Quebrado 0.00, 4.4ms\n",
            "Speed: 1.4ms preprocess, 4.4ms inference, 0.0ms postprocess per image at shape (1, 3, 256, 256)\n",
            "\n",
            "image 1/1 /content/drive/MyDrive/TypeCoffee.v31i.folder/test/Mole/mole006_jpg.rf.e38cb43d6151fed656df75c18e039108.jpg: 256x256 RiadoRio 0.91, Mole 0.08, DuroRiadoRio 0.01, Quebrado 0.00, RioFechado 0.00, 4.3ms\n",
            "Speed: 1.3ms preprocess, 4.3ms inference, 0.0ms postprocess per image at shape (1, 3, 256, 256)\n",
            "Imagem de teste: /content/drive/MyDrive/TypeCoffee.v31i.folder/test/Mole/05Mole_jpeg.rf.3d10af9d2591c68624a90507b4a84d41.jpg\n",
            "Classes preditas: [1, 1, 3]\n",
            "Moda das predições: 1\n",
            "Tempo de inferência: 6.0384 segundos\n",
            "\n",
            "Tempo médio de inferência: 6.0407 segundos\n",
            "\n",
            "image 1/1 /content/drive/MyDrive/TypeCoffee.v31i.folder/test/DuroRiadoRio/Duro007_jpg.rf.37922013e6e0d591ca461225ad41bed2.jpg: 256x256 RiadoRio 0.83, DuroRiadoRio 0.16, RioFechado 0.01, Quebrado 0.00, Mole 0.00, 5.3ms\n",
            "Speed: 2.0ms preprocess, 5.3ms inference, 0.1ms postprocess per image at shape (1, 3, 256, 256)\n",
            "\n",
            "image 1/1 /content/drive/MyDrive/TypeCoffee.v31i.folder/test/DuroRiadoRio/Duro001_jpg.rf.214c8311a505cedb3d16b3bb80b03a1e.jpg: 256x256 RiadoRio 0.92, DuroRiadoRio 0.08, RioFechado 0.01, Quebrado 0.00, Mole 0.00, 4.5ms\n",
            "Speed: 1.5ms preprocess, 4.5ms inference, 0.0ms postprocess per image at shape (1, 3, 256, 256)\n",
            "\n",
            "image 1/1 /content/drive/MyDrive/TypeCoffee.v31i.folder/test/DuroRiadoRio/10DuroRiadoRio_jpeg.rf.f909829bbf628a5e0861803973b3b92a.jpg: 256x256 DuroRiadoRio 0.92, Mole 0.04, RiadoRio 0.03, RioFechado 0.01, Quebrado 0.00, 4.6ms\n",
            "Speed: 1.4ms preprocess, 4.6ms inference, 0.0ms postprocess per image at shape (1, 3, 256, 256)\n",
            "Imagem de teste: /content/drive/MyDrive/TypeCoffee.v31i.folder/test/DuroRiadoRio/Duro007_jpg.rf.37922013e6e0d591ca461225ad41bed2.jpg\n",
            "Classes preditas: [3, 3, 0]\n",
            "Moda das predições: 3\n",
            "Tempo de inferência: 6.0399 segundos\n",
            "\n",
            "\n",
            "image 1/1 /content/drive/MyDrive/TypeCoffee.v31i.folder/test/DuroRiadoRio/Duro009_jpg.rf.3540659dab5c6d996243fd1b816ade32.jpg: 256x256 DuroRiadoRio 0.98, RiadoRio 0.02, RioFechado 0.00, Quebrado 0.00, Mole 0.00, 5.6ms\n",
            "Speed: 1.9ms preprocess, 5.6ms inference, 0.1ms postprocess per image at shape (1, 3, 256, 256)\n",
            "\n",
            "image 1/1 /content/drive/MyDrive/TypeCoffee.v31i.folder/test/DuroRiadoRio/35DuroRiadoRio_jpeg.rf.8dbb95d5b3d19043a352b0a5da0c8fc6.jpg: 256x256 DuroRiadoRio 1.00, RioFechado 0.00, Mole 0.00, RiadoRio 0.00, Quebrado 0.00, 5.7ms\n",
            "Speed: 1.6ms preprocess, 5.7ms inference, 0.0ms postprocess per image at shape (1, 3, 256, 256)\n",
            "\n",
            "image 1/1 /content/drive/MyDrive/TypeCoffee.v31i.folder/test/DuroRiadoRio/10DuroRiadoRio_jpeg.rf.f909829bbf628a5e0861803973b3b92a.jpg: 256x256 DuroRiadoRio 0.92, Mole 0.04, RiadoRio 0.03, RioFechado 0.01, Quebrado 0.00, 5.1ms\n",
            "Speed: 1.5ms preprocess, 5.1ms inference, 0.0ms postprocess per image at shape (1, 3, 256, 256)\n",
            "Imagem de teste: /content/drive/MyDrive/TypeCoffee.v31i.folder/test/DuroRiadoRio/Duro009_jpg.rf.3540659dab5c6d996243fd1b816ade32.jpg\n",
            "Classes preditas: [0, 0, 0]\n",
            "Moda das predições: 0\n",
            "Tempo de inferência: 6.0422 segundos\n",
            "\n",
            "\n",
            "image 1/1 /content/drive/MyDrive/TypeCoffee.v31i.folder/test/DuroRiadoRio/Duro008_jpg.rf.6b499eded747bb04e6c8316f39ef2176.jpg: 256x256 DuroRiadoRio 0.99, RiadoRio 0.01, RioFechado 0.00, Quebrado 0.00, Mole 0.00, 5.7ms\n",
            "Speed: 2.2ms preprocess, 5.7ms inference, 0.1ms postprocess per image at shape (1, 3, 256, 256)\n",
            "\n",
            "image 1/1 /content/drive/MyDrive/TypeCoffee.v31i.folder/test/DuroRiadoRio/46DuroRiadoRio_jpeg.rf.d6cd0bbdca447c2c1f6a3a34ca642b73.jpg: 256x256 DuroRiadoRio 0.99, Mole 0.01, RiadoRio 0.00, RioFechado 0.00, Quebrado 0.00, 4.4ms\n",
            "Speed: 1.6ms preprocess, 4.4ms inference, 0.0ms postprocess per image at shape (1, 3, 256, 256)\n",
            "\n",
            "image 1/1 /content/drive/MyDrive/TypeCoffee.v31i.folder/test/DuroRiadoRio/34DuroRiadoRio_jpeg.rf.b692c37ce4668e1279cb283677584aea.jpg: 256x256 DuroRiadoRio 1.00, RioFechado 0.00, RiadoRio 0.00, Quebrado 0.00, Mole 0.00, 4.1ms\n",
            "Speed: 1.4ms preprocess, 4.1ms inference, 0.0ms postprocess per image at shape (1, 3, 256, 256)\n",
            "Imagem de teste: /content/drive/MyDrive/TypeCoffee.v31i.folder/test/DuroRiadoRio/Duro008_jpg.rf.6b499eded747bb04e6c8316f39ef2176.jpg\n",
            "Classes preditas: [0, 0, 0]\n",
            "Moda das predições: 0\n",
            "Tempo de inferência: 6.0418 segundos\n",
            "\n",
            "\n",
            "image 1/1 /content/drive/MyDrive/TypeCoffee.v31i.folder/test/DuroRiadoRio/Duro006_jpg.rf.618fbf61f9fd341f404a4c26193925df.jpg: 256x256 DuroRiadoRio 0.75, RiadoRio 0.24, RioFechado 0.01, Quebrado 0.00, Mole 0.00, 5.1ms\n",
            "Speed: 2.0ms preprocess, 5.1ms inference, 0.1ms postprocess per image at shape (1, 3, 256, 256)\n",
            "\n",
            "image 1/1 /content/drive/MyDrive/TypeCoffee.v31i.folder/test/DuroRiadoRio/31DuroRiadoRio_jpeg.rf.5ced3409831efd9dbbcb4472210526b7.jpg: 256x256 DuroRiadoRio 1.00, RiadoRio 0.00, RioFechado 0.00, Mole 0.00, Quebrado 0.00, 4.5ms\n",
            "Speed: 1.5ms preprocess, 4.5ms inference, 0.0ms postprocess per image at shape (1, 3, 256, 256)\n",
            "\n",
            "image 1/1 /content/drive/MyDrive/TypeCoffee.v31i.folder/test/DuroRiadoRio/03DuroRiadoRio_jpeg.rf.7d5b0bc7b39d764f4aa455ab05ba6c8a.jpg: 256x256 RiadoRio 0.54, DuroRiadoRio 0.30, RioFechado 0.16, Mole 0.00, Quebrado 0.00, 4.2ms\n",
            "Speed: 1.5ms preprocess, 4.2ms inference, 0.0ms postprocess per image at shape (1, 3, 256, 256)\n",
            "Imagem de teste: /content/drive/MyDrive/TypeCoffee.v31i.folder/test/DuroRiadoRio/Duro006_jpg.rf.618fbf61f9fd341f404a4c26193925df.jpg\n",
            "Classes preditas: [0, 0, 3]\n",
            "Moda das predições: 0\n",
            "Tempo de inferência: 6.0391 segundos\n",
            "\n",
            "\n",
            "image 1/1 /content/drive/MyDrive/TypeCoffee.v31i.folder/test/DuroRiadoRio/Duro011_jpg.rf.e13a264353bc545f7a26bbe09f7a9910.jpg: 256x256 DuroRiadoRio 1.00, RiadoRio 0.00, RioFechado 0.00, Quebrado 0.00, Mole 0.00, 4.9ms\n",
            "Speed: 2.0ms preprocess, 4.9ms inference, 0.1ms postprocess per image at shape (1, 3, 256, 256)\n",
            "\n",
            "image 1/1 /content/drive/MyDrive/TypeCoffee.v31i.folder/test/DuroRiadoRio/23DuroRiadoRio_jpeg.rf.00faaf627094a8bfa69aa929a7be4120.jpg: 256x256 RiadoRio 0.87, DuroRiadoRio 0.13, RioFechado 0.00, Mole 0.00, Quebrado 0.00, 4.6ms\n",
            "Speed: 1.6ms preprocess, 4.6ms inference, 0.0ms postprocess per image at shape (1, 3, 256, 256)\n",
            "\n",
            "image 1/1 /content/drive/MyDrive/TypeCoffee.v31i.folder/test/DuroRiadoRio/30DuroRiadoRio_jpeg.rf.137ef967e507541e77ff233793afd221.jpg: 256x256 DuroRiadoRio 0.92, RiadoRio 0.08, RioFechado 0.00, Quebrado 0.00, Mole 0.00, 5.4ms\n",
            "Speed: 1.5ms preprocess, 5.4ms inference, 0.1ms postprocess per image at shape (1, 3, 256, 256)\n",
            "Imagem de teste: /content/drive/MyDrive/TypeCoffee.v31i.folder/test/DuroRiadoRio/Duro011_jpg.rf.e13a264353bc545f7a26bbe09f7a9910.jpg\n",
            "Classes preditas: [0, 3, 0]\n",
            "Moda das predições: 0\n",
            "Tempo de inferência: 6.0391 segundos\n",
            "\n",
            "\n",
            "image 1/1 /content/drive/MyDrive/TypeCoffee.v31i.folder/test/DuroRiadoRio/Duro005_jpg.rf.98fc4a459369171b4f9ac4c87af8ada4.jpg: 256x256 RiadoRio 0.53, DuroRiadoRio 0.46, RioFechado 0.00, Quebrado 0.00, Mole 0.00, 6.0ms\n",
            "Speed: 2.3ms preprocess, 6.0ms inference, 0.1ms postprocess per image at shape (1, 3, 256, 256)\n",
            "\n",
            "image 1/1 /content/drive/MyDrive/TypeCoffee.v31i.folder/test/DuroRiadoRio/Duro010_jpg.rf.ebd49f889e4a083baf19ac1013abf2fd.jpg: 256x256 DuroRiadoRio 0.96, RiadoRio 0.03, RioFechado 0.01, Quebrado 0.00, Mole 0.00, 4.4ms\n",
            "Speed: 1.5ms preprocess, 4.4ms inference, 0.0ms postprocess per image at shape (1, 3, 256, 256)\n",
            "\n",
            "image 1/1 /content/drive/MyDrive/TypeCoffee.v31i.folder/test/DuroRiadoRio/47DuroRiadoRio_jpeg.rf.6981088f7aa7fffad00d8bb315d64af7.jpg: 256x256 DuroRiadoRio 0.98, RioFechado 0.02, RiadoRio 0.00, Quebrado 0.00, Mole 0.00, 4.1ms\n",
            "Speed: 1.6ms preprocess, 4.1ms inference, 0.1ms postprocess per image at shape (1, 3, 256, 256)\n",
            "Imagem de teste: /content/drive/MyDrive/TypeCoffee.v31i.folder/test/DuroRiadoRio/Duro005_jpg.rf.98fc4a459369171b4f9ac4c87af8ada4.jpg\n",
            "Classes preditas: [3, 0, 0]\n",
            "Moda das predições: 0\n",
            "Tempo de inferência: 6.0409 segundos\n",
            "\n",
            "\n",
            "image 1/1 /content/drive/MyDrive/TypeCoffee.v31i.folder/test/DuroRiadoRio/Duro010_jpg.rf.ebd49f889e4a083baf19ac1013abf2fd.jpg: 256x256 DuroRiadoRio 0.96, RiadoRio 0.03, RioFechado 0.01, Quebrado 0.00, Mole 0.00, 5.2ms\n",
            "Speed: 1.9ms preprocess, 5.2ms inference, 0.1ms postprocess per image at shape (1, 3, 256, 256)\n",
            "\n",
            "image 1/1 /content/drive/MyDrive/TypeCoffee.v31i.folder/test/DuroRiadoRio/20DuroRiadoRio_jpeg.rf.88b201ddc5080c3f0dcacd9925bcb097.jpg: 256x256 RiadoRio 0.99, DuroRiadoRio 0.01, Mole 0.00, RioFechado 0.00, Quebrado 0.00, 4.5ms\n",
            "Speed: 1.5ms preprocess, 4.5ms inference, 0.0ms postprocess per image at shape (1, 3, 256, 256)\n",
            "\n",
            "image 1/1 /content/drive/MyDrive/TypeCoffee.v31i.folder/test/DuroRiadoRio/Duro004_jpg.rf.62d2ae9572d962224ac549e179a40e08.jpg: 256x256 DuroRiadoRio 0.62, RiadoRio 0.38, RioFechado 0.00, Quebrado 0.00, Mole 0.00, 4.9ms\n",
            "Speed: 1.8ms preprocess, 4.9ms inference, 0.0ms postprocess per image at shape (1, 3, 256, 256)\n",
            "Imagem de teste: /content/drive/MyDrive/TypeCoffee.v31i.folder/test/DuroRiadoRio/Duro010_jpg.rf.ebd49f889e4a083baf19ac1013abf2fd.jpg\n",
            "Classes preditas: [0, 3, 0]\n",
            "Moda das predições: 0\n",
            "Tempo de inferência: 6.0404 segundos\n",
            "\n",
            "\n",
            "image 1/1 /content/drive/MyDrive/TypeCoffee.v31i.folder/test/DuroRiadoRio/Duro003_jpg.rf.fb557f95c628fccb2388daf51c4d71ec.jpg: 256x256 DuroRiadoRio 0.87, RiadoRio 0.13, RioFechado 0.01, Quebrado 0.00, Mole 0.00, 5.4ms\n",
            "Speed: 2.0ms preprocess, 5.4ms inference, 0.1ms postprocess per image at shape (1, 3, 256, 256)\n",
            "\n",
            "image 1/1 /content/drive/MyDrive/TypeCoffee.v31i.folder/test/DuroRiadoRio/31DuroRiadoRio_jpeg.rf.5ced3409831efd9dbbcb4472210526b7.jpg: 256x256 DuroRiadoRio 1.00, RiadoRio 0.00, RioFechado 0.00, Mole 0.00, Quebrado 0.00, 4.8ms\n",
            "Speed: 2.2ms preprocess, 4.8ms inference, 0.0ms postprocess per image at shape (1, 3, 256, 256)\n",
            "\n",
            "image 1/1 /content/drive/MyDrive/TypeCoffee.v31i.folder/test/DuroRiadoRio/10DuroRiadoRio_jpeg.rf.f909829bbf628a5e0861803973b3b92a.jpg: 256x256 DuroRiadoRio 0.92, Mole 0.04, RiadoRio 0.03, RioFechado 0.01, Quebrado 0.00, 4.2ms\n",
            "Speed: 1.4ms preprocess, 4.2ms inference, 0.0ms postprocess per image at shape (1, 3, 256, 256)\n",
            "Imagem de teste: /content/drive/MyDrive/TypeCoffee.v31i.folder/test/DuroRiadoRio/Duro003_jpg.rf.fb557f95c628fccb2388daf51c4d71ec.jpg\n",
            "Classes preditas: [0, 0, 0]\n",
            "Moda das predições: 0\n",
            "Tempo de inferência: 6.0419 segundos\n",
            "\n",
            "\n",
            "image 1/1 /content/drive/MyDrive/TypeCoffee.v31i.folder/test/DuroRiadoRio/Duro004_jpg.rf.62d2ae9572d962224ac549e179a40e08.jpg: 256x256 DuroRiadoRio 0.62, RiadoRio 0.38, RioFechado 0.00, Quebrado 0.00, Mole 0.00, 5.3ms\n",
            "Speed: 2.2ms preprocess, 5.3ms inference, 0.1ms postprocess per image at shape (1, 3, 256, 256)\n",
            "\n",
            "image 1/1 /content/drive/MyDrive/TypeCoffee.v31i.folder/test/DuroRiadoRio/19DuroRiadoRio_jpeg.rf.6eea48ecdadac4fbd06553420a3ccec4.jpg: 256x256 DuroRiadoRio 0.95, RiadoRio 0.05, RioFechado 0.00, Quebrado 0.00, Mole 0.00, 4.5ms\n",
            "Speed: 1.5ms preprocess, 4.5ms inference, 0.0ms postprocess per image at shape (1, 3, 256, 256)\n",
            "\n",
            "image 1/1 /content/drive/MyDrive/TypeCoffee.v31i.folder/test/DuroRiadoRio/32DuroRiadoRio_jpeg.rf.cf090a0b1dd1637379a7351ebd6df5db.jpg: 256x256 DuroRiadoRio 0.97, Mole 0.02, RioFechado 0.00, RiadoRio 0.00, Quebrado 0.00, 5.5ms\n",
            "Speed: 1.7ms preprocess, 5.5ms inference, 0.0ms postprocess per image at shape (1, 3, 256, 256)\n",
            "Imagem de teste: /content/drive/MyDrive/TypeCoffee.v31i.folder/test/DuroRiadoRio/Duro004_jpg.rf.62d2ae9572d962224ac549e179a40e08.jpg\n",
            "Classes preditas: [0, 0, 0]\n",
            "Moda das predições: 0\n",
            "Tempo de inferência: 6.0427 segundos\n",
            "\n",
            "\n",
            "image 1/1 /content/drive/MyDrive/TypeCoffee.v31i.folder/test/DuroRiadoRio/49DuroRiadoRio_jpeg.rf.805caa517211688676c077ea208259c0.jpg: 256x256 DuroRiadoRio 1.00, RioFechado 0.00, RiadoRio 0.00, Mole 0.00, Quebrado 0.00, 5.3ms\n",
            "Speed: 1.9ms preprocess, 5.3ms inference, 0.1ms postprocess per image at shape (1, 3, 256, 256)\n",
            "\n",
            "image 1/1 /content/drive/MyDrive/TypeCoffee.v31i.folder/test/DuroRiadoRio/40DuroRiadoRio_jpeg.rf.17c7ec17d25ede27dcf2196bf14fb21d.jpg: 256x256 DuroRiadoRio 1.00, Mole 0.00, RiadoRio 0.00, RioFechado 0.00, Quebrado 0.00, 4.6ms\n",
            "Speed: 1.6ms preprocess, 4.6ms inference, 0.0ms postprocess per image at shape (1, 3, 256, 256)\n",
            "\n",
            "image 1/1 /content/drive/MyDrive/TypeCoffee.v31i.folder/test/DuroRiadoRio/42DuroRiadoRio_jpeg.rf.586f2e5f1c513b640a3d356b8fca0dda.jpg: 256x256 DuroRiadoRio 0.90, RiadoRio 0.09, RioFechado 0.00, Quebrado 0.00, Mole 0.00, 4.4ms\n",
            "Speed: 1.5ms preprocess, 4.4ms inference, 0.0ms postprocess per image at shape (1, 3, 256, 256)\n",
            "Imagem de teste: /content/drive/MyDrive/TypeCoffee.v31i.folder/test/DuroRiadoRio/49DuroRiadoRio_jpeg.rf.805caa517211688676c077ea208259c0.jpg\n",
            "Classes preditas: [0, 0, 0]\n",
            "Moda das predições: 0\n",
            "Tempo de inferência: 6.0391 segundos\n",
            "\n",
            "\n",
            "image 1/1 /content/drive/MyDrive/TypeCoffee.v31i.folder/test/DuroRiadoRio/Duro002_jpg.rf.4daa99332068cfc10382a973ff981055.jpg: 256x256 DuroRiadoRio 0.78, RiadoRio 0.21, RioFechado 0.01, Quebrado 0.00, Mole 0.00, 6.3ms\n",
            "Speed: 2.2ms preprocess, 6.3ms inference, 0.1ms postprocess per image at shape (1, 3, 256, 256)\n",
            "\n",
            "image 1/1 /content/drive/MyDrive/TypeCoffee.v31i.folder/test/DuroRiadoRio/Duro009_jpg.rf.3540659dab5c6d996243fd1b816ade32.jpg: 256x256 DuroRiadoRio 0.98, RiadoRio 0.02, RioFechado 0.00, Quebrado 0.00, Mole 0.00, 4.5ms\n",
            "Speed: 1.6ms preprocess, 4.5ms inference, 0.1ms postprocess per image at shape (1, 3, 256, 256)\n",
            "\n",
            "image 1/1 /content/drive/MyDrive/TypeCoffee.v31i.folder/test/DuroRiadoRio/46DuroRiadoRio_jpeg.rf.d6cd0bbdca447c2c1f6a3a34ca642b73.jpg: 256x256 DuroRiadoRio 0.99, Mole 0.01, RiadoRio 0.00, RioFechado 0.00, Quebrado 0.00, 5.5ms\n",
            "Speed: 1.5ms preprocess, 5.5ms inference, 0.1ms postprocess per image at shape (1, 3, 256, 256)\n",
            "Imagem de teste: /content/drive/MyDrive/TypeCoffee.v31i.folder/test/DuroRiadoRio/Duro002_jpg.rf.4daa99332068cfc10382a973ff981055.jpg\n",
            "Classes preditas: [0, 0, 0]\n",
            "Moda das predições: 0\n",
            "Tempo de inferência: 6.0427 segundos\n",
            "\n",
            "\n",
            "image 1/1 /content/drive/MyDrive/TypeCoffee.v31i.folder/test/DuroRiadoRio/48DuroRiadoRio_jpeg.rf.0a418446b8ae41df818b9c9ba076505c.jpg: 256x256 DuroRiadoRio 0.97, RioFechado 0.02, RiadoRio 0.01, Mole 0.00, Quebrado 0.00, 5.8ms\n",
            "Speed: 2.0ms preprocess, 5.8ms inference, 0.1ms postprocess per image at shape (1, 3, 256, 256)\n",
            "\n",
            "image 1/1 /content/drive/MyDrive/TypeCoffee.v31i.folder/test/DuroRiadoRio/Duro003_jpg.rf.fb557f95c628fccb2388daf51c4d71ec.jpg: 256x256 DuroRiadoRio 0.87, RiadoRio 0.13, RioFechado 0.01, Quebrado 0.00, Mole 0.00, 5.0ms\n",
            "Speed: 1.6ms preprocess, 5.0ms inference, 0.1ms postprocess per image at shape (1, 3, 256, 256)\n",
            "\n",
            "image 1/1 /content/drive/MyDrive/TypeCoffee.v31i.folder/test/DuroRiadoRio/44DuroRiadoRio_jpeg.rf.7616f10b8c3ab8904a62b10f6d055c29.jpg: 256x256 DuroRiadoRio 0.99, RioFechado 0.01, RiadoRio 0.00, Mole 0.00, Quebrado 0.00, 4.7ms\n",
            "Speed: 1.4ms preprocess, 4.7ms inference, 0.0ms postprocess per image at shape (1, 3, 256, 256)\n",
            "Imagem de teste: /content/drive/MyDrive/TypeCoffee.v31i.folder/test/DuroRiadoRio/48DuroRiadoRio_jpeg.rf.0a418446b8ae41df818b9c9ba076505c.jpg\n",
            "Classes preditas: [0, 0, 0]\n",
            "Moda das predições: 0\n",
            "Tempo de inferência: 6.0422 segundos\n",
            "\n",
            "\n",
            "image 1/1 /content/drive/MyDrive/TypeCoffee.v31i.folder/test/DuroRiadoRio/43DuroRiadoRio_jpeg.rf.f511926c2992589ecf8a51bb818eda30.jpg: 256x256 RioFechado 0.49, DuroRiadoRio 0.25, RiadoRio 0.25, Quebrado 0.00, Mole 0.00, 6.9ms\n",
            "Speed: 2.7ms preprocess, 6.9ms inference, 0.1ms postprocess per image at shape (1, 3, 256, 256)\n",
            "\n",
            "image 1/1 /content/drive/MyDrive/TypeCoffee.v31i.folder/test/DuroRiadoRio/25DuroRiadoRio_jpeg.rf.221398f2d01c9de0b6bdce51a86c084d.jpg: 256x256 DuroRiadoRio 0.99, RioFechado 0.00, RiadoRio 0.00, Quebrado 0.00, Mole 0.00, 4.9ms\n",
            "Speed: 1.6ms preprocess, 4.9ms inference, 0.1ms postprocess per image at shape (1, 3, 256, 256)\n",
            "\n",
            "image 1/1 /content/drive/MyDrive/TypeCoffee.v31i.folder/test/DuroRiadoRio/Duro002_jpg.rf.4daa99332068cfc10382a973ff981055.jpg: 256x256 DuroRiadoRio 0.78, RiadoRio 0.21, RioFechado 0.01, Quebrado 0.00, Mole 0.00, 5.1ms\n",
            "Speed: 1.5ms preprocess, 5.1ms inference, 0.0ms postprocess per image at shape (1, 3, 256, 256)\n",
            "Imagem de teste: /content/drive/MyDrive/TypeCoffee.v31i.folder/test/DuroRiadoRio/43DuroRiadoRio_jpeg.rf.f511926c2992589ecf8a51bb818eda30.jpg\n",
            "Classes preditas: [4, 0, 0]\n",
            "Moda das predições: 0\n",
            "Tempo de inferência: 6.0479 segundos\n",
            "\n",
            "\n",
            "image 1/1 /content/drive/MyDrive/TypeCoffee.v31i.folder/test/DuroRiadoRio/40DuroRiadoRio_jpeg.rf.17c7ec17d25ede27dcf2196bf14fb21d.jpg: 256x256 DuroRiadoRio 1.00, Mole 0.00, RiadoRio 0.00, RioFechado 0.00, Quebrado 0.00, 5.0ms\n",
            "Speed: 1.9ms preprocess, 5.0ms inference, 0.1ms postprocess per image at shape (1, 3, 256, 256)\n",
            "\n",
            "image 1/1 /content/drive/MyDrive/TypeCoffee.v31i.folder/test/DuroRiadoRio/32DuroRiadoRio_jpeg.rf.cf090a0b1dd1637379a7351ebd6df5db.jpg: 256x256 DuroRiadoRio 0.97, Mole 0.02, RioFechado 0.00, RiadoRio 0.00, Quebrado 0.00, 4.2ms\n",
            "Speed: 1.4ms preprocess, 4.2ms inference, 0.0ms postprocess per image at shape (1, 3, 256, 256)\n",
            "\n",
            "image 1/1 /content/drive/MyDrive/TypeCoffee.v31i.folder/test/DuroRiadoRio/27DuroRiadoRio_jpeg.rf.e6533e6bf258b5013b5ff8c707786ac5.jpg: 256x256 DuroRiadoRio 0.94, RiadoRio 0.03, RioFechado 0.03, Quebrado 0.00, Mole 0.00, 4.9ms\n",
            "Speed: 1.3ms preprocess, 4.9ms inference, 0.0ms postprocess per image at shape (1, 3, 256, 256)\n",
            "Imagem de teste: /content/drive/MyDrive/TypeCoffee.v31i.folder/test/DuroRiadoRio/40DuroRiadoRio_jpeg.rf.17c7ec17d25ede27dcf2196bf14fb21d.jpg\n",
            "Classes preditas: [0, 0, 0]\n",
            "Moda das predições: 0\n",
            "Tempo de inferência: 6.0489 segundos\n",
            "\n",
            "\n",
            "image 1/1 /content/drive/MyDrive/TypeCoffee.v31i.folder/test/DuroRiadoRio/Duro001_jpg.rf.214c8311a505cedb3d16b3bb80b03a1e.jpg: 256x256 RiadoRio 0.92, DuroRiadoRio 0.08, RioFechado 0.01, Quebrado 0.00, Mole 0.00, 5.0ms\n",
            "Speed: 1.9ms preprocess, 5.0ms inference, 0.1ms postprocess per image at shape (1, 3, 256, 256)\n",
            "\n",
            "image 1/1 /content/drive/MyDrive/TypeCoffee.v31i.folder/test/DuroRiadoRio/Duro006_jpg.rf.618fbf61f9fd341f404a4c26193925df.jpg: 256x256 DuroRiadoRio 0.75, RiadoRio 0.24, RioFechado 0.01, Quebrado 0.00, Mole 0.00, 5.2ms\n",
            "Speed: 1.7ms preprocess, 5.2ms inference, 0.0ms postprocess per image at shape (1, 3, 256, 256)\n",
            "\n",
            "image 1/1 /content/drive/MyDrive/TypeCoffee.v31i.folder/test/DuroRiadoRio/Duro010_jpg.rf.ebd49f889e4a083baf19ac1013abf2fd.jpg: 256x256 DuroRiadoRio 0.96, RiadoRio 0.03, RioFechado 0.01, Quebrado 0.00, Mole 0.00, 4.3ms\n",
            "Speed: 1.4ms preprocess, 4.3ms inference, 0.0ms postprocess per image at shape (1, 3, 256, 256)\n",
            "Imagem de teste: /content/drive/MyDrive/TypeCoffee.v31i.folder/test/DuroRiadoRio/Duro001_jpg.rf.214c8311a505cedb3d16b3bb80b03a1e.jpg\n",
            "Classes preditas: [3, 0, 0]\n",
            "Moda das predições: 0\n",
            "Tempo de inferência: 6.0410 segundos\n",
            "\n",
            "\n",
            "image 1/1 /content/drive/MyDrive/TypeCoffee.v31i.folder/test/DuroRiadoRio/44DuroRiadoRio_jpeg.rf.7616f10b8c3ab8904a62b10f6d055c29.jpg: 256x256 DuroRiadoRio 0.99, RioFechado 0.01, RiadoRio 0.00, Mole 0.00, Quebrado 0.00, 7.0ms\n",
            "Speed: 2.0ms preprocess, 7.0ms inference, 0.1ms postprocess per image at shape (1, 3, 256, 256)\n",
            "\n",
            "image 1/1 /content/drive/MyDrive/TypeCoffee.v31i.folder/test/DuroRiadoRio/49DuroRiadoRio_jpeg.rf.805caa517211688676c077ea208259c0.jpg: 256x256 DuroRiadoRio 1.00, RioFechado 0.00, RiadoRio 0.00, Mole 0.00, Quebrado 0.00, 4.5ms\n",
            "Speed: 1.6ms preprocess, 4.5ms inference, 0.0ms postprocess per image at shape (1, 3, 256, 256)\n",
            "\n",
            "image 1/1 /content/drive/MyDrive/TypeCoffee.v31i.folder/test/DuroRiadoRio/Duro001_jpg.rf.214c8311a505cedb3d16b3bb80b03a1e.jpg: 256x256 RiadoRio 0.92, DuroRiadoRio 0.08, RioFechado 0.01, Quebrado 0.00, Mole 0.00, 4.2ms\n",
            "Speed: 1.5ms preprocess, 4.2ms inference, 0.0ms postprocess per image at shape (1, 3, 256, 256)\n",
            "Imagem de teste: /content/drive/MyDrive/TypeCoffee.v31i.folder/test/DuroRiadoRio/44DuroRiadoRio_jpeg.rf.7616f10b8c3ab8904a62b10f6d055c29.jpg\n",
            "Classes preditas: [0, 0, 3]\n",
            "Moda das predições: 0\n",
            "Tempo de inferência: 6.0406 segundos\n",
            "\n",
            "\n",
            "image 1/1 /content/drive/MyDrive/TypeCoffee.v31i.folder/test/DuroRiadoRio/42DuroRiadoRio_jpeg.rf.586f2e5f1c513b640a3d356b8fca0dda.jpg: 256x256 DuroRiadoRio 0.90, RiadoRio 0.09, RioFechado 0.00, Quebrado 0.00, Mole 0.00, 5.9ms\n",
            "Speed: 2.0ms preprocess, 5.9ms inference, 0.1ms postprocess per image at shape (1, 3, 256, 256)\n",
            "\n",
            "image 1/1 /content/drive/MyDrive/TypeCoffee.v31i.folder/test/DuroRiadoRio/Duro008_jpg.rf.6b499eded747bb04e6c8316f39ef2176.jpg: 256x256 DuroRiadoRio 0.99, RiadoRio 0.01, RioFechado 0.00, Quebrado 0.00, Mole 0.00, 5.9ms\n",
            "Speed: 1.6ms preprocess, 5.9ms inference, 0.1ms postprocess per image at shape (1, 3, 256, 256)\n",
            "\n",
            "image 1/1 /content/drive/MyDrive/TypeCoffee.v31i.folder/test/DuroRiadoRio/16DuroRiadoRio_jpeg.rf.b9c9e1eee459bef089f0155c00285f25.jpg: 256x256 DuroRiadoRio 1.00, RiadoRio 0.00, RioFechado 0.00, Quebrado 0.00, Mole 0.00, 5.1ms\n",
            "Speed: 1.7ms preprocess, 5.1ms inference, 0.0ms postprocess per image at shape (1, 3, 256, 256)\n",
            "Imagem de teste: /content/drive/MyDrive/TypeCoffee.v31i.folder/test/DuroRiadoRio/42DuroRiadoRio_jpeg.rf.586f2e5f1c513b640a3d356b8fca0dda.jpg\n",
            "Classes preditas: [0, 0, 0]\n",
            "Moda das predições: 0\n",
            "Tempo de inferência: 6.0418 segundos\n",
            "\n",
            "\n",
            "image 1/1 /content/drive/MyDrive/TypeCoffee.v31i.folder/test/DuroRiadoRio/39DuroRiadoRio_jpeg.rf.8dc8a1b96b90ca29d7b133610e098a61.jpg: 256x256 DuroRiadoRio 0.83, RioFechado 0.17, RiadoRio 0.00, Quebrado 0.00, Mole 0.00, 5.9ms\n",
            "Speed: 2.4ms preprocess, 5.9ms inference, 0.1ms postprocess per image at shape (1, 3, 256, 256)\n",
            "\n",
            "image 1/1 /content/drive/MyDrive/TypeCoffee.v31i.folder/test/DuroRiadoRio/19DuroRiadoRio_jpeg.rf.6eea48ecdadac4fbd06553420a3ccec4.jpg: 256x256 DuroRiadoRio 0.95, RiadoRio 0.05, RioFechado 0.00, Quebrado 0.00, Mole 0.00, 4.6ms\n",
            "Speed: 1.5ms preprocess, 4.6ms inference, 0.0ms postprocess per image at shape (1, 3, 256, 256)\n",
            "\n",
            "image 1/1 /content/drive/MyDrive/TypeCoffee.v31i.folder/test/DuroRiadoRio/26DuroRiadoRio_jpeg.rf.fe3a81909ce50caaa122c7ac6af3af31.jpg: 256x256 DuroRiadoRio 0.91, RioFechado 0.05, RiadoRio 0.04, Mole 0.00, Quebrado 0.00, 4.5ms\n",
            "Speed: 1.4ms preprocess, 4.5ms inference, 0.0ms postprocess per image at shape (1, 3, 256, 256)\n",
            "Imagem de teste: /content/drive/MyDrive/TypeCoffee.v31i.folder/test/DuroRiadoRio/39DuroRiadoRio_jpeg.rf.8dc8a1b96b90ca29d7b133610e098a61.jpg\n",
            "Classes preditas: [0, 0, 0]\n",
            "Moda das predições: 0\n",
            "Tempo de inferência: 6.0417 segundos\n",
            "\n",
            "\n",
            "image 1/1 /content/drive/MyDrive/TypeCoffee.v31i.folder/test/DuroRiadoRio/46DuroRiadoRio_jpeg.rf.d6cd0bbdca447c2c1f6a3a34ca642b73.jpg: 256x256 DuroRiadoRio 0.99, Mole 0.01, RiadoRio 0.00, RioFechado 0.00, Quebrado 0.00, 5.0ms\n",
            "Speed: 2.0ms preprocess, 5.0ms inference, 0.1ms postprocess per image at shape (1, 3, 256, 256)\n",
            "\n",
            "image 1/1 /content/drive/MyDrive/TypeCoffee.v31i.folder/test/DuroRiadoRio/01DuroRiadoRio_jpeg.rf.881f2e8fbf4244b0e9a434a0305f5a3c.jpg: 256x256 DuroRiadoRio 1.00, RioFechado 0.00, RiadoRio 0.00, Mole 0.00, Quebrado 0.00, 4.7ms\n",
            "Speed: 1.4ms preprocess, 4.7ms inference, 0.0ms postprocess per image at shape (1, 3, 256, 256)\n",
            "\n",
            "image 1/1 /content/drive/MyDrive/TypeCoffee.v31i.folder/test/DuroRiadoRio/Duro011_jpg.rf.e13a264353bc545f7a26bbe09f7a9910.jpg: 256x256 DuroRiadoRio 1.00, RiadoRio 0.00, RioFechado 0.00, Quebrado 0.00, Mole 0.00, 4.4ms\n",
            "Speed: 1.4ms preprocess, 4.4ms inference, 0.0ms postprocess per image at shape (1, 3, 256, 256)\n",
            "Imagem de teste: /content/drive/MyDrive/TypeCoffee.v31i.folder/test/DuroRiadoRio/46DuroRiadoRio_jpeg.rf.d6cd0bbdca447c2c1f6a3a34ca642b73.jpg\n",
            "Classes preditas: [0, 0, 0]\n",
            "Moda das predições: 0\n",
            "Tempo de inferência: 6.0387 segundos\n",
            "\n",
            "\n",
            "image 1/1 /content/drive/MyDrive/TypeCoffee.v31i.folder/test/DuroRiadoRio/37DuroRiadoRio_jpeg.rf.a76d03ac8365482ae9bcf75f211a1a44.jpg: 256x256 DuroRiadoRio 1.00, RioFechado 0.00, RiadoRio 0.00, Mole 0.00, Quebrado 0.00, 5.0ms\n",
            "Speed: 2.0ms preprocess, 5.0ms inference, 0.1ms postprocess per image at shape (1, 3, 256, 256)\n",
            "\n",
            "image 1/1 /content/drive/MyDrive/TypeCoffee.v31i.folder/test/DuroRiadoRio/Duro009_jpg.rf.3540659dab5c6d996243fd1b816ade32.jpg: 256x256 DuroRiadoRio 0.98, RiadoRio 0.02, RioFechado 0.00, Quebrado 0.00, Mole 0.00, 5.0ms\n",
            "Speed: 1.6ms preprocess, 5.0ms inference, 0.0ms postprocess per image at shape (1, 3, 256, 256)\n",
            "\n",
            "image 1/1 /content/drive/MyDrive/TypeCoffee.v31i.folder/test/DuroRiadoRio/Duro003_jpg.rf.fb557f95c628fccb2388daf51c4d71ec.jpg: 256x256 DuroRiadoRio 0.87, RiadoRio 0.13, RioFechado 0.01, Quebrado 0.00, Mole 0.00, 4.3ms\n",
            "Speed: 1.4ms preprocess, 4.3ms inference, 0.0ms postprocess per image at shape (1, 3, 256, 256)\n",
            "Imagem de teste: /content/drive/MyDrive/TypeCoffee.v31i.folder/test/DuroRiadoRio/37DuroRiadoRio_jpeg.rf.a76d03ac8365482ae9bcf75f211a1a44.jpg\n",
            "Classes preditas: [0, 0, 0]\n",
            "Moda das predições: 0\n",
            "Tempo de inferência: 6.0403 segundos\n",
            "\n",
            "\n",
            "image 1/1 /content/drive/MyDrive/TypeCoffee.v31i.folder/test/DuroRiadoRio/38DuroRiadoRio_jpeg.rf.a1138ca02043d921e6207c7cd529d594.jpg: 256x256 DuroRiadoRio 0.96, Mole 0.03, RiadoRio 0.01, RioFechado 0.00, Quebrado 0.00, 6.1ms\n",
            "Speed: 2.2ms preprocess, 6.1ms inference, 0.1ms postprocess per image at shape (1, 3, 256, 256)\n",
            "\n",
            "image 1/1 /content/drive/MyDrive/TypeCoffee.v31i.folder/test/DuroRiadoRio/19DuroRiadoRio_jpeg.rf.6eea48ecdadac4fbd06553420a3ccec4.jpg: 256x256 DuroRiadoRio 0.95, RiadoRio 0.05, RioFechado 0.00, Quebrado 0.00, Mole 0.00, 4.3ms\n",
            "Speed: 1.4ms preprocess, 4.3ms inference, 0.0ms postprocess per image at shape (1, 3, 256, 256)\n",
            "\n",
            "image 1/1 /content/drive/MyDrive/TypeCoffee.v31i.folder/test/DuroRiadoRio/43DuroRiadoRio_jpeg.rf.f511926c2992589ecf8a51bb818eda30.jpg: 256x256 RioFechado 0.49, DuroRiadoRio 0.25, RiadoRio 0.25, Quebrado 0.00, Mole 0.00, 4.8ms\n",
            "Speed: 1.4ms preprocess, 4.8ms inference, 0.0ms postprocess per image at shape (1, 3, 256, 256)\n",
            "Imagem de teste: /content/drive/MyDrive/TypeCoffee.v31i.folder/test/DuroRiadoRio/38DuroRiadoRio_jpeg.rf.a1138ca02043d921e6207c7cd529d594.jpg\n",
            "Classes preditas: [0, 0, 4]\n",
            "Moda das predições: 0\n",
            "Tempo de inferência: 6.0407 segundos\n",
            "\n",
            "\n",
            "image 1/1 /content/drive/MyDrive/TypeCoffee.v31i.folder/test/DuroRiadoRio/47DuroRiadoRio_jpeg.rf.6981088f7aa7fffad00d8bb315d64af7.jpg: 256x256 DuroRiadoRio 0.98, RioFechado 0.02, RiadoRio 0.00, Quebrado 0.00, Mole 0.00, 5.1ms\n",
            "Speed: 2.1ms preprocess, 5.1ms inference, 0.1ms postprocess per image at shape (1, 3, 256, 256)\n",
            "\n",
            "image 1/1 /content/drive/MyDrive/TypeCoffee.v31i.folder/test/DuroRiadoRio/01DuroRiadoRio_jpeg.rf.881f2e8fbf4244b0e9a434a0305f5a3c.jpg: 256x256 DuroRiadoRio 1.00, RioFechado 0.00, RiadoRio 0.00, Mole 0.00, Quebrado 0.00, 4.5ms\n",
            "Speed: 1.6ms preprocess, 4.5ms inference, 0.1ms postprocess per image at shape (1, 3, 256, 256)\n",
            "\n",
            "image 1/1 /content/drive/MyDrive/TypeCoffee.v31i.folder/test/DuroRiadoRio/16DuroRiadoRio_jpeg.rf.b9c9e1eee459bef089f0155c00285f25.jpg: 256x256 DuroRiadoRio 1.00, RiadoRio 0.00, RioFechado 0.00, Quebrado 0.00, Mole 0.00, 4.8ms\n",
            "Speed: 1.5ms preprocess, 4.8ms inference, 0.0ms postprocess per image at shape (1, 3, 256, 256)\n",
            "Imagem de teste: /content/drive/MyDrive/TypeCoffee.v31i.folder/test/DuroRiadoRio/47DuroRiadoRio_jpeg.rf.6981088f7aa7fffad00d8bb315d64af7.jpg\n",
            "Classes preditas: [0, 0, 0]\n",
            "Moda das predições: 0\n",
            "Tempo de inferência: 6.0406 segundos\n",
            "\n",
            "\n",
            "image 1/1 /content/drive/MyDrive/TypeCoffee.v31i.folder/test/DuroRiadoRio/32DuroRiadoRio_jpeg.rf.cf090a0b1dd1637379a7351ebd6df5db.jpg: 256x256 DuroRiadoRio 0.97, Mole 0.02, RioFechado 0.00, RiadoRio 0.00, Quebrado 0.00, 6.6ms\n",
            "Speed: 2.8ms preprocess, 6.6ms inference, 0.1ms postprocess per image at shape (1, 3, 256, 256)\n",
            "\n",
            "image 1/1 /content/drive/MyDrive/TypeCoffee.v31i.folder/test/DuroRiadoRio/Duro003_jpg.rf.fb557f95c628fccb2388daf51c4d71ec.jpg: 256x256 DuroRiadoRio 0.87, RiadoRio 0.13, RioFechado 0.01, Quebrado 0.00, Mole 0.00, 4.6ms\n",
            "Speed: 1.5ms preprocess, 4.6ms inference, 0.0ms postprocess per image at shape (1, 3, 256, 256)\n",
            "\n",
            "image 1/1 /content/drive/MyDrive/TypeCoffee.v31i.folder/test/DuroRiadoRio/36DuroRiadoRio_jpeg.rf.61d0fad1a3841656b57218f4f87fee66.jpg: 256x256 DuroRiadoRio 0.99, RioFechado 0.01, Mole 0.00, Quebrado 0.00, RiadoRio 0.00, 4.1ms\n",
            "Speed: 1.6ms preprocess, 4.1ms inference, 0.0ms postprocess per image at shape (1, 3, 256, 256)\n",
            "Imagem de teste: /content/drive/MyDrive/TypeCoffee.v31i.folder/test/DuroRiadoRio/32DuroRiadoRio_jpeg.rf.cf090a0b1dd1637379a7351ebd6df5db.jpg\n",
            "Classes preditas: [0, 0, 0]\n",
            "Moda das predições: 0\n",
            "Tempo de inferência: 6.0429 segundos\n",
            "\n",
            "\n",
            "image 1/1 /content/drive/MyDrive/TypeCoffee.v31i.folder/test/DuroRiadoRio/30DuroRiadoRio_jpeg.rf.137ef967e507541e77ff233793afd221.jpg: 256x256 DuroRiadoRio 0.92, RiadoRio 0.08, RioFechado 0.00, Quebrado 0.00, Mole 0.00, 4.9ms\n",
            "Speed: 2.0ms preprocess, 4.9ms inference, 0.1ms postprocess per image at shape (1, 3, 256, 256)\n",
            "\n",
            "image 1/1 /content/drive/MyDrive/TypeCoffee.v31i.folder/test/DuroRiadoRio/Duro005_jpg.rf.98fc4a459369171b4f9ac4c87af8ada4.jpg: 256x256 RiadoRio 0.53, DuroRiadoRio 0.46, RioFechado 0.00, Quebrado 0.00, Mole 0.00, 4.2ms\n",
            "Speed: 1.4ms preprocess, 4.2ms inference, 0.0ms postprocess per image at shape (1, 3, 256, 256)\n",
            "\n",
            "image 1/1 /content/drive/MyDrive/TypeCoffee.v31i.folder/test/DuroRiadoRio/25DuroRiadoRio_jpeg.rf.221398f2d01c9de0b6bdce51a86c084d.jpg: 256x256 DuroRiadoRio 0.99, RioFechado 0.00, RiadoRio 0.00, Quebrado 0.00, Mole 0.00, 4.6ms\n",
            "Speed: 1.4ms preprocess, 4.6ms inference, 0.0ms postprocess per image at shape (1, 3, 256, 256)\n",
            "Imagem de teste: /content/drive/MyDrive/TypeCoffee.v31i.folder/test/DuroRiadoRio/30DuroRiadoRio_jpeg.rf.137ef967e507541e77ff233793afd221.jpg\n",
            "Classes preditas: [0, 3, 0]\n",
            "Moda das predições: 0\n",
            "Tempo de inferência: 6.0380 segundos\n",
            "\n",
            "\n",
            "image 1/1 /content/drive/MyDrive/TypeCoffee.v31i.folder/test/DuroRiadoRio/25DuroRiadoRio_jpeg.rf.221398f2d01c9de0b6bdce51a86c084d.jpg: 256x256 DuroRiadoRio 0.99, RioFechado 0.00, RiadoRio 0.00, Quebrado 0.00, Mole 0.00, 5.7ms\n",
            "Speed: 2.1ms preprocess, 5.7ms inference, 0.1ms postprocess per image at shape (1, 3, 256, 256)\n",
            "\n",
            "image 1/1 /content/drive/MyDrive/TypeCoffee.v31i.folder/test/DuroRiadoRio/Duro003_jpg.rf.fb557f95c628fccb2388daf51c4d71ec.jpg: 256x256 DuroRiadoRio 0.87, RiadoRio 0.13, RioFechado 0.01, Quebrado 0.00, Mole 0.00, 4.8ms\n",
            "Speed: 1.6ms preprocess, 4.8ms inference, 0.0ms postprocess per image at shape (1, 3, 256, 256)\n",
            "\n",
            "image 1/1 /content/drive/MyDrive/TypeCoffee.v31i.folder/test/DuroRiadoRio/Duro008_jpg.rf.6b499eded747bb04e6c8316f39ef2176.jpg: 256x256 DuroRiadoRio 0.99, RiadoRio 0.01, RioFechado 0.00, Quebrado 0.00, Mole 0.00, 4.6ms\n",
            "Speed: 1.8ms preprocess, 4.6ms inference, 0.0ms postprocess per image at shape (1, 3, 256, 256)\n",
            "Imagem de teste: /content/drive/MyDrive/TypeCoffee.v31i.folder/test/DuroRiadoRio/25DuroRiadoRio_jpeg.rf.221398f2d01c9de0b6bdce51a86c084d.jpg\n",
            "Classes preditas: [0, 0, 0]\n",
            "Moda das predições: 0\n",
            "Tempo de inferência: 6.0416 segundos\n",
            "\n",
            "\n",
            "image 1/1 /content/drive/MyDrive/TypeCoffee.v31i.folder/test/DuroRiadoRio/33DuroRiadoRio_jpeg.rf.3291b6e0407b146cbe7bbea0177dfcbb.jpg: 256x256 DuroRiadoRio 0.99, RiadoRio 0.01, Mole 0.00, RioFechado 0.00, Quebrado 0.00, 5.0ms\n",
            "Speed: 1.9ms preprocess, 5.0ms inference, 0.1ms postprocess per image at shape (1, 3, 256, 256)\n",
            "\n",
            "image 1/1 /content/drive/MyDrive/TypeCoffee.v31i.folder/test/DuroRiadoRio/01DuroRiadoRio_jpeg.rf.881f2e8fbf4244b0e9a434a0305f5a3c.jpg: 256x256 DuroRiadoRio 1.00, RioFechado 0.00, RiadoRio 0.00, Mole 0.00, Quebrado 0.00, 4.6ms\n",
            "Speed: 1.5ms preprocess, 4.6ms inference, 0.0ms postprocess per image at shape (1, 3, 256, 256)\n",
            "\n",
            "image 1/1 /content/drive/MyDrive/TypeCoffee.v31i.folder/test/DuroRiadoRio/Duro009_jpg.rf.3540659dab5c6d996243fd1b816ade32.jpg: 256x256 DuroRiadoRio 0.98, RiadoRio 0.02, RioFechado 0.00, Quebrado 0.00, Mole 0.00, 4.3ms\n",
            "Speed: 1.5ms preprocess, 4.3ms inference, 0.0ms postprocess per image at shape (1, 3, 256, 256)\n",
            "Imagem de teste: /content/drive/MyDrive/TypeCoffee.v31i.folder/test/DuroRiadoRio/33DuroRiadoRio_jpeg.rf.3291b6e0407b146cbe7bbea0177dfcbb.jpg\n",
            "Classes preditas: [0, 0, 0]\n",
            "Moda das predições: 0\n",
            "Tempo de inferência: 6.0397 segundos\n",
            "\n",
            "\n",
            "image 1/1 /content/drive/MyDrive/TypeCoffee.v31i.folder/test/DuroRiadoRio/36DuroRiadoRio_jpeg.rf.61d0fad1a3841656b57218f4f87fee66.jpg: 256x256 DuroRiadoRio 0.99, RioFechado 0.01, Mole 0.00, Quebrado 0.00, RiadoRio 0.00, 4.8ms\n",
            "Speed: 2.0ms preprocess, 4.8ms inference, 0.1ms postprocess per image at shape (1, 3, 256, 256)\n",
            "\n",
            "image 1/1 /content/drive/MyDrive/TypeCoffee.v31i.folder/test/DuroRiadoRio/43DuroRiadoRio_jpeg.rf.f511926c2992589ecf8a51bb818eda30.jpg: 256x256 RioFechado 0.49, DuroRiadoRio 0.25, RiadoRio 0.25, Quebrado 0.00, Mole 0.00, 4.1ms\n",
            "Speed: 1.5ms preprocess, 4.1ms inference, 0.0ms postprocess per image at shape (1, 3, 256, 256)\n",
            "\n",
            "image 1/1 /content/drive/MyDrive/TypeCoffee.v31i.folder/test/DuroRiadoRio/48DuroRiadoRio_jpeg.rf.0a418446b8ae41df818b9c9ba076505c.jpg: 256x256 DuroRiadoRio 0.97, RioFechado 0.02, RiadoRio 0.01, Mole 0.00, Quebrado 0.00, 4.5ms\n",
            "Speed: 1.5ms preprocess, 4.5ms inference, 0.0ms postprocess per image at shape (1, 3, 256, 256)\n",
            "Imagem de teste: /content/drive/MyDrive/TypeCoffee.v31i.folder/test/DuroRiadoRio/36DuroRiadoRio_jpeg.rf.61d0fad1a3841656b57218f4f87fee66.jpg\n",
            "Classes preditas: [0, 4, 0]\n",
            "Moda das predições: 0\n",
            "Tempo de inferência: 6.0385 segundos\n",
            "\n",
            "\n",
            "image 1/1 /content/drive/MyDrive/TypeCoffee.v31i.folder/test/DuroRiadoRio/35DuroRiadoRio_jpeg.rf.8dbb95d5b3d19043a352b0a5da0c8fc6.jpg: 256x256 DuroRiadoRio 1.00, RioFechado 0.00, Mole 0.00, RiadoRio 0.00, Quebrado 0.00, 5.5ms\n",
            "Speed: 2.2ms preprocess, 5.5ms inference, 0.1ms postprocess per image at shape (1, 3, 256, 256)\n",
            "\n",
            "image 1/1 /content/drive/MyDrive/TypeCoffee.v31i.folder/test/DuroRiadoRio/Duro003_jpg.rf.fb557f95c628fccb2388daf51c4d71ec.jpg: 256x256 DuroRiadoRio 0.87, RiadoRio 0.13, RioFechado 0.01, Quebrado 0.00, Mole 0.00, 5.7ms\n",
            "Speed: 1.7ms preprocess, 5.7ms inference, 0.1ms postprocess per image at shape (1, 3, 256, 256)\n",
            "\n",
            "image 1/1 /content/drive/MyDrive/TypeCoffee.v31i.folder/test/DuroRiadoRio/29DuroRiadoRio_jpeg.rf.e685de53c1de8c0663e5e7e76e911c12.jpg: 256x256 DuroRiadoRio 0.98, RiadoRio 0.02, RioFechado 0.00, Quebrado 0.00, Mole 0.00, 4.5ms\n",
            "Speed: 1.6ms preprocess, 4.5ms inference, 0.0ms postprocess per image at shape (1, 3, 256, 256)\n",
            "Imagem de teste: /content/drive/MyDrive/TypeCoffee.v31i.folder/test/DuroRiadoRio/35DuroRiadoRio_jpeg.rf.8dbb95d5b3d19043a352b0a5da0c8fc6.jpg\n",
            "Classes preditas: [0, 0, 0]\n",
            "Moda das predições: 0\n",
            "Tempo de inferência: 6.0431 segundos\n",
            "\n",
            "\n",
            "image 1/1 /content/drive/MyDrive/TypeCoffee.v31i.folder/test/DuroRiadoRio/27DuroRiadoRio_jpeg.rf.e6533e6bf258b5013b5ff8c707786ac5.jpg: 256x256 DuroRiadoRio 0.94, RiadoRio 0.03, RioFechado 0.03, Quebrado 0.00, Mole 0.00, 4.9ms\n",
            "Speed: 1.9ms preprocess, 4.9ms inference, 0.1ms postprocess per image at shape (1, 3, 256, 256)\n",
            "\n",
            "image 1/1 /content/drive/MyDrive/TypeCoffee.v31i.folder/test/DuroRiadoRio/40DuroRiadoRio_jpeg.rf.17c7ec17d25ede27dcf2196bf14fb21d.jpg: 256x256 DuroRiadoRio 1.00, Mole 0.00, RiadoRio 0.00, RioFechado 0.00, Quebrado 0.00, 5.2ms\n",
            "Speed: 1.5ms preprocess, 5.2ms inference, 0.1ms postprocess per image at shape (1, 3, 256, 256)\n",
            "\n",
            "image 1/1 /content/drive/MyDrive/TypeCoffee.v31i.folder/test/DuroRiadoRio/Duro006_jpg.rf.618fbf61f9fd341f404a4c26193925df.jpg: 256x256 DuroRiadoRio 0.75, RiadoRio 0.24, RioFechado 0.01, Quebrado 0.00, Mole 0.00, 5.7ms\n",
            "Speed: 1.5ms preprocess, 5.7ms inference, 0.0ms postprocess per image at shape (1, 3, 256, 256)\n",
            "Imagem de teste: /content/drive/MyDrive/TypeCoffee.v31i.folder/test/DuroRiadoRio/27DuroRiadoRio_jpeg.rf.e6533e6bf258b5013b5ff8c707786ac5.jpg\n",
            "Classes preditas: [0, 0, 0]\n",
            "Moda das predições: 0\n",
            "Tempo de inferência: 6.0396 segundos\n",
            "\n",
            "\n",
            "image 1/1 /content/drive/MyDrive/TypeCoffee.v31i.folder/test/DuroRiadoRio/34DuroRiadoRio_jpeg.rf.b692c37ce4668e1279cb283677584aea.jpg: 256x256 DuroRiadoRio 1.00, RioFechado 0.00, RiadoRio 0.00, Quebrado 0.00, Mole 0.00, 5.6ms\n",
            "Speed: 2.0ms preprocess, 5.6ms inference, 0.1ms postprocess per image at shape (1, 3, 256, 256)\n",
            "\n",
            "image 1/1 /content/drive/MyDrive/TypeCoffee.v31i.folder/test/DuroRiadoRio/Duro009_jpg.rf.3540659dab5c6d996243fd1b816ade32.jpg: 256x256 DuroRiadoRio 0.98, RiadoRio 0.02, RioFechado 0.00, Quebrado 0.00, Mole 0.00, 4.9ms\n",
            "Speed: 1.6ms preprocess, 4.9ms inference, 0.0ms postprocess per image at shape (1, 3, 256, 256)\n",
            "\n",
            "image 1/1 /content/drive/MyDrive/TypeCoffee.v31i.folder/test/DuroRiadoRio/26DuroRiadoRio_jpeg.rf.fe3a81909ce50caaa122c7ac6af3af31.jpg: 256x256 DuroRiadoRio 0.91, RioFechado 0.05, RiadoRio 0.04, Mole 0.00, Quebrado 0.00, 4.5ms\n",
            "Speed: 1.6ms preprocess, 4.5ms inference, 0.0ms postprocess per image at shape (1, 3, 256, 256)\n",
            "Imagem de teste: /content/drive/MyDrive/TypeCoffee.v31i.folder/test/DuroRiadoRio/34DuroRiadoRio_jpeg.rf.b692c37ce4668e1279cb283677584aea.jpg\n",
            "Classes preditas: [0, 0, 0]\n",
            "Moda das predições: 0\n",
            "Tempo de inferência: 6.0410 segundos\n",
            "\n",
            "\n",
            "image 1/1 /content/drive/MyDrive/TypeCoffee.v31i.folder/test/DuroRiadoRio/28DuroRiadoRio_jpeg.rf.8d556c5e4ad8145e720aab9f070c2047.jpg: 256x256 DuroRiadoRio 1.00, RiadoRio 0.00, RioFechado 0.00, Quebrado 0.00, Mole 0.00, 5.0ms\n",
            "Speed: 2.0ms preprocess, 5.0ms inference, 0.1ms postprocess per image at shape (1, 3, 256, 256)\n",
            "\n",
            "image 1/1 /content/drive/MyDrive/TypeCoffee.v31i.folder/test/DuroRiadoRio/35DuroRiadoRio_jpeg.rf.8dbb95d5b3d19043a352b0a5da0c8fc6.jpg: 256x256 DuroRiadoRio 1.00, RioFechado 0.00, Mole 0.00, RiadoRio 0.00, Quebrado 0.00, 4.6ms\n",
            "Speed: 1.6ms preprocess, 4.6ms inference, 0.0ms postprocess per image at shape (1, 3, 256, 256)\n",
            "\n",
            "image 1/1 /content/drive/MyDrive/TypeCoffee.v31i.folder/test/DuroRiadoRio/20DuroRiadoRio_jpeg.rf.88b201ddc5080c3f0dcacd9925bcb097.jpg: 256x256 RiadoRio 0.99, DuroRiadoRio 0.01, Mole 0.00, RioFechado 0.00, Quebrado 0.00, 4.3ms\n",
            "Speed: 1.7ms preprocess, 4.3ms inference, 0.0ms postprocess per image at shape (1, 3, 256, 256)\n",
            "Imagem de teste: /content/drive/MyDrive/TypeCoffee.v31i.folder/test/DuroRiadoRio/28DuroRiadoRio_jpeg.rf.8d556c5e4ad8145e720aab9f070c2047.jpg\n",
            "Classes preditas: [0, 0, 3]\n",
            "Moda das predições: 0\n",
            "Tempo de inferência: 6.0406 segundos\n",
            "\n",
            "\n",
            "image 1/1 /content/drive/MyDrive/TypeCoffee.v31i.folder/test/DuroRiadoRio/29DuroRiadoRio_jpeg.rf.e685de53c1de8c0663e5e7e76e911c12.jpg: 256x256 DuroRiadoRio 0.98, RiadoRio 0.02, RioFechado 0.00, Quebrado 0.00, Mole 0.00, 5.3ms\n",
            "Speed: 2.0ms preprocess, 5.3ms inference, 0.1ms postprocess per image at shape (1, 3, 256, 256)\n",
            "\n",
            "image 1/1 /content/drive/MyDrive/TypeCoffee.v31i.folder/test/DuroRiadoRio/Duro010_jpg.rf.ebd49f889e4a083baf19ac1013abf2fd.jpg: 256x256 DuroRiadoRio 0.96, RiadoRio 0.03, RioFechado 0.01, Quebrado 0.00, Mole 0.00, 5.3ms\n",
            "Speed: 1.6ms preprocess, 5.3ms inference, 0.1ms postprocess per image at shape (1, 3, 256, 256)\n",
            "\n",
            "image 1/1 /content/drive/MyDrive/TypeCoffee.v31i.folder/test/DuroRiadoRio/42DuroRiadoRio_jpeg.rf.586f2e5f1c513b640a3d356b8fca0dda.jpg: 256x256 DuroRiadoRio 0.90, RiadoRio 0.09, RioFechado 0.00, Quebrado 0.00, Mole 0.00, 4.4ms\n",
            "Speed: 1.5ms preprocess, 4.4ms inference, 0.0ms postprocess per image at shape (1, 3, 256, 256)\n",
            "Imagem de teste: /content/drive/MyDrive/TypeCoffee.v31i.folder/test/DuroRiadoRio/29DuroRiadoRio_jpeg.rf.e685de53c1de8c0663e5e7e76e911c12.jpg\n",
            "Classes preditas: [0, 0, 0]\n",
            "Moda das predições: 0\n",
            "Tempo de inferência: 6.0432 segundos\n",
            "\n",
            "\n",
            "image 1/1 /content/drive/MyDrive/TypeCoffee.v31i.folder/test/DuroRiadoRio/31DuroRiadoRio_jpeg.rf.5ced3409831efd9dbbcb4472210526b7.jpg: 256x256 DuroRiadoRio 1.00, RiadoRio 0.00, RioFechado 0.00, Mole 0.00, Quebrado 0.00, 5.8ms\n",
            "Speed: 2.2ms preprocess, 5.8ms inference, 0.1ms postprocess per image at shape (1, 3, 256, 256)\n",
            "\n",
            "image 1/1 /content/drive/MyDrive/TypeCoffee.v31i.folder/test/DuroRiadoRio/Duro011_jpg.rf.e13a264353bc545f7a26bbe09f7a9910.jpg: 256x256 DuroRiadoRio 1.00, RiadoRio 0.00, RioFechado 0.00, Quebrado 0.00, Mole 0.00, 4.6ms\n",
            "Speed: 1.6ms preprocess, 4.6ms inference, 0.0ms postprocess per image at shape (1, 3, 256, 256)\n",
            "\n",
            "image 1/1 /content/drive/MyDrive/TypeCoffee.v31i.folder/test/DuroRiadoRio/Duro001_jpg.rf.214c8311a505cedb3d16b3bb80b03a1e.jpg: 256x256 RiadoRio 0.92, DuroRiadoRio 0.08, RioFechado 0.01, Quebrado 0.00, Mole 0.00, 4.6ms\n",
            "Speed: 1.5ms preprocess, 4.6ms inference, 0.0ms postprocess per image at shape (1, 3, 256, 256)\n",
            "Imagem de teste: /content/drive/MyDrive/TypeCoffee.v31i.folder/test/DuroRiadoRio/31DuroRiadoRio_jpeg.rf.5ced3409831efd9dbbcb4472210526b7.jpg\n",
            "Classes preditas: [0, 0, 3]\n",
            "Moda das predições: 0\n",
            "Tempo de inferência: 6.0447 segundos\n",
            "\n",
            "\n",
            "image 1/1 /content/drive/MyDrive/TypeCoffee.v31i.folder/test/DuroRiadoRio/22DuroRiadoRio_jpeg.rf.e0b9fd3a303d5e49d08862e12972dae3.jpg: 256x256 DuroRiadoRio 0.53, RiadoRio 0.46, RioFechado 0.00, Mole 0.00, Quebrado 0.00, 5.6ms\n",
            "Speed: 2.0ms preprocess, 5.6ms inference, 0.1ms postprocess per image at shape (1, 3, 256, 256)\n",
            "\n",
            "image 1/1 /content/drive/MyDrive/TypeCoffee.v31i.folder/test/DuroRiadoRio/Duro011_jpg.rf.e13a264353bc545f7a26bbe09f7a9910.jpg: 256x256 DuroRiadoRio 1.00, RiadoRio 0.00, RioFechado 0.00, Quebrado 0.00, Mole 0.00, 4.3ms\n",
            "Speed: 1.5ms preprocess, 4.3ms inference, 0.1ms postprocess per image at shape (1, 3, 256, 256)\n",
            "\n",
            "image 1/1 /content/drive/MyDrive/TypeCoffee.v31i.folder/test/DuroRiadoRio/23DuroRiadoRio_jpeg.rf.00faaf627094a8bfa69aa929a7be4120.jpg: 256x256 RiadoRio 0.87, DuroRiadoRio 0.13, RioFechado 0.00, Mole 0.00, Quebrado 0.00, 4.6ms\n",
            "Speed: 1.5ms preprocess, 4.6ms inference, 0.0ms postprocess per image at shape (1, 3, 256, 256)\n",
            "Imagem de teste: /content/drive/MyDrive/TypeCoffee.v31i.folder/test/DuroRiadoRio/22DuroRiadoRio_jpeg.rf.e0b9fd3a303d5e49d08862e12972dae3.jpg\n",
            "Classes preditas: [0, 0, 3]\n",
            "Moda das predições: 0\n",
            "Tempo de inferência: 6.0405 segundos\n",
            "\n",
            "\n",
            "image 1/1 /content/drive/MyDrive/TypeCoffee.v31i.folder/test/DuroRiadoRio/17DuroRiadoRio_jpeg.rf.d1aaea3cf37bf9dc77dfcb5f1f017abe.jpg: 256x256 DuroRiadoRio 0.99, RiadoRio 0.01, RioFechado 0.00, Quebrado 0.00, Mole 0.00, 5.3ms\n",
            "Speed: 2.0ms preprocess, 5.3ms inference, 0.1ms postprocess per image at shape (1, 3, 256, 256)\n",
            "\n",
            "image 1/1 /content/drive/MyDrive/TypeCoffee.v31i.folder/test/DuroRiadoRio/37DuroRiadoRio_jpeg.rf.a76d03ac8365482ae9bcf75f211a1a44.jpg: 256x256 DuroRiadoRio 1.00, RioFechado 0.00, RiadoRio 0.00, Mole 0.00, Quebrado 0.00, 4.4ms\n",
            "Speed: 1.6ms preprocess, 4.4ms inference, 0.0ms postprocess per image at shape (1, 3, 256, 256)\n",
            "\n",
            "image 1/1 /content/drive/MyDrive/TypeCoffee.v31i.folder/test/DuroRiadoRio/32DuroRiadoRio_jpeg.rf.cf090a0b1dd1637379a7351ebd6df5db.jpg: 256x256 DuroRiadoRio 0.97, Mole 0.02, RioFechado 0.00, RiadoRio 0.00, Quebrado 0.00, 4.5ms\n",
            "Speed: 1.5ms preprocess, 4.5ms inference, 0.1ms postprocess per image at shape (1, 3, 256, 256)\n",
            "Imagem de teste: /content/drive/MyDrive/TypeCoffee.v31i.folder/test/DuroRiadoRio/17DuroRiadoRio_jpeg.rf.d1aaea3cf37bf9dc77dfcb5f1f017abe.jpg\n",
            "Classes preditas: [0, 0, 0]\n",
            "Moda das predições: 0\n",
            "Tempo de inferência: 6.0411 segundos\n",
            "\n",
            "\n",
            "image 1/1 /content/drive/MyDrive/TypeCoffee.v31i.folder/test/DuroRiadoRio/26DuroRiadoRio_jpeg.rf.fe3a81909ce50caaa122c7ac6af3af31.jpg: 256x256 DuroRiadoRio 0.91, RioFechado 0.05, RiadoRio 0.04, Mole 0.00, Quebrado 0.00, 5.6ms\n",
            "Speed: 1.9ms preprocess, 5.6ms inference, 0.1ms postprocess per image at shape (1, 3, 256, 256)\n",
            "\n",
            "image 1/1 /content/drive/MyDrive/TypeCoffee.v31i.folder/test/DuroRiadoRio/35DuroRiadoRio_jpeg.rf.8dbb95d5b3d19043a352b0a5da0c8fc6.jpg: 256x256 DuroRiadoRio 1.00, RioFechado 0.00, Mole 0.00, RiadoRio 0.00, Quebrado 0.00, 5.2ms\n",
            "Speed: 1.7ms preprocess, 5.2ms inference, 0.0ms postprocess per image at shape (1, 3, 256, 256)\n",
            "\n",
            "image 1/1 /content/drive/MyDrive/TypeCoffee.v31i.folder/test/DuroRiadoRio/48DuroRiadoRio_jpeg.rf.0a418446b8ae41df818b9c9ba076505c.jpg: 256x256 DuroRiadoRio 0.97, RioFechado 0.02, RiadoRio 0.01, Mole 0.00, Quebrado 0.00, 5.1ms\n",
            "Speed: 1.6ms preprocess, 5.1ms inference, 0.0ms postprocess per image at shape (1, 3, 256, 256)\n",
            "Imagem de teste: /content/drive/MyDrive/TypeCoffee.v31i.folder/test/DuroRiadoRio/26DuroRiadoRio_jpeg.rf.fe3a81909ce50caaa122c7ac6af3af31.jpg\n",
            "Classes preditas: [0, 0, 0]\n",
            "Moda das predições: 0\n",
            "Tempo de inferência: 6.0511 segundos\n",
            "\n",
            "\n",
            "image 1/1 /content/drive/MyDrive/TypeCoffee.v31i.folder/test/DuroRiadoRio/21DuroRiadoRio_jpeg.rf.6dc7623ed3b05418cfba6951a82f2a85.jpg: 256x256 RiadoRio 0.74, DuroRiadoRio 0.25, RioFechado 0.01, Mole 0.00, Quebrado 0.00, 5.9ms\n",
            "Speed: 2.1ms preprocess, 5.9ms inference, 0.1ms postprocess per image at shape (1, 3, 256, 256)\n",
            "\n",
            "image 1/1 /content/drive/MyDrive/TypeCoffee.v31i.folder/test/DuroRiadoRio/Duro006_jpg.rf.618fbf61f9fd341f404a4c26193925df.jpg: 256x256 DuroRiadoRio 0.75, RiadoRio 0.24, RioFechado 0.01, Quebrado 0.00, Mole 0.00, 4.5ms\n",
            "Speed: 1.5ms preprocess, 4.5ms inference, 0.1ms postprocess per image at shape (1, 3, 256, 256)\n",
            "\n",
            "image 1/1 /content/drive/MyDrive/TypeCoffee.v31i.folder/test/DuroRiadoRio/31DuroRiadoRio_jpeg.rf.5ced3409831efd9dbbcb4472210526b7.jpg: 256x256 DuroRiadoRio 1.00, RiadoRio 0.00, RioFechado 0.00, Mole 0.00, Quebrado 0.00, 4.2ms\n",
            "Speed: 1.5ms preprocess, 4.2ms inference, 0.0ms postprocess per image at shape (1, 3, 256, 256)\n",
            "Imagem de teste: /content/drive/MyDrive/TypeCoffee.v31i.folder/test/DuroRiadoRio/21DuroRiadoRio_jpeg.rf.6dc7623ed3b05418cfba6951a82f2a85.jpg\n",
            "Classes preditas: [3, 0, 0]\n",
            "Moda das predições: 0\n",
            "Tempo de inferência: 6.0428 segundos\n",
            "\n",
            "\n",
            "image 1/1 /content/drive/MyDrive/TypeCoffee.v31i.folder/test/DuroRiadoRio/16DuroRiadoRio_jpeg.rf.b9c9e1eee459bef089f0155c00285f25.jpg: 256x256 DuroRiadoRio 1.00, RiadoRio 0.00, RioFechado 0.00, Quebrado 0.00, Mole 0.00, 8.8ms\n",
            "Speed: 2.5ms preprocess, 8.8ms inference, 0.1ms postprocess per image at shape (1, 3, 256, 256)\n",
            "\n",
            "image 1/1 /content/drive/MyDrive/TypeCoffee.v31i.folder/test/DuroRiadoRio/34DuroRiadoRio_jpeg.rf.b692c37ce4668e1279cb283677584aea.jpg: 256x256 DuroRiadoRio 1.00, RioFechado 0.00, RiadoRio 0.00, Quebrado 0.00, Mole 0.00, 6.9ms\n",
            "Speed: 2.0ms preprocess, 6.9ms inference, 0.1ms postprocess per image at shape (1, 3, 256, 256)\n",
            "\n",
            "image 1/1 /content/drive/MyDrive/TypeCoffee.v31i.folder/test/DuroRiadoRio/Duro008_jpg.rf.6b499eded747bb04e6c8316f39ef2176.jpg: 256x256 DuroRiadoRio 0.99, RiadoRio 0.01, RioFechado 0.00, Quebrado 0.00, Mole 0.00, 4.2ms\n",
            "Speed: 1.6ms preprocess, 4.2ms inference, 0.0ms postprocess per image at shape (1, 3, 256, 256)\n",
            "Imagem de teste: /content/drive/MyDrive/TypeCoffee.v31i.folder/test/DuroRiadoRio/16DuroRiadoRio_jpeg.rf.b9c9e1eee459bef089f0155c00285f25.jpg\n",
            "Classes preditas: [0, 0, 0]\n",
            "Moda das predições: 0\n",
            "Tempo de inferência: 6.0510 segundos\n",
            "\n",
            "\n",
            "image 1/1 /content/drive/MyDrive/TypeCoffee.v31i.folder/test/DuroRiadoRio/10DuroRiadoRio_jpeg.rf.f909829bbf628a5e0861803973b3b92a.jpg: 256x256 DuroRiadoRio 0.92, Mole 0.04, RiadoRio 0.03, RioFechado 0.01, Quebrado 0.00, 5.1ms\n",
            "Speed: 1.9ms preprocess, 5.1ms inference, 0.1ms postprocess per image at shape (1, 3, 256, 256)\n",
            "\n",
            "image 1/1 /content/drive/MyDrive/TypeCoffee.v31i.folder/test/DuroRiadoRio/01DuroRiadoRio_jpeg.rf.881f2e8fbf4244b0e9a434a0305f5a3c.jpg: 256x256 DuroRiadoRio 1.00, RioFechado 0.00, RiadoRio 0.00, Mole 0.00, Quebrado 0.00, 4.7ms\n",
            "Speed: 1.4ms preprocess, 4.7ms inference, 0.0ms postprocess per image at shape (1, 3, 256, 256)\n",
            "\n",
            "image 1/1 /content/drive/MyDrive/TypeCoffee.v31i.folder/test/DuroRiadoRio/Duro010_jpg.rf.ebd49f889e4a083baf19ac1013abf2fd.jpg: 256x256 DuroRiadoRio 0.96, RiadoRio 0.03, RioFechado 0.01, Quebrado 0.00, Mole 0.00, 4.4ms\n",
            "Speed: 1.5ms preprocess, 4.4ms inference, 0.0ms postprocess per image at shape (1, 3, 256, 256)\n",
            "Imagem de teste: /content/drive/MyDrive/TypeCoffee.v31i.folder/test/DuroRiadoRio/10DuroRiadoRio_jpeg.rf.f909829bbf628a5e0861803973b3b92a.jpg\n",
            "Classes preditas: [0, 0, 0]\n",
            "Moda das predições: 0\n",
            "Tempo de inferência: 6.0388 segundos\n",
            "\n",
            "\n",
            "image 1/1 /content/drive/MyDrive/TypeCoffee.v31i.folder/test/DuroRiadoRio/01DuroRiadoRio_jpeg.rf.881f2e8fbf4244b0e9a434a0305f5a3c.jpg: 256x256 DuroRiadoRio 1.00, RioFechado 0.00, RiadoRio 0.00, Mole 0.00, Quebrado 0.00, 4.8ms\n",
            "Speed: 2.0ms preprocess, 4.8ms inference, 0.1ms postprocess per image at shape (1, 3, 256, 256)\n",
            "\n",
            "image 1/1 /content/drive/MyDrive/TypeCoffee.v31i.folder/test/DuroRiadoRio/33DuroRiadoRio_jpeg.rf.3291b6e0407b146cbe7bbea0177dfcbb.jpg: 256x256 DuroRiadoRio 0.99, RiadoRio 0.01, Mole 0.00, RioFechado 0.00, Quebrado 0.00, 4.4ms\n",
            "Speed: 1.8ms preprocess, 4.4ms inference, 0.0ms postprocess per image at shape (1, 3, 256, 256)\n",
            "\n",
            "image 1/1 /content/drive/MyDrive/TypeCoffee.v31i.folder/test/DuroRiadoRio/43DuroRiadoRio_jpeg.rf.f511926c2992589ecf8a51bb818eda30.jpg: 256x256 RioFechado 0.49, DuroRiadoRio 0.25, RiadoRio 0.25, Quebrado 0.00, Mole 0.00, 4.7ms\n",
            "Speed: 1.8ms preprocess, 4.7ms inference, 0.0ms postprocess per image at shape (1, 3, 256, 256)\n",
            "Imagem de teste: /content/drive/MyDrive/TypeCoffee.v31i.folder/test/DuroRiadoRio/01DuroRiadoRio_jpeg.rf.881f2e8fbf4244b0e9a434a0305f5a3c.jpg\n",
            "Classes preditas: [0, 0, 4]\n",
            "Moda das predições: 0\n",
            "Tempo de inferência: 6.0401 segundos\n",
            "\n",
            "\n",
            "image 1/1 /content/drive/MyDrive/TypeCoffee.v31i.folder/test/DuroRiadoRio/20DuroRiadoRio_jpeg.rf.88b201ddc5080c3f0dcacd9925bcb097.jpg: 256x256 RiadoRio 0.99, DuroRiadoRio 0.01, Mole 0.00, RioFechado 0.00, Quebrado 0.00, 6.2ms\n",
            "Speed: 2.2ms preprocess, 6.2ms inference, 0.1ms postprocess per image at shape (1, 3, 256, 256)\n",
            "\n",
            "image 1/1 /content/drive/MyDrive/TypeCoffee.v31i.folder/test/DuroRiadoRio/42DuroRiadoRio_jpeg.rf.586f2e5f1c513b640a3d356b8fca0dda.jpg: 256x256 DuroRiadoRio 0.90, RiadoRio 0.09, RioFechado 0.00, Quebrado 0.00, Mole 0.00, 4.7ms\n",
            "Speed: 1.7ms preprocess, 4.7ms inference, 0.0ms postprocess per image at shape (1, 3, 256, 256)\n",
            "\n",
            "image 1/1 /content/drive/MyDrive/TypeCoffee.v31i.folder/test/DuroRiadoRio/32DuroRiadoRio_jpeg.rf.cf090a0b1dd1637379a7351ebd6df5db.jpg: 256x256 DuroRiadoRio 0.97, Mole 0.02, RioFechado 0.00, RiadoRio 0.00, Quebrado 0.00, 4.7ms\n",
            "Speed: 1.6ms preprocess, 4.7ms inference, 0.0ms postprocess per image at shape (1, 3, 256, 256)\n",
            "Imagem de teste: /content/drive/MyDrive/TypeCoffee.v31i.folder/test/DuroRiadoRio/20DuroRiadoRio_jpeg.rf.88b201ddc5080c3f0dcacd9925bcb097.jpg\n",
            "Classes preditas: [3, 0, 0]\n",
            "Moda das predições: 0\n",
            "Tempo de inferência: 6.0426 segundos\n",
            "\n",
            "\n",
            "image 1/1 /content/drive/MyDrive/TypeCoffee.v31i.folder/test/DuroRiadoRio/19DuroRiadoRio_jpeg.rf.6eea48ecdadac4fbd06553420a3ccec4.jpg: 256x256 DuroRiadoRio 0.95, RiadoRio 0.05, RioFechado 0.00, Quebrado 0.00, Mole 0.00, 6.9ms\n",
            "Speed: 2.4ms preprocess, 6.9ms inference, 0.1ms postprocess per image at shape (1, 3, 256, 256)\n",
            "\n",
            "image 1/1 /content/drive/MyDrive/TypeCoffee.v31i.folder/test/DuroRiadoRio/28DuroRiadoRio_jpeg.rf.8d556c5e4ad8145e720aab9f070c2047.jpg: 256x256 DuroRiadoRio 1.00, RiadoRio 0.00, RioFechado 0.00, Quebrado 0.00, Mole 0.00, 6.3ms\n",
            "Speed: 2.1ms preprocess, 6.3ms inference, 0.1ms postprocess per image at shape (1, 3, 256, 256)\n",
            "\n",
            "image 1/1 /content/drive/MyDrive/TypeCoffee.v31i.folder/test/DuroRiadoRio/21DuroRiadoRio_jpeg.rf.6dc7623ed3b05418cfba6951a82f2a85.jpg: 256x256 RiadoRio 0.74, DuroRiadoRio 0.25, RioFechado 0.01, Mole 0.00, Quebrado 0.00, 5.0ms\n",
            "Speed: 1.9ms preprocess, 5.0ms inference, 0.0ms postprocess per image at shape (1, 3, 256, 256)\n",
            "Imagem de teste: /content/drive/MyDrive/TypeCoffee.v31i.folder/test/DuroRiadoRio/19DuroRiadoRio_jpeg.rf.6eea48ecdadac4fbd06553420a3ccec4.jpg\n",
            "Classes preditas: [0, 0, 3]\n",
            "Moda das predições: 0\n",
            "Tempo de inferência: 6.0493 segundos\n",
            "\n",
            "\n",
            "image 1/1 /content/drive/MyDrive/TypeCoffee.v31i.folder/test/DuroRiadoRio/23DuroRiadoRio_jpeg.rf.00faaf627094a8bfa69aa929a7be4120.jpg: 256x256 RiadoRio 0.87, DuroRiadoRio 0.13, RioFechado 0.00, Mole 0.00, Quebrado 0.00, 5.8ms\n",
            "Speed: 2.4ms preprocess, 5.8ms inference, 0.1ms postprocess per image at shape (1, 3, 256, 256)\n",
            "\n",
            "image 1/1 /content/drive/MyDrive/TypeCoffee.v31i.folder/test/DuroRiadoRio/Duro002_jpg.rf.4daa99332068cfc10382a973ff981055.jpg: 256x256 DuroRiadoRio 0.78, RiadoRio 0.21, RioFechado 0.01, Quebrado 0.00, Mole 0.00, 4.2ms\n",
            "Speed: 1.6ms preprocess, 4.2ms inference, 0.0ms postprocess per image at shape (1, 3, 256, 256)\n",
            "\n",
            "image 1/1 /content/drive/MyDrive/TypeCoffee.v31i.folder/test/DuroRiadoRio/40DuroRiadoRio_jpeg.rf.17c7ec17d25ede27dcf2196bf14fb21d.jpg: 256x256 DuroRiadoRio 1.00, Mole 0.00, RiadoRio 0.00, RioFechado 0.00, Quebrado 0.00, 4.9ms\n",
            "Speed: 1.7ms preprocess, 4.9ms inference, 0.0ms postprocess per image at shape (1, 3, 256, 256)\n",
            "Imagem de teste: /content/drive/MyDrive/TypeCoffee.v31i.folder/test/DuroRiadoRio/23DuroRiadoRio_jpeg.rf.00faaf627094a8bfa69aa929a7be4120.jpg\n",
            "Classes preditas: [3, 0, 0]\n",
            "Moda das predições: 0\n",
            "Tempo de inferência: 6.0447 segundos\n",
            "\n",
            "\n",
            "image 1/1 /content/drive/MyDrive/TypeCoffee.v31i.folder/test/DuroRiadoRio/03DuroRiadoRio_jpeg.rf.7d5b0bc7b39d764f4aa455ab05ba6c8a.jpg: 256x256 RiadoRio 0.54, DuroRiadoRio 0.30, RioFechado 0.16, Mole 0.00, Quebrado 0.00, 4.7ms\n",
            "Speed: 2.0ms preprocess, 4.7ms inference, 0.1ms postprocess per image at shape (1, 3, 256, 256)\n",
            "\n",
            "image 1/1 /content/drive/MyDrive/TypeCoffee.v31i.folder/test/DuroRiadoRio/Duro006_jpg.rf.618fbf61f9fd341f404a4c26193925df.jpg: 256x256 DuroRiadoRio 0.75, RiadoRio 0.24, RioFechado 0.01, Quebrado 0.00, Mole 0.00, 4.7ms\n",
            "Speed: 1.5ms preprocess, 4.7ms inference, 0.0ms postprocess per image at shape (1, 3, 256, 256)\n",
            "\n",
            "image 1/1 /content/drive/MyDrive/TypeCoffee.v31i.folder/test/DuroRiadoRio/Duro002_jpg.rf.4daa99332068cfc10382a973ff981055.jpg: 256x256 DuroRiadoRio 0.78, RiadoRio 0.21, RioFechado 0.01, Quebrado 0.00, Mole 0.00, 4.2ms\n",
            "Speed: 1.4ms preprocess, 4.2ms inference, 0.0ms postprocess per image at shape (1, 3, 256, 256)\n",
            "Imagem de teste: /content/drive/MyDrive/TypeCoffee.v31i.folder/test/DuroRiadoRio/03DuroRiadoRio_jpeg.rf.7d5b0bc7b39d764f4aa455ab05ba6c8a.jpg\n",
            "Classes preditas: [3, 0, 0]\n",
            "Moda das predições: 0\n",
            "Tempo de inferência: 6.0376 segundos\n",
            "\n",
            "Tempo médio de inferência: 6.0413 segundos\n"
          ]
        }
      ]
    },
    {
      "cell_type": "code",
      "source": [
        "import torch\n",
        "\n",
        "# Save the model's state dictionary\n",
        "torch.save(model.state_dict(), 'meu_modelo_yolov11n.pt')"
      ],
      "metadata": {
        "id": "Ke23QQm_rO_-"
      },
      "execution_count": 9,
      "outputs": []
    },
    {
      "cell_type": "code",
      "execution_count": null,
      "metadata": {
        "colab": {
          "base_uri": "https://localhost:8080/",
          "height": 1000
        },
        "id": "trxSVuRc5Khf",
        "outputId": "27879497-bee5-4350-a0ac-4121a73a54e2"
      },
      "outputs": [
        {
          "output_type": "stream",
          "name": "stdout",
          "text": [
            "Requirement already satisfied: tensorflow==2.18 in /usr/local/lib/python3.11/dist-packages (2.18.0)\n",
            "Requirement already satisfied: absl-py>=1.0.0 in /usr/local/lib/python3.11/dist-packages (from tensorflow==2.18) (1.4.0)\n",
            "Requirement already satisfied: astunparse>=1.6.0 in /usr/local/lib/python3.11/dist-packages (from tensorflow==2.18) (1.6.3)\n",
            "Requirement already satisfied: flatbuffers>=24.3.25 in /usr/local/lib/python3.11/dist-packages (from tensorflow==2.18) (25.2.10)\n",
            "Requirement already satisfied: gast!=0.5.0,!=0.5.1,!=0.5.2,>=0.2.1 in /usr/local/lib/python3.11/dist-packages (from tensorflow==2.18) (0.6.0)\n",
            "Requirement already satisfied: google-pasta>=0.1.1 in /usr/local/lib/python3.11/dist-packages (from tensorflow==2.18) (0.2.0)\n",
            "Requirement already satisfied: libclang>=13.0.0 in /usr/local/lib/python3.11/dist-packages (from tensorflow==2.18) (18.1.1)\n",
            "Requirement already satisfied: opt-einsum>=2.3.2 in /usr/local/lib/python3.11/dist-packages (from tensorflow==2.18) (3.4.0)\n",
            "Requirement already satisfied: packaging in /usr/local/lib/python3.11/dist-packages (from tensorflow==2.18) (24.2)\n",
            "Requirement already satisfied: protobuf!=4.21.0,!=4.21.1,!=4.21.2,!=4.21.3,!=4.21.4,!=4.21.5,<6.0.0dev,>=3.20.3 in /usr/local/lib/python3.11/dist-packages (from tensorflow==2.18) (5.29.4)\n",
            "Requirement already satisfied: requests<3,>=2.21.0 in /usr/local/lib/python3.11/dist-packages (from tensorflow==2.18) (2.32.3)\n",
            "Requirement already satisfied: setuptools in /usr/local/lib/python3.11/dist-packages (from tensorflow==2.18) (75.2.0)\n",
            "Requirement already satisfied: six>=1.12.0 in /usr/local/lib/python3.11/dist-packages (from tensorflow==2.18) (1.17.0)\n",
            "Requirement already satisfied: termcolor>=1.1.0 in /usr/local/lib/python3.11/dist-packages (from tensorflow==2.18) (3.1.0)\n",
            "Requirement already satisfied: typing-extensions>=3.6.6 in /usr/local/lib/python3.11/dist-packages (from tensorflow==2.18) (4.13.2)\n",
            "Requirement already satisfied: wrapt>=1.11.0 in /usr/local/lib/python3.11/dist-packages (from tensorflow==2.18) (1.17.2)\n",
            "Requirement already satisfied: grpcio<2.0,>=1.24.3 in /usr/local/lib/python3.11/dist-packages (from tensorflow==2.18) (1.71.0)\n",
            "Requirement already satisfied: tensorboard<2.19,>=2.18 in /usr/local/lib/python3.11/dist-packages (from tensorflow==2.18) (2.18.0)\n",
            "Requirement already satisfied: keras>=3.5.0 in /usr/local/lib/python3.11/dist-packages (from tensorflow==2.18) (3.8.0)\n",
            "Requirement already satisfied: numpy<2.1.0,>=1.26.0 in /usr/local/lib/python3.11/dist-packages (from tensorflow==2.18) (2.0.2)\n",
            "Requirement already satisfied: h5py>=3.11.0 in /usr/local/lib/python3.11/dist-packages (from tensorflow==2.18) (3.13.0)\n",
            "Requirement already satisfied: ml-dtypes<0.5.0,>=0.4.0 in /usr/local/lib/python3.11/dist-packages (from tensorflow==2.18) (0.4.1)\n",
            "Requirement already satisfied: tensorflow-io-gcs-filesystem>=0.23.1 in /usr/local/lib/python3.11/dist-packages (from tensorflow==2.18) (0.37.1)\n",
            "Requirement already satisfied: wheel<1.0,>=0.23.0 in /usr/local/lib/python3.11/dist-packages (from astunparse>=1.6.0->tensorflow==2.18) (0.45.1)\n",
            "Requirement already satisfied: rich in /usr/local/lib/python3.11/dist-packages (from keras>=3.5.0->tensorflow==2.18) (13.9.4)\n",
            "Requirement already satisfied: namex in /usr/local/lib/python3.11/dist-packages (from keras>=3.5.0->tensorflow==2.18) (0.0.9)\n",
            "Requirement already satisfied: optree in /usr/local/lib/python3.11/dist-packages (from keras>=3.5.0->tensorflow==2.18) (0.15.0)\n",
            "Requirement already satisfied: charset-normalizer<4,>=2 in /usr/local/lib/python3.11/dist-packages (from requests<3,>=2.21.0->tensorflow==2.18) (3.4.2)\n",
            "Requirement already satisfied: idna<4,>=2.5 in /usr/local/lib/python3.11/dist-packages (from requests<3,>=2.21.0->tensorflow==2.18) (3.10)\n",
            "Requirement already satisfied: urllib3<3,>=1.21.1 in /usr/local/lib/python3.11/dist-packages (from requests<3,>=2.21.0->tensorflow==2.18) (2.4.0)\n",
            "Requirement already satisfied: certifi>=2017.4.17 in /usr/local/lib/python3.11/dist-packages (from requests<3,>=2.21.0->tensorflow==2.18) (2025.4.26)\n",
            "Requirement already satisfied: markdown>=2.6.8 in /usr/local/lib/python3.11/dist-packages (from tensorboard<2.19,>=2.18->tensorflow==2.18) (3.8)\n",
            "Requirement already satisfied: tensorboard-data-server<0.8.0,>=0.7.0 in /usr/local/lib/python3.11/dist-packages (from tensorboard<2.19,>=2.18->tensorflow==2.18) (0.7.2)\n",
            "Requirement already satisfied: werkzeug>=1.0.1 in /usr/local/lib/python3.11/dist-packages (from tensorboard<2.19,>=2.18->tensorflow==2.18) (3.1.3)\n",
            "Requirement already satisfied: MarkupSafe>=2.1.1 in /usr/local/lib/python3.11/dist-packages (from werkzeug>=1.0.1->tensorboard<2.19,>=2.18->tensorflow==2.18) (3.0.2)\n",
            "Requirement already satisfied: markdown-it-py>=2.2.0 in /usr/local/lib/python3.11/dist-packages (from rich->keras>=3.5.0->tensorflow==2.18) (3.0.0)\n",
            "Requirement already satisfied: pygments<3.0.0,>=2.13.0 in /usr/local/lib/python3.11/dist-packages (from rich->keras>=3.5.0->tensorflow==2.18) (2.19.1)\n",
            "Requirement already satisfied: mdurl~=0.1 in /usr/local/lib/python3.11/dist-packages (from markdown-it-py>=2.2.0->rich->keras>=3.5.0->tensorflow==2.18) (0.1.2)\n",
            "Requirement already satisfied: tensorflow-probability in /usr/local/lib/python3.11/dist-packages (0.25.0)\n",
            "Requirement already satisfied: absl-py in /usr/local/lib/python3.11/dist-packages (from tensorflow-probability) (1.4.0)\n",
            "Requirement already satisfied: six>=1.10.0 in /usr/local/lib/python3.11/dist-packages (from tensorflow-probability) (1.17.0)\n",
            "Requirement already satisfied: numpy>=1.13.3 in /usr/local/lib/python3.11/dist-packages (from tensorflow-probability) (2.0.2)\n",
            "Requirement already satisfied: decorator in /usr/local/lib/python3.11/dist-packages (from tensorflow-probability) (4.4.2)\n",
            "Requirement already satisfied: cloudpickle>=1.3 in /usr/local/lib/python3.11/dist-packages (from tensorflow-probability) (3.1.1)\n",
            "Requirement already satisfied: gast>=0.3.2 in /usr/local/lib/python3.11/dist-packages (from tensorflow-probability) (0.6.0)\n",
            "Requirement already satisfied: dm-tree in /usr/local/lib/python3.11/dist-packages (from tensorflow-probability) (0.1.9)\n",
            "Requirement already satisfied: attrs>=18.2.0 in /usr/local/lib/python3.11/dist-packages (from dm-tree->tensorflow-probability) (25.3.0)\n",
            "Requirement already satisfied: wrapt>=1.11.2 in /usr/local/lib/python3.11/dist-packages (from dm-tree->tensorflow-probability) (1.17.2)\n",
            "Collecting tensorflow-addons==0.23\n",
            "  Downloading tensorflow_addons-0.23.0-cp311-cp311-manylinux_2_17_x86_64.manylinux2014_x86_64.whl.metadata (1.8 kB)\n",
            "Requirement already satisfied: packaging in /usr/local/lib/python3.11/dist-packages (from tensorflow-addons==0.23) (24.2)\n",
            "Collecting typeguard<3.0.0,>=2.7 (from tensorflow-addons==0.23)\n",
            "  Downloading typeguard-2.13.3-py3-none-any.whl.metadata (3.6 kB)\n",
            "Downloading tensorflow_addons-0.23.0-cp311-cp311-manylinux_2_17_x86_64.manylinux2014_x86_64.whl (611 kB)\n",
            "\u001b[2K   \u001b[90m━━━━━━━━━━━━━━━━━━━━━━━━━━━━━━━━━━━━━━━━\u001b[0m \u001b[32m611.8/611.8 kB\u001b[0m \u001b[31m7.9 MB/s\u001b[0m eta \u001b[36m0:00:00\u001b[0m\n",
            "\u001b[?25hDownloading typeguard-2.13.3-py3-none-any.whl (17 kB)\n",
            "Installing collected packages: typeguard, tensorflow-addons\n",
            "  Attempting uninstall: typeguard\n",
            "    Found existing installation: typeguard 4.4.2\n",
            "    Uninstalling typeguard-4.4.2:\n",
            "      Successfully uninstalled typeguard-4.4.2\n",
            "\u001b[31mERROR: pip's dependency resolver does not currently take into account all the packages that are installed. This behaviour is the source of the following dependency conflicts.\n",
            "inflect 7.5.0 requires typeguard>=4.0.1, but you have typeguard 2.13.3 which is incompatible.\u001b[0m\u001b[31m\n",
            "\u001b[0mSuccessfully installed tensorflow-addons-0.23.0 typeguard-2.13.3\n",
            "Requirement already satisfied: keras in /usr/local/lib/python3.11/dist-packages (3.8.0)\n",
            "Requirement already satisfied: absl-py in /usr/local/lib/python3.11/dist-packages (from keras) (1.4.0)\n",
            "Requirement already satisfied: numpy in /usr/local/lib/python3.11/dist-packages (from keras) (2.0.2)\n",
            "Requirement already satisfied: rich in /usr/local/lib/python3.11/dist-packages (from keras) (13.9.4)\n",
            "Requirement already satisfied: namex in /usr/local/lib/python3.11/dist-packages (from keras) (0.0.9)\n",
            "Requirement already satisfied: h5py in /usr/local/lib/python3.11/dist-packages (from keras) (3.13.0)\n",
            "Requirement already satisfied: optree in /usr/local/lib/python3.11/dist-packages (from keras) (0.15.0)\n",
            "Requirement already satisfied: ml-dtypes in /usr/local/lib/python3.11/dist-packages (from keras) (0.4.1)\n",
            "Requirement already satisfied: packaging in /usr/local/lib/python3.11/dist-packages (from keras) (24.2)\n",
            "Requirement already satisfied: typing-extensions>=4.5.0 in /usr/local/lib/python3.11/dist-packages (from optree->keras) (4.13.2)\n",
            "Requirement already satisfied: markdown-it-py>=2.2.0 in /usr/local/lib/python3.11/dist-packages (from rich->keras) (3.0.0)\n",
            "Requirement already satisfied: pygments<3.0.0,>=2.13.0 in /usr/local/lib/python3.11/dist-packages (from rich->keras) (2.19.1)\n",
            "Requirement already satisfied: mdurl~=0.1 in /usr/local/lib/python3.11/dist-packages (from markdown-it-py>=2.2.0->rich->keras) (0.1.2)\n"
          ]
        },
        {
          "output_type": "error",
          "ename": "ModuleNotFoundError",
          "evalue": "No module named 'onnx'",
          "traceback": [
            "\u001b[0;31m---------------------------------------------------------------------------\u001b[0m",
            "\u001b[0;31mModuleNotFoundError\u001b[0m                       Traceback (most recent call last)",
            "\u001b[0;32m<ipython-input-14-01eb053bce6c>\u001b[0m in \u001b[0;36m<cell line: 0>\u001b[0;34m()\u001b[0m\n\u001b[1;32m      5\u001b[0m \u001b[0;34m\u001b[0m\u001b[0m\n\u001b[1;32m      6\u001b[0m \u001b[0;32mfrom\u001b[0m \u001b[0multralytics\u001b[0m \u001b[0;32mimport\u001b[0m \u001b[0mYOLO\u001b[0m\u001b[0;34m\u001b[0m\u001b[0;34m\u001b[0m\u001b[0m\n\u001b[0;32m----> 7\u001b[0;31m \u001b[0;32mimport\u001b[0m \u001b[0monnx\u001b[0m\u001b[0;34m\u001b[0m\u001b[0;34m\u001b[0m\u001b[0m\n\u001b[0m\u001b[1;32m      8\u001b[0m \u001b[0;32mimport\u001b[0m \u001b[0monnx_tf\u001b[0m\u001b[0;34m\u001b[0m\u001b[0;34m\u001b[0m\u001b[0m\n\u001b[1;32m      9\u001b[0m \u001b[0;32mfrom\u001b[0m \u001b[0monnx_tf\u001b[0m\u001b[0;34m.\u001b[0m\u001b[0mbackend\u001b[0m \u001b[0;32mimport\u001b[0m \u001b[0mprepare\u001b[0m\u001b[0;34m\u001b[0m\u001b[0;34m\u001b[0m\u001b[0m\n",
            "\u001b[0;31mModuleNotFoundError\u001b[0m: No module named 'onnx'",
            "",
            "\u001b[0;31m---------------------------------------------------------------------------\u001b[0;32m\nNOTE: If your import is failing due to a missing package, you can\nmanually install dependencies using either !pip or !apt.\n\nTo view examples of installing some common dependencies, click the\n\"Open Examples\" button below.\n\u001b[0;31m---------------------------------------------------------------------------\u001b[0m\n"
          ],
          "errorDetails": {
            "actions": [
              {
                "action": "open_url",
                "actionText": "Open Examples",
                "url": "/notebooks/snippets/importing_libraries.ipynb"
              }
            ]
          }
        }
      ],
      "source": [
        "!pip install tensorflow==2.18 # Update TensorFlow\n",
        "!pip install tensorflow-probability # Install/update TensorFlow Probability\n",
        "!pip install tensorflow-addons==0.23  # Install a compatible tensorflow_addons version\n",
        "!pip install keras # Install Keras\n",
        "\n",
        "from ultralytics import YOLO\n",
        "import onnx\n",
        "import onnx_tf\n",
        "from onnx_tf.backend import prepare\n",
        "import tensorflow as tf\n",
        "\n",
        "# Load the YOLO11 model\n",
        "model = YOLO(\"/content/runs/classify/train97/weights/best.pt\")\n",
        "\n",
        "# Export the model to ONNX format first\n",
        "model.export(format=\"onnx\", opset=13)  # creates 'best.onnx'\n",
        "\n",
        "# Install onnx-tf\n",
        "#!pip install onnx-tf\n",
        "\n",
        "# Import onnx-tf\n",
        "import onnx\n",
        "import onnx_tf\n",
        "from onnx_tf.backend import prepare\n",
        "\n",
        "# Load the ONNX model\n",
        "onnx_model = onnx.load(\"best.onnx\")\n",
        "\n",
        "# Convert the ONNX model to TensorFlow\n",
        "tf_rep = prepare(onnx_model)\n",
        "\n",
        "# Export to TensorFlow SavedModel\n",
        "tf_rep.export_graph(\"best_saved_model\")\n",
        "\n",
        "# Convert to TFLite using TensorFlow Lite Converter\n",
        "import tensorflow as tf\n",
        "\n",
        "converter = tf.lite.TFLiteConverter.from_saved_model(\"best_saved_model\")\n",
        "tflite_model = converter.convert()\n",
        "\n",
        "# Save the TFLite model\n",
        "with open(\"best.tflite\", \"wb\") as f:\n",
        "    f.write(tflite_model)\n",
        "\n",
        "# Load and use the TFLite model\n",
        "tflite_model = YOLO(\"best.tflite\")\n",
        "\n",
        "# Run inference\n",
        "results = tflite_model(\"https://ultralytics.com/images/bus.jpg\")"
      ]
    },
    {
      "cell_type": "code",
      "execution_count": null,
      "metadata": {
        "colab": {
          "base_uri": "https://localhost:8080/",
          "height": 1000
        },
        "id": "CVTbE8DmVaqT",
        "outputId": "8f4a70e5-dad7-4235-e375-e379dc3fa8bd"
      },
      "outputs": [
        {
          "name": "stdout",
          "output_type": "stream",
          "text": [
            "Looking in indexes: https://download.pytorch.org/whl/cu118\n",
            "Requirement already satisfied: torch in /usr/local/lib/python3.11/dist-packages (2.6.0+cu124)\n",
            "Requirement already satisfied: torchvision in /usr/local/lib/python3.11/dist-packages (0.21.0+cu124)\n",
            "Requirement already satisfied: torchaudio in /usr/local/lib/python3.11/dist-packages (2.6.0+cu124)\n",
            "Requirement already satisfied: filelock in /usr/local/lib/python3.11/dist-packages (from torch) (3.18.0)\n",
            "Requirement already satisfied: typing-extensions>=4.10.0 in /usr/local/lib/python3.11/dist-packages (from torch) (4.13.2)\n",
            "Requirement already satisfied: networkx in /usr/local/lib/python3.11/dist-packages (from torch) (3.4.2)\n",
            "Requirement already satisfied: jinja2 in /usr/local/lib/python3.11/dist-packages (from torch) (3.1.6)\n",
            "Requirement already satisfied: fsspec in /usr/local/lib/python3.11/dist-packages (from torch) (2025.3.2)\n",
            "Requirement already satisfied: nvidia-cuda-nvrtc-cu12==12.4.127 in /usr/local/lib/python3.11/dist-packages (from torch) (12.4.127)\n",
            "Requirement already satisfied: nvidia-cuda-runtime-cu12==12.4.127 in /usr/local/lib/python3.11/dist-packages (from torch) (12.4.127)\n",
            "Requirement already satisfied: nvidia-cuda-cupti-cu12==12.4.127 in /usr/local/lib/python3.11/dist-packages (from torch) (12.4.127)\n",
            "Requirement already satisfied: nvidia-cudnn-cu12==9.1.0.70 in /usr/local/lib/python3.11/dist-packages (from torch) (9.1.0.70)\n",
            "Requirement already satisfied: nvidia-cublas-cu12==12.4.5.8 in /usr/local/lib/python3.11/dist-packages (from torch) (12.4.5.8)\n",
            "Requirement already satisfied: nvidia-cufft-cu12==11.2.1.3 in /usr/local/lib/python3.11/dist-packages (from torch) (11.2.1.3)\n",
            "Requirement already satisfied: nvidia-curand-cu12==10.3.5.147 in /usr/local/lib/python3.11/dist-packages (from torch) (10.3.5.147)\n",
            "Requirement already satisfied: nvidia-cusolver-cu12==11.6.1.9 in /usr/local/lib/python3.11/dist-packages (from torch) (11.6.1.9)\n",
            "Requirement already satisfied: nvidia-cusparse-cu12==12.3.1.170 in /usr/local/lib/python3.11/dist-packages (from torch) (12.3.1.170)\n",
            "Requirement already satisfied: nvidia-cusparselt-cu12==0.6.2 in /usr/local/lib/python3.11/dist-packages (from torch) (0.6.2)\n",
            "Requirement already satisfied: nvidia-nccl-cu12==2.21.5 in /usr/local/lib/python3.11/dist-packages (from torch) (2.21.5)\n",
            "Requirement already satisfied: nvidia-nvtx-cu12==12.4.127 in /usr/local/lib/python3.11/dist-packages (from torch) (12.4.127)\n",
            "Requirement already satisfied: nvidia-nvjitlink-cu12==12.4.127 in /usr/local/lib/python3.11/dist-packages (from torch) (12.4.127)\n",
            "Requirement already satisfied: triton==3.2.0 in /usr/local/lib/python3.11/dist-packages (from torch) (3.2.0)\n",
            "Requirement already satisfied: sympy==1.13.1 in /usr/local/lib/python3.11/dist-packages (from torch) (1.13.1)\n",
            "Requirement already satisfied: mpmath<1.4,>=1.1.0 in /usr/local/lib/python3.11/dist-packages (from sympy==1.13.1->torch) (1.3.0)\n",
            "Requirement already satisfied: numpy in /usr/local/lib/python3.11/dist-packages (from torchvision) (1.24.3)\n",
            "Requirement already satisfied: pillow!=8.3.*,>=5.3.0 in /usr/local/lib/python3.11/dist-packages (from torchvision) (11.1.0)\n",
            "Requirement already satisfied: MarkupSafe>=2.0 in /usr/local/lib/python3.11/dist-packages (from jinja2->torch) (3.0.2)\n",
            "Collecting tensorflow==2.12.0\n",
            "  Using cached tensorflow-2.12.0-cp311-cp311-manylinux_2_17_x86_64.manylinux2014_x86_64.whl.metadata (3.4 kB)\n",
            "Requirement already satisfied: absl-py>=1.0.0 in /usr/local/lib/python3.11/dist-packages (from tensorflow==2.12.0) (1.4.0)\n",
            "Requirement already satisfied: astunparse>=1.6.0 in /usr/local/lib/python3.11/dist-packages (from tensorflow==2.12.0) (1.6.3)\n",
            "Requirement already satisfied: flatbuffers>=2.0 in /usr/local/lib/python3.11/dist-packages (from tensorflow==2.12.0) (25.2.10)\n",
            "Requirement already satisfied: gast<=0.4.0,>=0.2.1 in /usr/local/lib/python3.11/dist-packages (from tensorflow==2.12.0) (0.4.0)\n",
            "Requirement already satisfied: google-pasta>=0.1.1 in /usr/local/lib/python3.11/dist-packages (from tensorflow==2.12.0) (0.2.0)\n",
            "Requirement already satisfied: grpcio<2.0,>=1.24.3 in /usr/local/lib/python3.11/dist-packages (from tensorflow==2.12.0) (1.71.0)\n",
            "Requirement already satisfied: h5py>=2.9.0 in /usr/local/lib/python3.11/dist-packages (from tensorflow==2.12.0) (3.13.0)\n",
            "Requirement already satisfied: jax>=0.3.15 in /usr/local/lib/python3.11/dist-packages (from tensorflow==2.12.0) (0.4.30)\n",
            "Collecting keras<2.13,>=2.12.0 (from tensorflow==2.12.0)\n",
            "  Using cached keras-2.12.0-py2.py3-none-any.whl.metadata (1.4 kB)\n",
            "Requirement already satisfied: libclang>=13.0.0 in /usr/local/lib/python3.11/dist-packages (from tensorflow==2.12.0) (18.1.1)\n",
            "Collecting numpy<1.24,>=1.22 (from tensorflow==2.12.0)\n",
            "  Using cached numpy-1.23.5-cp311-cp311-manylinux_2_17_x86_64.manylinux2014_x86_64.whl.metadata (2.3 kB)\n",
            "Requirement already satisfied: opt-einsum>=2.3.2 in /usr/local/lib/python3.11/dist-packages (from tensorflow==2.12.0) (3.4.0)\n",
            "Requirement already satisfied: packaging in /usr/local/lib/python3.11/dist-packages (from tensorflow==2.12.0) (24.2)\n",
            "Requirement already satisfied: protobuf!=4.21.0,!=4.21.1,!=4.21.2,!=4.21.3,!=4.21.4,!=4.21.5,<5.0.0dev,>=3.20.3 in /usr/local/lib/python3.11/dist-packages (from tensorflow==2.12.0) (4.25.6)\n",
            "Requirement already satisfied: setuptools in /usr/local/lib/python3.11/dist-packages (from tensorflow==2.12.0) (75.2.0)\n",
            "Requirement already satisfied: six>=1.12.0 in /usr/local/lib/python3.11/dist-packages (from tensorflow==2.12.0) (1.17.0)\n",
            "Collecting tensorboard<2.13,>=2.12 (from tensorflow==2.12.0)\n",
            "  Using cached tensorboard-2.12.3-py3-none-any.whl.metadata (1.8 kB)\n",
            "Collecting tensorflow-estimator<2.13,>=2.12.0 (from tensorflow==2.12.0)\n",
            "  Using cached tensorflow_estimator-2.12.0-py2.py3-none-any.whl.metadata (1.3 kB)\n",
            "Requirement already satisfied: termcolor>=1.1.0 in /usr/local/lib/python3.11/dist-packages (from tensorflow==2.12.0) (3.0.1)\n",
            "Requirement already satisfied: typing-extensions>=3.6.6 in /usr/local/lib/python3.11/dist-packages (from tensorflow==2.12.0) (4.13.2)\n",
            "Requirement already satisfied: wrapt<1.15,>=1.11.0 in /usr/local/lib/python3.11/dist-packages (from tensorflow==2.12.0) (1.14.1)\n",
            "Requirement already satisfied: tensorflow-io-gcs-filesystem>=0.23.1 in /usr/local/lib/python3.11/dist-packages (from tensorflow==2.12.0) (0.37.1)\n",
            "Requirement already satisfied: wheel<1.0,>=0.23.0 in /usr/local/lib/python3.11/dist-packages (from astunparse>=1.6.0->tensorflow==2.12.0) (0.45.1)\n",
            "Requirement already satisfied: jaxlib<=0.4.30,>=0.4.27 in /usr/local/lib/python3.11/dist-packages (from jax>=0.3.15->tensorflow==2.12.0) (0.4.30)\n",
            "Requirement already satisfied: ml-dtypes>=0.2.0 in /usr/local/lib/python3.11/dist-packages (from jax>=0.3.15->tensorflow==2.12.0) (0.4.1)\n",
            "Requirement already satisfied: scipy>=1.9 in /usr/local/lib/python3.11/dist-packages (from jax>=0.3.15->tensorflow==2.12.0) (1.14.1)\n",
            "Requirement already satisfied: google-auth<3,>=1.6.3 in /usr/local/lib/python3.11/dist-packages (from tensorboard<2.13,>=2.12->tensorflow==2.12.0) (2.38.0)\n",
            "Requirement already satisfied: google-auth-oauthlib<1.1,>=0.5 in /usr/local/lib/python3.11/dist-packages (from tensorboard<2.13,>=2.12->tensorflow==2.12.0) (1.0.0)\n",
            "Requirement already satisfied: markdown>=2.6.8 in /usr/local/lib/python3.11/dist-packages (from tensorboard<2.13,>=2.12->tensorflow==2.12.0) (3.7)\n",
            "Requirement already satisfied: requests<3,>=2.21.0 in /usr/local/lib/python3.11/dist-packages (from tensorboard<2.13,>=2.12->tensorflow==2.12.0) (2.32.3)\n",
            "Requirement already satisfied: tensorboard-data-server<0.8.0,>=0.7.0 in /usr/local/lib/python3.11/dist-packages (from tensorboard<2.13,>=2.12->tensorflow==2.12.0) (0.7.2)\n",
            "Requirement already satisfied: werkzeug>=1.0.1 in /usr/local/lib/python3.11/dist-packages (from tensorboard<2.13,>=2.12->tensorflow==2.12.0) (3.1.3)\n",
            "Requirement already satisfied: cachetools<6.0,>=2.0.0 in /usr/local/lib/python3.11/dist-packages (from google-auth<3,>=1.6.3->tensorboard<2.13,>=2.12->tensorflow==2.12.0) (5.5.2)\n",
            "Requirement already satisfied: pyasn1-modules>=0.2.1 in /usr/local/lib/python3.11/dist-packages (from google-auth<3,>=1.6.3->tensorboard<2.13,>=2.12->tensorflow==2.12.0) (0.4.2)\n",
            "Requirement already satisfied: rsa<5,>=3.1.4 in /usr/local/lib/python3.11/dist-packages (from google-auth<3,>=1.6.3->tensorboard<2.13,>=2.12->tensorflow==2.12.0) (4.9)\n",
            "Requirement already satisfied: requests-oauthlib>=0.7.0 in /usr/local/lib/python3.11/dist-packages (from google-auth-oauthlib<1.1,>=0.5->tensorboard<2.13,>=2.12->tensorflow==2.12.0) (2.0.0)\n",
            "Requirement already satisfied: charset-normalizer<4,>=2 in /usr/local/lib/python3.11/dist-packages (from requests<3,>=2.21.0->tensorboard<2.13,>=2.12->tensorflow==2.12.0) (3.4.1)\n",
            "Requirement already satisfied: idna<4,>=2.5 in /usr/local/lib/python3.11/dist-packages (from requests<3,>=2.21.0->tensorboard<2.13,>=2.12->tensorflow==2.12.0) (3.10)\n",
            "Requirement already satisfied: urllib3<3,>=1.21.1 in /usr/local/lib/python3.11/dist-packages (from requests<3,>=2.21.0->tensorboard<2.13,>=2.12->tensorflow==2.12.0) (2.3.0)\n",
            "Requirement already satisfied: certifi>=2017.4.17 in /usr/local/lib/python3.11/dist-packages (from requests<3,>=2.21.0->tensorboard<2.13,>=2.12->tensorflow==2.12.0) (2025.1.31)\n",
            "Requirement already satisfied: MarkupSafe>=2.1.1 in /usr/local/lib/python3.11/dist-packages (from werkzeug>=1.0.1->tensorboard<2.13,>=2.12->tensorflow==2.12.0) (3.0.2)\n",
            "Requirement already satisfied: pyasn1<0.7.0,>=0.6.1 in /usr/local/lib/python3.11/dist-packages (from pyasn1-modules>=0.2.1->google-auth<3,>=1.6.3->tensorboard<2.13,>=2.12->tensorflow==2.12.0) (0.6.1)\n",
            "Requirement already satisfied: oauthlib>=3.0.0 in /usr/local/lib/python3.11/dist-packages (from requests-oauthlib>=0.7.0->google-auth-oauthlib<1.1,>=0.5->tensorboard<2.13,>=2.12->tensorflow==2.12.0) (3.2.2)\n",
            "Using cached tensorflow-2.12.0-cp311-cp311-manylinux_2_17_x86_64.manylinux2014_x86_64.whl (586.0 MB)\n",
            "Using cached keras-2.12.0-py2.py3-none-any.whl (1.7 MB)\n",
            "Using cached numpy-1.23.5-cp311-cp311-manylinux_2_17_x86_64.manylinux2014_x86_64.whl (17.1 MB)\n",
            "Using cached tensorboard-2.12.3-py3-none-any.whl (5.6 MB)\n",
            "Using cached tensorflow_estimator-2.12.0-py2.py3-none-any.whl (440 kB)\n",
            "Installing collected packages: tensorflow-estimator, numpy, keras, tensorboard, tensorflow\n",
            "  Attempting uninstall: tensorflow-estimator\n",
            "    Found existing installation: tensorflow-estimator 2.15.0\n",
            "    Uninstalling tensorflow-estimator-2.15.0:\n",
            "      Successfully uninstalled tensorflow-estimator-2.15.0\n",
            "  Attempting uninstall: numpy\n",
            "    Found existing installation: numpy 1.24.3\n",
            "    Uninstalling numpy-1.24.3:\n",
            "      Successfully uninstalled numpy-1.24.3\n",
            "  Attempting uninstall: keras\n",
            "    Found existing installation: keras 2.13.1\n",
            "    Uninstalling keras-2.13.1:\n",
            "      Successfully uninstalled keras-2.13.1\n",
            "  Attempting uninstall: tensorboard\n",
            "    Found existing installation: tensorboard 2.18.0\n",
            "    Uninstalling tensorboard-2.18.0:\n",
            "      Successfully uninstalled tensorboard-2.18.0\n",
            "  Attempting uninstall: tensorflow\n",
            "    Found existing installation: tensorflow 2.18.0\n",
            "    Uninstalling tensorflow-2.18.0:\n",
            "      Successfully uninstalled tensorflow-2.18.0\n",
            "\u001b[31mERROR: pip's dependency resolver does not currently take into account all the packages that are installed. This behaviour is the source of the following dependency conflicts.\n",
            "tflite-support 0.4.4 requires protobuf<4,>=3.18.0, but you have protobuf 4.25.6 which is incompatible.\n",
            "pymc 5.21.2 requires numpy>=1.25.0, but you have numpy 1.23.5 which is incompatible.\n",
            "blosc2 3.3.0 requires numpy>=1.26, but you have numpy 1.23.5 which is incompatible.\n",
            "tensorflow-text 2.18.1 requires tensorflow<2.19,>=2.18.0, but you have tensorflow 2.12.0 which is incompatible.\n",
            "treescope 0.1.9 requires numpy>=1.25.2, but you have numpy 1.23.5 which is incompatible.\n",
            "orbax-checkpoint 0.11.12 requires jax>=0.5.0, but you have jax 0.4.30 which is incompatible.\n",
            "scikit-image 0.25.2 requires numpy>=1.24, but you have numpy 1.23.5 which is incompatible.\n",
            "flax 0.10.5 requires jax>=0.5.1, but you have jax 0.4.30 which is incompatible.\n",
            "ydf 0.11.0 requires protobuf<6.0.0,>=5.29.1, but you have protobuf 4.25.6 which is incompatible.\n",
            "tf-keras 2.18.0 requires tensorflow<2.19,>=2.18, but you have tensorflow 2.12.0 which is incompatible.\n",
            "albumentations 2.0.5 requires numpy>=1.24.4, but you have numpy 1.23.5 which is incompatible.\n",
            "bigframes 1.42.0 requires numpy>=1.24.0, but you have numpy 1.23.5 which is incompatible.\n",
            "tensorflow-decision-forests 1.11.0 requires tensorflow==2.18.0, but you have tensorflow 2.12.0 which is incompatible.\n",
            "xarray 2025.1.2 requires numpy>=1.24, but you have numpy 1.23.5 which is incompatible.\n",
            "albucore 0.0.23 requires numpy>=1.24.4, but you have numpy 1.23.5 which is incompatible.\n",
            "imbalanced-learn 0.13.0 requires numpy<3,>=1.24.3, but you have numpy 1.23.5 which is incompatible.\n",
            "chex 0.1.89 requires numpy>=1.24.1, but you have numpy 1.23.5 which is incompatible.\n",
            "thinc 8.3.6 requires numpy<3.0.0,>=2.0.0, but you have numpy 1.23.5 which is incompatible.\u001b[0m\u001b[31m\n",
            "\u001b[0mSuccessfully installed keras-2.12.0 numpy-1.23.5 tensorboard-2.12.3 tensorflow-2.12.0 tensorflow-estimator-2.12.0\n"
          ]
        },
        {
          "data": {
            "application/vnd.colab-display-data+json": {
              "id": "0be087f33a184e48b66eedb8a93f2579",
              "pip_warning": {
                "packages": [
                  "numpy",
                  "tensorflow"
                ]
              }
            }
          },
          "metadata": {},
          "output_type": "display_data"
        },
        {
          "name": "stdout",
          "output_type": "stream",
          "text": [
            "Requirement already satisfied: tensorflow-addons==0.20.0 in /usr/local/lib/python3.11/dist-packages (0.20.0)\n",
            "Requirement already satisfied: packaging in /usr/local/lib/python3.11/dist-packages (from tensorflow-addons==0.20.0) (24.2)\n",
            "Requirement already satisfied: typeguard<3.0.0,>=2.7 in /usr/local/lib/python3.11/dist-packages (from tensorflow-addons==0.20.0) (2.13.3)\n",
            "Collecting keras==2.13.1\n",
            "  Using cached keras-2.13.1-py3-none-any.whl.metadata (2.4 kB)\n",
            "Using cached keras-2.13.1-py3-none-any.whl (1.7 MB)\n",
            "Traceback (most recent call last):\n",
            "  File \"/usr/local/lib/python3.11/dist-packages/pip/_internal/cli/base_command.py\", line 179, in exc_logging_wrapper\n",
            "    status = run_func(*args)\n",
            "             ^^^^^^^^^^^^^^^\n",
            "  File \"/usr/local/lib/python3.11/dist-packages/pip/_internal/cli/req_command.py\", line 67, in wrapper\n",
            "    return func(self, options, args)\n",
            "           ^^^^^^^^^^^^^^^^^^^^^^^^^\n",
            "  File \"/usr/local/lib/python3.11/dist-packages/pip/_internal/commands/install.py\", line 447, in run\n",
            "    conflicts = self._determine_conflicts(to_install)\n",
            "                ^^^^^^^^^^^^^^^^^^^^^^^^^^^^^^^^^^^^^\n",
            "  File \"/usr/local/lib/python3.11/dist-packages/pip/_internal/commands/install.py\", line 578, in _determine_conflicts\n",
            "    return check_install_conflicts(to_install)\n",
            "           ^^^^^^^^^^^^^^^^^^^^^^^^^^^^^^^^^^^\n",
            "  File \"/usr/local/lib/python3.11/dist-packages/pip/_internal/operations/check.py\", line 101, in check_install_conflicts\n",
            "^C\n",
            "^C\n"
          ]
        },
        {
          "ename": "RecursionError",
          "evalue": "maximum recursion depth exceeded in comparison",
          "output_type": "error",
          "traceback": [
            "\u001b[0;31m---------------------------------------------------------------------------\u001b[0m",
            "\u001b[0;31mRecursionError\u001b[0m                            Traceback (most recent call last)",
            "\u001b[0;32m<ipython-input-2-869827c37b1b>\u001b[0m in \u001b[0;36m<cell line: 0>\u001b[0;34m()\u001b[0m\n\u001b[1;32m     31\u001b[0m \u001b[0;31m# Converter ONNX para TensorFlow\u001b[0m\u001b[0;34m\u001b[0m\u001b[0;34m\u001b[0m\u001b[0m\n\u001b[1;32m     32\u001b[0m \u001b[0;32mimport\u001b[0m \u001b[0monnx\u001b[0m\u001b[0;34m\u001b[0m\u001b[0;34m\u001b[0m\u001b[0m\n\u001b[0;32m---> 33\u001b[0;31m \u001b[0;32mfrom\u001b[0m \u001b[0monnx_tf\u001b[0m\u001b[0;34m.\u001b[0m\u001b[0mbackend\u001b[0m \u001b[0;32mimport\u001b[0m \u001b[0mprepare\u001b[0m\u001b[0;34m\u001b[0m\u001b[0;34m\u001b[0m\u001b[0m\n\u001b[0m\u001b[1;32m     34\u001b[0m \u001b[0;34m\u001b[0m\u001b[0m\n\u001b[1;32m     35\u001b[0m \u001b[0monnx_model\u001b[0m \u001b[0;34m=\u001b[0m \u001b[0monnx\u001b[0m\u001b[0;34m.\u001b[0m\u001b[0mload\u001b[0m\u001b[0;34m(\u001b[0m\u001b[0monnx_model_path\u001b[0m\u001b[0;34m)\u001b[0m\u001b[0;34m\u001b[0m\u001b[0;34m\u001b[0m\u001b[0m\n",
            "\u001b[0;32m/usr/local/lib/python3.11/dist-packages/onnx_tf/__init__.py\u001b[0m in \u001b[0;36m<module>\u001b[0;34m\u001b[0m\n\u001b[0;32m----> 1\u001b[0;31m \u001b[0;32mfrom\u001b[0m \u001b[0;34m.\u001b[0m \u001b[0;32mimport\u001b[0m \u001b[0mbackend\u001b[0m\u001b[0;34m\u001b[0m\u001b[0;34m\u001b[0m\u001b[0m\n\u001b[0m\u001b[1;32m      2\u001b[0m \u001b[0;32mfrom\u001b[0m \u001b[0;34m.\u001b[0m\u001b[0mversion\u001b[0m \u001b[0;32mimport\u001b[0m \u001b[0mversion\u001b[0m \u001b[0;32mas\u001b[0m \u001b[0m__version__\u001b[0m\u001b[0;34m\u001b[0m\u001b[0;34m\u001b[0m\u001b[0m\n",
            "\u001b[0;32m/usr/local/lib/python3.11/dist-packages/onnx_tf/backend.py\u001b[0m in \u001b[0;36m<module>\u001b[0;34m\u001b[0m\n\u001b[1;32m     26\u001b[0m \u001b[0;32mfrom\u001b[0m \u001b[0monnx_tf\u001b[0m\u001b[0;34m.\u001b[0m\u001b[0mcommon\u001b[0m \u001b[0;32mimport\u001b[0m \u001b[0mget_unique_suffix\u001b[0m\u001b[0;34m\u001b[0m\u001b[0;34m\u001b[0m\u001b[0m\n\u001b[1;32m     27\u001b[0m \u001b[0;32mfrom\u001b[0m \u001b[0monnx_tf\u001b[0m\u001b[0;34m.\u001b[0m\u001b[0mcommon\u001b[0m \u001b[0;32mimport\u001b[0m \u001b[0msupports_device\u001b[0m \u001b[0;32mas\u001b[0m \u001b[0mcommon_supports_device\u001b[0m\u001b[0;34m\u001b[0m\u001b[0;34m\u001b[0m\u001b[0m\n\u001b[0;32m---> 28\u001b[0;31m \u001b[0;32mfrom\u001b[0m \u001b[0monnx_tf\u001b[0m\u001b[0;34m.\u001b[0m\u001b[0mcommon\u001b[0m\u001b[0;34m.\u001b[0m\u001b[0mhandler_helper\u001b[0m \u001b[0;32mimport\u001b[0m \u001b[0mget_all_backend_handlers\u001b[0m\u001b[0;34m\u001b[0m\u001b[0;34m\u001b[0m\u001b[0m\n\u001b[0m\u001b[1;32m     29\u001b[0m \u001b[0;32mfrom\u001b[0m \u001b[0monnx_tf\u001b[0m\u001b[0;34m.\u001b[0m\u001b[0mpb_wrapper\u001b[0m \u001b[0;32mimport\u001b[0m \u001b[0mOnnxNode\u001b[0m\u001b[0;34m\u001b[0m\u001b[0;34m\u001b[0m\u001b[0m\n\u001b[1;32m     30\u001b[0m \u001b[0;32mfrom\u001b[0m \u001b[0monnx_tf\u001b[0m\u001b[0;34m.\u001b[0m\u001b[0mbackend_tf_module\u001b[0m \u001b[0;32mimport\u001b[0m \u001b[0mBackendTFModule\u001b[0m\u001b[0;34m,\u001b[0m \u001b[0mTFModule\u001b[0m\u001b[0;34m\u001b[0m\u001b[0;34m\u001b[0m\u001b[0m\n",
            "\u001b[0;32m/usr/local/lib/python3.11/dist-packages/onnx_tf/common/handler_helper.py\u001b[0m in \u001b[0;36m<module>\u001b[0;34m\u001b[0m\n\u001b[1;32m      1\u001b[0m \u001b[0;32mfrom\u001b[0m \u001b[0monnx\u001b[0m \u001b[0;32mimport\u001b[0m \u001b[0mdefs\u001b[0m\u001b[0;34m\u001b[0m\u001b[0;34m\u001b[0m\u001b[0m\n\u001b[1;32m      2\u001b[0m \u001b[0;34m\u001b[0m\u001b[0m\n\u001b[0;32m----> 3\u001b[0;31m \u001b[0;32mfrom\u001b[0m \u001b[0monnx_tf\u001b[0m\u001b[0;34m.\u001b[0m\u001b[0mhandlers\u001b[0m\u001b[0;34m.\u001b[0m\u001b[0mbackend\u001b[0m \u001b[0;32mimport\u001b[0m \u001b[0;34m*\u001b[0m  \u001b[0;31m# noqa\u001b[0m\u001b[0;34m\u001b[0m\u001b[0;34m\u001b[0m\u001b[0m\n\u001b[0m\u001b[1;32m      4\u001b[0m \u001b[0;32mfrom\u001b[0m \u001b[0monnx_tf\u001b[0m\u001b[0;34m.\u001b[0m\u001b[0mhandlers\u001b[0m\u001b[0;34m.\u001b[0m\u001b[0mbackend_handler\u001b[0m \u001b[0;32mimport\u001b[0m \u001b[0mBackendHandler\u001b[0m\u001b[0;34m\u001b[0m\u001b[0;34m\u001b[0m\u001b[0m\n\u001b[1;32m      5\u001b[0m \u001b[0;32mimport\u001b[0m \u001b[0monnx_tf\u001b[0m\u001b[0;34m.\u001b[0m\u001b[0mcommon\u001b[0m \u001b[0;32mas\u001b[0m \u001b[0mcommon\u001b[0m\u001b[0;34m\u001b[0m\u001b[0;34m\u001b[0m\u001b[0m\n",
            "\u001b[0;32m/usr/local/lib/python3.11/dist-packages/onnx_tf/handlers/backend/bernoulli.py\u001b[0m in \u001b[0;36m<module>\u001b[0;34m\u001b[0m\n\u001b[1;32m      1\u001b[0m \u001b[0;32mimport\u001b[0m \u001b[0mtensorflow\u001b[0m \u001b[0;32mas\u001b[0m \u001b[0mtf\u001b[0m\u001b[0;34m\u001b[0m\u001b[0;34m\u001b[0m\u001b[0m\n\u001b[0;32m----> 2\u001b[0;31m \u001b[0;32mfrom\u001b[0m \u001b[0mtensorflow_probability\u001b[0m \u001b[0;32mimport\u001b[0m \u001b[0mdistributions\u001b[0m \u001b[0;32mas\u001b[0m \u001b[0mtfd\u001b[0m\u001b[0;34m\u001b[0m\u001b[0;34m\u001b[0m\u001b[0m\n\u001b[0m\u001b[1;32m      3\u001b[0m \u001b[0;34m\u001b[0m\u001b[0m\n\u001b[1;32m      4\u001b[0m \u001b[0;32mfrom\u001b[0m \u001b[0monnx_tf\u001b[0m\u001b[0;34m.\u001b[0m\u001b[0mhandlers\u001b[0m\u001b[0;34m.\u001b[0m\u001b[0mbackend_handler\u001b[0m \u001b[0;32mimport\u001b[0m \u001b[0mBackendHandler\u001b[0m\u001b[0;34m\u001b[0m\u001b[0;34m\u001b[0m\u001b[0m\n\u001b[1;32m      5\u001b[0m \u001b[0;32mfrom\u001b[0m \u001b[0monnx_tf\u001b[0m\u001b[0;34m.\u001b[0m\u001b[0mhandlers\u001b[0m\u001b[0;34m.\u001b[0m\u001b[0mhandler\u001b[0m \u001b[0;32mimport\u001b[0m \u001b[0monnx_op\u001b[0m\u001b[0;34m\u001b[0m\u001b[0;34m\u001b[0m\u001b[0m\n",
            "\u001b[0;32m/usr/local/lib/python3.11/dist-packages/tensorflow_probability/__init__.py\u001b[0m in \u001b[0;36m<module>\u001b[0;34m\u001b[0m\n\u001b[1;32m     20\u001b[0m \u001b[0;31m# from tensorflow_probability.google import staging  # DisableOnExport\u001b[0m\u001b[0;34m\u001b[0m\u001b[0;34m\u001b[0m\u001b[0m\n\u001b[1;32m     21\u001b[0m \u001b[0;31m# from tensorflow_probability.google import tfp_google  # DisableOnExport\u001b[0m\u001b[0;34m\u001b[0m\u001b[0;34m\u001b[0m\u001b[0m\n\u001b[0;32m---> 22\u001b[0;31m \u001b[0;32mfrom\u001b[0m \u001b[0mtensorflow_probability\u001b[0m\u001b[0;34m.\u001b[0m\u001b[0mpython\u001b[0m \u001b[0;32mimport\u001b[0m \u001b[0;34m*\u001b[0m  \u001b[0;31m# pylint: disable=wildcard-import\u001b[0m\u001b[0;34m\u001b[0m\u001b[0;34m\u001b[0m\u001b[0m\n\u001b[0m\u001b[1;32m     23\u001b[0m \u001b[0;32mfrom\u001b[0m \u001b[0mtensorflow_probability\u001b[0m\u001b[0;34m.\u001b[0m\u001b[0mpython\u001b[0m\u001b[0;34m.\u001b[0m\u001b[0mversion\u001b[0m \u001b[0;32mimport\u001b[0m \u001b[0m__version__\u001b[0m\u001b[0;34m\u001b[0m\u001b[0;34m\u001b[0m\u001b[0m\n\u001b[1;32m     24\u001b[0m \u001b[0;34m\u001b[0m\u001b[0m\n",
            "\u001b[0;32m/usr/local/lib/python3.11/dist-packages/tensorflow_probability/python/__init__.py\u001b[0m in \u001b[0;36m<module>\u001b[0;34m\u001b[0m\n\u001b[1;32m    150\u001b[0m   \u001b[0;31m# Non-lazy load of packages that register with tensorflow or keras.\u001b[0m\u001b[0;34m\u001b[0m\u001b[0;34m\u001b[0m\u001b[0m\n\u001b[1;32m    151\u001b[0m   \u001b[0;32mfor\u001b[0m \u001b[0mpkg_name\u001b[0m \u001b[0;32min\u001b[0m \u001b[0m_maybe_nonlazy_load\u001b[0m\u001b[0;34m:\u001b[0m\u001b[0;34m\u001b[0m\u001b[0;34m\u001b[0m\u001b[0m\n\u001b[0;32m--> 152\u001b[0;31m     \u001b[0mdir\u001b[0m\u001b[0;34m(\u001b[0m\u001b[0mglobals\u001b[0m\u001b[0;34m(\u001b[0m\u001b[0;34m)\u001b[0m\u001b[0;34m[\u001b[0m\u001b[0mpkg_name\u001b[0m\u001b[0;34m]\u001b[0m\u001b[0;34m)\u001b[0m  \u001b[0;31m# Forces loading the package from its lazy loader.\u001b[0m\u001b[0;34m\u001b[0m\u001b[0;34m\u001b[0m\u001b[0m\n\u001b[0m\u001b[1;32m    153\u001b[0m \u001b[0;34m\u001b[0m\u001b[0m\n\u001b[1;32m    154\u001b[0m \u001b[0;34m\u001b[0m\u001b[0m\n",
            "\u001b[0;32m/usr/local/lib/python3.11/dist-packages/tensorflow_probability/python/internal/lazy_loader.py\u001b[0m in \u001b[0;36m__dir__\u001b[0;34m(self)\u001b[0m\n\u001b[1;32m     58\u001b[0m \u001b[0;34m\u001b[0m\u001b[0m\n\u001b[1;32m     59\u001b[0m   \u001b[0;32mdef\u001b[0m \u001b[0m__dir__\u001b[0m\u001b[0;34m(\u001b[0m\u001b[0mself\u001b[0m\u001b[0;34m)\u001b[0m\u001b[0;34m:\u001b[0m\u001b[0;34m\u001b[0m\u001b[0;34m\u001b[0m\u001b[0m\n\u001b[0;32m---> 60\u001b[0;31m     \u001b[0mmodule\u001b[0m \u001b[0;34m=\u001b[0m \u001b[0mself\u001b[0m\u001b[0;34m.\u001b[0m\u001b[0m_load\u001b[0m\u001b[0;34m(\u001b[0m\u001b[0;34m)\u001b[0m\u001b[0;34m\u001b[0m\u001b[0;34m\u001b[0m\u001b[0m\n\u001b[0m\u001b[1;32m     61\u001b[0m     \u001b[0;32mreturn\u001b[0m \u001b[0mdir\u001b[0m\u001b[0;34m(\u001b[0m\u001b[0mmodule\u001b[0m\u001b[0;34m)\u001b[0m\u001b[0;34m\u001b[0m\u001b[0;34m\u001b[0m\u001b[0m\n\u001b[1;32m     62\u001b[0m \u001b[0;34m\u001b[0m\u001b[0m\n",
            "\u001b[0;32m/usr/local/lib/python3.11/dist-packages/tensorflow_probability/python/internal/lazy_loader.py\u001b[0m in \u001b[0;36m_load\u001b[0;34m(self)\u001b[0m\n\u001b[1;32m     41\u001b[0m       \u001b[0mself\u001b[0m\u001b[0;34m.\u001b[0m\u001b[0m_on_first_access\u001b[0m \u001b[0;34m=\u001b[0m \u001b[0;32mNone\u001b[0m\u001b[0;34m\u001b[0m\u001b[0;34m\u001b[0m\u001b[0m\n\u001b[1;32m     42\u001b[0m     \u001b[0;31m# Import the target module and insert it into the parent's namespace\u001b[0m\u001b[0;34m\u001b[0m\u001b[0;34m\u001b[0m\u001b[0m\n\u001b[0;32m---> 43\u001b[0;31m     \u001b[0mmodule\u001b[0m \u001b[0;34m=\u001b[0m \u001b[0mimportlib\u001b[0m\u001b[0;34m.\u001b[0m\u001b[0mimport_module\u001b[0m\u001b[0;34m(\u001b[0m\u001b[0mself\u001b[0m\u001b[0;34m.\u001b[0m\u001b[0m__name__\u001b[0m\u001b[0;34m)\u001b[0m\u001b[0;34m\u001b[0m\u001b[0;34m\u001b[0m\u001b[0m\n\u001b[0m\u001b[1;32m     44\u001b[0m     \u001b[0;32mif\u001b[0m \u001b[0mself\u001b[0m\u001b[0;34m.\u001b[0m\u001b[0m_parent_module_globals\u001b[0m \u001b[0;32mis\u001b[0m \u001b[0;32mnot\u001b[0m \u001b[0;32mNone\u001b[0m\u001b[0;34m:\u001b[0m\u001b[0;34m\u001b[0m\u001b[0;34m\u001b[0m\u001b[0m\n\u001b[1;32m     45\u001b[0m       \u001b[0mself\u001b[0m\u001b[0;34m.\u001b[0m\u001b[0m_parent_module_globals\u001b[0m\u001b[0;34m[\u001b[0m\u001b[0mself\u001b[0m\u001b[0;34m.\u001b[0m\u001b[0m_local_name\u001b[0m\u001b[0;34m]\u001b[0m \u001b[0;34m=\u001b[0m \u001b[0mmodule\u001b[0m\u001b[0;34m\u001b[0m\u001b[0;34m\u001b[0m\u001b[0m\n",
            "\u001b[0;32m/usr/lib/python3.11/importlib/__init__.py\u001b[0m in \u001b[0;36mimport_module\u001b[0;34m(name, package)\u001b[0m\n\u001b[1;32m    124\u001b[0m                 \u001b[0;32mbreak\u001b[0m\u001b[0;34m\u001b[0m\u001b[0;34m\u001b[0m\u001b[0m\n\u001b[1;32m    125\u001b[0m             \u001b[0mlevel\u001b[0m \u001b[0;34m+=\u001b[0m \u001b[0;36m1\u001b[0m\u001b[0;34m\u001b[0m\u001b[0;34m\u001b[0m\u001b[0m\n\u001b[0;32m--> 126\u001b[0;31m     \u001b[0;32mreturn\u001b[0m \u001b[0m_bootstrap\u001b[0m\u001b[0;34m.\u001b[0m\u001b[0m_gcd_import\u001b[0m\u001b[0;34m(\u001b[0m\u001b[0mname\u001b[0m\u001b[0;34m[\u001b[0m\u001b[0mlevel\u001b[0m\u001b[0;34m:\u001b[0m\u001b[0;34m]\u001b[0m\u001b[0;34m,\u001b[0m \u001b[0mpackage\u001b[0m\u001b[0;34m,\u001b[0m \u001b[0mlevel\u001b[0m\u001b[0;34m)\u001b[0m\u001b[0;34m\u001b[0m\u001b[0;34m\u001b[0m\u001b[0m\n\u001b[0m\u001b[1;32m    127\u001b[0m \u001b[0;34m\u001b[0m\u001b[0m\n\u001b[1;32m    128\u001b[0m \u001b[0;34m\u001b[0m\u001b[0m\n",
            "\u001b[0;32m/usr/local/lib/python3.11/dist-packages/tensorflow_probability/python/experimental/__init__.py\u001b[0m in \u001b[0;36m<module>\u001b[0;34m\u001b[0m\n\u001b[1;32m     29\u001b[0m \u001b[0;34m\u001b[0m\u001b[0m\n\u001b[1;32m     30\u001b[0m \u001b[0;32mfrom\u001b[0m \u001b[0mtensorflow_probability\u001b[0m\u001b[0;34m.\u001b[0m\u001b[0mpython\u001b[0m\u001b[0;34m.\u001b[0m\u001b[0mexperimental\u001b[0m \u001b[0;32mimport\u001b[0m \u001b[0mauto_batching\u001b[0m\u001b[0;34m\u001b[0m\u001b[0;34m\u001b[0m\u001b[0m\n\u001b[0;32m---> 31\u001b[0;31m \u001b[0;32mfrom\u001b[0m \u001b[0mtensorflow_probability\u001b[0m\u001b[0;34m.\u001b[0m\u001b[0mpython\u001b[0m\u001b[0;34m.\u001b[0m\u001b[0mexperimental\u001b[0m \u001b[0;32mimport\u001b[0m \u001b[0mbayesopt\u001b[0m\u001b[0;34m\u001b[0m\u001b[0;34m\u001b[0m\u001b[0m\n\u001b[0m\u001b[1;32m     32\u001b[0m \u001b[0;32mfrom\u001b[0m \u001b[0mtensorflow_probability\u001b[0m\u001b[0;34m.\u001b[0m\u001b[0mpython\u001b[0m\u001b[0;34m.\u001b[0m\u001b[0mexperimental\u001b[0m \u001b[0;32mimport\u001b[0m \u001b[0mbijectors\u001b[0m\u001b[0;34m\u001b[0m\u001b[0;34m\u001b[0m\u001b[0m\n\u001b[1;32m     33\u001b[0m \u001b[0;32mfrom\u001b[0m \u001b[0mtensorflow_probability\u001b[0m\u001b[0;34m.\u001b[0m\u001b[0mpython\u001b[0m\u001b[0;34m.\u001b[0m\u001b[0mexperimental\u001b[0m \u001b[0;32mimport\u001b[0m \u001b[0mdistribute\u001b[0m\u001b[0;34m\u001b[0m\u001b[0;34m\u001b[0m\u001b[0m\n",
            "\u001b[0;32m/usr/local/lib/python3.11/dist-packages/tensorflow_probability/python/experimental/bayesopt/__init__.py\u001b[0m in \u001b[0;36m<module>\u001b[0;34m\u001b[0m\n\u001b[1;32m     15\u001b[0m \u001b[0;34m\"\"\"TensorFlow Probability experimental Bayesopt package.\"\"\"\u001b[0m\u001b[0;34m\u001b[0m\u001b[0;34m\u001b[0m\u001b[0m\n\u001b[1;32m     16\u001b[0m \u001b[0;34m\u001b[0m\u001b[0m\n\u001b[0;32m---> 17\u001b[0;31m \u001b[0;32mfrom\u001b[0m \u001b[0mtensorflow_probability\u001b[0m\u001b[0;34m.\u001b[0m\u001b[0mpython\u001b[0m\u001b[0;34m.\u001b[0m\u001b[0mexperimental\u001b[0m\u001b[0;34m.\u001b[0m\u001b[0mbayesopt\u001b[0m \u001b[0;32mimport\u001b[0m \u001b[0macquisition\u001b[0m\u001b[0;34m\u001b[0m\u001b[0;34m\u001b[0m\u001b[0m\n\u001b[0m\u001b[1;32m     18\u001b[0m \u001b[0;32mfrom\u001b[0m \u001b[0mtensorflow_probability\u001b[0m\u001b[0;34m.\u001b[0m\u001b[0mpython\u001b[0m\u001b[0;34m.\u001b[0m\u001b[0minternal\u001b[0m \u001b[0;32mimport\u001b[0m \u001b[0mall_util\u001b[0m\u001b[0;34m\u001b[0m\u001b[0;34m\u001b[0m\u001b[0m\n\u001b[1;32m     19\u001b[0m \u001b[0;34m\u001b[0m\u001b[0m\n",
            "\u001b[0;32m/usr/local/lib/python3.11/dist-packages/tensorflow_probability/python/experimental/bayesopt/acquisition/__init__.py\u001b[0m in \u001b[0;36m<module>\u001b[0;34m\u001b[0m\n\u001b[1;32m     17\u001b[0m \u001b[0;32mfrom\u001b[0m \u001b[0mtensorflow_probability\u001b[0m\u001b[0;34m.\u001b[0m\u001b[0mpython\u001b[0m\u001b[0;34m.\u001b[0m\u001b[0mexperimental\u001b[0m\u001b[0;34m.\u001b[0m\u001b[0mbayesopt\u001b[0m\u001b[0;34m.\u001b[0m\u001b[0macquisition\u001b[0m\u001b[0;34m.\u001b[0m\u001b[0macquisition_function\u001b[0m \u001b[0;32mimport\u001b[0m \u001b[0mAcquisitionFunction\u001b[0m\u001b[0;34m\u001b[0m\u001b[0;34m\u001b[0m\u001b[0m\n\u001b[1;32m     18\u001b[0m \u001b[0;32mfrom\u001b[0m \u001b[0mtensorflow_probability\u001b[0m\u001b[0;34m.\u001b[0m\u001b[0mpython\u001b[0m\u001b[0;34m.\u001b[0m\u001b[0mexperimental\u001b[0m\u001b[0;34m.\u001b[0m\u001b[0mbayesopt\u001b[0m\u001b[0;34m.\u001b[0m\u001b[0macquisition\u001b[0m\u001b[0;34m.\u001b[0m\u001b[0macquisition_function\u001b[0m \u001b[0;32mimport\u001b[0m \u001b[0mMCMCReducer\u001b[0m\u001b[0;34m\u001b[0m\u001b[0;34m\u001b[0m\u001b[0m\n\u001b[0;32m---> 19\u001b[0;31m \u001b[0;32mfrom\u001b[0m \u001b[0mtensorflow_probability\u001b[0m\u001b[0;34m.\u001b[0m\u001b[0mpython\u001b[0m\u001b[0;34m.\u001b[0m\u001b[0mexperimental\u001b[0m\u001b[0;34m.\u001b[0m\u001b[0mbayesopt\u001b[0m\u001b[0;34m.\u001b[0m\u001b[0macquisition\u001b[0m\u001b[0;34m.\u001b[0m\u001b[0mexpected_improvement\u001b[0m \u001b[0;32mimport\u001b[0m \u001b[0mGaussianProcessExpectedImprovement\u001b[0m\u001b[0;34m\u001b[0m\u001b[0;34m\u001b[0m\u001b[0m\n\u001b[0m\u001b[1;32m     20\u001b[0m \u001b[0;32mfrom\u001b[0m \u001b[0mtensorflow_probability\u001b[0m\u001b[0;34m.\u001b[0m\u001b[0mpython\u001b[0m\u001b[0;34m.\u001b[0m\u001b[0mexperimental\u001b[0m\u001b[0;34m.\u001b[0m\u001b[0mbayesopt\u001b[0m\u001b[0;34m.\u001b[0m\u001b[0macquisition\u001b[0m\u001b[0;34m.\u001b[0m\u001b[0mexpected_improvement\u001b[0m \u001b[0;32mimport\u001b[0m \u001b[0mParallelExpectedImprovement\u001b[0m\u001b[0;34m\u001b[0m\u001b[0;34m\u001b[0m\u001b[0m\n\u001b[1;32m     21\u001b[0m \u001b[0;32mfrom\u001b[0m \u001b[0mtensorflow_probability\u001b[0m\u001b[0;34m.\u001b[0m\u001b[0mpython\u001b[0m\u001b[0;34m.\u001b[0m\u001b[0mexperimental\u001b[0m\u001b[0;34m.\u001b[0m\u001b[0mbayesopt\u001b[0m\u001b[0;34m.\u001b[0m\u001b[0macquisition\u001b[0m\u001b[0;34m.\u001b[0m\u001b[0mexpected_improvement\u001b[0m \u001b[0;32mimport\u001b[0m \u001b[0mStudentTProcessExpectedImprovement\u001b[0m\u001b[0;34m\u001b[0m\u001b[0;34m\u001b[0m\u001b[0m\n",
            "\u001b[0;32m/usr/local/lib/python3.11/dist-packages/tensorflow_probability/python/experimental/bayesopt/acquisition/expected_improvement.py\u001b[0m in \u001b[0;36m<module>\u001b[0;34m\u001b[0m\n\u001b[1;32m     17\u001b[0m \u001b[0;32mimport\u001b[0m \u001b[0mtensorflow\u001b[0m\u001b[0;34m.\u001b[0m\u001b[0mcompat\u001b[0m\u001b[0;34m.\u001b[0m\u001b[0mv2\u001b[0m \u001b[0;32mas\u001b[0m \u001b[0mtf\u001b[0m\u001b[0;34m\u001b[0m\u001b[0;34m\u001b[0m\u001b[0m\n\u001b[1;32m     18\u001b[0m \u001b[0;34m\u001b[0m\u001b[0m\n\u001b[0;32m---> 19\u001b[0;31m \u001b[0;32mfrom\u001b[0m \u001b[0mtensorflow_probability\u001b[0m\u001b[0;34m.\u001b[0m\u001b[0mpython\u001b[0m\u001b[0;34m.\u001b[0m\u001b[0mdistributions\u001b[0m \u001b[0;32mimport\u001b[0m \u001b[0mnormal\u001b[0m\u001b[0;34m\u001b[0m\u001b[0;34m\u001b[0m\u001b[0m\n\u001b[0m\u001b[1;32m     20\u001b[0m \u001b[0;32mfrom\u001b[0m \u001b[0mtensorflow_probability\u001b[0m\u001b[0;34m.\u001b[0m\u001b[0mpython\u001b[0m\u001b[0;34m.\u001b[0m\u001b[0mdistributions\u001b[0m \u001b[0;32mimport\u001b[0m \u001b[0mstudent_t\u001b[0m\u001b[0;34m\u001b[0m\u001b[0;34m\u001b[0m\u001b[0m\n\u001b[1;32m     21\u001b[0m \u001b[0;32mfrom\u001b[0m \u001b[0mtensorflow_probability\u001b[0m\u001b[0;34m.\u001b[0m\u001b[0mpython\u001b[0m\u001b[0;34m.\u001b[0m\u001b[0mexperimental\u001b[0m\u001b[0;34m.\u001b[0m\u001b[0mbayesopt\u001b[0m\u001b[0;34m.\u001b[0m\u001b[0macquisition\u001b[0m \u001b[0;32mimport\u001b[0m \u001b[0macquisition_function\u001b[0m\u001b[0;34m\u001b[0m\u001b[0;34m\u001b[0m\u001b[0m\n",
            "\u001b[0;32m/usr/local/lib/python3.11/dist-packages/tensorflow_probability/python/distributions/__init__.py\u001b[0m in \u001b[0;36m<module>\u001b[0;34m\u001b[0m\n\u001b[1;32m     18\u001b[0m \u001b[0;31m# Distributions:\u001b[0m\u001b[0;34m\u001b[0m\u001b[0;34m\u001b[0m\u001b[0m\n\u001b[1;32m     19\u001b[0m \u001b[0;32mfrom\u001b[0m \u001b[0mtensorflow_probability\u001b[0m\u001b[0;34m.\u001b[0m\u001b[0mpython\u001b[0m\u001b[0;34m.\u001b[0m\u001b[0mdistributions\u001b[0m\u001b[0;34m.\u001b[0m\u001b[0mautoregressive\u001b[0m \u001b[0;32mimport\u001b[0m \u001b[0mAutoregressive\u001b[0m\u001b[0;34m\u001b[0m\u001b[0;34m\u001b[0m\u001b[0m\n\u001b[0;32m---> 20\u001b[0;31m \u001b[0;32mfrom\u001b[0m \u001b[0mtensorflow_probability\u001b[0m\u001b[0;34m.\u001b[0m\u001b[0mpython\u001b[0m\u001b[0;34m.\u001b[0m\u001b[0mdistributions\u001b[0m\u001b[0;34m.\u001b[0m\u001b[0mbatch_broadcast\u001b[0m \u001b[0;32mimport\u001b[0m \u001b[0mBatchBroadcast\u001b[0m\u001b[0;34m\u001b[0m\u001b[0;34m\u001b[0m\u001b[0m\n\u001b[0m\u001b[1;32m     21\u001b[0m \u001b[0;32mfrom\u001b[0m \u001b[0mtensorflow_probability\u001b[0m\u001b[0;34m.\u001b[0m\u001b[0mpython\u001b[0m\u001b[0;34m.\u001b[0m\u001b[0mdistributions\u001b[0m\u001b[0;34m.\u001b[0m\u001b[0mbatch_concat\u001b[0m \u001b[0;32mimport\u001b[0m \u001b[0mBatchConcat\u001b[0m\u001b[0;34m\u001b[0m\u001b[0;34m\u001b[0m\u001b[0m\n\u001b[1;32m     22\u001b[0m \u001b[0;32mfrom\u001b[0m \u001b[0mtensorflow_probability\u001b[0m\u001b[0;34m.\u001b[0m\u001b[0mpython\u001b[0m\u001b[0;34m.\u001b[0m\u001b[0mdistributions\u001b[0m\u001b[0;34m.\u001b[0m\u001b[0mbatch_reshape\u001b[0m \u001b[0;32mimport\u001b[0m \u001b[0mBatchReshape\u001b[0m\u001b[0;34m\u001b[0m\u001b[0;34m\u001b[0m\u001b[0m\n",
            "\u001b[0;32m/usr/local/lib/python3.11/dist-packages/tensorflow_probability/python/distributions/batch_broadcast.py\u001b[0m in \u001b[0;36m<module>\u001b[0;34m\u001b[0m\n\u001b[1;32m     18\u001b[0m \u001b[0;32mimport\u001b[0m \u001b[0mtensorflow\u001b[0m\u001b[0;34m.\u001b[0m\u001b[0mcompat\u001b[0m\u001b[0;34m.\u001b[0m\u001b[0mv2\u001b[0m \u001b[0;32mas\u001b[0m \u001b[0mtf\u001b[0m\u001b[0;34m\u001b[0m\u001b[0;34m\u001b[0m\u001b[0m\n\u001b[1;32m     19\u001b[0m \u001b[0;34m\u001b[0m\u001b[0m\n\u001b[0;32m---> 20\u001b[0;31m \u001b[0;32mfrom\u001b[0m \u001b[0mtensorflow_probability\u001b[0m\u001b[0;34m.\u001b[0m\u001b[0mpython\u001b[0m\u001b[0;34m.\u001b[0m\u001b[0mbijectors\u001b[0m \u001b[0;32mimport\u001b[0m \u001b[0mbijector\u001b[0m \u001b[0;32mas\u001b[0m \u001b[0mbijector_lib\u001b[0m\u001b[0;34m\u001b[0m\u001b[0;34m\u001b[0m\u001b[0m\n\u001b[0m\u001b[1;32m     21\u001b[0m \u001b[0;32mfrom\u001b[0m \u001b[0mtensorflow_probability\u001b[0m\u001b[0;34m.\u001b[0m\u001b[0mpython\u001b[0m\u001b[0;34m.\u001b[0m\u001b[0mdistributions\u001b[0m \u001b[0;32mimport\u001b[0m \u001b[0mdistribution\u001b[0m \u001b[0;32mas\u001b[0m \u001b[0mdistribution_lib\u001b[0m\u001b[0;34m\u001b[0m\u001b[0;34m\u001b[0m\u001b[0m\n\u001b[1;32m     22\u001b[0m \u001b[0;32mfrom\u001b[0m \u001b[0mtensorflow_probability\u001b[0m\u001b[0;34m.\u001b[0m\u001b[0mpython\u001b[0m\u001b[0;34m.\u001b[0m\u001b[0minternal\u001b[0m \u001b[0;32mimport\u001b[0m \u001b[0massert_util\u001b[0m\u001b[0;34m\u001b[0m\u001b[0;34m\u001b[0m\u001b[0m\n",
            "\u001b[0;32m/usr/local/lib/python3.11/dist-packages/tensorflow_probability/python/bijectors/__init__.py\u001b[0m in \u001b[0;36m<module>\u001b[0;34m\u001b[0m\n\u001b[1;32m     19\u001b[0m \u001b[0;32mfrom\u001b[0m \u001b[0mtensorflow_probability\u001b[0m\u001b[0;34m.\u001b[0m\u001b[0mpython\u001b[0m\u001b[0;34m.\u001b[0m\u001b[0mbijectors\u001b[0m\u001b[0;34m.\u001b[0m\u001b[0mabsolute_value\u001b[0m \u001b[0;32mimport\u001b[0m \u001b[0mAbsoluteValue\u001b[0m\u001b[0;34m\u001b[0m\u001b[0;34m\u001b[0m\u001b[0m\n\u001b[1;32m     20\u001b[0m \u001b[0;32mfrom\u001b[0m \u001b[0mtensorflow_probability\u001b[0m\u001b[0;34m.\u001b[0m\u001b[0mpython\u001b[0m\u001b[0;34m.\u001b[0m\u001b[0mbijectors\u001b[0m\u001b[0;34m.\u001b[0m\u001b[0mascending\u001b[0m \u001b[0;32mimport\u001b[0m \u001b[0mAscending\u001b[0m\u001b[0;34m\u001b[0m\u001b[0;34m\u001b[0m\u001b[0m\n\u001b[0;32m---> 21\u001b[0;31m \u001b[0;32mfrom\u001b[0m \u001b[0mtensorflow_probability\u001b[0m\u001b[0;34m.\u001b[0m\u001b[0mpython\u001b[0m\u001b[0;34m.\u001b[0m\u001b[0mbijectors\u001b[0m\u001b[0;34m.\u001b[0m\u001b[0mbatch_normalization\u001b[0m \u001b[0;32mimport\u001b[0m \u001b[0mBatchNormalization\u001b[0m\u001b[0;34m\u001b[0m\u001b[0;34m\u001b[0m\u001b[0m\n\u001b[0m\u001b[1;32m     22\u001b[0m \u001b[0;32mfrom\u001b[0m \u001b[0mtensorflow_probability\u001b[0m\u001b[0;34m.\u001b[0m\u001b[0mpython\u001b[0m\u001b[0;34m.\u001b[0m\u001b[0mbijectors\u001b[0m\u001b[0;34m.\u001b[0m\u001b[0mbijector\u001b[0m \u001b[0;32mimport\u001b[0m \u001b[0mAutoCompositeTensorBijector\u001b[0m\u001b[0;34m\u001b[0m\u001b[0;34m\u001b[0m\u001b[0m\n\u001b[1;32m     23\u001b[0m \u001b[0;32mfrom\u001b[0m \u001b[0mtensorflow_probability\u001b[0m\u001b[0;34m.\u001b[0m\u001b[0mpython\u001b[0m\u001b[0;34m.\u001b[0m\u001b[0mbijectors\u001b[0m\u001b[0;34m.\u001b[0m\u001b[0mbijector\u001b[0m \u001b[0;32mimport\u001b[0m \u001b[0mBijector\u001b[0m\u001b[0;34m\u001b[0m\u001b[0;34m\u001b[0m\u001b[0m\n",
            "\u001b[0;32m/usr/local/lib/python3.11/dist-packages/tensorflow_probability/python/bijectors/batch_normalization.py\u001b[0m in \u001b[0;36m<module>\u001b[0;34m\u001b[0m\n\u001b[1;32m     20\u001b[0m \u001b[0;34m\u001b[0m\u001b[0m\n\u001b[1;32m     21\u001b[0m \u001b[0;32mfrom\u001b[0m \u001b[0mtensorflow_probability\u001b[0m\u001b[0;34m.\u001b[0m\u001b[0mpython\u001b[0m\u001b[0;34m.\u001b[0m\u001b[0mbijectors\u001b[0m \u001b[0;32mimport\u001b[0m \u001b[0mbijector\u001b[0m\u001b[0;34m\u001b[0m\u001b[0;34m\u001b[0m\u001b[0m\n\u001b[0;32m---> 22\u001b[0;31m \u001b[0;32mfrom\u001b[0m \u001b[0mtensorflow_probability\u001b[0m\u001b[0;34m.\u001b[0m\u001b[0mpython\u001b[0m\u001b[0;34m.\u001b[0m\u001b[0minternal\u001b[0m \u001b[0;32mimport\u001b[0m \u001b[0mtf_keras\u001b[0m\u001b[0;34m\u001b[0m\u001b[0;34m\u001b[0m\u001b[0m\n\u001b[0m\u001b[1;32m     23\u001b[0m \u001b[0;34m\u001b[0m\u001b[0m\n\u001b[1;32m     24\u001b[0m \u001b[0;34m\u001b[0m\u001b[0m\n",
            "\u001b[0;32m/usr/local/lib/python3.11/dist-packages/tensorflow_probability/python/internal/tf_keras.py\u001b[0m in \u001b[0;36m<module>\u001b[0;34m\u001b[0m\n\u001b[1;32m     22\u001b[0m \u001b[0;31m# pylint: disable=wildcard-import\u001b[0m\u001b[0;34m\u001b[0m\u001b[0;34m\u001b[0m\u001b[0m\n\u001b[1;32m     23\u001b[0m \u001b[0;32mtry\u001b[0m\u001b[0;34m:\u001b[0m\u001b[0;34m\u001b[0m\u001b[0;34m\u001b[0m\u001b[0m\n\u001b[0;32m---> 24\u001b[0;31m   \u001b[0m_keras_version_fn\u001b[0m \u001b[0;34m=\u001b[0m \u001b[0mgetattr\u001b[0m\u001b[0;34m(\u001b[0m\u001b[0mtf\u001b[0m\u001b[0;34m.\u001b[0m\u001b[0mkeras\u001b[0m\u001b[0;34m,\u001b[0m \u001b[0;34m\"version\"\u001b[0m\u001b[0;34m,\u001b[0m \u001b[0;32mNone\u001b[0m\u001b[0;34m)\u001b[0m\u001b[0;34m\u001b[0m\u001b[0;34m\u001b[0m\u001b[0m\n\u001b[0m\u001b[1;32m     25\u001b[0m   \u001b[0m_use_tf_keras\u001b[0m \u001b[0;34m=\u001b[0m \u001b[0m_keras_version_fn\u001b[0m \u001b[0;32mand\u001b[0m \u001b[0m_keras_version_fn\u001b[0m\u001b[0;34m(\u001b[0m\u001b[0;34m)\u001b[0m\u001b[0;34m.\u001b[0m\u001b[0mstartswith\u001b[0m\u001b[0;34m(\u001b[0m\u001b[0;34m\"3.\"\u001b[0m\u001b[0;34m)\u001b[0m\u001b[0;34m\u001b[0m\u001b[0;34m\u001b[0m\u001b[0m\n\u001b[1;32m     26\u001b[0m   \u001b[0;32mdel\u001b[0m \u001b[0m_keras_version_fn\u001b[0m\u001b[0;34m\u001b[0m\u001b[0;34m\u001b[0m\u001b[0m\n",
            "\u001b[0;32m/usr/local/lib/python3.11/dist-packages/tensorflow/python/util/lazy_loader.py\u001b[0m in \u001b[0;36m__getattr__\u001b[0;34m(self, item)\u001b[0m\n",
            "... last 1 frames repeated, from the frame below ...\n",
            "\u001b[0;32m/usr/local/lib/python3.11/dist-packages/tensorflow/python/util/lazy_loader.py\u001b[0m in \u001b[0;36m__getattr__\u001b[0;34m(self, item)\u001b[0m\n",
            "\u001b[0;31mRecursionError\u001b[0m: maximum recursion depth exceeded in comparison"
          ]
        }
      ],
      "source": [
        "!pip install torch torchvision torchaudio --upgrade --index-url https://download.pytorch.org/whl/cu118\n",
        "!pip install tensorflow==2.12.0\n",
        "!pip install tensorflow-addons==0.20.0  # Install a compatible tensorflow_addons version\n",
        "!pip install keras==2.13.1 # Install a compatible Keras version for tf_utils\n",
        "!pip install onnx-tf\n",
        "\n",
        "import torch\n",
        "import tensorflow as tf\n",
        "import numpy as np\n",
        "from ultralytics.nn.tasks import ClassificationModel # Import the ClassificationModel class\n",
        "import pickle\n",
        "\n",
        "# Carregar o modelo YOLO-CLS treinado\n",
        "# Set weights_only to False and explicitly allow the ClassificationModel class\n",
        "checkpoint = torch.load(\"/content/runs/classify/train95/weights/best.pt\",\n",
        "                   map_location=torch.device('cpu'),\n",
        "                   weights_only=False,  # Load the entire model, including architecture\n",
        "                   #pickle_module=pickle,\n",
        "                   #pickle_load_args={'safe_globals': [ClassificationModel]}  # Allow the ClassificationModel global\n",
        "                  )\n",
        "model = checkpoint['model']\n",
        "model.eval()\n",
        "\n",
        "dummy_input = torch.randn(1, 3, 256, 256, dtype=torch.float16) # Change to float16\n",
        "\n",
        "# Converter modelo para formato ONNX (intermediário antes de TFLite)\n",
        "onnx_model_path = \"model.onnx\"\n",
        "#dummy_input = torch.randn(1, 3, 256, 256)  # Ajuste conforme necessário\n",
        "torch.onnx.export(model, dummy_input, onnx_model_path, input_names=[\"input\"], output_names=[\"output\"], opset_version=11)\n",
        "\n",
        "# Converter ONNX para TensorFlow\n",
        "import onnx\n",
        "from onnx_tf.backend import prepare\n",
        "\n",
        "onnx_model = onnx.load(onnx_model_path)\n",
        "tf_rep = prepare(onnx_model)\n",
        "tf_model_path = \"model_tf\"\n",
        "tf_rep.export_graph(tf_model_path)\n",
        "\n",
        "# Converter modelo TensorFlow para TensorFlow Lite\n",
        "converter = tf.lite.TFLiteConverter.from_saved_model(tf_model_path)\n",
        "tflite_model = converter.convert()\n",
        "\n",
        "# Salvar modelo TFLite\n",
        "with open(\"model.tflite\", \"wb\") as f:\n",
        "    f.write(tflite_model)\n",
        "\n",
        "print(\"Conversão concluída: modelo salvo como model.tflite\")\n"
      ]
    }
  ],
  "metadata": {
    "accelerator": "GPU",
    "colab": {
      "gpuType": "T4",
      "machine_shape": "hm",
      "provenance": []
    },
    "kernelspec": {
      "display_name": "Python 3",
      "name": "python3"
    },
    "language_info": {
      "name": "python"
    }
  },
  "nbformat": 4,
  "nbformat_minor": 0
}