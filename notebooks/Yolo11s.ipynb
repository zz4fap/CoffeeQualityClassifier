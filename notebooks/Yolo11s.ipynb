{
  "cells": [
    {
      "cell_type": "code",
      "execution_count": 1,
      "metadata": {
        "colab": {
          "base_uri": "https://localhost:8080/"
        },
        "id": "feLkDX84Rv42",
        "outputId": "9661c5d2-67ec-423f-9428-4704d643a939"
      },
      "outputs": [
        {
          "output_type": "stream",
          "name": "stdout",
          "text": [
            "Collecting ultralytics\n",
            "  Downloading ultralytics-8.3.159-py3-none-any.whl.metadata (37 kB)\n",
            "Requirement already satisfied: numpy>=1.23.0 in /usr/local/lib/python3.11/dist-packages (from ultralytics) (2.0.2)\n",
            "Requirement already satisfied: matplotlib>=3.3.0 in /usr/local/lib/python3.11/dist-packages (from ultralytics) (3.10.0)\n",
            "Requirement already satisfied: opencv-python>=4.6.0 in /usr/local/lib/python3.11/dist-packages (from ultralytics) (4.11.0.86)\n",
            "Requirement already satisfied: pillow>=7.1.2 in /usr/local/lib/python3.11/dist-packages (from ultralytics) (11.2.1)\n",
            "Requirement already satisfied: pyyaml>=5.3.1 in /usr/local/lib/python3.11/dist-packages (from ultralytics) (6.0.2)\n",
            "Requirement already satisfied: requests>=2.23.0 in /usr/local/lib/python3.11/dist-packages (from ultralytics) (2.32.3)\n",
            "Requirement already satisfied: scipy>=1.4.1 in /usr/local/lib/python3.11/dist-packages (from ultralytics) (1.15.3)\n",
            "Requirement already satisfied: torch>=1.8.0 in /usr/local/lib/python3.11/dist-packages (from ultralytics) (2.6.0+cu124)\n",
            "Requirement already satisfied: torchvision>=0.9.0 in /usr/local/lib/python3.11/dist-packages (from ultralytics) (0.21.0+cu124)\n",
            "Requirement already satisfied: tqdm>=4.64.0 in /usr/local/lib/python3.11/dist-packages (from ultralytics) (4.67.1)\n",
            "Requirement already satisfied: psutil in /usr/local/lib/python3.11/dist-packages (from ultralytics) (5.9.5)\n",
            "Requirement already satisfied: py-cpuinfo in /usr/local/lib/python3.11/dist-packages (from ultralytics) (9.0.0)\n",
            "Requirement already satisfied: pandas>=1.1.4 in /usr/local/lib/python3.11/dist-packages (from ultralytics) (2.2.2)\n",
            "Collecting ultralytics-thop>=2.0.0 (from ultralytics)\n",
            "  Downloading ultralytics_thop-2.0.14-py3-none-any.whl.metadata (9.4 kB)\n",
            "Requirement already satisfied: contourpy>=1.0.1 in /usr/local/lib/python3.11/dist-packages (from matplotlib>=3.3.0->ultralytics) (1.3.2)\n",
            "Requirement already satisfied: cycler>=0.10 in /usr/local/lib/python3.11/dist-packages (from matplotlib>=3.3.0->ultralytics) (0.12.1)\n",
            "Requirement already satisfied: fonttools>=4.22.0 in /usr/local/lib/python3.11/dist-packages (from matplotlib>=3.3.0->ultralytics) (4.58.4)\n",
            "Requirement already satisfied: kiwisolver>=1.3.1 in /usr/local/lib/python3.11/dist-packages (from matplotlib>=3.3.0->ultralytics) (1.4.8)\n",
            "Requirement already satisfied: packaging>=20.0 in /usr/local/lib/python3.11/dist-packages (from matplotlib>=3.3.0->ultralytics) (24.2)\n",
            "Requirement already satisfied: pyparsing>=2.3.1 in /usr/local/lib/python3.11/dist-packages (from matplotlib>=3.3.0->ultralytics) (3.2.3)\n",
            "Requirement already satisfied: python-dateutil>=2.7 in /usr/local/lib/python3.11/dist-packages (from matplotlib>=3.3.0->ultralytics) (2.9.0.post0)\n",
            "Requirement already satisfied: pytz>=2020.1 in /usr/local/lib/python3.11/dist-packages (from pandas>=1.1.4->ultralytics) (2025.2)\n",
            "Requirement already satisfied: tzdata>=2022.7 in /usr/local/lib/python3.11/dist-packages (from pandas>=1.1.4->ultralytics) (2025.2)\n",
            "Requirement already satisfied: charset-normalizer<4,>=2 in /usr/local/lib/python3.11/dist-packages (from requests>=2.23.0->ultralytics) (3.4.2)\n",
            "Requirement already satisfied: idna<4,>=2.5 in /usr/local/lib/python3.11/dist-packages (from requests>=2.23.0->ultralytics) (3.10)\n",
            "Requirement already satisfied: urllib3<3,>=1.21.1 in /usr/local/lib/python3.11/dist-packages (from requests>=2.23.0->ultralytics) (2.4.0)\n",
            "Requirement already satisfied: certifi>=2017.4.17 in /usr/local/lib/python3.11/dist-packages (from requests>=2.23.0->ultralytics) (2025.6.15)\n",
            "Requirement already satisfied: filelock in /usr/local/lib/python3.11/dist-packages (from torch>=1.8.0->ultralytics) (3.18.0)\n",
            "Requirement already satisfied: typing-extensions>=4.10.0 in /usr/local/lib/python3.11/dist-packages (from torch>=1.8.0->ultralytics) (4.14.0)\n",
            "Requirement already satisfied: networkx in /usr/local/lib/python3.11/dist-packages (from torch>=1.8.0->ultralytics) (3.5)\n",
            "Requirement already satisfied: jinja2 in /usr/local/lib/python3.11/dist-packages (from torch>=1.8.0->ultralytics) (3.1.6)\n",
            "Requirement already satisfied: fsspec in /usr/local/lib/python3.11/dist-packages (from torch>=1.8.0->ultralytics) (2025.3.2)\n",
            "Collecting nvidia-cuda-nvrtc-cu12==12.4.127 (from torch>=1.8.0->ultralytics)\n",
            "  Downloading nvidia_cuda_nvrtc_cu12-12.4.127-py3-none-manylinux2014_x86_64.whl.metadata (1.5 kB)\n",
            "Collecting nvidia-cuda-runtime-cu12==12.4.127 (from torch>=1.8.0->ultralytics)\n",
            "  Downloading nvidia_cuda_runtime_cu12-12.4.127-py3-none-manylinux2014_x86_64.whl.metadata (1.5 kB)\n",
            "Collecting nvidia-cuda-cupti-cu12==12.4.127 (from torch>=1.8.0->ultralytics)\n",
            "  Downloading nvidia_cuda_cupti_cu12-12.4.127-py3-none-manylinux2014_x86_64.whl.metadata (1.6 kB)\n",
            "Collecting nvidia-cudnn-cu12==9.1.0.70 (from torch>=1.8.0->ultralytics)\n",
            "  Downloading nvidia_cudnn_cu12-9.1.0.70-py3-none-manylinux2014_x86_64.whl.metadata (1.6 kB)\n",
            "Collecting nvidia-cublas-cu12==12.4.5.8 (from torch>=1.8.0->ultralytics)\n",
            "  Downloading nvidia_cublas_cu12-12.4.5.8-py3-none-manylinux2014_x86_64.whl.metadata (1.5 kB)\n",
            "Collecting nvidia-cufft-cu12==11.2.1.3 (from torch>=1.8.0->ultralytics)\n",
            "  Downloading nvidia_cufft_cu12-11.2.1.3-py3-none-manylinux2014_x86_64.whl.metadata (1.5 kB)\n",
            "Collecting nvidia-curand-cu12==10.3.5.147 (from torch>=1.8.0->ultralytics)\n",
            "  Downloading nvidia_curand_cu12-10.3.5.147-py3-none-manylinux2014_x86_64.whl.metadata (1.5 kB)\n",
            "Collecting nvidia-cusolver-cu12==11.6.1.9 (from torch>=1.8.0->ultralytics)\n",
            "  Downloading nvidia_cusolver_cu12-11.6.1.9-py3-none-manylinux2014_x86_64.whl.metadata (1.6 kB)\n",
            "Collecting nvidia-cusparse-cu12==12.3.1.170 (from torch>=1.8.0->ultralytics)\n",
            "  Downloading nvidia_cusparse_cu12-12.3.1.170-py3-none-manylinux2014_x86_64.whl.metadata (1.6 kB)\n",
            "Requirement already satisfied: nvidia-cusparselt-cu12==0.6.2 in /usr/local/lib/python3.11/dist-packages (from torch>=1.8.0->ultralytics) (0.6.2)\n",
            "Requirement already satisfied: nvidia-nccl-cu12==2.21.5 in /usr/local/lib/python3.11/dist-packages (from torch>=1.8.0->ultralytics) (2.21.5)\n",
            "Requirement already satisfied: nvidia-nvtx-cu12==12.4.127 in /usr/local/lib/python3.11/dist-packages (from torch>=1.8.0->ultralytics) (12.4.127)\n",
            "Collecting nvidia-nvjitlink-cu12==12.4.127 (from torch>=1.8.0->ultralytics)\n",
            "  Downloading nvidia_nvjitlink_cu12-12.4.127-py3-none-manylinux2014_x86_64.whl.metadata (1.5 kB)\n",
            "Requirement already satisfied: triton==3.2.0 in /usr/local/lib/python3.11/dist-packages (from torch>=1.8.0->ultralytics) (3.2.0)\n",
            "Requirement already satisfied: sympy==1.13.1 in /usr/local/lib/python3.11/dist-packages (from torch>=1.8.0->ultralytics) (1.13.1)\n",
            "Requirement already satisfied: mpmath<1.4,>=1.1.0 in /usr/local/lib/python3.11/dist-packages (from sympy==1.13.1->torch>=1.8.0->ultralytics) (1.3.0)\n",
            "Requirement already satisfied: six>=1.5 in /usr/local/lib/python3.11/dist-packages (from python-dateutil>=2.7->matplotlib>=3.3.0->ultralytics) (1.17.0)\n",
            "Requirement already satisfied: MarkupSafe>=2.0 in /usr/local/lib/python3.11/dist-packages (from jinja2->torch>=1.8.0->ultralytics) (3.0.2)\n",
            "Downloading ultralytics-8.3.159-py3-none-any.whl (1.0 MB)\n",
            "\u001b[2K   \u001b[90m━━━━━━━━━━━━━━━━━━━━━━━━━━━━━━━━━━━━━━━━\u001b[0m \u001b[32m1.0/1.0 MB\u001b[0m \u001b[31m17.4 MB/s\u001b[0m eta \u001b[36m0:00:00\u001b[0m\n",
            "\u001b[?25hDownloading nvidia_cublas_cu12-12.4.5.8-py3-none-manylinux2014_x86_64.whl (363.4 MB)\n",
            "\u001b[2K   \u001b[90m━━━━━━━━━━━━━━━━━━━━━━━━━━━━━━━━━━━━━━━━\u001b[0m \u001b[32m363.4/363.4 MB\u001b[0m \u001b[31m3.1 MB/s\u001b[0m eta \u001b[36m0:00:00\u001b[0m\n",
            "\u001b[?25hDownloading nvidia_cuda_cupti_cu12-12.4.127-py3-none-manylinux2014_x86_64.whl (13.8 MB)\n",
            "\u001b[2K   \u001b[90m━━━━━━━━━━━━━━━━━━━━━━━━━━━━━━━━━━━━━━━━\u001b[0m \u001b[32m13.8/13.8 MB\u001b[0m \u001b[31m124.8 MB/s\u001b[0m eta \u001b[36m0:00:00\u001b[0m\n",
            "\u001b[?25hDownloading nvidia_cuda_nvrtc_cu12-12.4.127-py3-none-manylinux2014_x86_64.whl (24.6 MB)\n",
            "\u001b[2K   \u001b[90m━━━━━━━━━━━━━━━━━━━━━━━━━━━━━━━━━━━━━━━━\u001b[0m \u001b[32m24.6/24.6 MB\u001b[0m \u001b[31m95.4 MB/s\u001b[0m eta \u001b[36m0:00:00\u001b[0m\n",
            "\u001b[?25hDownloading nvidia_cuda_runtime_cu12-12.4.127-py3-none-manylinux2014_x86_64.whl (883 kB)\n",
            "\u001b[2K   \u001b[90m━━━━━━━━━━━━━━━━━━━━━━━━━━━━━━━━━━━━━━━━\u001b[0m \u001b[32m883.7/883.7 kB\u001b[0m \u001b[31m71.0 MB/s\u001b[0m eta \u001b[36m0:00:00\u001b[0m\n",
            "\u001b[?25hDownloading nvidia_cudnn_cu12-9.1.0.70-py3-none-manylinux2014_x86_64.whl (664.8 MB)\n",
            "\u001b[2K   \u001b[90m━━━━━━━━━━━━━━━━━━━━━━━━━━━━━━━━━━━━━━━━\u001b[0m \u001b[32m664.8/664.8 MB\u001b[0m \u001b[31m2.3 MB/s\u001b[0m eta \u001b[36m0:00:00\u001b[0m\n",
            "\u001b[?25hDownloading nvidia_cufft_cu12-11.2.1.3-py3-none-manylinux2014_x86_64.whl (211.5 MB)\n",
            "\u001b[2K   \u001b[90m━━━━━━━━━━━━━━━━━━━━━━━━━━━━━━━━━━━━━━━━\u001b[0m \u001b[32m211.5/211.5 MB\u001b[0m \u001b[31m4.9 MB/s\u001b[0m eta \u001b[36m0:00:00\u001b[0m\n",
            "\u001b[?25hDownloading nvidia_curand_cu12-10.3.5.147-py3-none-manylinux2014_x86_64.whl (56.3 MB)\n",
            "\u001b[2K   \u001b[90m━━━━━━━━━━━━━━━━━━━━━━━━━━━━━━━━━━━━━━━━\u001b[0m \u001b[32m56.3/56.3 MB\u001b[0m \u001b[31m44.9 MB/s\u001b[0m eta \u001b[36m0:00:00\u001b[0m\n",
            "\u001b[?25hDownloading nvidia_cusolver_cu12-11.6.1.9-py3-none-manylinux2014_x86_64.whl (127.9 MB)\n",
            "\u001b[2K   \u001b[90m━━━━━━━━━━━━━━━━━━━━━━━━━━━━━━━━━━━━━━━━\u001b[0m \u001b[32m127.9/127.9 MB\u001b[0m \u001b[31m20.7 MB/s\u001b[0m eta \u001b[36m0:00:00\u001b[0m\n",
            "\u001b[?25hDownloading nvidia_cusparse_cu12-12.3.1.170-py3-none-manylinux2014_x86_64.whl (207.5 MB)\n",
            "\u001b[2K   \u001b[90m━━━━━━━━━━━━━━━━━━━━━━━━━━━━━━━━━━━━━━━━\u001b[0m \u001b[32m207.5/207.5 MB\u001b[0m \u001b[31m4.2 MB/s\u001b[0m eta \u001b[36m0:00:00\u001b[0m\n",
            "\u001b[?25hDownloading nvidia_nvjitlink_cu12-12.4.127-py3-none-manylinux2014_x86_64.whl (21.1 MB)\n",
            "\u001b[2K   \u001b[90m━━━━━━━━━━━━━━━━━━━━━━━━━━━━━━━━━━━━━━━━\u001b[0m \u001b[32m21.1/21.1 MB\u001b[0m \u001b[31m101.8 MB/s\u001b[0m eta \u001b[36m0:00:00\u001b[0m\n",
            "\u001b[?25hDownloading ultralytics_thop-2.0.14-py3-none-any.whl (26 kB)\n",
            "Installing collected packages: nvidia-nvjitlink-cu12, nvidia-curand-cu12, nvidia-cufft-cu12, nvidia-cuda-runtime-cu12, nvidia-cuda-nvrtc-cu12, nvidia-cuda-cupti-cu12, nvidia-cublas-cu12, nvidia-cusparse-cu12, nvidia-cudnn-cu12, nvidia-cusolver-cu12, ultralytics-thop, ultralytics\n",
            "  Attempting uninstall: nvidia-nvjitlink-cu12\n",
            "    Found existing installation: nvidia-nvjitlink-cu12 12.5.82\n",
            "    Uninstalling nvidia-nvjitlink-cu12-12.5.82:\n",
            "      Successfully uninstalled nvidia-nvjitlink-cu12-12.5.82\n",
            "  Attempting uninstall: nvidia-curand-cu12\n",
            "    Found existing installation: nvidia-curand-cu12 10.3.6.82\n",
            "    Uninstalling nvidia-curand-cu12-10.3.6.82:\n",
            "      Successfully uninstalled nvidia-curand-cu12-10.3.6.82\n",
            "  Attempting uninstall: nvidia-cufft-cu12\n",
            "    Found existing installation: nvidia-cufft-cu12 11.2.3.61\n",
            "    Uninstalling nvidia-cufft-cu12-11.2.3.61:\n",
            "      Successfully uninstalled nvidia-cufft-cu12-11.2.3.61\n",
            "  Attempting uninstall: nvidia-cuda-runtime-cu12\n",
            "    Found existing installation: nvidia-cuda-runtime-cu12 12.5.82\n",
            "    Uninstalling nvidia-cuda-runtime-cu12-12.5.82:\n",
            "      Successfully uninstalled nvidia-cuda-runtime-cu12-12.5.82\n",
            "  Attempting uninstall: nvidia-cuda-nvrtc-cu12\n",
            "    Found existing installation: nvidia-cuda-nvrtc-cu12 12.5.82\n",
            "    Uninstalling nvidia-cuda-nvrtc-cu12-12.5.82:\n",
            "      Successfully uninstalled nvidia-cuda-nvrtc-cu12-12.5.82\n",
            "  Attempting uninstall: nvidia-cuda-cupti-cu12\n",
            "    Found existing installation: nvidia-cuda-cupti-cu12 12.5.82\n",
            "    Uninstalling nvidia-cuda-cupti-cu12-12.5.82:\n",
            "      Successfully uninstalled nvidia-cuda-cupti-cu12-12.5.82\n",
            "  Attempting uninstall: nvidia-cublas-cu12\n",
            "    Found existing installation: nvidia-cublas-cu12 12.5.3.2\n",
            "    Uninstalling nvidia-cublas-cu12-12.5.3.2:\n",
            "      Successfully uninstalled nvidia-cublas-cu12-12.5.3.2\n",
            "  Attempting uninstall: nvidia-cusparse-cu12\n",
            "    Found existing installation: nvidia-cusparse-cu12 12.5.1.3\n",
            "    Uninstalling nvidia-cusparse-cu12-12.5.1.3:\n",
            "      Successfully uninstalled nvidia-cusparse-cu12-12.5.1.3\n",
            "  Attempting uninstall: nvidia-cudnn-cu12\n",
            "    Found existing installation: nvidia-cudnn-cu12 9.3.0.75\n",
            "    Uninstalling nvidia-cudnn-cu12-9.3.0.75:\n",
            "      Successfully uninstalled nvidia-cudnn-cu12-9.3.0.75\n",
            "  Attempting uninstall: nvidia-cusolver-cu12\n",
            "    Found existing installation: nvidia-cusolver-cu12 11.6.3.83\n",
            "    Uninstalling nvidia-cusolver-cu12-11.6.3.83:\n",
            "      Successfully uninstalled nvidia-cusolver-cu12-11.6.3.83\n",
            "Successfully installed nvidia-cublas-cu12-12.4.5.8 nvidia-cuda-cupti-cu12-12.4.127 nvidia-cuda-nvrtc-cu12-12.4.127 nvidia-cuda-runtime-cu12-12.4.127 nvidia-cudnn-cu12-9.1.0.70 nvidia-cufft-cu12-11.2.1.3 nvidia-curand-cu12-10.3.5.147 nvidia-cusolver-cu12-11.6.1.9 nvidia-cusparse-cu12-12.3.1.170 nvidia-nvjitlink-cu12-12.4.127 ultralytics-8.3.159 ultralytics-thop-2.0.14\n"
          ]
        }
      ],
      "source": [
        "!pip install ultralytics"
      ]
    },
    {
      "cell_type": "code",
      "source": [
        "from google.colab import drive\n",
        "drive.mount('/content/drive')"
      ],
      "metadata": {
        "colab": {
          "base_uri": "https://localhost:8080/"
        },
        "id": "R18dFZOhPH3Q",
        "outputId": "b17b18ef-3206-4220-8fd1-c0cae5fece19"
      },
      "execution_count": 2,
      "outputs": [
        {
          "output_type": "stream",
          "name": "stdout",
          "text": [
            "Drive already mounted at /content/drive; to attempt to forcibly remount, call drive.mount(\"/content/drive\", force_remount=True).\n"
          ]
        }
      ]
    },
    {
      "cell_type": "code",
      "execution_count": 3,
      "metadata": {
        "id": "wqRxWokFT7oT"
      },
      "outputs": [],
      "source": [
        "import os\n",
        "\n",
        "data_dir = ('/content/drive/MyDrive/TypeCoffee.v25i.folder')\n",
        "train_dir = os.path.join(data_dir, 'train')\n",
        "validation_dir = os.path.join(data_dir, 'val')"
      ]
    },
    {
      "cell_type": "code",
      "execution_count": 5,
      "metadata": {
        "colab": {
          "base_uri": "https://localhost:8080/"
        },
        "id": "H3PQw-EoQ-47",
        "outputId": "156734e1-f1b5-42d5-ae65-b6bb978c323b"
      },
      "outputs": [
        {
          "output_type": "stream",
          "name": "stdout",
          "text": [
            "YOLO11s-cls summary: 86 layers, 6,724,008 parameters, 6,724,008 gradients, 13.2 GFLOPs\n",
            "YOLO11s-cls summary: 86 layers, 6,724,008 parameters, 6,724,008 gradients, 13.2 GFLOPs\n",
            "Transferred 236/236 items from pretrained weights\n",
            "Ultralytics 8.3.159 🚀 Python-3.11.13 torch-2.6.0+cu124 CUDA:0 (Tesla T4, 15095MiB)\n",
            "\u001b[34m\u001b[1mengine/trainer: \u001b[0magnostic_nms=False, amp=True, augment=False, auto_augment=randaugment, batch=32, bgr=0.0, box=7.5, cache=False, cfg=None, classes=None, close_mosaic=10, cls=0.5, conf=None, copy_paste=0.0, copy_paste_mode=flip, cos_lr=False, cutmix=0.0, data=/content/drive/MyDrive/TypeCoffee.v25i.folder/, degrees=0.0, deterministic=True, device=None, dfl=1.5, dnn=False, dropout=0.0, dynamic=False, embed=None, epochs=100, erasing=0.4, exist_ok=False, fliplr=0.5, flipud=0.0, format=torchscript, fraction=1.0, freeze=None, half=False, hsv_h=0.015, hsv_s=0.7, hsv_v=0.4, imgsz=256, int8=False, iou=0.7, keras=False, kobj=1.0, line_width=None, lr0=0.01, lrf=0.01, mask_ratio=4, max_det=300, mixup=0.0, mode=train, model=yolo11s-cls.yaml, momentum=0.937, mosaic=1.0, multi_scale=False, name=train2, nbs=64, nms=False, opset=None, optimize=False, optimizer=auto, overlap_mask=True, patience=100, perspective=0.0, plots=True, pose=12.0, pretrained=yolo11s-cls.pt, profile=False, project=None, rect=False, resume=False, retina_masks=False, save=True, save_conf=False, save_crop=False, save_dir=runs/classify/train2, save_frames=False, save_json=False, save_period=-1, save_txt=False, scale=0.5, seed=0, shear=0.0, show=False, show_boxes=True, show_conf=True, show_labels=True, simplify=True, single_cls=False, source=None, split=val, stream_buffer=False, task=classify, time=None, tracker=botsort.yaml, translate=0.1, val=True, verbose=True, vid_stride=1, visualize=False, warmup_bias_lr=0.1, warmup_epochs=3.0, warmup_momentum=0.8, weight_decay=0.0005, workers=8, workspace=None\n",
            "\u001b[34m\u001b[1mtrain:\u001b[0m /content/drive/MyDrive/TypeCoffee.v25i.folder/train... found 1049 images in 5 classes ✅ \n",
            "\u001b[34m\u001b[1mval:\u001b[0m /content/drive/MyDrive/TypeCoffee.v25i.folder/val... found 60 images in 5 classes ✅ \n",
            "\u001b[34m\u001b[1mtest:\u001b[0m /content/drive/MyDrive/TypeCoffee.v25i.folder/test... found 100 images in 5 classes ✅ \n",
            "Overriding model.yaml nc=1000 with nc=5\n",
            "\n",
            "                   from  n    params  module                                       arguments                     \n",
            "  0                  -1  1       928  ultralytics.nn.modules.conv.Conv             [3, 32, 3, 2]                 \n",
            "  1                  -1  1     18560  ultralytics.nn.modules.conv.Conv             [32, 64, 3, 2]                \n",
            "  2                  -1  1     26080  ultralytics.nn.modules.block.C3k2            [64, 128, 1, False, 0.25]     \n",
            "  3                  -1  1    147712  ultralytics.nn.modules.conv.Conv             [128, 128, 3, 2]              \n",
            "  4                  -1  1    103360  ultralytics.nn.modules.block.C3k2            [128, 256, 1, False, 0.25]    \n",
            "  5                  -1  1    590336  ultralytics.nn.modules.conv.Conv             [256, 256, 3, 2]              \n",
            "  6                  -1  1    346112  ultralytics.nn.modules.block.C3k2            [256, 256, 1, True]           \n",
            "  7                  -1  1   1180672  ultralytics.nn.modules.conv.Conv             [256, 512, 3, 2]              \n",
            "  8                  -1  1   1380352  ultralytics.nn.modules.block.C3k2            [512, 512, 1, True]           \n",
            "  9                  -1  1    990976  ultralytics.nn.modules.block.C2PSA           [512, 512, 1]                 \n",
            " 10                  -1  1    664325  ultralytics.nn.modules.head.Classify         [512, 5]                      \n",
            "YOLO11s-cls summary: 86 layers, 5,449,413 parameters, 5,449,413 gradients, 12.1 GFLOPs\n",
            "Transferred 234/236 items from pretrained weights\n",
            "\u001b[34m\u001b[1mAMP: \u001b[0mrunning Automatic Mixed Precision (AMP) checks...\n",
            "\u001b[34m\u001b[1mAMP: \u001b[0mchecks passed ✅\n",
            "\u001b[34m\u001b[1mtrain: \u001b[0mFast image access ✅ (ping: 0.3±0.1 ms, read: 18.0±6.0 MB/s, size: 22.7 KB)\n"
          ]
        },
        {
          "output_type": "stream",
          "name": "stderr",
          "text": [
            "\u001b[34m\u001b[1mtrain: \u001b[0mScanning /content/drive/MyDrive/TypeCoffee.v25i.folder/train... 1049 images, 0 corrupt: 100%|██████████| 1049/1049 [00:00<?, ?it/s]\n"
          ]
        },
        {
          "output_type": "stream",
          "name": "stdout",
          "text": [
            "\u001b[34m\u001b[1mval: \u001b[0mFast image access ✅ (ping: 0.4±0.1 ms, read: 9.4±8.0 MB/s, size: 22.7 KB)\n"
          ]
        },
        {
          "output_type": "stream",
          "name": "stderr",
          "text": [
            "\u001b[34m\u001b[1mval: \u001b[0mScanning /content/drive/MyDrive/TypeCoffee.v25i.folder/val... 60 images, 0 corrupt: 100%|██████████| 60/60 [00:00<?, ?it/s]\n"
          ]
        },
        {
          "output_type": "stream",
          "name": "stdout",
          "text": [
            "\u001b[34m\u001b[1moptimizer:\u001b[0m 'optimizer=auto' found, ignoring 'lr0=0.01' and 'momentum=0.937' and determining best 'optimizer', 'lr0' and 'momentum' automatically... \n",
            "\u001b[34m\u001b[1moptimizer:\u001b[0m AdamW(lr=0.001111, momentum=0.9) with parameter groups 39 weight(decay=0.0), 40 weight(decay=0.0005), 40 bias(decay=0.0)\n",
            "Image sizes 256 train, 256 val\n",
            "Using 8 dataloader workers\n",
            "Logging results to \u001b[1mruns/classify/train2\u001b[0m\n",
            "Starting training for 100 epochs...\n",
            "\n",
            "      Epoch    GPU_mem       loss  Instances       Size\n"
          ]
        },
        {
          "output_type": "stream",
          "name": "stderr",
          "text": [
            "      1/100      1.31G      1.371         25        256: 100%|██████████| 33/33 [00:05<00:00,  5.72it/s]\n",
            "               classes   top1_acc   top5_acc: 100%|██████████| 1/1 [00:00<00:00, 37.37it/s]"
          ]
        },
        {
          "output_type": "stream",
          "name": "stdout",
          "text": [
            "                   all       0.55          1\n"
          ]
        },
        {
          "output_type": "stream",
          "name": "stderr",
          "text": [
            "\n"
          ]
        },
        {
          "output_type": "stream",
          "name": "stdout",
          "text": [
            "\n",
            "      Epoch    GPU_mem       loss  Instances       Size\n"
          ]
        },
        {
          "output_type": "stream",
          "name": "stderr",
          "text": [
            "      2/100      1.33G     0.9333         25        256: 100%|██████████| 33/33 [00:03<00:00, 10.94it/s]\n",
            "               classes   top1_acc   top5_acc: 100%|██████████| 1/1 [00:00<00:00, 37.66it/s]"
          ]
        },
        {
          "output_type": "stream",
          "name": "stdout",
          "text": [
            "                   all      0.567          1\n"
          ]
        },
        {
          "output_type": "stream",
          "name": "stderr",
          "text": [
            "\n"
          ]
        },
        {
          "output_type": "stream",
          "name": "stdout",
          "text": [
            "\n",
            "      Epoch    GPU_mem       loss  Instances       Size\n"
          ]
        },
        {
          "output_type": "stream",
          "name": "stderr",
          "text": [
            "      3/100      1.34G     0.7694         25        256: 100%|██████████| 33/33 [00:03<00:00, 10.46it/s]\n",
            "               classes   top1_acc   top5_acc: 100%|██████████| 1/1 [00:00<00:00, 37.17it/s]"
          ]
        },
        {
          "output_type": "stream",
          "name": "stdout",
          "text": [
            "                   all      0.633          1\n"
          ]
        },
        {
          "output_type": "stream",
          "name": "stderr",
          "text": [
            "\n"
          ]
        },
        {
          "output_type": "stream",
          "name": "stdout",
          "text": [
            "\n",
            "      Epoch    GPU_mem       loss  Instances       Size\n"
          ]
        },
        {
          "output_type": "stream",
          "name": "stderr",
          "text": [
            "      4/100      1.34G     0.6774         25        256: 100%|██████████| 33/33 [00:03<00:00,  9.41it/s]\n",
            "               classes   top1_acc   top5_acc: 100%|██████████| 1/1 [00:00<00:00, 37.58it/s]"
          ]
        },
        {
          "output_type": "stream",
          "name": "stdout",
          "text": [
            "                   all      0.733          1\n"
          ]
        },
        {
          "output_type": "stream",
          "name": "stderr",
          "text": [
            "\n"
          ]
        },
        {
          "output_type": "stream",
          "name": "stdout",
          "text": [
            "\n",
            "      Epoch    GPU_mem       loss  Instances       Size\n"
          ]
        },
        {
          "output_type": "stream",
          "name": "stderr",
          "text": [
            "      5/100      1.34G     0.6257         25        256: 100%|██████████| 33/33 [00:03<00:00, 10.20it/s]\n",
            "               classes   top1_acc   top5_acc: 100%|██████████| 1/1 [00:00<00:00, 37.43it/s]"
          ]
        },
        {
          "output_type": "stream",
          "name": "stdout",
          "text": [
            "                   all      0.833          1\n"
          ]
        },
        {
          "output_type": "stream",
          "name": "stderr",
          "text": [
            "\n"
          ]
        },
        {
          "output_type": "stream",
          "name": "stdout",
          "text": [
            "\n",
            "      Epoch    GPU_mem       loss  Instances       Size\n"
          ]
        },
        {
          "output_type": "stream",
          "name": "stderr",
          "text": [
            "      6/100      1.34G     0.6037         25        256: 100%|██████████| 33/33 [00:03<00:00, 10.22it/s]\n",
            "               classes   top1_acc   top5_acc: 100%|██████████| 1/1 [00:00<00:00, 36.75it/s]"
          ]
        },
        {
          "output_type": "stream",
          "name": "stdout",
          "text": [
            "                   all      0.733          1\n"
          ]
        },
        {
          "output_type": "stream",
          "name": "stderr",
          "text": [
            "\n"
          ]
        },
        {
          "output_type": "stream",
          "name": "stdout",
          "text": [
            "\n",
            "      Epoch    GPU_mem       loss  Instances       Size\n"
          ]
        },
        {
          "output_type": "stream",
          "name": "stderr",
          "text": [
            "      7/100      1.34G     0.4784         25        256: 100%|██████████| 33/33 [00:03<00:00, 10.43it/s]\n",
            "               classes   top1_acc   top5_acc: 100%|██████████| 1/1 [00:00<00:00, 36.57it/s]"
          ]
        },
        {
          "output_type": "stream",
          "name": "stdout",
          "text": [
            "                   all      0.817          1\n"
          ]
        },
        {
          "output_type": "stream",
          "name": "stderr",
          "text": [
            "\n"
          ]
        },
        {
          "output_type": "stream",
          "name": "stdout",
          "text": [
            "\n",
            "      Epoch    GPU_mem       loss  Instances       Size\n"
          ]
        },
        {
          "output_type": "stream",
          "name": "stderr",
          "text": [
            "      8/100      1.34G      0.483         25        256: 100%|██████████| 33/33 [00:03<00:00,  9.52it/s]\n",
            "               classes   top1_acc   top5_acc: 100%|██████████| 1/1 [00:00<00:00, 37.65it/s]"
          ]
        },
        {
          "output_type": "stream",
          "name": "stdout",
          "text": [
            "                   all      0.917          1\n"
          ]
        },
        {
          "output_type": "stream",
          "name": "stderr",
          "text": [
            "\n"
          ]
        },
        {
          "output_type": "stream",
          "name": "stdout",
          "text": [
            "\n",
            "      Epoch    GPU_mem       loss  Instances       Size\n"
          ]
        },
        {
          "output_type": "stream",
          "name": "stderr",
          "text": [
            "      9/100      1.34G     0.4605         25        256: 100%|██████████| 33/33 [00:02<00:00, 11.05it/s]\n",
            "               classes   top1_acc   top5_acc: 100%|██████████| 1/1 [00:00<00:00, 37.70it/s]"
          ]
        },
        {
          "output_type": "stream",
          "name": "stdout",
          "text": [
            "                   all       0.85          1\n"
          ]
        },
        {
          "output_type": "stream",
          "name": "stderr",
          "text": [
            "\n"
          ]
        },
        {
          "output_type": "stream",
          "name": "stdout",
          "text": [
            "\n",
            "      Epoch    GPU_mem       loss  Instances       Size\n"
          ]
        },
        {
          "output_type": "stream",
          "name": "stderr",
          "text": [
            "     10/100      1.34G     0.4024         25        256: 100%|██████████| 33/33 [00:03<00:00, 10.22it/s]\n",
            "               classes   top1_acc   top5_acc: 100%|██████████| 1/1 [00:00<00:00, 37.65it/s]"
          ]
        },
        {
          "output_type": "stream",
          "name": "stdout",
          "text": [
            "                   all      0.817          1\n"
          ]
        },
        {
          "output_type": "stream",
          "name": "stderr",
          "text": [
            "\n"
          ]
        },
        {
          "output_type": "stream",
          "name": "stdout",
          "text": [
            "\n",
            "      Epoch    GPU_mem       loss  Instances       Size\n"
          ]
        },
        {
          "output_type": "stream",
          "name": "stderr",
          "text": [
            "     11/100      1.34G       0.41         25        256: 100%|██████████| 33/33 [00:03<00:00,  9.86it/s]\n",
            "               classes   top1_acc   top5_acc: 100%|██████████| 1/1 [00:00<00:00, 37.72it/s]"
          ]
        },
        {
          "output_type": "stream",
          "name": "stdout",
          "text": [
            "                   all      0.933          1\n"
          ]
        },
        {
          "output_type": "stream",
          "name": "stderr",
          "text": [
            "\n"
          ]
        },
        {
          "output_type": "stream",
          "name": "stdout",
          "text": [
            "\n",
            "      Epoch    GPU_mem       loss  Instances       Size\n"
          ]
        },
        {
          "output_type": "stream",
          "name": "stderr",
          "text": [
            "     12/100      1.34G     0.2854         25        256: 100%|██████████| 33/33 [00:03<00:00, 10.07it/s]\n",
            "               classes   top1_acc   top5_acc: 100%|██████████| 1/1 [00:00<00:00, 37.89it/s]"
          ]
        },
        {
          "output_type": "stream",
          "name": "stdout",
          "text": [
            "                   all       0.95          1\n"
          ]
        },
        {
          "output_type": "stream",
          "name": "stderr",
          "text": [
            "\n"
          ]
        },
        {
          "output_type": "stream",
          "name": "stdout",
          "text": [
            "\n",
            "      Epoch    GPU_mem       loss  Instances       Size\n"
          ]
        },
        {
          "output_type": "stream",
          "name": "stderr",
          "text": [
            "     13/100      1.34G     0.3064         25        256: 100%|██████████| 33/33 [00:03<00:00, 10.20it/s]\n",
            "               classes   top1_acc   top5_acc: 100%|██████████| 1/1 [00:00<00:00, 37.71it/s]"
          ]
        },
        {
          "output_type": "stream",
          "name": "stdout",
          "text": [
            "                   all      0.883          1\n"
          ]
        },
        {
          "output_type": "stream",
          "name": "stderr",
          "text": [
            "\n"
          ]
        },
        {
          "output_type": "stream",
          "name": "stdout",
          "text": [
            "\n",
            "      Epoch    GPU_mem       loss  Instances       Size\n"
          ]
        },
        {
          "output_type": "stream",
          "name": "stderr",
          "text": [
            "     14/100      1.34G      0.311         25        256: 100%|██████████| 33/33 [00:03<00:00, 10.50it/s]\n",
            "               classes   top1_acc   top5_acc: 100%|██████████| 1/1 [00:00<00:00, 36.91it/s]"
          ]
        },
        {
          "output_type": "stream",
          "name": "stdout",
          "text": [
            "                   all      0.867          1\n"
          ]
        },
        {
          "output_type": "stream",
          "name": "stderr",
          "text": [
            "\n"
          ]
        },
        {
          "output_type": "stream",
          "name": "stdout",
          "text": [
            "\n",
            "      Epoch    GPU_mem       loss  Instances       Size\n"
          ]
        },
        {
          "output_type": "stream",
          "name": "stderr",
          "text": [
            "     15/100      1.34G     0.2996         25        256: 100%|██████████| 33/33 [00:03<00:00,  9.55it/s]\n",
            "               classes   top1_acc   top5_acc: 100%|██████████| 1/1 [00:00<00:00, 37.76it/s]"
          ]
        },
        {
          "output_type": "stream",
          "name": "stdout",
          "text": [
            "                   all      0.917          1\n"
          ]
        },
        {
          "output_type": "stream",
          "name": "stderr",
          "text": [
            "\n"
          ]
        },
        {
          "output_type": "stream",
          "name": "stdout",
          "text": [
            "\n",
            "      Epoch    GPU_mem       loss  Instances       Size\n"
          ]
        },
        {
          "output_type": "stream",
          "name": "stderr",
          "text": [
            "     16/100      1.34G     0.2434         25        256: 100%|██████████| 33/33 [00:03<00:00, 10.47it/s]\n",
            "               classes   top1_acc   top5_acc: 100%|██████████| 1/1 [00:00<00:00, 37.27it/s]"
          ]
        },
        {
          "output_type": "stream",
          "name": "stdout",
          "text": [
            "                   all      0.933          1\n"
          ]
        },
        {
          "output_type": "stream",
          "name": "stderr",
          "text": [
            "\n"
          ]
        },
        {
          "output_type": "stream",
          "name": "stdout",
          "text": [
            "\n",
            "      Epoch    GPU_mem       loss  Instances       Size\n"
          ]
        },
        {
          "output_type": "stream",
          "name": "stderr",
          "text": [
            "     17/100      1.34G     0.2256         25        256: 100%|██████████| 33/33 [00:03<00:00, 10.25it/s]\n",
            "               classes   top1_acc   top5_acc: 100%|██████████| 1/1 [00:00<00:00, 37.36it/s]"
          ]
        },
        {
          "output_type": "stream",
          "name": "stdout",
          "text": [
            "                   all      0.967          1\n"
          ]
        },
        {
          "output_type": "stream",
          "name": "stderr",
          "text": [
            "\n"
          ]
        },
        {
          "output_type": "stream",
          "name": "stdout",
          "text": [
            "\n",
            "      Epoch    GPU_mem       loss  Instances       Size\n"
          ]
        },
        {
          "output_type": "stream",
          "name": "stderr",
          "text": [
            "     18/100      1.34G     0.2637         25        256: 100%|██████████| 33/33 [00:03<00:00, 10.22it/s]\n",
            "               classes   top1_acc   top5_acc: 100%|██████████| 1/1 [00:00<00:00, 38.35it/s]"
          ]
        },
        {
          "output_type": "stream",
          "name": "stdout",
          "text": [
            "                   all      0.917          1\n"
          ]
        },
        {
          "output_type": "stream",
          "name": "stderr",
          "text": [
            "\n"
          ]
        },
        {
          "output_type": "stream",
          "name": "stdout",
          "text": [
            "\n",
            "      Epoch    GPU_mem       loss  Instances       Size\n"
          ]
        },
        {
          "output_type": "stream",
          "name": "stderr",
          "text": [
            "     19/100      1.34G     0.2622         25        256: 100%|██████████| 33/33 [00:03<00:00,  9.70it/s]\n",
            "               classes   top1_acc   top5_acc: 100%|██████████| 1/1 [00:00<00:00, 37.69it/s]"
          ]
        },
        {
          "output_type": "stream",
          "name": "stdout",
          "text": [
            "                   all      0.967          1\n"
          ]
        },
        {
          "output_type": "stream",
          "name": "stderr",
          "text": [
            "\n"
          ]
        },
        {
          "output_type": "stream",
          "name": "stdout",
          "text": [
            "\n",
            "      Epoch    GPU_mem       loss  Instances       Size\n"
          ]
        },
        {
          "output_type": "stream",
          "name": "stderr",
          "text": [
            "     20/100      1.34G     0.2207         25        256: 100%|██████████| 33/33 [00:03<00:00, 10.19it/s]\n",
            "               classes   top1_acc   top5_acc: 100%|██████████| 1/1 [00:00<00:00, 37.16it/s]"
          ]
        },
        {
          "output_type": "stream",
          "name": "stdout",
          "text": [
            "                   all      0.883          1\n"
          ]
        },
        {
          "output_type": "stream",
          "name": "stderr",
          "text": [
            "\n"
          ]
        },
        {
          "output_type": "stream",
          "name": "stdout",
          "text": [
            "\n",
            "      Epoch    GPU_mem       loss  Instances       Size\n"
          ]
        },
        {
          "output_type": "stream",
          "name": "stderr",
          "text": [
            "     21/100      1.34G     0.2466         25        256: 100%|██████████| 33/33 [00:03<00:00, 10.28it/s]\n",
            "               classes   top1_acc   top5_acc: 100%|██████████| 1/1 [00:00<00:00, 37.94it/s]"
          ]
        },
        {
          "output_type": "stream",
          "name": "stdout",
          "text": [
            "                   all      0.933          1\n"
          ]
        },
        {
          "output_type": "stream",
          "name": "stderr",
          "text": [
            "\n"
          ]
        },
        {
          "output_type": "stream",
          "name": "stdout",
          "text": [
            "\n",
            "      Epoch    GPU_mem       loss  Instances       Size\n"
          ]
        },
        {
          "output_type": "stream",
          "name": "stderr",
          "text": [
            "     22/100      1.34G     0.1947         25        256: 100%|██████████| 33/33 [00:03<00:00,  9.65it/s]\n",
            "               classes   top1_acc   top5_acc: 100%|██████████| 1/1 [00:00<00:00, 37.12it/s]"
          ]
        },
        {
          "output_type": "stream",
          "name": "stdout",
          "text": [
            "                   all        0.9          1\n"
          ]
        },
        {
          "output_type": "stream",
          "name": "stderr",
          "text": [
            "\n"
          ]
        },
        {
          "output_type": "stream",
          "name": "stdout",
          "text": [
            "\n",
            "      Epoch    GPU_mem       loss  Instances       Size\n"
          ]
        },
        {
          "output_type": "stream",
          "name": "stderr",
          "text": [
            "     23/100      1.34G     0.2436         25        256: 100%|██████████| 33/33 [00:03<00:00, 10.42it/s]\n",
            "               classes   top1_acc   top5_acc: 100%|██████████| 1/1 [00:00<00:00, 37.16it/s]"
          ]
        },
        {
          "output_type": "stream",
          "name": "stdout",
          "text": [
            "                   all      0.933          1\n"
          ]
        },
        {
          "output_type": "stream",
          "name": "stderr",
          "text": [
            "\n"
          ]
        },
        {
          "output_type": "stream",
          "name": "stdout",
          "text": [
            "\n",
            "      Epoch    GPU_mem       loss  Instances       Size\n"
          ]
        },
        {
          "output_type": "stream",
          "name": "stderr",
          "text": [
            "     24/100      1.34G     0.1958         25        256: 100%|██████████| 33/33 [00:03<00:00, 10.72it/s]\n",
            "               classes   top1_acc   top5_acc: 100%|██████████| 1/1 [00:00<00:00, 37.06it/s]"
          ]
        },
        {
          "output_type": "stream",
          "name": "stdout",
          "text": [
            "                   all      0.983          1\n"
          ]
        },
        {
          "output_type": "stream",
          "name": "stderr",
          "text": [
            "\n"
          ]
        },
        {
          "output_type": "stream",
          "name": "stdout",
          "text": [
            "\n",
            "      Epoch    GPU_mem       loss  Instances       Size\n"
          ]
        },
        {
          "output_type": "stream",
          "name": "stderr",
          "text": [
            "     25/100      1.34G     0.1712         25        256: 100%|██████████| 33/33 [00:03<00:00,  9.96it/s]\n",
            "               classes   top1_acc   top5_acc: 100%|██████████| 1/1 [00:00<00:00, 38.16it/s]"
          ]
        },
        {
          "output_type": "stream",
          "name": "stdout",
          "text": [
            "                   all       0.95          1\n"
          ]
        },
        {
          "output_type": "stream",
          "name": "stderr",
          "text": [
            "\n"
          ]
        },
        {
          "output_type": "stream",
          "name": "stdout",
          "text": [
            "\n",
            "      Epoch    GPU_mem       loss  Instances       Size\n"
          ]
        },
        {
          "output_type": "stream",
          "name": "stderr",
          "text": [
            "     26/100      1.34G     0.2087         25        256: 100%|██████████| 33/33 [00:03<00:00,  9.62it/s]\n",
            "               classes   top1_acc   top5_acc: 100%|██████████| 1/1 [00:00<00:00, 37.95it/s]"
          ]
        },
        {
          "output_type": "stream",
          "name": "stdout",
          "text": [
            "                   all       0.95          1\n"
          ]
        },
        {
          "output_type": "stream",
          "name": "stderr",
          "text": [
            "\n"
          ]
        },
        {
          "output_type": "stream",
          "name": "stdout",
          "text": [
            "\n",
            "      Epoch    GPU_mem       loss  Instances       Size\n"
          ]
        },
        {
          "output_type": "stream",
          "name": "stderr",
          "text": [
            "     27/100      1.34G      0.143         25        256: 100%|██████████| 33/33 [00:03<00:00, 10.33it/s]\n",
            "               classes   top1_acc   top5_acc: 100%|██████████| 1/1 [00:00<00:00, 37.39it/s]"
          ]
        },
        {
          "output_type": "stream",
          "name": "stdout",
          "text": [
            "                   all      0.967          1\n"
          ]
        },
        {
          "output_type": "stream",
          "name": "stderr",
          "text": [
            "\n"
          ]
        },
        {
          "output_type": "stream",
          "name": "stdout",
          "text": [
            "\n",
            "      Epoch    GPU_mem       loss  Instances       Size\n"
          ]
        },
        {
          "output_type": "stream",
          "name": "stderr",
          "text": [
            "     28/100      1.34G     0.2053         25        256: 100%|██████████| 33/33 [00:03<00:00, 10.36it/s]\n",
            "               classes   top1_acc   top5_acc: 100%|██████████| 1/1 [00:00<00:00, 38.19it/s]"
          ]
        },
        {
          "output_type": "stream",
          "name": "stdout",
          "text": [
            "                   all      0.933          1\n"
          ]
        },
        {
          "output_type": "stream",
          "name": "stderr",
          "text": [
            "\n"
          ]
        },
        {
          "output_type": "stream",
          "name": "stdout",
          "text": [
            "\n",
            "      Epoch    GPU_mem       loss  Instances       Size\n"
          ]
        },
        {
          "output_type": "stream",
          "name": "stderr",
          "text": [
            "     29/100      1.34G     0.1401         25        256: 100%|██████████| 33/33 [00:03<00:00,  9.96it/s]\n",
            "               classes   top1_acc   top5_acc: 100%|██████████| 1/1 [00:00<00:00, 37.01it/s]"
          ]
        },
        {
          "output_type": "stream",
          "name": "stdout",
          "text": [
            "                   all       0.95          1\n"
          ]
        },
        {
          "output_type": "stream",
          "name": "stderr",
          "text": [
            "\n"
          ]
        },
        {
          "output_type": "stream",
          "name": "stdout",
          "text": [
            "\n",
            "      Epoch    GPU_mem       loss  Instances       Size\n"
          ]
        },
        {
          "output_type": "stream",
          "name": "stderr",
          "text": [
            "     30/100      1.34G       0.17         25        256: 100%|██████████| 33/33 [00:03<00:00,  9.89it/s]\n",
            "               classes   top1_acc   top5_acc: 100%|██████████| 1/1 [00:00<00:00, 37.32it/s]"
          ]
        },
        {
          "output_type": "stream",
          "name": "stdout",
          "text": [
            "                   all       0.95          1\n"
          ]
        },
        {
          "output_type": "stream",
          "name": "stderr",
          "text": [
            "\n"
          ]
        },
        {
          "output_type": "stream",
          "name": "stdout",
          "text": [
            "\n",
            "      Epoch    GPU_mem       loss  Instances       Size\n"
          ]
        },
        {
          "output_type": "stream",
          "name": "stderr",
          "text": [
            "     31/100      1.34G     0.1799         25        256: 100%|██████████| 33/33 [00:03<00:00, 10.38it/s]\n",
            "               classes   top1_acc   top5_acc: 100%|██████████| 1/1 [00:00<00:00, 37.47it/s]"
          ]
        },
        {
          "output_type": "stream",
          "name": "stdout",
          "text": [
            "                   all        0.9          1\n"
          ]
        },
        {
          "output_type": "stream",
          "name": "stderr",
          "text": [
            "\n"
          ]
        },
        {
          "output_type": "stream",
          "name": "stdout",
          "text": [
            "\n",
            "      Epoch    GPU_mem       loss  Instances       Size\n"
          ]
        },
        {
          "output_type": "stream",
          "name": "stderr",
          "text": [
            "     32/100      1.34G     0.1564         25        256: 100%|██████████| 33/33 [00:03<00:00, 10.32it/s]\n",
            "               classes   top1_acc   top5_acc: 100%|██████████| 1/1 [00:00<00:00, 37.22it/s]"
          ]
        },
        {
          "output_type": "stream",
          "name": "stdout",
          "text": [
            "                   all      0.967          1\n"
          ]
        },
        {
          "output_type": "stream",
          "name": "stderr",
          "text": [
            "\n"
          ]
        },
        {
          "output_type": "stream",
          "name": "stdout",
          "text": [
            "\n",
            "      Epoch    GPU_mem       loss  Instances       Size\n"
          ]
        },
        {
          "output_type": "stream",
          "name": "stderr",
          "text": [
            "     33/100      1.34G     0.1889         25        256: 100%|██████████| 33/33 [00:03<00:00,  9.44it/s]\n",
            "               classes   top1_acc   top5_acc: 100%|██████████| 1/1 [00:00<00:00, 37.26it/s]"
          ]
        },
        {
          "output_type": "stream",
          "name": "stdout",
          "text": [
            "                   all      0.933          1\n"
          ]
        },
        {
          "output_type": "stream",
          "name": "stderr",
          "text": [
            "\n"
          ]
        },
        {
          "output_type": "stream",
          "name": "stdout",
          "text": [
            "\n",
            "      Epoch    GPU_mem       loss  Instances       Size\n"
          ]
        },
        {
          "output_type": "stream",
          "name": "stderr",
          "text": [
            "     34/100      1.34G     0.1667         25        256: 100%|██████████| 33/33 [00:03<00:00, 10.22it/s]\n",
            "               classes   top1_acc   top5_acc: 100%|██████████| 1/1 [00:00<00:00, 37.93it/s]"
          ]
        },
        {
          "output_type": "stream",
          "name": "stdout",
          "text": [
            "                   all          1          1\n"
          ]
        },
        {
          "output_type": "stream",
          "name": "stderr",
          "text": [
            "\n"
          ]
        },
        {
          "output_type": "stream",
          "name": "stdout",
          "text": [
            "\n",
            "      Epoch    GPU_mem       loss  Instances       Size\n"
          ]
        },
        {
          "output_type": "stream",
          "name": "stderr",
          "text": [
            "     35/100      1.34G     0.1131         25        256: 100%|██████████| 33/33 [00:03<00:00, 10.53it/s]\n",
            "               classes   top1_acc   top5_acc: 100%|██████████| 1/1 [00:00<00:00, 37.76it/s]"
          ]
        },
        {
          "output_type": "stream",
          "name": "stdout",
          "text": [
            "                   all      0.933          1\n"
          ]
        },
        {
          "output_type": "stream",
          "name": "stderr",
          "text": [
            "\n"
          ]
        },
        {
          "output_type": "stream",
          "name": "stdout",
          "text": [
            "\n",
            "      Epoch    GPU_mem       loss  Instances       Size\n"
          ]
        },
        {
          "output_type": "stream",
          "name": "stderr",
          "text": [
            "     36/100      1.34G     0.1362         25        256: 100%|██████████| 33/33 [00:03<00:00, 10.35it/s]\n",
            "               classes   top1_acc   top5_acc: 100%|██████████| 1/1 [00:00<00:00, 38.79it/s]"
          ]
        },
        {
          "output_type": "stream",
          "name": "stdout",
          "text": [
            "                   all      0.917          1\n"
          ]
        },
        {
          "output_type": "stream",
          "name": "stderr",
          "text": [
            "\n"
          ]
        },
        {
          "output_type": "stream",
          "name": "stdout",
          "text": [
            "\n",
            "      Epoch    GPU_mem       loss  Instances       Size\n"
          ]
        },
        {
          "output_type": "stream",
          "name": "stderr",
          "text": [
            "     37/100      1.34G      0.127         25        256: 100%|██████████| 33/33 [00:03<00:00,  9.70it/s]\n",
            "               classes   top1_acc   top5_acc: 100%|██████████| 1/1 [00:00<00:00, 36.38it/s]"
          ]
        },
        {
          "output_type": "stream",
          "name": "stdout",
          "text": [
            "                   all      0.817          1\n"
          ]
        },
        {
          "output_type": "stream",
          "name": "stderr",
          "text": [
            "\n"
          ]
        },
        {
          "output_type": "stream",
          "name": "stdout",
          "text": [
            "\n",
            "      Epoch    GPU_mem       loss  Instances       Size\n"
          ]
        },
        {
          "output_type": "stream",
          "name": "stderr",
          "text": [
            "     38/100      1.35G     0.1066         25        256: 100%|██████████| 33/33 [00:03<00:00, 10.40it/s]\n",
            "               classes   top1_acc   top5_acc: 100%|██████████| 1/1 [00:00<00:00, 36.85it/s]"
          ]
        },
        {
          "output_type": "stream",
          "name": "stdout",
          "text": [
            "                   all      0.983          1\n"
          ]
        },
        {
          "output_type": "stream",
          "name": "stderr",
          "text": [
            "\n"
          ]
        },
        {
          "output_type": "stream",
          "name": "stdout",
          "text": [
            "\n",
            "      Epoch    GPU_mem       loss  Instances       Size\n"
          ]
        },
        {
          "output_type": "stream",
          "name": "stderr",
          "text": [
            "     39/100      1.35G     0.1045         25        256: 100%|██████████| 33/33 [00:02<00:00, 11.37it/s]\n",
            "               classes   top1_acc   top5_acc: 100%|██████████| 1/1 [00:00<00:00, 38.08it/s]"
          ]
        },
        {
          "output_type": "stream",
          "name": "stdout",
          "text": [
            "                   all      0.983          1\n"
          ]
        },
        {
          "output_type": "stream",
          "name": "stderr",
          "text": [
            "\n"
          ]
        },
        {
          "output_type": "stream",
          "name": "stdout",
          "text": [
            "\n",
            "      Epoch    GPU_mem       loss  Instances       Size\n"
          ]
        },
        {
          "output_type": "stream",
          "name": "stderr",
          "text": [
            "     40/100      1.35G     0.1253         25        256: 100%|██████████| 33/33 [00:03<00:00,  9.91it/s]\n",
            "               classes   top1_acc   top5_acc: 100%|██████████| 1/1 [00:00<00:00, 36.97it/s]"
          ]
        },
        {
          "output_type": "stream",
          "name": "stdout",
          "text": [
            "                   all          1          1\n"
          ]
        },
        {
          "output_type": "stream",
          "name": "stderr",
          "text": [
            "\n"
          ]
        },
        {
          "output_type": "stream",
          "name": "stdout",
          "text": [
            "\n",
            "      Epoch    GPU_mem       loss  Instances       Size\n"
          ]
        },
        {
          "output_type": "stream",
          "name": "stderr",
          "text": [
            "     41/100      1.35G     0.1166         25        256: 100%|██████████| 33/33 [00:03<00:00,  9.24it/s]\n",
            "               classes   top1_acc   top5_acc: 100%|██████████| 1/1 [00:00<00:00, 38.38it/s]"
          ]
        },
        {
          "output_type": "stream",
          "name": "stdout",
          "text": [
            "                   all      0.983          1\n"
          ]
        },
        {
          "output_type": "stream",
          "name": "stderr",
          "text": [
            "\n"
          ]
        },
        {
          "output_type": "stream",
          "name": "stdout",
          "text": [
            "\n",
            "      Epoch    GPU_mem       loss  Instances       Size\n"
          ]
        },
        {
          "output_type": "stream",
          "name": "stderr",
          "text": [
            "     42/100      1.35G     0.1066         25        256: 100%|██████████| 33/33 [00:03<00:00, 10.24it/s]\n",
            "               classes   top1_acc   top5_acc: 100%|██████████| 1/1 [00:00<00:00, 36.54it/s]"
          ]
        },
        {
          "output_type": "stream",
          "name": "stdout",
          "text": [
            "                   all      0.983          1\n"
          ]
        },
        {
          "output_type": "stream",
          "name": "stderr",
          "text": [
            "\n"
          ]
        },
        {
          "output_type": "stream",
          "name": "stdout",
          "text": [
            "\n",
            "      Epoch    GPU_mem       loss  Instances       Size\n"
          ]
        },
        {
          "output_type": "stream",
          "name": "stderr",
          "text": [
            "     43/100      1.35G    0.08566         25        256: 100%|██████████| 33/33 [00:03<00:00, 10.27it/s]\n",
            "               classes   top1_acc   top5_acc: 100%|██████████| 1/1 [00:00<00:00, 37.15it/s]"
          ]
        },
        {
          "output_type": "stream",
          "name": "stdout",
          "text": [
            "                   all       0.95          1\n"
          ]
        },
        {
          "output_type": "stream",
          "name": "stderr",
          "text": [
            "\n"
          ]
        },
        {
          "output_type": "stream",
          "name": "stdout",
          "text": [
            "\n",
            "      Epoch    GPU_mem       loss  Instances       Size\n"
          ]
        },
        {
          "output_type": "stream",
          "name": "stderr",
          "text": [
            "     44/100      1.35G     0.1012         25        256: 100%|██████████| 33/33 [00:03<00:00,  9.47it/s]\n",
            "               classes   top1_acc   top5_acc: 100%|██████████| 1/1 [00:00<00:00, 38.22it/s]"
          ]
        },
        {
          "output_type": "stream",
          "name": "stdout",
          "text": [
            "                   all          1          1\n"
          ]
        },
        {
          "output_type": "stream",
          "name": "stderr",
          "text": [
            "\n"
          ]
        },
        {
          "output_type": "stream",
          "name": "stdout",
          "text": [
            "\n",
            "      Epoch    GPU_mem       loss  Instances       Size\n"
          ]
        },
        {
          "output_type": "stream",
          "name": "stderr",
          "text": [
            "     45/100      1.35G    0.08498         25        256: 100%|██████████| 33/33 [00:03<00:00, 10.43it/s]\n",
            "               classes   top1_acc   top5_acc: 100%|██████████| 1/1 [00:00<00:00, 38.47it/s]"
          ]
        },
        {
          "output_type": "stream",
          "name": "stdout",
          "text": [
            "                   all      0.917          1\n"
          ]
        },
        {
          "output_type": "stream",
          "name": "stderr",
          "text": [
            "\n"
          ]
        },
        {
          "output_type": "stream",
          "name": "stdout",
          "text": [
            "\n",
            "      Epoch    GPU_mem       loss  Instances       Size\n"
          ]
        },
        {
          "output_type": "stream",
          "name": "stderr",
          "text": [
            "     46/100      1.35G     0.1166         25        256: 100%|██████████| 33/33 [00:03<00:00, 10.13it/s]\n",
            "               classes   top1_acc   top5_acc: 100%|██████████| 1/1 [00:00<00:00, 37.69it/s]"
          ]
        },
        {
          "output_type": "stream",
          "name": "stdout",
          "text": [
            "                   all      0.983          1\n"
          ]
        },
        {
          "output_type": "stream",
          "name": "stderr",
          "text": [
            "\n"
          ]
        },
        {
          "output_type": "stream",
          "name": "stdout",
          "text": [
            "\n",
            "      Epoch    GPU_mem       loss  Instances       Size\n"
          ]
        },
        {
          "output_type": "stream",
          "name": "stderr",
          "text": [
            "     47/100      1.35G    0.08113         25        256: 100%|██████████| 33/33 [00:03<00:00, 10.74it/s]\n",
            "               classes   top1_acc   top5_acc: 100%|██████████| 1/1 [00:00<00:00, 36.01it/s]"
          ]
        },
        {
          "output_type": "stream",
          "name": "stdout",
          "text": [
            "                   all       0.95          1\n"
          ]
        },
        {
          "output_type": "stream",
          "name": "stderr",
          "text": [
            "\n"
          ]
        },
        {
          "output_type": "stream",
          "name": "stdout",
          "text": [
            "\n",
            "      Epoch    GPU_mem       loss  Instances       Size\n"
          ]
        },
        {
          "output_type": "stream",
          "name": "stderr",
          "text": [
            "     48/100      1.35G      0.144         25        256: 100%|██████████| 33/33 [00:03<00:00,  9.32it/s]\n",
            "               classes   top1_acc   top5_acc: 100%|██████████| 1/1 [00:00<00:00, 37.21it/s]"
          ]
        },
        {
          "output_type": "stream",
          "name": "stdout",
          "text": [
            "                   all      0.983          1\n"
          ]
        },
        {
          "output_type": "stream",
          "name": "stderr",
          "text": [
            "\n"
          ]
        },
        {
          "output_type": "stream",
          "name": "stdout",
          "text": [
            "\n",
            "      Epoch    GPU_mem       loss  Instances       Size\n"
          ]
        },
        {
          "output_type": "stream",
          "name": "stderr",
          "text": [
            "     49/100      1.35G     0.1177         25        256: 100%|██████████| 33/33 [00:03<00:00, 10.49it/s]\n",
            "               classes   top1_acc   top5_acc: 100%|██████████| 1/1 [00:00<00:00, 37.36it/s]"
          ]
        },
        {
          "output_type": "stream",
          "name": "stdout",
          "text": [
            "                   all      0.917          1\n"
          ]
        },
        {
          "output_type": "stream",
          "name": "stderr",
          "text": [
            "\n"
          ]
        },
        {
          "output_type": "stream",
          "name": "stdout",
          "text": [
            "\n",
            "      Epoch    GPU_mem       loss  Instances       Size\n"
          ]
        },
        {
          "output_type": "stream",
          "name": "stderr",
          "text": [
            "     50/100      1.35G    0.07878         25        256: 100%|██████████| 33/33 [00:03<00:00,  9.85it/s]\n",
            "               classes   top1_acc   top5_acc: 100%|██████████| 1/1 [00:00<00:00, 37.79it/s]"
          ]
        },
        {
          "output_type": "stream",
          "name": "stdout",
          "text": [
            "                   all      0.983          1\n"
          ]
        },
        {
          "output_type": "stream",
          "name": "stderr",
          "text": [
            "\n"
          ]
        },
        {
          "output_type": "stream",
          "name": "stdout",
          "text": [
            "\n",
            "      Epoch    GPU_mem       loss  Instances       Size\n"
          ]
        },
        {
          "output_type": "stream",
          "name": "stderr",
          "text": [
            "     51/100      1.35G    0.07896         25        256: 100%|██████████| 33/33 [00:03<00:00,  9.93it/s]\n",
            "               classes   top1_acc   top5_acc: 100%|██████████| 1/1 [00:00<00:00, 38.03it/s]"
          ]
        },
        {
          "output_type": "stream",
          "name": "stdout",
          "text": [
            "                   all      0.967          1\n"
          ]
        },
        {
          "output_type": "stream",
          "name": "stderr",
          "text": [
            "\n"
          ]
        },
        {
          "output_type": "stream",
          "name": "stdout",
          "text": [
            "\n",
            "      Epoch    GPU_mem       loss  Instances       Size\n"
          ]
        },
        {
          "output_type": "stream",
          "name": "stderr",
          "text": [
            "     52/100      1.35G    0.09202         25        256: 100%|██████████| 33/33 [00:03<00:00,  9.89it/s]\n",
            "               classes   top1_acc   top5_acc: 100%|██████████| 1/1 [00:00<00:00, 38.02it/s]"
          ]
        },
        {
          "output_type": "stream",
          "name": "stdout",
          "text": [
            "                   all          1          1\n"
          ]
        },
        {
          "output_type": "stream",
          "name": "stderr",
          "text": [
            "\n"
          ]
        },
        {
          "output_type": "stream",
          "name": "stdout",
          "text": [
            "\n",
            "      Epoch    GPU_mem       loss  Instances       Size\n"
          ]
        },
        {
          "output_type": "stream",
          "name": "stderr",
          "text": [
            "     53/100      1.35G    0.08138         25        256: 100%|██████████| 33/33 [00:03<00:00, 10.17it/s]\n",
            "               classes   top1_acc   top5_acc: 100%|██████████| 1/1 [00:00<00:00, 37.73it/s]"
          ]
        },
        {
          "output_type": "stream",
          "name": "stdout",
          "text": [
            "                   all      0.917          1\n"
          ]
        },
        {
          "output_type": "stream",
          "name": "stderr",
          "text": [
            "\n"
          ]
        },
        {
          "output_type": "stream",
          "name": "stdout",
          "text": [
            "\n",
            "      Epoch    GPU_mem       loss  Instances       Size\n"
          ]
        },
        {
          "output_type": "stream",
          "name": "stderr",
          "text": [
            "     54/100      1.35G    0.08857         25        256: 100%|██████████| 33/33 [00:03<00:00, 10.30it/s]\n",
            "               classes   top1_acc   top5_acc: 100%|██████████| 1/1 [00:00<00:00, 37.49it/s]"
          ]
        },
        {
          "output_type": "stream",
          "name": "stdout",
          "text": [
            "                   all      0.983          1\n"
          ]
        },
        {
          "output_type": "stream",
          "name": "stderr",
          "text": [
            "\n"
          ]
        },
        {
          "output_type": "stream",
          "name": "stdout",
          "text": [
            "\n",
            "      Epoch    GPU_mem       loss  Instances       Size\n"
          ]
        },
        {
          "output_type": "stream",
          "name": "stderr",
          "text": [
            "     55/100      1.35G     0.1022         25        256: 100%|██████████| 33/33 [00:03<00:00,  9.46it/s]\n",
            "               classes   top1_acc   top5_acc: 100%|██████████| 1/1 [00:00<00:00, 37.49it/s]"
          ]
        },
        {
          "output_type": "stream",
          "name": "stdout",
          "text": [
            "                   all      0.933          1\n"
          ]
        },
        {
          "output_type": "stream",
          "name": "stderr",
          "text": [
            "\n"
          ]
        },
        {
          "output_type": "stream",
          "name": "stdout",
          "text": [
            "\n",
            "      Epoch    GPU_mem       loss  Instances       Size\n"
          ]
        },
        {
          "output_type": "stream",
          "name": "stderr",
          "text": [
            "     56/100      1.35G     0.1017         25        256: 100%|██████████| 33/33 [00:03<00:00, 10.32it/s]\n",
            "               classes   top1_acc   top5_acc: 100%|██████████| 1/1 [00:00<00:00, 37.74it/s]"
          ]
        },
        {
          "output_type": "stream",
          "name": "stdout",
          "text": [
            "                   all       0.95          1\n"
          ]
        },
        {
          "output_type": "stream",
          "name": "stderr",
          "text": [
            "\n"
          ]
        },
        {
          "output_type": "stream",
          "name": "stdout",
          "text": [
            "\n",
            "      Epoch    GPU_mem       loss  Instances       Size\n"
          ]
        },
        {
          "output_type": "stream",
          "name": "stderr",
          "text": [
            "     57/100      1.35G    0.08431         25        256: 100%|██████████| 33/33 [00:03<00:00, 10.42it/s]\n",
            "               classes   top1_acc   top5_acc: 100%|██████████| 1/1 [00:00<00:00, 37.03it/s]"
          ]
        },
        {
          "output_type": "stream",
          "name": "stdout",
          "text": [
            "                   all      0.933          1\n"
          ]
        },
        {
          "output_type": "stream",
          "name": "stderr",
          "text": [
            "\n"
          ]
        },
        {
          "output_type": "stream",
          "name": "stdout",
          "text": [
            "\n",
            "      Epoch    GPU_mem       loss  Instances       Size\n"
          ]
        },
        {
          "output_type": "stream",
          "name": "stderr",
          "text": [
            "     58/100      1.35G    0.07481         25        256: 100%|██████████| 33/33 [00:03<00:00,  9.45it/s]\n",
            "               classes   top1_acc   top5_acc: 100%|██████████| 1/1 [00:00<00:00, 37.02it/s]"
          ]
        },
        {
          "output_type": "stream",
          "name": "stdout",
          "text": [
            "                   all      0.983          1\n"
          ]
        },
        {
          "output_type": "stream",
          "name": "stderr",
          "text": [
            "\n"
          ]
        },
        {
          "output_type": "stream",
          "name": "stdout",
          "text": [
            "\n",
            "      Epoch    GPU_mem       loss  Instances       Size\n"
          ]
        },
        {
          "output_type": "stream",
          "name": "stderr",
          "text": [
            "     59/100      1.35G     0.0959         25        256: 100%|██████████| 33/33 [00:03<00:00,  9.52it/s]\n",
            "               classes   top1_acc   top5_acc: 100%|██████████| 1/1 [00:00<00:00, 37.96it/s]"
          ]
        },
        {
          "output_type": "stream",
          "name": "stdout",
          "text": [
            "                   all      0.967          1\n"
          ]
        },
        {
          "output_type": "stream",
          "name": "stderr",
          "text": [
            "\n"
          ]
        },
        {
          "output_type": "stream",
          "name": "stdout",
          "text": [
            "\n",
            "      Epoch    GPU_mem       loss  Instances       Size\n"
          ]
        },
        {
          "output_type": "stream",
          "name": "stderr",
          "text": [
            "     60/100      1.35G    0.07258         25        256: 100%|██████████| 33/33 [00:03<00:00, 10.09it/s]\n",
            "               classes   top1_acc   top5_acc: 100%|██████████| 1/1 [00:00<00:00, 38.33it/s]"
          ]
        },
        {
          "output_type": "stream",
          "name": "stdout",
          "text": [
            "                   all       0.95          1\n"
          ]
        },
        {
          "output_type": "stream",
          "name": "stderr",
          "text": [
            "\n"
          ]
        },
        {
          "output_type": "stream",
          "name": "stdout",
          "text": [
            "\n",
            "      Epoch    GPU_mem       loss  Instances       Size\n"
          ]
        },
        {
          "output_type": "stream",
          "name": "stderr",
          "text": [
            "     61/100      1.35G    0.08179         25        256: 100%|██████████| 33/33 [00:03<00:00, 10.37it/s]\n",
            "               classes   top1_acc   top5_acc: 100%|██████████| 1/1 [00:00<00:00, 38.39it/s]"
          ]
        },
        {
          "output_type": "stream",
          "name": "stdout",
          "text": [
            "                   all      0.983          1\n"
          ]
        },
        {
          "output_type": "stream",
          "name": "stderr",
          "text": [
            "\n"
          ]
        },
        {
          "output_type": "stream",
          "name": "stdout",
          "text": [
            "\n",
            "      Epoch    GPU_mem       loss  Instances       Size\n"
          ]
        },
        {
          "output_type": "stream",
          "name": "stderr",
          "text": [
            "     62/100      1.35G    0.06221         25        256: 100%|██████████| 33/33 [00:03<00:00,  9.74it/s]\n",
            "               classes   top1_acc   top5_acc: 100%|██████████| 1/1 [00:00<00:00, 37.20it/s]"
          ]
        },
        {
          "output_type": "stream",
          "name": "stdout",
          "text": [
            "                   all      0.983          1\n"
          ]
        },
        {
          "output_type": "stream",
          "name": "stderr",
          "text": [
            "\n"
          ]
        },
        {
          "output_type": "stream",
          "name": "stdout",
          "text": [
            "\n",
            "      Epoch    GPU_mem       loss  Instances       Size\n"
          ]
        },
        {
          "output_type": "stream",
          "name": "stderr",
          "text": [
            "     63/100      1.35G    0.06126         25        256: 100%|██████████| 33/33 [00:03<00:00, 10.14it/s]\n",
            "               classes   top1_acc   top5_acc: 100%|██████████| 1/1 [00:00<00:00, 37.44it/s]"
          ]
        },
        {
          "output_type": "stream",
          "name": "stdout",
          "text": [
            "                   all      0.983          1\n"
          ]
        },
        {
          "output_type": "stream",
          "name": "stderr",
          "text": [
            "\n"
          ]
        },
        {
          "output_type": "stream",
          "name": "stdout",
          "text": [
            "\n",
            "      Epoch    GPU_mem       loss  Instances       Size\n"
          ]
        },
        {
          "output_type": "stream",
          "name": "stderr",
          "text": [
            "     64/100      1.35G    0.06882         25        256: 100%|██████████| 33/33 [00:03<00:00, 10.55it/s]\n",
            "               classes   top1_acc   top5_acc: 100%|██████████| 1/1 [00:00<00:00, 37.29it/s]"
          ]
        },
        {
          "output_type": "stream",
          "name": "stdout",
          "text": [
            "                   all       0.95          1\n"
          ]
        },
        {
          "output_type": "stream",
          "name": "stderr",
          "text": [
            "\n"
          ]
        },
        {
          "output_type": "stream",
          "name": "stdout",
          "text": [
            "\n",
            "      Epoch    GPU_mem       loss  Instances       Size\n"
          ]
        },
        {
          "output_type": "stream",
          "name": "stderr",
          "text": [
            "     65/100      1.37G    0.06328         25        256: 100%|██████████| 33/33 [00:03<00:00, 10.54it/s]\n",
            "               classes   top1_acc   top5_acc: 100%|██████████| 1/1 [00:00<00:00, 37.37it/s]"
          ]
        },
        {
          "output_type": "stream",
          "name": "stdout",
          "text": [
            "                   all      0.983          1\n"
          ]
        },
        {
          "output_type": "stream",
          "name": "stderr",
          "text": [
            "\n"
          ]
        },
        {
          "output_type": "stream",
          "name": "stdout",
          "text": [
            "\n",
            "      Epoch    GPU_mem       loss  Instances       Size\n"
          ]
        },
        {
          "output_type": "stream",
          "name": "stderr",
          "text": [
            "     66/100      1.37G    0.06244         25        256: 100%|██████████| 33/33 [00:03<00:00,  9.25it/s]\n",
            "               classes   top1_acc   top5_acc: 100%|██████████| 1/1 [00:00<00:00, 37.89it/s]"
          ]
        },
        {
          "output_type": "stream",
          "name": "stdout",
          "text": [
            "                   all       0.95          1\n"
          ]
        },
        {
          "output_type": "stream",
          "name": "stderr",
          "text": [
            "\n"
          ]
        },
        {
          "output_type": "stream",
          "name": "stdout",
          "text": [
            "\n",
            "      Epoch    GPU_mem       loss  Instances       Size\n"
          ]
        },
        {
          "output_type": "stream",
          "name": "stderr",
          "text": [
            "     67/100      1.37G    0.06849         25        256: 100%|██████████| 33/33 [00:03<00:00, 10.59it/s]\n",
            "               classes   top1_acc   top5_acc: 100%|██████████| 1/1 [00:00<00:00, 37.86it/s]"
          ]
        },
        {
          "output_type": "stream",
          "name": "stdout",
          "text": [
            "                   all      0.983          1\n"
          ]
        },
        {
          "output_type": "stream",
          "name": "stderr",
          "text": [
            "\n"
          ]
        },
        {
          "output_type": "stream",
          "name": "stdout",
          "text": [
            "\n",
            "      Epoch    GPU_mem       loss  Instances       Size\n"
          ]
        },
        {
          "output_type": "stream",
          "name": "stderr",
          "text": [
            "     68/100      1.37G    0.06335         25        256: 100%|██████████| 33/33 [00:02<00:00, 11.74it/s]\n",
            "               classes   top1_acc   top5_acc: 100%|██████████| 1/1 [00:00<00:00, 37.36it/s]"
          ]
        },
        {
          "output_type": "stream",
          "name": "stdout",
          "text": [
            "                   all      0.983          1\n"
          ]
        },
        {
          "output_type": "stream",
          "name": "stderr",
          "text": [
            "\n"
          ]
        },
        {
          "output_type": "stream",
          "name": "stdout",
          "text": [
            "\n",
            "      Epoch    GPU_mem       loss  Instances       Size\n"
          ]
        },
        {
          "output_type": "stream",
          "name": "stderr",
          "text": [
            "     69/100      1.37G    0.06532         25        256: 100%|██████████| 33/33 [00:03<00:00, 10.43it/s]\n",
            "               classes   top1_acc   top5_acc: 100%|██████████| 1/1 [00:00<00:00, 37.65it/s]"
          ]
        },
        {
          "output_type": "stream",
          "name": "stdout",
          "text": [
            "                   all      0.983          1\n"
          ]
        },
        {
          "output_type": "stream",
          "name": "stderr",
          "text": [
            "\n"
          ]
        },
        {
          "output_type": "stream",
          "name": "stdout",
          "text": [
            "\n",
            "      Epoch    GPU_mem       loss  Instances       Size\n"
          ]
        },
        {
          "output_type": "stream",
          "name": "stderr",
          "text": [
            "     70/100      1.37G    0.05311         25        256: 100%|██████████| 33/33 [00:03<00:00,  9.76it/s]\n",
            "               classes   top1_acc   top5_acc: 100%|██████████| 1/1 [00:00<00:00, 36.40it/s]"
          ]
        },
        {
          "output_type": "stream",
          "name": "stdout",
          "text": [
            "                   all      0.983          1\n"
          ]
        },
        {
          "output_type": "stream",
          "name": "stderr",
          "text": [
            "\n"
          ]
        },
        {
          "output_type": "stream",
          "name": "stdout",
          "text": [
            "\n",
            "      Epoch    GPU_mem       loss  Instances       Size\n"
          ]
        },
        {
          "output_type": "stream",
          "name": "stderr",
          "text": [
            "     71/100      1.37G    0.04811         25        256: 100%|██████████| 33/33 [00:03<00:00, 10.38it/s]\n",
            "               classes   top1_acc   top5_acc: 100%|██████████| 1/1 [00:00<00:00, 37.46it/s]"
          ]
        },
        {
          "output_type": "stream",
          "name": "stdout",
          "text": [
            "                   all      0.933          1\n"
          ]
        },
        {
          "output_type": "stream",
          "name": "stderr",
          "text": [
            "\n"
          ]
        },
        {
          "output_type": "stream",
          "name": "stdout",
          "text": [
            "\n",
            "      Epoch    GPU_mem       loss  Instances       Size\n"
          ]
        },
        {
          "output_type": "stream",
          "name": "stderr",
          "text": [
            "     72/100      1.37G    0.06932         25        256: 100%|██████████| 33/33 [00:03<00:00, 10.47it/s]\n",
            "               classes   top1_acc   top5_acc: 100%|██████████| 1/1 [00:00<00:00, 37.97it/s]"
          ]
        },
        {
          "output_type": "stream",
          "name": "stdout",
          "text": [
            "                   all      0.933          1\n"
          ]
        },
        {
          "output_type": "stream",
          "name": "stderr",
          "text": [
            "\n"
          ]
        },
        {
          "output_type": "stream",
          "name": "stdout",
          "text": [
            "\n",
            "      Epoch    GPU_mem       loss  Instances       Size\n"
          ]
        },
        {
          "output_type": "stream",
          "name": "stderr",
          "text": [
            "     73/100      1.37G    0.05511         25        256: 100%|██████████| 33/33 [00:03<00:00, 10.11it/s]\n",
            "               classes   top1_acc   top5_acc: 100%|██████████| 1/1 [00:00<00:00, 38.30it/s]"
          ]
        },
        {
          "output_type": "stream",
          "name": "stdout",
          "text": [
            "                   all          1          1\n"
          ]
        },
        {
          "output_type": "stream",
          "name": "stderr",
          "text": [
            "\n"
          ]
        },
        {
          "output_type": "stream",
          "name": "stdout",
          "text": [
            "\n",
            "      Epoch    GPU_mem       loss  Instances       Size\n"
          ]
        },
        {
          "output_type": "stream",
          "name": "stderr",
          "text": [
            "     74/100      1.37G    0.06838         25        256: 100%|██████████| 33/33 [00:03<00:00,  9.49it/s]\n",
            "               classes   top1_acc   top5_acc: 100%|██████████| 1/1 [00:00<00:00, 38.04it/s]"
          ]
        },
        {
          "output_type": "stream",
          "name": "stdout",
          "text": [
            "                   all      0.983          1\n"
          ]
        },
        {
          "output_type": "stream",
          "name": "stderr",
          "text": [
            "\n"
          ]
        },
        {
          "output_type": "stream",
          "name": "stdout",
          "text": [
            "\n",
            "      Epoch    GPU_mem       loss  Instances       Size\n"
          ]
        },
        {
          "output_type": "stream",
          "name": "stderr",
          "text": [
            "     75/100      1.37G    0.05147         25        256: 100%|██████████| 33/33 [00:03<00:00, 10.41it/s]\n",
            "               classes   top1_acc   top5_acc: 100%|██████████| 1/1 [00:00<00:00, 37.13it/s]"
          ]
        },
        {
          "output_type": "stream",
          "name": "stdout",
          "text": [
            "                   all      0.983          1\n"
          ]
        },
        {
          "output_type": "stream",
          "name": "stderr",
          "text": [
            "\n"
          ]
        },
        {
          "output_type": "stream",
          "name": "stdout",
          "text": [
            "\n",
            "      Epoch    GPU_mem       loss  Instances       Size\n"
          ]
        },
        {
          "output_type": "stream",
          "name": "stderr",
          "text": [
            "     76/100      1.37G    0.04676         25        256: 100%|██████████| 33/33 [00:03<00:00, 10.35it/s]\n",
            "               classes   top1_acc   top5_acc: 100%|██████████| 1/1 [00:00<00:00, 38.23it/s]"
          ]
        },
        {
          "output_type": "stream",
          "name": "stdout",
          "text": [
            "                   all      0.967          1\n"
          ]
        },
        {
          "output_type": "stream",
          "name": "stderr",
          "text": [
            "\n"
          ]
        },
        {
          "output_type": "stream",
          "name": "stdout",
          "text": [
            "\n",
            "      Epoch    GPU_mem       loss  Instances       Size\n"
          ]
        },
        {
          "output_type": "stream",
          "name": "stderr",
          "text": [
            "     77/100      1.37G    0.05531         25        256: 100%|██████████| 33/33 [00:03<00:00,  9.49it/s]\n",
            "               classes   top1_acc   top5_acc: 100%|██████████| 1/1 [00:00<00:00, 37.75it/s]"
          ]
        },
        {
          "output_type": "stream",
          "name": "stdout",
          "text": [
            "                   all      0.967          1\n"
          ]
        },
        {
          "output_type": "stream",
          "name": "stderr",
          "text": [
            "\n"
          ]
        },
        {
          "output_type": "stream",
          "name": "stdout",
          "text": [
            "\n",
            "      Epoch    GPU_mem       loss  Instances       Size\n"
          ]
        },
        {
          "output_type": "stream",
          "name": "stderr",
          "text": [
            "     78/100      1.37G    0.03397         25        256: 100%|██████████| 33/33 [00:03<00:00, 10.56it/s]\n",
            "               classes   top1_acc   top5_acc: 100%|██████████| 1/1 [00:00<00:00, 37.31it/s]"
          ]
        },
        {
          "output_type": "stream",
          "name": "stdout",
          "text": [
            "                   all          1          1\n"
          ]
        },
        {
          "output_type": "stream",
          "name": "stderr",
          "text": [
            "\n"
          ]
        },
        {
          "output_type": "stream",
          "name": "stdout",
          "text": [
            "\n",
            "      Epoch    GPU_mem       loss  Instances       Size\n"
          ]
        },
        {
          "output_type": "stream",
          "name": "stderr",
          "text": [
            "     79/100      1.37G    0.05248         25        256: 100%|██████████| 33/33 [00:03<00:00, 10.21it/s]\n",
            "               classes   top1_acc   top5_acc: 100%|██████████| 1/1 [00:00<00:00, 37.43it/s]"
          ]
        },
        {
          "output_type": "stream",
          "name": "stdout",
          "text": [
            "                   all          1          1\n"
          ]
        },
        {
          "output_type": "stream",
          "name": "stderr",
          "text": [
            "\n"
          ]
        },
        {
          "output_type": "stream",
          "name": "stdout",
          "text": [
            "\n",
            "      Epoch    GPU_mem       loss  Instances       Size\n"
          ]
        },
        {
          "output_type": "stream",
          "name": "stderr",
          "text": [
            "     80/100      1.37G    0.05531         25        256: 100%|██████████| 33/33 [00:03<00:00, 10.11it/s]\n",
            "               classes   top1_acc   top5_acc: 100%|██████████| 1/1 [00:00<00:00, 37.61it/s]"
          ]
        },
        {
          "output_type": "stream",
          "name": "stdout",
          "text": [
            "                   all          1          1\n"
          ]
        },
        {
          "output_type": "stream",
          "name": "stderr",
          "text": [
            "\n"
          ]
        },
        {
          "output_type": "stream",
          "name": "stdout",
          "text": [
            "\n",
            "      Epoch    GPU_mem       loss  Instances       Size\n"
          ]
        },
        {
          "output_type": "stream",
          "name": "stderr",
          "text": [
            "     81/100      1.37G    0.03724         25        256: 100%|██████████| 33/33 [00:03<00:00,  9.52it/s]\n",
            "               classes   top1_acc   top5_acc: 100%|██████████| 1/1 [00:00<00:00, 37.17it/s]"
          ]
        },
        {
          "output_type": "stream",
          "name": "stdout",
          "text": [
            "                   all          1          1\n"
          ]
        },
        {
          "output_type": "stream",
          "name": "stderr",
          "text": [
            "\n"
          ]
        },
        {
          "output_type": "stream",
          "name": "stdout",
          "text": [
            "\n",
            "      Epoch    GPU_mem       loss  Instances       Size\n"
          ]
        },
        {
          "output_type": "stream",
          "name": "stderr",
          "text": [
            "     82/100      1.37G    0.03566         25        256: 100%|██████████| 33/33 [00:03<00:00,  9.77it/s]\n",
            "               classes   top1_acc   top5_acc: 100%|██████████| 1/1 [00:00<00:00, 37.66it/s]"
          ]
        },
        {
          "output_type": "stream",
          "name": "stdout",
          "text": [
            "                   all          1          1\n"
          ]
        },
        {
          "output_type": "stream",
          "name": "stderr",
          "text": [
            "\n"
          ]
        },
        {
          "output_type": "stream",
          "name": "stdout",
          "text": [
            "\n",
            "      Epoch    GPU_mem       loss  Instances       Size\n"
          ]
        },
        {
          "output_type": "stream",
          "name": "stderr",
          "text": [
            "     83/100      1.37G    0.07305         25        256: 100%|██████████| 33/33 [00:03<00:00, 10.39it/s]\n",
            "               classes   top1_acc   top5_acc: 100%|██████████| 1/1 [00:00<00:00, 36.66it/s]"
          ]
        },
        {
          "output_type": "stream",
          "name": "stdout",
          "text": [
            "                   all      0.983          1\n"
          ]
        },
        {
          "output_type": "stream",
          "name": "stderr",
          "text": [
            "\n"
          ]
        },
        {
          "output_type": "stream",
          "name": "stdout",
          "text": [
            "\n",
            "      Epoch    GPU_mem       loss  Instances       Size\n"
          ]
        },
        {
          "output_type": "stream",
          "name": "stderr",
          "text": [
            "     84/100      1.37G    0.04242         25        256: 100%|██████████| 33/33 [00:03<00:00,  9.90it/s]\n",
            "               classes   top1_acc   top5_acc: 100%|██████████| 1/1 [00:00<00:00, 38.44it/s]"
          ]
        },
        {
          "output_type": "stream",
          "name": "stdout",
          "text": [
            "                   all      0.967          1\n"
          ]
        },
        {
          "output_type": "stream",
          "name": "stderr",
          "text": [
            "\n"
          ]
        },
        {
          "output_type": "stream",
          "name": "stdout",
          "text": [
            "\n",
            "      Epoch    GPU_mem       loss  Instances       Size\n"
          ]
        },
        {
          "output_type": "stream",
          "name": "stderr",
          "text": [
            "     85/100      1.37G    0.03201         25        256: 100%|██████████| 33/33 [00:03<00:00, 10.35it/s]\n",
            "               classes   top1_acc   top5_acc: 100%|██████████| 1/1 [00:00<00:00, 38.02it/s]"
          ]
        },
        {
          "output_type": "stream",
          "name": "stdout",
          "text": [
            "                   all      0.983          1\n"
          ]
        },
        {
          "output_type": "stream",
          "name": "stderr",
          "text": [
            "\n"
          ]
        },
        {
          "output_type": "stream",
          "name": "stdout",
          "text": [
            "\n",
            "      Epoch    GPU_mem       loss  Instances       Size\n"
          ]
        },
        {
          "output_type": "stream",
          "name": "stderr",
          "text": [
            "     86/100      1.37G    0.04498         25        256: 100%|██████████| 33/33 [00:03<00:00, 10.48it/s]\n",
            "               classes   top1_acc   top5_acc: 100%|██████████| 1/1 [00:00<00:00, 37.30it/s]"
          ]
        },
        {
          "output_type": "stream",
          "name": "stdout",
          "text": [
            "                   all          1          1\n"
          ]
        },
        {
          "output_type": "stream",
          "name": "stderr",
          "text": [
            "\n"
          ]
        },
        {
          "output_type": "stream",
          "name": "stdout",
          "text": [
            "\n",
            "      Epoch    GPU_mem       loss  Instances       Size\n"
          ]
        },
        {
          "output_type": "stream",
          "name": "stderr",
          "text": [
            "     87/100      1.37G    0.02853         25        256: 100%|██████████| 33/33 [00:03<00:00, 10.60it/s]\n",
            "               classes   top1_acc   top5_acc: 100%|██████████| 1/1 [00:00<00:00, 37.34it/s]"
          ]
        },
        {
          "output_type": "stream",
          "name": "stdout",
          "text": [
            "                   all          1          1\n"
          ]
        },
        {
          "output_type": "stream",
          "name": "stderr",
          "text": [
            "\n"
          ]
        },
        {
          "output_type": "stream",
          "name": "stdout",
          "text": [
            "\n",
            "      Epoch    GPU_mem       loss  Instances       Size\n"
          ]
        },
        {
          "output_type": "stream",
          "name": "stderr",
          "text": [
            "     88/100      1.37G    0.03338         25        256: 100%|██████████| 33/33 [00:03<00:00,  9.44it/s]\n",
            "               classes   top1_acc   top5_acc: 100%|██████████| 1/1 [00:00<00:00, 36.84it/s]"
          ]
        },
        {
          "output_type": "stream",
          "name": "stdout",
          "text": [
            "                   all          1          1\n"
          ]
        },
        {
          "output_type": "stream",
          "name": "stderr",
          "text": [
            "\n"
          ]
        },
        {
          "output_type": "stream",
          "name": "stdout",
          "text": [
            "\n",
            "      Epoch    GPU_mem       loss  Instances       Size\n"
          ]
        },
        {
          "output_type": "stream",
          "name": "stderr",
          "text": [
            "     89/100      1.37G    0.02895         25        256: 100%|██████████| 33/33 [00:03<00:00, 10.45it/s]\n",
            "               classes   top1_acc   top5_acc: 100%|██████████| 1/1 [00:00<00:00, 38.10it/s]"
          ]
        },
        {
          "output_type": "stream",
          "name": "stdout",
          "text": [
            "                   all      0.983          1\n"
          ]
        },
        {
          "output_type": "stream",
          "name": "stderr",
          "text": [
            "\n"
          ]
        },
        {
          "output_type": "stream",
          "name": "stdout",
          "text": [
            "\n",
            "      Epoch    GPU_mem       loss  Instances       Size\n"
          ]
        },
        {
          "output_type": "stream",
          "name": "stderr",
          "text": [
            "     90/100      1.37G    0.03613         25        256: 100%|██████████| 33/33 [00:03<00:00, 10.26it/s]\n",
            "               classes   top1_acc   top5_acc: 100%|██████████| 1/1 [00:00<00:00, 37.24it/s]"
          ]
        },
        {
          "output_type": "stream",
          "name": "stdout",
          "text": [
            "                   all          1          1\n"
          ]
        },
        {
          "output_type": "stream",
          "name": "stderr",
          "text": [
            "\n"
          ]
        },
        {
          "output_type": "stream",
          "name": "stdout",
          "text": [
            "\n",
            "      Epoch    GPU_mem       loss  Instances       Size\n"
          ]
        },
        {
          "output_type": "stream",
          "name": "stderr",
          "text": [
            "     91/100      1.37G    0.02701         25        256: 100%|██████████| 33/33 [00:03<00:00,  8.71it/s]\n",
            "               classes   top1_acc   top5_acc: 100%|██████████| 1/1 [00:00<00:00, 37.73it/s]"
          ]
        },
        {
          "output_type": "stream",
          "name": "stdout",
          "text": [
            "                   all          1          1\n"
          ]
        },
        {
          "output_type": "stream",
          "name": "stderr",
          "text": [
            "\n"
          ]
        },
        {
          "output_type": "stream",
          "name": "stdout",
          "text": [
            "\n",
            "      Epoch    GPU_mem       loss  Instances       Size\n"
          ]
        },
        {
          "output_type": "stream",
          "name": "stderr",
          "text": [
            "     92/100      1.37G    0.02956         25        256: 100%|██████████| 33/33 [00:03<00:00, 10.32it/s]\n",
            "               classes   top1_acc   top5_acc: 100%|██████████| 1/1 [00:00<00:00, 37.39it/s]"
          ]
        },
        {
          "output_type": "stream",
          "name": "stdout",
          "text": [
            "                   all          1          1\n"
          ]
        },
        {
          "output_type": "stream",
          "name": "stderr",
          "text": [
            "\n"
          ]
        },
        {
          "output_type": "stream",
          "name": "stdout",
          "text": [
            "\n",
            "      Epoch    GPU_mem       loss  Instances       Size\n"
          ]
        },
        {
          "output_type": "stream",
          "name": "stderr",
          "text": [
            "     93/100      1.37G    0.02842         25        256: 100%|██████████| 33/33 [00:03<00:00, 10.54it/s]\n",
            "               classes   top1_acc   top5_acc: 100%|██████████| 1/1 [00:00<00:00, 37.55it/s]"
          ]
        },
        {
          "output_type": "stream",
          "name": "stdout",
          "text": [
            "                   all          1          1\n"
          ]
        },
        {
          "output_type": "stream",
          "name": "stderr",
          "text": [
            "\n"
          ]
        },
        {
          "output_type": "stream",
          "name": "stdout",
          "text": [
            "\n",
            "      Epoch    GPU_mem       loss  Instances       Size\n"
          ]
        },
        {
          "output_type": "stream",
          "name": "stderr",
          "text": [
            "     94/100      1.37G    0.02865         25        256: 100%|██████████| 33/33 [00:03<00:00, 10.26it/s]\n",
            "               classes   top1_acc   top5_acc: 100%|██████████| 1/1 [00:00<00:00, 37.40it/s]"
          ]
        },
        {
          "output_type": "stream",
          "name": "stdout",
          "text": [
            "                   all          1          1\n"
          ]
        },
        {
          "output_type": "stream",
          "name": "stderr",
          "text": [
            "\n"
          ]
        },
        {
          "output_type": "stream",
          "name": "stdout",
          "text": [
            "\n",
            "      Epoch    GPU_mem       loss  Instances       Size\n"
          ]
        },
        {
          "output_type": "stream",
          "name": "stderr",
          "text": [
            "     95/100      1.37G    0.03738         25        256: 100%|██████████| 33/33 [00:03<00:00,  9.62it/s]\n",
            "               classes   top1_acc   top5_acc: 100%|██████████| 1/1 [00:00<00:00, 37.58it/s]"
          ]
        },
        {
          "output_type": "stream",
          "name": "stdout",
          "text": [
            "                   all          1          1\n"
          ]
        },
        {
          "output_type": "stream",
          "name": "stderr",
          "text": [
            "\n"
          ]
        },
        {
          "output_type": "stream",
          "name": "stdout",
          "text": [
            "\n",
            "      Epoch    GPU_mem       loss  Instances       Size\n"
          ]
        },
        {
          "output_type": "stream",
          "name": "stderr",
          "text": [
            "     96/100      1.37G    0.03001         25        256: 100%|██████████| 33/33 [00:03<00:00, 10.38it/s]\n",
            "               classes   top1_acc   top5_acc: 100%|██████████| 1/1 [00:00<00:00, 37.62it/s]"
          ]
        },
        {
          "output_type": "stream",
          "name": "stdout",
          "text": [
            "                   all          1          1\n"
          ]
        },
        {
          "output_type": "stream",
          "name": "stderr",
          "text": [
            "\n"
          ]
        },
        {
          "output_type": "stream",
          "name": "stdout",
          "text": [
            "\n",
            "      Epoch    GPU_mem       loss  Instances       Size\n"
          ]
        },
        {
          "output_type": "stream",
          "name": "stderr",
          "text": [
            "     97/100      1.37G    0.03378         25        256: 100%|██████████| 33/33 [00:03<00:00, 10.49it/s]\n",
            "               classes   top1_acc   top5_acc: 100%|██████████| 1/1 [00:00<00:00, 37.61it/s]"
          ]
        },
        {
          "output_type": "stream",
          "name": "stdout",
          "text": [
            "                   all          1          1\n"
          ]
        },
        {
          "output_type": "stream",
          "name": "stderr",
          "text": [
            "\n"
          ]
        },
        {
          "output_type": "stream",
          "name": "stdout",
          "text": [
            "\n",
            "      Epoch    GPU_mem       loss  Instances       Size\n"
          ]
        },
        {
          "output_type": "stream",
          "name": "stderr",
          "text": [
            "     98/100      1.37G    0.03796         25        256: 100%|██████████| 33/33 [00:03<00:00, 10.78it/s]\n",
            "               classes   top1_acc   top5_acc: 100%|██████████| 1/1 [00:00<00:00, 38.14it/s]"
          ]
        },
        {
          "output_type": "stream",
          "name": "stdout",
          "text": [
            "                   all          1          1\n"
          ]
        },
        {
          "output_type": "stream",
          "name": "stderr",
          "text": [
            "\n"
          ]
        },
        {
          "output_type": "stream",
          "name": "stdout",
          "text": [
            "\n",
            "      Epoch    GPU_mem       loss  Instances       Size\n"
          ]
        },
        {
          "output_type": "stream",
          "name": "stderr",
          "text": [
            "     99/100      1.37G     0.0251         25        256: 100%|██████████| 33/33 [00:03<00:00,  9.60it/s]\n",
            "               classes   top1_acc   top5_acc: 100%|██████████| 1/1 [00:00<00:00, 38.14it/s]"
          ]
        },
        {
          "output_type": "stream",
          "name": "stdout",
          "text": [
            "                   all          1          1\n"
          ]
        },
        {
          "output_type": "stream",
          "name": "stderr",
          "text": [
            "\n"
          ]
        },
        {
          "output_type": "stream",
          "name": "stdout",
          "text": [
            "\n",
            "      Epoch    GPU_mem       loss  Instances       Size\n"
          ]
        },
        {
          "output_type": "stream",
          "name": "stderr",
          "text": [
            "    100/100      1.37G    0.03179         25        256: 100%|██████████| 33/33 [00:03<00:00, 10.37it/s]\n",
            "               classes   top1_acc   top5_acc: 100%|██████████| 1/1 [00:00<00:00, 37.87it/s]"
          ]
        },
        {
          "output_type": "stream",
          "name": "stdout",
          "text": [
            "                   all          1          1\n"
          ]
        },
        {
          "output_type": "stream",
          "name": "stderr",
          "text": [
            "\n"
          ]
        },
        {
          "output_type": "stream",
          "name": "stdout",
          "text": [
            "\n",
            "100 epochs completed in 0.101 hours.\n",
            "Optimizer stripped from runs/classify/train2/weights/last.pt, 11.0MB\n",
            "Optimizer stripped from runs/classify/train2/weights/best.pt, 11.0MB\n",
            "\n",
            "Validating runs/classify/train2/weights/best.pt...\n",
            "Ultralytics 8.3.159 🚀 Python-3.11.13 torch-2.6.0+cu124 CUDA:0 (Tesla T4, 15095MiB)\n",
            "YOLO11s-cls summary (fused): 47 layers, 5,440,533 parameters, 0 gradients, 12.0 GFLOPs\n",
            "\u001b[34m\u001b[1mtrain:\u001b[0m /content/drive/MyDrive/TypeCoffee.v25i.folder/train... found 1049 images in 5 classes ✅ \n",
            "\u001b[34m\u001b[1mval:\u001b[0m /content/drive/MyDrive/TypeCoffee.v25i.folder/val... found 60 images in 5 classes ✅ \n",
            "\u001b[34m\u001b[1mtest:\u001b[0m /content/drive/MyDrive/TypeCoffee.v25i.folder/test... found 100 images in 5 classes ✅ \n"
          ]
        },
        {
          "output_type": "stream",
          "name": "stderr",
          "text": [
            "               classes   top1_acc   top5_acc: 100%|██████████| 1/1 [00:00<00:00, 21.19it/s]\n"
          ]
        },
        {
          "output_type": "stream",
          "name": "stdout",
          "text": [
            "                   all          1          1\n",
            "Speed: 0.1ms preprocess, 0.3ms inference, 0.0ms loss, 0.0ms postprocess per image\n",
            "Results saved to \u001b[1mruns/classify/train2\u001b[0m\n"
          ]
        }
      ],
      "source": [
        "from ultralytics import YOLO\n",
        "\n",
        "# Load a model\n",
        "model = YOLO(\"yolo11s-cls.yaml\")  # build a new model from YAML\n",
        "model = YOLO(\"yolo11s-cls.pt\")  # load a pretrained model (recommended for training)\n",
        "model = YOLO(\"yolo11s-cls.yaml\").load(\"yolo11s-cls.pt\")  # build from YAML and transfer weights\n",
        "\n",
        "# Train the model\n",
        "results = model.train(data='/content/drive/MyDrive/TypeCoffee.v25i.folder/', epochs=100, batch=32, imgsz=256)"
      ]
    },
    {
      "cell_type": "code",
      "execution_count": 7,
      "metadata": {
        "id": "BAFXnd2JSf6d",
        "colab": {
          "base_uri": "https://localhost:8080/"
        },
        "outputId": "92b9cd8b-8176-4790-cc87-a2d5a0487e46"
      },
      "outputs": [
        {
          "output_type": "stream",
          "name": "stdout",
          "text": [
            "Ultralytics 8.3.159 🚀 Python-3.11.13 torch-2.6.0+cu124 CUDA:0 (Tesla T4, 15095MiB)\n",
            "\u001b[34m\u001b[1mtrain:\u001b[0m /content/drive/MyDrive/TypeCoffee.v25i.folder/train... found 1049 images in 5 classes ✅ \n",
            "\u001b[34m\u001b[1mval:\u001b[0m /content/drive/MyDrive/TypeCoffee.v25i.folder/val... found 60 images in 5 classes ✅ \n",
            "\u001b[34m\u001b[1mtest:\u001b[0m /content/drive/MyDrive/TypeCoffee.v25i.folder/test... found 100 images in 5 classes ✅ \n",
            "\u001b[34m\u001b[1mtest: \u001b[0mFast image access ✅ (ping: 0.3±0.1 ms, read: 0.0±0.0 MB/s, size: 23.3 KB)\n"
          ]
        },
        {
          "output_type": "stream",
          "name": "stderr",
          "text": [
            "\u001b[34m\u001b[1mtest: \u001b[0mScanning /content/drive/MyDrive/TypeCoffee.v25i.folder/test... 100 images, 0 corrupt: 100%|██████████| 100/100 [00:00<?, ?it/s]\n",
            "               classes   top1_acc   top5_acc: 100%|██████████| 4/4 [00:11<00:00,  2.86s/it]\n"
          ]
        },
        {
          "output_type": "stream",
          "name": "stdout",
          "text": [
            "                   all       0.91          1\n",
            "Speed: 0.3ms preprocess, 2.1ms inference, 0.0ms loss, 0.0ms postprocess per image\n",
            "Results saved to \u001b[1mruns/classify/train23\u001b[0m\n"
          ]
        },
        {
          "output_type": "execute_result",
          "data": {
            "text/plain": [
              "1.0"
            ]
          },
          "metadata": {},
          "execution_count": 7
        }
      ],
      "source": [
        "#from ultralytics import YOLO\n",
        "\n",
        "# Load a model\n",
        "#model = YOLO(\"yolo11m-cls.pt\")  # load an official model\n",
        "#model = YOLO(\"/content/runs/classify/train4/weights/best.pt\")  # load a custom model\n",
        "\n",
        "# Validate the model\n",
        "metrics = model.val(data='/content/drive/MyDrive/TypeCoffee.v25i.folder/',split='test')  # no arguments needed, dataset and settings remembered\n",
        "metrics.top1  # top1 accuracy\n",
        "metrics.top5  # top5 accuracy"
      ]
    },
    {
      "cell_type": "code",
      "source": [
        "print(\"Resultados da avaliação:\", metrics)"
      ],
      "metadata": {
        "colab": {
          "base_uri": "https://localhost:8080/"
        },
        "id": "4dQtOFhvZZH3",
        "outputId": "51999f59-4f83-44cd-9e1f-ea3af07f75d2"
      },
      "execution_count": 8,
      "outputs": [
        {
          "output_type": "stream",
          "name": "stdout",
          "text": [
            "Resultados da avaliação: ultralytics.utils.metrics.ClassifyMetrics object with attributes:\n",
            "\n",
            "confusion_matrix: <ultralytics.utils.metrics.ConfusionMatrix object at 0x7c1d223a4e10>\n",
            "curves: []\n",
            "curves_results: []\n",
            "fitness: 0.9550000131130219\n",
            "keys: ['metrics/accuracy_top1', 'metrics/accuracy_top5']\n",
            "results_dict: {'metrics/accuracy_top1': 0.9100000262260437, 'metrics/accuracy_top5': 1.0, 'fitness': 0.9550000131130219}\n",
            "save_dir: PosixPath('runs/classify/train23')\n",
            "speed: {'preprocess': 0.25431666998883884, 'inference': 2.1379335399888078, 'loss': 0.0004863700087298639, 'postprocess': 0.000903349991858704}\n",
            "task: 'classify'\n",
            "top1: 0.9100000262260437\n",
            "top5: 1.0\n"
          ]
        }
      ]
    },
    {
      "cell_type": "code",
      "source": [
        "import os\n",
        "import time\n",
        "import numpy as np\n",
        "\n",
        "# Lista para armazenar tempos de inferência\n",
        "tempos_de_inferencia = []\n",
        "\n",
        "# Caminho das imagens para inferência\n",
        "caminho_dados = \"/content/drive/MyDrive/TypeCoffee.v28i.folder/train/Mole\"\n",
        "imagens = [os.path.join(caminho_dados, nome) for nome in os.listdir(caminho_dados)]\n",
        "\n",
        "for imagem in imagens:\n",
        "    inicio = time.time()  # Marca o início do processo\n",
        "    model.predict(imagem, save=True, imgsz=256, conf=0.4, batch=1)  # Realiza inferência\n",
        "    fim = time.time()  # Marca o fim do processo\n",
        "\n",
        "    # Calcula o tempo de inferência\n",
        "    tempos_de_inferencia.append(fim - inicio)\n",
        "\n",
        "# Cálculo da média dos tempos\n",
        "media_tempo_inferencia = np.mean(tempos_de_inferencia)\n",
        "\n",
        "print(f\"Média do tempo de inferência: {media_tempo_inferencia:.4f} segundos\")"
      ],
      "metadata": {
        "colab": {
          "base_uri": "https://localhost:8080/"
        },
        "id": "atuiJqKCuuuy",
        "outputId": "5c4ffdcf-7695-4390-ff2f-532997091f79"
      },
      "execution_count": 9,
      "outputs": [
        {
          "output_type": "stream",
          "name": "stdout",
          "text": [
            "\n",
            "image 1/1 /content/drive/MyDrive/TypeCoffee.v28i.folder/train/Mole/40Mole_jpeg.rf.fc8ff5f87b55e3a063730a36887a401c.jpg: 256x256 Mole 1.00, DuroRiadoRio 0.00, RioFechado 0.00, RiadoRio 0.00, Quebrado 0.00, 4.4ms\n",
            "Speed: 2.3ms preprocess, 4.4ms inference, 0.1ms postprocess per image at shape (1, 3, 256, 256)\n",
            "Results saved to \u001b[1mruns/classify/train4\u001b[0m\n",
            "\n",
            "image 1/1 /content/drive/MyDrive/TypeCoffee.v28i.folder/train/Mole/29Mole_jpeg.rf.2085340c8194d9e49c217b19d26855c4.jpg: 256x256 Mole 1.00, RiadoRio 0.00, DuroRiadoRio 0.00, RioFechado 0.00, Quebrado 0.00, 4.4ms\n",
            "Speed: 3.0ms preprocess, 4.4ms inference, 0.1ms postprocess per image at shape (1, 3, 256, 256)\n",
            "Results saved to \u001b[1mruns/classify/train5\u001b[0m\n",
            "\n",
            "image 1/1 /content/drive/MyDrive/TypeCoffee.v28i.folder/train/Mole/41Mole_jpeg.rf.fc72dc837a4447c5401f89c964f7f2b0.jpg: 256x256 Mole 1.00, DuroRiadoRio 0.00, RioFechado 0.00, RiadoRio 0.00, Quebrado 0.00, 4.6ms\n",
            "Speed: 2.3ms preprocess, 4.6ms inference, 0.1ms postprocess per image at shape (1, 3, 256, 256)\n",
            "Results saved to \u001b[1mruns/classify/train6\u001b[0m\n",
            "\n",
            "image 1/1 /content/drive/MyDrive/TypeCoffee.v28i.folder/train/Mole/48Mole_jpeg.rf.c9797b084f22b93a804e8cdda2f159fc.jpg: 256x256 Mole 1.00, DuroRiadoRio 0.00, RioFechado 0.00, RiadoRio 0.00, Quebrado 0.00, 4.2ms\n",
            "Speed: 2.1ms preprocess, 4.2ms inference, 0.1ms postprocess per image at shape (1, 3, 256, 256)\n",
            "Results saved to \u001b[1mruns/classify/train7\u001b[0m\n",
            "\n",
            "image 1/1 /content/drive/MyDrive/TypeCoffee.v28i.folder/train/Mole/28Mole_jpeg.rf.e2b4c774ff24357906ae25c81ffb933e.jpg: 256x256 Mole 1.00, DuroRiadoRio 0.00, RiadoRio 0.00, Quebrado 0.00, RioFechado 0.00, 4.4ms\n",
            "Speed: 1.8ms preprocess, 4.4ms inference, 0.1ms postprocess per image at shape (1, 3, 256, 256)\n",
            "Results saved to \u001b[1mruns/classify/train8\u001b[0m\n",
            "\n",
            "image 1/1 /content/drive/MyDrive/TypeCoffee.v28i.folder/train/Mole/Mole008_jpeg.rf.4e6ae3f6739226f160baa54e060cc9b1.jpg: 256x256 Mole 1.00, RiadoRio 0.00, DuroRiadoRio 0.00, RioFechado 0.00, Quebrado 0.00, 4.6ms\n",
            "Speed: 2.8ms preprocess, 4.6ms inference, 0.1ms postprocess per image at shape (1, 3, 256, 256)\n",
            "Results saved to \u001b[1mruns/classify/train9\u001b[0m\n",
            "\n",
            "image 1/1 /content/drive/MyDrive/TypeCoffee.v28i.folder/train/Mole/WhatsApp-Image-2024-09-06-at-11-30-42_jpeg.rf.4b4025dde160eb03768f34a57ba7eb40.jpg: 256x256 Mole 1.00, DuroRiadoRio 0.00, RiadoRio 0.00, RioFechado 0.00, Quebrado 0.00, 4.3ms\n",
            "Speed: 1.8ms preprocess, 4.3ms inference, 0.1ms postprocess per image at shape (1, 3, 256, 256)\n",
            "Results saved to \u001b[1mruns/classify/train10\u001b[0m\n",
            "\n",
            "image 1/1 /content/drive/MyDrive/TypeCoffee.v28i.folder/train/Mole/16Mole_jpeg.rf.65ea6c151704ba077eb5517428498932.jpg: 256x256 Mole 1.00, RiadoRio 0.00, DuroRiadoRio 0.00, RioFechado 0.00, Quebrado 0.00, 5.1ms\n",
            "Speed: 2.1ms preprocess, 5.1ms inference, 0.1ms postprocess per image at shape (1, 3, 256, 256)\n",
            "Results saved to \u001b[1mruns/classify/train11\u001b[0m\n",
            "\n",
            "image 1/1 /content/drive/MyDrive/TypeCoffee.v28i.folder/train/Mole/Mole010_jpeg.rf.8735da7f5d5c753b2d822b07607cd678.jpg: 256x256 Mole 1.00, DuroRiadoRio 0.00, RiadoRio 0.00, Quebrado 0.00, RioFechado 0.00, 4.5ms\n",
            "Speed: 2.3ms preprocess, 4.5ms inference, 0.0ms postprocess per image at shape (1, 3, 256, 256)\n",
            "Results saved to \u001b[1mruns/classify/train12\u001b[0m\n",
            "\n",
            "image 1/1 /content/drive/MyDrive/TypeCoffee.v28i.folder/train/Mole/02Mole_jpeg.rf.57961021da84c985331f747aa596d1dd.jpg: 256x256 Mole 0.99, DuroRiadoRio 0.01, RiadoRio 0.00, RioFechado 0.00, Quebrado 0.00, 4.7ms\n",
            "Speed: 1.9ms preprocess, 4.7ms inference, 0.1ms postprocess per image at shape (1, 3, 256, 256)\n",
            "Results saved to \u001b[1mruns/classify/train13\u001b[0m\n",
            "\n",
            "image 1/1 /content/drive/MyDrive/TypeCoffee.v28i.folder/train/Mole/WhatsApp-Image-2024-05-09-at-12-46-41-1-_jpeg.rf.49bf411c51717e70458f5ae532daeb83.jpg: 256x256 Mole 1.00, DuroRiadoRio 0.00, RiadoRio 0.00, Quebrado 0.00, RioFechado 0.00, 4.2ms\n",
            "Speed: 1.9ms preprocess, 4.2ms inference, 0.1ms postprocess per image at shape (1, 3, 256, 256)\n",
            "Results saved to \u001b[1mruns/classify/train14\u001b[0m\n",
            "\n",
            "image 1/1 /content/drive/MyDrive/TypeCoffee.v28i.folder/train/Mole/47Mole_jpeg.rf.ce31e6cb9c6701d1033004e6c0be6da8.jpg: 256x256 Mole 1.00, DuroRiadoRio 0.00, RioFechado 0.00, RiadoRio 0.00, Quebrado 0.00, 4.5ms\n",
            "Speed: 1.9ms preprocess, 4.5ms inference, 0.1ms postprocess per image at shape (1, 3, 256, 256)\n",
            "Results saved to \u001b[1mruns/classify/train15\u001b[0m\n",
            "\n",
            "image 1/1 /content/drive/MyDrive/TypeCoffee.v28i.folder/train/Mole/21Mole_jpeg.rf.f3d632d279d0e93c8da1015c2fa31f11.jpg: 256x256 Mole 1.00, RiadoRio 0.00, DuroRiadoRio 0.00, RioFechado 0.00, Quebrado 0.00, 5.7ms\n",
            "Speed: 2.4ms preprocess, 5.7ms inference, 0.1ms postprocess per image at shape (1, 3, 256, 256)\n",
            "Results saved to \u001b[1mruns/classify/train16\u001b[0m\n",
            "\n",
            "image 1/1 /content/drive/MyDrive/TypeCoffee.v28i.folder/train/Mole/32Mole_jpeg.rf.d6ae49cb230d163f12abc3ec401c2611.jpg: 256x256 Mole 0.99, DuroRiadoRio 0.01, RioFechado 0.00, RiadoRio 0.00, Quebrado 0.00, 4.3ms\n",
            "Speed: 2.3ms preprocess, 4.3ms inference, 0.1ms postprocess per image at shape (1, 3, 256, 256)\n",
            "Results saved to \u001b[1mruns/classify/train17\u001b[0m\n",
            "\n",
            "image 1/1 /content/drive/MyDrive/TypeCoffee.v28i.folder/train/Mole/WhatsApp-Image-2024-09-06-at-11-30-40_jpeg.rf.44d7363710775a5ad8939b4c40b16ae6.jpg: 256x256 Mole 1.00, DuroRiadoRio 0.00, RiadoRio 0.00, RioFechado 0.00, Quebrado 0.00, 4.3ms\n",
            "Speed: 1.8ms preprocess, 4.3ms inference, 0.0ms postprocess per image at shape (1, 3, 256, 256)\n",
            "Results saved to \u001b[1mruns/classify/train18\u001b[0m\n",
            "\n",
            "image 1/1 /content/drive/MyDrive/TypeCoffee.v28i.folder/train/Mole/49Mole_jpeg.rf.d14eec8842e7ec0f58f1d693bf6b01a9.jpg: 256x256 Mole 0.95, DuroRiadoRio 0.05, RioFechado 0.00, RiadoRio 0.00, Quebrado 0.00, 4.4ms\n",
            "Speed: 2.0ms preprocess, 4.4ms inference, 0.0ms postprocess per image at shape (1, 3, 256, 256)\n",
            "Results saved to \u001b[1mruns/classify/train19\u001b[0m\n",
            "\n",
            "image 1/1 /content/drive/MyDrive/TypeCoffee.v28i.folder/train/Mole/15Mole_jpeg.rf.f247e37bd664702109edc5ef20e1d430.jpg: 256x256 Mole 1.00, RiadoRio 0.00, DuroRiadoRio 0.00, RioFechado 0.00, Quebrado 0.00, 4.3ms\n",
            "Speed: 1.9ms preprocess, 4.3ms inference, 0.0ms postprocess per image at shape (1, 3, 256, 256)\n",
            "Results saved to \u001b[1mruns/classify/train20\u001b[0m\n",
            "\n",
            "image 1/1 /content/drive/MyDrive/TypeCoffee.v28i.folder/train/Mole/WhatsApp-Image-2024-05-09-at-12-46-41-3-_jpeg.rf.c005e3e4ed4fbeb6f0e368dc2dd8296b.jpg: 256x256 Mole 1.00, RiadoRio 0.00, DuroRiadoRio 0.00, RioFechado 0.00, Quebrado 0.00, 4.4ms\n",
            "Speed: 2.3ms preprocess, 4.4ms inference, 0.1ms postprocess per image at shape (1, 3, 256, 256)\n",
            "Results saved to \u001b[1mruns/classify/train21\u001b[0m\n",
            "\n",
            "image 1/1 /content/drive/MyDrive/TypeCoffee.v28i.folder/train/Mole/33Mole_jpeg.rf.525471f984069301cee92367f6d5e9ab.jpg: 256x256 Mole 1.00, DuroRiadoRio 0.00, RioFechado 0.00, RiadoRio 0.00, Quebrado 0.00, 4.5ms\n",
            "Speed: 1.9ms preprocess, 4.5ms inference, 0.1ms postprocess per image at shape (1, 3, 256, 256)\n",
            "Results saved to \u001b[1mruns/classify/train22\u001b[0m\n",
            "\n",
            "image 1/1 /content/drive/MyDrive/TypeCoffee.v28i.folder/train/Mole/WhatsApp-Image-2024-09-06-at-11-30-41_jpeg.rf.4340fbcfeb6cb8a6eed91ec8e6499dbe.jpg: 256x256 Mole 1.00, DuroRiadoRio 0.00, RiadoRio 0.00, RioFechado 0.00, Quebrado 0.00, 4.4ms\n",
            "Speed: 2.2ms preprocess, 4.4ms inference, 0.1ms postprocess per image at shape (1, 3, 256, 256)\n",
            "Results saved to \u001b[1mruns/classify/train23\u001b[0m\n",
            "\n",
            "image 1/1 /content/drive/MyDrive/TypeCoffee.v28i.folder/train/Mole/39Mole_jpeg.rf.6a8bf7063d2d23628d3912c74da20022.jpg: 256x256 Mole 0.96, DuroRiadoRio 0.04, RioFechado 0.00, Quebrado 0.00, RiadoRio 0.00, 4.2ms\n",
            "Speed: 2.6ms preprocess, 4.2ms inference, 0.0ms postprocess per image at shape (1, 3, 256, 256)\n",
            "Results saved to \u001b[1mruns/classify/train24\u001b[0m\n",
            "\n",
            "image 1/1 /content/drive/MyDrive/TypeCoffee.v28i.folder/train/Mole/WhatsApp-Image-2024-05-09-at-12-46-39-2-_jpeg.rf.2d77671feea0ff637f1108dc9946cb0a.jpg: 256x256 Mole 0.98, RiadoRio 0.02, DuroRiadoRio 0.00, RioFechado 0.00, Quebrado 0.00, 4.8ms\n",
            "Speed: 2.3ms preprocess, 4.8ms inference, 0.0ms postprocess per image at shape (1, 3, 256, 256)\n",
            "Results saved to \u001b[1mruns/classify/train25\u001b[0m\n",
            "\n",
            "image 1/1 /content/drive/MyDrive/TypeCoffee.v28i.folder/train/Mole/42Mole_jpeg.rf.120de6acfcb44582830951662fffe335.jpg: 256x256 Mole 0.99, DuroRiadoRio 0.01, RioFechado 0.00, RiadoRio 0.00, Quebrado 0.00, 4.5ms\n",
            "Speed: 1.8ms preprocess, 4.5ms inference, 0.0ms postprocess per image at shape (1, 3, 256, 256)\n",
            "Results saved to \u001b[1mruns/classify/train26\u001b[0m\n",
            "\n",
            "image 1/1 /content/drive/MyDrive/TypeCoffee.v28i.folder/train/Mole/WhatsApp-Image-2024-09-06-at-11-30-45-3-_jpeg.rf.960dcf05ea18ef96c9d4b14dac4c78ad.jpg: 256x256 Mole 0.89, DuroRiadoRio 0.11, RiadoRio 0.00, RioFechado 0.00, Quebrado 0.00, 5.2ms\n",
            "Speed: 3.2ms preprocess, 5.2ms inference, 0.0ms postprocess per image at shape (1, 3, 256, 256)\n",
            "Results saved to \u001b[1mruns/classify/train27\u001b[0m\n",
            "\n",
            "image 1/1 /content/drive/MyDrive/TypeCoffee.v28i.folder/train/Mole/WhatsApp-Image-2024-09-06-at-11-30-44-2-_jpeg.rf.f5265022338bf657a2b0252a4601f5de.jpg: 256x256 Mole 1.00, DuroRiadoRio 0.00, RiadoRio 0.00, RioFechado 0.00, Quebrado 0.00, 4.4ms\n",
            "Speed: 2.5ms preprocess, 4.4ms inference, 0.1ms postprocess per image at shape (1, 3, 256, 256)\n",
            "Results saved to \u001b[1mruns/classify/train28\u001b[0m\n",
            "\n",
            "image 1/1 /content/drive/MyDrive/TypeCoffee.v28i.folder/train/Mole/22Mole_jpeg.rf.3cf1fcb52172d497b768eee38b82289f.jpg: 256x256 Mole 1.00, RiadoRio 0.00, DuroRiadoRio 0.00, RioFechado 0.00, Quebrado 0.00, 5.5ms\n",
            "Speed: 2.0ms preprocess, 5.5ms inference, 0.0ms postprocess per image at shape (1, 3, 256, 256)\n",
            "Results saved to \u001b[1mruns/classify/train29\u001b[0m\n",
            "\n",
            "image 1/1 /content/drive/MyDrive/TypeCoffee.v28i.folder/train/Mole/24Mole_jpeg.rf.4dd5c4369ef7d30e6480c9e6f860398b.jpg: 256x256 Mole 1.00, DuroRiadoRio 0.00, RiadoRio 0.00, RioFechado 0.00, Quebrado 0.00, 4.3ms\n",
            "Speed: 1.8ms preprocess, 4.3ms inference, 0.1ms postprocess per image at shape (1, 3, 256, 256)\n",
            "Results saved to \u001b[1mruns/classify/train30\u001b[0m\n",
            "\n",
            "image 1/1 /content/drive/MyDrive/TypeCoffee.v28i.folder/train/Mole/10Mole_jpeg.rf.b8ea0e7261e1575526dc4f8e3365dca4.jpg: 256x256 Mole 0.97, DuroRiadoRio 0.03, RioFechado 0.00, RiadoRio 0.00, Quebrado 0.00, 4.4ms\n",
            "Speed: 2.0ms preprocess, 4.4ms inference, 0.0ms postprocess per image at shape (1, 3, 256, 256)\n",
            "Results saved to \u001b[1mruns/classify/train31\u001b[0m\n",
            "\n",
            "image 1/1 /content/drive/MyDrive/TypeCoffee.v28i.folder/train/Mole/WhatsApp-Image-2024-05-09-at-12-46-40_jpeg.rf.6f2207cc10abe5f3615ca3c07212c0be.jpg: 256x256 Mole 0.99, DuroRiadoRio 0.01, RiadoRio 0.00, RioFechado 0.00, Quebrado 0.00, 4.3ms\n",
            "Speed: 1.8ms preprocess, 4.3ms inference, 0.0ms postprocess per image at shape (1, 3, 256, 256)\n",
            "Results saved to \u001b[1mruns/classify/train32\u001b[0m\n",
            "\n",
            "image 1/1 /content/drive/MyDrive/TypeCoffee.v28i.folder/train/Mole/Mole003_jpeg.rf.a3aa6afad8eeff8c9ac6399ded42f0e9.jpg: 256x256 Mole 1.00, RiadoRio 0.00, DuroRiadoRio 0.00, RioFechado 0.00, Quebrado 0.00, 4.5ms\n",
            "Speed: 1.9ms preprocess, 4.5ms inference, 0.1ms postprocess per image at shape (1, 3, 256, 256)\n",
            "Results saved to \u001b[1mruns/classify/train33\u001b[0m\n",
            "\n",
            "image 1/1 /content/drive/MyDrive/TypeCoffee.v28i.folder/train/Mole/WhatsApp-Image-2024-09-06-at-11-30-46_jpeg.rf.11a6bd3ceb0e94bb6c508b38ecd75fcf.jpg: 256x256 Mole 1.00, DuroRiadoRio 0.00, RiadoRio 0.00, Quebrado 0.00, RioFechado 0.00, 4.4ms\n",
            "Speed: 2.0ms preprocess, 4.4ms inference, 0.1ms postprocess per image at shape (1, 3, 256, 256)\n",
            "Results saved to \u001b[1mruns/classify/train34\u001b[0m\n",
            "\n",
            "image 1/1 /content/drive/MyDrive/TypeCoffee.v28i.folder/train/Mole/WhatsApp-Image-2024-09-06-at-11-30-45_jpeg.rf.9c5a075deb7a006fe16f0c70228e7d22.jpg: 256x256 Mole 0.94, RiadoRio 0.05, DuroRiadoRio 0.01, RioFechado 0.00, Quebrado 0.00, 5.3ms\n",
            "Speed: 1.8ms preprocess, 5.3ms inference, 0.0ms postprocess per image at shape (1, 3, 256, 256)\n",
            "Results saved to \u001b[1mruns/classify/train35\u001b[0m\n",
            "\n",
            "image 1/1 /content/drive/MyDrive/TypeCoffee.v28i.folder/train/Mole/38Mole_jpeg.rf.7018764e93bbf59654f357277105e9d7.jpg: 256x256 Mole 1.00, DuroRiadoRio 0.00, RioFechado 0.00, RiadoRio 0.00, Quebrado 0.00, 4.2ms\n",
            "Speed: 2.0ms preprocess, 4.2ms inference, 0.0ms postprocess per image at shape (1, 3, 256, 256)\n",
            "Results saved to \u001b[1mruns/classify/train36\u001b[0m\n",
            "\n",
            "image 1/1 /content/drive/MyDrive/TypeCoffee.v28i.folder/train/Mole/Mole009_jpeg.rf.8acc5860162416036b0f4e5f725ba0e2.jpg: 256x256 Mole 1.00, RiadoRio 0.00, DuroRiadoRio 0.00, RioFechado 0.00, Quebrado 0.00, 4.2ms\n",
            "Speed: 1.9ms preprocess, 4.2ms inference, 0.0ms postprocess per image at shape (1, 3, 256, 256)\n",
            "Results saved to \u001b[1mruns/classify/train37\u001b[0m\n",
            "\n",
            "image 1/1 /content/drive/MyDrive/TypeCoffee.v28i.folder/train/Mole/37Mole_jpeg.rf.02c5610ad7dd5711ed9d62f12018ef0f.jpg: 256x256 Mole 0.97, RiadoRio 0.02, DuroRiadoRio 0.00, RioFechado 0.00, Quebrado 0.00, 4.3ms\n",
            "Speed: 1.9ms preprocess, 4.3ms inference, 0.0ms postprocess per image at shape (1, 3, 256, 256)\n",
            "Results saved to \u001b[1mruns/classify/train38\u001b[0m\n",
            "\n",
            "image 1/1 /content/drive/MyDrive/TypeCoffee.v28i.folder/train/Mole/WhatsApp-Image-2024-05-09-at-12-46-39-1-_jpeg.rf.d22f44fca76650a8147c6a9280b0eea1.jpg: 256x256 Mole 1.00, RiadoRio 0.00, DuroRiadoRio 0.00, RioFechado 0.00, Quebrado 0.00, 4.2ms\n",
            "Speed: 1.8ms preprocess, 4.2ms inference, 0.0ms postprocess per image at shape (1, 3, 256, 256)\n",
            "Results saved to \u001b[1mruns/classify/train39\u001b[0m\n",
            "\n",
            "image 1/1 /content/drive/MyDrive/TypeCoffee.v28i.folder/train/Mole/20Mole_jpeg.rf.97638cb2adee4357c9403ca329b27e69.jpg: 256x256 Mole 1.00, RiadoRio 0.00, DuroRiadoRio 0.00, RioFechado 0.00, Quebrado 0.00, 4.2ms\n",
            "Speed: 1.9ms preprocess, 4.2ms inference, 0.0ms postprocess per image at shape (1, 3, 256, 256)\n",
            "Results saved to \u001b[1mruns/classify/train40\u001b[0m\n",
            "\n",
            "image 1/1 /content/drive/MyDrive/TypeCoffee.v28i.folder/train/Mole/Mole002_jpeg.rf.ffcb69147047ae3ea100eda282e811e4.jpg: 256x256 Mole 1.00, RiadoRio 0.00, DuroRiadoRio 0.00, RioFechado 0.00, Quebrado 0.00, 4.2ms\n",
            "Speed: 1.9ms preprocess, 4.2ms inference, 0.0ms postprocess per image at shape (1, 3, 256, 256)\n",
            "Results saved to \u001b[1mruns/classify/train41\u001b[0m\n",
            "\n",
            "image 1/1 /content/drive/MyDrive/TypeCoffee.v28i.folder/train/Mole/34Mole_jpeg.rf.241e42b2f064ffbd26cff6d514cbcbd7.jpg: 256x256 Mole 1.00, DuroRiadoRio 0.00, RioFechado 0.00, RiadoRio 0.00, Quebrado 0.00, 4.2ms\n",
            "Speed: 1.8ms preprocess, 4.2ms inference, 0.0ms postprocess per image at shape (1, 3, 256, 256)\n",
            "Results saved to \u001b[1mruns/classify/train42\u001b[0m\n",
            "\n",
            "image 1/1 /content/drive/MyDrive/TypeCoffee.v28i.folder/train/Mole/25Mole_jpeg.rf.a6f09c68e377d5ad2dcdd1f3981d7018.jpg: 256x256 Mole 1.00, RiadoRio 0.00, DuroRiadoRio 0.00, RioFechado 0.00, Quebrado 0.00, 4.2ms\n",
            "Speed: 1.8ms preprocess, 4.2ms inference, 0.0ms postprocess per image at shape (1, 3, 256, 256)\n",
            "Results saved to \u001b[1mruns/classify/train43\u001b[0m\n",
            "\n",
            "image 1/1 /content/drive/MyDrive/TypeCoffee.v28i.folder/train/Mole/WhatsApp-Image-2024-09-06-at-11-30-45-1-_jpeg.rf.3aaf4cd44acf4e1f63bbaf495ce54bc5.jpg: 256x256 Mole 0.97, DuroRiadoRio 0.03, RiadoRio 0.00, Quebrado 0.00, RioFechado 0.00, 4.3ms\n",
            "Speed: 1.9ms preprocess, 4.3ms inference, 0.0ms postprocess per image at shape (1, 3, 256, 256)\n",
            "Results saved to \u001b[1mruns/classify/train44\u001b[0m\n",
            "\n",
            "image 1/1 /content/drive/MyDrive/TypeCoffee.v28i.folder/train/Mole/45Mole_jpeg.rf.5bf258538a3188b9c3e35e3897afd89b.jpg: 256x256 Mole 0.61, RioFechado 0.36, DuroRiadoRio 0.03, RiadoRio 0.00, Quebrado 0.00, 4.3ms\n",
            "Speed: 1.9ms preprocess, 4.3ms inference, 0.1ms postprocess per image at shape (1, 3, 256, 256)\n",
            "Results saved to \u001b[1mruns/classify/train45\u001b[0m\n",
            "\n",
            "image 1/1 /content/drive/MyDrive/TypeCoffee.v28i.folder/train/Mole/30Mole_jpeg.rf.ab2d1064c0cf4bf6809b5e05ebcded99.jpg: 256x256 Mole 1.00, DuroRiadoRio 0.00, RiadoRio 0.00, Quebrado 0.00, RioFechado 0.00, 4.3ms\n",
            "Speed: 1.9ms preprocess, 4.3ms inference, 0.0ms postprocess per image at shape (1, 3, 256, 256)\n",
            "Results saved to \u001b[1mruns/classify/train46\u001b[0m\n",
            "\n",
            "image 1/1 /content/drive/MyDrive/TypeCoffee.v28i.folder/train/Mole/WhatsApp-Image-2024-05-09-at-12-46-39-3-_jpeg.rf.7c21b98baaad16f7baa56e4438f66f24.jpg: 256x256 Mole 1.00, RiadoRio 0.00, DuroRiadoRio 0.00, RioFechado 0.00, Quebrado 0.00, 4.3ms\n",
            "Speed: 1.9ms preprocess, 4.3ms inference, 0.1ms postprocess per image at shape (1, 3, 256, 256)\n",
            "Results saved to \u001b[1mruns/classify/train47\u001b[0m\n",
            "\n",
            "image 1/1 /content/drive/MyDrive/TypeCoffee.v28i.folder/train/Mole/WhatsApp-Image-2024-09-06-at-11-30-40-1-_jpeg.rf.6099a5c52f3ebb8e8e393fd34eb79186.jpg: 256x256 Mole 1.00, RiadoRio 0.00, DuroRiadoRio 0.00, RioFechado 0.00, Quebrado 0.00, 5.1ms\n",
            "Speed: 1.9ms preprocess, 5.1ms inference, 0.0ms postprocess per image at shape (1, 3, 256, 256)\n",
            "Results saved to \u001b[1mruns/classify/train48\u001b[0m\n",
            "\n",
            "image 1/1 /content/drive/MyDrive/TypeCoffee.v28i.folder/train/Mole/03Mole_jpeg.rf.3e97b575bfcec2bcad4d693b125f2261.jpg: 256x256 Mole 1.00, DuroRiadoRio 0.00, RioFechado 0.00, RiadoRio 0.00, Quebrado 0.00, 4.4ms\n",
            "Speed: 1.8ms preprocess, 4.4ms inference, 0.0ms postprocess per image at shape (1, 3, 256, 256)\n",
            "Results saved to \u001b[1mruns/classify/train49\u001b[0m\n",
            "\n",
            "image 1/1 /content/drive/MyDrive/TypeCoffee.v28i.folder/train/Mole/23Mole_jpeg.rf.c1d0aa9e756e6d1181684aac33e7dd77.jpg: 256x256 Mole 1.00, RiadoRio 0.00, DuroRiadoRio 0.00, RioFechado 0.00, Quebrado 0.00, 4.3ms\n",
            "Speed: 1.8ms preprocess, 4.3ms inference, 0.0ms postprocess per image at shape (1, 3, 256, 256)\n",
            "Results saved to \u001b[1mruns/classify/train50\u001b[0m\n",
            "\n",
            "image 1/1 /content/drive/MyDrive/TypeCoffee.v28i.folder/train/Mole/WhatsApp-Image-2024-09-06-at-11-30-43_jpeg.rf.00f4a3ba86d3d6474a3dc71e6829a3b9.jpg: 256x256 Mole 0.99, DuroRiadoRio 0.01, RiadoRio 0.00, RioFechado 0.00, Quebrado 0.00, 4.5ms\n",
            "Speed: 1.8ms preprocess, 4.5ms inference, 0.1ms postprocess per image at shape (1, 3, 256, 256)\n",
            "Results saved to \u001b[1mruns/classify/train51\u001b[0m\n",
            "\n",
            "image 1/1 /content/drive/MyDrive/TypeCoffee.v28i.folder/train/Mole/17Mole_jpeg.rf.b66ab9c447fd7527e313add9b8947721.jpg: 256x256 Mole 1.00, RiadoRio 0.00, DuroRiadoRio 0.00, RioFechado 0.00, Quebrado 0.00, 4.3ms\n",
            "Speed: 1.9ms preprocess, 4.3ms inference, 0.1ms postprocess per image at shape (1, 3, 256, 256)\n",
            "Results saved to \u001b[1mruns/classify/train52\u001b[0m\n",
            "\n",
            "image 1/1 /content/drive/MyDrive/TypeCoffee.v28i.folder/train/Mole/14Mole_jpeg.rf.9df8edec6460dc0c4bce186a9d420de1.jpg: 256x256 Mole 0.86, DuroRiadoRio 0.12, RioFechado 0.01, RiadoRio 0.01, Quebrado 0.00, 4.4ms\n",
            "Speed: 1.9ms preprocess, 4.4ms inference, 0.0ms postprocess per image at shape (1, 3, 256, 256)\n",
            "Results saved to \u001b[1mruns/classify/train53\u001b[0m\n",
            "\n",
            "image 1/1 /content/drive/MyDrive/TypeCoffee.v28i.folder/train/Mole/09Mole_jpeg.rf.5194fecb2cee3b32fb905479edec71d8.jpg: 256x256 Mole 1.00, RiadoRio 0.00, RioFechado 0.00, DuroRiadoRio 0.00, Quebrado 0.00, 4.3ms\n",
            "Speed: 1.8ms preprocess, 4.3ms inference, 0.0ms postprocess per image at shape (1, 3, 256, 256)\n",
            "Results saved to \u001b[1mruns/classify/train54\u001b[0m\n",
            "\n",
            "image 1/1 /content/drive/MyDrive/TypeCoffee.v28i.folder/train/Mole/WhatsApp-Image-2024-05-09-at-12-46-41-2-_jpeg.rf.fa4bbef2c4f5e0c41ce9d74ed9a80c1c.jpg: 256x256 Mole 1.00, RiadoRio 0.00, DuroRiadoRio 0.00, RioFechado 0.00, Quebrado 0.00, 4.3ms\n",
            "Speed: 2.6ms preprocess, 4.3ms inference, 0.0ms postprocess per image at shape (1, 3, 256, 256)\n",
            "Results saved to \u001b[1mruns/classify/train55\u001b[0m\n",
            "\n",
            "image 1/1 /content/drive/MyDrive/TypeCoffee.v28i.folder/train/Mole/07Mole_jpeg.rf.80d975fbac42ea77ffe088fdbf42f6d6.jpg: 256x256 Mole 1.00, RiadoRio 0.00, DuroRiadoRio 0.00, RioFechado 0.00, Quebrado 0.00, 4.3ms\n",
            "Speed: 1.8ms preprocess, 4.3ms inference, 0.0ms postprocess per image at shape (1, 3, 256, 256)\n",
            "Results saved to \u001b[1mruns/classify/train56\u001b[0m\n",
            "\n",
            "image 1/1 /content/drive/MyDrive/TypeCoffee.v28i.folder/train/Mole/36Mole_jpeg.rf.6d4f8d93a4a1f1de0c1b25f9c39366bd.jpg: 256x256 Mole 1.00, DuroRiadoRio 0.00, RioFechado 0.00, RiadoRio 0.00, Quebrado 0.00, 4.4ms\n",
            "Speed: 2.3ms preprocess, 4.4ms inference, 0.1ms postprocess per image at shape (1, 3, 256, 256)\n",
            "Results saved to \u001b[1mruns/classify/train57\u001b[0m\n",
            "\n",
            "image 1/1 /content/drive/MyDrive/TypeCoffee.v28i.folder/train/Mole/Mole001_jpeg.rf.5423e4544185fe5023f45363329b6c61.jpg: 256x256 Mole 1.00, RiadoRio 0.00, DuroRiadoRio 0.00, RioFechado 0.00, Quebrado 0.00, 4.3ms\n",
            "Speed: 1.9ms preprocess, 4.3ms inference, 0.0ms postprocess per image at shape (1, 3, 256, 256)\n",
            "Results saved to \u001b[1mruns/classify/train58\u001b[0m\n",
            "\n",
            "image 1/1 /content/drive/MyDrive/TypeCoffee.v28i.folder/train/Mole/WhatsApp-Image-2024-09-06-at-11-30-42-1-_jpeg.rf.87abe70c2eef7e11890b63813e318449.jpg: 256x256 Mole 1.00, DuroRiadoRio 0.00, RiadoRio 0.00, RioFechado 0.00, Quebrado 0.00, 4.4ms\n",
            "Speed: 1.9ms preprocess, 4.4ms inference, 0.0ms postprocess per image at shape (1, 3, 256, 256)\n",
            "Results saved to \u001b[1mruns/classify/train59\u001b[0m\n",
            "\n",
            "image 1/1 /content/drive/MyDrive/TypeCoffee.v28i.folder/train/Mole/12Mole_jpeg.rf.c3d82be38e62eddb533be5a30a556b3b.jpg: 256x256 Mole 0.92, DuroRiadoRio 0.08, RiadoRio 0.00, Quebrado 0.00, RioFechado 0.00, 4.4ms\n",
            "Speed: 1.9ms preprocess, 4.4ms inference, 0.0ms postprocess per image at shape (1, 3, 256, 256)\n",
            "Results saved to \u001b[1mruns/classify/train60\u001b[0m\n",
            "\n",
            "image 1/1 /content/drive/MyDrive/TypeCoffee.v28i.folder/train/Mole/46Mole_jpeg.rf.d24d0bc000269c6bb06f42b7fb6a079a.jpg: 256x256 Mole 1.00, DuroRiadoRio 0.00, RioFechado 0.00, RiadoRio 0.00, Quebrado 0.00, 4.4ms\n",
            "Speed: 1.8ms preprocess, 4.4ms inference, 0.0ms postprocess per image at shape (1, 3, 256, 256)\n",
            "Results saved to \u001b[1mruns/classify/train61\u001b[0m\n",
            "\n",
            "image 1/1 /content/drive/MyDrive/TypeCoffee.v28i.folder/train/Mole/31Mole_jpeg.rf.faa2cfec61e08a92889e78a8067d1ed8.jpg: 256x256 Mole 1.00, DuroRiadoRio 0.00, RiadoRio 0.00, Quebrado 0.00, RioFechado 0.00, 4.2ms\n",
            "Speed: 1.9ms preprocess, 4.2ms inference, 0.0ms postprocess per image at shape (1, 3, 256, 256)\n",
            "Results saved to \u001b[1mruns/classify/train62\u001b[0m\n",
            "\n",
            "image 1/1 /content/drive/MyDrive/TypeCoffee.v28i.folder/train/Mole/06Mole_jpeg.rf.1e1918237751424b73264396414a6206.jpg: 256x256 Mole 1.00, DuroRiadoRio 0.00, RiadoRio 0.00, RioFechado 0.00, Quebrado 0.00, 4.2ms\n",
            "Speed: 2.0ms preprocess, 4.2ms inference, 0.1ms postprocess per image at shape (1, 3, 256, 256)\n",
            "Results saved to \u001b[1mruns/classify/train63\u001b[0m\n",
            "\n",
            "image 1/1 /content/drive/MyDrive/TypeCoffee.v28i.folder/train/Mole/WhatsApp-Image-2024-09-06-at-11-30-43-2-_jpeg.rf.fd9b07c9a7a48080ba12693ca589cf70.jpg: 256x256 Mole 0.90, DuroRiadoRio 0.10, RiadoRio 0.00, Quebrado 0.00, RioFechado 0.00, 4.2ms\n",
            "Speed: 1.9ms preprocess, 4.2ms inference, 0.0ms postprocess per image at shape (1, 3, 256, 256)\n",
            "Results saved to \u001b[1mruns/classify/train64\u001b[0m\n",
            "\n",
            "image 1/1 /content/drive/MyDrive/TypeCoffee.v28i.folder/train/Mole/Mole005_jpeg.rf.3e7d1571184f7875118422472daad12d.jpg: 256x256 Mole 1.00, RiadoRio 0.00, DuroRiadoRio 0.00, RioFechado 0.00, Quebrado 0.00, 4.3ms\n",
            "Speed: 2.7ms preprocess, 4.3ms inference, 0.0ms postprocess per image at shape (1, 3, 256, 256)\n",
            "Results saved to \u001b[1mruns/classify/train65\u001b[0m\n",
            "\n",
            "image 1/1 /content/drive/MyDrive/TypeCoffee.v28i.folder/train/Mole/WhatsApp-Image-2024-09-06-at-11-30-45-2-_jpeg.rf.3d8877c25b59447adf8063408e269c59.jpg: 256x256 Mole 1.00, RiadoRio 0.00, DuroRiadoRio 0.00, RioFechado 0.00, Quebrado 0.00, 4.2ms\n",
            "Speed: 1.9ms preprocess, 4.2ms inference, 0.0ms postprocess per image at shape (1, 3, 256, 256)\n",
            "Results saved to \u001b[1mruns/classify/train66\u001b[0m\n",
            "\n",
            "image 1/1 /content/drive/MyDrive/TypeCoffee.v28i.folder/train/Mole/WhatsApp-Image-2024-05-09-at-12-46-40-1-_jpeg.rf.692a22df1ffbea1ade31e60c190e5487.jpg: 256x256 Mole 0.96, RiadoRio 0.04, DuroRiadoRio 0.00, RioFechado 0.00, Quebrado 0.00, 4.5ms\n",
            "Speed: 1.9ms preprocess, 4.5ms inference, 0.1ms postprocess per image at shape (1, 3, 256, 256)\n",
            "Results saved to \u001b[1mruns/classify/train67\u001b[0m\n",
            "\n",
            "image 1/1 /content/drive/MyDrive/TypeCoffee.v28i.folder/train/Mole/44Mole_jpeg.rf.83cee53fde34a34416de9ffa3c8ad0ac.jpg: 256x256 Mole 0.76, DuroRiadoRio 0.24, RioFechado 0.00, Quebrado 0.00, RiadoRio 0.00, 5.4ms\n",
            "Speed: 1.8ms preprocess, 5.4ms inference, 0.0ms postprocess per image at shape (1, 3, 256, 256)\n",
            "Results saved to \u001b[1mruns/classify/train68\u001b[0m\n",
            "\n",
            "image 1/1 /content/drive/MyDrive/TypeCoffee.v28i.folder/train/Mole/WhatsApp-Image-2024-05-09-at-12-46-41_jpeg.rf.09dd01af78d6679d07df09795f1988d4.jpg: 256x256 Mole 1.00, DuroRiadoRio 0.00, RiadoRio 0.00, RioFechado 0.00, Quebrado 0.00, 4.4ms\n",
            "Speed: 1.8ms preprocess, 4.4ms inference, 0.0ms postprocess per image at shape (1, 3, 256, 256)\n",
            "Results saved to \u001b[1mruns/classify/train69\u001b[0m\n",
            "\n",
            "image 1/1 /content/drive/MyDrive/TypeCoffee.v28i.folder/train/Mole/WhatsApp-Image-2024-09-06-at-11-30-43-1-_jpeg.rf.2b63e842a830fe106474857137d4e1c0.jpg: 256x256 Mole 1.00, RiadoRio 0.00, DuroRiadoRio 0.00, RioFechado 0.00, Quebrado 0.00, 5.2ms\n",
            "Speed: 1.9ms preprocess, 5.2ms inference, 0.1ms postprocess per image at shape (1, 3, 256, 256)\n",
            "Results saved to \u001b[1mruns/classify/train70\u001b[0m\n",
            "\n",
            "image 1/1 /content/drive/MyDrive/TypeCoffee.v28i.folder/train/Mole/WhatsApp-Image-2024-09-06-at-11-30-46-1-_jpeg.rf.2712c77c2357d84f4f0eb7140c237fba.jpg: 256x256 Mole 1.00, DuroRiadoRio 0.00, RiadoRio 0.00, Quebrado 0.00, RioFechado 0.00, 4.5ms\n",
            "Speed: 1.9ms preprocess, 4.5ms inference, 0.0ms postprocess per image at shape (1, 3, 256, 256)\n",
            "Results saved to \u001b[1mruns/classify/train71\u001b[0m\n",
            "\n",
            "image 1/1 /content/drive/MyDrive/TypeCoffee.v28i.folder/train/Mole/WhatsApp-Image-2024-09-06-at-11-30-44-1-_jpeg.rf.13d90dba0f3a8cba403b8aecc8e56677.jpg: 256x256 Mole 1.00, DuroRiadoRio 0.00, RiadoRio 0.00, Quebrado 0.00, RioFechado 0.00, 4.3ms\n",
            "Speed: 1.9ms preprocess, 4.3ms inference, 0.0ms postprocess per image at shape (1, 3, 256, 256)\n",
            "Results saved to \u001b[1mruns/classify/train72\u001b[0m\n",
            "\n",
            "image 1/1 /content/drive/MyDrive/TypeCoffee.v28i.folder/train/Mole/WhatsApp-Image-2024-09-06-at-11-30-39_jpeg.rf.d1a94c4af60e6c26f1ac89ba3dba8d11.jpg: 256x256 Mole 1.00, DuroRiadoRio 0.00, RiadoRio 0.00, RioFechado 0.00, Quebrado 0.00, 4.4ms\n",
            "Speed: 1.9ms preprocess, 4.4ms inference, 0.0ms postprocess per image at shape (1, 3, 256, 256)\n",
            "Results saved to \u001b[1mruns/classify/train73\u001b[0m\n",
            "\n",
            "image 1/1 /content/drive/MyDrive/TypeCoffee.v28i.folder/train/Mole/04Mole_jpeg.rf.c23caa4a0171eaa472fe2e40b1668398.jpg: 256x256 Mole 1.00, DuroRiadoRio 0.00, RioFechado 0.00, RiadoRio 0.00, Quebrado 0.00, 4.5ms\n",
            "Speed: 1.9ms preprocess, 4.5ms inference, 0.0ms postprocess per image at shape (1, 3, 256, 256)\n",
            "Results saved to \u001b[1mruns/classify/train74\u001b[0m\n",
            "\n",
            "image 1/1 /content/drive/MyDrive/TypeCoffee.v28i.folder/train/Mole/08Mole_jpeg.rf.27ab2c88f397056ad2b562dcb9e31dbd.jpg: 256x256 Mole 0.99, DuroRiadoRio 0.01, RiadoRio 0.00, RioFechado 0.00, Quebrado 0.00, 4.4ms\n",
            "Speed: 1.9ms preprocess, 4.4ms inference, 0.0ms postprocess per image at shape (1, 3, 256, 256)\n",
            "Results saved to \u001b[1mruns/classify/train75\u001b[0m\n",
            "\n",
            "image 1/1 /content/drive/MyDrive/TypeCoffee.v28i.folder/train/Mole/35Mole_jpeg.rf.51df5db4dbf2775c01e2492af29ca97d.jpg: 256x256 Mole 0.98, DuroRiadoRio 0.02, RiadoRio 0.00, RioFechado 0.00, Quebrado 0.00, 4.4ms\n",
            "Speed: 1.9ms preprocess, 4.4ms inference, 0.0ms postprocess per image at shape (1, 3, 256, 256)\n",
            "Results saved to \u001b[1mruns/classify/train76\u001b[0m\n",
            "\n",
            "image 1/1 /content/drive/MyDrive/TypeCoffee.v28i.folder/train/Mole/Mole004_jpeg.rf.cc4314a3151dee6ce6ebb11a44f0e42f.jpg: 256x256 Mole 0.92, RiadoRio 0.08, RioFechado 0.00, DuroRiadoRio 0.00, Quebrado 0.00, 4.3ms\n",
            "Speed: 1.9ms preprocess, 4.3ms inference, 0.0ms postprocess per image at shape (1, 3, 256, 256)\n",
            "Results saved to \u001b[1mruns/classify/train77\u001b[0m\n",
            "\n",
            "image 1/1 /content/drive/MyDrive/TypeCoffee.v28i.folder/train/Mole/26Mole_jpeg.rf.99f20ce8940b3b7c01df3447126e144f.jpg: 256x256 Mole 1.00, RiadoRio 0.00, DuroRiadoRio 0.00, Quebrado 0.00, RioFechado 0.00, 4.5ms\n",
            "Speed: 1.9ms preprocess, 4.5ms inference, 0.0ms postprocess per image at shape (1, 3, 256, 256)\n",
            "Results saved to \u001b[1mruns/classify/train78\u001b[0m\n",
            "\n",
            "image 1/1 /content/drive/MyDrive/TypeCoffee.v28i.folder/train/Mole/27Mole_jpeg.rf.f5a6e6de38aba9b0baa0ffd4d80aeba6.jpg: 256x256 Mole 1.00, RiadoRio 0.00, DuroRiadoRio 0.00, RioFechado 0.00, Quebrado 0.00, 4.4ms\n",
            "Speed: 1.9ms preprocess, 4.4ms inference, 0.1ms postprocess per image at shape (1, 3, 256, 256)\n",
            "Results saved to \u001b[1mruns/classify/train79\u001b[0m\n",
            "\n",
            "image 1/1 /content/drive/MyDrive/TypeCoffee.v28i.folder/train/Mole/11Mole_jpeg.rf.e2eb4734497a850082327354a9a83229.jpg: 256x256 Mole 0.99, DuroRiadoRio 0.01, RiadoRio 0.00, RioFechado 0.00, Quebrado 0.00, 4.4ms\n",
            "Speed: 2.0ms preprocess, 4.4ms inference, 0.0ms postprocess per image at shape (1, 3, 256, 256)\n",
            "Results saved to \u001b[1mruns/classify/train80\u001b[0m\n",
            "\n",
            "image 1/1 /content/drive/MyDrive/TypeCoffee.v28i.folder/train/Mole/50Mole_jpeg.rf.bc640a409da030e0b496619ee2e7b949.jpg: 256x256 Mole 1.00, DuroRiadoRio 0.00, RiadoRio 0.00, RioFechado 0.00, Quebrado 0.00, 4.6ms\n",
            "Speed: 2.1ms preprocess, 4.6ms inference, 0.0ms postprocess per image at shape (1, 3, 256, 256)\n",
            "Results saved to \u001b[1mruns/classify/train81\u001b[0m\n",
            "\n",
            "image 1/1 /content/drive/MyDrive/TypeCoffee.v28i.folder/train/Mole/13Mole_jpeg.rf.cb7c667a5ae0f71a88ecb9083ef9131c.jpg: 256x256 Mole 1.00, DuroRiadoRio 0.00, RiadoRio 0.00, RioFechado 0.00, Quebrado 0.00, 4.3ms\n",
            "Speed: 1.9ms preprocess, 4.3ms inference, 0.0ms postprocess per image at shape (1, 3, 256, 256)\n",
            "Results saved to \u001b[1mruns/classify/train82\u001b[0m\n",
            "\n",
            "image 1/1 /content/drive/MyDrive/TypeCoffee.v28i.folder/train/Mole/05Mole_jpeg.rf.a507da93fcf3e71b799294f9e0591742.jpg: 256x256 Mole 1.00, RiadoRio 0.00, DuroRiadoRio 0.00, RioFechado 0.00, Quebrado 0.00, 5.8ms\n",
            "Speed: 1.9ms preprocess, 5.8ms inference, 0.1ms postprocess per image at shape (1, 3, 256, 256)\n",
            "Results saved to \u001b[1mruns/classify/train83\u001b[0m\n",
            "\n",
            "image 1/1 /content/drive/MyDrive/TypeCoffee.v28i.folder/train/Mole/WhatsApp-Image-2024-09-06-at-11-30-44_jpeg.rf.ece710ee2e99d2bd7e2383bc2cf52f43.jpg: 256x256 Mole 0.99, DuroRiadoRio 0.01, RiadoRio 0.00, Quebrado 0.00, RioFechado 0.00, 4.4ms\n",
            "Speed: 2.3ms preprocess, 4.4ms inference, 0.0ms postprocess per image at shape (1, 3, 256, 256)\n",
            "Results saved to \u001b[1mruns/classify/train84\u001b[0m\n",
            "\n",
            "image 1/1 /content/drive/MyDrive/TypeCoffee.v28i.folder/train/Mole/18Mole_jpeg.rf.c5ee85636f080a0e7605785c2b133bad.jpg: 256x256 Mole 0.97, RiadoRio 0.03, DuroRiadoRio 0.00, RioFechado 0.00, Quebrado 0.00, 4.3ms\n",
            "Speed: 1.9ms preprocess, 4.3ms inference, 0.0ms postprocess per image at shape (1, 3, 256, 256)\n",
            "Results saved to \u001b[1mruns/classify/train85\u001b[0m\n",
            "\n",
            "image 1/1 /content/drive/MyDrive/TypeCoffee.v28i.folder/train/Mole/Mole007_jpeg.rf.89a87ddb8165a28250df11af03dc975e.jpg: 256x256 Mole 1.00, DuroRiadoRio 0.00, RiadoRio 0.00, RioFechado 0.00, Quebrado 0.00, 4.3ms\n",
            "Speed: 1.8ms preprocess, 4.3ms inference, 0.0ms postprocess per image at shape (1, 3, 256, 256)\n",
            "Results saved to \u001b[1mruns/classify/train86\u001b[0m\n",
            "\n",
            "image 1/1 /content/drive/MyDrive/TypeCoffee.v28i.folder/train/Mole/WhatsApp-Image-2024-05-09-at-12-46-39_jpeg.rf.416ff5a935cecb37efc418c1534e77fa.jpg: 256x256 Mole 1.00, RiadoRio 0.00, DuroRiadoRio 0.00, Quebrado 0.00, RioFechado 0.00, 5.5ms\n",
            "Speed: 2.3ms preprocess, 5.5ms inference, 0.0ms postprocess per image at shape (1, 3, 256, 256)\n",
            "Results saved to \u001b[1mruns/classify/train87\u001b[0m\n",
            "\n",
            "image 1/1 /content/drive/MyDrive/TypeCoffee.v28i.folder/train/Mole/01Mole_jpeg.rf.1047634ca9c68fd206cb3eec612423b1.jpg: 256x256 Mole 0.96, DuroRiadoRio 0.04, RiadoRio 0.00, RioFechado 0.00, Quebrado 0.00, 4.3ms\n",
            "Speed: 1.9ms preprocess, 4.3ms inference, 0.1ms postprocess per image at shape (1, 3, 256, 256)\n",
            "Results saved to \u001b[1mruns/classify/train88\u001b[0m\n",
            "\n",
            "image 1/1 /content/drive/MyDrive/TypeCoffee.v28i.folder/train/Mole/WhatsApp-Image-2024-09-06-at-11-30-42-3-_jpeg.rf.f4a5bef56b3bcf111714f3dcb8281102.jpg: 256x256 Mole 0.75, DuroRiadoRio 0.25, RiadoRio 0.00, RioFechado 0.00, Quebrado 0.00, 4.3ms\n",
            "Speed: 1.7ms preprocess, 4.3ms inference, 0.0ms postprocess per image at shape (1, 3, 256, 256)\n",
            "Results saved to \u001b[1mruns/classify/train89\u001b[0m\n",
            "\n",
            "image 1/1 /content/drive/MyDrive/TypeCoffee.v28i.folder/train/Mole/19Mole_jpeg.rf.ef0d70d1c75d3abbb50ae64d8d972d44.jpg: 256x256 Mole 1.00, DuroRiadoRio 0.00, RiadoRio 0.00, RioFechado 0.00, Quebrado 0.00, 4.3ms\n",
            "Speed: 2.0ms preprocess, 4.3ms inference, 0.0ms postprocess per image at shape (1, 3, 256, 256)\n",
            "Results saved to \u001b[1mruns/classify/train90\u001b[0m\n",
            "\n",
            "image 1/1 /content/drive/MyDrive/TypeCoffee.v28i.folder/train/Mole/43Mole_jpeg.rf.8c00bbdd23ba4cc6934b54aaaf03c6ec.jpg: 256x256 Mole 1.00, DuroRiadoRio 0.00, RiadoRio 0.00, RioFechado 0.00, Quebrado 0.00, 4.2ms\n",
            "Speed: 1.8ms preprocess, 4.2ms inference, 0.0ms postprocess per image at shape (1, 3, 256, 256)\n",
            "Results saved to \u001b[1mruns/classify/train91\u001b[0m\n",
            "\n",
            "image 1/1 /content/drive/MyDrive/TypeCoffee.v28i.folder/train/Mole/Mole006_jpeg.rf.ee093860808c903ebd6139918dd80553.jpg: 256x256 Mole 0.90, RiadoRio 0.10, DuroRiadoRio 0.00, RioFechado 0.00, Quebrado 0.00, 4.3ms\n",
            "Speed: 1.9ms preprocess, 4.3ms inference, 0.0ms postprocess per image at shape (1, 3, 256, 256)\n",
            "Results saved to \u001b[1mruns/classify/train92\u001b[0m\n",
            "\n",
            "image 1/1 /content/drive/MyDrive/TypeCoffee.v28i.folder/train/Mole/WhatsApp-Image-2024-09-06-at-11-30-42-2-_jpeg.rf.7db440770bd356fb2fc84f242e56186d.jpg: 256x256 Mole 1.00, RiadoRio 0.00, DuroRiadoRio 0.00, Quebrado 0.00, RioFechado 0.00, 4.4ms\n",
            "Speed: 2.0ms preprocess, 4.4ms inference, 0.0ms postprocess per image at shape (1, 3, 256, 256)\n",
            "Results saved to \u001b[1mruns/classify/train93\u001b[0m\n",
            "Média do tempo de inferência: 1.5942 segundos\n"
          ]
        }
      ]
    },
    {
      "cell_type": "code",
      "execution_count": 9,
      "metadata": {
        "colab": {
          "base_uri": "https://localhost:8080/"
        },
        "id": "Dct1dQTfnELL",
        "outputId": "97d91a9b-0a91-49ff-fdd8-8d79951aa174"
      },
      "outputs": [
        {
          "output_type": "stream",
          "name": "stdout",
          "text": [
            "Tamanho do modelo: 20.75 MB\n"
          ]
        }
      ],
      "source": [
        "model_size = sum(p.numel() for p in model.parameters())\n",
        "model_size_MB = model_size * 4 / (1024 ** 2)\n",
        "print(f\"Tamanho do modelo: {model_size_MB:.2f} MB\")"
      ]
    },
    {
      "cell_type": "code",
      "source": [
        "import os\n",
        "import pandas as pd\n",
        "\n",
        "# Diretório das imagens de teste\n",
        "teste_path = \"/content/drive/MyDrive/TypeCoffee.v25i.folder/test\"\n",
        "\n",
        "# Listar imagens de teste\n",
        "imagens_teste = [os.path.join(teste_path, classe, img)\n",
        "                 for classe in os.listdir(teste_path)\n",
        "                 for img in os.listdir(os.path.join(teste_path, classe)) if img.endswith(\".jpg\")]\n",
        "\n",
        "# Fazer previsões\n",
        "predicoes = []\n",
        "\n",
        "for img in imagens_teste:\n",
        "    resultado = model(img)  # Executa a inferência\n",
        "    classe_predita = resultado[0].probs.top1  # Obtém a classe com maior probabilidade\n",
        "    predicoes.append((os.path.basename(img), classe_predita))  # Salva o nome da imagem e a classe prevista\n",
        "\n",
        "# Salvar previsões em um arquivo CSV\n",
        "df = pd.DataFrame(predicoes, columns=['imagem', 'classe_predita'])\n",
        "df.to_csv(\"/content/drive/MyDrive/predictions.csv\", index=False)\n",
        "\n",
        "print(\"Previsões salvas em predictions.csv!\")\n"
      ],
      "metadata": {
        "colab": {
          "base_uri": "https://localhost:8080/"
        },
        "id": "aB-0uHwsVU-C",
        "outputId": "f8b1570f-295d-42cd-a4b9-167db8d92b2e"
      },
      "execution_count": 10,
      "outputs": [
        {
          "output_type": "stream",
          "name": "stdout",
          "text": [
            "\n",
            "image 1/1 /content/drive/MyDrive/TypeCoffee.v25i.folder/test/RiadoRio/RiadoRio007_jpeg.rf.77bfbbac779ecbe2ffcf859aba896551.jpg: 256x256 RiadoRio 0.99, Mole 0.01, DuroRiadoRio 0.00, Quebrado 0.00, RioFechado 0.00, 4.4ms\n",
            "Speed: 2.4ms preprocess, 4.4ms inference, 0.1ms postprocess per image at shape (1, 3, 256, 256)\n",
            "\n",
            "image 1/1 /content/drive/MyDrive/TypeCoffee.v25i.folder/test/RiadoRio/03RiadoRio_jpeg.rf.9825f805f6bd663cfbafcab2b2c72c59.jpg: 256x256 RiadoRio 0.99, DuroRiadoRio 0.01, Mole 0.00, RioFechado 0.00, Quebrado 0.00, 4.1ms\n",
            "Speed: 2.0ms preprocess, 4.1ms inference, 0.0ms postprocess per image at shape (1, 3, 256, 256)\n",
            "\n",
            "image 1/1 /content/drive/MyDrive/TypeCoffee.v25i.folder/test/RiadoRio/07RiadoRio_jpeg.rf.a559a8968131976d860a75323d4723b5.jpg: 256x256 RiadoRio 0.90, DuroRiadoRio 0.09, Mole 0.01, RioFechado 0.00, Quebrado 0.00, 4.0ms\n",
            "Speed: 2.7ms preprocess, 4.0ms inference, 0.0ms postprocess per image at shape (1, 3, 256, 256)\n",
            "\n",
            "image 1/1 /content/drive/MyDrive/TypeCoffee.v25i.folder/test/RiadoRio/04RiadoRio_jpeg.rf.eaa95d334de4ef46e19a11645f77ddcb.jpg: 256x256 RiadoRio 0.98, DuroRiadoRio 0.02, Mole 0.00, RioFechado 0.00, Quebrado 0.00, 4.0ms\n",
            "Speed: 1.5ms preprocess, 4.0ms inference, 0.0ms postprocess per image at shape (1, 3, 256, 256)\n",
            "\n",
            "image 1/1 /content/drive/MyDrive/TypeCoffee.v25i.folder/test/RiadoRio/WhatsApp-Image-2024-09-06-at-11-20-28-2-_jpeg.rf.71747939e7e8398dcd16ed1230598bce.jpg: 256x256 RiadoRio 1.00, Mole 0.00, DuroRiadoRio 0.00, Quebrado 0.00, RioFechado 0.00, 3.9ms\n",
            "Speed: 1.3ms preprocess, 3.9ms inference, 0.0ms postprocess per image at shape (1, 3, 256, 256)\n",
            "\n",
            "image 1/1 /content/drive/MyDrive/TypeCoffee.v25i.folder/test/RiadoRio/09RiadoRio_jpeg.rf.c0a729129d964513196b28ba1ceb6e23.jpg: 256x256 RiadoRio 0.98, Mole 0.01, DuroRiadoRio 0.01, RioFechado 0.00, Quebrado 0.00, 3.9ms\n",
            "Speed: 1.8ms preprocess, 3.9ms inference, 0.0ms postprocess per image at shape (1, 3, 256, 256)\n",
            "\n",
            "image 1/1 /content/drive/MyDrive/TypeCoffee.v25i.folder/test/RiadoRio/14RiadoRio_jpeg.rf.73b40049265c9aa5d2f140b474939aea.jpg: 256x256 RiadoRio 0.87, DuroRiadoRio 0.08, Mole 0.05, RioFechado 0.00, Quebrado 0.00, 3.8ms\n",
            "Speed: 1.3ms preprocess, 3.8ms inference, 0.0ms postprocess per image at shape (1, 3, 256, 256)\n",
            "\n",
            "image 1/1 /content/drive/MyDrive/TypeCoffee.v25i.folder/test/RiadoRio/13RiadoRio_jpeg.rf.72c2d06e155084d0ff146dd6caf1294c.jpg: 256x256 RiadoRio 0.91, DuroRiadoRio 0.08, Mole 0.00, RioFechado 0.00, Quebrado 0.00, 4.0ms\n",
            "Speed: 1.4ms preprocess, 4.0ms inference, 0.0ms postprocess per image at shape (1, 3, 256, 256)\n",
            "\n",
            "image 1/1 /content/drive/MyDrive/TypeCoffee.v25i.folder/test/RiadoRio/02RiadoRio_jpeg.rf.6cb315bfe1791431e87ca69368beed47.jpg: 256x256 DuroRiadoRio 0.94, RiadoRio 0.06, Mole 0.00, RioFechado 0.00, Quebrado 0.00, 4.2ms\n",
            "Speed: 1.4ms preprocess, 4.2ms inference, 0.0ms postprocess per image at shape (1, 3, 256, 256)\n",
            "\n",
            "image 1/1 /content/drive/MyDrive/TypeCoffee.v25i.folder/test/RiadoRio/05RiadoRio_jpeg.rf.a0359cdbc87fdd69add3478271e8d29a.jpg: 256x256 RiadoRio 1.00, DuroRiadoRio 0.00, RioFechado 0.00, Quebrado 0.00, Mole 0.00, 4.0ms\n",
            "Speed: 1.7ms preprocess, 4.0ms inference, 0.0ms postprocess per image at shape (1, 3, 256, 256)\n",
            "\n",
            "image 1/1 /content/drive/MyDrive/TypeCoffee.v25i.folder/test/RiadoRio/WhatsApp-Image-2024-09-06-at-11-20-30_jpeg.rf.62e69699e97526a6677c257e673084fd.jpg: 256x256 RiadoRio 1.00, Mole 0.00, DuroRiadoRio 0.00, Quebrado 0.00, RioFechado 0.00, 4.1ms\n",
            "Speed: 1.3ms preprocess, 4.1ms inference, 0.0ms postprocess per image at shape (1, 3, 256, 256)\n",
            "\n",
            "image 1/1 /content/drive/MyDrive/TypeCoffee.v25i.folder/test/RiadoRio/RiadoRio003.jpg: 256x256 RiadoRio 0.90, DuroRiadoRio 0.10, RioFechado 0.00, Mole 0.00, Quebrado 0.00, 3.9ms\n",
            "Speed: 1.7ms preprocess, 3.9ms inference, 0.0ms postprocess per image at shape (1, 3, 256, 256)\n",
            "\n",
            "image 1/1 /content/drive/MyDrive/TypeCoffee.v25i.folder/test/RiadoRio/RiadoRio002.jpg: 256x256 DuroRiadoRio 0.75, RiadoRio 0.25, RioFechado 0.00, Quebrado 0.00, Mole 0.00, 3.9ms\n",
            "Speed: 1.3ms preprocess, 3.9ms inference, 0.0ms postprocess per image at shape (1, 3, 256, 256)\n",
            "\n",
            "image 1/1 /content/drive/MyDrive/TypeCoffee.v25i.folder/test/RiadoRio/RiadoRio004.jpg: 256x256 DuroRiadoRio 0.96, RiadoRio 0.04, RioFechado 0.00, Quebrado 0.00, Mole 0.00, 3.9ms\n",
            "Speed: 1.2ms preprocess, 3.9ms inference, 0.0ms postprocess per image at shape (1, 3, 256, 256)\n",
            "\n",
            "image 1/1 /content/drive/MyDrive/TypeCoffee.v25i.folder/test/RiadoRio/RiadoRio006.jpg: 256x256 DuroRiadoRio 0.77, RiadoRio 0.23, RioFechado 0.00, Mole 0.00, Quebrado 0.00, 5.0ms\n",
            "Speed: 1.4ms preprocess, 5.0ms inference, 0.0ms postprocess per image at shape (1, 3, 256, 256)\n",
            "\n",
            "image 1/1 /content/drive/MyDrive/TypeCoffee.v25i.folder/test/RiadoRio/Riado011.jpg: 256x256 RiadoRio 1.00, DuroRiadoRio 0.00, RioFechado 0.00, Quebrado 0.00, Mole 0.00, 4.1ms\n",
            "Speed: 1.4ms preprocess, 4.1ms inference, 0.0ms postprocess per image at shape (1, 3, 256, 256)\n",
            "\n",
            "image 1/1 /content/drive/MyDrive/TypeCoffee.v25i.folder/test/RiadoRio/RiadoRio001.jpg: 256x256 DuroRiadoRio 0.92, RiadoRio 0.08, RioFechado 0.00, Quebrado 0.00, Mole 0.00, 3.8ms\n",
            "Speed: 1.2ms preprocess, 3.8ms inference, 0.0ms postprocess per image at shape (1, 3, 256, 256)\n",
            "\n",
            "image 1/1 /content/drive/MyDrive/TypeCoffee.v25i.folder/test/RiadoRio/Riado010.jpg: 256x256 RiadoRio 0.57, DuroRiadoRio 0.41, Mole 0.01, RioFechado 0.00, Quebrado 0.00, 3.9ms\n",
            "Speed: 1.2ms preprocess, 3.9ms inference, 0.0ms postprocess per image at shape (1, 3, 256, 256)\n",
            "\n",
            "image 1/1 /content/drive/MyDrive/TypeCoffee.v25i.folder/test/RiadoRio/RiadoRio005.jpg: 256x256 RiadoRio 1.00, DuroRiadoRio 0.00, Quebrado 0.00, RioFechado 0.00, Mole 0.00, 4.0ms\n",
            "Speed: 1.3ms preprocess, 4.0ms inference, 0.0ms postprocess per image at shape (1, 3, 256, 256)\n",
            "\n",
            "image 1/1 /content/drive/MyDrive/TypeCoffee.v25i.folder/test/RiadoRio/Riado009.jpg: 256x256 RiadoRio 0.97, DuroRiadoRio 0.03, RioFechado 0.00, Quebrado 0.00, Mole 0.00, 4.1ms\n",
            "Speed: 1.3ms preprocess, 4.1ms inference, 0.0ms postprocess per image at shape (1, 3, 256, 256)\n",
            "\n",
            "image 1/1 /content/drive/MyDrive/TypeCoffee.v25i.folder/test/RiadoRio/Riado008.jpg: 256x256 DuroRiadoRio 0.90, RiadoRio 0.10, RioFechado 0.00, Quebrado 0.00, Mole 0.00, 4.1ms\n",
            "Speed: 1.3ms preprocess, 4.1ms inference, 0.0ms postprocess per image at shape (1, 3, 256, 256)\n",
            "\n",
            "image 1/1 /content/drive/MyDrive/TypeCoffee.v25i.folder/test/RiadoRio/RiadoRio007.jpg: 256x256 RiadoRio 0.82, DuroRiadoRio 0.18, Quebrado 0.00, RioFechado 0.00, Mole 0.00, 3.9ms\n",
            "Speed: 1.3ms preprocess, 3.9ms inference, 0.0ms postprocess per image at shape (1, 3, 256, 256)\n",
            "\n",
            "image 1/1 /content/drive/MyDrive/TypeCoffee.v25i.folder/test/Mole/14Mole_jpeg.rf.f37a738a974b6d456179fa674443a3f5.jpg: 256x256 Mole 1.00, RiadoRio 0.00, DuroRiadoRio 0.00, RioFechado 0.00, Quebrado 0.00, 4.0ms\n",
            "Speed: 1.3ms preprocess, 4.0ms inference, 0.0ms postprocess per image at shape (1, 3, 256, 256)\n",
            "\n",
            "image 1/1 /content/drive/MyDrive/TypeCoffee.v25i.folder/test/Mole/Mole008_jpeg.rf.12470ce0e146724234481fcc8cd82734.jpg: 256x256 Mole 1.00, DuroRiadoRio 0.00, RiadoRio 0.00, RioFechado 0.00, Quebrado 0.00, 4.0ms\n",
            "Speed: 1.3ms preprocess, 4.0ms inference, 0.0ms postprocess per image at shape (1, 3, 256, 256)\n",
            "\n",
            "image 1/1 /content/drive/MyDrive/TypeCoffee.v25i.folder/test/Mole/06Mole_jpeg.rf.dc685060ddbeed71c4bed160ab1f8715.jpg: 256x256 Mole 1.00, RioFechado 0.00, RiadoRio 0.00, DuroRiadoRio 0.00, Quebrado 0.00, 4.0ms\n",
            "Speed: 1.3ms preprocess, 4.0ms inference, 0.0ms postprocess per image at shape (1, 3, 256, 256)\n",
            "\n",
            "image 1/1 /content/drive/MyDrive/TypeCoffee.v25i.folder/test/Mole/15Mole_jpeg.rf.a40f45227fad8d1a2ac961918ad8335c.jpg: 256x256 Mole 1.00, RiadoRio 0.00, DuroRiadoRio 0.00, RioFechado 0.00, Quebrado 0.00, 3.7ms\n",
            "Speed: 1.3ms preprocess, 3.7ms inference, 0.0ms postprocess per image at shape (1, 3, 256, 256)\n",
            "\n",
            "image 1/1 /content/drive/MyDrive/TypeCoffee.v25i.folder/test/Mole/WhatsApp-Image-2024-09-06-at-11-30-44-1-_jpeg.rf.cf588f3d0679637ae23d11598a230283.jpg: 256x256 Mole 1.00, DuroRiadoRio 0.00, RiadoRio 0.00, RioFechado 0.00, Quebrado 0.00, 3.8ms\n",
            "Speed: 1.2ms preprocess, 3.8ms inference, 0.0ms postprocess per image at shape (1, 3, 256, 256)\n",
            "\n",
            "image 1/1 /content/drive/MyDrive/TypeCoffee.v25i.folder/test/Mole/WhatsApp-Image-2024-09-06-at-11-30-45_jpeg.rf.6f7a2b161b540c7137d192fa9585fe02.jpg: 256x256 Mole 1.00, DuroRiadoRio 0.00, RiadoRio 0.00, RioFechado 0.00, Quebrado 0.00, 3.8ms\n",
            "Speed: 1.3ms preprocess, 3.8ms inference, 0.0ms postprocess per image at shape (1, 3, 256, 256)\n",
            "\n",
            "image 1/1 /content/drive/MyDrive/TypeCoffee.v25i.folder/test/Mole/04Mole_jpeg.rf.59fdd30f1e188709d985dc667161d8a0.jpg: 256x256 Mole 1.00, RioFechado 0.00, RiadoRio 0.00, DuroRiadoRio 0.00, Quebrado 0.00, 3.9ms\n",
            "Speed: 1.3ms preprocess, 3.9ms inference, 0.0ms postprocess per image at shape (1, 3, 256, 256)\n",
            "\n",
            "image 1/1 /content/drive/MyDrive/TypeCoffee.v25i.folder/test/Mole/03Mole_jpeg.rf.64c87393a100cfde7e00c8ebb032d325.jpg: 256x256 Mole 1.00, RiadoRio 0.00, DuroRiadoRio 0.00, RioFechado 0.00, Quebrado 0.00, 4.0ms\n",
            "Speed: 1.3ms preprocess, 4.0ms inference, 0.0ms postprocess per image at shape (1, 3, 256, 256)\n",
            "\n",
            "image 1/1 /content/drive/MyDrive/TypeCoffee.v25i.folder/test/Mole/Mole2.jpg: 256x256 Mole 0.95, DuroRiadoRio 0.03, RiadoRio 0.03, RioFechado 0.00, Quebrado 0.00, 3.9ms\n",
            "Speed: 1.2ms preprocess, 3.9ms inference, 0.0ms postprocess per image at shape (1, 3, 256, 256)\n",
            "\n",
            "image 1/1 /content/drive/MyDrive/TypeCoffee.v25i.folder/test/Mole/Mole3.jpg: 256x256 Mole 0.99, RiadoRio 0.00, DuroRiadoRio 0.00, RioFechado 0.00, Quebrado 0.00, 3.8ms\n",
            "Speed: 1.2ms preprocess, 3.8ms inference, 0.0ms postprocess per image at shape (1, 3, 256, 256)\n",
            "\n",
            "image 1/1 /content/drive/MyDrive/TypeCoffee.v25i.folder/test/Mole/mole004.jpg: 256x256 DuroRiadoRio 0.47, Mole 0.28, RiadoRio 0.25, RioFechado 0.00, Quebrado 0.00, 3.8ms\n",
            "Speed: 1.2ms preprocess, 3.8ms inference, 0.0ms postprocess per image at shape (1, 3, 256, 256)\n",
            "\n",
            "image 1/1 /content/drive/MyDrive/TypeCoffee.v25i.folder/test/Mole/mole003.jpg: 256x256 RiadoRio 0.93, Mole 0.07, DuroRiadoRio 0.00, Quebrado 0.00, RioFechado 0.00, 4.0ms\n",
            "Speed: 1.2ms preprocess, 4.0ms inference, 0.0ms postprocess per image at shape (1, 3, 256, 256)\n",
            "\n",
            "image 1/1 /content/drive/MyDrive/TypeCoffee.v25i.folder/test/Mole/mole006.jpg: 256x256 RiadoRio 0.86, Mole 0.14, DuroRiadoRio 0.00, Quebrado 0.00, RioFechado 0.00, 3.8ms\n",
            "Speed: 1.3ms preprocess, 3.8ms inference, 0.0ms postprocess per image at shape (1, 3, 256, 256)\n",
            "\n",
            "image 1/1 /content/drive/MyDrive/TypeCoffee.v25i.folder/test/Mole/mole005.jpg: 256x256 Mole 1.00, DuroRiadoRio 0.00, RiadoRio 0.00, RioFechado 0.00, Quebrado 0.00, 3.8ms\n",
            "Speed: 1.4ms preprocess, 3.8ms inference, 0.0ms postprocess per image at shape (1, 3, 256, 256)\n",
            "\n",
            "image 1/1 /content/drive/MyDrive/TypeCoffee.v25i.folder/test/Mole/Mole008.jpg: 256x256 Mole 1.00, DuroRiadoRio 0.00, RiadoRio 0.00, RioFechado 0.00, Quebrado 0.00, 3.8ms\n",
            "Speed: 1.3ms preprocess, 3.8ms inference, 0.0ms postprocess per image at shape (1, 3, 256, 256)\n",
            "\n",
            "image 1/1 /content/drive/MyDrive/TypeCoffee.v25i.folder/test/Mole/mole007.jpg: 256x256 Mole 0.97, RiadoRio 0.03, DuroRiadoRio 0.00, Quebrado 0.00, RioFechado 0.00, 4.0ms\n",
            "Speed: 1.2ms preprocess, 4.0ms inference, 0.0ms postprocess per image at shape (1, 3, 256, 256)\n",
            "\n",
            "image 1/1 /content/drive/MyDrive/TypeCoffee.v25i.folder/test/Mole/Mole.jpg: 256x256 Mole 0.96, DuroRiadoRio 0.03, RiadoRio 0.01, RioFechado 0.00, Quebrado 0.00, 3.9ms\n",
            "Speed: 1.3ms preprocess, 3.9ms inference, 0.0ms postprocess per image at shape (1, 3, 256, 256)\n",
            "\n",
            "image 1/1 /content/drive/MyDrive/TypeCoffee.v25i.folder/test/Mole/mole001.jpg: 256x256 Mole 0.95, RiadoRio 0.04, DuroRiadoRio 0.01, RioFechado 0.00, Quebrado 0.00, 4.2ms\n",
            "Speed: 1.4ms preprocess, 4.2ms inference, 0.0ms postprocess per image at shape (1, 3, 256, 256)\n",
            "\n",
            "image 1/1 /content/drive/MyDrive/TypeCoffee.v25i.folder/test/Mole/mole002.jpg: 256x256 Mole 0.89, RiadoRio 0.11, DuroRiadoRio 0.00, Quebrado 0.00, RioFechado 0.00, 3.9ms\n",
            "Speed: 1.3ms preprocess, 3.9ms inference, 0.0ms postprocess per image at shape (1, 3, 256, 256)\n",
            "\n",
            "image 1/1 /content/drive/MyDrive/TypeCoffee.v25i.folder/test/Quebrado/15Quebrado_jpeg.rf.2d6c64b95ae675c87e24acc70ab8f0a6.jpg: 256x256 Quebrado 1.00, RioFechado 0.00, Mole 0.00, DuroRiadoRio 0.00, RiadoRio 0.00, 3.9ms\n",
            "Speed: 1.3ms preprocess, 3.9ms inference, 0.0ms postprocess per image at shape (1, 3, 256, 256)\n",
            "\n",
            "image 1/1 /content/drive/MyDrive/TypeCoffee.v25i.folder/test/Quebrado/WhatsApp-Image-2024-09-06-at-11-34-30_jpeg.rf.f8aa737abab24d97e7938959e7a1ca7b.jpg: 256x256 Quebrado 1.00, Mole 0.00, RiadoRio 0.00, DuroRiadoRio 0.00, RioFechado 0.00, 3.8ms\n",
            "Speed: 1.3ms preprocess, 3.8ms inference, 0.0ms postprocess per image at shape (1, 3, 256, 256)\n",
            "\n",
            "image 1/1 /content/drive/MyDrive/TypeCoffee.v25i.folder/test/Quebrado/08Quebrado_jpeg.rf.a24fc64a66f98974449a99694be41b60.jpg: 256x256 Quebrado 1.00, RioFechado 0.00, DuroRiadoRio 0.00, Mole 0.00, RiadoRio 0.00, 3.9ms\n",
            "Speed: 1.2ms preprocess, 3.9ms inference, 0.0ms postprocess per image at shape (1, 3, 256, 256)\n",
            "\n",
            "image 1/1 /content/drive/MyDrive/TypeCoffee.v25i.folder/test/Quebrado/10Quebrado_jpeg.rf.3aea52e2d3b80ffdfa3bb3b477856ffc.jpg: 256x256 Quebrado 1.00, Mole 0.00, DuroRiadoRio 0.00, RioFechado 0.00, RiadoRio 0.00, 4.0ms\n",
            "Speed: 1.3ms preprocess, 4.0ms inference, 0.0ms postprocess per image at shape (1, 3, 256, 256)\n",
            "\n",
            "image 1/1 /content/drive/MyDrive/TypeCoffee.v25i.folder/test/Quebrado/07Quebrado_jpeg.rf.bf6b94dbb0cc3f52857cb57687c5c0f9.jpg: 256x256 Quebrado 1.00, Mole 0.00, RiadoRio 0.00, DuroRiadoRio 0.00, RioFechado 0.00, 4.0ms\n",
            "Speed: 1.2ms preprocess, 4.0ms inference, 0.0ms postprocess per image at shape (1, 3, 256, 256)\n",
            "\n",
            "image 1/1 /content/drive/MyDrive/TypeCoffee.v25i.folder/test/Quebrado/01Quebrado_jpeg.rf.67ab84ef59f48ada59f25493e7f8fa35.jpg: 256x256 Quebrado 1.00, RioFechado 0.00, DuroRiadoRio 0.00, Mole 0.00, RiadoRio 0.00, 4.2ms\n",
            "Speed: 1.3ms preprocess, 4.2ms inference, 0.0ms postprocess per image at shape (1, 3, 256, 256)\n",
            "\n",
            "image 1/1 /content/drive/MyDrive/TypeCoffee.v25i.folder/test/Quebrado/WhatsApp-Image-2024-09-06-at-11-34-27-2-_jpeg.rf.96c87e4f34ffcc34ea6cb1adf046542d.jpg: 256x256 Quebrado 1.00, Mole 0.00, DuroRiadoRio 0.00, RiadoRio 0.00, RioFechado 0.00, 4.1ms\n",
            "Speed: 1.3ms preprocess, 4.1ms inference, 0.0ms postprocess per image at shape (1, 3, 256, 256)\n",
            "\n",
            "image 1/1 /content/drive/MyDrive/TypeCoffee.v25i.folder/test/Quebrado/05Quebrado_jpeg.rf.256562e7ef3e448a76eed34460e1112a.jpg: 256x256 Quebrado 1.00, RioFechado 0.00, DuroRiadoRio 0.00, Mole 0.00, RiadoRio 0.00, 4.1ms\n",
            "Speed: 1.4ms preprocess, 4.1ms inference, 0.0ms postprocess per image at shape (1, 3, 256, 256)\n",
            "\n",
            "image 1/1 /content/drive/MyDrive/TypeCoffee.v25i.folder/test/Quebrado/Quebrado010_jpeg.rf.e6c0cdd15ebac6fc4a11f48f0b9ae96b.jpg: 256x256 Quebrado 0.99, DuroRiadoRio 0.01, Mole 0.00, RiadoRio 0.00, RioFechado 0.00, 4.2ms\n",
            "Speed: 1.2ms preprocess, 4.2ms inference, 0.2ms postprocess per image at shape (1, 3, 256, 256)\n",
            "\n",
            "image 1/1 /content/drive/MyDrive/TypeCoffee.v25i.folder/test/Quebrado/quebrado2.jpg: 256x256 Quebrado 1.00, RioFechado 0.00, Mole 0.00, DuroRiadoRio 0.00, RiadoRio 0.00, 3.7ms\n",
            "Speed: 1.3ms preprocess, 3.7ms inference, 0.0ms postprocess per image at shape (1, 3, 256, 256)\n",
            "\n",
            "image 1/1 /content/drive/MyDrive/TypeCoffee.v25i.folder/test/Quebrado/quebrado3.jpg: 256x256 Quebrado 1.00, RioFechado 0.00, Mole 0.00, RiadoRio 0.00, DuroRiadoRio 0.00, 3.9ms\n",
            "Speed: 1.2ms preprocess, 3.9ms inference, 0.0ms postprocess per image at shape (1, 3, 256, 256)\n",
            "\n",
            "image 1/1 /content/drive/MyDrive/TypeCoffee.v25i.folder/test/Quebrado/quebrado004.jpg: 256x256 Quebrado 1.00, DuroRiadoRio 0.00, RiadoRio 0.00, Mole 0.00, RioFechado 0.00, 3.7ms\n",
            "Speed: 1.2ms preprocess, 3.7ms inference, 0.0ms postprocess per image at shape (1, 3, 256, 256)\n",
            "\n",
            "image 1/1 /content/drive/MyDrive/TypeCoffee.v25i.folder/test/Quebrado/quebrado003.jpg: 256x256 Quebrado 1.00, DuroRiadoRio 0.00, RiadoRio 0.00, Mole 0.00, RioFechado 0.00, 4.0ms\n",
            "Speed: 1.2ms preprocess, 4.0ms inference, 0.0ms postprocess per image at shape (1, 3, 256, 256)\n",
            "\n",
            "image 1/1 /content/drive/MyDrive/TypeCoffee.v25i.folder/test/Quebrado/quebrado005.jpg: 256x256 Quebrado 1.00, DuroRiadoRio 0.00, RiadoRio 0.00, RioFechado 0.00, Mole 0.00, 4.0ms\n",
            "Speed: 1.3ms preprocess, 4.0ms inference, 0.0ms postprocess per image at shape (1, 3, 256, 256)\n",
            "\n",
            "image 1/1 /content/drive/MyDrive/TypeCoffee.v25i.folder/test/Quebrado/quebrado006.jpg: 256x256 Quebrado 1.00, DuroRiadoRio 0.00, RioFechado 0.00, Mole 0.00, RiadoRio 0.00, 4.2ms\n",
            "Speed: 1.3ms preprocess, 4.2ms inference, 0.0ms postprocess per image at shape (1, 3, 256, 256)\n",
            "\n",
            "image 1/1 /content/drive/MyDrive/TypeCoffee.v25i.folder/test/Quebrado/quebrado007.jpg: 256x256 Quebrado 1.00, DuroRiadoRio 0.00, Mole 0.00, RiadoRio 0.00, RioFechado 0.00, 7.9ms\n",
            "Speed: 1.7ms preprocess, 7.9ms inference, 0.0ms postprocess per image at shape (1, 3, 256, 256)\n",
            "\n",
            "image 1/1 /content/drive/MyDrive/TypeCoffee.v25i.folder/test/Quebrado/quebrado001.jpg: 256x256 Quebrado 0.99, DuroRiadoRio 0.00, Mole 0.00, RiadoRio 0.00, RioFechado 0.00, 4.5ms\n",
            "Speed: 1.4ms preprocess, 4.5ms inference, 0.0ms postprocess per image at shape (1, 3, 256, 256)\n",
            "\n",
            "image 1/1 /content/drive/MyDrive/TypeCoffee.v25i.folder/test/Quebrado/Quebrado010.jpg: 256x256 Quebrado 1.00, RioFechado 0.00, DuroRiadoRio 0.00, Mole 0.00, RiadoRio 0.00, 3.9ms\n",
            "Speed: 1.4ms preprocess, 3.9ms inference, 0.0ms postprocess per image at shape (1, 3, 256, 256)\n",
            "\n",
            "image 1/1 /content/drive/MyDrive/TypeCoffee.v25i.folder/test/Quebrado/quebrado1.jpg: 256x256 Quebrado 1.00, RioFechado 0.00, DuroRiadoRio 0.00, Mole 0.00, RiadoRio 0.00, 4.1ms\n",
            "Speed: 1.2ms preprocess, 4.1ms inference, 0.0ms postprocess per image at shape (1, 3, 256, 256)\n",
            "\n",
            "image 1/1 /content/drive/MyDrive/TypeCoffee.v25i.folder/test/Quebrado/quebrado002.jpg: 256x256 Quebrado 1.00, DuroRiadoRio 0.00, Mole 0.00, RiadoRio 0.00, RioFechado 0.00, 4.3ms\n",
            "Speed: 1.3ms preprocess, 4.3ms inference, 0.0ms postprocess per image at shape (1, 3, 256, 256)\n",
            "\n",
            "image 1/1 /content/drive/MyDrive/TypeCoffee.v25i.folder/test/RioFechado/13RioFechado_jpeg.rf.7b8ee06cecbe26f5480eb86625b62dec.jpg: 256x256 RioFechado 1.00, DuroRiadoRio 0.00, Mole 0.00, Quebrado 0.00, RiadoRio 0.00, 3.8ms\n",
            "Speed: 1.2ms preprocess, 3.8ms inference, 0.0ms postprocess per image at shape (1, 3, 256, 256)\n",
            "\n",
            "image 1/1 /content/drive/MyDrive/TypeCoffee.v25i.folder/test/RioFechado/04RioFechado_jpeg.rf.cda8a9b0bcbaf0fde4ed188b2809055c.jpg: 256x256 RioFechado 1.00, DuroRiadoRio 0.00, Quebrado 0.00, RiadoRio 0.00, Mole 0.00, 4.0ms\n",
            "Speed: 1.2ms preprocess, 4.0ms inference, 0.0ms postprocess per image at shape (1, 3, 256, 256)\n",
            "\n",
            "image 1/1 /content/drive/MyDrive/TypeCoffee.v25i.folder/test/RioFechado/WhatsApp-Image-2024-09-06-at-11-38-43_jpeg.rf.2fe92784af576291327efb8584f77f6f.jpg: 256x256 RioFechado 1.00, DuroRiadoRio 0.00, Quebrado 0.00, RiadoRio 0.00, Mole 0.00, 3.8ms\n",
            "Speed: 1.4ms preprocess, 3.8ms inference, 0.0ms postprocess per image at shape (1, 3, 256, 256)\n",
            "\n",
            "image 1/1 /content/drive/MyDrive/TypeCoffee.v25i.folder/test/RioFechado/11RioFechado_jpeg.rf.4811aef64541c2627b0702f61fe0bb5d.jpg: 256x256 RioFechado 1.00, Quebrado 0.00, DuroRiadoRio 0.00, RiadoRio 0.00, Mole 0.00, 4.0ms\n",
            "Speed: 1.2ms preprocess, 4.0ms inference, 0.0ms postprocess per image at shape (1, 3, 256, 256)\n",
            "\n",
            "image 1/1 /content/drive/MyDrive/TypeCoffee.v25i.folder/test/RioFechado/02RioFechado_jpeg.rf.a6482fe21870a8695434ecb6cb800375.jpg: 256x256 RioFechado 1.00, DuroRiadoRio 0.00, Quebrado 0.00, RiadoRio 0.00, Mole 0.00, 4.0ms\n",
            "Speed: 1.3ms preprocess, 4.0ms inference, 0.0ms postprocess per image at shape (1, 3, 256, 256)\n",
            "\n",
            "image 1/1 /content/drive/MyDrive/TypeCoffee.v25i.folder/test/RioFechado/09RioFechado_jpeg.rf.eb5f98359a8f51a5bfe788e1c97ac8c8.jpg: 256x256 RioFechado 1.00, DuroRiadoRio 0.00, RiadoRio 0.00, Quebrado 0.00, Mole 0.00, 4.2ms\n",
            "Speed: 1.2ms preprocess, 4.2ms inference, 0.0ms postprocess per image at shape (1, 3, 256, 256)\n",
            "\n",
            "image 1/1 /content/drive/MyDrive/TypeCoffee.v25i.folder/test/RioFechado/WhatsApp-Image-2024-09-06-at-11-38-49-1-_jpeg.rf.4bb03f2d70755de2a2ad4d8b8fe42146.jpg: 256x256 RioFechado 1.00, Quebrado 0.00, DuroRiadoRio 0.00, Mole 0.00, RiadoRio 0.00, 4.0ms\n",
            "Speed: 1.4ms preprocess, 4.0ms inference, 0.0ms postprocess per image at shape (1, 3, 256, 256)\n",
            "\n",
            "image 1/1 /content/drive/MyDrive/TypeCoffee.v25i.folder/test/RioFechado/03RioFechado_jpeg.rf.a81839faf450cc67780ec8cae7e37930.jpg: 256x256 RioFechado 1.00, Quebrado 0.00, DuroRiadoRio 0.00, Mole 0.00, RiadoRio 0.00, 4.6ms\n",
            "Speed: 1.4ms preprocess, 4.6ms inference, 0.0ms postprocess per image at shape (1, 3, 256, 256)\n",
            "\n",
            "image 1/1 /content/drive/MyDrive/TypeCoffee.v25i.folder/test/RioFechado/RioFechado004_jpeg.rf.2bced7b619ec3e9e28e1bfe586e537c3.jpg: 256x256 RioFechado 1.00, DuroRiadoRio 0.00, Quebrado 0.00, Mole 0.00, RiadoRio 0.00, 4.0ms\n",
            "Speed: 1.4ms preprocess, 4.0ms inference, 0.0ms postprocess per image at shape (1, 3, 256, 256)\n",
            "\n",
            "image 1/1 /content/drive/MyDrive/TypeCoffee.v25i.folder/test/RioFechado/RioFechado.jpg: 256x256 RioFechado 0.99, Quebrado 0.01, DuroRiadoRio 0.00, Mole 0.00, RiadoRio 0.00, 4.5ms\n",
            "Speed: 1.4ms preprocess, 4.5ms inference, 0.1ms postprocess per image at shape (1, 3, 256, 256)\n",
            "\n",
            "image 1/1 /content/drive/MyDrive/TypeCoffee.v25i.folder/test/RioFechado/RioFechado001.jpg: 256x256 RioFechado 1.00, Quebrado 0.00, DuroRiadoRio 0.00, RiadoRio 0.00, Mole 0.00, 4.2ms\n",
            "Speed: 1.5ms preprocess, 4.2ms inference, 0.1ms postprocess per image at shape (1, 3, 256, 256)\n",
            "\n",
            "image 1/1 /content/drive/MyDrive/TypeCoffee.v25i.folder/test/RioFechado/RioFechado002.jpg: 256x256 RioFechado 1.00, Quebrado 0.00, DuroRiadoRio 0.00, RiadoRio 0.00, Mole 0.00, 4.8ms\n",
            "Speed: 1.7ms preprocess, 4.8ms inference, 0.0ms postprocess per image at shape (1, 3, 256, 256)\n",
            "\n",
            "image 1/1 /content/drive/MyDrive/TypeCoffee.v25i.folder/test/RioFechado/RioFechado004.jpg: 256x256 RioFechado 1.00, DuroRiadoRio 0.00, Quebrado 0.00, RiadoRio 0.00, Mole 0.00, 4.7ms\n",
            "Speed: 1.7ms preprocess, 4.7ms inference, 0.0ms postprocess per image at shape (1, 3, 256, 256)\n",
            "\n",
            "image 1/1 /content/drive/MyDrive/TypeCoffee.v25i.folder/test/RioFechado/RioFechado010.jpg: 256x256 RioFechado 1.00, Quebrado 0.00, DuroRiadoRio 0.00, RiadoRio 0.00, Mole 0.00, 4.2ms\n",
            "Speed: 1.5ms preprocess, 4.2ms inference, 0.0ms postprocess per image at shape (1, 3, 256, 256)\n",
            "\n",
            "image 1/1 /content/drive/MyDrive/TypeCoffee.v25i.folder/test/RioFechado/RioFechado006.jpg: 256x256 RioFechado 0.74, DuroRiadoRio 0.22, Quebrado 0.04, RiadoRio 0.00, Mole 0.00, 4.7ms\n",
            "Speed: 1.7ms preprocess, 4.7ms inference, 0.0ms postprocess per image at shape (1, 3, 256, 256)\n",
            "\n",
            "image 1/1 /content/drive/MyDrive/TypeCoffee.v25i.folder/test/RioFechado/RioFechado3.jpg: 256x256 RioFechado 1.00, Quebrado 0.00, DuroRiadoRio 0.00, RiadoRio 0.00, Mole 0.00, 4.0ms\n",
            "Speed: 1.4ms preprocess, 4.0ms inference, 0.0ms postprocess per image at shape (1, 3, 256, 256)\n",
            "\n",
            "image 1/1 /content/drive/MyDrive/TypeCoffee.v25i.folder/test/RioFechado/RioFechado003.jpg: 256x256 RioFechado 0.95, DuroRiadoRio 0.03, Quebrado 0.02, RiadoRio 0.00, Mole 0.00, 4.2ms\n",
            "Speed: 1.6ms preprocess, 4.2ms inference, 0.0ms postprocess per image at shape (1, 3, 256, 256)\n",
            "\n",
            "image 1/1 /content/drive/MyDrive/TypeCoffee.v25i.folder/test/RioFechado/RioFechado2.jpg: 256x256 RioFechado 1.00, Quebrado 0.00, DuroRiadoRio 0.00, Mole 0.00, RiadoRio 0.00, 5.7ms\n",
            "Speed: 1.9ms preprocess, 5.7ms inference, 0.0ms postprocess per image at shape (1, 3, 256, 256)\n",
            "\n",
            "image 1/1 /content/drive/MyDrive/TypeCoffee.v25i.folder/test/RioFechado/RioFechado005.jpg: 256x256 RioFechado 0.99, Quebrado 0.01, DuroRiadoRio 0.00, RiadoRio 0.00, Mole 0.00, 4.9ms\n",
            "Speed: 1.6ms preprocess, 4.9ms inference, 0.0ms postprocess per image at shape (1, 3, 256, 256)\n",
            "\n",
            "image 1/1 /content/drive/MyDrive/TypeCoffee.v25i.folder/test/RioFechado/RioFechado007.jpg: 256x256 RioFechado 1.00, Quebrado 0.00, DuroRiadoRio 0.00, RiadoRio 0.00, Mole 0.00, 4.1ms\n",
            "Speed: 1.4ms preprocess, 4.1ms inference, 0.0ms postprocess per image at shape (1, 3, 256, 256)\n",
            "\n",
            "image 1/1 /content/drive/MyDrive/TypeCoffee.v25i.folder/test/DuroRiadoRio/02DuroRiadoRio_jpeg.rf.baf5aa7f846eb7e39932c0332a5948bb.jpg: 256x256 DuroRiadoRio 0.99, RiadoRio 0.00, RioFechado 0.00, Mole 0.00, Quebrado 0.00, 4.9ms\n",
            "Speed: 1.4ms preprocess, 4.9ms inference, 0.0ms postprocess per image at shape (1, 3, 256, 256)\n",
            "\n",
            "image 1/1 /content/drive/MyDrive/TypeCoffee.v25i.folder/test/DuroRiadoRio/05DuroRiadoRio_jpeg.rf.30ae7f3faea41f38312a0090d64f33e3.jpg: 256x256 DuroRiadoRio 1.00, RioFechado 0.00, RiadoRio 0.00, Quebrado 0.00, Mole 0.00, 4.3ms\n",
            "Speed: 1.5ms preprocess, 4.3ms inference, 0.0ms postprocess per image at shape (1, 3, 256, 256)\n",
            "\n",
            "image 1/1 /content/drive/MyDrive/TypeCoffee.v25i.folder/test/DuroRiadoRio/07DuroRiadoRio_jpeg.rf.4b36bb37069a8d9f969a3b119def876b.jpg: 256x256 DuroRiadoRio 1.00, RioFechado 0.00, RiadoRio 0.00, Quebrado 0.00, Mole 0.00, 4.3ms\n",
            "Speed: 1.4ms preprocess, 4.3ms inference, 0.0ms postprocess per image at shape (1, 3, 256, 256)\n",
            "\n",
            "image 1/1 /content/drive/MyDrive/TypeCoffee.v25i.folder/test/DuroRiadoRio/WhatsApp-Image-2024-09-06-at-11-41-11-3-_jpeg.rf.bf038f39c98884a7d438df1bd969d490.jpg: 256x256 DuroRiadoRio 1.00, RioFechado 0.00, Mole 0.00, RiadoRio 0.00, Quebrado 0.00, 4.2ms\n",
            "Speed: 1.4ms preprocess, 4.2ms inference, 0.1ms postprocess per image at shape (1, 3, 256, 256)\n",
            "\n",
            "image 1/1 /content/drive/MyDrive/TypeCoffee.v25i.folder/test/DuroRiadoRio/DuroRiadoRio008_jpeg.rf.75940b0f983945c67e908def6e2c5b03.jpg: 256x256 DuroRiadoRio 1.00, Mole 0.00, RioFechado 0.00, RiadoRio 0.00, Quebrado 0.00, 4.2ms\n",
            "Speed: 1.6ms preprocess, 4.2ms inference, 0.0ms postprocess per image at shape (1, 3, 256, 256)\n",
            "\n",
            "image 1/1 /content/drive/MyDrive/TypeCoffee.v25i.folder/test/DuroRiadoRio/04DuroRiadoRio_jpeg.rf.d3948d46f2e53aba0394990f281d7251.jpg: 256x256 DuroRiadoRio 1.00, RiadoRio 0.00, RioFechado 0.00, Mole 0.00, Quebrado 0.00, 4.1ms\n",
            "Speed: 1.4ms preprocess, 4.1ms inference, 0.0ms postprocess per image at shape (1, 3, 256, 256)\n",
            "\n",
            "image 1/1 /content/drive/MyDrive/TypeCoffee.v25i.folder/test/DuroRiadoRio/WhatsApp-Image-2024-09-06-at-11-41-08-1-_jpeg.rf.6b9b85763eb947aa24948983d5f031ab.jpg: 256x256 DuroRiadoRio 1.00, RiadoRio 0.00, RioFechado 0.00, Quebrado 0.00, Mole 0.00, 4.1ms\n",
            "Speed: 1.4ms preprocess, 4.1ms inference, 0.0ms postprocess per image at shape (1, 3, 256, 256)\n",
            "\n",
            "image 1/1 /content/drive/MyDrive/TypeCoffee.v25i.folder/test/DuroRiadoRio/11DuroRiadoRio_jpeg.rf.5434f63f8ca2e9fabb833aa06d9e8c60.jpg: 256x256 DuroRiadoRio 0.99, RioFechado 0.01, RiadoRio 0.00, Mole 0.00, Quebrado 0.00, 4.3ms\n",
            "Speed: 1.5ms preprocess, 4.3ms inference, 0.0ms postprocess per image at shape (1, 3, 256, 256)\n",
            "\n",
            "image 1/1 /content/drive/MyDrive/TypeCoffee.v25i.folder/test/DuroRiadoRio/Duro007.jpg: 256x256 DuroRiadoRio 1.00, RiadoRio 0.00, RioFechado 0.00, Quebrado 0.00, Mole 0.00, 4.2ms\n",
            "Speed: 1.3ms preprocess, 4.2ms inference, 0.0ms postprocess per image at shape (1, 3, 256, 256)\n",
            "\n",
            "image 1/1 /content/drive/MyDrive/TypeCoffee.v25i.folder/test/DuroRiadoRio/Duro008.jpg: 256x256 DuroRiadoRio 1.00, RioFechado 0.00, RiadoRio 0.00, Quebrado 0.00, Mole 0.00, 4.0ms\n",
            "Speed: 1.3ms preprocess, 4.0ms inference, 0.0ms postprocess per image at shape (1, 3, 256, 256)\n",
            "\n",
            "image 1/1 /content/drive/MyDrive/TypeCoffee.v25i.folder/test/DuroRiadoRio/Duro006.jpg: 256x256 DuroRiadoRio 1.00, RioFechado 0.00, RiadoRio 0.00, Quebrado 0.00, Mole 0.00, 4.1ms\n",
            "Speed: 1.4ms preprocess, 4.1ms inference, 0.0ms postprocess per image at shape (1, 3, 256, 256)\n",
            "\n",
            "image 1/1 /content/drive/MyDrive/TypeCoffee.v25i.folder/test/DuroRiadoRio/Duro009.jpg: 256x256 DuroRiadoRio 1.00, RioFechado 0.00, RiadoRio 0.00, Quebrado 0.00, Mole 0.00, 4.2ms\n",
            "Speed: 1.4ms preprocess, 4.2ms inference, 0.0ms postprocess per image at shape (1, 3, 256, 256)\n",
            "\n",
            "image 1/1 /content/drive/MyDrive/TypeCoffee.v25i.folder/test/DuroRiadoRio/Duro011.jpg: 256x256 DuroRiadoRio 1.00, RiadoRio 0.00, RioFechado 0.00, Quebrado 0.00, Mole 0.00, 4.5ms\n",
            "Speed: 1.5ms preprocess, 4.5ms inference, 0.0ms postprocess per image at shape (1, 3, 256, 256)\n",
            "\n",
            "image 1/1 /content/drive/MyDrive/TypeCoffee.v25i.folder/test/DuroRiadoRio/Duro010.jpg: 256x256 DuroRiadoRio 1.00, RioFechado 0.00, RiadoRio 0.00, Quebrado 0.00, Mole 0.00, 4.0ms\n",
            "Speed: 1.4ms preprocess, 4.0ms inference, 0.0ms postprocess per image at shape (1, 3, 256, 256)\n",
            "\n",
            "image 1/1 /content/drive/MyDrive/TypeCoffee.v25i.folder/test/DuroRiadoRio/Duro002.jpg: 256x256 DuroRiadoRio 0.99, RiadoRio 0.01, RioFechado 0.00, Mole 0.00, Quebrado 0.00, 4.1ms\n",
            "Speed: 1.4ms preprocess, 4.1ms inference, 0.0ms postprocess per image at shape (1, 3, 256, 256)\n",
            "\n",
            "image 1/1 /content/drive/MyDrive/TypeCoffee.v25i.folder/test/DuroRiadoRio/Duro001.jpg: 256x256 DuroRiadoRio 1.00, RiadoRio 0.00, RioFechado 0.00, Quebrado 0.00, Mole 0.00, 5.2ms\n",
            "Speed: 1.6ms preprocess, 5.2ms inference, 0.0ms postprocess per image at shape (1, 3, 256, 256)\n",
            "\n",
            "image 1/1 /content/drive/MyDrive/TypeCoffee.v25i.folder/test/DuroRiadoRio/Duro003.jpg: 256x256 DuroRiadoRio 1.00, RioFechado 0.00, RiadoRio 0.00, Mole 0.00, Quebrado 0.00, 5.4ms\n",
            "Speed: 1.6ms preprocess, 5.4ms inference, 0.0ms postprocess per image at shape (1, 3, 256, 256)\n",
            "\n",
            "image 1/1 /content/drive/MyDrive/TypeCoffee.v25i.folder/test/DuroRiadoRio/Duro004.jpg: 256x256 DuroRiadoRio 1.00, RiadoRio 0.00, RioFechado 0.00, Mole 0.00, Quebrado 0.00, 5.1ms\n",
            "Speed: 1.7ms preprocess, 5.1ms inference, 0.0ms postprocess per image at shape (1, 3, 256, 256)\n",
            "\n",
            "image 1/1 /content/drive/MyDrive/TypeCoffee.v25i.folder/test/DuroRiadoRio/Duro005.jpg: 256x256 DuroRiadoRio 1.00, RiadoRio 0.00, RioFechado 0.00, Quebrado 0.00, Mole 0.00, 5.1ms\n",
            "Speed: 1.6ms preprocess, 5.1ms inference, 0.0ms postprocess per image at shape (1, 3, 256, 256)\n",
            "Previsões salvas em predictions.csv!\n"
          ]
        }
      ]
    },
    {
      "cell_type": "code",
      "source": [
        "import numpy as np\n",
        "from sklearn.metrics import precision_score, recall_score, f1_score, accuracy_score\n",
        "import os\n",
        "\n",
        "# Definição das classes\n",
        "classes = ['DuroRiadoRio', 'Mole', 'Quebrado', 'RiadoRio', 'RioFechado']\n",
        "\n",
        "# Diretório das imagens de teste\n",
        "teste_path = \"/content/drive/MyDrive/TypeCoffee.v25i.folder/test\"\n",
        "\n",
        "# Listar imagens de teste\n",
        "imagens_teste = [os.path.join(teste_path, classe, img)\n",
        "                 for classe in os.listdir(teste_path)\n",
        "                 for img in os.listdir(os.path.join(teste_path, classe)) if img.endswith(\".jpg\")]\n",
        "\n",
        "# Fazer previsões e armazenar os rótulos\n",
        "true_labels = []\n",
        "pred_labels = []\n",
        "\n",
        "# Rodar inferência com o YOLO11\n",
        "for img in imagens_teste:\n",
        "    resultado = model(img)  # Executa a inferência\n",
        "    classe_predita = resultado[0].probs.top1  # Obtém a classe prevista como índice numérico\n",
        "    true_class = os.path.basename(os.path.dirname(img))  # Classe verdadeira baseada na pasta\n",
        "\n",
        "    true_labels.append(classes.index(true_class))  # Converter para índice numérico\n",
        "    pred_labels.append(classe_predita)  # Agora armazenamos diretamente o índice numérico\n",
        "\n",
        "# Calcular métricas\n",
        "precisao = precision_score(true_labels, pred_labels, average='macro')\n",
        "recall = recall_score(true_labels, pred_labels, average='macro')\n",
        "f1 = f1_score(true_labels, pred_labels, average='macro')\n",
        "acuracia = accuracy_score(true_labels, pred_labels)\n",
        "\n",
        "print(f'Precisão: {precisao:.6f}')\n",
        "print(f'Recall: {recall:.6f}')\n",
        "print(f'F1-Score: {f1:.6f}')\n",
        "print(f'acuracia: {acuracia:.6f}')\n"
      ],
      "metadata": {
        "colab": {
          "base_uri": "https://localhost:8080/"
        },
        "id": "ebPY4GxxYtnj",
        "outputId": "922ed61d-550f-4148-872f-c5e5170fb156"
      },
      "execution_count": 11,
      "outputs": [
        {
          "output_type": "stream",
          "name": "stdout",
          "text": [
            "\n",
            "image 1/1 /content/drive/MyDrive/TypeCoffee.v25i.folder/test/RiadoRio/RiadoRio007_jpeg.rf.77bfbbac779ecbe2ffcf859aba896551.jpg: 256x256 RiadoRio 0.99, Mole 0.01, DuroRiadoRio 0.00, Quebrado 0.00, RioFechado 0.00, 5.0ms\n",
            "Speed: 2.7ms preprocess, 5.0ms inference, 0.1ms postprocess per image at shape (1, 3, 256, 256)\n",
            "\n",
            "image 1/1 /content/drive/MyDrive/TypeCoffee.v25i.folder/test/RiadoRio/03RiadoRio_jpeg.rf.9825f805f6bd663cfbafcab2b2c72c59.jpg: 256x256 RiadoRio 0.99, DuroRiadoRio 0.01, Mole 0.00, RioFechado 0.00, Quebrado 0.00, 5.3ms\n",
            "Speed: 1.9ms preprocess, 5.3ms inference, 0.0ms postprocess per image at shape (1, 3, 256, 256)\n",
            "\n",
            "image 1/1 /content/drive/MyDrive/TypeCoffee.v25i.folder/test/RiadoRio/07RiadoRio_jpeg.rf.a559a8968131976d860a75323d4723b5.jpg: 256x256 RiadoRio 0.90, DuroRiadoRio 0.09, Mole 0.01, RioFechado 0.00, Quebrado 0.00, 4.0ms\n",
            "Speed: 1.2ms preprocess, 4.0ms inference, 0.0ms postprocess per image at shape (1, 3, 256, 256)\n",
            "\n",
            "image 1/1 /content/drive/MyDrive/TypeCoffee.v25i.folder/test/RiadoRio/04RiadoRio_jpeg.rf.eaa95d334de4ef46e19a11645f77ddcb.jpg: 256x256 RiadoRio 0.98, DuroRiadoRio 0.02, Mole 0.00, RioFechado 0.00, Quebrado 0.00, 4.0ms\n",
            "Speed: 1.4ms preprocess, 4.0ms inference, 0.0ms postprocess per image at shape (1, 3, 256, 256)\n",
            "\n",
            "image 1/1 /content/drive/MyDrive/TypeCoffee.v25i.folder/test/RiadoRio/WhatsApp-Image-2024-09-06-at-11-20-28-2-_jpeg.rf.71747939e7e8398dcd16ed1230598bce.jpg: 256x256 RiadoRio 1.00, Mole 0.00, DuroRiadoRio 0.00, Quebrado 0.00, RioFechado 0.00, 3.8ms\n",
            "Speed: 1.2ms preprocess, 3.8ms inference, 0.0ms postprocess per image at shape (1, 3, 256, 256)\n",
            "\n",
            "image 1/1 /content/drive/MyDrive/TypeCoffee.v25i.folder/test/RiadoRio/09RiadoRio_jpeg.rf.c0a729129d964513196b28ba1ceb6e23.jpg: 256x256 RiadoRio 0.98, Mole 0.01, DuroRiadoRio 0.01, RioFechado 0.00, Quebrado 0.00, 3.8ms\n",
            "Speed: 1.2ms preprocess, 3.8ms inference, 0.0ms postprocess per image at shape (1, 3, 256, 256)\n",
            "\n",
            "image 1/1 /content/drive/MyDrive/TypeCoffee.v25i.folder/test/RiadoRio/14RiadoRio_jpeg.rf.73b40049265c9aa5d2f140b474939aea.jpg: 256x256 RiadoRio 0.87, DuroRiadoRio 0.08, Mole 0.05, RioFechado 0.00, Quebrado 0.00, 3.7ms\n",
            "Speed: 1.2ms preprocess, 3.7ms inference, 0.0ms postprocess per image at shape (1, 3, 256, 256)\n",
            "\n",
            "image 1/1 /content/drive/MyDrive/TypeCoffee.v25i.folder/test/RiadoRio/13RiadoRio_jpeg.rf.72c2d06e155084d0ff146dd6caf1294c.jpg: 256x256 RiadoRio 0.91, DuroRiadoRio 0.08, Mole 0.00, RioFechado 0.00, Quebrado 0.00, 3.9ms\n",
            "Speed: 1.3ms preprocess, 3.9ms inference, 0.0ms postprocess per image at shape (1, 3, 256, 256)\n",
            "\n",
            "image 1/1 /content/drive/MyDrive/TypeCoffee.v25i.folder/test/RiadoRio/02RiadoRio_jpeg.rf.6cb315bfe1791431e87ca69368beed47.jpg: 256x256 DuroRiadoRio 0.94, RiadoRio 0.06, Mole 0.00, RioFechado 0.00, Quebrado 0.00, 3.8ms\n",
            "Speed: 1.3ms preprocess, 3.8ms inference, 0.0ms postprocess per image at shape (1, 3, 256, 256)\n",
            "\n",
            "image 1/1 /content/drive/MyDrive/TypeCoffee.v25i.folder/test/RiadoRio/05RiadoRio_jpeg.rf.a0359cdbc87fdd69add3478271e8d29a.jpg: 256x256 RiadoRio 1.00, DuroRiadoRio 0.00, RioFechado 0.00, Quebrado 0.00, Mole 0.00, 3.8ms\n",
            "Speed: 1.3ms preprocess, 3.8ms inference, 0.0ms postprocess per image at shape (1, 3, 256, 256)\n",
            "\n",
            "image 1/1 /content/drive/MyDrive/TypeCoffee.v25i.folder/test/RiadoRio/WhatsApp-Image-2024-09-06-at-11-20-30_jpeg.rf.62e69699e97526a6677c257e673084fd.jpg: 256x256 RiadoRio 1.00, Mole 0.00, DuroRiadoRio 0.00, Quebrado 0.00, RioFechado 0.00, 3.8ms\n",
            "Speed: 1.2ms preprocess, 3.8ms inference, 0.0ms postprocess per image at shape (1, 3, 256, 256)\n",
            "\n",
            "image 1/1 /content/drive/MyDrive/TypeCoffee.v25i.folder/test/RiadoRio/RiadoRio003.jpg: 256x256 RiadoRio 0.90, DuroRiadoRio 0.10, RioFechado 0.00, Mole 0.00, Quebrado 0.00, 3.8ms\n",
            "Speed: 1.3ms preprocess, 3.8ms inference, 0.0ms postprocess per image at shape (1, 3, 256, 256)\n",
            "\n",
            "image 1/1 /content/drive/MyDrive/TypeCoffee.v25i.folder/test/RiadoRio/RiadoRio002.jpg: 256x256 DuroRiadoRio 0.75, RiadoRio 0.25, RioFechado 0.00, Quebrado 0.00, Mole 0.00, 3.8ms\n",
            "Speed: 1.2ms preprocess, 3.8ms inference, 0.0ms postprocess per image at shape (1, 3, 256, 256)\n",
            "\n",
            "image 1/1 /content/drive/MyDrive/TypeCoffee.v25i.folder/test/RiadoRio/RiadoRio004.jpg: 256x256 DuroRiadoRio 0.96, RiadoRio 0.04, RioFechado 0.00, Quebrado 0.00, Mole 0.00, 3.9ms\n",
            "Speed: 1.2ms preprocess, 3.9ms inference, 0.0ms postprocess per image at shape (1, 3, 256, 256)\n",
            "\n",
            "image 1/1 /content/drive/MyDrive/TypeCoffee.v25i.folder/test/RiadoRio/RiadoRio006.jpg: 256x256 DuroRiadoRio 0.77, RiadoRio 0.23, RioFechado 0.00, Mole 0.00, Quebrado 0.00, 4.2ms\n",
            "Speed: 1.2ms preprocess, 4.2ms inference, 0.0ms postprocess per image at shape (1, 3, 256, 256)\n",
            "\n",
            "image 1/1 /content/drive/MyDrive/TypeCoffee.v25i.folder/test/RiadoRio/Riado011.jpg: 256x256 RiadoRio 1.00, DuroRiadoRio 0.00, RioFechado 0.00, Quebrado 0.00, Mole 0.00, 3.7ms\n",
            "Speed: 1.2ms preprocess, 3.7ms inference, 0.0ms postprocess per image at shape (1, 3, 256, 256)\n",
            "\n",
            "image 1/1 /content/drive/MyDrive/TypeCoffee.v25i.folder/test/RiadoRio/RiadoRio001.jpg: 256x256 DuroRiadoRio 0.92, RiadoRio 0.08, RioFechado 0.00, Quebrado 0.00, Mole 0.00, 4.0ms\n",
            "Speed: 1.2ms preprocess, 4.0ms inference, 0.0ms postprocess per image at shape (1, 3, 256, 256)\n",
            "\n",
            "image 1/1 /content/drive/MyDrive/TypeCoffee.v25i.folder/test/RiadoRio/Riado010.jpg: 256x256 RiadoRio 0.57, DuroRiadoRio 0.41, Mole 0.01, RioFechado 0.00, Quebrado 0.00, 4.0ms\n",
            "Speed: 1.3ms preprocess, 4.0ms inference, 0.0ms postprocess per image at shape (1, 3, 256, 256)\n",
            "\n",
            "image 1/1 /content/drive/MyDrive/TypeCoffee.v25i.folder/test/RiadoRio/RiadoRio005.jpg: 256x256 RiadoRio 1.00, DuroRiadoRio 0.00, Quebrado 0.00, RioFechado 0.00, Mole 0.00, 3.8ms\n",
            "Speed: 1.2ms preprocess, 3.8ms inference, 0.0ms postprocess per image at shape (1, 3, 256, 256)\n",
            "\n",
            "image 1/1 /content/drive/MyDrive/TypeCoffee.v25i.folder/test/RiadoRio/Riado009.jpg: 256x256 RiadoRio 0.97, DuroRiadoRio 0.03, RioFechado 0.00, Quebrado 0.00, Mole 0.00, 3.9ms\n",
            "Speed: 1.2ms preprocess, 3.9ms inference, 0.0ms postprocess per image at shape (1, 3, 256, 256)\n",
            "\n",
            "image 1/1 /content/drive/MyDrive/TypeCoffee.v25i.folder/test/RiadoRio/Riado008.jpg: 256x256 DuroRiadoRio 0.90, RiadoRio 0.10, RioFechado 0.00, Quebrado 0.00, Mole 0.00, 3.6ms\n",
            "Speed: 1.1ms preprocess, 3.6ms inference, 0.0ms postprocess per image at shape (1, 3, 256, 256)\n",
            "\n",
            "image 1/1 /content/drive/MyDrive/TypeCoffee.v25i.folder/test/RiadoRio/RiadoRio007.jpg: 256x256 RiadoRio 0.82, DuroRiadoRio 0.18, Quebrado 0.00, RioFechado 0.00, Mole 0.00, 4.7ms\n",
            "Speed: 1.4ms preprocess, 4.7ms inference, 0.0ms postprocess per image at shape (1, 3, 256, 256)\n",
            "\n",
            "image 1/1 /content/drive/MyDrive/TypeCoffee.v25i.folder/test/Mole/14Mole_jpeg.rf.f37a738a974b6d456179fa674443a3f5.jpg: 256x256 Mole 1.00, RiadoRio 0.00, DuroRiadoRio 0.00, RioFechado 0.00, Quebrado 0.00, 3.9ms\n",
            "Speed: 1.1ms preprocess, 3.9ms inference, 0.0ms postprocess per image at shape (1, 3, 256, 256)\n",
            "\n",
            "image 1/1 /content/drive/MyDrive/TypeCoffee.v25i.folder/test/Mole/Mole008_jpeg.rf.12470ce0e146724234481fcc8cd82734.jpg: 256x256 Mole 1.00, DuroRiadoRio 0.00, RiadoRio 0.00, RioFechado 0.00, Quebrado 0.00, 3.8ms\n",
            "Speed: 1.2ms preprocess, 3.8ms inference, 0.0ms postprocess per image at shape (1, 3, 256, 256)\n",
            "\n",
            "image 1/1 /content/drive/MyDrive/TypeCoffee.v25i.folder/test/Mole/06Mole_jpeg.rf.dc685060ddbeed71c4bed160ab1f8715.jpg: 256x256 Mole 1.00, RioFechado 0.00, RiadoRio 0.00, DuroRiadoRio 0.00, Quebrado 0.00, 3.8ms\n",
            "Speed: 1.2ms preprocess, 3.8ms inference, 0.0ms postprocess per image at shape (1, 3, 256, 256)\n",
            "\n",
            "image 1/1 /content/drive/MyDrive/TypeCoffee.v25i.folder/test/Mole/15Mole_jpeg.rf.a40f45227fad8d1a2ac961918ad8335c.jpg: 256x256 Mole 1.00, RiadoRio 0.00, DuroRiadoRio 0.00, RioFechado 0.00, Quebrado 0.00, 4.2ms\n",
            "Speed: 1.3ms preprocess, 4.2ms inference, 0.0ms postprocess per image at shape (1, 3, 256, 256)\n",
            "\n",
            "image 1/1 /content/drive/MyDrive/TypeCoffee.v25i.folder/test/Mole/WhatsApp-Image-2024-09-06-at-11-30-44-1-_jpeg.rf.cf588f3d0679637ae23d11598a230283.jpg: 256x256 Mole 1.00, DuroRiadoRio 0.00, RiadoRio 0.00, RioFechado 0.00, Quebrado 0.00, 4.2ms\n",
            "Speed: 1.2ms preprocess, 4.2ms inference, 0.0ms postprocess per image at shape (1, 3, 256, 256)\n",
            "\n",
            "image 1/1 /content/drive/MyDrive/TypeCoffee.v25i.folder/test/Mole/WhatsApp-Image-2024-09-06-at-11-30-45_jpeg.rf.6f7a2b161b540c7137d192fa9585fe02.jpg: 256x256 Mole 1.00, DuroRiadoRio 0.00, RiadoRio 0.00, RioFechado 0.00, Quebrado 0.00, 4.0ms\n",
            "Speed: 1.2ms preprocess, 4.0ms inference, 0.0ms postprocess per image at shape (1, 3, 256, 256)\n",
            "\n",
            "image 1/1 /content/drive/MyDrive/TypeCoffee.v25i.folder/test/Mole/04Mole_jpeg.rf.59fdd30f1e188709d985dc667161d8a0.jpg: 256x256 Mole 1.00, RioFechado 0.00, RiadoRio 0.00, DuroRiadoRio 0.00, Quebrado 0.00, 3.9ms\n",
            "Speed: 1.2ms preprocess, 3.9ms inference, 0.0ms postprocess per image at shape (1, 3, 256, 256)\n",
            "\n",
            "image 1/1 /content/drive/MyDrive/TypeCoffee.v25i.folder/test/Mole/03Mole_jpeg.rf.64c87393a100cfde7e00c8ebb032d325.jpg: 256x256 Mole 1.00, RiadoRio 0.00, DuroRiadoRio 0.00, RioFechado 0.00, Quebrado 0.00, 3.8ms\n",
            "Speed: 1.1ms preprocess, 3.8ms inference, 0.0ms postprocess per image at shape (1, 3, 256, 256)\n",
            "\n",
            "image 1/1 /content/drive/MyDrive/TypeCoffee.v25i.folder/test/Mole/Mole2.jpg: 256x256 Mole 0.95, DuroRiadoRio 0.03, RiadoRio 0.03, RioFechado 0.00, Quebrado 0.00, 3.6ms\n",
            "Speed: 1.1ms preprocess, 3.6ms inference, 0.0ms postprocess per image at shape (1, 3, 256, 256)\n",
            "\n",
            "image 1/1 /content/drive/MyDrive/TypeCoffee.v25i.folder/test/Mole/Mole3.jpg: 256x256 Mole 0.99, RiadoRio 0.00, DuroRiadoRio 0.00, RioFechado 0.00, Quebrado 0.00, 3.9ms\n",
            "Speed: 1.1ms preprocess, 3.9ms inference, 0.0ms postprocess per image at shape (1, 3, 256, 256)\n",
            "\n",
            "image 1/1 /content/drive/MyDrive/TypeCoffee.v25i.folder/test/Mole/mole004.jpg: 256x256 DuroRiadoRio 0.47, Mole 0.28, RiadoRio 0.25, RioFechado 0.00, Quebrado 0.00, 3.7ms\n",
            "Speed: 1.1ms preprocess, 3.7ms inference, 0.0ms postprocess per image at shape (1, 3, 256, 256)\n",
            "\n",
            "image 1/1 /content/drive/MyDrive/TypeCoffee.v25i.folder/test/Mole/mole003.jpg: 256x256 RiadoRio 0.93, Mole 0.07, DuroRiadoRio 0.00, Quebrado 0.00, RioFechado 0.00, 3.7ms\n",
            "Speed: 1.2ms preprocess, 3.7ms inference, 0.0ms postprocess per image at shape (1, 3, 256, 256)\n",
            "\n",
            "image 1/1 /content/drive/MyDrive/TypeCoffee.v25i.folder/test/Mole/mole006.jpg: 256x256 RiadoRio 0.86, Mole 0.14, DuroRiadoRio 0.00, Quebrado 0.00, RioFechado 0.00, 3.9ms\n",
            "Speed: 1.3ms preprocess, 3.9ms inference, 0.0ms postprocess per image at shape (1, 3, 256, 256)\n",
            "\n",
            "image 1/1 /content/drive/MyDrive/TypeCoffee.v25i.folder/test/Mole/mole005.jpg: 256x256 Mole 1.00, DuroRiadoRio 0.00, RiadoRio 0.00, RioFechado 0.00, Quebrado 0.00, 5.3ms\n",
            "Speed: 1.7ms preprocess, 5.3ms inference, 0.0ms postprocess per image at shape (1, 3, 256, 256)\n",
            "\n",
            "image 1/1 /content/drive/MyDrive/TypeCoffee.v25i.folder/test/Mole/Mole008.jpg: 256x256 Mole 1.00, DuroRiadoRio 0.00, RiadoRio 0.00, RioFechado 0.00, Quebrado 0.00, 4.2ms\n",
            "Speed: 1.4ms preprocess, 4.2ms inference, 0.0ms postprocess per image at shape (1, 3, 256, 256)\n",
            "\n",
            "image 1/1 /content/drive/MyDrive/TypeCoffee.v25i.folder/test/Mole/mole007.jpg: 256x256 Mole 0.97, RiadoRio 0.03, DuroRiadoRio 0.00, Quebrado 0.00, RioFechado 0.00, 3.9ms\n",
            "Speed: 1.3ms preprocess, 3.9ms inference, 0.0ms postprocess per image at shape (1, 3, 256, 256)\n",
            "\n",
            "image 1/1 /content/drive/MyDrive/TypeCoffee.v25i.folder/test/Mole/Mole.jpg: 256x256 Mole 0.96, DuroRiadoRio 0.03, RiadoRio 0.01, RioFechado 0.00, Quebrado 0.00, 3.9ms\n",
            "Speed: 1.3ms preprocess, 3.9ms inference, 0.0ms postprocess per image at shape (1, 3, 256, 256)\n",
            "\n",
            "image 1/1 /content/drive/MyDrive/TypeCoffee.v25i.folder/test/Mole/mole001.jpg: 256x256 Mole 0.95, RiadoRio 0.04, DuroRiadoRio 0.01, RioFechado 0.00, Quebrado 0.00, 3.9ms\n",
            "Speed: 1.3ms preprocess, 3.9ms inference, 0.0ms postprocess per image at shape (1, 3, 256, 256)\n",
            "\n",
            "image 1/1 /content/drive/MyDrive/TypeCoffee.v25i.folder/test/Mole/mole002.jpg: 256x256 Mole 0.89, RiadoRio 0.11, DuroRiadoRio 0.00, Quebrado 0.00, RioFechado 0.00, 3.8ms\n",
            "Speed: 1.2ms preprocess, 3.8ms inference, 0.0ms postprocess per image at shape (1, 3, 256, 256)\n",
            "\n",
            "image 1/1 /content/drive/MyDrive/TypeCoffee.v25i.folder/test/Quebrado/15Quebrado_jpeg.rf.2d6c64b95ae675c87e24acc70ab8f0a6.jpg: 256x256 Quebrado 1.00, RioFechado 0.00, Mole 0.00, DuroRiadoRio 0.00, RiadoRio 0.00, 4.0ms\n",
            "Speed: 1.2ms preprocess, 4.0ms inference, 0.0ms postprocess per image at shape (1, 3, 256, 256)\n",
            "\n",
            "image 1/1 /content/drive/MyDrive/TypeCoffee.v25i.folder/test/Quebrado/WhatsApp-Image-2024-09-06-at-11-34-30_jpeg.rf.f8aa737abab24d97e7938959e7a1ca7b.jpg: 256x256 Quebrado 1.00, Mole 0.00, RiadoRio 0.00, DuroRiadoRio 0.00, RioFechado 0.00, 3.8ms\n",
            "Speed: 1.3ms preprocess, 3.8ms inference, 0.1ms postprocess per image at shape (1, 3, 256, 256)\n",
            "\n",
            "image 1/1 /content/drive/MyDrive/TypeCoffee.v25i.folder/test/Quebrado/08Quebrado_jpeg.rf.a24fc64a66f98974449a99694be41b60.jpg: 256x256 Quebrado 1.00, RioFechado 0.00, DuroRiadoRio 0.00, Mole 0.00, RiadoRio 0.00, 3.9ms\n",
            "Speed: 1.2ms preprocess, 3.9ms inference, 0.0ms postprocess per image at shape (1, 3, 256, 256)\n",
            "\n",
            "image 1/1 /content/drive/MyDrive/TypeCoffee.v25i.folder/test/Quebrado/10Quebrado_jpeg.rf.3aea52e2d3b80ffdfa3bb3b477856ffc.jpg: 256x256 Quebrado 1.00, Mole 0.00, DuroRiadoRio 0.00, RioFechado 0.00, RiadoRio 0.00, 6.5ms\n",
            "Speed: 1.3ms preprocess, 6.5ms inference, 0.0ms postprocess per image at shape (1, 3, 256, 256)\n",
            "\n",
            "image 1/1 /content/drive/MyDrive/TypeCoffee.v25i.folder/test/Quebrado/07Quebrado_jpeg.rf.bf6b94dbb0cc3f52857cb57687c5c0f9.jpg: 256x256 Quebrado 1.00, Mole 0.00, RiadoRio 0.00, DuroRiadoRio 0.00, RioFechado 0.00, 4.7ms\n",
            "Speed: 1.3ms preprocess, 4.7ms inference, 0.0ms postprocess per image at shape (1, 3, 256, 256)\n",
            "\n",
            "image 1/1 /content/drive/MyDrive/TypeCoffee.v25i.folder/test/Quebrado/01Quebrado_jpeg.rf.67ab84ef59f48ada59f25493e7f8fa35.jpg: 256x256 Quebrado 1.00, RioFechado 0.00, DuroRiadoRio 0.00, Mole 0.00, RiadoRio 0.00, 4.2ms\n",
            "Speed: 1.3ms preprocess, 4.2ms inference, 0.0ms postprocess per image at shape (1, 3, 256, 256)\n",
            "\n",
            "image 1/1 /content/drive/MyDrive/TypeCoffee.v25i.folder/test/Quebrado/WhatsApp-Image-2024-09-06-at-11-34-27-2-_jpeg.rf.96c87e4f34ffcc34ea6cb1adf046542d.jpg: 256x256 Quebrado 1.00, Mole 0.00, DuroRiadoRio 0.00, RiadoRio 0.00, RioFechado 0.00, 3.9ms\n",
            "Speed: 1.2ms preprocess, 3.9ms inference, 0.0ms postprocess per image at shape (1, 3, 256, 256)\n",
            "\n",
            "image 1/1 /content/drive/MyDrive/TypeCoffee.v25i.folder/test/Quebrado/05Quebrado_jpeg.rf.256562e7ef3e448a76eed34460e1112a.jpg: 256x256 Quebrado 1.00, RioFechado 0.00, DuroRiadoRio 0.00, Mole 0.00, RiadoRio 0.00, 4.9ms\n",
            "Speed: 1.2ms preprocess, 4.9ms inference, 0.0ms postprocess per image at shape (1, 3, 256, 256)\n",
            "\n",
            "image 1/1 /content/drive/MyDrive/TypeCoffee.v25i.folder/test/Quebrado/Quebrado010_jpeg.rf.e6c0cdd15ebac6fc4a11f48f0b9ae96b.jpg: 256x256 Quebrado 0.99, DuroRiadoRio 0.01, Mole 0.00, RiadoRio 0.00, RioFechado 0.00, 3.9ms\n",
            "Speed: 1.3ms preprocess, 3.9ms inference, 0.0ms postprocess per image at shape (1, 3, 256, 256)\n",
            "\n",
            "image 1/1 /content/drive/MyDrive/TypeCoffee.v25i.folder/test/Quebrado/quebrado2.jpg: 256x256 Quebrado 1.00, RioFechado 0.00, Mole 0.00, DuroRiadoRio 0.00, RiadoRio 0.00, 3.9ms\n",
            "Speed: 1.3ms preprocess, 3.9ms inference, 0.0ms postprocess per image at shape (1, 3, 256, 256)\n",
            "\n",
            "image 1/1 /content/drive/MyDrive/TypeCoffee.v25i.folder/test/Quebrado/quebrado3.jpg: 256x256 Quebrado 1.00, RioFechado 0.00, Mole 0.00, RiadoRio 0.00, DuroRiadoRio 0.00, 3.8ms\n",
            "Speed: 1.3ms preprocess, 3.8ms inference, 0.0ms postprocess per image at shape (1, 3, 256, 256)\n",
            "\n",
            "image 1/1 /content/drive/MyDrive/TypeCoffee.v25i.folder/test/Quebrado/quebrado004.jpg: 256x256 Quebrado 1.00, DuroRiadoRio 0.00, RiadoRio 0.00, Mole 0.00, RioFechado 0.00, 3.8ms\n",
            "Speed: 1.3ms preprocess, 3.8ms inference, 0.0ms postprocess per image at shape (1, 3, 256, 256)\n",
            "\n",
            "image 1/1 /content/drive/MyDrive/TypeCoffee.v25i.folder/test/Quebrado/quebrado003.jpg: 256x256 Quebrado 1.00, DuroRiadoRio 0.00, RiadoRio 0.00, Mole 0.00, RioFechado 0.00, 4.0ms\n",
            "Speed: 1.3ms preprocess, 4.0ms inference, 0.0ms postprocess per image at shape (1, 3, 256, 256)\n",
            "\n",
            "image 1/1 /content/drive/MyDrive/TypeCoffee.v25i.folder/test/Quebrado/quebrado005.jpg: 256x256 Quebrado 1.00, DuroRiadoRio 0.00, RiadoRio 0.00, RioFechado 0.00, Mole 0.00, 3.7ms\n",
            "Speed: 1.2ms preprocess, 3.7ms inference, 0.0ms postprocess per image at shape (1, 3, 256, 256)\n",
            "\n",
            "image 1/1 /content/drive/MyDrive/TypeCoffee.v25i.folder/test/Quebrado/quebrado006.jpg: 256x256 Quebrado 1.00, DuroRiadoRio 0.00, RioFechado 0.00, Mole 0.00, RiadoRio 0.00, 3.9ms\n",
            "Speed: 1.2ms preprocess, 3.9ms inference, 0.0ms postprocess per image at shape (1, 3, 256, 256)\n",
            "\n",
            "image 1/1 /content/drive/MyDrive/TypeCoffee.v25i.folder/test/Quebrado/quebrado007.jpg: 256x256 Quebrado 1.00, DuroRiadoRio 0.00, Mole 0.00, RiadoRio 0.00, RioFechado 0.00, 4.0ms\n",
            "Speed: 1.2ms preprocess, 4.0ms inference, 0.0ms postprocess per image at shape (1, 3, 256, 256)\n",
            "\n",
            "image 1/1 /content/drive/MyDrive/TypeCoffee.v25i.folder/test/Quebrado/quebrado001.jpg: 256x256 Quebrado 0.99, DuroRiadoRio 0.00, Mole 0.00, RiadoRio 0.00, RioFechado 0.00, 3.9ms\n",
            "Speed: 1.3ms preprocess, 3.9ms inference, 0.0ms postprocess per image at shape (1, 3, 256, 256)\n",
            "\n",
            "image 1/1 /content/drive/MyDrive/TypeCoffee.v25i.folder/test/Quebrado/Quebrado010.jpg: 256x256 Quebrado 1.00, RioFechado 0.00, DuroRiadoRio 0.00, Mole 0.00, RiadoRio 0.00, 4.0ms\n",
            "Speed: 1.2ms preprocess, 4.0ms inference, 0.0ms postprocess per image at shape (1, 3, 256, 256)\n",
            "\n",
            "image 1/1 /content/drive/MyDrive/TypeCoffee.v25i.folder/test/Quebrado/quebrado1.jpg: 256x256 Quebrado 1.00, RioFechado 0.00, DuroRiadoRio 0.00, Mole 0.00, RiadoRio 0.00, 4.8ms\n",
            "Speed: 1.4ms preprocess, 4.8ms inference, 0.0ms postprocess per image at shape (1, 3, 256, 256)\n",
            "\n",
            "image 1/1 /content/drive/MyDrive/TypeCoffee.v25i.folder/test/Quebrado/quebrado002.jpg: 256x256 Quebrado 1.00, DuroRiadoRio 0.00, Mole 0.00, RiadoRio 0.00, RioFechado 0.00, 3.9ms\n",
            "Speed: 1.2ms preprocess, 3.9ms inference, 0.0ms postprocess per image at shape (1, 3, 256, 256)\n",
            "\n",
            "image 1/1 /content/drive/MyDrive/TypeCoffee.v25i.folder/test/RioFechado/13RioFechado_jpeg.rf.7b8ee06cecbe26f5480eb86625b62dec.jpg: 256x256 RioFechado 1.00, DuroRiadoRio 0.00, Mole 0.00, Quebrado 0.00, RiadoRio 0.00, 3.9ms\n",
            "Speed: 1.2ms preprocess, 3.9ms inference, 0.0ms postprocess per image at shape (1, 3, 256, 256)\n",
            "\n",
            "image 1/1 /content/drive/MyDrive/TypeCoffee.v25i.folder/test/RioFechado/04RioFechado_jpeg.rf.cda8a9b0bcbaf0fde4ed188b2809055c.jpg: 256x256 RioFechado 1.00, DuroRiadoRio 0.00, Quebrado 0.00, RiadoRio 0.00, Mole 0.00, 3.9ms\n",
            "Speed: 1.3ms preprocess, 3.9ms inference, 0.0ms postprocess per image at shape (1, 3, 256, 256)\n",
            "\n",
            "image 1/1 /content/drive/MyDrive/TypeCoffee.v25i.folder/test/RioFechado/WhatsApp-Image-2024-09-06-at-11-38-43_jpeg.rf.2fe92784af576291327efb8584f77f6f.jpg: 256x256 RioFechado 1.00, DuroRiadoRio 0.00, Quebrado 0.00, RiadoRio 0.00, Mole 0.00, 3.8ms\n",
            "Speed: 1.2ms preprocess, 3.8ms inference, 0.0ms postprocess per image at shape (1, 3, 256, 256)\n",
            "\n",
            "image 1/1 /content/drive/MyDrive/TypeCoffee.v25i.folder/test/RioFechado/11RioFechado_jpeg.rf.4811aef64541c2627b0702f61fe0bb5d.jpg: 256x256 RioFechado 1.00, Quebrado 0.00, DuroRiadoRio 0.00, RiadoRio 0.00, Mole 0.00, 3.9ms\n",
            "Speed: 1.2ms preprocess, 3.9ms inference, 0.0ms postprocess per image at shape (1, 3, 256, 256)\n",
            "\n",
            "image 1/1 /content/drive/MyDrive/TypeCoffee.v25i.folder/test/RioFechado/02RioFechado_jpeg.rf.a6482fe21870a8695434ecb6cb800375.jpg: 256x256 RioFechado 1.00, DuroRiadoRio 0.00, Quebrado 0.00, RiadoRio 0.00, Mole 0.00, 4.3ms\n",
            "Speed: 1.3ms preprocess, 4.3ms inference, 0.0ms postprocess per image at shape (1, 3, 256, 256)\n",
            "\n",
            "image 1/1 /content/drive/MyDrive/TypeCoffee.v25i.folder/test/RioFechado/09RioFechado_jpeg.rf.eb5f98359a8f51a5bfe788e1c97ac8c8.jpg: 256x256 RioFechado 1.00, DuroRiadoRio 0.00, RiadoRio 0.00, Quebrado 0.00, Mole 0.00, 3.7ms\n",
            "Speed: 1.3ms preprocess, 3.7ms inference, 0.0ms postprocess per image at shape (1, 3, 256, 256)\n",
            "\n",
            "image 1/1 /content/drive/MyDrive/TypeCoffee.v25i.folder/test/RioFechado/WhatsApp-Image-2024-09-06-at-11-38-49-1-_jpeg.rf.4bb03f2d70755de2a2ad4d8b8fe42146.jpg: 256x256 RioFechado 1.00, Quebrado 0.00, DuroRiadoRio 0.00, Mole 0.00, RiadoRio 0.00, 4.0ms\n",
            "Speed: 1.3ms preprocess, 4.0ms inference, 0.0ms postprocess per image at shape (1, 3, 256, 256)\n",
            "\n",
            "image 1/1 /content/drive/MyDrive/TypeCoffee.v25i.folder/test/RioFechado/03RioFechado_jpeg.rf.a81839faf450cc67780ec8cae7e37930.jpg: 256x256 RioFechado 1.00, Quebrado 0.00, DuroRiadoRio 0.00, Mole 0.00, RiadoRio 0.00, 5.0ms\n",
            "Speed: 1.5ms preprocess, 5.0ms inference, 0.0ms postprocess per image at shape (1, 3, 256, 256)\n",
            "\n",
            "image 1/1 /content/drive/MyDrive/TypeCoffee.v25i.folder/test/RioFechado/RioFechado004_jpeg.rf.2bced7b619ec3e9e28e1bfe586e537c3.jpg: 256x256 RioFechado 1.00, DuroRiadoRio 0.00, Quebrado 0.00, Mole 0.00, RiadoRio 0.00, 5.0ms\n",
            "Speed: 1.5ms preprocess, 5.0ms inference, 0.0ms postprocess per image at shape (1, 3, 256, 256)\n",
            "\n",
            "image 1/1 /content/drive/MyDrive/TypeCoffee.v25i.folder/test/RioFechado/RioFechado.jpg: 256x256 RioFechado 0.99, Quebrado 0.01, DuroRiadoRio 0.00, Mole 0.00, RiadoRio 0.00, 3.8ms\n",
            "Speed: 1.3ms preprocess, 3.8ms inference, 0.0ms postprocess per image at shape (1, 3, 256, 256)\n",
            "\n",
            "image 1/1 /content/drive/MyDrive/TypeCoffee.v25i.folder/test/RioFechado/RioFechado001.jpg: 256x256 RioFechado 1.00, Quebrado 0.00, DuroRiadoRio 0.00, RiadoRio 0.00, Mole 0.00, 4.8ms\n",
            "Speed: 1.5ms preprocess, 4.8ms inference, 0.0ms postprocess per image at shape (1, 3, 256, 256)\n",
            "\n",
            "image 1/1 /content/drive/MyDrive/TypeCoffee.v25i.folder/test/RioFechado/RioFechado002.jpg: 256x256 RioFechado 1.00, Quebrado 0.00, DuroRiadoRio 0.00, RiadoRio 0.00, Mole 0.00, 5.7ms\n",
            "Speed: 1.5ms preprocess, 5.7ms inference, 0.1ms postprocess per image at shape (1, 3, 256, 256)\n",
            "\n",
            "image 1/1 /content/drive/MyDrive/TypeCoffee.v25i.folder/test/RioFechado/RioFechado004.jpg: 256x256 RioFechado 1.00, DuroRiadoRio 0.00, Quebrado 0.00, RiadoRio 0.00, Mole 0.00, 4.9ms\n",
            "Speed: 1.5ms preprocess, 4.9ms inference, 0.0ms postprocess per image at shape (1, 3, 256, 256)\n",
            "\n",
            "image 1/1 /content/drive/MyDrive/TypeCoffee.v25i.folder/test/RioFechado/RioFechado010.jpg: 256x256 RioFechado 1.00, Quebrado 0.00, DuroRiadoRio 0.00, RiadoRio 0.00, Mole 0.00, 3.9ms\n",
            "Speed: 1.3ms preprocess, 3.9ms inference, 0.0ms postprocess per image at shape (1, 3, 256, 256)\n",
            "\n",
            "image 1/1 /content/drive/MyDrive/TypeCoffee.v25i.folder/test/RioFechado/RioFechado006.jpg: 256x256 RioFechado 0.74, DuroRiadoRio 0.22, Quebrado 0.04, RiadoRio 0.00, Mole 0.00, 3.9ms\n",
            "Speed: 1.3ms preprocess, 3.9ms inference, 0.0ms postprocess per image at shape (1, 3, 256, 256)\n",
            "\n",
            "image 1/1 /content/drive/MyDrive/TypeCoffee.v25i.folder/test/RioFechado/RioFechado3.jpg: 256x256 RioFechado 1.00, Quebrado 0.00, DuroRiadoRio 0.00, RiadoRio 0.00, Mole 0.00, 4.9ms\n",
            "Speed: 1.5ms preprocess, 4.9ms inference, 0.0ms postprocess per image at shape (1, 3, 256, 256)\n",
            "\n",
            "image 1/1 /content/drive/MyDrive/TypeCoffee.v25i.folder/test/RioFechado/RioFechado003.jpg: 256x256 RioFechado 0.95, DuroRiadoRio 0.03, Quebrado 0.02, RiadoRio 0.00, Mole 0.00, 4.3ms\n",
            "Speed: 1.3ms preprocess, 4.3ms inference, 0.0ms postprocess per image at shape (1, 3, 256, 256)\n",
            "\n",
            "image 1/1 /content/drive/MyDrive/TypeCoffee.v25i.folder/test/RioFechado/RioFechado2.jpg: 256x256 RioFechado 1.00, Quebrado 0.00, DuroRiadoRio 0.00, Mole 0.00, RiadoRio 0.00, 3.8ms\n",
            "Speed: 1.3ms preprocess, 3.8ms inference, 0.0ms postprocess per image at shape (1, 3, 256, 256)\n",
            "\n",
            "image 1/1 /content/drive/MyDrive/TypeCoffee.v25i.folder/test/RioFechado/RioFechado005.jpg: 256x256 RioFechado 0.99, Quebrado 0.01, DuroRiadoRio 0.00, RiadoRio 0.00, Mole 0.00, 3.9ms\n",
            "Speed: 1.3ms preprocess, 3.9ms inference, 0.0ms postprocess per image at shape (1, 3, 256, 256)\n",
            "\n",
            "image 1/1 /content/drive/MyDrive/TypeCoffee.v25i.folder/test/RioFechado/RioFechado007.jpg: 256x256 RioFechado 1.00, Quebrado 0.00, DuroRiadoRio 0.00, RiadoRio 0.00, Mole 0.00, 3.8ms\n",
            "Speed: 1.2ms preprocess, 3.8ms inference, 0.0ms postprocess per image at shape (1, 3, 256, 256)\n",
            "\n",
            "image 1/1 /content/drive/MyDrive/TypeCoffee.v25i.folder/test/DuroRiadoRio/02DuroRiadoRio_jpeg.rf.baf5aa7f846eb7e39932c0332a5948bb.jpg: 256x256 DuroRiadoRio 0.99, RiadoRio 0.00, RioFechado 0.00, Mole 0.00, Quebrado 0.00, 4.0ms\n",
            "Speed: 1.3ms preprocess, 4.0ms inference, 0.0ms postprocess per image at shape (1, 3, 256, 256)\n",
            "\n",
            "image 1/1 /content/drive/MyDrive/TypeCoffee.v25i.folder/test/DuroRiadoRio/05DuroRiadoRio_jpeg.rf.30ae7f3faea41f38312a0090d64f33e3.jpg: 256x256 DuroRiadoRio 1.00, RioFechado 0.00, RiadoRio 0.00, Quebrado 0.00, Mole 0.00, 3.9ms\n",
            "Speed: 1.3ms preprocess, 3.9ms inference, 0.0ms postprocess per image at shape (1, 3, 256, 256)\n",
            "\n",
            "image 1/1 /content/drive/MyDrive/TypeCoffee.v25i.folder/test/DuroRiadoRio/07DuroRiadoRio_jpeg.rf.4b36bb37069a8d9f969a3b119def876b.jpg: 256x256 DuroRiadoRio 1.00, RioFechado 0.00, RiadoRio 0.00, Quebrado 0.00, Mole 0.00, 3.8ms\n",
            "Speed: 1.2ms preprocess, 3.8ms inference, 0.0ms postprocess per image at shape (1, 3, 256, 256)\n",
            "\n",
            "image 1/1 /content/drive/MyDrive/TypeCoffee.v25i.folder/test/DuroRiadoRio/WhatsApp-Image-2024-09-06-at-11-41-11-3-_jpeg.rf.bf038f39c98884a7d438df1bd969d490.jpg: 256x256 DuroRiadoRio 1.00, RioFechado 0.00, Mole 0.00, RiadoRio 0.00, Quebrado 0.00, 4.8ms\n",
            "Speed: 1.5ms preprocess, 4.8ms inference, 0.0ms postprocess per image at shape (1, 3, 256, 256)\n",
            "\n",
            "image 1/1 /content/drive/MyDrive/TypeCoffee.v25i.folder/test/DuroRiadoRio/DuroRiadoRio008_jpeg.rf.75940b0f983945c67e908def6e2c5b03.jpg: 256x256 DuroRiadoRio 1.00, Mole 0.00, RioFechado 0.00, RiadoRio 0.00, Quebrado 0.00, 4.9ms\n",
            "Speed: 1.4ms preprocess, 4.9ms inference, 0.0ms postprocess per image at shape (1, 3, 256, 256)\n",
            "\n",
            "image 1/1 /content/drive/MyDrive/TypeCoffee.v25i.folder/test/DuroRiadoRio/04DuroRiadoRio_jpeg.rf.d3948d46f2e53aba0394990f281d7251.jpg: 256x256 DuroRiadoRio 1.00, RiadoRio 0.00, RioFechado 0.00, Mole 0.00, Quebrado 0.00, 3.9ms\n",
            "Speed: 1.2ms preprocess, 3.9ms inference, 0.0ms postprocess per image at shape (1, 3, 256, 256)\n",
            "\n",
            "image 1/1 /content/drive/MyDrive/TypeCoffee.v25i.folder/test/DuroRiadoRio/WhatsApp-Image-2024-09-06-at-11-41-08-1-_jpeg.rf.6b9b85763eb947aa24948983d5f031ab.jpg: 256x256 DuroRiadoRio 1.00, RiadoRio 0.00, RioFechado 0.00, Quebrado 0.00, Mole 0.00, 5.6ms\n",
            "Speed: 1.7ms preprocess, 5.6ms inference, 0.0ms postprocess per image at shape (1, 3, 256, 256)\n",
            "\n",
            "image 1/1 /content/drive/MyDrive/TypeCoffee.v25i.folder/test/DuroRiadoRio/11DuroRiadoRio_jpeg.rf.5434f63f8ca2e9fabb833aa06d9e8c60.jpg: 256x256 DuroRiadoRio 0.99, RioFechado 0.01, RiadoRio 0.00, Mole 0.00, Quebrado 0.00, 4.7ms\n",
            "Speed: 1.4ms preprocess, 4.7ms inference, 0.1ms postprocess per image at shape (1, 3, 256, 256)\n",
            "\n",
            "image 1/1 /content/drive/MyDrive/TypeCoffee.v25i.folder/test/DuroRiadoRio/Duro007.jpg: 256x256 DuroRiadoRio 1.00, RiadoRio 0.00, RioFechado 0.00, Quebrado 0.00, Mole 0.00, 6.2ms\n",
            "Speed: 1.8ms preprocess, 6.2ms inference, 0.0ms postprocess per image at shape (1, 3, 256, 256)\n",
            "\n",
            "image 1/1 /content/drive/MyDrive/TypeCoffee.v25i.folder/test/DuroRiadoRio/Duro008.jpg: 256x256 DuroRiadoRio 1.00, RioFechado 0.00, RiadoRio 0.00, Quebrado 0.00, Mole 0.00, 5.4ms\n",
            "Speed: 1.6ms preprocess, 5.4ms inference, 0.0ms postprocess per image at shape (1, 3, 256, 256)\n",
            "\n",
            "image 1/1 /content/drive/MyDrive/TypeCoffee.v25i.folder/test/DuroRiadoRio/Duro006.jpg: 256x256 DuroRiadoRio 1.00, RioFechado 0.00, RiadoRio 0.00, Quebrado 0.00, Mole 0.00, 3.9ms\n",
            "Speed: 1.4ms preprocess, 3.9ms inference, 0.0ms postprocess per image at shape (1, 3, 256, 256)\n",
            "\n",
            "image 1/1 /content/drive/MyDrive/TypeCoffee.v25i.folder/test/DuroRiadoRio/Duro009.jpg: 256x256 DuroRiadoRio 1.00, RioFechado 0.00, RiadoRio 0.00, Quebrado 0.00, Mole 0.00, 4.3ms\n",
            "Speed: 1.2ms preprocess, 4.3ms inference, 0.0ms postprocess per image at shape (1, 3, 256, 256)\n",
            "\n",
            "image 1/1 /content/drive/MyDrive/TypeCoffee.v25i.folder/test/DuroRiadoRio/Duro011.jpg: 256x256 DuroRiadoRio 1.00, RiadoRio 0.00, RioFechado 0.00, Quebrado 0.00, Mole 0.00, 6.0ms\n",
            "Speed: 1.6ms preprocess, 6.0ms inference, 0.1ms postprocess per image at shape (1, 3, 256, 256)\n",
            "\n",
            "image 1/1 /content/drive/MyDrive/TypeCoffee.v25i.folder/test/DuroRiadoRio/Duro010.jpg: 256x256 DuroRiadoRio 1.00, RioFechado 0.00, RiadoRio 0.00, Quebrado 0.00, Mole 0.00, 5.4ms\n",
            "Speed: 1.4ms preprocess, 5.4ms inference, 0.0ms postprocess per image at shape (1, 3, 256, 256)\n",
            "\n",
            "image 1/1 /content/drive/MyDrive/TypeCoffee.v25i.folder/test/DuroRiadoRio/Duro002.jpg: 256x256 DuroRiadoRio 0.99, RiadoRio 0.01, RioFechado 0.00, Mole 0.00, Quebrado 0.00, 4.2ms\n",
            "Speed: 1.3ms preprocess, 4.2ms inference, 0.0ms postprocess per image at shape (1, 3, 256, 256)\n",
            "\n",
            "image 1/1 /content/drive/MyDrive/TypeCoffee.v25i.folder/test/DuroRiadoRio/Duro001.jpg: 256x256 DuroRiadoRio 1.00, RiadoRio 0.00, RioFechado 0.00, Quebrado 0.00, Mole 0.00, 4.0ms\n",
            "Speed: 1.2ms preprocess, 4.0ms inference, 0.0ms postprocess per image at shape (1, 3, 256, 256)\n",
            "\n",
            "image 1/1 /content/drive/MyDrive/TypeCoffee.v25i.folder/test/DuroRiadoRio/Duro003.jpg: 256x256 DuroRiadoRio 1.00, RioFechado 0.00, RiadoRio 0.00, Mole 0.00, Quebrado 0.00, 4.4ms\n",
            "Speed: 1.2ms preprocess, 4.4ms inference, 0.0ms postprocess per image at shape (1, 3, 256, 256)\n",
            "\n",
            "image 1/1 /content/drive/MyDrive/TypeCoffee.v25i.folder/test/DuroRiadoRio/Duro004.jpg: 256x256 DuroRiadoRio 1.00, RiadoRio 0.00, RioFechado 0.00, Mole 0.00, Quebrado 0.00, 3.9ms\n",
            "Speed: 1.2ms preprocess, 3.9ms inference, 0.0ms postprocess per image at shape (1, 3, 256, 256)\n",
            "\n",
            "image 1/1 /content/drive/MyDrive/TypeCoffee.v25i.folder/test/DuroRiadoRio/Duro005.jpg: 256x256 DuroRiadoRio 1.00, RiadoRio 0.00, RioFechado 0.00, Quebrado 0.00, Mole 0.00, 4.9ms\n",
            "Speed: 1.5ms preprocess, 4.9ms inference, 0.0ms postprocess per image at shape (1, 3, 256, 256)\n",
            "Precisão: 0.923932\n",
            "Recall: 0.913876\n",
            "F1-Score: 0.911746\n",
            "acuracia: 0.910000\n"
          ]
        }
      ]
    },
    {
      "cell_type": "code",
      "source": [
        "import torch\n",
        "\n",
        "# Save the model's state dictionary\n",
        "torch.save(model.state_dict(), 'meu_modelo_yolov11s.pt')"
      ],
      "metadata": {
        "id": "S5PajKy4m1PJ"
      },
      "execution_count": 16,
      "outputs": []
    }
  ],
  "metadata": {
    "accelerator": "GPU",
    "colab": {
      "gpuType": "T4",
      "machine_shape": "hm",
      "provenance": []
    },
    "kernelspec": {
      "display_name": "Python 3",
      "name": "python3"
    },
    "language_info": {
      "name": "python"
    }
  },
  "nbformat": 4,
  "nbformat_minor": 0
}